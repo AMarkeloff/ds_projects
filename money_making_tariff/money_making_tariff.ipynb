{
 "cells": [
  {
   "cell_type": "markdown",
   "metadata": {
    "cellId": "z2biz5r4zunvooqmyax15"
   },
   "source": [
    "# Определение перспективного тарифа для мобильного оператора"
   ]
  },
  {
   "cell_type": "markdown",
   "metadata": {
    "cellId": "x9vreasz6f3lbw96smvom"
   },
   "source": [
    " **«Мегалайн»** — федеральный оператор сотовой связи. Клиентам предлагают два тарифных плана: **«Смарт»** и **«Ультра»**. Чтобы скорректировать рекламный бюджет, коммерческий департамент хочет понять, какой тариф приносит больше денег.\n",
    "\n",
    "Нам предстоит сделать предварительный анализ тарифов на *небольшой выборке клиентов*. В нашем распоряжении будут данные **500 пользователей** *«Мегалайна»*. Нужно проанализировать поведение клиентов и сделать вывод — какой тариф лучше.\n",
    "\n",
    "**Описание тарифов**\n",
    "\n",
    "|Параметр |Ед.изм.|Тариф \"Смарт\"|Тариф \"Ультра\"|\n",
    "|:-----|:----:|:----:|----:|\n",
    "|Ежемесячная плата |руб. |550 |1950|\n",
    "|Включено минут|мин.|500 |3000 |\n",
    "|Включено сообщений |шт.|50 |1000 |\n",
    "|Доступный по тарифу интернет-трафик |Гб|15 |30 |\n",
    "\n",
    "**Стоимость услуг сверх тарифного пакета:**\n",
    "\n",
    "|Параметр |Ед.изм.|Тариф \"Смарт\"|Тариф \"Ультра\"|\n",
    "|:-----|:----:|:----:|----:|\n",
    "|Минута разговора |руб. |3 |1 |\n",
    "|Сообщение|руб.|3 |1 |\n",
    "|1 Гб интернет-трафика |руб.|200 |150 |\n",
    "\n",
    "*Примечание*\n",
    "\n",
    "*«Мегалайн» **всегда округляет вверх значения минут и мегабайт**. Каждый звонок округляется отдельно: даже если он длился всего 1 секунду, будет засчитан как 1 минута.\n",
    "Для веб-трафика отдельные сессии не считаются. Вместо этого общая сумма за месяц округляется в бо́льшую сторону. Если абонент использует 1025 мегабайт в этом месяце, с него возьмут плату за 2 гигабайта.*\n",
    "\n",
    "Итак, наша **цель** - проанализировать поведение клиентов и определить какой тариф лучше, то есть какой приносит больше денег, чтобы коммерческий департамент смог скорректировать рекламный бюджет. \n",
    "\n",
    "Начнём с изучения данных из файлов."
   ]
  },
  {
   "cell_type": "markdown",
   "metadata": {
    "cellId": "gv4cap6s6hpva8rh28i0te"
   },
   "source": [
    "## Шаг. 1. Изучение данных из файлов"
   ]
  },
  {
   "cell_type": "markdown",
   "metadata": {
    "cellId": "nzr579rmmpn8o5dycsk899"
   },
   "source": [
    "В нашем распоряжении данные **500 пользователей** «Мегалайна»: \n",
    "- кто они, \n",
    "- откуда, \n",
    "- каким тарифом пользуются, \n",
    "- сколько каждым из них израсходовано звонков, сообщений и интернет-трафика за 2018 год."
   ]
  },
  {
   "cell_type": "markdown",
   "metadata": {
    "cellId": "w28524oqazjtl0y6085mhl"
   },
   "source": [
    "Для начала **импортируем библиотеки**, которые будем использовать в ходе исследования:\n",
    "- `pandas`\n",
    "- `numpy`\n",
    "- модуль `pyplot` библиотеки `matplotlib`\n",
    "- `seaborn`\n",
    "- модуль `stats` из библиотеки `scipy`"
   ]
  },
  {
   "cell_type": "code",
   "execution_count": 1,
   "metadata": {
    "cellId": "330nf354qim6zy4wolgwat"
   },
   "outputs": [],
   "source": [
    "# импорт библиотеки pandas\n",
    "import pandas as pd\n",
    "\n",
    "# импорт библиотеки numpy\n",
    "import numpy as np \n",
    "\n",
    "# импорт pyplot из библиотеки matplotlib\n",
    "import matplotlib.pyplot as plt\n",
    "\n",
    "# импорт библиотеки seaborn\n",
    "import seaborn as sns\n",
    "\n",
    "# импорт stats из библиотеки scipy\n",
    "from scipy import stats as st"
   ]
  },
  {
   "cell_type": "markdown",
   "metadata": {
    "cellId": "g8rasp04pak6ej8km4i3wo"
   },
   "source": [
    "**Прочитаем файлы**\n",
    "- `calls.csv`\n",
    "- `internet.csv`\n",
    "- `messages.csv`\n",
    "- `tariffs.csv`\n",
    "- `users.csv`\n",
    "\n",
    "из папки `/datasets`. \n",
    "\n",
    "Cохраним содержимое в переменных с соответвующим названием:"
   ]
  },
  {
   "cell_type": "code",
   "execution_count": 2,
   "metadata": {
    "cellId": "yl1cvobnwo7da8ddlrkqc"
   },
   "outputs": [],
   "source": [
    "# чтение файла с данными и сохранение в calls\n",
    "calls = pd.read_csv('/datasets/calls.csv')\n",
    "\n",
    "# чтение файла с данными и сохранение в internet\n",
    "internet = pd.read_csv('/datasets/internet.csv')\n",
    "\n",
    "# чтение файла с данными и сохранение в messages\n",
    "messages = pd.read_csv('/datasets/messages.csv')\n",
    "\n",
    "# чтение файла с данными и сохранение в tariffs\n",
    "tariffs = pd.read_csv('/datasets/tariffs.csv')\n",
    "\n",
    "# чтение файла с данными и сохранение в users\n",
    "users = pd.read_csv('/datasets/users.csv')"
   ]
  },
  {
   "cell_type": "markdown",
   "metadata": {
    "cellId": "jnl9iidiirsvjh32q5la"
   },
   "source": [
    "Для автоматизированного знакомства с данными зададим массив названий доступных нам датафреймов:"
   ]
  },
  {
   "cell_type": "code",
   "execution_count": 3,
   "metadata": {
    "cellId": "ryb418dmlndumfb62f1vt"
   },
   "outputs": [],
   "source": [
    "#массив названий таблиц для знакомства с данными\n",
    "array_1 = ['calls',\n",
    "          'internet',\n",
    "          'messages',\n",
    "          'tariffs',\n",
    "          'users']"
   ]
  },
  {
   "cell_type": "markdown",
   "metadata": {
    "cellId": "k92y8460mjx6goaeyde5d"
   },
   "source": [
    "Теперь с помощью цикла применем метод `info()` к каждой таблице и ознакомимся с результатами:"
   ]
  },
  {
   "cell_type": "code",
   "execution_count": 4,
   "metadata": {
    "cellId": "z4mdbx9jokndnaypdhgved"
   },
   "outputs": [
    {
     "name": "stdout",
     "output_type": "stream",
     "text": [
      "\u001b[94m\u001b[1mИнформация о таблице:  calls\u001b[0m\u001b[0m\n",
      "<class 'pandas.core.frame.DataFrame'>\n",
      "RangeIndex: 202607 entries, 0 to 202606\n",
      "Data columns (total 4 columns):\n",
      " #   Column     Non-Null Count   Dtype  \n",
      "---  ------     --------------   -----  \n",
      " 0   id         202607 non-null  object \n",
      " 1   call_date  202607 non-null  object \n",
      " 2   duration   202607 non-null  float64\n",
      " 3   user_id    202607 non-null  int64  \n",
      "dtypes: float64(1), int64(1), object(2)\n",
      "memory usage: 6.2+ MB\n",
      "\n",
      "\u001b[94m\u001b[1mИнформация о таблице:  internet\u001b[0m\u001b[0m\n",
      "<class 'pandas.core.frame.DataFrame'>\n",
      "RangeIndex: 149396 entries, 0 to 149395\n",
      "Data columns (total 5 columns):\n",
      " #   Column        Non-Null Count   Dtype  \n",
      "---  ------        --------------   -----  \n",
      " 0   Unnamed: 0    149396 non-null  int64  \n",
      " 1   id            149396 non-null  object \n",
      " 2   mb_used       149396 non-null  float64\n",
      " 3   session_date  149396 non-null  object \n",
      " 4   user_id       149396 non-null  int64  \n",
      "dtypes: float64(1), int64(2), object(2)\n",
      "memory usage: 5.7+ MB\n",
      "\n",
      "\u001b[94m\u001b[1mИнформация о таблице:  messages\u001b[0m\u001b[0m\n",
      "<class 'pandas.core.frame.DataFrame'>\n",
      "RangeIndex: 123036 entries, 0 to 123035\n",
      "Data columns (total 3 columns):\n",
      " #   Column        Non-Null Count   Dtype \n",
      "---  ------        --------------   ----- \n",
      " 0   id            123036 non-null  object\n",
      " 1   message_date  123036 non-null  object\n",
      " 2   user_id       123036 non-null  int64 \n",
      "dtypes: int64(1), object(2)\n",
      "memory usage: 2.8+ MB\n",
      "\n",
      "\u001b[94m\u001b[1mИнформация о таблице:  tariffs\u001b[0m\u001b[0m\n",
      "<class 'pandas.core.frame.DataFrame'>\n",
      "RangeIndex: 2 entries, 0 to 1\n",
      "Data columns (total 8 columns):\n",
      " #   Column                 Non-Null Count  Dtype \n",
      "---  ------                 --------------  ----- \n",
      " 0   messages_included      2 non-null      int64 \n",
      " 1   mb_per_month_included  2 non-null      int64 \n",
      " 2   minutes_included       2 non-null      int64 \n",
      " 3   rub_monthly_fee        2 non-null      int64 \n",
      " 4   rub_per_gb             2 non-null      int64 \n",
      " 5   rub_per_message        2 non-null      int64 \n",
      " 6   rub_per_minute         2 non-null      int64 \n",
      " 7   tariff_name            2 non-null      object\n",
      "dtypes: int64(7), object(1)\n",
      "memory usage: 256.0+ bytes\n",
      "\n",
      "\u001b[94m\u001b[1mИнформация о таблице:  users\u001b[0m\u001b[0m\n",
      "<class 'pandas.core.frame.DataFrame'>\n",
      "RangeIndex: 500 entries, 0 to 499\n",
      "Data columns (total 8 columns):\n",
      " #   Column      Non-Null Count  Dtype \n",
      "---  ------      --------------  ----- \n",
      " 0   user_id     500 non-null    int64 \n",
      " 1   age         500 non-null    int64 \n",
      " 2   churn_date  38 non-null     object\n",
      " 3   city        500 non-null    object\n",
      " 4   first_name  500 non-null    object\n",
      " 5   last_name   500 non-null    object\n",
      " 6   reg_date    500 non-null    object\n",
      " 7   tariff      500 non-null    object\n",
      "dtypes: int64(2), object(6)\n",
      "memory usage: 31.4+ KB\n",
      "\n"
     ]
    }
   ],
   "source": [
    "#цикл для вывода информации о таблицах\n",
    "for name in array_1:\n",
    "    print('\\033[94m'+'\\033[1m'+\n",
    "        'Информация о таблице: ', \n",
    "        name +'\\033[0m'+'\\033[0m')\n",
    "    locals()[name].info()\n",
    "    print()"
   ]
  },
  {
   "cell_type": "markdown",
   "metadata": {
    "cellId": "8i0c5kczr5704h9belj4g9p"
   },
   "source": [
    "Первый вывод - мало пропущенных значений в таблицах. Пропущенные значения только в столбце `churn_date`, из описания данных мы знаем, что если значение пропущено, то тариф ещё действовал на момент выгрузки данных. Следовательно, **есть информация о 38 клиентах, которые перестали пользоваться выбранным тарифом**.\n",
    "\n",
    "В таблице `internet` обнаружен столбец `Unnamed: 0`, которого нет в описании данных. Как будет показано далее - это лишний столбец, дублирующий нумерацию строк в таблице. От него предстоит избавиться.\n",
    "\n",
    "Проведём первичное знакомство с данными каждой таблицы с помощью цикла и метода `head()`:"
   ]
  },
  {
   "cell_type": "code",
   "execution_count": 5,
   "metadata": {
    "cellId": "1frlqzwqdmej5wbvpmwug"
   },
   "outputs": [
    {
     "name": "stdout",
     "output_type": "stream",
     "text": [
      "\u001b[94m\u001b[1mПервые строки таблицы:  calls\u001b[0m\u001b[0m\n"
     ]
    },
    {
     "data": {
      "text/html": [
       "<div>\n",
       "<style scoped>\n",
       "    .dataframe tbody tr th:only-of-type {\n",
       "        vertical-align: middle;\n",
       "    }\n",
       "\n",
       "    .dataframe tbody tr th {\n",
       "        vertical-align: top;\n",
       "    }\n",
       "\n",
       "    .dataframe thead th {\n",
       "        text-align: right;\n",
       "    }\n",
       "</style>\n",
       "<table border=\"1\" class=\"dataframe\">\n",
       "  <thead>\n",
       "    <tr style=\"text-align: right;\">\n",
       "      <th></th>\n",
       "      <th>id</th>\n",
       "      <th>call_date</th>\n",
       "      <th>duration</th>\n",
       "      <th>user_id</th>\n",
       "    </tr>\n",
       "  </thead>\n",
       "  <tbody>\n",
       "    <tr>\n",
       "      <th>0</th>\n",
       "      <td>1000_0</td>\n",
       "      <td>2018-07-25</td>\n",
       "      <td>0.00</td>\n",
       "      <td>1000</td>\n",
       "    </tr>\n",
       "    <tr>\n",
       "      <th>1</th>\n",
       "      <td>1000_1</td>\n",
       "      <td>2018-08-17</td>\n",
       "      <td>0.00</td>\n",
       "      <td>1000</td>\n",
       "    </tr>\n",
       "    <tr>\n",
       "      <th>2</th>\n",
       "      <td>1000_2</td>\n",
       "      <td>2018-06-11</td>\n",
       "      <td>2.85</td>\n",
       "      <td>1000</td>\n",
       "    </tr>\n",
       "    <tr>\n",
       "      <th>3</th>\n",
       "      <td>1000_3</td>\n",
       "      <td>2018-09-21</td>\n",
       "      <td>13.80</td>\n",
       "      <td>1000</td>\n",
       "    </tr>\n",
       "    <tr>\n",
       "      <th>4</th>\n",
       "      <td>1000_4</td>\n",
       "      <td>2018-12-15</td>\n",
       "      <td>5.18</td>\n",
       "      <td>1000</td>\n",
       "    </tr>\n",
       "  </tbody>\n",
       "</table>\n",
       "</div>"
      ],
      "text/plain": [
       "       id   call_date  duration  user_id\n",
       "0  1000_0  2018-07-25      0.00     1000\n",
       "1  1000_1  2018-08-17      0.00     1000\n",
       "2  1000_2  2018-06-11      2.85     1000\n",
       "3  1000_3  2018-09-21     13.80     1000\n",
       "4  1000_4  2018-12-15      5.18     1000"
      ]
     },
     "metadata": {},
     "output_type": "display_data"
    },
    {
     "name": "stdout",
     "output_type": "stream",
     "text": [
      "\n",
      "\u001b[94m\u001b[1mПервые строки таблицы:  internet\u001b[0m\u001b[0m\n"
     ]
    },
    {
     "data": {
      "text/html": [
       "<div>\n",
       "<style scoped>\n",
       "    .dataframe tbody tr th:only-of-type {\n",
       "        vertical-align: middle;\n",
       "    }\n",
       "\n",
       "    .dataframe tbody tr th {\n",
       "        vertical-align: top;\n",
       "    }\n",
       "\n",
       "    .dataframe thead th {\n",
       "        text-align: right;\n",
       "    }\n",
       "</style>\n",
       "<table border=\"1\" class=\"dataframe\">\n",
       "  <thead>\n",
       "    <tr style=\"text-align: right;\">\n",
       "      <th></th>\n",
       "      <th>Unnamed: 0</th>\n",
       "      <th>id</th>\n",
       "      <th>mb_used</th>\n",
       "      <th>session_date</th>\n",
       "      <th>user_id</th>\n",
       "    </tr>\n",
       "  </thead>\n",
       "  <tbody>\n",
       "    <tr>\n",
       "      <th>0</th>\n",
       "      <td>0</td>\n",
       "      <td>1000_0</td>\n",
       "      <td>112.95</td>\n",
       "      <td>2018-11-25</td>\n",
       "      <td>1000</td>\n",
       "    </tr>\n",
       "    <tr>\n",
       "      <th>1</th>\n",
       "      <td>1</td>\n",
       "      <td>1000_1</td>\n",
       "      <td>1052.81</td>\n",
       "      <td>2018-09-07</td>\n",
       "      <td>1000</td>\n",
       "    </tr>\n",
       "    <tr>\n",
       "      <th>2</th>\n",
       "      <td>2</td>\n",
       "      <td>1000_2</td>\n",
       "      <td>1197.26</td>\n",
       "      <td>2018-06-25</td>\n",
       "      <td>1000</td>\n",
       "    </tr>\n",
       "    <tr>\n",
       "      <th>3</th>\n",
       "      <td>3</td>\n",
       "      <td>1000_3</td>\n",
       "      <td>550.27</td>\n",
       "      <td>2018-08-22</td>\n",
       "      <td>1000</td>\n",
       "    </tr>\n",
       "    <tr>\n",
       "      <th>4</th>\n",
       "      <td>4</td>\n",
       "      <td>1000_4</td>\n",
       "      <td>302.56</td>\n",
       "      <td>2018-09-24</td>\n",
       "      <td>1000</td>\n",
       "    </tr>\n",
       "  </tbody>\n",
       "</table>\n",
       "</div>"
      ],
      "text/plain": [
       "   Unnamed: 0      id  mb_used session_date  user_id\n",
       "0           0  1000_0   112.95   2018-11-25     1000\n",
       "1           1  1000_1  1052.81   2018-09-07     1000\n",
       "2           2  1000_2  1197.26   2018-06-25     1000\n",
       "3           3  1000_3   550.27   2018-08-22     1000\n",
       "4           4  1000_4   302.56   2018-09-24     1000"
      ]
     },
     "metadata": {},
     "output_type": "display_data"
    },
    {
     "name": "stdout",
     "output_type": "stream",
     "text": [
      "\n",
      "\u001b[94m\u001b[1mПервые строки таблицы:  messages\u001b[0m\u001b[0m\n"
     ]
    },
    {
     "data": {
      "text/html": [
       "<div>\n",
       "<style scoped>\n",
       "    .dataframe tbody tr th:only-of-type {\n",
       "        vertical-align: middle;\n",
       "    }\n",
       "\n",
       "    .dataframe tbody tr th {\n",
       "        vertical-align: top;\n",
       "    }\n",
       "\n",
       "    .dataframe thead th {\n",
       "        text-align: right;\n",
       "    }\n",
       "</style>\n",
       "<table border=\"1\" class=\"dataframe\">\n",
       "  <thead>\n",
       "    <tr style=\"text-align: right;\">\n",
       "      <th></th>\n",
       "      <th>id</th>\n",
       "      <th>message_date</th>\n",
       "      <th>user_id</th>\n",
       "    </tr>\n",
       "  </thead>\n",
       "  <tbody>\n",
       "    <tr>\n",
       "      <th>0</th>\n",
       "      <td>1000_0</td>\n",
       "      <td>2018-06-27</td>\n",
       "      <td>1000</td>\n",
       "    </tr>\n",
       "    <tr>\n",
       "      <th>1</th>\n",
       "      <td>1000_1</td>\n",
       "      <td>2018-10-08</td>\n",
       "      <td>1000</td>\n",
       "    </tr>\n",
       "    <tr>\n",
       "      <th>2</th>\n",
       "      <td>1000_2</td>\n",
       "      <td>2018-08-04</td>\n",
       "      <td>1000</td>\n",
       "    </tr>\n",
       "    <tr>\n",
       "      <th>3</th>\n",
       "      <td>1000_3</td>\n",
       "      <td>2018-06-16</td>\n",
       "      <td>1000</td>\n",
       "    </tr>\n",
       "    <tr>\n",
       "      <th>4</th>\n",
       "      <td>1000_4</td>\n",
       "      <td>2018-12-05</td>\n",
       "      <td>1000</td>\n",
       "    </tr>\n",
       "  </tbody>\n",
       "</table>\n",
       "</div>"
      ],
      "text/plain": [
       "       id message_date  user_id\n",
       "0  1000_0   2018-06-27     1000\n",
       "1  1000_1   2018-10-08     1000\n",
       "2  1000_2   2018-08-04     1000\n",
       "3  1000_3   2018-06-16     1000\n",
       "4  1000_4   2018-12-05     1000"
      ]
     },
     "metadata": {},
     "output_type": "display_data"
    },
    {
     "name": "stdout",
     "output_type": "stream",
     "text": [
      "\n",
      "\u001b[94m\u001b[1mПервые строки таблицы:  tariffs\u001b[0m\u001b[0m\n"
     ]
    },
    {
     "data": {
      "text/html": [
       "<div>\n",
       "<style scoped>\n",
       "    .dataframe tbody tr th:only-of-type {\n",
       "        vertical-align: middle;\n",
       "    }\n",
       "\n",
       "    .dataframe tbody tr th {\n",
       "        vertical-align: top;\n",
       "    }\n",
       "\n",
       "    .dataframe thead th {\n",
       "        text-align: right;\n",
       "    }\n",
       "</style>\n",
       "<table border=\"1\" class=\"dataframe\">\n",
       "  <thead>\n",
       "    <tr style=\"text-align: right;\">\n",
       "      <th></th>\n",
       "      <th>messages_included</th>\n",
       "      <th>mb_per_month_included</th>\n",
       "      <th>minutes_included</th>\n",
       "      <th>rub_monthly_fee</th>\n",
       "      <th>rub_per_gb</th>\n",
       "      <th>rub_per_message</th>\n",
       "      <th>rub_per_minute</th>\n",
       "      <th>tariff_name</th>\n",
       "    </tr>\n",
       "  </thead>\n",
       "  <tbody>\n",
       "    <tr>\n",
       "      <th>0</th>\n",
       "      <td>50</td>\n",
       "      <td>15360</td>\n",
       "      <td>500</td>\n",
       "      <td>550</td>\n",
       "      <td>200</td>\n",
       "      <td>3</td>\n",
       "      <td>3</td>\n",
       "      <td>smart</td>\n",
       "    </tr>\n",
       "    <tr>\n",
       "      <th>1</th>\n",
       "      <td>1000</td>\n",
       "      <td>30720</td>\n",
       "      <td>3000</td>\n",
       "      <td>1950</td>\n",
       "      <td>150</td>\n",
       "      <td>1</td>\n",
       "      <td>1</td>\n",
       "      <td>ultra</td>\n",
       "    </tr>\n",
       "  </tbody>\n",
       "</table>\n",
       "</div>"
      ],
      "text/plain": [
       "   messages_included  mb_per_month_included  minutes_included  \\\n",
       "0                 50                  15360               500   \n",
       "1               1000                  30720              3000   \n",
       "\n",
       "   rub_monthly_fee  rub_per_gb  rub_per_message  rub_per_minute tariff_name  \n",
       "0              550         200                3               3       smart  \n",
       "1             1950         150                1               1       ultra  "
      ]
     },
     "metadata": {},
     "output_type": "display_data"
    },
    {
     "name": "stdout",
     "output_type": "stream",
     "text": [
      "\n",
      "\u001b[94m\u001b[1mПервые строки таблицы:  users\u001b[0m\u001b[0m\n"
     ]
    },
    {
     "data": {
      "text/html": [
       "<div>\n",
       "<style scoped>\n",
       "    .dataframe tbody tr th:only-of-type {\n",
       "        vertical-align: middle;\n",
       "    }\n",
       "\n",
       "    .dataframe tbody tr th {\n",
       "        vertical-align: top;\n",
       "    }\n",
       "\n",
       "    .dataframe thead th {\n",
       "        text-align: right;\n",
       "    }\n",
       "</style>\n",
       "<table border=\"1\" class=\"dataframe\">\n",
       "  <thead>\n",
       "    <tr style=\"text-align: right;\">\n",
       "      <th></th>\n",
       "      <th>user_id</th>\n",
       "      <th>age</th>\n",
       "      <th>churn_date</th>\n",
       "      <th>city</th>\n",
       "      <th>first_name</th>\n",
       "      <th>last_name</th>\n",
       "      <th>reg_date</th>\n",
       "      <th>tariff</th>\n",
       "    </tr>\n",
       "  </thead>\n",
       "  <tbody>\n",
       "    <tr>\n",
       "      <th>0</th>\n",
       "      <td>1000</td>\n",
       "      <td>52</td>\n",
       "      <td>NaN</td>\n",
       "      <td>Краснодар</td>\n",
       "      <td>Рафаил</td>\n",
       "      <td>Верещагин</td>\n",
       "      <td>2018-05-25</td>\n",
       "      <td>ultra</td>\n",
       "    </tr>\n",
       "    <tr>\n",
       "      <th>1</th>\n",
       "      <td>1001</td>\n",
       "      <td>41</td>\n",
       "      <td>NaN</td>\n",
       "      <td>Москва</td>\n",
       "      <td>Иван</td>\n",
       "      <td>Ежов</td>\n",
       "      <td>2018-11-01</td>\n",
       "      <td>smart</td>\n",
       "    </tr>\n",
       "    <tr>\n",
       "      <th>2</th>\n",
       "      <td>1002</td>\n",
       "      <td>59</td>\n",
       "      <td>NaN</td>\n",
       "      <td>Стерлитамак</td>\n",
       "      <td>Евгений</td>\n",
       "      <td>Абрамович</td>\n",
       "      <td>2018-06-17</td>\n",
       "      <td>smart</td>\n",
       "    </tr>\n",
       "    <tr>\n",
       "      <th>3</th>\n",
       "      <td>1003</td>\n",
       "      <td>23</td>\n",
       "      <td>NaN</td>\n",
       "      <td>Москва</td>\n",
       "      <td>Белла</td>\n",
       "      <td>Белякова</td>\n",
       "      <td>2018-08-17</td>\n",
       "      <td>ultra</td>\n",
       "    </tr>\n",
       "    <tr>\n",
       "      <th>4</th>\n",
       "      <td>1004</td>\n",
       "      <td>68</td>\n",
       "      <td>NaN</td>\n",
       "      <td>Новокузнецк</td>\n",
       "      <td>Татьяна</td>\n",
       "      <td>Авдеенко</td>\n",
       "      <td>2018-05-14</td>\n",
       "      <td>ultra</td>\n",
       "    </tr>\n",
       "  </tbody>\n",
       "</table>\n",
       "</div>"
      ],
      "text/plain": [
       "   user_id  age churn_date         city first_name  last_name    reg_date  \\\n",
       "0     1000   52        NaN    Краснодар     Рафаил  Верещагин  2018-05-25   \n",
       "1     1001   41        NaN       Москва       Иван       Ежов  2018-11-01   \n",
       "2     1002   59        NaN  Стерлитамак    Евгений  Абрамович  2018-06-17   \n",
       "3     1003   23        NaN       Москва      Белла   Белякова  2018-08-17   \n",
       "4     1004   68        NaN  Новокузнецк    Татьяна   Авдеенко  2018-05-14   \n",
       "\n",
       "  tariff  \n",
       "0  ultra  \n",
       "1  smart  \n",
       "2  smart  \n",
       "3  ultra  \n",
       "4  ultra  "
      ]
     },
     "metadata": {},
     "output_type": "display_data"
    },
    {
     "name": "stdout",
     "output_type": "stream",
     "text": [
      "\n"
     ]
    }
   ],
   "source": [
    "#цикл для вывода первых строк таблиц\n",
    "for name in array_1:\n",
    "    print('\\033[94m'+'\\033[1m'+'Первые строки таблицы: ', name +'\\033[0m'+'\\033[0m')\n",
    "    display(locals()[name].head())\n",
    "    print()"
   ]
  },
  {
   "cell_type": "markdown",
   "metadata": {
    "cellId": "eiqk0vblbzpw97m4h2bxd"
   },
   "source": [
    "**Таблица `users` (информация о пользователях)**, информация о **500** пользователях, 500 строк в таблице:\n",
    "- `user_id` — уникальный идентификатор пользователя\n",
    "- `first_name` — имя пользователя\n",
    "- `last_name` — фамилия пользователя\n",
    "- `age` — возраст пользователя (годы)\n",
    "- `reg_date` — дата подключения тарифа (день, месяц, год)\n",
    "- `churn_date` — дата прекращения пользования тарифом (если значение пропущено, то тариф ещё действовал на момент выгрузки данных)\n",
    "- `city` — город проживания пользователя\n",
    "- `tariff` — название тарифного плана"
   ]
  },
  {
   "cell_type": "markdown",
   "metadata": {
    "cellId": "vomv4d6wqebdnwq0dww1j"
   },
   "source": [
    "**Таблица `calls` (информация о звонках)**, строк в таблице **202 607** (и это всего 500 пользователей!):\n",
    "- `id` — уникальный номер звонка\n",
    "- `call_date` — дата звонка\n",
    "- `duration` — длительность звонка в минутах\n",
    "- `user_id` — идентификатор пользователя, сделавшего звонок"
   ]
  },
  {
   "cell_type": "markdown",
   "metadata": {
    "cellId": "9x863m5j39d7249asezf"
   },
   "source": [
    "**Таблица `messages` (информация о сообщениях)**, строк в таблице **123 036**, столбцы:\n",
    "- `id` — уникальный номер сообщения\n",
    "- `message_date` — дата сообщения\n",
    "- `user_id` — идентификатор пользователя, отправившего сообщение"
   ]
  },
  {
   "cell_type": "markdown",
   "metadata": {
    "cellId": "2zi7qblhsjos600uwo2jfq"
   },
   "source": [
    "**Таблица `internet` (информация об интернет-сессиях)**, строк в таблице **149 396**, столбцы:\n",
    "- `id` — уникальный номер сессии\n",
    "- `mb_used` — объём потраченного за сессию интернет-трафика (в мегабайтах)\n",
    "- `session_date` — дата интернет-сессии\n",
    "- `user_id` — идентификатор пользователя"
   ]
  },
  {
   "cell_type": "markdown",
   "metadata": {
    "cellId": "4cjpvd882xb5nt2o4opx3"
   },
   "source": [
    "**Таблица `tariffs` (информация о тарифах)**, **2 строки** в таблице с описанием условий тарифных планов:\n",
    "- `tariff_name` — название тарифа\n",
    "- `rub_monthly_fee` — ежемесячная абонентская плата в рублях\n",
    "- `minutes_included` — количество минут разговора в месяц, включённых в абонентскую плату\n",
    "- `messages_included` — количество сообщений в месяц, включённых в абонентскую плату\n",
    "- `mb_per_month_included` — объём интернет-трафика, включённого в абонентскую плату (в мегабайтах)\n",
    "- `rub_per_minute` — стоимость минуты разговора сверх тарифного пакета (например, если в тарифе 100 минут разговора в месяц, то со 101 минуты будет взиматься плата)\n",
    "- `rub_per_message` — стоимость отправки сообщения сверх тарифного пакета\n",
    "- `rub_per_gb` — стоимость дополнительного гигабайта интернет-трафика сверх тарифного пакета (1 гигабайт = 1024 мегабайта)"
   ]
  },
  {
   "cell_type": "markdown",
   "metadata": {
    "cellId": "o7s367nyfd8mt2ptroi4l"
   },
   "source": [
    "### Вывод"
   ]
  },
  {
   "cell_type": "markdown",
   "metadata": {
    "cellId": "mzgoy4d033s0e72kap64p0v"
   },
   "source": [
    "Имеются данные о 500 клиентах компании \"Мегалайн\".\n",
    "Данные представлены в 5 таблицах. \n",
    "\n",
    "Обнаружен лишний столбец в таблице `internet` с названием `Unnamed: 0`, которого нет в описании данных.\n",
    "\n",
    "Пропущенные значения только в 1 столбце `churn_date` таблицы `users`, которые означают, что тариф действовал на момент выгрузки информации по выборке. \n",
    "\n",
    "Потребуется изменить формат даты и времени в некоторых столбцах, потребуется правильно округлить длительность разговора до целых значений, остальные проблемы, если они есть, обнаружим при более детальном рассмотрении данных.\n",
    "\n",
    "В результате первого знакомства с данными предварительно можно утверждать, что **данных для исследования достаточно**."
   ]
  },
  {
   "cell_type": "markdown",
   "metadata": {
    "cellId": "j75vd7ca53hjajwni4vd"
   },
   "source": [
    "## Шаг 2. Подготовка данных"
   ]
  },
  {
   "cell_type": "markdown",
   "metadata": {
    "cellId": "ea2to8tu3wignnq45wtd"
   },
   "source": [
    "На стадии подготовки данных нам предстоит:\n",
    "- удалить лишний столбец\n",
    "- изменить названия столбцов\n",
    "- изменить тип данных"
   ]
  },
  {
   "cell_type": "markdown",
   "metadata": {
    "cellId": "77toeeg0p1bmk8ndd3sg3h"
   },
   "source": [
    "### Удаление лишнего столбца"
   ]
  },
  {
   "cell_type": "markdown",
   "metadata": {
    "cellId": "fjpy9njv4vhkb4e9ooft4"
   },
   "source": [
    "Удалим лишний столбец `Unnamed: 0`, дублирующий нумерацию строк, из таблицы `internet` с использованием метода `drop`:"
   ]
  },
  {
   "cell_type": "code",
   "execution_count": 6,
   "metadata": {
    "cellId": "hngm86dwfbp9mwzqksz1ak"
   },
   "outputs": [],
   "source": [
    "#удаляем лишний столбец из таблицы internet\n",
    "internet = internet.drop(['Unnamed: 0'], axis=1)"
   ]
  },
  {
   "cell_type": "markdown",
   "metadata": {
    "cellId": "rwh89qil7m22c0hyff6du"
   },
   "source": [
    "Проверим результат удаления по именам столбцов таблицы:"
   ]
  },
  {
   "cell_type": "code",
   "execution_count": 7,
   "metadata": {
    "cellId": "cffwg80w49j5g59pl0857w"
   },
   "outputs": [
    {
     "data": {
      "text/plain": [
       "Index(['id', 'mb_used', 'session_date', 'user_id'], dtype='object')"
      ]
     },
     "execution_count": 7,
     "metadata": {},
     "output_type": "execute_result"
    }
   ],
   "source": [
    "#выводим наименования столбцов таблицы \n",
    "internet.columns"
   ]
  },
  {
   "cell_type": "markdown",
   "metadata": {
    "cellId": "53snkekoe3wctcu4do8z9k"
   },
   "source": [
    "Отлично, теперь столбцы соответствуют документации к данным. \n",
    "\n",
    "Перейдём к изменению названий некоторых столбцов."
   ]
  },
  {
   "cell_type": "markdown",
   "metadata": {
    "cellId": "2rocgxv6ltcqol3gegknbk"
   },
   "source": [
    "### Изменение названий столбцов"
   ]
  },
  {
   "cell_type": "markdown",
   "metadata": {
    "cellId": "v9nbhbdqwkr3m9ux4i162"
   },
   "source": [
    "В трёх таблицах есть повторяющееся название столбца `id`. Изменим его для таблиц `messages`, `calls` и `internet`, чтобы конкретизировать к чему относится данный параметр."
   ]
  },
  {
   "cell_type": "markdown",
   "metadata": {
    "cellId": "nvza4h7g5krr1ffn3su6"
   },
   "source": [
    "Сделаем это с помощью массива названий таблиц:"
   ]
  },
  {
   "cell_type": "code",
   "execution_count": 8,
   "metadata": {
    "cellId": "rntr17xofgizqvr2cjv1"
   },
   "outputs": [],
   "source": [
    "#массив названий таблиц для переименования столбцов\n",
    "array_2 = ['calls',\n",
    "          'internet',\n",
    "          'messages']"
   ]
  },
  {
   "cell_type": "markdown",
   "metadata": {
    "cellId": "cd29gj5iqfrrzk5q3pj4el"
   },
   "source": [
    "И цикла с методом `rename()`, также в цикле будем выводить названия столбцов после их изменения, чтобы проверить результат:"
   ]
  },
  {
   "cell_type": "code",
   "execution_count": 9,
   "metadata": {
    "cellId": "s2v2nqb813m0me7mqnept8b"
   },
   "outputs": [
    {
     "name": "stdout",
     "output_type": "stream",
     "text": [
      "Index(['id_calls', 'call_date', 'duration', 'user_id'], dtype='object')\n",
      "Index(['id_internet', 'mb_used', 'session_date', 'user_id'], dtype='object')\n",
      "Index(['id_messages', 'message_date', 'user_id'], dtype='object')\n"
     ]
    }
   ],
   "source": [
    "#цикл для изменения названий столбцов\n",
    "for name in array_2:\n",
    "    locals()[name] = (locals()[name]\n",
    "                     .rename(columns={'id':('id_'+name)})\n",
    "                     )\n",
    "    #вывод новых названий для проверки успешности изменения названий\n",
    "    print(locals()[name].columns)"
   ]
  },
  {
   "cell_type": "markdown",
   "metadata": {
    "cellId": "83zvd8yfavgpma57l0s9ri"
   },
   "source": [
    "Из новых названий столбцов видно, что изменение выполнено успешно, новые названия: `id_calls`, `id_internet`, `id_messages`. \n",
    "\n",
    "Заменим также название столбца с тарифом `tariff` в таблице `users` на `tariff_name`. Это пригодится в дальнейшем при добавлении информации о тарифах в сводную таблицу:"
   ]
  },
  {
   "cell_type": "code",
   "execution_count": 10,
   "metadata": {
    "cellId": "3oa4zwwkdrnbzmujb79w5q"
   },
   "outputs": [],
   "source": [
    "#переименование столбца 'tariff'\n",
    "users = users.rename(columns={'tariff':'tariff_name'})"
   ]
  },
  {
   "cell_type": "markdown",
   "metadata": {
    "cellId": "3zqj9bg8xviuhr8bbzwqg"
   },
   "source": [
    "Приверим результат изменения названия:"
   ]
  },
  {
   "cell_type": "code",
   "execution_count": 11,
   "metadata": {
    "cellId": "3ppkw6yo638dss5vbuh6c4"
   },
   "outputs": [
    {
     "data": {
      "text/plain": [
       "Index(['user_id', 'age', 'churn_date', 'city', 'first_name', 'last_name',\n",
       "       'reg_date', 'tariff_name'],\n",
       "      dtype='object')"
      ]
     },
     "execution_count": 11,
     "metadata": {},
     "output_type": "execute_result"
    }
   ],
   "source": [
    "#вывод названий столбцов в таблице 'users'\n",
    "users.columns"
   ]
  },
  {
   "cell_type": "markdown",
   "metadata": {
    "cellId": "v34zcur1npp47tlz331t"
   },
   "source": [
    "Перейдём к изменению типов данных."
   ]
  },
  {
   "cell_type": "markdown",
   "metadata": {
    "cellId": "d5g6jnutalsgoxq0jm6c5"
   },
   "source": [
    "### Изменение типа `obj` на формат даты и времени"
   ]
  },
  {
   "cell_type": "markdown",
   "metadata": {
    "cellId": "5bdhbsrudawr1ac0panhl"
   },
   "source": [
    "Изменение типа `obj` на тип даты и времени потребуется в таблицах:\n",
    "- `users` (столбцы `reg_date` — дата подключения тарифа, `churn_date` —  дата прекращения пользования тарифом)\n",
    "- `calls` (столбец `call_date` — дата звонка)\n",
    "- `messages` (столбец `message_date`— дата сообщения)\n",
    "- `internet` (столбец `session_date`— дата интернет-сессии)"
   ]
  },
  {
   "cell_type": "markdown",
   "metadata": {
    "cellId": "vgd3h2urjxet8gvmb3f84"
   },
   "source": [
    "Создадим функцию для изменения типа данных с `obj` на формат даты и времени:"
   ]
  },
  {
   "cell_type": "code",
   "execution_count": 12,
   "metadata": {
    "cellId": "96wdrkh2157if2mnlgwigm"
   },
   "outputs": [],
   "source": [
    "#функция для изменения формата данных в столбце `column` таблицы `df`\n",
    "def obj_to_dt (column):\n",
    "    #используем метод `to_datetime`\n",
    "    column = pd.to_datetime(column,format='%Y-%m-%d')\n",
    "    return column"
   ]
  },
  {
   "cell_type": "markdown",
   "metadata": {
    "cellId": "608nptyml081w211nwpsvo"
   },
   "source": [
    "Начнем с таблицы `users`, выведем для начала несколько строк интересующих нас столбцов:"
   ]
  },
  {
   "cell_type": "code",
   "execution_count": 13,
   "metadata": {
    "cellId": "vuzy9luj0ehuzp70l98d7h"
   },
   "outputs": [
    {
     "data": {
      "text/html": [
       "<div>\n",
       "<style scoped>\n",
       "    .dataframe tbody tr th:only-of-type {\n",
       "        vertical-align: middle;\n",
       "    }\n",
       "\n",
       "    .dataframe tbody tr th {\n",
       "        vertical-align: top;\n",
       "    }\n",
       "\n",
       "    .dataframe thead th {\n",
       "        text-align: right;\n",
       "    }\n",
       "</style>\n",
       "<table border=\"1\" class=\"dataframe\">\n",
       "  <thead>\n",
       "    <tr style=\"text-align: right;\">\n",
       "      <th></th>\n",
       "      <th>reg_date</th>\n",
       "      <th>churn_date</th>\n",
       "    </tr>\n",
       "  </thead>\n",
       "  <tbody>\n",
       "    <tr>\n",
       "      <th>0</th>\n",
       "      <td>2018-05-25</td>\n",
       "      <td>NaN</td>\n",
       "    </tr>\n",
       "    <tr>\n",
       "      <th>1</th>\n",
       "      <td>2018-11-01</td>\n",
       "      <td>NaN</td>\n",
       "    </tr>\n",
       "    <tr>\n",
       "      <th>2</th>\n",
       "      <td>2018-06-17</td>\n",
       "      <td>NaN</td>\n",
       "    </tr>\n",
       "    <tr>\n",
       "      <th>3</th>\n",
       "      <td>2018-08-17</td>\n",
       "      <td>NaN</td>\n",
       "    </tr>\n",
       "    <tr>\n",
       "      <th>4</th>\n",
       "      <td>2018-05-14</td>\n",
       "      <td>NaN</td>\n",
       "    </tr>\n",
       "  </tbody>\n",
       "</table>\n",
       "</div>"
      ],
      "text/plain": [
       "     reg_date churn_date\n",
       "0  2018-05-25        NaN\n",
       "1  2018-11-01        NaN\n",
       "2  2018-06-17        NaN\n",
       "3  2018-08-17        NaN\n",
       "4  2018-05-14        NaN"
      ]
     },
     "execution_count": 13,
     "metadata": {},
     "output_type": "execute_result"
    }
   ],
   "source": [
    "#вывод первых строк столбцов 'reg_date', 'churn_date'\n",
    "#таблицы `users`\n",
    "users[['reg_date', 'churn_date']].head()"
   ]
  },
  {
   "cell_type": "markdown",
   "metadata": {
    "cellId": "d73uon2zusgakdp0oukkcv"
   },
   "source": [
    "Будем помнить о пропущенных значениях в столбце `churn_date`, но они **не помешают изменить тип данных**."
   ]
  },
  {
   "cell_type": "markdown",
   "metadata": {
    "cellId": "nopnubs6gisiye0ng8pcg"
   },
   "source": [
    "Заменим тип данных для столбцов `reg_date` и `churn_date` с помощью введённой функции:"
   ]
  },
  {
   "cell_type": "code",
   "execution_count": 14,
   "metadata": {
    "cellId": "d1zu81bf7c4v1moo4g9l1"
   },
   "outputs": [],
   "source": [
    "#изменение формата obj на формат  даты и времени в столбце 'churn_date' таблицы 'users'\n",
    "users['churn_date'] = obj_to_dt(users['churn_date'])\n",
    "\n",
    "#изменение формата obj на формат  даты и времени в столбце 'reg_date' таблицы 'users'\n",
    "users['reg_date'] = obj_to_dt(users['reg_date'])"
   ]
  },
  {
   "cell_type": "markdown",
   "metadata": {
    "cellId": "5um3p526z65o5s6y4cyp6o"
   },
   "source": [
    "Выведем общую информацию о таблице, чтобы убедиться в том, что формат данных изменён успешно:"
   ]
  },
  {
   "cell_type": "code",
   "execution_count": 15,
   "metadata": {
    "cellId": "x65udt1ijwdbmajs6vp4ph"
   },
   "outputs": [
    {
     "name": "stdout",
     "output_type": "stream",
     "text": [
      "<class 'pandas.core.frame.DataFrame'>\n",
      "RangeIndex: 500 entries, 0 to 499\n",
      "Data columns (total 8 columns):\n",
      " #   Column       Non-Null Count  Dtype         \n",
      "---  ------       --------------  -----         \n",
      " 0   user_id      500 non-null    int64         \n",
      " 1   age          500 non-null    int64         \n",
      " 2   churn_date   38 non-null     datetime64[ns]\n",
      " 3   city         500 non-null    object        \n",
      " 4   first_name   500 non-null    object        \n",
      " 5   last_name    500 non-null    object        \n",
      " 6   reg_date     500 non-null    datetime64[ns]\n",
      " 7   tariff_name  500 non-null    object        \n",
      "dtypes: datetime64[ns](2), int64(2), object(4)\n",
      "memory usage: 31.4+ KB\n"
     ]
    }
   ],
   "source": [
    "#общая информация о таблице `users`\n",
    "users.info()"
   ]
  },
  {
   "cell_type": "markdown",
   "metadata": {
    "cellId": "ogyex6rwiklzt315cyqhp"
   },
   "source": [
    "Теперь изменим тип данных в таблице `calls` в столбце `call_date`:"
   ]
  },
  {
   "cell_type": "code",
   "execution_count": 16,
   "metadata": {
    "cellId": "62ngjdgaf5mssxbcjnid5l"
   },
   "outputs": [],
   "source": [
    "#изменение формата obj на формат даты и времени\n",
    "calls['call_date'] = obj_to_dt(calls['call_date'])"
   ]
  },
  {
   "cell_type": "markdown",
   "metadata": {
    "cellId": "t1wrceu8k0iy1ea8od3sx"
   },
   "source": [
    "Проверим результат:"
   ]
  },
  {
   "cell_type": "code",
   "execution_count": 17,
   "metadata": {
    "cellId": "bm67puz979qy7eekyix3u"
   },
   "outputs": [
    {
     "name": "stdout",
     "output_type": "stream",
     "text": [
      "<class 'pandas.core.frame.DataFrame'>\n",
      "RangeIndex: 202607 entries, 0 to 202606\n",
      "Data columns (total 4 columns):\n",
      " #   Column     Non-Null Count   Dtype         \n",
      "---  ------     --------------   -----         \n",
      " 0   id_calls   202607 non-null  object        \n",
      " 1   call_date  202607 non-null  datetime64[ns]\n",
      " 2   duration   202607 non-null  float64       \n",
      " 3   user_id    202607 non-null  int64         \n",
      "dtypes: datetime64[ns](1), float64(1), int64(1), object(1)\n",
      "memory usage: 6.2+ MB\n"
     ]
    }
   ],
   "source": [
    "#общая информация о таблице `calls`\n",
    "calls.info()"
   ]
  },
  {
   "cell_type": "markdown",
   "metadata": {
    "cellId": "m647bgsp17e8dnxwtrruru"
   },
   "source": [
    "Осталось изменить тип данных в таблицах `messages` и `internet` в столбцах `message_date`и `session_date`, соответственно:"
   ]
  },
  {
   "cell_type": "code",
   "execution_count": 18,
   "metadata": {
    "cellId": "zr2w9rx7epgsipqyvfm1v"
   },
   "outputs": [],
   "source": [
    "#изменение формата obj на формат даты и времени\n",
    "messages['message_date'] = obj_to_dt(messages['message_date'])\n",
    "\n",
    "#изменение формата obj на формат даты и времени\n",
    "internet['session_date'] = obj_to_dt(internet['session_date'])"
   ]
  },
  {
   "cell_type": "markdown",
   "metadata": {
    "cellId": "1erh5l3vfmw8zoi8dgxqlm"
   },
   "source": [
    "Проверим результат изменения типа с помощью метода `info()`:"
   ]
  },
  {
   "cell_type": "code",
   "execution_count": 19,
   "metadata": {
    "cellId": "p1bfqau8bm9s6jldaf3pok"
   },
   "outputs": [
    {
     "name": "stdout",
     "output_type": "stream",
     "text": [
      "<class 'pandas.core.frame.DataFrame'>\n",
      "RangeIndex: 123036 entries, 0 to 123035\n",
      "Data columns (total 3 columns):\n",
      " #   Column        Non-Null Count   Dtype         \n",
      "---  ------        --------------   -----         \n",
      " 0   id_messages   123036 non-null  object        \n",
      " 1   message_date  123036 non-null  datetime64[ns]\n",
      " 2   user_id       123036 non-null  int64         \n",
      "dtypes: datetime64[ns](1), int64(1), object(1)\n",
      "memory usage: 2.8+ MB\n"
     ]
    }
   ],
   "source": [
    "#общая информация о таблице messages\n",
    "messages.info()"
   ]
  },
  {
   "cell_type": "code",
   "execution_count": 20,
   "metadata": {
    "cellId": "u81xxc3q95bzzons991fop"
   },
   "outputs": [
    {
     "name": "stdout",
     "output_type": "stream",
     "text": [
      "<class 'pandas.core.frame.DataFrame'>\n",
      "RangeIndex: 149396 entries, 0 to 149395\n",
      "Data columns (total 4 columns):\n",
      " #   Column        Non-Null Count   Dtype         \n",
      "---  ------        --------------   -----         \n",
      " 0   id_internet   149396 non-null  object        \n",
      " 1   mb_used       149396 non-null  float64       \n",
      " 2   session_date  149396 non-null  datetime64[ns]\n",
      " 3   user_id       149396 non-null  int64         \n",
      "dtypes: datetime64[ns](1), float64(1), int64(1), object(1)\n",
      "memory usage: 4.6+ MB\n"
     ]
    }
   ],
   "source": [
    "#общая информация о таблице internet\n",
    "internet.info()"
   ]
  },
  {
   "cell_type": "markdown",
   "metadata": {
    "cellId": "vrwg19tm1x1tx9zqc4ykk"
   },
   "source": [
    "Очевидно, что тип данных успешно изменён."
   ]
  },
  {
   "cell_type": "markdown",
   "metadata": {
    "cellId": "hawvi4g6lveltafooo4mco"
   },
   "source": [
    "### Округление продолжительности разговора и изменение типа данных"
   ]
  },
  {
   "cell_type": "markdown",
   "metadata": {
    "cellId": "tlgny5zp6xocrh1dnwo28"
   },
   "source": [
    "Продолжительность разговора в столбце `duration` таблицы `calls` согласно документации **задана в минутах**, выведем несколько строк:"
   ]
  },
  {
   "cell_type": "code",
   "execution_count": 21,
   "metadata": {
    "cellId": "82gqi1neccks22t44upr9"
   },
   "outputs": [
    {
     "data": {
      "text/plain": [
       "0     0.00\n",
       "1     0.00\n",
       "2     2.85\n",
       "3    13.80\n",
       "4     5.18\n",
       "5     0.00\n",
       "6     0.00\n",
       "7    18.31\n",
       "8    18.44\n",
       "9     0.00\n",
       "Name: duration, dtype: float64"
      ]
     },
     "execution_count": 21,
     "metadata": {},
     "output_type": "execute_result"
    }
   ],
   "source": [
    "#вывод нескольких строк столбца `durration` таблицы `calls`\n",
    "calls['duration'].head(10)"
   ]
  },
  {
   "cell_type": "markdown",
   "metadata": {
    "cellId": "ww4mdidl7uouv7erx9j1u"
   },
   "source": [
    "Из описания данных мы помним **важную информацию**: «Мегалайн» всегда округляет секунды до минут.\n",
    "\n",
    "**Каждый звонок округляется отдельно: даже если он длился всего 1 секунду, будет засчитан как 1 минута**.\n",
    "\n",
    "На стадии предобработки данных важно округлить значения в столбце `duration` в большую сторону до целочисленного значения **для каждого звонка**. Если мы этого не сделаем, то занизим количество минут, за которые абоненту придётся заплатить, а значит ошибёмся в значении выручки компании. \n",
    "\n",
    "Сделаем округление вверх с помощью метода `ceil()` из библиотеки `numpy`, также сразу заменим тип данных в столбце на целочисленный с использованием `astype()`, затем выведем несколько строк для проверки результата:"
   ]
  },
  {
   "cell_type": "code",
   "execution_count": 22,
   "metadata": {
    "cellId": "0hcd1j1voaemu68ci87k0km"
   },
   "outputs": [
    {
     "data": {
      "text/plain": [
       "0     0\n",
       "1     0\n",
       "2     3\n",
       "3    14\n",
       "4     6\n",
       "5     0\n",
       "6     0\n",
       "7    19\n",
       "8    19\n",
       "9     0\n",
       "Name: duration, dtype: int64"
      ]
     },
     "execution_count": 22,
     "metadata": {},
     "output_type": "execute_result"
    }
   ],
   "source": [
    "#округление продолжительности разговора в большую сторону и изменение типа данных на целочисленны\n",
    "calls['duration'] = np.ceil(calls['duration']).astype('int64')\n",
    "\n",
    "#вывод нескольких строк для проверки результата\n",
    "calls['duration'].head(10)"
   ]
  },
  {
   "cell_type": "markdown",
   "metadata": {
    "cellId": "gywoi96o53btoyqeyhvckn"
   },
   "source": [
    "Судя по всему, округление и изменение типа данных в столбце `duration` выполнено успешно. "
   ]
  },
  {
   "cell_type": "markdown",
   "metadata": {
    "cellId": "umq8uuwz7esewygby0k5j"
   },
   "source": [
    "Теперь немного подробнее ознакомимся с данными."
   ]
  },
  {
   "cell_type": "markdown",
   "metadata": {
    "cellId": "p4yhk57a6g0euggwq20p4"
   },
   "source": [
    "### Предварительное знакомство с данными"
   ]
  },
  {
   "cell_type": "markdown",
   "metadata": {
    "cellId": "b4pdyb4qa65gl9dfr6761t"
   },
   "source": [
    "Посмотрим по какому количеству абонентов есть данные в таблицах, содержащих столбец `user_id`:"
   ]
  },
  {
   "cell_type": "code",
   "execution_count": 23,
   "metadata": {
    "cellId": "fvnpxhq4l8uolohors7cyq"
   },
   "outputs": [
    {
     "name": "stdout",
     "output_type": "stream",
     "text": [
      "calls 492\n",
      "internet 497\n",
      "messages 426\n",
      "users 500\n"
     ]
    }
   ],
   "source": [
    "#выводим количество уникальных значений для столбца 'user_id' в 4 таблицах\n",
    "for name in array_1:\n",
    "    #исключаем таблицу 'tariffs', так как в ней нет столбца 'user_id'\n",
    "    if (name!='tariffs'):\n",
    "        print(name, len((locals()[name])['user_id'].unique()))"
   ]
  },
  {
   "cell_type": "markdown",
   "metadata": {
    "cellId": "820tw6vt6p74ub3uv6wsp"
   },
   "source": [
    "Количество абонентов в основной таблице `users` - 500. Но в других таблицах уникальных пользователей меньше, то есть информация о звонках, интернет-сессиях и сообщениях есть не по всем клиентам из таблицы `users`, либо некоторые клиенты не позуются каким-то услугами (интернетом, сообщениями, звонками). Тем не менее данных достаточно для исследования. Обнаруженный факт нужно будет учесть при объединении таблиц."
   ]
  },
  {
   "cell_type": "markdown",
   "metadata": {
    "cellId": "gixb294vee4csuranvt9dr"
   },
   "source": [
    "Посмотрим характеристику выборки возраста клиентов:"
   ]
  },
  {
   "cell_type": "code",
   "execution_count": 24,
   "metadata": {
    "cellId": "2nlbdq3xkb8zde3qglxgwc"
   },
   "outputs": [
    {
     "data": {
      "text/plain": [
       "count    500.00000\n",
       "mean      46.58800\n",
       "std       16.66763\n",
       "min       18.00000\n",
       "25%       32.00000\n",
       "50%       46.00000\n",
       "75%       62.00000\n",
       "max       75.00000\n",
       "Name: age, dtype: float64"
      ]
     },
     "execution_count": 24,
     "metadata": {},
     "output_type": "execute_result"
    }
   ],
   "source": [
    "#характеристика выборки столбца `age` таблицы `users`:\n",
    "users['age'].describe()"
   ]
  },
  {
   "cell_type": "markdown",
   "metadata": {
    "cellId": "dcjk3beeihi4as8jbengfd"
   },
   "source": [
    "Медиана и среднее значение очень близки, что свидетесльтвует о высоком качестве выборки и отсутствии выбросов."
   ]
  },
  {
   "cell_type": "markdown",
   "metadata": {
    "cellId": "vnj2l4p63naq2ld2qww8l"
   },
   "source": [
    "Выведем уникальные значения населённых пунктов, визуально проверим отсутствие неявных дубликатов:"
   ]
  },
  {
   "cell_type": "code",
   "execution_count": 25,
   "metadata": {
    "cellId": "l96sdnec5t1rdu6k4booi",
    "scrolled": false
   },
   "outputs": [
    {
     "name": "stdout",
     "output_type": "stream",
     "text": [
      "Количество уникальных значений: 76\n",
      "\n"
     ]
    },
    {
     "data": {
      "text/plain": [
       "['Архангельск',\n",
       " 'Астрахань',\n",
       " 'Балашиха',\n",
       " 'Барнаул',\n",
       " 'Белгород',\n",
       " 'Брянск',\n",
       " 'Владивосток',\n",
       " 'Владикавказ',\n",
       " 'Владимир',\n",
       " 'Волгоград',\n",
       " 'Волжский',\n",
       " 'Вологда',\n",
       " 'Воронеж',\n",
       " 'Грозный',\n",
       " 'Екатеринбург',\n",
       " 'Иваново',\n",
       " 'Ижевск',\n",
       " 'Иркутск',\n",
       " 'Казань',\n",
       " 'Калининград',\n",
       " 'Калуга',\n",
       " 'Кемерово',\n",
       " 'Киров',\n",
       " 'Кострома',\n",
       " 'Краснодар',\n",
       " 'Красноярск',\n",
       " 'Курган',\n",
       " 'Курск',\n",
       " 'Липецк',\n",
       " 'Магнитогорск',\n",
       " 'Махачкала',\n",
       " 'Москва',\n",
       " 'Мурманск',\n",
       " 'Набережные Челны',\n",
       " 'Нижневартовск',\n",
       " 'Нижний Новгород',\n",
       " 'Нижний Тагил',\n",
       " 'Новокузнецк',\n",
       " 'Новороссийск',\n",
       " 'Новосибирск',\n",
       " 'Омск',\n",
       " 'Оренбург',\n",
       " 'Орёл',\n",
       " 'Пенза',\n",
       " 'Пермь',\n",
       " 'Петрозаводск',\n",
       " 'Подольск',\n",
       " 'Ростов-на-Дону',\n",
       " 'Рязань',\n",
       " 'Самара',\n",
       " 'Санкт-Петербург',\n",
       " 'Саранск',\n",
       " 'Саратов',\n",
       " 'Севастополь',\n",
       " 'Смоленск',\n",
       " 'Сочи',\n",
       " 'Ставрополь',\n",
       " 'Стерлитамак',\n",
       " 'Сургут',\n",
       " 'Тамбов',\n",
       " 'Тверь',\n",
       " 'Тольятти',\n",
       " 'Томск',\n",
       " 'Тула',\n",
       " 'Тюмень',\n",
       " 'Улан-Удэ',\n",
       " 'Ульяновск',\n",
       " 'Уфа',\n",
       " 'Хабаровск',\n",
       " 'Химки',\n",
       " 'Чебоксары',\n",
       " 'Челябинск',\n",
       " 'Череповец',\n",
       " 'Чита',\n",
       " 'Якутск',\n",
       " 'Ярославль']"
      ]
     },
     "execution_count": 25,
     "metadata": {},
     "output_type": "execute_result"
    }
   ],
   "source": [
    "#вывод уникальных значений столбца 'city'\n",
    "print('Количество уникальных значений:', len(users['city'].unique()))\n",
    "print()\n",
    "\n",
    "#выведем уникальные названия городов в алфавитном порядке\n",
    "sorted(users['city'].unique())"
   ]
  },
  {
   "cell_type": "markdown",
   "metadata": {
    "cellId": "ku6b2u0fslf2530ekehee1j"
   },
   "source": [
    "76 городов Российской Федерации. Выборка позволяет выполнить проверку визуально. Судя по всему, все названия уникальны."
   ]
  },
  {
   "cell_type": "markdown",
   "metadata": {
    "cellId": "wx9xx0e8ktkx66srnpmdy8"
   },
   "source": [
    "Проверим нет ли случаев, в которых дата регистрации тарифа больше даты отключения тарифа, попадают ли какие-либо строки в данный срез:"
   ]
  },
  {
   "cell_type": "code",
   "execution_count": 26,
   "metadata": {
    "cellId": "jek2rnw53anmeyfdhkvsn"
   },
   "outputs": [
    {
     "data": {
      "text/plain": [
       "0"
      ]
     },
     "execution_count": 26,
     "metadata": {},
     "output_type": "execute_result"
    }
   ],
   "source": [
    "#количество строк, попадающих в срез по условию 'reg_date'>'churn_date'\n",
    "(\n",
    "    len(users\n",
    "    .loc[users['reg_date']>users['churn_date']]\n",
    "    ['reg_date']) \n",
    ")"
   ]
  },
  {
   "cell_type": "markdown",
   "metadata": {
    "cellId": "xex73dy8pn5id1wzv2fq3"
   },
   "source": [
    "Отсутствие элементов, нарушающих условие (*дата регистрации < даты отказа от тарифа*), демонстрирует хорошее качество исходных данных."
   ]
  },
  {
   "cell_type": "markdown",
   "metadata": {
    "cellId": "34h5uyq1jitutd0xo21t4"
   },
   "source": [
    "Также посмотрим какие значения принимает `id_calls` в таблице `calls`, как они связаны с датой и `user_id` выведем верхние строки таблицы:"
   ]
  },
  {
   "cell_type": "code",
   "execution_count": 27,
   "metadata": {
    "cellId": "csjvrdddkcfma45b95ltf"
   },
   "outputs": [
    {
     "data": {
      "text/html": [
       "<div>\n",
       "<style scoped>\n",
       "    .dataframe tbody tr th:only-of-type {\n",
       "        vertical-align: middle;\n",
       "    }\n",
       "\n",
       "    .dataframe tbody tr th {\n",
       "        vertical-align: top;\n",
       "    }\n",
       "\n",
       "    .dataframe thead th {\n",
       "        text-align: right;\n",
       "    }\n",
       "</style>\n",
       "<table border=\"1\" class=\"dataframe\">\n",
       "  <thead>\n",
       "    <tr style=\"text-align: right;\">\n",
       "      <th></th>\n",
       "      <th>id_calls</th>\n",
       "      <th>call_date</th>\n",
       "      <th>user_id</th>\n",
       "    </tr>\n",
       "  </thead>\n",
       "  <tbody>\n",
       "    <tr>\n",
       "      <th>0</th>\n",
       "      <td>1000_0</td>\n",
       "      <td>2018-07-25</td>\n",
       "      <td>1000</td>\n",
       "    </tr>\n",
       "    <tr>\n",
       "      <th>1</th>\n",
       "      <td>1000_1</td>\n",
       "      <td>2018-08-17</td>\n",
       "      <td>1000</td>\n",
       "    </tr>\n",
       "    <tr>\n",
       "      <th>2</th>\n",
       "      <td>1000_2</td>\n",
       "      <td>2018-06-11</td>\n",
       "      <td>1000</td>\n",
       "    </tr>\n",
       "    <tr>\n",
       "      <th>3</th>\n",
       "      <td>1000_3</td>\n",
       "      <td>2018-09-21</td>\n",
       "      <td>1000</td>\n",
       "    </tr>\n",
       "    <tr>\n",
       "      <th>4</th>\n",
       "      <td>1000_4</td>\n",
       "      <td>2018-12-15</td>\n",
       "      <td>1000</td>\n",
       "    </tr>\n",
       "    <tr>\n",
       "      <th>5</th>\n",
       "      <td>1000_5</td>\n",
       "      <td>2018-11-02</td>\n",
       "      <td>1000</td>\n",
       "    </tr>\n",
       "    <tr>\n",
       "      <th>6</th>\n",
       "      <td>1000_6</td>\n",
       "      <td>2018-10-18</td>\n",
       "      <td>1000</td>\n",
       "    </tr>\n",
       "    <tr>\n",
       "      <th>7</th>\n",
       "      <td>1000_7</td>\n",
       "      <td>2018-08-22</td>\n",
       "      <td>1000</td>\n",
       "    </tr>\n",
       "    <tr>\n",
       "      <th>8</th>\n",
       "      <td>1000_8</td>\n",
       "      <td>2018-09-15</td>\n",
       "      <td>1000</td>\n",
       "    </tr>\n",
       "    <tr>\n",
       "      <th>9</th>\n",
       "      <td>1000_9</td>\n",
       "      <td>2018-08-15</td>\n",
       "      <td>1000</td>\n",
       "    </tr>\n",
       "  </tbody>\n",
       "</table>\n",
       "</div>"
      ],
      "text/plain": [
       "  id_calls  call_date  user_id\n",
       "0   1000_0 2018-07-25     1000\n",
       "1   1000_1 2018-08-17     1000\n",
       "2   1000_2 2018-06-11     1000\n",
       "3   1000_3 2018-09-21     1000\n",
       "4   1000_4 2018-12-15     1000\n",
       "5   1000_5 2018-11-02     1000\n",
       "6   1000_6 2018-10-18     1000\n",
       "7   1000_7 2018-08-22     1000\n",
       "8   1000_8 2018-09-15     1000\n",
       "9   1000_9 2018-08-15     1000"
      ]
     },
     "execution_count": 27,
     "metadata": {},
     "output_type": "execute_result"
    }
   ],
   "source": [
    "#выводим первые строки таблицы calls для столбцов 'id_calls','call_date','user_id'\n",
    "calls[['id_calls','call_date','user_id']].head(10)"
   ]
  },
  {
   "cell_type": "markdown",
   "metadata": {
    "cellId": "50obne40ajdf960fbzio5l"
   },
   "source": [
    "И выведем последние 10 строк таблицы для этих же столбцов:"
   ]
  },
  {
   "cell_type": "code",
   "execution_count": 28,
   "metadata": {
    "cellId": "nlq3feqsfc7qmxke6nfa5"
   },
   "outputs": [
    {
     "data": {
      "text/html": [
       "<div>\n",
       "<style scoped>\n",
       "    .dataframe tbody tr th:only-of-type {\n",
       "        vertical-align: middle;\n",
       "    }\n",
       "\n",
       "    .dataframe tbody tr th {\n",
       "        vertical-align: top;\n",
       "    }\n",
       "\n",
       "    .dataframe thead th {\n",
       "        text-align: right;\n",
       "    }\n",
       "</style>\n",
       "<table border=\"1\" class=\"dataframe\">\n",
       "  <thead>\n",
       "    <tr style=\"text-align: right;\">\n",
       "      <th></th>\n",
       "      <th>id_calls</th>\n",
       "      <th>call_date</th>\n",
       "      <th>user_id</th>\n",
       "    </tr>\n",
       "  </thead>\n",
       "  <tbody>\n",
       "    <tr>\n",
       "      <th>202597</th>\n",
       "      <td>1499_210</td>\n",
       "      <td>2018-10-02</td>\n",
       "      <td>1499</td>\n",
       "    </tr>\n",
       "    <tr>\n",
       "      <th>202598</th>\n",
       "      <td>1499_211</td>\n",
       "      <td>2018-12-29</td>\n",
       "      <td>1499</td>\n",
       "    </tr>\n",
       "    <tr>\n",
       "      <th>202599</th>\n",
       "      <td>1499_212</td>\n",
       "      <td>2018-12-30</td>\n",
       "      <td>1499</td>\n",
       "    </tr>\n",
       "    <tr>\n",
       "      <th>202600</th>\n",
       "      <td>1499_213</td>\n",
       "      <td>2018-10-17</td>\n",
       "      <td>1499</td>\n",
       "    </tr>\n",
       "    <tr>\n",
       "      <th>202601</th>\n",
       "      <td>1499_214</td>\n",
       "      <td>2018-12-05</td>\n",
       "      <td>1499</td>\n",
       "    </tr>\n",
       "    <tr>\n",
       "      <th>202602</th>\n",
       "      <td>1499_215</td>\n",
       "      <td>2018-12-26</td>\n",
       "      <td>1499</td>\n",
       "    </tr>\n",
       "    <tr>\n",
       "      <th>202603</th>\n",
       "      <td>1499_216</td>\n",
       "      <td>2018-10-18</td>\n",
       "      <td>1499</td>\n",
       "    </tr>\n",
       "    <tr>\n",
       "      <th>202604</th>\n",
       "      <td>1499_217</td>\n",
       "      <td>2018-11-10</td>\n",
       "      <td>1499</td>\n",
       "    </tr>\n",
       "    <tr>\n",
       "      <th>202605</th>\n",
       "      <td>1499_218</td>\n",
       "      <td>2018-10-06</td>\n",
       "      <td>1499</td>\n",
       "    </tr>\n",
       "    <tr>\n",
       "      <th>202606</th>\n",
       "      <td>1499_219</td>\n",
       "      <td>2018-12-14</td>\n",
       "      <td>1499</td>\n",
       "    </tr>\n",
       "  </tbody>\n",
       "</table>\n",
       "</div>"
      ],
      "text/plain": [
       "        id_calls  call_date  user_id\n",
       "202597  1499_210 2018-10-02     1499\n",
       "202598  1499_211 2018-12-29     1499\n",
       "202599  1499_212 2018-12-30     1499\n",
       "202600  1499_213 2018-10-17     1499\n",
       "202601  1499_214 2018-12-05     1499\n",
       "202602  1499_215 2018-12-26     1499\n",
       "202603  1499_216 2018-10-18     1499\n",
       "202604  1499_217 2018-11-10     1499\n",
       "202605  1499_218 2018-10-06     1499\n",
       "202606  1499_219 2018-12-14     1499"
      ]
     },
     "execution_count": 28,
     "metadata": {},
     "output_type": "execute_result"
    }
   ],
   "source": [
    "#выводим последние строки таблицы calls для столбцов 'id_calls','call_date','user_id'\n",
    "calls[['id_calls','call_date','user_id']].tail(10)"
   ]
  },
  {
   "cell_type": "markdown",
   "metadata": {
    "cellId": "5rb1ovh27tatld7yuizsz8"
   },
   "source": [
    "Очевидно, что данные `id_calls` связаны со столбцом `user_id` - это первые 4 цифры до нижнего подчеркивания. Номер после нижнего подчеркивания не имеет отношения к дате, как видно из таблицы, номер увеличивается, а дата меняется случайным образом. Соответственно, номера в столбце `id_calls` получены в результате случайной выгрузки данных о клиентах. Аналогичная ситуация в столбцах `id_internet` и `id_messages` таблиц `internet` и `messages`.\n",
    "\n",
    "Перейдём к предварительным расчетам дополнительных параметров."
   ]
  },
  {
   "cell_type": "markdown",
   "metadata": {
    "cellId": "d6wq1jhtq2tsy6omudeuj"
   },
   "source": [
    "### Расчет дополнительных параметров для каждого пользователя"
   ]
  },
  {
   "cell_type": "markdown",
   "metadata": {
    "cellId": "xztia956nu4xdl0ndlx9i"
   },
   "source": [
    "**Посчитаем** для каждого пользователя:\n",
    "- количество сделанных звонков и израсходованных минут разговора по месяцам;\n",
    "- количество отправленных сообщений по месяцам;\n",
    "- объем израсходованного интернет-трафика по месяцам;\n",
    "- помесячную выручку с каждого пользователя."
   ]
  },
  {
   "cell_type": "markdown",
   "metadata": {
    "cellId": "m23uyyoiekncrg80sdiim"
   },
   "source": [
    "Нам предстоит анализировать информацию **по месяцам** 2018 года, поэтому создадим в таблицах `calls`, `messages` и `internet` отдельный столбец с номером месяца: `month`. \n",
    "\n",
    "Воспользуемся методом получения месяца из полной даты `dt.month`:"
   ]
  },
  {
   "cell_type": "code",
   "execution_count": 29,
   "metadata": {
    "cellId": "wfm939cwnvtxaoyzz3b9"
   },
   "outputs": [],
   "source": [
    "#создаём новый столбец 'month', в который сохраняем месяц, соответствующий дате в столбце 'call_date'\n",
    "calls['month'] = calls['call_date'].dt.month\n",
    "\n",
    "#аналогичная процедура для 'month' в таблице 'messages'\n",
    "messages['month'] = messages['message_date'].dt.month\n",
    "\n",
    "#аналогичная процедура для 'month' в таблице 'internet'\n",
    "internet['month'] = internet['session_date'].dt.month"
   ]
  },
  {
   "cell_type": "markdown",
   "metadata": {
    "cellId": "ncbjtomtkgsoae0prmf72"
   },
   "source": [
    "Проверим результат, выведем несколько строк одной из таблиц:"
   ]
  },
  {
   "cell_type": "code",
   "execution_count": 30,
   "metadata": {
    "cellId": "6zgn5bfzv4925dvew98gi"
   },
   "outputs": [
    {
     "data": {
      "text/html": [
       "<div>\n",
       "<style scoped>\n",
       "    .dataframe tbody tr th:only-of-type {\n",
       "        vertical-align: middle;\n",
       "    }\n",
       "\n",
       "    .dataframe tbody tr th {\n",
       "        vertical-align: top;\n",
       "    }\n",
       "\n",
       "    .dataframe thead th {\n",
       "        text-align: right;\n",
       "    }\n",
       "</style>\n",
       "<table border=\"1\" class=\"dataframe\">\n",
       "  <thead>\n",
       "    <tr style=\"text-align: right;\">\n",
       "      <th></th>\n",
       "      <th>call_date</th>\n",
       "      <th>month</th>\n",
       "    </tr>\n",
       "  </thead>\n",
       "  <tbody>\n",
       "    <tr>\n",
       "      <th>0</th>\n",
       "      <td>2018-07-25</td>\n",
       "      <td>7</td>\n",
       "    </tr>\n",
       "    <tr>\n",
       "      <th>1</th>\n",
       "      <td>2018-08-17</td>\n",
       "      <td>8</td>\n",
       "    </tr>\n",
       "    <tr>\n",
       "      <th>2</th>\n",
       "      <td>2018-06-11</td>\n",
       "      <td>6</td>\n",
       "    </tr>\n",
       "    <tr>\n",
       "      <th>3</th>\n",
       "      <td>2018-09-21</td>\n",
       "      <td>9</td>\n",
       "    </tr>\n",
       "    <tr>\n",
       "      <th>4</th>\n",
       "      <td>2018-12-15</td>\n",
       "      <td>12</td>\n",
       "    </tr>\n",
       "  </tbody>\n",
       "</table>\n",
       "</div>"
      ],
      "text/plain": [
       "   call_date  month\n",
       "0 2018-07-25      7\n",
       "1 2018-08-17      8\n",
       "2 2018-06-11      6\n",
       "3 2018-09-21      9\n",
       "4 2018-12-15     12"
      ]
     },
     "execution_count": 30,
     "metadata": {},
     "output_type": "execute_result"
    }
   ],
   "source": [
    "#первые строки таблицы 'calls' для столбцов 'call_month','call_date'\n",
    "calls[['call_date','month']].head()"
   ]
  },
  {
   "cell_type": "markdown",
   "metadata": {
    "cellId": "x4e7q6kyy37aypexxwgoi"
   },
   "source": [
    "Видим, что результаты корректны. Можно переходить к расчетам."
   ]
  },
  {
   "cell_type": "markdown",
   "metadata": {
    "cellId": "nrd5vr2u5x2c30n2lmj"
   },
   "source": [
    "#### Количество сделанных звонков и израсходованных минут разговора по месяцам"
   ]
  },
  {
   "cell_type": "markdown",
   "metadata": {
    "cellId": "008p0kv7srfyctehk667oq"
   },
   "source": [
    "Для расчета количества сделанных звонков и израсходованных минут воспользуемся методом `pivot_table`. \n",
    "\n",
    "Введём функцию создания сводных таблиц, чтобы сделать код более наглядным. \n",
    "\n",
    "Функция будет группировать данные по двум столбцам: `user_id`, `month`. \n",
    "В функцию будет передаваться:\n",
    "- таблица (`df`), \n",
    "- значения, по которым будут выполняться расчеты (`column_values`),\n",
    "- массив функций для вычисления (`array_of_operations`).\n",
    "\n",
    "После объединения таблиц вызовем `reset index` для удаления мультииндекса. \n",
    "\n",
    "Запишем функцию с именем `pivot_by_user_id_and_month`:"
   ]
  },
  {
   "cell_type": "code",
   "execution_count": 31,
   "metadata": {
    "cellId": "o5k333s1f7jvup6olfypmi"
   },
   "outputs": [],
   "source": [
    "def pivot_by_user_id_and_month(df, column_values, array_of_operations):\n",
    "    return (df\n",
    "            .pivot_table(index=['user_id', 'month'],   #сводная таблица по двум столбцам 'user_id', 'month'\n",
    "                         values=column_values,         #значения, для которых делаем вычисления\n",
    "                         aggfunc=array_of_operations)  #передаём массив функций: count, sum и пр.\n",
    "            .reset_index()                             #избавимся от мультииндекса\n",
    "           )"
   ]
  },
  {
   "cell_type": "markdown",
   "metadata": {
    "cellId": "ibcsc1i5656f899f71y9a"
   },
   "source": [
    "С помощью функции сделаем сводную таблицу по `user_id` и `month` в таблице `calls`. Для начала **учтём звонки с нулевой продолжительностью** в общем количестве звоноков абонента:"
   ]
  },
  {
   "cell_type": "code",
   "execution_count": 32,
   "metadata": {
    "cellId": "tq54p6qedjcbrz8g7yy8q4"
   },
   "outputs": [
    {
     "data": {
      "text/html": [
       "<div>\n",
       "<style scoped>\n",
       "    .dataframe tbody tr th:only-of-type {\n",
       "        vertical-align: middle;\n",
       "    }\n",
       "\n",
       "    .dataframe tbody tr th {\n",
       "        vertical-align: top;\n",
       "    }\n",
       "\n",
       "    .dataframe thead th {\n",
       "        text-align: right;\n",
       "    }\n",
       "</style>\n",
       "<table border=\"1\" class=\"dataframe\">\n",
       "  <thead>\n",
       "    <tr style=\"text-align: right;\">\n",
       "      <th></th>\n",
       "      <th>user_id</th>\n",
       "      <th>month</th>\n",
       "      <th>count_all_calls</th>\n",
       "      <th>month_call_minutes</th>\n",
       "    </tr>\n",
       "  </thead>\n",
       "  <tbody>\n",
       "    <tr>\n",
       "      <th>0</th>\n",
       "      <td>1000</td>\n",
       "      <td>5</td>\n",
       "      <td>22</td>\n",
       "      <td>159</td>\n",
       "    </tr>\n",
       "    <tr>\n",
       "      <th>1</th>\n",
       "      <td>1000</td>\n",
       "      <td>6</td>\n",
       "      <td>43</td>\n",
       "      <td>172</td>\n",
       "    </tr>\n",
       "    <tr>\n",
       "      <th>2</th>\n",
       "      <td>1000</td>\n",
       "      <td>7</td>\n",
       "      <td>47</td>\n",
       "      <td>340</td>\n",
       "    </tr>\n",
       "    <tr>\n",
       "      <th>3</th>\n",
       "      <td>1000</td>\n",
       "      <td>8</td>\n",
       "      <td>52</td>\n",
       "      <td>408</td>\n",
       "    </tr>\n",
       "    <tr>\n",
       "      <th>4</th>\n",
       "      <td>1000</td>\n",
       "      <td>9</td>\n",
       "      <td>58</td>\n",
       "      <td>466</td>\n",
       "    </tr>\n",
       "  </tbody>\n",
       "</table>\n",
       "</div>"
      ],
      "text/plain": [
       "   user_id  month  count_all_calls  month_call_minutes\n",
       "0     1000      5               22                 159\n",
       "1     1000      6               43                 172\n",
       "2     1000      7               47                 340\n",
       "3     1000      8               52                 408\n",
       "4     1000      9               58                 466"
      ]
     },
     "execution_count": 32,
     "metadata": {},
     "output_type": "execute_result"
    }
   ],
   "source": [
    "# сводная таблица по двум столбцам 'user_id', 'month'\n",
    "# учитываем все продолжительности звонка, включая нулевые\n",
    "calls_pivot = pivot_by_user_id_and_month(calls, 'duration', ['count', 'sum'])\n",
    "\n",
    "#изменяем названия столбцов для удобства\n",
    "calls_pivot.columns=['user_id', 'month', 'count_all_calls','month_call_minutes']\n",
    "\n",
    "#выводим первые строки сводной таблицы\n",
    "calls_pivot.head()"
   ]
  },
  {
   "cell_type": "markdown",
   "metadata": {
    "cellId": "f53j7x40ducym3185d4m6"
   },
   "source": [
    "Выведем размерность полученной сводной таблицы с помощью атрибута `shape`:"
   ]
  },
  {
   "cell_type": "code",
   "execution_count": 33,
   "metadata": {
    "cellId": "5pb2hajzjncil0ehv59vw"
   },
   "outputs": [
    {
     "data": {
      "text/plain": [
       "(3174, 4)"
      ]
     },
     "execution_count": 33,
     "metadata": {},
     "output_type": "execute_result"
    }
   ],
   "source": [
    "#узнаем количество строк и столбцов в сводной таблице\n",
    "calls_pivot.shape"
   ]
  },
  {
   "cell_type": "markdown",
   "metadata": {
    "cellId": "boaqfk1xfcdwoljgk2c1bf"
   },
   "source": [
    "Сделаем сводную таблицу для **ненулевых звонков** абонентов, то есть для состоявшихся звонков:"
   ]
  },
  {
   "cell_type": "code",
   "execution_count": 34,
   "metadata": {
    "cellId": "xx9229dr3rlf6i7iw8hj8m"
   },
   "outputs": [
    {
     "data": {
      "text/html": [
       "<div>\n",
       "<style scoped>\n",
       "    .dataframe tbody tr th:only-of-type {\n",
       "        vertical-align: middle;\n",
       "    }\n",
       "\n",
       "    .dataframe tbody tr th {\n",
       "        vertical-align: top;\n",
       "    }\n",
       "\n",
       "    .dataframe thead th {\n",
       "        text-align: right;\n",
       "    }\n",
       "</style>\n",
       "<table border=\"1\" class=\"dataframe\">\n",
       "  <thead>\n",
       "    <tr style=\"text-align: right;\">\n",
       "      <th></th>\n",
       "      <th>user_id</th>\n",
       "      <th>month</th>\n",
       "      <th>count_non_null_calls</th>\n",
       "    </tr>\n",
       "  </thead>\n",
       "  <tbody>\n",
       "    <tr>\n",
       "      <th>0</th>\n",
       "      <td>1000</td>\n",
       "      <td>5</td>\n",
       "      <td>17</td>\n",
       "    </tr>\n",
       "    <tr>\n",
       "      <th>1</th>\n",
       "      <td>1000</td>\n",
       "      <td>6</td>\n",
       "      <td>28</td>\n",
       "    </tr>\n",
       "    <tr>\n",
       "      <th>2</th>\n",
       "      <td>1000</td>\n",
       "      <td>7</td>\n",
       "      <td>41</td>\n",
       "    </tr>\n",
       "    <tr>\n",
       "      <th>3</th>\n",
       "      <td>1000</td>\n",
       "      <td>8</td>\n",
       "      <td>42</td>\n",
       "    </tr>\n",
       "    <tr>\n",
       "      <th>4</th>\n",
       "      <td>1000</td>\n",
       "      <td>9</td>\n",
       "      <td>46</td>\n",
       "    </tr>\n",
       "  </tbody>\n",
       "</table>\n",
       "</div>"
      ],
      "text/plain": [
       "   user_id  month  count_non_null_calls\n",
       "0     1000      5                    17\n",
       "1     1000      6                    28\n",
       "2     1000      7                    41\n",
       "3     1000      8                    42\n",
       "4     1000      9                    46"
      ]
     },
     "execution_count": 34,
     "metadata": {},
     "output_type": "execute_result"
    }
   ],
   "source": [
    "# сводная таблица по двум столбцам 'user_id', 'month'\n",
    "# учитываем только ненулевую продолжительность\n",
    "non_null_calls_pivot = (pivot_by_user_id_and_month(calls[calls['duration']>0], 'duration', ['count']))\n",
    "\n",
    "#изменяем названия столбцов для удобства\n",
    "non_null_calls_pivot.columns = ['user_id', 'month', 'count_non_null_calls']\n",
    "\n",
    "#выводим первые строки сводной таблицы\n",
    "non_null_calls_pivot.head()"
   ]
  },
  {
   "cell_type": "markdown",
   "metadata": {
    "cellId": "mptl0hbg61f13htljnp"
   },
   "source": [
    "По первым строкам двух полученных сводных таблиц видно, что количество ненулевых звонков меньше, чем общее количество звонков.\n",
    "\n",
    "Выведем размерность полученной сводной таблицы с помощью атрибута `shape`:"
   ]
  },
  {
   "cell_type": "code",
   "execution_count": 35,
   "metadata": {
    "cellId": "3he989a76jcfcgqnl96m7"
   },
   "outputs": [
    {
     "data": {
      "text/plain": [
       "(3168, 3)"
      ]
     },
     "execution_count": 35,
     "metadata": {},
     "output_type": "execute_result"
    }
   ],
   "source": [
    "#узнаем количество строк и столбцов в сводной таблице\n",
    "non_null_calls_pivot.shape"
   ]
  },
  {
   "cell_type": "markdown",
   "metadata": {
    "cellId": "jwyqlt6yfznxvo5eolgujq"
   },
   "source": [
    "Также отличается размерность таблицы, значит есть клиенты, которые не разговаривали по телефону в течение некоторых месяцев."
   ]
  },
  {
   "cell_type": "markdown",
   "metadata": {
    "cellId": "ijy2lyovx3lbtvx3a0jlij"
   },
   "source": [
    "Объединим таблицы `calls_pivot` и `non_null_calls_pivot` с помощью метода `merge()`. Тип слияния - внешний (`outer`), чтобы сохранить все строки в двух таблицах.\n",
    "\n",
    "Цель - сохранить и общее количество звонков, и ненулевых:"
   ]
  },
  {
   "cell_type": "code",
   "execution_count": 36,
   "metadata": {
    "cellId": "4awgcu8uoaiif6vzpjhf3f"
   },
   "outputs": [
    {
     "name": "stdout",
     "output_type": "stream",
     "text": [
      "Размерность сводной таблицы после добавления столбца: (3174, 5)\n",
      "\n"
     ]
    },
    {
     "data": {
      "text/html": [
       "<div>\n",
       "<style scoped>\n",
       "    .dataframe tbody tr th:only-of-type {\n",
       "        vertical-align: middle;\n",
       "    }\n",
       "\n",
       "    .dataframe tbody tr th {\n",
       "        vertical-align: top;\n",
       "    }\n",
       "\n",
       "    .dataframe thead th {\n",
       "        text-align: right;\n",
       "    }\n",
       "</style>\n",
       "<table border=\"1\" class=\"dataframe\">\n",
       "  <thead>\n",
       "    <tr style=\"text-align: right;\">\n",
       "      <th></th>\n",
       "      <th>user_id</th>\n",
       "      <th>month</th>\n",
       "      <th>count_all_calls</th>\n",
       "      <th>month_call_minutes</th>\n",
       "      <th>count_non_null_calls</th>\n",
       "    </tr>\n",
       "  </thead>\n",
       "  <tbody>\n",
       "    <tr>\n",
       "      <th>0</th>\n",
       "      <td>1000</td>\n",
       "      <td>5</td>\n",
       "      <td>22</td>\n",
       "      <td>159</td>\n",
       "      <td>17.0</td>\n",
       "    </tr>\n",
       "    <tr>\n",
       "      <th>1</th>\n",
       "      <td>1000</td>\n",
       "      <td>6</td>\n",
       "      <td>43</td>\n",
       "      <td>172</td>\n",
       "      <td>28.0</td>\n",
       "    </tr>\n",
       "    <tr>\n",
       "      <th>2</th>\n",
       "      <td>1000</td>\n",
       "      <td>7</td>\n",
       "      <td>47</td>\n",
       "      <td>340</td>\n",
       "      <td>41.0</td>\n",
       "    </tr>\n",
       "    <tr>\n",
       "      <th>3</th>\n",
       "      <td>1000</td>\n",
       "      <td>8</td>\n",
       "      <td>52</td>\n",
       "      <td>408</td>\n",
       "      <td>42.0</td>\n",
       "    </tr>\n",
       "    <tr>\n",
       "      <th>4</th>\n",
       "      <td>1000</td>\n",
       "      <td>9</td>\n",
       "      <td>58</td>\n",
       "      <td>466</td>\n",
       "      <td>46.0</td>\n",
       "    </tr>\n",
       "  </tbody>\n",
       "</table>\n",
       "</div>"
      ],
      "text/plain": [
       "   user_id  month  count_all_calls  month_call_minutes  count_non_null_calls\n",
       "0     1000      5               22                 159                  17.0\n",
       "1     1000      6               43                 172                  28.0\n",
       "2     1000      7               47                 340                  41.0\n",
       "3     1000      8               52                 408                  42.0\n",
       "4     1000      9               58                 466                  46.0"
      ]
     },
     "execution_count": 36,
     "metadata": {},
     "output_type": "execute_result"
    }
   ],
   "source": [
    "#добавляем столбец 'count_non_null_calls' в таблицу 'calls_pivot' с помощью объединения таблиц\n",
    "#методом merge() по столбцам ['user_id','month']\n",
    "calls_pivot = calls_pivot.merge(non_null_calls_pivot, on=['user_id','month'], how='outer')\n",
    "\n",
    "#выведем размерность таблицы после слияния\n",
    "print('Размерность сводной таблицы после добавления столбца:', calls_pivot.shape)\n",
    "print()\n",
    "\n",
    "#выведем первые строки таблицы\n",
    "calls_pivot.head()"
   ]
  },
  {
   "cell_type": "markdown",
   "metadata": {
    "cellId": "suu66wvhx0kpnyuc71g9ja"
   },
   "source": [
    "Первые строки таблицы и её размер показывают, что слияние произошло успешно. Выведем информацию о таблице:"
   ]
  },
  {
   "cell_type": "code",
   "execution_count": 37,
   "metadata": {
    "cellId": "b46gc3vxrnan9dtca01k5"
   },
   "outputs": [
    {
     "name": "stdout",
     "output_type": "stream",
     "text": [
      "<class 'pandas.core.frame.DataFrame'>\n",
      "Int64Index: 3174 entries, 0 to 3173\n",
      "Data columns (total 5 columns):\n",
      " #   Column                Non-Null Count  Dtype  \n",
      "---  ------                --------------  -----  \n",
      " 0   user_id               3174 non-null   int64  \n",
      " 1   month                 3174 non-null   int64  \n",
      " 2   count_all_calls       3174 non-null   int64  \n",
      " 3   month_call_minutes    3174 non-null   int64  \n",
      " 4   count_non_null_calls  3168 non-null   float64\n",
      "dtypes: float64(1), int64(4)\n",
      "memory usage: 148.8 KB\n"
     ]
    }
   ],
   "source": [
    "#выведем общую информацию о таблице\n",
    "calls_pivot.info()"
   ]
  },
  {
   "cell_type": "markdown",
   "metadata": {
    "cellId": "8opdvvkccmvw2kisz5g9cm"
   },
   "source": [
    "В столбце `count_non_null_calls` появились пропущенные значения, выведем их на экран:"
   ]
  },
  {
   "cell_type": "code",
   "execution_count": 38,
   "metadata": {
    "cellId": "ysgkvszuqrmvc2qax35do"
   },
   "outputs": [
    {
     "data": {
      "text/html": [
       "<div>\n",
       "<style scoped>\n",
       "    .dataframe tbody tr th:only-of-type {\n",
       "        vertical-align: middle;\n",
       "    }\n",
       "\n",
       "    .dataframe tbody tr th {\n",
       "        vertical-align: top;\n",
       "    }\n",
       "\n",
       "    .dataframe thead th {\n",
       "        text-align: right;\n",
       "    }\n",
       "</style>\n",
       "<table border=\"1\" class=\"dataframe\">\n",
       "  <thead>\n",
       "    <tr style=\"text-align: right;\">\n",
       "      <th></th>\n",
       "      <th>user_id</th>\n",
       "      <th>month</th>\n",
       "      <th>count_all_calls</th>\n",
       "      <th>month_call_minutes</th>\n",
       "      <th>count_non_null_calls</th>\n",
       "    </tr>\n",
       "  </thead>\n",
       "  <tbody>\n",
       "    <tr>\n",
       "      <th>1493</th>\n",
       "      <td>1240</td>\n",
       "      <td>2</td>\n",
       "      <td>2</td>\n",
       "      <td>0</td>\n",
       "      <td>NaN</td>\n",
       "    </tr>\n",
       "    <tr>\n",
       "      <th>1605</th>\n",
       "      <td>1257</td>\n",
       "      <td>7</td>\n",
       "      <td>1</td>\n",
       "      <td>0</td>\n",
       "      <td>NaN</td>\n",
       "    </tr>\n",
       "    <tr>\n",
       "      <th>1606</th>\n",
       "      <td>1257</td>\n",
       "      <td>8</td>\n",
       "      <td>2</td>\n",
       "      <td>0</td>\n",
       "      <td>NaN</td>\n",
       "    </tr>\n",
       "    <tr>\n",
       "      <th>1607</th>\n",
       "      <td>1257</td>\n",
       "      <td>9</td>\n",
       "      <td>1</td>\n",
       "      <td>0</td>\n",
       "      <td>NaN</td>\n",
       "    </tr>\n",
       "    <tr>\n",
       "      <th>2318</th>\n",
       "      <td>1373</td>\n",
       "      <td>1</td>\n",
       "      <td>2</td>\n",
       "      <td>0</td>\n",
       "      <td>NaN</td>\n",
       "    </tr>\n",
       "    <tr>\n",
       "      <th>2321</th>\n",
       "      <td>1373</td>\n",
       "      <td>4</td>\n",
       "      <td>1</td>\n",
       "      <td>0</td>\n",
       "      <td>NaN</td>\n",
       "    </tr>\n",
       "  </tbody>\n",
       "</table>\n",
       "</div>"
      ],
      "text/plain": [
       "      user_id  month  count_all_calls  month_call_minutes  \\\n",
       "1493     1240      2                2                   0   \n",
       "1605     1257      7                1                   0   \n",
       "1606     1257      8                2                   0   \n",
       "1607     1257      9                1                   0   \n",
       "2318     1373      1                2                   0   \n",
       "2321     1373      4                1                   0   \n",
       "\n",
       "      count_non_null_calls  \n",
       "1493                   NaN  \n",
       "1605                   NaN  \n",
       "1606                   NaN  \n",
       "1607                   NaN  \n",
       "2318                   NaN  \n",
       "2321                   NaN  "
      ]
     },
     "execution_count": 38,
     "metadata": {},
     "output_type": "execute_result"
    }
   ],
   "source": [
    "#вывод строк с пропусками в столбце `count_non_null_calls`\n",
    "calls_pivot[calls_pivot['count_non_null_calls'].isna()==True]"
   ]
  },
  {
   "cell_type": "markdown",
   "metadata": {
    "cellId": "a02r3725lgommesoks8hd"
   },
   "source": [
    "3 абонента (1240, 1257, 1373) не разговаривали по телефону от 1 до 3 месяцев, всё сходится. Заполним пропуски в столбце `count_non_null_calls` с помощью метода `fillna()` на значение `0`, что означает отсутсвие звонков с ненулевой продолжительностью, заменим тип данных на целочисленный, для проверки выведем информацию о таблице:"
   ]
  },
  {
   "cell_type": "code",
   "execution_count": 39,
   "metadata": {
    "cellId": "gx8mh0ad5yp9vxhv6pz6r"
   },
   "outputs": [
    {
     "name": "stdout",
     "output_type": "stream",
     "text": [
      "<class 'pandas.core.frame.DataFrame'>\n",
      "Int64Index: 3174 entries, 0 to 3173\n",
      "Data columns (total 5 columns):\n",
      " #   Column                Non-Null Count  Dtype\n",
      "---  ------                --------------  -----\n",
      " 0   user_id               3174 non-null   int64\n",
      " 1   month                 3174 non-null   int64\n",
      " 2   count_all_calls       3174 non-null   int64\n",
      " 3   month_call_minutes    3174 non-null   int64\n",
      " 4   count_non_null_calls  3174 non-null   int64\n",
      "dtypes: int64(5)\n",
      "memory usage: 148.8 KB\n"
     ]
    }
   ],
   "source": [
    "#заменяем пропуски в столбце 'count_non_null_calls' на 0\n",
    "calls_pivot['count_non_null_calls'] = calls_pivot['count_non_null_calls'].fillna(0)\n",
    "\n",
    "#изменяем тип данных в столбце 'count_non_null_calls'\n",
    "calls_pivot['count_non_null_calls'] = calls_pivot['count_non_null_calls'].astype('int64')\n",
    "\n",
    "#вывод общей информации о таблице\n",
    "calls_pivot.info()"
   ]
  },
  {
   "cell_type": "markdown",
   "metadata": {
    "cellId": "lwv9783i3phx6hv4twd6e"
   },
   "source": [
    "Очевидно отсутствие пропущенных значений и изменение типа данных. Чтобы убедиться, ещё раз выведем несколько строк таблицы:"
   ]
  },
  {
   "cell_type": "code",
   "execution_count": 40,
   "metadata": {
    "cellId": "v4yjsud76ybc1hap1fth9l"
   },
   "outputs": [
    {
     "data": {
      "text/html": [
       "<div>\n",
       "<style scoped>\n",
       "    .dataframe tbody tr th:only-of-type {\n",
       "        vertical-align: middle;\n",
       "    }\n",
       "\n",
       "    .dataframe tbody tr th {\n",
       "        vertical-align: top;\n",
       "    }\n",
       "\n",
       "    .dataframe thead th {\n",
       "        text-align: right;\n",
       "    }\n",
       "</style>\n",
       "<table border=\"1\" class=\"dataframe\">\n",
       "  <thead>\n",
       "    <tr style=\"text-align: right;\">\n",
       "      <th></th>\n",
       "      <th>user_id</th>\n",
       "      <th>month</th>\n",
       "      <th>count_all_calls</th>\n",
       "      <th>month_call_minutes</th>\n",
       "      <th>count_non_null_calls</th>\n",
       "    </tr>\n",
       "  </thead>\n",
       "  <tbody>\n",
       "    <tr>\n",
       "      <th>0</th>\n",
       "      <td>1000</td>\n",
       "      <td>5</td>\n",
       "      <td>22</td>\n",
       "      <td>159</td>\n",
       "      <td>17</td>\n",
       "    </tr>\n",
       "    <tr>\n",
       "      <th>1</th>\n",
       "      <td>1000</td>\n",
       "      <td>6</td>\n",
       "      <td>43</td>\n",
       "      <td>172</td>\n",
       "      <td>28</td>\n",
       "    </tr>\n",
       "    <tr>\n",
       "      <th>2</th>\n",
       "      <td>1000</td>\n",
       "      <td>7</td>\n",
       "      <td>47</td>\n",
       "      <td>340</td>\n",
       "      <td>41</td>\n",
       "    </tr>\n",
       "    <tr>\n",
       "      <th>3</th>\n",
       "      <td>1000</td>\n",
       "      <td>8</td>\n",
       "      <td>52</td>\n",
       "      <td>408</td>\n",
       "      <td>42</td>\n",
       "    </tr>\n",
       "    <tr>\n",
       "      <th>4</th>\n",
       "      <td>1000</td>\n",
       "      <td>9</td>\n",
       "      <td>58</td>\n",
       "      <td>466</td>\n",
       "      <td>46</td>\n",
       "    </tr>\n",
       "  </tbody>\n",
       "</table>\n",
       "</div>"
      ],
      "text/plain": [
       "   user_id  month  count_all_calls  month_call_minutes  count_non_null_calls\n",
       "0     1000      5               22                 159                    17\n",
       "1     1000      6               43                 172                    28\n",
       "2     1000      7               47                 340                    41\n",
       "3     1000      8               52                 408                    42\n",
       "4     1000      9               58                 466                    46"
      ]
     },
     "execution_count": 40,
     "metadata": {},
     "output_type": "execute_result"
    }
   ],
   "source": [
    "#выведем первые строки таблицы\n",
    "calls_pivot.head()"
   ]
  },
  {
   "cell_type": "markdown",
   "metadata": {
    "cellId": "6vpsd211e68ry59ot6xcik"
   },
   "source": [
    "Итак, мы посчитали количество звонков каждого клиента по месяцам (с учетом нулевых и без), общее количество израсходованных минут.\n",
    "Перейдём к расчету количества сообщений."
   ]
  },
  {
   "cell_type": "markdown",
   "metadata": {
    "cellId": "b0tel0410jr0xwe7a8stkce"
   },
   "source": [
    "#### Количество отправленных сообщений по месяцам"
   ]
  },
  {
   "cell_type": "markdown",
   "metadata": {
    "cellId": "lfq62fxdi9r657rq6iobtb"
   },
   "source": [
    "Для расчета количества израсходованных сообщений для каждого клиента воспользуемся ранее созданной функцией `pivot_by_user_id_and_month`, передадим таблицу `messages`, столбец `id_messages`, применем функцию `count` для подсчета количества сообщений:"
   ]
  },
  {
   "cell_type": "code",
   "execution_count": 41,
   "metadata": {
    "cellId": "43p2ebjbg74kaxr73z5oec"
   },
   "outputs": [],
   "source": [
    "# сводная таблица по двум столбцам 'user_id', 'month'\n",
    "messages_pivot = pivot_by_user_id_and_month(messages, 'id_messages', ['count'])"
   ]
  },
  {
   "cell_type": "markdown",
   "metadata": {
    "cellId": "7mikp53umb56xe3tjooogk"
   },
   "source": [
    "Изменим название столбцов, выведем информацию о таблице и первые строки:"
   ]
  },
  {
   "cell_type": "code",
   "execution_count": 42,
   "metadata": {
    "cellId": "lompov38sr20gi5j35a4"
   },
   "outputs": [
    {
     "name": "stdout",
     "output_type": "stream",
     "text": [
      "<class 'pandas.core.frame.DataFrame'>\n",
      "RangeIndex: 2717 entries, 0 to 2716\n",
      "Data columns (total 3 columns):\n",
      " #   Column          Non-Null Count  Dtype\n",
      "---  ------          --------------  -----\n",
      " 0   user_id         2717 non-null   int64\n",
      " 1   month           2717 non-null   int64\n",
      " 2   month_messages  2717 non-null   int64\n",
      "dtypes: int64(3)\n",
      "memory usage: 63.8 KB\n"
     ]
    },
    {
     "data": {
      "text/html": [
       "<div>\n",
       "<style scoped>\n",
       "    .dataframe tbody tr th:only-of-type {\n",
       "        vertical-align: middle;\n",
       "    }\n",
       "\n",
       "    .dataframe tbody tr th {\n",
       "        vertical-align: top;\n",
       "    }\n",
       "\n",
       "    .dataframe thead th {\n",
       "        text-align: right;\n",
       "    }\n",
       "</style>\n",
       "<table border=\"1\" class=\"dataframe\">\n",
       "  <thead>\n",
       "    <tr style=\"text-align: right;\">\n",
       "      <th></th>\n",
       "      <th>user_id</th>\n",
       "      <th>month</th>\n",
       "      <th>month_messages</th>\n",
       "    </tr>\n",
       "  </thead>\n",
       "  <tbody>\n",
       "    <tr>\n",
       "      <th>0</th>\n",
       "      <td>1000</td>\n",
       "      <td>5</td>\n",
       "      <td>22</td>\n",
       "    </tr>\n",
       "    <tr>\n",
       "      <th>1</th>\n",
       "      <td>1000</td>\n",
       "      <td>6</td>\n",
       "      <td>60</td>\n",
       "    </tr>\n",
       "    <tr>\n",
       "      <th>2</th>\n",
       "      <td>1000</td>\n",
       "      <td>7</td>\n",
       "      <td>75</td>\n",
       "    </tr>\n",
       "    <tr>\n",
       "      <th>3</th>\n",
       "      <td>1000</td>\n",
       "      <td>8</td>\n",
       "      <td>81</td>\n",
       "    </tr>\n",
       "    <tr>\n",
       "      <th>4</th>\n",
       "      <td>1000</td>\n",
       "      <td>9</td>\n",
       "      <td>57</td>\n",
       "    </tr>\n",
       "  </tbody>\n",
       "</table>\n",
       "</div>"
      ],
      "text/plain": [
       "   user_id  month  month_messages\n",
       "0     1000      5              22\n",
       "1     1000      6              60\n",
       "2     1000      7              75\n",
       "3     1000      8              81\n",
       "4     1000      9              57"
      ]
     },
     "execution_count": 42,
     "metadata": {},
     "output_type": "execute_result"
    }
   ],
   "source": [
    "#изменяем названия столбцов для удобства\n",
    "messages_pivot.columns=['user_id', 'month', 'month_messages']\n",
    "\n",
    "#выводим информацию о сводной таблицы\n",
    "messages_pivot.info()\n",
    "\n",
    "#выводим первые строки сводной таблицы\n",
    "messages_pivot.head()"
   ]
  },
  {
   "cell_type": "markdown",
   "metadata": {
    "cellId": "xcs1wjehm4g39ld2d0xzl"
   },
   "source": [
    "Посмотрим размер сводной таблицы для количества сообщений с помощью атрибута `shape`:"
   ]
  },
  {
   "cell_type": "code",
   "execution_count": 43,
   "metadata": {
    "cellId": "4alaxfu7hd60eh2qrjylwxa"
   },
   "outputs": [
    {
     "data": {
      "text/plain": [
       "(2717, 3)"
      ]
     },
     "execution_count": 43,
     "metadata": {},
     "output_type": "execute_result"
    }
   ],
   "source": [
    "messages_pivot.shape"
   ]
  },
  {
   "cell_type": "markdown",
   "metadata": {
    "cellId": "j361z1chvjj4wfrckdg0oq"
   },
   "source": [
    "Как `info()`, так и атрибут `shape` показывают, что сводная таблица по сообщениям пользователей по месяцам 2018 года состоит из 2717 строк. То есть пользователи реже отправляют сообщения, чем звонят (для звонков получилось около 3200 строк).\n",
    "\n",
    "Перейдём к расчету израсходованного интернет-трафика."
   ]
  },
  {
   "cell_type": "markdown",
   "metadata": {
    "cellId": "4ldgn5eiawhgvlsraoft0d"
   },
   "source": [
    "#### Объем израсходованного интернет-трафика по месяцам"
   ]
  },
  {
   "cell_type": "markdown",
   "metadata": {
    "cellId": "cp4etuozzqh38x315yzaiy"
   },
   "source": [
    "Для расчета израсходованного интернет-трафика по месяцам подготовим сводную таблицу с помощью введённой функции `pivot_by_user_id_and_month`. Передадим таблицу `internet`, применим функцию `sum` к данным столбца `mb_used`:"
   ]
  },
  {
   "cell_type": "code",
   "execution_count": 44,
   "metadata": {
    "cellId": "dvwy6w09gwlgc18g5lwde"
   },
   "outputs": [],
   "source": [
    "# сводная таблица по двум столбцам 'user_id', 'month'\n",
    "#сумма израсходованного трафика из столбца 'mb_used' талицы `internet`\n",
    "internet_pivot = pivot_by_user_id_and_month(internet, 'mb_used', ['sum'])"
   ]
  },
  {
   "cell_type": "markdown",
   "metadata": {
    "cellId": "bwferzcodfaywxrd36mnu"
   },
   "source": [
    "Изменим названия столбцов, выведем информацию о таблице и первые строки:"
   ]
  },
  {
   "cell_type": "code",
   "execution_count": 45,
   "metadata": {
    "cellId": "7ei21aghsvutgmia08i15m"
   },
   "outputs": [
    {
     "name": "stdout",
     "output_type": "stream",
     "text": [
      "<class 'pandas.core.frame.DataFrame'>\n",
      "RangeIndex: 3203 entries, 0 to 3202\n",
      "Data columns (total 3 columns):\n",
      " #   Column         Non-Null Count  Dtype  \n",
      "---  ------         --------------  -----  \n",
      " 0   user_id        3203 non-null   int64  \n",
      " 1   month          3203 non-null   int64  \n",
      " 2   month_mb_used  3203 non-null   float64\n",
      "dtypes: float64(1), int64(2)\n",
      "memory usage: 75.2 KB\n"
     ]
    },
    {
     "data": {
      "text/html": [
       "<div>\n",
       "<style scoped>\n",
       "    .dataframe tbody tr th:only-of-type {\n",
       "        vertical-align: middle;\n",
       "    }\n",
       "\n",
       "    .dataframe tbody tr th {\n",
       "        vertical-align: top;\n",
       "    }\n",
       "\n",
       "    .dataframe thead th {\n",
       "        text-align: right;\n",
       "    }\n",
       "</style>\n",
       "<table border=\"1\" class=\"dataframe\">\n",
       "  <thead>\n",
       "    <tr style=\"text-align: right;\">\n",
       "      <th></th>\n",
       "      <th>user_id</th>\n",
       "      <th>month</th>\n",
       "      <th>month_mb_used</th>\n",
       "    </tr>\n",
       "  </thead>\n",
       "  <tbody>\n",
       "    <tr>\n",
       "      <th>0</th>\n",
       "      <td>1000</td>\n",
       "      <td>5</td>\n",
       "      <td>2253.49</td>\n",
       "    </tr>\n",
       "    <tr>\n",
       "      <th>1</th>\n",
       "      <td>1000</td>\n",
       "      <td>6</td>\n",
       "      <td>23233.77</td>\n",
       "    </tr>\n",
       "    <tr>\n",
       "      <th>2</th>\n",
       "      <td>1000</td>\n",
       "      <td>7</td>\n",
       "      <td>14003.64</td>\n",
       "    </tr>\n",
       "    <tr>\n",
       "      <th>3</th>\n",
       "      <td>1000</td>\n",
       "      <td>8</td>\n",
       "      <td>14055.93</td>\n",
       "    </tr>\n",
       "    <tr>\n",
       "      <th>4</th>\n",
       "      <td>1000</td>\n",
       "      <td>9</td>\n",
       "      <td>14568.91</td>\n",
       "    </tr>\n",
       "  </tbody>\n",
       "</table>\n",
       "</div>"
      ],
      "text/plain": [
       "   user_id  month  month_mb_used\n",
       "0     1000      5        2253.49\n",
       "1     1000      6       23233.77\n",
       "2     1000      7       14003.64\n",
       "3     1000      8       14055.93\n",
       "4     1000      9       14568.91"
      ]
     },
     "execution_count": 45,
     "metadata": {},
     "output_type": "execute_result"
    }
   ],
   "source": [
    "#изменяем названия столбцов для удобства\n",
    "internet_pivot.columns=['user_id', 'month', 'month_mb_used']\n",
    "\n",
    "#выводим первые строки сводной таблицы\n",
    "internet_pivot.info()\n",
    "\n",
    "#выводим первые строки сводной таблицы\n",
    "internet_pivot.head()"
   ]
  },
  {
   "cell_type": "markdown",
   "metadata": {
    "cellId": "2c585405a1k0a2t742lig6"
   },
   "source": [
    "Отсутствие пропущенных значений, первые строки сводной таблицы свидетельствуют об успешном выполнении операции. Теперь перейдём к **пересчету мегабайт в гигабайты**, ведь именно за них взимает деньги оператор сотовой связи. \n",
    "\n",
    "Будем помнить, что $1 Гб=1024 Мб$ . Поэтому введём новый столбец `month_gb_used`, в который сохраним полученный месячный трафик, переведённый в гигабайты, для этого:\n",
    "- полученный трафик в мегабайтах поделим на 1024, \n",
    "- результат округлим в большую сторону (`np.ceil()`),\n",
    "- приведём к целочисленному типу данных (`astype()`):"
   ]
  },
  {
   "cell_type": "code",
   "execution_count": 46,
   "metadata": {
    "cellId": "1fci50nftcrsbaw91ymoq"
   },
   "outputs": [],
   "source": [
    "#создаём новый столбец 'month_gb_used' в сводной таблице 'internet_pivot'\n",
    "#сохраняем в него значение песячного трафика, переведённого из Мб в Гб,\n",
    "#округляем Гб в большую сторону, приводим к целочисленному типу данных\n",
    "internet_pivot['month_gb_used'] = np.ceil(internet_pivot['month_mb_used']/1024).astype('int64')"
   ]
  },
  {
   "cell_type": "markdown",
   "metadata": {
    "cellId": "ti0sxcnoggetzjj00xy26"
   },
   "source": [
    "Выведем информацию о таблице и её первые строки, чтобы ознакомиться с результатом:"
   ]
  },
  {
   "cell_type": "code",
   "execution_count": 47,
   "metadata": {
    "cellId": "bcxbfmmwhllinh1hzf3naf"
   },
   "outputs": [
    {
     "name": "stdout",
     "output_type": "stream",
     "text": [
      "<class 'pandas.core.frame.DataFrame'>\n",
      "RangeIndex: 3203 entries, 0 to 3202\n",
      "Data columns (total 4 columns):\n",
      " #   Column         Non-Null Count  Dtype  \n",
      "---  ------         --------------  -----  \n",
      " 0   user_id        3203 non-null   int64  \n",
      " 1   month          3203 non-null   int64  \n",
      " 2   month_mb_used  3203 non-null   float64\n",
      " 3   month_gb_used  3203 non-null   int64  \n",
      "dtypes: float64(1), int64(3)\n",
      "memory usage: 100.2 KB\n"
     ]
    },
    {
     "data": {
      "text/html": [
       "<div>\n",
       "<style scoped>\n",
       "    .dataframe tbody tr th:only-of-type {\n",
       "        vertical-align: middle;\n",
       "    }\n",
       "\n",
       "    .dataframe tbody tr th {\n",
       "        vertical-align: top;\n",
       "    }\n",
       "\n",
       "    .dataframe thead th {\n",
       "        text-align: right;\n",
       "    }\n",
       "</style>\n",
       "<table border=\"1\" class=\"dataframe\">\n",
       "  <thead>\n",
       "    <tr style=\"text-align: right;\">\n",
       "      <th></th>\n",
       "      <th>user_id</th>\n",
       "      <th>month</th>\n",
       "      <th>month_mb_used</th>\n",
       "      <th>month_gb_used</th>\n",
       "    </tr>\n",
       "  </thead>\n",
       "  <tbody>\n",
       "    <tr>\n",
       "      <th>0</th>\n",
       "      <td>1000</td>\n",
       "      <td>5</td>\n",
       "      <td>2253.49</td>\n",
       "      <td>3</td>\n",
       "    </tr>\n",
       "    <tr>\n",
       "      <th>1</th>\n",
       "      <td>1000</td>\n",
       "      <td>6</td>\n",
       "      <td>23233.77</td>\n",
       "      <td>23</td>\n",
       "    </tr>\n",
       "    <tr>\n",
       "      <th>2</th>\n",
       "      <td>1000</td>\n",
       "      <td>7</td>\n",
       "      <td>14003.64</td>\n",
       "      <td>14</td>\n",
       "    </tr>\n",
       "    <tr>\n",
       "      <th>3</th>\n",
       "      <td>1000</td>\n",
       "      <td>8</td>\n",
       "      <td>14055.93</td>\n",
       "      <td>14</td>\n",
       "    </tr>\n",
       "    <tr>\n",
       "      <th>4</th>\n",
       "      <td>1000</td>\n",
       "      <td>9</td>\n",
       "      <td>14568.91</td>\n",
       "      <td>15</td>\n",
       "    </tr>\n",
       "  </tbody>\n",
       "</table>\n",
       "</div>"
      ],
      "text/plain": [
       "   user_id  month  month_mb_used  month_gb_used\n",
       "0     1000      5        2253.49              3\n",
       "1     1000      6       23233.77             23\n",
       "2     1000      7       14003.64             14\n",
       "3     1000      8       14055.93             14\n",
       "4     1000      9       14568.91             15"
      ]
     },
     "execution_count": 47,
     "metadata": {},
     "output_type": "execute_result"
    }
   ],
   "source": [
    "#выводим информацию о сводной таблице 'internet_pivot'\n",
    "internet_pivot.info()\n",
    "\n",
    "#выводим первые строки таблицы 'internet_pivot'\n",
    "internet_pivot.head()"
   ]
  },
  {
   "cell_type": "markdown",
   "metadata": {
    "cellId": "axt3bi0z52kbulo8ehu8w9"
   },
   "source": [
    "Первые строки полученной сводной таблицы наглядно демонстрируют правильность перевода Мб в Гб с округлением в большую сторону и изменение типа на целочисленный.\n",
    "\n",
    "Перейдём к расчету помесячной выручки. Учтем далее, что число строк в сводной таблице по интернет-трафику - 3203, отличается от сводных таблиц по сообщениям и звонкам."
   ]
  },
  {
   "cell_type": "markdown",
   "metadata": {
    "cellId": "lal05dsim8evnr9rbk63s"
   },
   "source": [
    "#### Помесячная выручка с каждого пользователя"
   ]
  },
  {
   "cell_type": "markdown",
   "metadata": {
    "cellId": "smrtd9grjzxks4i1ayi2"
   },
   "source": [
    "Теперь сделаем общую таблицу `df` для дальнейшего анализа. Для этого сначала постепенно объединим полученные сводные таблицы. \n",
    "\n",
    "Больше всего строк получилось в сводной таблице `internet_pivot`. Добавим поочерёдно к ней столбцы таблиц `calls_pivot` и `messages_pivot` с использованием метода `merge`. \n",
    "\n",
    "Будем использовать тип слияния `outer` (от англ. «внешний»). Он объединяет данные из внешней общей области — такие, которые есть хотя бы в одном из датафреймов.\n",
    "\n",
    "Начнём со слияния `internet_pivot` и `calls_pivot` по столбцам `user_id`,`month`:"
   ]
  },
  {
   "cell_type": "code",
   "execution_count": 48,
   "metadata": {
    "cellId": "ppbatptk7cijpklnlah7r"
   },
   "outputs": [],
   "source": [
    "#используем метод `merge()` для объединения сводных таблиц по\n",
    "#интернет трафику и продолжительности звонков по 'user_id','month'\n",
    "df = internet_pivot.merge(calls_pivot, on=['user_id','month'], how='outer')"
   ]
  },
  {
   "cell_type": "markdown",
   "metadata": {
    "cellId": "m62xq91tlvhseulscpzwrq"
   },
   "source": [
    "После объединения таблиц, выведем информацию о `df`:"
   ]
  },
  {
   "cell_type": "code",
   "execution_count": 49,
   "metadata": {
    "cellId": "ja6q7j2h4q4rfnmao1m18"
   },
   "outputs": [
    {
     "name": "stdout",
     "output_type": "stream",
     "text": [
      "<class 'pandas.core.frame.DataFrame'>\n",
      "Int64Index: 3214 entries, 0 to 3213\n",
      "Data columns (total 7 columns):\n",
      " #   Column                Non-Null Count  Dtype  \n",
      "---  ------                --------------  -----  \n",
      " 0   user_id               3214 non-null   int64  \n",
      " 1   month                 3214 non-null   int64  \n",
      " 2   month_mb_used         3203 non-null   float64\n",
      " 3   month_gb_used         3203 non-null   float64\n",
      " 4   count_all_calls       3174 non-null   float64\n",
      " 5   month_call_minutes    3174 non-null   float64\n",
      " 6   count_non_null_calls  3174 non-null   float64\n",
      "dtypes: float64(5), int64(2)\n",
      "memory usage: 200.9 KB\n"
     ]
    }
   ],
   "source": [
    "#вывод информации о 'df' после слияния\n",
    "df.info()"
   ]
  },
  {
   "cell_type": "markdown",
   "metadata": {
    "cellId": "d1pj5gmtq8kszhi4bcqyvm"
   },
   "source": [
    "Ожидаемо, появились пропущенные значения, но их немного. Посмотрим информацию о срезе данных с пропущенными значениями в столбце `count_non_null_calls`:"
   ]
  },
  {
   "cell_type": "code",
   "execution_count": 50,
   "metadata": {
    "cellId": "kg23s342evsjij24iu50iq"
   },
   "outputs": [
    {
     "name": "stdout",
     "output_type": "stream",
     "text": [
      "<class 'pandas.core.frame.DataFrame'>\n",
      "Int64Index: 40 entries, 570 to 3142\n",
      "Data columns (total 7 columns):\n",
      " #   Column                Non-Null Count  Dtype  \n",
      "---  ------                --------------  -----  \n",
      " 0   user_id               40 non-null     int64  \n",
      " 1   month                 40 non-null     int64  \n",
      " 2   month_mb_used         40 non-null     float64\n",
      " 3   month_gb_used         40 non-null     float64\n",
      " 4   count_all_calls       0 non-null      float64\n",
      " 5   month_call_minutes    0 non-null      float64\n",
      " 6   count_non_null_calls  0 non-null      float64\n",
      "dtypes: float64(5), int64(2)\n",
      "memory usage: 2.5 KB\n"
     ]
    }
   ],
   "source": [
    "#информация о срезе данных 'df' с пропущенными значениями в 'count_non_null_calls'\n",
    "df[df['count_non_null_calls'].isna()==True].info()"
   ]
  },
  {
   "cell_type": "markdown",
   "metadata": {
    "cellId": "2jerr8dp7ionyvnwpza7y"
   },
   "source": [
    "Очевидна взаимосвязь пропусков в 4 столбцах. Значит у нас есть 40 строк, в которых есть информация только об интернет-трафике.\n",
    "Посмотрим несколько строчек с этого среза:"
   ]
  },
  {
   "cell_type": "code",
   "execution_count": 51,
   "metadata": {
    "cellId": "s3le98nav8yhnzwg87yh"
   },
   "outputs": [
    {
     "data": {
      "text/html": [
       "<div>\n",
       "<style scoped>\n",
       "    .dataframe tbody tr th:only-of-type {\n",
       "        vertical-align: middle;\n",
       "    }\n",
       "\n",
       "    .dataframe tbody tr th {\n",
       "        vertical-align: top;\n",
       "    }\n",
       "\n",
       "    .dataframe thead th {\n",
       "        text-align: right;\n",
       "    }\n",
       "</style>\n",
       "<table border=\"1\" class=\"dataframe\">\n",
       "  <thead>\n",
       "    <tr style=\"text-align: right;\">\n",
       "      <th></th>\n",
       "      <th>user_id</th>\n",
       "      <th>month</th>\n",
       "      <th>month_mb_used</th>\n",
       "      <th>month_gb_used</th>\n",
       "      <th>count_all_calls</th>\n",
       "      <th>month_call_minutes</th>\n",
       "      <th>count_non_null_calls</th>\n",
       "    </tr>\n",
       "  </thead>\n",
       "  <tbody>\n",
       "    <tr>\n",
       "      <th>570</th>\n",
       "      <td>1091</td>\n",
       "      <td>5</td>\n",
       "      <td>10703.37</td>\n",
       "      <td>11.0</td>\n",
       "      <td>NaN</td>\n",
       "      <td>NaN</td>\n",
       "      <td>NaN</td>\n",
       "    </tr>\n",
       "    <tr>\n",
       "      <th>571</th>\n",
       "      <td>1091</td>\n",
       "      <td>6</td>\n",
       "      <td>10236.19</td>\n",
       "      <td>10.0</td>\n",
       "      <td>NaN</td>\n",
       "      <td>NaN</td>\n",
       "      <td>NaN</td>\n",
       "    </tr>\n",
       "    <tr>\n",
       "      <th>572</th>\n",
       "      <td>1091</td>\n",
       "      <td>7</td>\n",
       "      <td>16444.98</td>\n",
       "      <td>17.0</td>\n",
       "      <td>NaN</td>\n",
       "      <td>NaN</td>\n",
       "      <td>NaN</td>\n",
       "    </tr>\n",
       "    <tr>\n",
       "      <th>573</th>\n",
       "      <td>1091</td>\n",
       "      <td>8</td>\n",
       "      <td>12633.88</td>\n",
       "      <td>13.0</td>\n",
       "      <td>NaN</td>\n",
       "      <td>NaN</td>\n",
       "      <td>NaN</td>\n",
       "    </tr>\n",
       "    <tr>\n",
       "      <th>574</th>\n",
       "      <td>1091</td>\n",
       "      <td>9</td>\n",
       "      <td>16597.11</td>\n",
       "      <td>17.0</td>\n",
       "      <td>NaN</td>\n",
       "      <td>NaN</td>\n",
       "      <td>NaN</td>\n",
       "    </tr>\n",
       "  </tbody>\n",
       "</table>\n",
       "</div>"
      ],
      "text/plain": [
       "     user_id  month  month_mb_used  month_gb_used  count_all_calls  \\\n",
       "570     1091      5       10703.37           11.0              NaN   \n",
       "571     1091      6       10236.19           10.0              NaN   \n",
       "572     1091      7       16444.98           17.0              NaN   \n",
       "573     1091      8       12633.88           13.0              NaN   \n",
       "574     1091      9       16597.11           17.0              NaN   \n",
       "\n",
       "     month_call_minutes  count_non_null_calls  \n",
       "570                 NaN                   NaN  \n",
       "571                 NaN                   NaN  \n",
       "572                 NaN                   NaN  \n",
       "573                 NaN                   NaN  \n",
       "574                 NaN                   NaN  "
      ]
     },
     "execution_count": 51,
     "metadata": {},
     "output_type": "execute_result"
    }
   ],
   "source": [
    "#вывод первых строк с прпоусками в столбце 'count_non_null_calls'\n",
    "df[df['count_non_null_calls'].isna()==True].head()"
   ]
  },
  {
   "cell_type": "markdown",
   "metadata": {
    "cellId": "pw9rb0rwfbdcj0x3r1mfv"
   },
   "source": [
    "Изучим - это один пользователь или несколько:"
   ]
  },
  {
   "cell_type": "code",
   "execution_count": 52,
   "metadata": {
    "cellId": "8gcgkbgp9uku2khg3iuq18"
   },
   "outputs": [
    {
     "data": {
      "text/plain": [
       "1106    9\n",
       "1091    8\n",
       "1231    8\n",
       "1473    5\n",
       "1489    5\n",
       "1328    3\n",
       "1476    1\n",
       "1373    1\n",
       "Name: user_id, dtype: int64"
      ]
     },
     "execution_count": 52,
     "metadata": {},
     "output_type": "execute_result"
    }
   ],
   "source": [
    "# количество уникальных пользователей с пропусками в 'count_non_null_calls'\n",
    "df[df['count_non_null_calls'].isna()==True]['user_id'].value_counts()"
   ]
  },
  {
   "cell_type": "markdown",
   "metadata": {
    "cellId": "6d4arrbd5tn4vqa1lgnuu"
   },
   "source": [
    "Из 500 пользователей 8 не разговаривают по телефону в некоторые месяцы, а только пользуются интернетом.\n",
    "\n",
    "Насколько активно можно узнать с помощью `describe()`:"
   ]
  },
  {
   "cell_type": "code",
   "execution_count": 53,
   "metadata": {
    "cellId": "8fi1w73i392avu060ym0s"
   },
   "outputs": [
    {
     "data": {
      "text/plain": [
       "count    40.000000\n",
       "mean     19.125000\n",
       "std       8.370239\n",
       "min       1.000000\n",
       "25%      13.000000\n",
       "50%      17.500000\n",
       "75%      22.000000\n",
       "max      39.000000\n",
       "Name: month_gb_used, dtype: float64"
      ]
     },
     "execution_count": 53,
     "metadata": {},
     "output_type": "execute_result"
    }
   ],
   "source": [
    "# описание выборки по столбцу 'month_gb_used' среза \n",
    "# данных с пропусками в 'count_non_null_calls'\n",
    "df[df['count_non_null_calls'].isna()==True]['month_gb_used'].describe()"
   ]
  },
  {
   "cell_type": "markdown",
   "metadata": {
    "cellId": "y6zbzbwxycio83w4cmsaj"
   },
   "source": [
    "Судя по характеристике выборки, данные пользователи довольно активно пользуются интернетом (медиана и среднее близки - 17,5 и 19 Гб). \n",
    "\n",
    "Поэтому у нас есть основания не считать пропуски в полученных данных о звонках ошибкой для этих пользователей.\n",
    "\n",
    "Тогда заполним пропуски в `df` значением `0`, оно подходит, так как у нас везде числовой формат данных. Также заполнение пропусков значением `0` подходит и для столбцов с интернет-трафиком (есть люди, которые только звонят, но не пользуются мобильным интернетом):"
   ]
  },
  {
   "cell_type": "code",
   "execution_count": 54,
   "metadata": {
    "cellId": "6edied75ph893vaowlan9s"
   },
   "outputs": [],
   "source": [
    "#заполняем пропуски в 'df' значением 0\n",
    "df = df.fillna(0)"
   ]
  },
  {
   "cell_type": "markdown",
   "metadata": {
    "cellId": "oukbgf80h5gz9fau0pgdi"
   },
   "source": [
    "Посмотрим результат заполнения пропусков:"
   ]
  },
  {
   "cell_type": "code",
   "execution_count": 55,
   "metadata": {
    "cellId": "cq8esd2si8kfxuoxcca1x"
   },
   "outputs": [
    {
     "name": "stdout",
     "output_type": "stream",
     "text": [
      "<class 'pandas.core.frame.DataFrame'>\n",
      "Int64Index: 3214 entries, 0 to 3213\n",
      "Data columns (total 7 columns):\n",
      " #   Column                Non-Null Count  Dtype  \n",
      "---  ------                --------------  -----  \n",
      " 0   user_id               3214 non-null   int64  \n",
      " 1   month                 3214 non-null   int64  \n",
      " 2   month_mb_used         3214 non-null   float64\n",
      " 3   month_gb_used         3214 non-null   float64\n",
      " 4   count_all_calls       3214 non-null   float64\n",
      " 5   month_call_minutes    3214 non-null   float64\n",
      " 6   count_non_null_calls  3214 non-null   float64\n",
      "dtypes: float64(5), int64(2)\n",
      "memory usage: 200.9 KB\n"
     ]
    }
   ],
   "source": [
    "#вывод информации о таблице 'df'\n",
    "df.info()"
   ]
  },
  {
   "cell_type": "markdown",
   "metadata": {
    "cellId": "26vurmu3vt8cromml01tz"
   },
   "source": [
    "Добавим к `df` **данные о сообщениях** из `messages_pivot`. Тип слияния снова **внешний**, нам важно не потерять данные о пользователях, которые не пользуются какими-то доступными услугами тарифа:"
   ]
  },
  {
   "cell_type": "code",
   "execution_count": 56,
   "metadata": {
    "cellId": "81iw6pr4jnvq8c5zwff0jd"
   },
   "outputs": [],
   "source": [
    "# используем метод `merge()` для добавления сводной таблицы 'messages_pivot'\n",
    "# к 'df', где уже сохранены данные по интернет трафику и \n",
    "# продолжительности звонков по 'user_id','month'\n",
    "df = df.merge(messages_pivot, on=['user_id','month'], how='outer')"
   ]
  },
  {
   "cell_type": "markdown",
   "metadata": {
    "cellId": "11dcnq6dpxickw9tfgpn0ic"
   },
   "source": [
    "Посмотрим обновлённую информацию о таблице `df`:"
   ]
  },
  {
   "cell_type": "code",
   "execution_count": 57,
   "metadata": {
    "cellId": "1fg7tbdle9yps3gwwxnu2l"
   },
   "outputs": [
    {
     "name": "stdout",
     "output_type": "stream",
     "text": [
      "<class 'pandas.core.frame.DataFrame'>\n",
      "Int64Index: 3214 entries, 0 to 3213\n",
      "Data columns (total 8 columns):\n",
      " #   Column                Non-Null Count  Dtype  \n",
      "---  ------                --------------  -----  \n",
      " 0   user_id               3214 non-null   int64  \n",
      " 1   month                 3214 non-null   int64  \n",
      " 2   month_mb_used         3214 non-null   float64\n",
      " 3   month_gb_used         3214 non-null   float64\n",
      " 4   count_all_calls       3214 non-null   float64\n",
      " 5   month_call_minutes    3214 non-null   float64\n",
      " 6   count_non_null_calls  3214 non-null   float64\n",
      " 7   month_messages        2717 non-null   float64\n",
      "dtypes: float64(6), int64(2)\n",
      "memory usage: 226.0 KB\n"
     ]
    }
   ],
   "source": [
    "#вывод информации о таблице 'df'\n",
    "df.info()"
   ]
  },
  {
   "cell_type": "markdown",
   "metadata": {
    "cellId": "k79fkzs5zx8xm9pm1gncf"
   },
   "source": [
    "Видим пропущенные значения в столбце `month_messages`, около **500 пропусков**, как видно из информации о таблице ниже:"
   ]
  },
  {
   "cell_type": "code",
   "execution_count": 58,
   "metadata": {
    "cellId": "896o9i6epsimr3qg2hyxe"
   },
   "outputs": [
    {
     "name": "stdout",
     "output_type": "stream",
     "text": [
      "<class 'pandas.core.frame.DataFrame'>\n",
      "Int64Index: 497 entries, 8 to 3174\n",
      "Data columns (total 8 columns):\n",
      " #   Column                Non-Null Count  Dtype  \n",
      "---  ------                --------------  -----  \n",
      " 0   user_id               497 non-null    int64  \n",
      " 1   month                 497 non-null    int64  \n",
      " 2   month_mb_used         497 non-null    float64\n",
      " 3   month_gb_used         497 non-null    float64\n",
      " 4   count_all_calls       497 non-null    float64\n",
      " 5   month_call_minutes    497 non-null    float64\n",
      " 6   count_non_null_calls  497 non-null    float64\n",
      " 7   month_messages        0 non-null      float64\n",
      "dtypes: float64(6), int64(2)\n",
      "memory usage: 34.9 KB\n"
     ]
    }
   ],
   "source": [
    "#вывод общей информации по срезу df с пропущенными значениями в столбце `month_messages`\n",
    "df[df['month_messages'].isna()==True].info()"
   ]
  },
  {
   "cell_type": "markdown",
   "metadata": {
    "cellId": "9tzohksbxww0kndpc2b4"
   },
   "source": [
    "Есть мнение, что **SMS** - **самый дорогой вид связи**. Понятно, почему люди реже им пользуются. Это может служить основанием к заполнению пропусков в `month_messages` значением `0` с использованием `fillna()`:"
   ]
  },
  {
   "cell_type": "code",
   "execution_count": 59,
   "metadata": {
    "cellId": "s3r67iemegrtplfhb33yu"
   },
   "outputs": [],
   "source": [
    "#заполняем пропуски в 'df' значением 0\n",
    "df = df.fillna(0)"
   ]
  },
  {
   "cell_type": "markdown",
   "metadata": {
    "cellId": "l8x76miqcc7ipu5rc07fq"
   },
   "source": [
    "Проверим результат заполнения пропусков:"
   ]
  },
  {
   "cell_type": "code",
   "execution_count": 60,
   "metadata": {
    "cellId": "r8m3r5ebpsgvib26bi8g6a"
   },
   "outputs": [
    {
     "name": "stdout",
     "output_type": "stream",
     "text": [
      "<class 'pandas.core.frame.DataFrame'>\n",
      "Int64Index: 3214 entries, 0 to 3213\n",
      "Data columns (total 8 columns):\n",
      " #   Column                Non-Null Count  Dtype  \n",
      "---  ------                --------------  -----  \n",
      " 0   user_id               3214 non-null   int64  \n",
      " 1   month                 3214 non-null   int64  \n",
      " 2   month_mb_used         3214 non-null   float64\n",
      " 3   month_gb_used         3214 non-null   float64\n",
      " 4   count_all_calls       3214 non-null   float64\n",
      " 5   month_call_minutes    3214 non-null   float64\n",
      " 6   count_non_null_calls  3214 non-null   float64\n",
      " 7   month_messages        3214 non-null   float64\n",
      "dtypes: float64(6), int64(2)\n",
      "memory usage: 226.0 KB\n"
     ]
    }
   ],
   "source": [
    "#выведем общую информацию о таблице\n",
    "df.info()"
   ]
  },
  {
   "cell_type": "markdown",
   "metadata": {
    "cellId": "sgym7x7jq7qbphf56j7d"
   },
   "source": [
    "Таблица для расчетов почти готова. Остаётся добавить данные о пользователях и параметры тарифа.\n",
    "\n",
    "Добавим информацию о пользователях с использованием метода `merge()`, но в данном случае при слиянии нам не нужен внешний тип, нам нужно добавить данные только о тех пользователях, информация о которых есть в `df`. Узнаем их количество:"
   ]
  },
  {
   "cell_type": "code",
   "execution_count": 61,
   "metadata": {
    "cellId": "9qfqjrn3u4t67xq1sgo4ji"
   },
   "outputs": [
    {
     "data": {
      "text/plain": [
       "498"
      ]
     },
     "execution_count": 61,
     "metadata": {},
     "output_type": "execute_result"
    }
   ],
   "source": [
    "#количество пользователей в df\n",
    "len(df['user_id'].unique())"
   ]
  },
  {
   "cell_type": "markdown",
   "metadata": {
    "cellId": "48i1sb4di940q4wbzuokujb"
   },
   "source": [
    "Очень близко к 500. Но 2 не хватает.\n",
    "\n",
    "Начнём добавление информации о пользователях к `df`, нам подойдёт тип слияния `inner` (от англ. «внутренний»). Он собирает данные из внутренней области (которые есть в обоих датафреймах). В `merge()` тип `inner` работает **по умолчанию**.\n",
    "\n",
    "Для анализа расходов по месяцам нам нужны не все столбцы таблицы `users`, а только `user_id`,`age`,`city`, `tariff`, поэтому добавляем:"
   ]
  },
  {
   "cell_type": "code",
   "execution_count": 62,
   "metadata": {
    "cellId": "vykawy5fzt2dwunqpp169"
   },
   "outputs": [],
   "source": [
    "# добавляем в df информацию о пользователях 'user_id','age','city', 'tariff'\n",
    "df = df.merge(users[['user_id','age','city', 'tariff_name']], on='user_id') "
   ]
  },
  {
   "cell_type": "markdown",
   "metadata": {
    "cellId": "mx0z824qqcfdeic6rby0h"
   },
   "source": [
    "Проверим результат выводом общей информации о таблице:"
   ]
  },
  {
   "cell_type": "code",
   "execution_count": 63,
   "metadata": {
    "cellId": "0l5wyr9w330svcy4z6wniv"
   },
   "outputs": [
    {
     "name": "stdout",
     "output_type": "stream",
     "text": [
      "<class 'pandas.core.frame.DataFrame'>\n",
      "Int64Index: 3214 entries, 0 to 3213\n",
      "Data columns (total 11 columns):\n",
      " #   Column                Non-Null Count  Dtype  \n",
      "---  ------                --------------  -----  \n",
      " 0   user_id               3214 non-null   int64  \n",
      " 1   month                 3214 non-null   int64  \n",
      " 2   month_mb_used         3214 non-null   float64\n",
      " 3   month_gb_used         3214 non-null   float64\n",
      " 4   count_all_calls       3214 non-null   float64\n",
      " 5   month_call_minutes    3214 non-null   float64\n",
      " 6   count_non_null_calls  3214 non-null   float64\n",
      " 7   month_messages        3214 non-null   float64\n",
      " 8   age                   3214 non-null   int64  \n",
      " 9   city                  3214 non-null   object \n",
      " 10  tariff_name           3214 non-null   object \n",
      "dtypes: float64(6), int64(3), object(2)\n",
      "memory usage: 301.3+ KB\n"
     ]
    }
   ],
   "source": [
    "# выведем общую информацию о таблице\n",
    "df.info()"
   ]
  },
  {
   "cell_type": "markdown",
   "metadata": {
    "cellId": "mwf2j5q2s2lugmvvxwx5g"
   },
   "source": [
    "Теперь добавим информацию о тарифах, метод слияния снова `inner`:"
   ]
  },
  {
   "cell_type": "code",
   "execution_count": 64,
   "metadata": {
    "cellId": "5ba12ebquahl4byd4lvc1k"
   },
   "outputs": [],
   "source": [
    "#методом merge добавляем к df информацию о тарифах пользователей\n",
    "df = df.merge(tariffs, on='tariff_name') "
   ]
  },
  {
   "cell_type": "markdown",
   "metadata": {
    "cellId": "04lpcnpai1mhlbqihm6sofe"
   },
   "source": [
    "Проверим результат добавления:"
   ]
  },
  {
   "cell_type": "code",
   "execution_count": 65,
   "metadata": {
    "cellId": "fcf75wj5agztcgycqvigd"
   },
   "outputs": [
    {
     "name": "stdout",
     "output_type": "stream",
     "text": [
      "<class 'pandas.core.frame.DataFrame'>\n",
      "Int64Index: 3214 entries, 0 to 3213\n",
      "Data columns (total 18 columns):\n",
      " #   Column                 Non-Null Count  Dtype  \n",
      "---  ------                 --------------  -----  \n",
      " 0   user_id                3214 non-null   int64  \n",
      " 1   month                  3214 non-null   int64  \n",
      " 2   month_mb_used          3214 non-null   float64\n",
      " 3   month_gb_used          3214 non-null   float64\n",
      " 4   count_all_calls        3214 non-null   float64\n",
      " 5   month_call_minutes     3214 non-null   float64\n",
      " 6   count_non_null_calls   3214 non-null   float64\n",
      " 7   month_messages         3214 non-null   float64\n",
      " 8   age                    3214 non-null   int64  \n",
      " 9   city                   3214 non-null   object \n",
      " 10  tariff_name            3214 non-null   object \n",
      " 11  messages_included      3214 non-null   int64  \n",
      " 12  mb_per_month_included  3214 non-null   int64  \n",
      " 13  minutes_included       3214 non-null   int64  \n",
      " 14  rub_monthly_fee        3214 non-null   int64  \n",
      " 15  rub_per_gb             3214 non-null   int64  \n",
      " 16  rub_per_message        3214 non-null   int64  \n",
      " 17  rub_per_minute         3214 non-null   int64  \n",
      "dtypes: float64(6), int64(10), object(2)\n",
      "memory usage: 477.1+ KB\n"
     ]
    }
   ],
   "source": [
    "#выведем общую информацию о таблице с новыми столбцами\n",
    "df.info()"
   ]
  },
  {
   "cell_type": "markdown",
   "metadata": {
    "cellId": "fqwtz8tyy8rtetch14ascq"
   },
   "source": [
    "Отлично, таблица готова к анализу и расчетам. "
   ]
  },
  {
   "cell_type": "markdown",
   "metadata": {
    "cellId": "u7z4t4qrqoaz2c3o2tdyhe"
   },
   "source": [
    "Сделаем последнее подготовительное действие, добавим **столбец с лимитом интернет-трафика в гигабайтах**. \n",
    "\n",
    "Посмотрим первые стоки с трафиком в Мб:"
   ]
  },
  {
   "cell_type": "code",
   "execution_count": 66,
   "metadata": {
    "cellId": "aim3754w51pkgy1wbtl4c"
   },
   "outputs": [
    {
     "data": {
      "text/plain": [
       "0    30720\n",
       "1    30720\n",
       "2    30720\n",
       "3    30720\n",
       "4    30720\n",
       "Name: mb_per_month_included, dtype: int64"
      ]
     },
     "execution_count": 66,
     "metadata": {},
     "output_type": "execute_result"
    }
   ],
   "source": [
    "#выведем первые строки столбца 'mb_per_month_included'\n",
    "df['mb_per_month_included'].head()"
   ]
  },
  {
   "cell_type": "markdown",
   "metadata": {
    "cellId": "bdzl0etacsbtjhd9cj0chr"
   },
   "source": [
    "Данные в Мб, но нам потребуется сравнивать и вычетать Гб. Поэтому *создадим новый столбец, в котором будет храниться лимит по тарифу в Гб*:"
   ]
  },
  {
   "cell_type": "code",
   "execution_count": 67,
   "metadata": {
    "cellId": "13bl70zdfp1hic8z84k8r9"
   },
   "outputs": [],
   "source": [
    "#создаём новый столбец 'gb_per_month_included'\n",
    "df['gb_per_month_included'] = np.ceil(df['mb_per_month_included']/1024).astype('int64')"
   ]
  },
  {
   "cell_type": "markdown",
   "metadata": {
    "cellId": "gembgiwv9lhq8t1sp2e4oh"
   },
   "source": [
    "Посмотрим результат:"
   ]
  },
  {
   "cell_type": "code",
   "execution_count": 68,
   "metadata": {
    "cellId": "7l2swh0asspl1qb8fwdlr"
   },
   "outputs": [
    {
     "data": {
      "text/plain": [
       "0    30\n",
       "1    30\n",
       "2    30\n",
       "3    30\n",
       "4    30\n",
       "Name: gb_per_month_included, dtype: int64"
      ]
     },
     "execution_count": 68,
     "metadata": {},
     "output_type": "execute_result"
    }
   ],
   "source": [
    "#выведем первые строки столбца 'gb_per_month_included'\n",
    "df['gb_per_month_included'].head()"
   ]
  },
  {
   "cell_type": "markdown",
   "metadata": {
    "cellId": "9r6wh90v32qkb960dsd8a"
   },
   "source": [
    "Столбец успешно добавлен."
   ]
  },
  {
   "cell_type": "markdown",
   "metadata": {
    "cellId": "egorsylx9z9dqaq2sprlel"
   },
   "source": [
    "Напишем **функцию для расчета выручки**:\n",
    "- вычтем бесплатный лимит из суммарного количества звонков, сообщений и интернет-трафика; \n",
    "- остаток умножим на значение из тарифного плана (для проверки есть превышение или нет будем использовать `if...else`; \n",
    "- прибавим абонентскую плату, соответствующую тарифному плану."
   ]
  },
  {
   "cell_type": "markdown",
   "metadata": {
    "cellId": "64yfna6sfy32gej4mpox2y"
   },
   "source": [
    "Итак, функция расчета месячной выручки, в которую передаётся одна строка таблицы:"
   ]
  },
  {
   "cell_type": "code",
   "execution_count": 69,
   "metadata": {
    "cellId": "xpmx2mvogccmlegvlg2c5"
   },
   "outputs": [],
   "source": [
    "#функция расчета месячной выручки для каждого клиента по месяцам\n",
    "def monthly_revenue(row):\n",
    "    \n",
    "    #считываем из рассматриваемой строки значения платы за услуги сверх тарифа\n",
    "    rub_per_minute = row['rub_per_minute']         #за минуты сверх тарифа\n",
    "    rub_per_message = row['rub_per_message']       #за сообщения сверх тарифа\n",
    "    rub_per_gb = row['rub_per_gb']                 #за Гб сверх тарифа\n",
    "    rub_monthly_fee = row['rub_monthly_fee']       #абонентская плата\n",
    "    \n",
    "    #считываем лимиты для данного тарифа\n",
    "    limit_calls = row['minutes_included']          #лимит минут\n",
    "    limit_messages = row['messages_included']      #лимит сообщений\n",
    "    limit_internet = row['gb_per_month_included']  #лимит интернет-трафика\n",
    "    \n",
    "    #фактические затраты клиента\n",
    "    fact_calls =  row['month_call_minutes']       #фактический расход минут\n",
    "    fact_messages = row['month_messages']          #фактический расход сообщений\n",
    "    fact_internet = row['month_gb_used']           #фактический расход интернет-трафика\n",
    "    \n",
    "    #проверим превышен ли лимит, если да, то учтем дополнительную плату\n",
    "\n",
    "    #для звонков\n",
    "    if fact_calls>limit_calls:\n",
    "        add_pay_per_minutes = (fact_calls - limit_calls) * rub_per_minute\n",
    "    else: \n",
    "        add_pay_per_minutes = 0\n",
    "    \n",
    "    #для сообщений\n",
    "    if fact_messages>limit_messages:\n",
    "        add_pay_per_messages = (fact_messages - limit_messages) * rub_per_message\n",
    "    else: \n",
    "        add_pay_per_messages = 0\n",
    "        \n",
    "    #для интернет-трафика\n",
    "    if fact_internet>limit_internet:\n",
    "        add_pay_per_gb = (fact_internet - limit_internet) * rub_per_gb\n",
    "    else: \n",
    "        add_pay_per_gb = 0\n",
    "    \n",
    "    #расчет месячной выручки с одного абонента\n",
    "    monthly_revenue = rub_monthly_fee + add_pay_per_messages + add_pay_per_minutes + add_pay_per_gb\n",
    "    \n",
    "    return monthly_revenue"
   ]
  },
  {
   "cell_type": "markdown",
   "metadata": {
    "cellId": "41l5visrd4nwkbfuuzu1m"
   },
   "source": [
    "Выполним расчет с использованием метода `apply`, выручку сохраним в новом столбце `monthly_revenue`:"
   ]
  },
  {
   "cell_type": "code",
   "execution_count": 70,
   "metadata": {
    "cellId": "8w5g9ywyqqbeihjlg1zb19"
   },
   "outputs": [],
   "source": [
    "#применем функци расчета выручки\n",
    "df['monthly_revenue'] = df.apply(monthly_revenue, axis=1)"
   ]
  },
  {
   "cell_type": "markdown",
   "metadata": {
    "cellId": "1jvljo6pu2c1e0jyg740t5"
   },
   "source": [
    "Посмотрим появилися ли новый столбец:"
   ]
  },
  {
   "cell_type": "code",
   "execution_count": 71,
   "metadata": {
    "cellId": "l05wsyogidlp12jomnjkc"
   },
   "outputs": [
    {
     "name": "stdout",
     "output_type": "stream",
     "text": [
      "<class 'pandas.core.frame.DataFrame'>\n",
      "Int64Index: 3214 entries, 0 to 3213\n",
      "Data columns (total 20 columns):\n",
      " #   Column                 Non-Null Count  Dtype  \n",
      "---  ------                 --------------  -----  \n",
      " 0   user_id                3214 non-null   int64  \n",
      " 1   month                  3214 non-null   int64  \n",
      " 2   month_mb_used          3214 non-null   float64\n",
      " 3   month_gb_used          3214 non-null   float64\n",
      " 4   count_all_calls        3214 non-null   float64\n",
      " 5   month_call_minutes     3214 non-null   float64\n",
      " 6   count_non_null_calls   3214 non-null   float64\n",
      " 7   month_messages         3214 non-null   float64\n",
      " 8   age                    3214 non-null   int64  \n",
      " 9   city                   3214 non-null   object \n",
      " 10  tariff_name            3214 non-null   object \n",
      " 11  messages_included      3214 non-null   int64  \n",
      " 12  mb_per_month_included  3214 non-null   int64  \n",
      " 13  minutes_included       3214 non-null   int64  \n",
      " 14  rub_monthly_fee        3214 non-null   int64  \n",
      " 15  rub_per_gb             3214 non-null   int64  \n",
      " 16  rub_per_message        3214 non-null   int64  \n",
      " 17  rub_per_minute         3214 non-null   int64  \n",
      " 18  gb_per_month_included  3214 non-null   int64  \n",
      " 19  monthly_revenue        3214 non-null   float64\n",
      "dtypes: float64(7), int64(11), object(2)\n",
      "memory usage: 527.3+ KB\n"
     ]
    }
   ],
   "source": [
    "#вывод общей информации о таблице\n",
    "df.info()"
   ]
  },
  {
   "cell_type": "markdown",
   "metadata": {
    "cellId": "o6oki4zle4lg4yv85s2y6t"
   },
   "source": [
    "Выведем первые строки таблицы:"
   ]
  },
  {
   "cell_type": "code",
   "execution_count": 72,
   "metadata": {
    "cellId": "aetbrdxkd3vp0tg76844wk"
   },
   "outputs": [
    {
     "data": {
      "text/html": [
       "<div>\n",
       "<style scoped>\n",
       "    .dataframe tbody tr th:only-of-type {\n",
       "        vertical-align: middle;\n",
       "    }\n",
       "\n",
       "    .dataframe tbody tr th {\n",
       "        vertical-align: top;\n",
       "    }\n",
       "\n",
       "    .dataframe thead th {\n",
       "        text-align: right;\n",
       "    }\n",
       "</style>\n",
       "<table border=\"1\" class=\"dataframe\">\n",
       "  <thead>\n",
       "    <tr style=\"text-align: right;\">\n",
       "      <th></th>\n",
       "      <th>user_id</th>\n",
       "      <th>month</th>\n",
       "      <th>month_mb_used</th>\n",
       "      <th>month_gb_used</th>\n",
       "      <th>count_all_calls</th>\n",
       "      <th>month_call_minutes</th>\n",
       "      <th>count_non_null_calls</th>\n",
       "      <th>month_messages</th>\n",
       "      <th>age</th>\n",
       "      <th>city</th>\n",
       "      <th>tariff_name</th>\n",
       "      <th>messages_included</th>\n",
       "      <th>mb_per_month_included</th>\n",
       "      <th>minutes_included</th>\n",
       "      <th>rub_monthly_fee</th>\n",
       "      <th>rub_per_gb</th>\n",
       "      <th>rub_per_message</th>\n",
       "      <th>rub_per_minute</th>\n",
       "      <th>gb_per_month_included</th>\n",
       "      <th>monthly_revenue</th>\n",
       "    </tr>\n",
       "  </thead>\n",
       "  <tbody>\n",
       "    <tr>\n",
       "      <th>0</th>\n",
       "      <td>1000</td>\n",
       "      <td>5</td>\n",
       "      <td>2253.49</td>\n",
       "      <td>3.0</td>\n",
       "      <td>22.0</td>\n",
       "      <td>159.0</td>\n",
       "      <td>17.0</td>\n",
       "      <td>22.0</td>\n",
       "      <td>52</td>\n",
       "      <td>Краснодар</td>\n",
       "      <td>ultra</td>\n",
       "      <td>1000</td>\n",
       "      <td>30720</td>\n",
       "      <td>3000</td>\n",
       "      <td>1950</td>\n",
       "      <td>150</td>\n",
       "      <td>1</td>\n",
       "      <td>1</td>\n",
       "      <td>30</td>\n",
       "      <td>1950.0</td>\n",
       "    </tr>\n",
       "    <tr>\n",
       "      <th>1</th>\n",
       "      <td>1000</td>\n",
       "      <td>6</td>\n",
       "      <td>23233.77</td>\n",
       "      <td>23.0</td>\n",
       "      <td>43.0</td>\n",
       "      <td>172.0</td>\n",
       "      <td>28.0</td>\n",
       "      <td>60.0</td>\n",
       "      <td>52</td>\n",
       "      <td>Краснодар</td>\n",
       "      <td>ultra</td>\n",
       "      <td>1000</td>\n",
       "      <td>30720</td>\n",
       "      <td>3000</td>\n",
       "      <td>1950</td>\n",
       "      <td>150</td>\n",
       "      <td>1</td>\n",
       "      <td>1</td>\n",
       "      <td>30</td>\n",
       "      <td>1950.0</td>\n",
       "    </tr>\n",
       "    <tr>\n",
       "      <th>2</th>\n",
       "      <td>1000</td>\n",
       "      <td>7</td>\n",
       "      <td>14003.64</td>\n",
       "      <td>14.0</td>\n",
       "      <td>47.0</td>\n",
       "      <td>340.0</td>\n",
       "      <td>41.0</td>\n",
       "      <td>75.0</td>\n",
       "      <td>52</td>\n",
       "      <td>Краснодар</td>\n",
       "      <td>ultra</td>\n",
       "      <td>1000</td>\n",
       "      <td>30720</td>\n",
       "      <td>3000</td>\n",
       "      <td>1950</td>\n",
       "      <td>150</td>\n",
       "      <td>1</td>\n",
       "      <td>1</td>\n",
       "      <td>30</td>\n",
       "      <td>1950.0</td>\n",
       "    </tr>\n",
       "    <tr>\n",
       "      <th>3</th>\n",
       "      <td>1000</td>\n",
       "      <td>8</td>\n",
       "      <td>14055.93</td>\n",
       "      <td>14.0</td>\n",
       "      <td>52.0</td>\n",
       "      <td>408.0</td>\n",
       "      <td>42.0</td>\n",
       "      <td>81.0</td>\n",
       "      <td>52</td>\n",
       "      <td>Краснодар</td>\n",
       "      <td>ultra</td>\n",
       "      <td>1000</td>\n",
       "      <td>30720</td>\n",
       "      <td>3000</td>\n",
       "      <td>1950</td>\n",
       "      <td>150</td>\n",
       "      <td>1</td>\n",
       "      <td>1</td>\n",
       "      <td>30</td>\n",
       "      <td>1950.0</td>\n",
       "    </tr>\n",
       "    <tr>\n",
       "      <th>4</th>\n",
       "      <td>1000</td>\n",
       "      <td>9</td>\n",
       "      <td>14568.91</td>\n",
       "      <td>15.0</td>\n",
       "      <td>58.0</td>\n",
       "      <td>466.0</td>\n",
       "      <td>46.0</td>\n",
       "      <td>57.0</td>\n",
       "      <td>52</td>\n",
       "      <td>Краснодар</td>\n",
       "      <td>ultra</td>\n",
       "      <td>1000</td>\n",
       "      <td>30720</td>\n",
       "      <td>3000</td>\n",
       "      <td>1950</td>\n",
       "      <td>150</td>\n",
       "      <td>1</td>\n",
       "      <td>1</td>\n",
       "      <td>30</td>\n",
       "      <td>1950.0</td>\n",
       "    </tr>\n",
       "  </tbody>\n",
       "</table>\n",
       "</div>"
      ],
      "text/plain": [
       "   user_id  month  month_mb_used  month_gb_used  count_all_calls  \\\n",
       "0     1000      5        2253.49            3.0             22.0   \n",
       "1     1000      6       23233.77           23.0             43.0   \n",
       "2     1000      7       14003.64           14.0             47.0   \n",
       "3     1000      8       14055.93           14.0             52.0   \n",
       "4     1000      9       14568.91           15.0             58.0   \n",
       "\n",
       "   month_call_minutes  count_non_null_calls  month_messages  age       city  \\\n",
       "0               159.0                  17.0            22.0   52  Краснодар   \n",
       "1               172.0                  28.0            60.0   52  Краснодар   \n",
       "2               340.0                  41.0            75.0   52  Краснодар   \n",
       "3               408.0                  42.0            81.0   52  Краснодар   \n",
       "4               466.0                  46.0            57.0   52  Краснодар   \n",
       "\n",
       "  tariff_name  messages_included  mb_per_month_included  minutes_included  \\\n",
       "0       ultra               1000                  30720              3000   \n",
       "1       ultra               1000                  30720              3000   \n",
       "2       ultra               1000                  30720              3000   \n",
       "3       ultra               1000                  30720              3000   \n",
       "4       ultra               1000                  30720              3000   \n",
       "\n",
       "   rub_monthly_fee  rub_per_gb  rub_per_message  rub_per_minute  \\\n",
       "0             1950         150                1               1   \n",
       "1             1950         150                1               1   \n",
       "2             1950         150                1               1   \n",
       "3             1950         150                1               1   \n",
       "4             1950         150                1               1   \n",
       "\n",
       "   gb_per_month_included  monthly_revenue  \n",
       "0                     30           1950.0  \n",
       "1                     30           1950.0  \n",
       "2                     30           1950.0  \n",
       "3                     30           1950.0  \n",
       "4                     30           1950.0  "
      ]
     },
     "execution_count": 72,
     "metadata": {},
     "output_type": "execute_result"
    }
   ],
   "source": [
    "#вывод первых строк таблицы df\n",
    "df.head()"
   ]
  },
  {
   "cell_type": "markdown",
   "metadata": {
    "cellId": "uu6xdgsgqanwk9wtmr9ul"
   },
   "source": [
    "И первые строки нам сразу подсказывают, что клиентов, которые укладываются в абонентскую плату, будет много.\n",
    "На этом закончим стадию подготовки данных."
   ]
  },
  {
   "cell_type": "markdown",
   "metadata": {
    "cellId": "tdp1h65ldd2n0cpd5hexf"
   },
   "source": [
    "### Вывод"
   ]
  },
  {
   "cell_type": "markdown",
   "metadata": {
    "cellId": "vpw74bltiiaztzthqnz2i"
   },
   "source": [
    "На стадии подготовки данных мы выполнили следующие действия:\n",
    "- удалили лишний столбец\n",
    "- изменили названия некоторых столбцов\n",
    "- обнаружили 38 абонентов, отказавшихся от тарифа, и нам удалось изменить формат данных в столбце `churn_date` на дату и время без заполнения пропусков, далее будем помнить о пропущенных значениях в cтолбце `churn_date` таблицы `users`\n",
    "- изменили тип данных там, где это нужно\n",
    "- правильно округлили минуты и интернет-трафик\n",
    "- сделали сводную таблицу `df`, в которую собрали всю нужную информацию для дальнейшего анализа по каждому абоненту по месяцам года\n",
    "- добавили месячную выручку для каждого месяца по каждому абоненту\n",
    "- итоговая таблица `df` не содержит пропущенных значений, в ней есть также абоненты, отказавшиеся от тарифа, таблица готова к дальнейшему анализу"
   ]
  },
  {
   "cell_type": "markdown",
   "metadata": {
    "cellId": "jytwi3m32gjp2cu8gipz3c"
   },
   "source": [
    "## Шаг 3. Анализ данных"
   ]
  },
  {
   "cell_type": "markdown",
   "metadata": {
    "cellId": "f8nuo93fvqvulqjdfra6v"
   },
   "source": [
    "Опишите поведение клиентов оператора, исходя из выборки. Сколько минут разговора, сколько сообщений и какой объём интернет-трафика требуется пользователям каждого тарифа в месяц? Посчитайте среднее количество, дисперсию и стандартное отклонение. Постройте гистограммы. Опишите распределения."
   ]
  },
  {
   "cell_type": "markdown",
   "metadata": {
    "cellId": "dkltuf121g4y20a3t11g5b"
   },
   "source": [
    "### Клиенты, отказавшиеся от тарифа"
   ]
  },
  {
   "cell_type": "markdown",
   "metadata": {
    "cellId": "wgwdjucqrkij8ma5ubzuf"
   },
   "source": [
    "Сохраним информацию о клиентах, отказавшихся от тарифа, в переменную `churn_user_id`:"
   ]
  },
  {
   "cell_type": "code",
   "execution_count": 73,
   "metadata": {
    "cellId": "n4bnrnqce0so54xj48qdw"
   },
   "outputs": [],
   "source": [
    "#сохраняем в отдельную переменную клиентов, отказавшихся от тарифа\n",
    "churn_users = users[users['churn_date'].isna()!=True].reset_index()"
   ]
  },
  {
   "cell_type": "markdown",
   "metadata": {
    "cellId": "ldiuloq1mclgu761um0fx"
   },
   "source": [
    "Процент клиентов исходной выборки, отказавшихся от тарифа:"
   ]
  },
  {
   "cell_type": "code",
   "execution_count": 74,
   "metadata": {
    "cellId": "nt80ngq20nbfz7m9ci0g4t"
   },
   "outputs": [
    {
     "data": {
      "text/plain": [
       "7.6"
      ]
     },
     "execution_count": 74,
     "metadata": {},
     "output_type": "execute_result"
    }
   ],
   "source": [
    "#вычисляем процент клиентов, отказавшихся от тарифа\n",
    "round(len(churn_users)/len(users)*100,3)"
   ]
  },
  {
   "cell_type": "markdown",
   "metadata": {
    "cellId": "66lwb3qsrbfp7dipnr64xd"
   },
   "source": [
    "**7.6%** клиентов отказались от тарифа. Какая причина их отказа сложно сказать. Также мы не знаем сменили они тариф и остались клиентом \"Мегалайна\" или выбрали другого сотового оператора."
   ]
  },
  {
   "cell_type": "markdown",
   "metadata": {
    "cellId": "tcbslm9nvcihpe77bgi9b"
   },
   "source": [
    "Посмотрим, какой тариф был у клиентов, отказавшихся от тарифа:"
   ]
  },
  {
   "cell_type": "code",
   "execution_count": 75,
   "metadata": {
    "cellId": "70cuigqcvskjyrozqiur5"
   },
   "outputs": [
    {
     "data": {
      "text/plain": [
       "smart    23\n",
       "ultra    15\n",
       "Name: tariff_name, dtype: int64"
      ]
     },
     "execution_count": 75,
     "metadata": {},
     "output_type": "execute_result"
    }
   ],
   "source": [
    "#вывод уникальных значений для столбца с наименованием тарифа\n",
    "churn_users['tariff_name'].value_counts()"
   ]
  },
  {
   "cell_type": "markdown",
   "metadata": {
    "cellId": "0g2lfjf1fd76ng6gilcwh8"
   },
   "source": [
    "С тарифом `smart` отток клиентов в 1,5 раза больше, чем с тарифом `ultra`. Общая выборка 38 клиентов из 500."
   ]
  },
  {
   "cell_type": "markdown",
   "metadata": {
    "cellId": "wrm5d1v2gtj3qpkodg1f"
   },
   "source": [
    "Выделим из сводной таблицы `df` клиентов, отказавшихся от тарифа с помощью проверки `user_id` в новую переменную `df_churn_users`:"
   ]
  },
  {
   "cell_type": "code",
   "execution_count": 76,
   "metadata": {
    "cellId": "760109rk4jccrxlyydno0r"
   },
   "outputs": [],
   "source": [
    "#сохраняем информацию о клиентах, отказавшихся от тарифа в отдельную таблицу\n",
    "df_churn_users = df[df['user_id'].isin(churn_users['user_id'])].reset_index()"
   ]
  },
  {
   "cell_type": "markdown",
   "metadata": {
    "cellId": "zuvb749fdgdukh0ukouwh"
   },
   "source": [
    "Посмотрим сколько информации в сводной таблице о клиентах, отказавшихся от тарифа:"
   ]
  },
  {
   "cell_type": "code",
   "execution_count": 77,
   "metadata": {
    "cellId": "ty5t2ziizai3t0crlbnaq"
   },
   "outputs": [
    {
     "name": "stdout",
     "output_type": "stream",
     "text": [
      "Строк с информацией о клиентах, отказавшихся от тарифа: 187\n",
      "Уникальных клиентов, отказавшихся от тарифа: 36\n"
     ]
    }
   ],
   "source": [
    "#срок в полученной таблице\n",
    "print('Строк с информацией о клиентах, отказавшихся от тарифа:', \n",
    "      len(df_churn_users))\n",
    "\n",
    "#уникальных клиентов\n",
    "print('Уникальных клиентов, отказавшихся от тарифа:', \n",
    "      len(df_churn_users['user_id'].unique()))"
   ]
  },
  {
   "cell_type": "markdown",
   "metadata": {
    "cellId": "a5p2e76xasocpr9o53ueuv"
   },
   "source": [
    "36 клиентов и 187 строк информации о них.\n",
    "\n",
    "Что могло быть причиной отказа от тарифа? Посмотрим укладавлись ли эти клиенты в трафик по тарифу.\n",
    "\n",
    "Выделим всех клиентов, у которых было превышение лимита хотя бы по одной услуге (звонки, сообщения, интернет) сохраним данные о них в `df_churn_users_limits`:"
   ]
  },
  {
   "cell_type": "code",
   "execution_count": 78,
   "metadata": {
    "cellId": "u5j668jnmhnf5ju1k5ytjp"
   },
   "outputs": [],
   "source": [
    "#выделяем клиентов с превышением лимита\n",
    "df_churn_users_limits = ( df_churn_users\n",
    "                         .loc[(df_churn_users['month_messages']>df_churn_users['messages_included'])\n",
    "                              |\n",
    "                              (df_churn_users['month_call_minutes']>df_churn_users['minutes_included'])\n",
    "                              |\n",
    "                              (df_churn_users['month_gb_used']>df_churn_users['gb_per_month_included'])\n",
    "                             ]\n",
    "                        )"
   ]
  },
  {
   "cell_type": "markdown",
   "metadata": {
    "cellId": "htkcsittff8mri9kta2uho"
   },
   "source": [
    "Всего клиентов, превысивших лимит:"
   ]
  },
  {
   "cell_type": "code",
   "execution_count": 79,
   "metadata": {
    "cellId": "mw7gc4edhqf6wm47nmp6fi"
   },
   "outputs": [
    {
     "data": {
      "text/plain": [
       "18"
      ]
     },
     "execution_count": 79,
     "metadata": {},
     "output_type": "execute_result"
    }
   ],
   "source": [
    "#размерность массива с уникальными user_id клиентов превысивших какой-либо лимит тарифа\n",
    "len(df_churn_users_limits['user_id'].unique())"
   ]
  },
  {
   "cell_type": "markdown",
   "metadata": {
    "cellId": "9x4u69or7lhi3p5z45h7od"
   },
   "source": [
    "Из них превысили лимит сообщений:"
   ]
  },
  {
   "cell_type": "code",
   "execution_count": 80,
   "metadata": {
    "cellId": "jd9re9ib4aedumc5igdke"
   },
   "outputs": [
    {
     "data": {
      "text/plain": [
       "5"
      ]
     },
     "execution_count": 80,
     "metadata": {},
     "output_type": "execute_result"
    }
   ],
   "source": [
    "#количество клиентов, превысивших лимит сообщений\n",
    "len(df_churn_users_limits.loc[df_churn_users['month_messages']>df_churn_users['messages_included']]['user_id'].unique())"
   ]
  },
  {
   "cell_type": "markdown",
   "metadata": {
    "cellId": "ffenccr3eci3so7697r1mk"
   },
   "source": [
    "Превысили лимит звонков:"
   ]
  },
  {
   "cell_type": "code",
   "execution_count": 81,
   "metadata": {
    "cellId": "bs03xa2t8qqpy3u9gb3t3"
   },
   "outputs": [
    {
     "data": {
      "text/plain": [
       "7"
      ]
     },
     "execution_count": 81,
     "metadata": {},
     "output_type": "execute_result"
    }
   ],
   "source": [
    "#количество клиентов, превысивших лимит звонков\n",
    "len(df_churn_users_limits.loc[df_churn_users['month_call_minutes']>df_churn_users['minutes_included']]['user_id'].unique())"
   ]
  },
  {
   "cell_type": "markdown",
   "metadata": {
    "cellId": "4s4qtsbvwr65gg025pqo1t"
   },
   "source": [
    "Информацию о тех, кто превысил лимит интернет-трафика сохраним в `churn_user_id_gd_limit`, и выведем количество уникальных пользователей:"
   ]
  },
  {
   "cell_type": "code",
   "execution_count": 82,
   "metadata": {
    "cellId": "ytaacsyj3tmqulcxfx0zuj"
   },
   "outputs": [
    {
     "data": {
      "text/plain": [
       "17"
      ]
     },
     "execution_count": 82,
     "metadata": {},
     "output_type": "execute_result"
    }
   ],
   "source": [
    "#сохраняем user_id клиентов, превысивших лимит интернета\n",
    "churn_user_id_gd_limit = (df_churn_users_limits\n",
    "                          .loc[df_churn_users['month_gb_used']>df_churn_users['gb_per_month_included']]\n",
    "                          ['user_id']\n",
    "                          .unique()\n",
    "                         )\n",
    "\n",
    "#количество уникальных user_id\n",
    "len(churn_user_id_gd_limit)"
   ]
  },
  {
   "cell_type": "markdown",
   "metadata": {
    "cellId": "lyoyo1si8yqflglu9s5bm6"
   },
   "source": [
    "17 человек из 38 превысили лимит интернета. Это могло стать причиной отказа от тарифа. \n",
    "\n",
    "Посмотрим в каком тарифе больше случаев превышения интернет-трафика:"
   ]
  },
  {
   "cell_type": "code",
   "execution_count": 83,
   "metadata": {
    "cellId": "if0pw3ohb7aefefbxe0g"
   },
   "outputs": [
    {
     "data": {
      "text/plain": [
       "smart    54\n",
       "ultra    10\n",
       "Name: tariff_name, dtype: int64"
      ]
     },
     "execution_count": 83,
     "metadata": {},
     "output_type": "execute_result"
    }
   ],
   "source": [
    "#применяем value_counts к срезу данных по месяцам и user_id для клиентов, превысивших интернет-трафик\n",
    "df_churn_users_limits.loc[df_churn_users['month_gb_used']>df_churn_users['gb_per_month_included']]['tariff_name'].value_counts()"
   ]
  },
  {
   "cell_type": "markdown",
   "metadata": {
    "cellId": "qo517w9f68c6unbqr3wiv"
   },
   "source": [
    "54 случая превышения трафика в **Smart** против 10 случае превышения трафика в **Ultra**. \n",
    "\n",
    "Но это количество месяцев. Теперь посмотрим тарифы у уникальных 17 пользователей:"
   ]
  },
  {
   "cell_type": "code",
   "execution_count": 84,
   "metadata": {
    "cellId": "m1j7p4sjmmqb3ewvld8n"
   },
   "outputs": [
    {
     "data": {
      "text/plain": [
       "smart    14\n",
       "ultra     3\n",
       "Name: tariff_name, dtype: int64"
      ]
     },
     "execution_count": 84,
     "metadata": {},
     "output_type": "execute_result"
    }
   ],
   "source": [
    "#смотрим тариф у никальных 17 пользователей с помощью таблицы `users`,\n",
    "#где хранится информация о пользователях\n",
    "(\n",
    "    users\n",
    "    [users['user_id'].isin(churn_user_id_gd_limit)]\n",
    "    ['tariff_name']\n",
    "    .value_counts()\n",
    ")"
   ]
  },
  {
   "cell_type": "markdown",
   "metadata": {
    "cellId": "w7w19exk2lor44p68cf48"
   },
   "source": [
    "Здесь мы тоже видим подтверждение: 14 из 17 клиентов, превышавших лимит интернет-трафика имели тариф **Smart**.\n",
    "\n",
    "Удалим из исходной `users` строки с клиентами, отказавшимися от тарифа:"
   ]
  },
  {
   "cell_type": "code",
   "execution_count": 85,
   "metadata": {
    "cellId": "1kahc5f2anzmtqlr1zv6c"
   },
   "outputs": [
    {
     "data": {
      "text/plain": [
       "462"
      ]
     },
     "execution_count": 85,
     "metadata": {},
     "output_type": "execute_result"
    }
   ],
   "source": [
    "#удаляем из users клиентов, отказавшихся от тарифа\n",
    "acting_users = users.drop(users.loc[(users['churn_date'].isna())==False].index).reset_index()\n",
    "\n",
    "#количество активных клиентов\n",
    "len(acting_users)"
   ]
  },
  {
   "cell_type": "markdown",
   "metadata": {
    "cellId": "cd3cpdijfngtuh9u2qrll"
   },
   "source": [
    "462 активных клиента. Посмотрим срок пользования тарифом по активным клиентам:"
   ]
  },
  {
   "cell_type": "code",
   "execution_count": 86,
   "metadata": {
    "cellId": "s8yd0a7ooiemo6e8a73xwi"
   },
   "outputs": [],
   "source": [
    "#добавляем новый столбец, смотрим сколько клиент пользуется тарифом с момента регистрации\n",
    "acting_users['period_use'] = (pd.to_datetime('2018-12-31',format='%Y-%m-%d')-acting_users['reg_date']).dt.ceil('D')"
   ]
  },
  {
   "cell_type": "markdown",
   "metadata": {
    "cellId": "ke11gxpq7bqiplqqenmyj"
   },
   "source": [
    "Выведем первые строки нового столбца:"
   ]
  },
  {
   "cell_type": "code",
   "execution_count": 87,
   "metadata": {
    "cellId": "r7osuq6sohrld91edxrw"
   },
   "outputs": [
    {
     "data": {
      "text/plain": [
       "0   220 days\n",
       "1    60 days\n",
       "2   197 days\n",
       "3   136 days\n",
       "4   231 days\n",
       "Name: period_use, dtype: timedelta64[ns]"
      ]
     },
     "execution_count": 87,
     "metadata": {},
     "output_type": "execute_result"
    }
   ],
   "source": [
    "#первые строки столбца\n",
    "acting_users['period_use'].head()"
   ]
  },
  {
   "cell_type": "markdown",
   "metadata": {
    "cellId": "2gf250zlq3ddonlpfk08dq"
   },
   "source": [
    "Посмотрим характристику выборки:"
   ]
  },
  {
   "cell_type": "code",
   "execution_count": 88,
   "metadata": {
    "cellId": "n7m3suz0d7e1h6fao1bmb3"
   },
   "outputs": [
    {
     "data": {
      "text/plain": [
       "count                            462\n",
       "mean     184 days 03:03:53.766233766\n",
       "std      103 days 02:44:46.269932774\n",
       "min                  0 days 00:00:00\n",
       "25%                 94 days 06:00:00\n",
       "50%                184 days 12:00:00\n",
       "75%                270 days 12:00:00\n",
       "max                364 days 00:00:00\n",
       "Name: period_use, dtype: object"
      ]
     },
     "execution_count": 88,
     "metadata": {},
     "output_type": "execute_result"
    }
   ],
   "source": [
    "#хараткристика выборки столбца 'period_use'\n",
    "acting_users['period_use'].describe()"
   ]
  },
  {
   "cell_type": "markdown",
   "metadata": {
    "cellId": "gs7nhbwavcnaswxp1vk895"
   },
   "source": [
    "Средняя и медиана совпадают - у нас есть данные о клиентах, которые в среднем пользуются тарифом 184 дня. Это достаточная продолжительность, что сделать выводы о перспективности тарифа."
   ]
  },
  {
   "cell_type": "markdown",
   "metadata": {
    "cellId": "tkk7tn5yv08dcr6wjmf89f"
   },
   "source": [
    "В дальнейшем мы будем анализировать данные и выбирать оптимальный тариф.\n",
    "\n",
    "Поэтому **исключим из выборки клиентов, отказавшихся от тарифа**. \n",
    "\n",
    "Для маркетинговой компании интересно в первую очередь поведение клиентов, **не отказавшихся от тарифа**."
   ]
  },
  {
   "cell_type": "markdown",
   "metadata": {
    "cellId": "mls3uzocv6998yfixz7ue"
   },
   "source": [
    "Выведем исходное количество строк в `df`:"
   ]
  },
  {
   "cell_type": "code",
   "execution_count": 89,
   "metadata": {
    "cellId": "ouj3eiyeslo5b7kpjlv6mf"
   },
   "outputs": [
    {
     "data": {
      "text/plain": [
       "3214"
      ]
     },
     "execution_count": 89,
     "metadata": {},
     "output_type": "execute_result"
    }
   ],
   "source": [
    "#количество строк в df\n",
    "len(df)"
   ]
  },
  {
   "cell_type": "markdown",
   "metadata": {
    "cellId": "i689qobvd5b26o51icyq5lj"
   },
   "source": [
    "Удалим строки с `user_id` клиентов, отказавшихся от тарифа:"
   ]
  },
  {
   "cell_type": "code",
   "execution_count": 90,
   "metadata": {
    "cellId": "paw925j0wrhve8h3nqi19h"
   },
   "outputs": [],
   "source": [
    "#удаляем строки с user_id клиентов, отказавшихся от тарифа\n",
    "#используем метод drop(), в который передаём индексы строк,\n",
    "#в которых user_id равен user_id из таблицы `users` \n",
    "#с непропущенным значениями в столбце `churn_date`\n",
    "df = df.drop(df\n",
    "             .loc[df['user_id']\n",
    "                  .isin(users[users['churn_date']\n",
    "                              .isna()==False]\n",
    "                        ['user_id']\n",
    "                        .unique())\n",
    "                 ]\n",
    "             .index\n",
    "            )"
   ]
  },
  {
   "cell_type": "markdown",
   "metadata": {
    "cellId": "r56jhe8e5gd1n46loxevgz"
   },
   "source": [
    "Проверим сколько строк удалилось:"
   ]
  },
  {
   "cell_type": "code",
   "execution_count": 91,
   "metadata": {
    "cellId": "3w5oz0eq0namave30cvcgk"
   },
   "outputs": [
    {
     "data": {
      "text/plain": [
       "3027"
      ]
     },
     "execution_count": 91,
     "metadata": {},
     "output_type": "execute_result"
    }
   ],
   "source": [
    "#количество строк в df после удаления\n",
    "len(df)"
   ]
  },
  {
   "cell_type": "markdown",
   "metadata": {
    "cellId": "qhjapqbmfh2k3gaqnzji2"
   },
   "source": [
    "Итак, мы удалили 187 строк из 3214 (это около **5,81%**) сводной таблицы для дальнейшего анализа. \n",
    "\n",
    "Теперь для анализа доступна информация о пользователях, пользующихся тарифом на момент выгрузки."
   ]
  },
  {
   "cell_type": "markdown",
   "metadata": {
    "cellId": "kfj11mc4ls3mk9gys2bwp"
   },
   "source": [
    "### Проанализируем поведение клиентов"
   ]
  },
  {
   "cell_type": "markdown",
   "metadata": {
    "cellId": "m58o5hj96skqc3k268q36l"
   },
   "source": [
    "Для начала посмотрим какой тариф более популярен среди клиентов:"
   ]
  },
  {
   "cell_type": "markdown",
   "metadata": {
    "cellId": "xox4o98v14mh07vieliq"
   },
   "source": [
    "Посмотрим, какой тариф более предпочтителен в выборке из 500 клиентов (но рассматривать будем только тех, кто пользуется тарифом, не отказался от него):"
   ]
  },
  {
   "cell_type": "code",
   "execution_count": 92,
   "metadata": {
    "cellId": "068peuipnilg81fqeqoruu5"
   },
   "outputs": [
    {
     "data": {
      "text/plain": [
       "smart    328\n",
       "ultra    134\n",
       "Name: tariff_name, dtype: int64"
      ]
     },
     "execution_count": 92,
     "metadata": {},
     "output_type": "execute_result"
    }
   ],
   "source": [
    "#выводим количество user_id для каждого из тарифов, рассматриваем только тех, кто пользуется тарифом\n",
    "users[users['churn_date'].isna()==True]['tariff_name'].value_counts()"
   ]
  },
  {
   "cell_type": "code",
   "execution_count": 93,
   "metadata": {
    "cellId": "wvehz6nabvdhbxajjiacee"
   },
   "outputs": [
    {
     "data": {
      "text/plain": [
       "2.4477611940298507"
      ]
     },
     "execution_count": 93,
     "metadata": {},
     "output_type": "execute_result"
    }
   ],
   "source": [
    "328/134"
   ]
  },
  {
   "cell_type": "markdown",
   "metadata": {
    "cellId": "58dri9l58vug02chknn4k"
   },
   "source": [
    "Клиентов с тарифом Смарт **почти в 2,5 раза больше, чем с тарифом Ультра** (рассматриавем только клиентов, которые не отказались от тарифа).\n",
    "\n",
    "Это весомое основание для того, чтобы утверждать, что **тариф Смарт более популярен среди клиентов, чем тариф Ультра**."
   ]
  },
  {
   "cell_type": "markdown",
   "metadata": {
    "cellId": "7vh21gkwqt3ahdvc3souvs"
   },
   "source": [
    "Для анализа поведения клиентов создадим функцию вычисления характеристик выборки: \n",
    "- медианы, \n",
    "- среднего значения, \n",
    "- дисперсии выборки, \n",
    "- и стандартного отклонения.\n",
    "\n",
    "В функцию будем передавать названия рассматриваемых тарифа (Смарт или Ультра) и параметра (количество сообщений, минут разговора, интернет-трафика израсходованных за месяц).\n",
    "\n",
    "Для вычисления дисперсии выборки и стандартного отклонения используем методы библиотеки `numpy`. \n"
   ]
  },
  {
   "cell_type": "code",
   "execution_count": 94,
   "metadata": {
    "cellId": "ewhd7fneoptl1iyismqir"
   },
   "outputs": [],
   "source": [
    "#функция расчета характеристик выборки столбцов с параметрами для выбранного тарифа\n",
    "def user_researche(tariff_input, month_parameter):\n",
    "    \n",
    "    #срез датафрейма по заданному тарифу\n",
    "    df_researche = df[df['tariff_name']==tariff_input]\n",
    "    \n",
    "    #вычисление медианы\n",
    "    median_value = round(df_researche[month_parameter].median(),3)\n",
    "    \n",
    "    #среднее\n",
    "    mean_value = round(df_researche[month_parameter].mean(),3)\n",
    "    \n",
    "    #дисперсия выборки\n",
    "    variance_estimate = round(np.var(df_researche[month_parameter],ddof=1),3)\n",
    "    \n",
    "    #страндартное отклонение выборки\n",
    "    standart_deviation_astimatte = round(np.std(df_researche[month_parameter],ddof=1), 3)\n",
    "    \n",
    "    \n",
    "    return [tariff_input, month_parameter, median_value, mean_value, variance_estimate, standart_deviation_astimatte] \n"
   ]
  },
  {
   "cell_type": "markdown",
   "metadata": {
    "cellId": "psrei07035ov9utldeyg2"
   },
   "source": [
    "С помощью цикла визуализируем результат вычислений среднего, дисперсии выборки и стандартного отклонения выборки для столбцов.\n",
    "\n",
    "Введём массивы с названием параметров столбцов и с названием тарифов:"
   ]
  },
  {
   "cell_type": "code",
   "execution_count": 95,
   "metadata": {
    "cellId": "7kdyiwi1lc94qp4oumpgfx"
   },
   "outputs": [],
   "source": [
    "#массив названий столбцов\n",
    "array_3 = ['month_call_minutes', 'month_messages','month_gb_used']\n",
    "\n",
    "#массив тарифов\n",
    "array_tariffs = ['smart', 'ultra']"
   ]
  },
  {
   "cell_type": "markdown",
   "metadata": {
    "cellId": "qehx4m69r9oxw7hrzogqd"
   },
   "source": [
    "Используем функцию в цикле и сохраним результат вычеслений в `array_for_analyse`:"
   ]
  },
  {
   "cell_type": "code",
   "execution_count": 96,
   "metadata": {
    "cellId": "5beemmnykjnu471ieupql"
   },
   "outputs": [
    {
     "data": {
      "text/plain": [
       "[['smart', 'month_call_minutes', 430.0, 422.774, 36558.95, 191.204],\n",
       " ['ultra', 'month_call_minutes', 523.0, 531.931, 102702.468, 320.472],\n",
       " ['smart', 'month_messages', 28.0, 33.588, 808.839, 28.44],\n",
       " ['ultra', 'month_messages', 40.0, 51.219, 2337.158, 48.344],\n",
       " ['smart', 'month_gb_used', 17.0, 16.39, 32.652, 5.714],\n",
       " ['ultra', 'month_gb_used', 19.0, 19.611, 95.038, 9.749]]"
      ]
     },
     "execution_count": 96,
     "metadata": {},
     "output_type": "execute_result"
    }
   ],
   "source": [
    "#пустой массив для сохранения результата\n",
    "array_for_analyse=[]\n",
    "\n",
    "#цикл для вызова функции\n",
    "for name in array_3:\n",
    "    for tariff in array_tariffs:\n",
    "        #сохранение результата в array_for_analyse\n",
    "        array_for_analyse.append(user_researche(tariff,name))\n",
    "        \n",
    "#вывод полученного результата\n",
    "array_for_analyse"
   ]
  },
  {
   "cell_type": "markdown",
   "metadata": {
    "cellId": "9ap9eugdqicigdrvy99ue"
   },
   "source": [
    "Преобразуем полученный список списков в DataFrame с помощью инструментов библиотеки `pandas`:"
   ]
  },
  {
   "cell_type": "code",
   "execution_count": 97,
   "metadata": {
    "cellId": "sx55e1wfyy9jns8vvuii3"
   },
   "outputs": [
    {
     "data": {
      "text/html": [
       "<div>\n",
       "<style scoped>\n",
       "    .dataframe tbody tr th:only-of-type {\n",
       "        vertical-align: middle;\n",
       "    }\n",
       "\n",
       "    .dataframe tbody tr th {\n",
       "        vertical-align: top;\n",
       "    }\n",
       "\n",
       "    .dataframe thead th {\n",
       "        text-align: right;\n",
       "    }\n",
       "</style>\n",
       "<table border=\"1\" class=\"dataframe\">\n",
       "  <thead>\n",
       "    <tr style=\"text-align: right;\">\n",
       "      <th></th>\n",
       "      <th>Название тарифа</th>\n",
       "      <th>Параметр тарифа</th>\n",
       "      <th>Медиана выборки</th>\n",
       "      <th>Среднее значение</th>\n",
       "      <th>Дисперсия выборки</th>\n",
       "      <th>Стандартное отклонение выборки</th>\n",
       "    </tr>\n",
       "  </thead>\n",
       "  <tbody>\n",
       "    <tr>\n",
       "      <th>0</th>\n",
       "      <td>smart</td>\n",
       "      <td>month_call_minutes</td>\n",
       "      <td>430.0</td>\n",
       "      <td>422.774</td>\n",
       "      <td>36558.95</td>\n",
       "      <td>191.204</td>\n",
       "    </tr>\n",
       "    <tr>\n",
       "      <th>1</th>\n",
       "      <td>ultra</td>\n",
       "      <td>month_call_minutes</td>\n",
       "      <td>523.0</td>\n",
       "      <td>531.931</td>\n",
       "      <td>102702.468</td>\n",
       "      <td>320.472</td>\n",
       "    </tr>\n",
       "    <tr>\n",
       "      <th>2</th>\n",
       "      <td>smart</td>\n",
       "      <td>month_messages</td>\n",
       "      <td>28.0</td>\n",
       "      <td>33.588</td>\n",
       "      <td>808.839</td>\n",
       "      <td>28.44</td>\n",
       "    </tr>\n",
       "    <tr>\n",
       "      <th>3</th>\n",
       "      <td>ultra</td>\n",
       "      <td>month_messages</td>\n",
       "      <td>40.0</td>\n",
       "      <td>51.219</td>\n",
       "      <td>2337.158</td>\n",
       "      <td>48.344</td>\n",
       "    </tr>\n",
       "    <tr>\n",
       "      <th>4</th>\n",
       "      <td>smart</td>\n",
       "      <td>month_gb_used</td>\n",
       "      <td>17.0</td>\n",
       "      <td>16.39</td>\n",
       "      <td>32.652</td>\n",
       "      <td>5.714</td>\n",
       "    </tr>\n",
       "    <tr>\n",
       "      <th>5</th>\n",
       "      <td>ultra</td>\n",
       "      <td>month_gb_used</td>\n",
       "      <td>19.0</td>\n",
       "      <td>19.611</td>\n",
       "      <td>95.038</td>\n",
       "      <td>9.749</td>\n",
       "    </tr>\n",
       "  </tbody>\n",
       "</table>\n",
       "</div>"
      ],
      "text/plain": [
       "  Название тарифа     Параметр тарифа Медиана выборки Среднее значение  \\\n",
       "0           smart  month_call_minutes           430.0          422.774   \n",
       "1           ultra  month_call_minutes           523.0          531.931   \n",
       "2           smart      month_messages            28.0           33.588   \n",
       "3           ultra      month_messages            40.0           51.219   \n",
       "4           smart       month_gb_used            17.0            16.39   \n",
       "5           ultra       month_gb_used            19.0           19.611   \n",
       "\n",
       "  Дисперсия выборки Стандартное отклонение выборки  \n",
       "0          36558.95                        191.204  \n",
       "1        102702.468                        320.472  \n",
       "2           808.839                          28.44  \n",
       "3          2337.158                         48.344  \n",
       "4            32.652                          5.714  \n",
       "5            95.038                          9.749  "
      ]
     },
     "execution_count": 97,
     "metadata": {},
     "output_type": "execute_result"
    }
   ],
   "source": [
    "#список списков преобразуем в DataFrame, задаём названия столбцов\n",
    "array_for_analyse=pd.DataFrame(data=np.array(array_for_analyse), \n",
    "               columns=['Название тарифа', 'Параметр тарифа', 'Медиана выборки', 'Среднее значение', 'Дисперсия выборки', 'Стандартное отклонение выборки'],)\n",
    "\n",
    "#вывод на экран полученного датафрейма\n",
    "array_for_analyse"
   ]
  },
  {
   "cell_type": "markdown",
   "metadata": {
    "cellId": "wb02lxus5dsbjy5lanugd"
   },
   "source": [
    "Получили наглядный результат, по которому можно сделать следующие выводы:\n",
    "- Абоненты `smart` и `ultra` имеют разную среднюю продолжительность телефонного разговора. Абоненты `ultra` в среднем разговаривают 532 минуты, а `smart` 423 минуты. Среднее значение и медина близки внутри каждого тарифа. Стандратное отклонение выше для абонентов Ультра. \n",
    "- Стоит обратить внимание, что абонентам `ultra` доступно **3000 минут разговора в месяц**, но в среднем они используют значение минут **близкое к доступному в тарифе Смарт - 532 минуты** (в Смарт досутпно 500 минут в месяц).\n",
    "- Для количества сообщений медиана отличается от среднего выборки в двух тарифах, стандратное отклонение близко по значению к среднему. Это говорит о скосе данных, как будет показано далее это связано с тем, что очень много значений `0`, то есть SMS непопулярный вид связи среди абонентов этих двух тарифов, но в среднем абоненты `ultra` отправляют примерно на 18 сообщений больше (33 сообщения - смарт, 50 сообщений - ультра). \n",
    "- Здесь тоже стоит обратить внимание, что по тарифу Ультра **доступна 1000 сообщений в месяц**, это сильно отличается от 50 сообщений Смарт, но при этом **абоненты Ультра расходуют около 50 сообщений в месяц**.\n",
    "- расход интернет трафика в среднем по выборке: Смарт - 16,39 Гб, Ультра 19,61 Гб. Средние и медианы близки внутри тарифов. Абоненты Ультра в сренем расходуют больше интернета, чем абоненты Смарт. Доступно по тарифу: 15 Гб - Смарт, 30 Гб - Ультра. \n",
    "- Получется, что в среднем абоненты Смарт превышают доступный интернет-трафик и вынуждены заплатить по 200 руб за каждый Гб превышения."
   ]
  },
  {
   "cell_type": "markdown",
   "metadata": {
    "cellId": "szjqjyhgbecq4s3r36k0mc"
   },
   "source": [
    "Используем цикл для построения гистограмм плотности частоты и функций распределения плотности частоты для парамеров тарифа:"
   ]
  },
  {
   "cell_type": "code",
   "execution_count": 98,
   "metadata": {
    "cellId": "k503lcgp30py6yvzqnjo5",
    "scrolled": false
   },
   "outputs": [
    {
     "data": {
      "image/png": "[encoded data removed]",
      "text/plain": [
       "<Figure size 432x288 with 1 Axes>"
      ]
     },
     "metadata": {
      "needs_background": "light"
     },
     "output_type": "display_data"
    },
    {
     "data": {
      "image/png": "[encoded data removed]",
      "text/plain": [
       "<Figure size 432x288 with 1 Axes>"
      ]
     },
     "metadata": {
      "needs_background": "light"
     },
     "output_type": "display_data"
    },
    {
     "data": {
      "image/png": "[encoded data removed]",
      "text/plain": [
       "<Figure size 432x288 with 1 Axes>"
      ]
     },
     "metadata": {
      "needs_background": "light"
     },
     "output_type": "display_data"
    },
    {
     "data": {
      "image/png": "[encoded data removed]",
      "text/plain": [
       "<Figure size 432x288 with 1 Axes>"
      ]
     },
     "metadata": {
      "needs_background": "light"
     },
     "output_type": "display_data"
    },
    {
     "data": {
      "image/png": "[encoded data removed]",
      "text/plain": [
       "<Figure size 432x288 with 1 Axes>"
      ]
     },
     "metadata": {
      "needs_background": "light"
     },
     "output_type": "display_data"
    },
    {
     "data": {
      "image/png": "[encoded data removed]",
      "text/plain": [
       "<Figure size 432x288 with 1 Axes>"
      ]
     },
     "metadata": {
      "needs_background": "light"
     },
     "output_type": "display_data"
    }
   ],
   "source": [
    "#используем цикл для построения гистограмм плотности\n",
    "for name in array_3:\n",
    "    for tariff in array_tariffs:\n",
    "\n",
    "        sns.histplot(df[df['tariff_name']==tariff][name], kde=True, stat=\"density\")\n",
    "        plt.title(('Тариф:'+tariff+'    Параметр: '+name) )\n",
    "        plt.ylabel('distplot')\n",
    "        plt.grid()\n",
    "        plt.show()        "
   ]
  },
  {
   "cell_type": "markdown",
   "metadata": {
    "cellId": "gjz3ziacrl6kgv1wlkgylh"
   },
   "source": [
    "Из анализа гистограмм и функций плотностей частоты можно сделать следующие выводы:\n",
    "- функция плотности частоты для количества сообщений - скошенная вправо, так как и в том, и другом тарифе абоненты редко используют сообщения, много значений равных `0`\n",
    "- Распределения длительности телефонных разговоров у абонентов `smart` и `ultra` близки к нормальному, но около нуля есть некторое количество значений, значит есть те, кто не расходует минуты или расходует их мало, вероятно, используя мессенджеры для звонков через интернет.\n",
    "- Распределния расхода интернет-трафка близки к нормальному для двух тарифов.\n",
    "- Выбивающееся значение для `month_gd_used` в тарифе `smart` связанно с неоптимальным подбором корзин (параметр `bins`), поэтому функция распределения плотности частоты более наглядна. \n",
    "\n",
    "Ниже пример гистограммы с числом коризин 39 для столбца `month_gb_used` и абонентов `smart`. Видно, что выбивающихся значений нет, распределние близко к нормальному:"
   ]
  },
  {
   "cell_type": "code",
   "execution_count": 99,
   "metadata": {
    "cellId": "hczi7yivp6harl9z4t8te"
   },
   "outputs": [
    {
     "data": {
      "image/png": "[encoded data removed]",
      "text/plain": [
       "<Figure size 432x288 with 1 Axes>"
      ]
     },
     "metadata": {
      "needs_background": "light"
     },
     "output_type": "display_data"
    }
   ],
   "source": [
    "#гистограмма значений столбца 'month_gb_used' для абонентов 'smart'\n",
    "df[df['tariff_name']=='smart']['month_gb_used'].hist(bins=39)\n",
    "plt.title(('Тариф:'+'smart'+'    Параметр: '+'month_gb_used') )\n",
    "plt.ylabel('Гистограмма частоты')\n",
    "plt.show() "
   ]
  },
  {
   "cell_type": "markdown",
   "metadata": {
    "cellId": "qa7c8vulp28b445zlz1614"
   },
   "source": [
    "Также ознакомимся с характеристикой выборки для рассматриваемых параметров:"
   ]
  },
  {
   "cell_type": "code",
   "execution_count": 100,
   "metadata": {
    "cellId": "3xqy3oehocdbyusw6r8tm8"
   },
   "outputs": [
    {
     "name": "stdout",
     "output_type": "stream",
     "text": [
      "\u001b[94m\u001b[1mОбщая информация о выборке параметра: month_call_minutes ----> тариф: smart\u001b[0m\u001b[0m\n",
      "count    2118.000000\n",
      "mean      422.773843\n",
      "std       191.203948\n",
      "min         0.000000\n",
      "25%       287.250000\n",
      "50%       430.000000\n",
      "75%       550.000000\n",
      "max      1435.000000\n",
      "Name: month_call_minutes, dtype: float64\n",
      "\n",
      "\u001b[94m\u001b[1mОбщая информация о выборке параметра: month_call_minutes ----> тариф: ultra\u001b[0m\u001b[0m\n",
      "count     909.000000\n",
      "mean      531.930693\n",
      "std       320.472257\n",
      "min         0.000000\n",
      "25%       286.000000\n",
      "50%       523.000000\n",
      "75%       753.000000\n",
      "max      1673.000000\n",
      "Name: month_call_minutes, dtype: float64\n",
      "\n",
      "\u001b[94m\u001b[1mОбщая информация о выборке параметра: month_messages ----> тариф: smart\u001b[0m\u001b[0m\n",
      "count    2118.000000\n",
      "mean       33.587819\n",
      "std        28.440087\n",
      "min         0.000000\n",
      "25%        10.000000\n",
      "50%        28.000000\n",
      "75%        51.000000\n",
      "max       143.000000\n",
      "Name: month_messages, dtype: float64\n",
      "\n",
      "\u001b[94m\u001b[1mОбщая информация о выборке параметра: month_messages ----> тариф: ultra\u001b[0m\u001b[0m\n",
      "count    909.000000\n",
      "mean      51.218922\n",
      "std       48.344162\n",
      "min        0.000000\n",
      "25%        9.000000\n",
      "50%       40.000000\n",
      "75%       80.000000\n",
      "max      224.000000\n",
      "Name: month_messages, dtype: float64\n",
      "\n",
      "\u001b[94m\u001b[1mОбщая информация о выборке параметра: month_gb_used ----> тариф: smart\u001b[0m\u001b[0m\n",
      "count    2118.000000\n",
      "mean       16.390463\n",
      "std         5.714185\n",
      "min         0.000000\n",
      "25%        13.000000\n",
      "50%        17.000000\n",
      "75%        20.000000\n",
      "max        38.000000\n",
      "Name: month_gb_used, dtype: float64\n",
      "\n",
      "\u001b[94m\u001b[1mОбщая информация о выборке параметра: month_gb_used ----> тариф: ultra\u001b[0m\u001b[0m\n",
      "count    909.000000\n",
      "mean      19.610561\n",
      "std        9.748723\n",
      "min        0.000000\n",
      "25%       12.000000\n",
      "50%       19.000000\n",
      "75%       27.000000\n",
      "max       49.000000\n",
      "Name: month_gb_used, dtype: float64\n",
      "\n"
     ]
    }
   ],
   "source": [
    "#цикл для вывода характеристик выборки параметров тарифов\n",
    "for name in array_3:\n",
    "    for tariff in array_tariffs:\n",
    "        print('\\033[94m'+'\\033[1m'+'Общая информация о выборке параметра:', name,'----> тариф:', tariff +'\\033[0m'+'\\033[0m')\n",
    "        print(df[df['tariff_name']==tariff][name].describe())\n",
    "        print()"
   ]
  },
  {
   "cell_type": "markdown",
   "metadata": {
    "cellId": "h0kwc1o14xojgbjl779c"
   },
   "source": [
    "Здесь можно отметить, что во всех тарифах и всех параметров есть абоненты, которые в какие-то месяцы не пользуются некоторыми услугами. Также видно, что максимальные значение не различаются для тарифов Смарт и Ультра на порядки. К примеру, максимальное количество минут в Смарт - 1475, Ультра - 1673. Эти значения отличются, но на фоне 3000 доступных минут в Ультра можно сказать, что они близки."
   ]
  },
  {
   "cell_type": "markdown",
   "metadata": {
    "cellId": "pa4di17dbil6k1fsjinjji"
   },
   "source": [
    "### Вывод"
   ]
  },
  {
   "cell_type": "markdown",
   "metadata": {
    "cellId": "st5miks3vez1nkidx7x6l"
   },
   "source": [
    "В ходе анализа данных были рассмотрены клиенты, отказавшиес от тарифа и изучено поведение остальных клиентов.\n",
    "\n",
    "**Клиенты, отказавшиеся от тарифа**:\n",
    "- С тарифом `smart` отток клиентов в 1,5 раза больше, чем с тарифом `ultra`.\n",
    "- 17 из 38 (44,73%) отказавшихся от тарифа человек имели превышение месячного интернет-трафика\n",
    "- 14 из 17 человек использовали тариф Смарт.\n",
    "- Клиенты, отказавшиеся от тарифа, исключены из рассмотрения, так как нам важны предпочтения и выручка клиентов, использующих тариф.\n",
    "\n",
    "**Поведение клиентов**:\n",
    "- Тариф Смарт более популярен среди клиентов, чем тариф Ультра, об этом можно судить по рассматриваемой выборке: **клиентов Смарт в 2,5 раза больше, чем клиентов Ультра**\n",
    "- Абоненты `ultra` в среднем разговаривают 532 минуты, а `smart` 423 минуты. При этом абонентам `ultra` доступно **3000 минут разговора в месяц**, но в среднем они используют значение минут **близкое к доступному в тарифе Смарт - 532 минуты** (в Смарт досутпно 500 минут в месяц).\n",
    "- Функция плотности частоты для количества сообщений - скошенная вправо, так как и в том, и другом тарифе абоненты редко используют сообщения, много значений равных `0`. В среднем абоненты `ultra` отправляют примерно на 18 сообщений больше (33 сообщения - смарт, 50 сообщений - ультра). \n",
    "- Здесь тоже стоит обратить внимание, что по тарифу Ультра **доступна 1000 сообщений в месяц**, это сильно отличается от 50 сообщений Смарт, но при этом **абоненты Ультра расходуют около 50 сообщений в месяц**.\n",
    "- Расход интернет трафика в среднем по выборке: Смарт - 16,39 Гб, Ультра 19,61 Гб. Средние и медианы близки внутри тарифов. Абоненты Ультра в сренем расходуют больше интернета, чем абоненты Смарт. Доступно по тарифу: 15 Гб - Смарт, 30 Гб - Ультра. Получется, что в среднем абоненты Смарт превышают доступный интернет-трафик и вынуждены заплатить по 200 руб за каждый Гб превышения.\n",
    "\n",
    "Из полученных данных можно предположить, что **параметры тарифа Смарт близки к реальным потребностям абонентов**, поэтому они в **2,5 раза чаще выбирают этот тариф, а не Ультра**."
   ]
  },
  {
   "cell_type": "markdown",
   "metadata": {
    "cellId": "cdv42osu7uifsoh9jelpia"
   },
   "source": [
    "## Шаг 4. Проверка гипотез"
   ]
  },
  {
   "cell_type": "markdown",
   "metadata": {
    "cellId": "xvprvq17xhrer4xg2pdh"
   },
   "source": [
    "Проверим две гипотезы:\n",
    "- средняя выручка пользователей тарифов «Ультра» и «Смарт» различаются;\n",
    "- средняя выручка пользователей из Москвы отличается от выручки пользователей из других регионов."
   ]
  },
  {
   "cell_type": "markdown",
   "metadata": {
    "cellId": "yra5uoytp6baqy4lka4eah"
   },
   "source": [
    "### Cредняя выручка пользователей тарифов «Ультра» и «Смарт» различаются"
   ]
  },
  {
   "cell_type": "markdown",
   "metadata": {
    "cellId": "4u3t9i6lspchvnlxg1bi6t"
   },
   "source": [
    "Для проверки гипотезы сначала сформулируем нулевую гипотезу $H_0$:**средние выручки пользователей тарифов \"Ультра\" и \"Смарт\" равны (не отличаются)**.\n",
    "\n",
    "Тогда двусторонняя альтернативная гипотеза $H_1$: **средняя выручка пользователей тарифа «Ультра» не равна выручке пользователей тарифа «Смарт»,** они могут отличаться, как в большую так и в меньшую сторону.\n",
    "\n",
    "Чтобы проверить гипотезу о равенстве среднего двух генеральных совокупностей **по взятым из них выборкам**, применим метод `scipy.stats.ttest_ind (array1, array2, equal_var)`.\n",
    "\n",
    "Выберем критический уровень значимости $\\alpha$ равным **5%**.\n"
   ]
  },
  {
   "cell_type": "code",
   "execution_count": 101,
   "metadata": {
    "cellId": "vlv0z5pg3p885s1b9saja"
   },
   "outputs": [],
   "source": [
    "alpha = 0.05  # критический уровень статистической значимости\n",
    "# если p-value окажется меньше него - отвергнем гипотезу"
   ]
  },
  {
   "cell_type": "markdown",
   "metadata": {
    "cellId": "2jed1usbnll22hgpugr36u"
   },
   "source": [
    "Сохраним выборку выручки по месяцам для тарифа Смарт:"
   ]
  },
  {
   "cell_type": "code",
   "execution_count": 102,
   "metadata": {
    "cellId": "4b41zyyewan1crtba418m"
   },
   "outputs": [
    {
     "data": {
      "text/plain": [
       "2118"
      ]
     },
     "execution_count": 102,
     "metadata": {},
     "output_type": "execute_result"
    }
   ],
   "source": [
    "#выручка по месяцам для абонентов 'smart'\n",
    "smart_month_revenue = df[df['tariff_name']=='smart']['monthly_revenue']\n",
    "\n",
    "#вывод на экран количества строк\n",
    "len(smart_month_revenue)"
   ]
  },
  {
   "cell_type": "markdown",
   "metadata": {
    "cellId": "4i4dgup13vg6cysnp41zqy"
   },
   "source": [
    "И для тарифа Ультра:"
   ]
  },
  {
   "cell_type": "code",
   "execution_count": 103,
   "metadata": {
    "cellId": "4eytjr6klvu6kiv99sxe9l"
   },
   "outputs": [
    {
     "data": {
      "text/plain": [
       "909"
      ]
     },
     "execution_count": 103,
     "metadata": {},
     "output_type": "execute_result"
    }
   ],
   "source": [
    "#выручка по месяцам для абонентов 'ultra'\n",
    "ultra_month_revenue = df[df['tariff_name']=='ultra']['monthly_revenue']\n",
    "\n",
    "#вывод на экран количества строк\n",
    "len(ultra_month_revenue)"
   ]
  },
  {
   "cell_type": "markdown",
   "metadata": {
    "cellId": "l5t0dq7rsd5f4xlnqlveo"
   },
   "source": [
    "Создадим функцию для проверки статистических гипотез, будем использовать t-тест `ttest_ind` из библиотеки `scipy`: "
   ]
  },
  {
   "cell_type": "code",
   "execution_count": 104,
   "metadata": {
    "cellId": "8v0ef8g3y5bbtivtw3xp8"
   },
   "outputs": [],
   "source": [
    "#функция проверки статистических гипотез\n",
    "def statistical_check(sample_1, sample_2, alpha):\n",
    "    \n",
    "    #использование ttest_ind для двух выборок\n",
    "    results = st.ttest_ind(sample_1, sample_2)\n",
    "    \n",
    "    #вывод p-value\n",
    "    print('p-значение:', results.pvalue)\n",
    "    \n",
    "    #проверка правильности нулевой гипотезы\n",
    "    if results.pvalue < alpha:\n",
    "        print('Отвергаем нулевую гипотезу')\n",
    "    else:\n",
    "        print('Не получилось отвергнуть нулевую гипотезу') "
   ]
  },
  {
   "cell_type": "markdown",
   "metadata": {
    "cellId": "gkhwxlj2yja1m63tz4o8vr"
   },
   "source": [
    "Используем функцию для проверки нулевой гипотезы, введем выборки месячной выручки тарифов `smart` и `ultra`:"
   ]
  },
  {
   "cell_type": "code",
   "execution_count": 105,
   "metadata": {
    "cellId": "iv0kp4670kqyf8qve43a4"
   },
   "outputs": [
    {
     "name": "stdout",
     "output_type": "stream",
     "text": [
      "p-значение: 4.21341783798234e-144\n",
      "Отвергаем нулевую гипотезу\n"
     ]
    }
   ],
   "source": [
    "#используем функцию для smart_month_revenue, ultra_month_revenue с уровнем статистической значимости alpha\n",
    "statistical_check(smart_month_revenue, ultra_month_revenue,alpha)"
   ]
  },
  {
   "cell_type": "markdown",
   "metadata": {
    "cellId": "3ixx83za4wblr1lxywtgfd"
   },
   "source": [
    "Результат говорит о том, что есть основания отвергнуть нулевую гипотезу, p-value получилось менее установленного значения.\n",
    "\n",
    "Посмотрим средние значения выборок:\n",
    "\n",
    "- для тарифа Ультра:"
   ]
  },
  {
   "cell_type": "code",
   "execution_count": 106,
   "metadata": {
    "cellId": "ceibvitlzodx2eq5wpd2hn"
   },
   "outputs": [
    {
     "data": {
      "text/plain": [
       "2066.996699669967"
      ]
     },
     "execution_count": 106,
     "metadata": {},
     "output_type": "execute_result"
    }
   ],
   "source": [
    "ultra_month_revenue.mean()"
   ]
  },
  {
   "cell_type": "markdown",
   "metadata": {
    "cellId": "uetzsf4saokhj83i8wr6h"
   },
   "source": [
    "- для тарифа Смарт:"
   ]
  },
  {
   "cell_type": "code",
   "execution_count": 107,
   "metadata": {
    "cellId": "01d1m3bogeq42pfwuouwpdl"
   },
   "outputs": [
    {
     "data": {
      "text/plain": [
       "1299.489612842304"
      ]
     },
     "execution_count": 107,
     "metadata": {},
     "output_type": "execute_result"
    }
   ],
   "source": [
    "smart_month_revenue.mean()"
   ]
  },
  {
   "cell_type": "markdown",
   "metadata": {
    "cellId": "w6q3v3aj6qgyqsdgntl05"
   },
   "source": [
    "Очевидно, что проверка статистической гипотезы верна: **среднее значение месячной выручки в тарифе Ультра в 1,6 раз выше, чем в тарифе Смарт**.\n",
    "\n",
    "Ранее было показано, что тариф Смарт более популярен: клиентов с тарифом Смарт почти в 2,5 раза больше, чем с тарифом Ультра (рассматриваем только клиентов, которые не отказались от тарифа)."
   ]
  },
  {
   "cell_type": "markdown",
   "metadata": {
    "cellId": "4pbv3ww7aw7dldqagsd4r"
   },
   "source": [
    "Сделаем сводную таблицу, в которой посмотрим **общую выручку** за год для тарифов Смарт и Ультра, а также добавим столбец со средней выручкой:"
   ]
  },
  {
   "cell_type": "code",
   "execution_count": 108,
   "metadata": {
    "cellId": "vmkl9hu9sl9jq6o3tav2q"
   },
   "outputs": [
    {
     "data": {
      "text/html": [
       "<div>\n",
       "<style scoped>\n",
       "    .dataframe tbody tr th:only-of-type {\n",
       "        vertical-align: middle;\n",
       "    }\n",
       "\n",
       "    .dataframe tbody tr th {\n",
       "        vertical-align: top;\n",
       "    }\n",
       "\n",
       "    .dataframe thead th {\n",
       "        text-align: right;\n",
       "    }\n",
       "</style>\n",
       "<table border=\"1\" class=\"dataframe\">\n",
       "  <thead>\n",
       "    <tr style=\"text-align: right;\">\n",
       "      <th></th>\n",
       "      <th>sum</th>\n",
       "      <th>count</th>\n",
       "      <th>mean_per_month</th>\n",
       "    </tr>\n",
       "    <tr>\n",
       "      <th>tariff_name</th>\n",
       "      <th></th>\n",
       "      <th></th>\n",
       "      <th></th>\n",
       "    </tr>\n",
       "  </thead>\n",
       "  <tbody>\n",
       "    <tr>\n",
       "      <th>smart</th>\n",
       "      <td>2752319.0</td>\n",
       "      <td>2118</td>\n",
       "      <td>1299.489613</td>\n",
       "    </tr>\n",
       "    <tr>\n",
       "      <th>ultra</th>\n",
       "      <td>1878900.0</td>\n",
       "      <td>909</td>\n",
       "      <td>2066.996700</td>\n",
       "    </tr>\n",
       "  </tbody>\n",
       "</table>\n",
       "</div>"
      ],
      "text/plain": [
       "                   sum  count  mean_per_month\n",
       "tariff_name                                  \n",
       "smart        2752319.0   2118     1299.489613\n",
       "ultra        1878900.0    909     2066.996700"
      ]
     },
     "execution_count": 108,
     "metadata": {},
     "output_type": "execute_result"
    }
   ],
   "source": [
    "# сделаем сводную таблицу по названиям тарифов\n",
    "# применем функции sum и count для месячной выручки\n",
    "table_tariff = df.groupby('tariff_name')['monthly_revenue'].agg(['sum','count'])\n",
    "\n",
    "#добавим столбец со средней выручкой по тарифам\n",
    "table_tariff ['mean_per_month'] = table_tariff['sum']/table_tariff['count']\n",
    "\n",
    "#вывод на экран сводной таблицы\n",
    "table_tariff"
   ]
  },
  {
   "cell_type": "markdown",
   "metadata": {
    "cellId": "d99qpit7wdp3c3vefnnh"
   },
   "source": [
    "Мы видим, что Смарт в среднем в месяц приносит меньше денег, чем Ультра. Но за счет бОльшего числа клиентов **годовая выручка Смарта больше, чем у тарифа Ультра**."
   ]
  },
  {
   "cell_type": "markdown",
   "metadata": {
    "cellId": "5d871ddjshpk77ybmnpznc"
   },
   "source": [
    "### Средняя выручка пользователей из Москвы отличается от выручки пользователей из других регионов"
   ]
  },
  {
   "cell_type": "markdown",
   "metadata": {
    "cellId": "vf4680uwl6h8kzvvnaf8tw"
   },
   "source": [
    "Для проверки гипотезы сначала сформулируем нулевую гипотезу $H_0$: **средняя выручка пользователей из Москвы равна средней выручке пользователей из других регионов**.\n",
    "\n",
    "Тогда двусторонняя альтернативная гипотеза $H_1$: **средняя выручка пользователей из Москвы НЕ равна средней выручке пользователей из других регионов**, они могут отличаться, как в большую так и в меньшую сторону."
   ]
  },
  {
   "cell_type": "markdown",
   "metadata": {
    "cellId": "mm6nvm7nxnk1nlqz05a8xsi"
   },
   "source": [
    "Если не разделять датафрейм по тарифам, то вычесление средней выручки по нему будет несовсем коректным, как видно из графика выручка имеет форму седла с двумя явными пиками тарифов Смарт и Ультра:"
   ]
  },
  {
   "cell_type": "code",
   "execution_count": 109,
   "metadata": {
    "cellId": "qjpuhex3s5clo0sngvydmi"
   },
   "outputs": [
    {
     "data": {
      "image/png": "[encoded data removed]",
      "text/plain": [
       "<Figure size 432x288 with 1 Axes>"
      ]
     },
     "metadata": {
      "needs_background": "light"
     },
     "output_type": "display_data"
    }
   ],
   "source": [
    "#используем distplot из библиотеки `seaborn`\n",
    "sns.histplot(df['monthly_revenue'],  stat=\"density\", kde=True)\n",
    "plt.title(('Месячная выручка всех абонентов (тарифов smart и ultra)') )\n",
    "plt.ylabel('Гистограмма частоты')\n",
    "plt.grid()\n",
    "plt.show()"
   ]
  },
  {
   "cell_type": "markdown",
   "metadata": {
    "cellId": "e35mvy8oxpw0tl7lxyltljn"
   },
   "source": [
    "Поэтому для начала выделим пользователей из Москвы:"
   ]
  },
  {
   "cell_type": "code",
   "execution_count": 110,
   "metadata": {
    "cellId": "0ejs4nw249eini8ihfhzspq"
   },
   "outputs": [],
   "source": [
    "#выделяем пользователей из Москвы\n",
    "df_moscow = df[df['city']=='Москва']"
   ]
  },
  {
   "cell_type": "markdown",
   "metadata": {
    "cellId": "8cnhdkp0wteq93enxcj6no"
   },
   "source": [
    "Смотрим количество строк в срезе данных `df_moscow`:"
   ]
  },
  {
   "cell_type": "code",
   "execution_count": 111,
   "metadata": {
    "cellId": "y85noxmideebefvujhqh1w"
   },
   "outputs": [
    {
     "data": {
      "text/plain": [
       "570"
      ]
     },
     "execution_count": 111,
     "metadata": {},
     "output_type": "execute_result"
    }
   ],
   "source": [
    "#количество строк в срезе df_moscow\n",
    "len(df_moscow)"
   ]
  },
  {
   "cell_type": "markdown",
   "metadata": {
    "cellId": "uxaihquh0cau7v7pfagzu"
   },
   "source": [
    "Теперь выделим пользователей из других регионов:"
   ]
  },
  {
   "cell_type": "code",
   "execution_count": 112,
   "metadata": {
    "cellId": "gndc75ynbjldwlq3j5ctgj"
   },
   "outputs": [],
   "source": [
    "#выделяем пользователей из других регионов\n",
    "df_other = df[df['city']!='Москва']"
   ]
  },
  {
   "cell_type": "markdown",
   "metadata": {
    "cellId": "0czfysfphktrc1lktaf688v"
   },
   "source": [
    "Смотрим количество строк в срезе данных `df_other`:"
   ]
  },
  {
   "cell_type": "code",
   "execution_count": 113,
   "metadata": {
    "cellId": "mdxuez9618hgnirufdixz5"
   },
   "outputs": [
    {
     "data": {
      "text/plain": [
       "2457"
      ]
     },
     "execution_count": 113,
     "metadata": {},
     "output_type": "execute_result"
    }
   ],
   "source": [
    "#количество пользователей из других регионов\n",
    "len(df_other)"
   ]
  },
  {
   "cell_type": "markdown",
   "metadata": {
    "cellId": "eiksxkz96blgwq5r58xukr"
   },
   "source": [
    "Для клиентов из Москвы 570 строк в таблице (по месяцам), для других регионов 2457 строк."
   ]
  },
  {
   "cell_type": "markdown",
   "metadata": {
    "cellId": "aqu5urxsyrkgujm5n2a2p"
   },
   "source": [
    "Далее разделим группы по регионам на подгруппы по тарифам:"
   ]
  },
  {
   "cell_type": "code",
   "execution_count": 114,
   "metadata": {
    "cellId": "j0uapfgs65jwm1t7hvrwk"
   },
   "outputs": [],
   "source": [
    "#абоненты Смарт в Москве\n",
    "moscow_smart_revenue = df_moscow[df_moscow['tariff_name']=='smart']['monthly_revenue']\n",
    "#абоненты Ультра в других регионах\n",
    "moscow_ultra_revenue = df_moscow[df_moscow['tariff_name']=='ultra']['monthly_revenue']\n",
    "\n",
    "\n",
    "#абоненты Смарт в других регионах\n",
    "other_smart_revenue = df_other[df_other['tariff_name']=='smart']['monthly_revenue']\n",
    "#абоненты Ультра в других регионах\n",
    "other_ultra_revenue = df_other[df_other['tariff_name']=='ultra']['monthly_revenue']"
   ]
  },
  {
   "cell_type": "markdown",
   "metadata": {
    "cellId": "fv2ja66s3dnrs2804r94wg"
   },
   "source": [
    "Перейдём к проверке нулевой гипотезы."
   ]
  },
  {
   "cell_type": "markdown",
   "metadata": {
    "cellId": "ud5jtzvaxjder71qf8ecu"
   },
   "source": [
    "Проверим нулевую гипотезу - **средняя выручка в Москве от тарифа Смарт равна средней выручке этого тарифа в других регионах**:"
   ]
  },
  {
   "cell_type": "code",
   "execution_count": 115,
   "metadata": {
    "cellId": "20k87s1kj33hxxp7kb3jraj"
   },
   "outputs": [
    {
     "name": "stdout",
     "output_type": "stream",
     "text": [
      "p-значение: 0.09275845050953271\n",
      "Не получилось отвергнуть нулевую гипотезу\n"
     ]
    }
   ],
   "source": [
    "#применяем функцию statistical_check к other_smart_revenue, moscow_smart_revenue с уровнем alpha\n",
    "statistical_check(other_smart_revenue, moscow_smart_revenue, alpha)"
   ]
  },
  {
   "cell_type": "markdown",
   "metadata": {
    "cellId": "sk5z05pft9b9cwopix415q"
   },
   "source": [
    "p-value получилось около 9,276%. Нет оснований отвергать нулевую гипотезу."
   ]
  },
  {
   "cell_type": "markdown",
   "metadata": {
    "cellId": "qfdd3a17ssfaz7j6f3owb"
   },
   "source": [
    "Проверим следующую нулевую гипотезу - **средняя выручка в Москве от тарифа Ультра равна средней выручке этого тарифа в других регионах**:"
   ]
  },
  {
   "cell_type": "code",
   "execution_count": 116,
   "metadata": {
    "cellId": "rbvg5wn172rgowmi8kdkv"
   },
   "outputs": [
    {
     "name": "stdout",
     "output_type": "stream",
     "text": [
      "p-значение: 0.46162482838492547\n",
      "Не получилось отвергнуть нулевую гипотезу\n"
     ]
    }
   ],
   "source": [
    "#применяем функцию statistical_check к other_ultra_revenue, moscow_ultra_revenue с уровнем alpha\n",
    "statistical_check(other_ultra_revenue, moscow_ultra_revenue, alpha)"
   ]
  },
  {
   "cell_type": "markdown",
   "metadata": {
    "cellId": "u0ttx1t3pnoapjf021eq7"
   },
   "source": [
    "Вероятность ошибиться при отклонении от нулевой гипотезы - 46%. Значит снова нет оснований её отвергать."
   ]
  },
  {
   "cell_type": "markdown",
   "metadata": {
    "cellId": "l5f5g9foa484x8fsc1xhe9"
   },
   "source": [
    "Выручка тарифа Смарт в регонах равна выручке тарифа Ультра?"
   ]
  },
  {
   "cell_type": "code",
   "execution_count": 117,
   "metadata": {
    "cellId": "s2bf4v34vsasm0agni78bc"
   },
   "outputs": [
    {
     "name": "stdout",
     "output_type": "stream",
     "text": [
      "p-значение: 2.4259500600294076e-104\n",
      "Отвергаем нулевую гипотезу\n"
     ]
    }
   ],
   "source": [
    "#применяем функцию statistical_check к other_ultra_revenue, other_smart_revenue с уровнем alpha\n",
    "statistical_check(other_ultra_revenue, other_smart_revenue, alpha)"
   ]
  },
  {
   "cell_type": "markdown",
   "metadata": {
    "cellId": "knu3p3n8gdeanxuvevj5z7"
   },
   "source": [
    "Как было получено при проверке первой гипотезы (есть разница выручки тарифов Смарт и Ультра), мы видим, что это не зависит от региона: разница в выручке между тарифами есть."
   ]
  },
  {
   "cell_type": "markdown",
   "metadata": {
    "cellId": "ca8ft0homklwn918ursp3s"
   },
   "source": [
    "Это также подтверждает проверка средних значений:"
   ]
  },
  {
   "cell_type": "code",
   "execution_count": 118,
   "metadata": {
    "cellId": "nuhc6kw6mie764qihg6pn"
   },
   "outputs": [
    {
     "data": {
      "text/plain": [
       "2062.0714285714284"
      ]
     },
     "execution_count": 118,
     "metadata": {},
     "output_type": "execute_result"
    }
   ],
   "source": [
    "#среднее выручки для других регионов и тарифа Ультра\n",
    "other_ultra_revenue.mean()"
   ]
  },
  {
   "cell_type": "code",
   "execution_count": 119,
   "metadata": {
    "cellId": "zx0i4vjf8woj1ivw61y7t"
   },
   "outputs": [
    {
     "data": {
      "text/plain": [
       "1313.0990324416618"
      ]
     },
     "execution_count": 119,
     "metadata": {},
     "output_type": "execute_result"
    }
   ],
   "source": [
    "#среднее выручки для других реонов и тарифа Сматр\n",
    "other_smart_revenue.mean()"
   ]
  },
  {
   "cell_type": "markdown",
   "metadata": {
    "cellId": "x9r177pgm8b6q6x0a7ait"
   },
   "source": [
    "В регионах выручка от тарифа Ультра выше, чем от тарифа Смарт."
   ]
  },
  {
   "cell_type": "markdown",
   "metadata": {
    "cellId": "mjyiae3fgkf7wjgd6djhn8"
   },
   "source": [
    "Выручка тарифа Смарт в Москве равна выручке тарифа Ультра?"
   ]
  },
  {
   "cell_type": "code",
   "execution_count": 120,
   "metadata": {
    "cellId": "8e5tcxubev65kpidq4xh59"
   },
   "outputs": [
    {
     "name": "stdout",
     "output_type": "stream",
     "text": [
      "p-значение: 5.78116999260781e-46\n",
      "Отвергаем нулевую гипотезу\n"
     ]
    }
   ],
   "source": [
    "#применяем функцию statistical_check к moscow_smart_revenue, moscow_ultra_revenue с уровнем alpha\n",
    "statistical_check(moscow_smart_revenue, moscow_ultra_revenue, alpha)"
   ]
  },
  {
   "cell_type": "markdown",
   "metadata": {
    "cellId": "by0dbor39hpbdz7ivv937"
   },
   "source": [
    "Очевидно, что нет оснований соглашаться с нулевой гипотезой, мы снова её отвергаем. В Москве выручка Смарт и Ультра также различаются."
   ]
  },
  {
   "cell_type": "markdown",
   "metadata": {
    "cellId": "c7c5lhupfxngbeemooad"
   },
   "source": [
    "Теперь изучим выручку всех тарифов в Москве и в других регионах. Выделим общую выручку:"
   ]
  },
  {
   "cell_type": "code",
   "execution_count": 121,
   "metadata": {
    "cellId": "krbu3nn0ymbneyrescc5"
   },
   "outputs": [],
   "source": [
    "#в Москве\n",
    "moscow_revenue = df_moscow['monthly_revenue']\n",
    "\n",
    "#в других регионах\n",
    "other_revenue = df_other['monthly_revenue']"
   ]
  },
  {
   "cell_type": "markdown",
   "metadata": {
    "cellId": "n4pvjm5gbhnm0t2rw7fons"
   },
   "source": [
    "Проверим нулевую гипотезу - месячная выручка в москве равна месячной выручке в других регионах:"
   ]
  },
  {
   "cell_type": "code",
   "execution_count": 122,
   "metadata": {
    "cellId": "oqzvmzw24fgm7rhiucj2v"
   },
   "outputs": [
    {
     "name": "stdout",
     "output_type": "stream",
     "text": [
      "p-значение: 0.6177577589717255\n",
      "Не получилось отвергнуть нулевую гипотезу\n"
     ]
    }
   ],
   "source": [
    "#применяем функцию statistical_check к moscow_revenue, other_revenue,alpha с уровнем alpha\n",
    "statistical_check(moscow_revenue, other_revenue,alpha)"
   ]
  },
  {
   "cell_type": "markdown",
   "metadata": {
    "cellId": "futzklc2trx8526mevwoa"
   },
   "source": [
    "Скорее всего это так и есть, принимаем нулевую гипотезу. "
   ]
  },
  {
   "cell_type": "markdown",
   "metadata": {
    "cellId": "tow0snu5ibeazt70ufa5"
   },
   "source": [
    "Сделаем столбец в `df` с регионом, для этого создадим функцию:"
   ]
  },
  {
   "cell_type": "code",
   "execution_count": 123,
   "metadata": {
    "cellId": "b0y3wijpdhgi2q8ubw7go"
   },
   "outputs": [],
   "source": [
    "#функция для выделения категории по населённому пункту\n",
    "def region(column):\n",
    "    if 'Москва' in column:\n",
    "        return 'Москва'\n",
    "    else: return 'Другие'"
   ]
  },
  {
   "cell_type": "markdown",
   "metadata": {
    "cellId": "kraqyj7spzlh25unebgbs"
   },
   "source": [
    "Применем функцию к столбцу `city`, чтобы создать новый категориальный столбец:"
   ]
  },
  {
   "cell_type": "code",
   "execution_count": 124,
   "metadata": {
    "cellId": "1btx6qbdg2a0kbye9p1j0o"
   },
   "outputs": [
    {
     "data": {
      "text/plain": [
       "Другие    2457\n",
       "Москва     570\n",
       "Name: region, dtype: int64"
      ]
     },
     "execution_count": 124,
     "metadata": {},
     "output_type": "execute_result"
    }
   ],
   "source": [
    "#применяем фнкуцию к столбу `city`\n",
    "df['region']=df['city'].apply(region)\n",
    "\n",
    "#проверяем результат\n",
    "df['region'].value_counts()"
   ]
  },
  {
   "cell_type": "markdown",
   "metadata": {
    "cellId": "f6yoznef7jhn1eztamd60i"
   },
   "source": [
    "Сделаем сводную таблицу для визуализации результатов по регионам:"
   ]
  },
  {
   "cell_type": "code",
   "execution_count": 125,
   "metadata": {
    "cellId": "j61mgd0m78a00a2vwk5t1g6h"
   },
   "outputs": [
    {
     "data": {
      "text/html": [
       "<div>\n",
       "<style scoped>\n",
       "    .dataframe tbody tr th:only-of-type {\n",
       "        vertical-align: middle;\n",
       "    }\n",
       "\n",
       "    .dataframe tbody tr th {\n",
       "        vertical-align: top;\n",
       "    }\n",
       "\n",
       "    .dataframe thead th {\n",
       "        text-align: right;\n",
       "    }\n",
       "</style>\n",
       "<table border=\"1\" class=\"dataframe\">\n",
       "  <thead>\n",
       "    <tr style=\"text-align: right;\">\n",
       "      <th></th>\n",
       "      <th>sum</th>\n",
       "      <th>count</th>\n",
       "      <th>mean_per_month</th>\n",
       "    </tr>\n",
       "    <tr>\n",
       "      <th>region</th>\n",
       "      <th></th>\n",
       "      <th></th>\n",
       "      <th></th>\n",
       "    </tr>\n",
       "  </thead>\n",
       "  <tbody>\n",
       "    <tr>\n",
       "      <th>Другие</th>\n",
       "      <td>3750565.0</td>\n",
       "      <td>2457</td>\n",
       "      <td>1526.481481</td>\n",
       "    </tr>\n",
       "    <tr>\n",
       "      <th>Москва</th>\n",
       "      <td>880654.0</td>\n",
       "      <td>570</td>\n",
       "      <td>1545.007018</td>\n",
       "    </tr>\n",
       "  </tbody>\n",
       "</table>\n",
       "</div>"
      ],
      "text/plain": [
       "              sum  count  mean_per_month\n",
       "region                                  \n",
       "Другие  3750565.0   2457     1526.481481\n",
       "Москва   880654.0    570     1545.007018"
      ]
     },
     "execution_count": 125,
     "metadata": {},
     "output_type": "execute_result"
    }
   ],
   "source": [
    "#сводная таблица по региону\n",
    "table_region = df.groupby('region')['monthly_revenue'].agg(['sum','count'])\n",
    "\n",
    "#новый столбец со среднем значением выручки по месяцам\n",
    "table_region['mean_per_month'] = table_region['sum']/table_region['count']\n",
    "\n",
    "#вывод на экран сводной таблицы\n",
    "table_region"
   ]
  },
  {
   "cell_type": "markdown",
   "metadata": {
    "cellId": "ko80uzqzpcgx2urx4g5rg"
   },
   "source": [
    "Очевидно, что месячная выручка в среднем примерно одинакова, но годовая выше для других регионов, чем для Москвы (потому что в выборке абонентов из других регионов больше, чем из Москвы)."
   ]
  },
  {
   "cell_type": "markdown",
   "metadata": {
    "cellId": "bpnzlb0rk18iwxgh3q51cg"
   },
   "source": [
    "### Вывод"
   ]
  },
  {
   "cell_type": "markdown",
   "metadata": {
    "cellId": "ze723u0ctmm34ga3uzkhwr"
   },
   "source": [
    "В результате проверки статистических гипотез можно сделать следующий вывод:\n",
    "- Средняя месячная выручка пользователей тарифов Смарт и Ультра **различаются**, подтверждено с помощью статистической проверки гипотез.\n",
    "- Средняя месячная выручка тарифа Ультра - около **2066 руб.**, тарифа Смарт - около **1300 руб.** (без разделения на регионы), то есть почти в 1,6 раз.\n",
    "- Но в тоже время **суммарная годовая выручка тарифа Смарт почти в 1,5 раза (1,46) больше чем для тарифа Ультра** (2 752 319 руб - Смарт, 1 878 900 руб. - Ультра за 2018 год).\n",
    "- Так как в месяц тариф Ультра приносит больше денег, чем Смарт, а также **менее распространён среди клиентов**, то можно уделить ему внимание в маркетинговой компании, чтобы привлечь большее число клиентов, заинтересованных в повышенном расходе услуг (интернет-трафика и минут разговора в первую очередь).\n",
    "- Но для маркетинговой компании также следует учесть, что так как **тариф Смарт более популярен**, чем Ультра (в 2,5 раза больше абонентов), и приносить большую годовую выручку, чем тариф Ультра, то, возможно, что людей, которым нужен повышенный расход услуг, меньше, чем тех, кому достаточно параметров тарифа \"Смарт\". Поэтому оставлять без внимания тариф Смарт в маркетинге также не стоит, чтобы не потерять этот сегмент клиентов."
   ]
  },
  {
   "cell_type": "markdown",
   "metadata": {
    "cellId": "pc93td764gg5mlowro6v1m"
   },
   "source": [
    "## Общий вывод"
   ]
  },
  {
   "cell_type": "markdown",
   "metadata": {
    "cellId": "5vupfqpoqg9f5o1rq3f2bb"
   },
   "source": [
    "<div style=\"border:solid green 2px; padding: 20px\">\n",
    "\n",
    "\n",
    "**Цель исследования** состояла в том, чтобы определить **какой тариф**  федерального оператора сотовой связи «Мегалайн» **лучше: «Смарт» или «Ультра»**. То есть какой приносит больше денег, чтобы коммерческий департамент смог скорректировать рекламный бюджет.\n",
    "\n",
    "Для проведения исследования использованы данные о **500 клиентах компании \"Мегалайн\"** за 2018 год. Данные представлены **в 5 таблицах**: данные о клиентах, их звонках, сообщениях, расходе интернет-трафика и условиях тарифных планов. Есть данные о **38** клиентах (7,6% от исходной выборки) отказавшихся от тарифа.\n",
    "\n",
    "На стадии **подготовки данных** удалён лишний столбец, изменены названия некоторых столбцов, изменён формат даты и времени, выполнено правильное окргуление длительности разговора (до минут в большую сторону) и предварительное знакомство с данными, в частности, показано отсутсвие неявных дубликатов в столбце с названием населённых пунктов. \n",
    "\n",
    "**Расчитаны дополнительные параметры** для каждого пользователя и собраны в отдельную сводную таблицу для дальнейшего анализа с расходами по месяцам: количество звонков и израсходованных минут, отправленных сообщений, объём израсходованного интернет-трафика. При расчете интернет-трафика учтено правильное округление в большую сторону до гигабайт. Также рассчитана **помесячная выручка для каждого пользователя**.\n",
    "    \n",
    "**В результате проведённого анализа и статистической проверки гипотез получены следующие результаты**:\n",
    "   \n",
    "**1. Клиенты, отказавшиеся от тарифа**\n",
    "   \n",
    "1.1. С тарифом `smart` отток клиентов в 1,5 раза больше, чем с тарифом `ultra`.\n",
    "\n",
    "1.2. 17 из 38 (44,73%) отказавшихся от тарифа человек имели превышение месячного интернет-трафика (14 из них имели тариф Смарт).\n",
    "\n",
    "1.3. Клиенты, отказавшиеся от тарифа, исключены из рассмотрения, так как нам важны предпочтения и выручка клиентов, использующих тариф.\n",
    "    \n",
    "**2. Поведение клиентов**\n",
    "    \n",
    "2.1. Тариф Смарт более популярен среди клиентов, чем тариф Ультра, об этом можно судить по рассматриваемой выборке: **клиентов Смарт в 2,5 раза больше, чем клиентов Ультра**.\n",
    "    \n",
    "2.2. Абоненты `smart` и `ultra` имеют разную среднюю продолжительность телефонного разговора. Абоненты `ultra` в среднем разговаривают 532 минуты, а `smart` 423 минуты.\n",
    "\n",
    "2.3. Стоит обратить внимание, что абонентам `ultra` доступно **3000 минут разговора в месяц**, но в среднем они используют значение минут **близкое к доступному в тарифе Смарт - 532 минуты** (в Смарт досутпно 500 минут в месяц).\n",
    "\n",
    "2.4. Для количества сообщений имеется скос данных в право, так как очень много значений `0`, то есть **SMS непопулярный вид связи** среди абонентов двух тарифов, но в среднем абоненты `ultra` отправляют примерно на 18 сообщений больше (33 сообщения - смарт, 50 сообщений - ультра). \n",
    "    \n",
    "2.5. Здесь тоже стоит обратить внимание, что по тарифу Ультра **доступна 1000 сообщений в месяц**, это сильно отличается от 50 сообщений Смарт, но при этом **абоненты Ультра расходуют около 50 сообщений в месяц**.\n",
    "\n",
    "2.6. Расход интернет трафика в среднем по выборке: Смарт - 16,39 Гб, Ультра 19,61 Гб. Абоненты Ультра в сренем расходуют больше интернета, чем абоненты Смарт. Доступно по тарифу: 15 Гб - Смарт, 30 Гб - Ультра. \n",
    "\n",
    "2.7. Получется, что в среднем абоненты Смарт превышают доступный интернет-трафик и вынуждены заплатить по 200 руб за каждый Гб превышения. Но абонентская плата Смарт - 500 руб, Ультра - 1950 руб. В некоторых случаях проще оплатить превышение, чем переходить на более дорогой тариф. Это может быть одной из причин популярности тарифа Смарт.\n",
    "\n",
    "Из полученных данных можно предположить, что **параметры тарифа Смарт близки к реальным потребностям абонентов**, поэтому они в **2,5 раза чаще выбирают этот тариф, а не Ультра**. Средние занчения расходов услуг в тарифах Смарт и Ультра отличаются, но не порядки.\n",
    "    \n",
    "**3. Статистическая проверка гипотез**\n",
    "\n",
    "3.1. Средняя месячная выручка пользователей тарифов Смарт и Ультра **различаются**, подтверждено с помощью статистической проверки гипотез.\n",
    "    \n",
    "3.2. Средняя месячная выручка тарифа Ультра - около **2066 руб.**, тарифа Смарт - около **1300 руб.** (без разделения на регионы), то есть почти в 1,6 раз.\n",
    " \n",
    "3.3. Но в тоже время **суммарная годовая выручка тарифа Смарт почти в 1,5 раза (1,46) больше чем для тарифа Ультра** (2 752 319 руб - Смарт, 1 878 900 руб. - Ультра за 2018 год).\n",
    "\n",
    "3.4. Так как в месяц тариф Ультра приносит больше денег, чем Смарт, а также **менее распространён среди клиентов**, то можно уделить ему внимание в маркетинговой компании, чтобы привлечь большее число клиентов, заинтересованных в повышенном расходе услуг (интернет-трафика и минут разговора в первую очередь).\n",
    "\n",
    "3.5. Но для маркетинговой компании также следует учесть, что так как **тариф Смарт более популярен**, чем Ультра (в 2,5 раза больше абонентов), и **приносит большую годовую выручку**, чем тариф Ультра, то, возможно, что людей, которым нужен повышенный расход услуг, меньше, чем тех, кому **достаточно параметров тарифа \"Смарт\"**. Поэтому оставлять без внимания тариф Смарт в маркетинговой компании также не стоит, чтобы не потерять этот сегмент клиентов."
   ]
  }
 ],
 "metadata": {
  "ExecuteTimeLog": [
   {
    "duration": 3,
    "start_time": "2021-12-02T16:14:37.011Z"
   },
   {
    "duration": 1161,
    "start_time": "2021-12-02T16:14:37.024Z"
   },
   {
    "duration": 407,
    "start_time": "2021-12-02T16:14:38.187Z"
   },
   {
    "duration": 3,
    "start_time": "2021-12-02T16:14:38.596Z"
   },
   {
    "duration": 64,
    "start_time": "2021-12-02T16:14:38.601Z"
   },
   {
    "duration": 54,
    "start_time": "2021-12-02T16:14:38.667Z"
   },
   {
    "duration": 10,
    "start_time": "2021-12-02T16:14:38.723Z"
   },
   {
    "duration": 6,
    "start_time": "2021-12-02T16:14:38.735Z"
   },
   {
    "duration": 3,
    "start_time": "2021-12-02T16:14:38.744Z"
   },
   {
    "duration": 68,
    "start_time": "2021-12-02T16:14:38.749Z"
   },
   {
    "duration": 4,
    "start_time": "2021-12-02T16:14:38.819Z"
   },
   {
    "duration": 6,
    "start_time": "2021-12-02T16:14:38.825Z"
   },
   {
    "duration": 4,
    "start_time": "2021-12-02T16:14:38.833Z"
   },
   {
    "duration": 11,
    "start_time": "2021-12-02T16:14:38.839Z"
   },
   {
    "duration": 11,
    "start_time": "2021-12-02T16:14:38.851Z"
   },
   {
    "duration": 8,
    "start_time": "2021-12-02T16:14:38.863Z"
   },
   {
    "duration": 51,
    "start_time": "2021-12-02T16:14:38.873Z"
   },
   {
    "duration": 14,
    "start_time": "2021-12-02T16:14:38.926Z"
   },
   {
    "duration": 41,
    "start_time": "2021-12-02T16:14:38.943Z"
   },
   {
    "duration": 34,
    "start_time": "2021-12-02T16:14:38.985Z"
   },
   {
    "duration": 14,
    "start_time": "2021-12-02T16:14:39.021Z"
   },
   {
    "duration": 11,
    "start_time": "2021-12-02T16:14:39.036Z"
   },
   {
    "duration": 20,
    "start_time": "2021-12-02T16:14:39.049Z"
   },
   {
    "duration": 14,
    "start_time": "2021-12-02T16:14:39.073Z"
   },
   {
    "duration": 18,
    "start_time": "2021-12-02T16:14:39.090Z"
   },
   {
    "duration": 18,
    "start_time": "2021-12-02T16:14:39.110Z"
   },
   {
    "duration": 9,
    "start_time": "2021-12-02T16:14:39.130Z"
   },
   {
    "duration": 27,
    "start_time": "2021-12-02T16:14:39.141Z"
   },
   {
    "duration": 15,
    "start_time": "2021-12-02T16:14:39.170Z"
   },
   {
    "duration": 70,
    "start_time": "2021-12-02T16:14:39.186Z"
   },
   {
    "duration": 14,
    "start_time": "2021-12-02T16:14:39.258Z"
   },
   {
    "duration": 3,
    "start_time": "2021-12-02T16:14:39.273Z"
   },
   {
    "duration": 72,
    "start_time": "2021-12-02T16:14:39.278Z"
   },
   {
    "duration": 3,
    "start_time": "2021-12-02T16:14:39.352Z"
   },
   {
    "duration": 61,
    "start_time": "2021-12-02T16:14:39.357Z"
   },
   {
    "duration": 3,
    "start_time": "2021-12-02T16:14:39.421Z"
   },
   {
    "duration": 14,
    "start_time": "2021-12-02T16:14:39.426Z"
   },
   {
    "duration": 6,
    "start_time": "2021-12-02T16:14:39.442Z"
   },
   {
    "duration": 8,
    "start_time": "2021-12-02T16:14:39.449Z"
   },
   {
    "duration": 11,
    "start_time": "2021-12-02T16:14:39.459Z"
   },
   {
    "duration": 45,
    "start_time": "2021-12-02T16:14:39.472Z"
   },
   {
    "duration": 27,
    "start_time": "2021-12-02T16:14:39.521Z"
   },
   {
    "duration": 11,
    "start_time": "2021-12-02T16:14:39.550Z"
   },
   {
    "duration": 5,
    "start_time": "2021-12-02T16:14:39.563Z"
   },
   {
    "duration": 56,
    "start_time": "2021-12-02T16:14:39.570Z"
   },
   {
    "duration": 11,
    "start_time": "2021-12-02T16:14:39.628Z"
   },
   {
    "duration": 12,
    "start_time": "2021-12-02T16:14:39.640Z"
   },
   {
    "duration": 10,
    "start_time": "2021-12-02T16:14:39.654Z"
   },
   {
    "duration": 8,
    "start_time": "2021-12-02T16:14:39.666Z"
   },
   {
    "duration": 32,
    "start_time": "2021-12-02T16:14:39.676Z"
   },
   {
    "duration": 8,
    "start_time": "2021-12-02T16:14:39.715Z"
   },
   {
    "duration": 12,
    "start_time": "2021-12-02T16:14:39.724Z"
   },
   {
    "duration": 8,
    "start_time": "2021-12-02T16:14:39.738Z"
   },
   {
    "duration": 9,
    "start_time": "2021-12-02T16:14:39.748Z"
   },
   {
    "duration": 6,
    "start_time": "2021-12-02T16:14:39.758Z"
   },
   {
    "duration": 8,
    "start_time": "2021-12-02T16:14:39.766Z"
   },
   {
    "duration": 38,
    "start_time": "2021-12-02T16:14:39.776Z"
   },
   {
    "duration": 11,
    "start_time": "2021-12-02T16:14:39.816Z"
   },
   {
    "duration": 8,
    "start_time": "2021-12-02T16:14:39.829Z"
   },
   {
    "duration": 3,
    "start_time": "2021-12-02T16:14:39.839Z"
   },
   {
    "duration": 7,
    "start_time": "2021-12-02T16:14:39.844Z"
   },
   {
    "duration": 4,
    "start_time": "2021-12-02T16:14:39.853Z"
   },
   {
    "duration": 7,
    "start_time": "2021-12-02T16:14:39.859Z"
   },
   {
    "duration": 48,
    "start_time": "2021-12-02T16:14:39.867Z"
   },
   {
    "duration": 7,
    "start_time": "2021-12-02T16:14:39.917Z"
   },
   {
    "duration": 9,
    "start_time": "2021-12-02T16:14:39.925Z"
   },
   {
    "duration": 4,
    "start_time": "2021-12-02T16:14:39.936Z"
   },
   {
    "duration": 5,
    "start_time": "2021-12-02T16:14:39.941Z"
   },
   {
    "duration": 4,
    "start_time": "2021-12-02T16:14:39.952Z"
   },
   {
    "duration": 5,
    "start_time": "2021-12-02T16:14:39.959Z"
   },
   {
    "duration": 260,
    "start_time": "2021-12-02T16:14:39.966Z"
   },
   {
    "duration": 8,
    "start_time": "2021-12-02T16:14:40.228Z"
   },
   {
    "duration": 14,
    "start_time": "2021-12-02T16:14:40.238Z"
   },
   {
    "duration": 5,
    "start_time": "2021-12-02T16:14:40.254Z"
   },
   {
    "duration": 7,
    "start_time": "2021-12-02T16:14:40.261Z"
   },
   {
    "duration": 9,
    "start_time": "2021-12-02T16:14:40.269Z"
   },
   {
    "duration": 28,
    "start_time": "2021-12-02T16:14:40.280Z"
   },
   {
    "duration": 11,
    "start_time": "2021-12-02T16:14:40.310Z"
   },
   {
    "duration": 9,
    "start_time": "2021-12-02T16:14:40.323Z"
   },
   {
    "duration": 9,
    "start_time": "2021-12-02T16:14:40.333Z"
   },
   {
    "duration": 6,
    "start_time": "2021-12-02T16:14:40.344Z"
   },
   {
    "duration": 6,
    "start_time": "2021-12-02T16:14:40.352Z"
   },
   {
    "duration": 6,
    "start_time": "2021-12-02T16:14:40.360Z"
   },
   {
    "duration": 10,
    "start_time": "2021-12-02T16:14:40.367Z"
   },
   {
    "duration": 37,
    "start_time": "2021-12-02T16:14:40.379Z"
   },
   {
    "duration": 8,
    "start_time": "2021-12-02T16:14:40.421Z"
   },
   {
    "duration": 6,
    "start_time": "2021-12-02T16:14:40.430Z"
   },
   {
    "duration": 8,
    "start_time": "2021-12-02T16:14:40.438Z"
   },
   {
    "duration": 16,
    "start_time": "2021-12-02T16:14:40.447Z"
   },
   {
    "duration": 12,
    "start_time": "2021-12-02T16:14:40.465Z"
   },
   {
    "duration": 10,
    "start_time": "2021-12-02T16:14:40.478Z"
   },
   {
    "duration": 27,
    "start_time": "2021-12-02T16:14:40.490Z"
   },
   {
    "duration": 7,
    "start_time": "2021-12-02T16:14:40.520Z"
   },
   {
    "duration": 9,
    "start_time": "2021-12-02T16:14:40.529Z"
   },
   {
    "duration": 8,
    "start_time": "2021-12-02T16:14:40.539Z"
   },
   {
    "duration": 8,
    "start_time": "2021-12-02T16:14:40.549Z"
   },
   {
    "duration": 17,
    "start_time": "2021-12-02T16:14:40.559Z"
   },
   {
    "duration": 10,
    "start_time": "2021-12-02T16:14:40.578Z"
   },
   {
    "duration": 1373,
    "start_time": "2021-12-02T16:14:40.589Z"
   },
   {
    "duration": 334,
    "start_time": "2021-12-02T16:14:41.964Z"
   },
   {
    "duration": 42,
    "start_time": "2021-12-02T16:14:42.300Z"
   },
   {
    "duration": 2,
    "start_time": "2021-12-02T16:14:42.344Z"
   },
   {
    "duration": 8,
    "start_time": "2021-12-02T16:14:42.347Z"
   },
   {
    "duration": 6,
    "start_time": "2021-12-02T16:14:42.356Z"
   },
   {
    "duration": 3,
    "start_time": "2021-12-02T16:14:42.364Z"
   },
   {
    "duration": 6,
    "start_time": "2021-12-02T16:14:42.369Z"
   },
   {
    "duration": 34,
    "start_time": "2021-12-02T16:14:42.376Z"
   },
   {
    "duration": 10,
    "start_time": "2021-12-02T16:14:42.414Z"
   },
   {
    "duration": 14,
    "start_time": "2021-12-02T16:14:42.426Z"
   },
   {
    "duration": 288,
    "start_time": "2021-12-02T16:14:42.442Z"
   },
   {
    "duration": 4,
    "start_time": "2021-12-02T16:14:42.732Z"
   },
   {
    "duration": 6,
    "start_time": "2021-12-02T16:14:42.738Z"
   },
   {
    "duration": 6,
    "start_time": "2021-12-02T16:14:42.745Z"
   },
   {
    "duration": 4,
    "start_time": "2021-12-02T16:14:42.752Z"
   },
   {
    "duration": 14,
    "start_time": "2021-12-02T16:14:42.758Z"
   },
   {
    "duration": 6,
    "start_time": "2021-12-02T16:14:42.773Z"
   },
   {
    "duration": 35,
    "start_time": "2021-12-02T16:14:42.780Z"
   },
   {
    "duration": 4,
    "start_time": "2021-12-02T16:14:42.818Z"
   },
   {
    "duration": 6,
    "start_time": "2021-12-02T16:14:42.824Z"
   },
   {
    "duration": 5,
    "start_time": "2021-12-02T16:14:42.831Z"
   },
   {
    "duration": 6,
    "start_time": "2021-12-02T16:14:42.838Z"
   },
   {
    "duration": 5,
    "start_time": "2021-12-02T16:14:42.846Z"
   },
   {
    "duration": 5,
    "start_time": "2021-12-02T16:14:42.853Z"
   },
   {
    "duration": 4,
    "start_time": "2021-12-02T16:14:42.859Z"
   },
   {
    "duration": 9,
    "start_time": "2021-12-02T16:14:42.864Z"
   },
   {
    "duration": 46,
    "start_time": "2021-12-02T16:14:42.874Z"
   },
   {
    "duration": 100,
    "start_time": "2021-12-02T17:13:01.220Z"
   },
   {
    "duration": 235,
    "start_time": "2021-12-02T17:13:06.066Z"
   },
   {
    "duration": 3,
    "start_time": "2021-12-02T17:13:23.206Z"
   },
   {
    "duration": 1091,
    "start_time": "2021-12-02T17:13:23.219Z"
   },
   {
    "duration": 398,
    "start_time": "2021-12-02T17:13:25.510Z"
   },
   {
    "duration": 3,
    "start_time": "2021-12-02T17:13:26.222Z"
   },
   {
    "duration": 57,
    "start_time": "2021-12-02T17:13:26.226Z"
   },
   {
    "duration": 37,
    "start_time": "2021-12-02T17:13:28.924Z"
   },
   {
    "duration": 9,
    "start_time": "2021-12-02T17:13:28.963Z"
   },
   {
    "duration": 5,
    "start_time": "2021-12-02T17:13:28.975Z"
   },
   {
    "duration": 10,
    "start_time": "2021-12-02T17:13:28.982Z"
   },
   {
    "duration": 37,
    "start_time": "2021-12-02T17:13:28.994Z"
   },
   {
    "duration": 3,
    "start_time": "2021-12-02T17:13:29.034Z"
   },
   {
    "duration": 7,
    "start_time": "2021-12-02T17:13:29.039Z"
   },
   {
    "duration": 6,
    "start_time": "2021-12-02T17:13:29.048Z"
   },
   {
    "duration": 39,
    "start_time": "2021-12-02T17:13:29.056Z"
   },
   {
    "duration": 6,
    "start_time": "2021-12-02T17:13:29.097Z"
   },
   {
    "duration": 8,
    "start_time": "2021-12-02T17:13:29.105Z"
   },
   {
    "duration": 29,
    "start_time": "2021-12-02T17:13:29.114Z"
   },
   {
    "duration": 13,
    "start_time": "2021-12-02T17:13:29.145Z"
   },
   {
    "duration": 35,
    "start_time": "2021-12-02T17:13:29.367Z"
   },
   {
    "duration": 10,
    "start_time": "2021-12-02T17:13:29.404Z"
   },
   {
    "duration": 11,
    "start_time": "2021-12-02T17:13:29.416Z"
   },
   {
    "duration": 4,
    "start_time": "2021-12-02T17:13:29.429Z"
   },
   {
    "duration": 8,
    "start_time": "2021-12-02T17:13:29.435Z"
   },
   {
    "duration": 6,
    "start_time": "2021-12-02T17:13:29.445Z"
   },
   {
    "duration": 39,
    "start_time": "2021-12-02T17:13:29.453Z"
   },
   {
    "duration": 6,
    "start_time": "2021-12-02T17:13:29.494Z"
   },
   {
    "duration": 5,
    "start_time": "2021-12-02T17:13:29.503Z"
   },
   {
    "duration": 19,
    "start_time": "2021-12-02T17:13:29.510Z"
   },
   {
    "duration": 15,
    "start_time": "2021-12-02T17:13:29.531Z"
   },
   {
    "duration": 47,
    "start_time": "2021-12-02T17:13:29.548Z"
   },
   {
    "duration": 52,
    "start_time": "2021-12-02T17:13:29.597Z"
   },
   {
    "duration": 13,
    "start_time": "2021-12-02T17:13:29.650Z"
   },
   {
    "duration": 3,
    "start_time": "2021-12-02T17:13:29.664Z"
   },
   {
    "duration": 54,
    "start_time": "2021-12-02T17:13:29.691Z"
   },
   {
    "duration": 4,
    "start_time": "2021-12-02T17:13:29.746Z"
   },
   {
    "duration": 59,
    "start_time": "2021-12-02T17:13:29.751Z"
   },
   {
    "duration": 3,
    "start_time": "2021-12-02T17:13:29.812Z"
   },
   {
    "duration": 14,
    "start_time": "2021-12-02T17:13:29.817Z"
   },
   {
    "duration": 5,
    "start_time": "2021-12-02T17:13:29.833Z"
   },
   {
    "duration": 9,
    "start_time": "2021-12-02T17:13:29.840Z"
   },
   {
    "duration": 7,
    "start_time": "2021-12-02T17:13:29.851Z"
   },
   {
    "duration": 40,
    "start_time": "2021-12-02T17:13:29.860Z"
   },
   {
    "duration": 26,
    "start_time": "2021-12-02T17:13:29.902Z"
   },
   {
    "duration": 9,
    "start_time": "2021-12-02T17:13:29.930Z"
   },
   {
    "duration": 3,
    "start_time": "2021-12-02T17:13:29.941Z"
   },
   {
    "duration": 24,
    "start_time": "2021-12-02T17:13:31.397Z"
   },
   {
    "duration": 11,
    "start_time": "2021-12-02T17:13:31.423Z"
   },
   {
    "duration": 5,
    "start_time": "2021-12-02T17:13:31.436Z"
   },
   {
    "duration": 19,
    "start_time": "2021-12-02T17:13:31.443Z"
   },
   {
    "duration": 33,
    "start_time": "2021-12-02T17:13:31.464Z"
   },
   {
    "duration": 6,
    "start_time": "2021-12-02T17:13:31.499Z"
   },
   {
    "duration": 7,
    "start_time": "2021-12-02T17:13:31.506Z"
   },
   {
    "duration": 13,
    "start_time": "2021-12-02T17:13:31.514Z"
   },
   {
    "duration": 8,
    "start_time": "2021-12-02T17:13:31.530Z"
   },
   {
    "duration": 9,
    "start_time": "2021-12-02T17:13:31.540Z"
   },
   {
    "duration": 5,
    "start_time": "2021-12-02T17:13:31.551Z"
   },
   {
    "duration": 38,
    "start_time": "2021-12-02T17:13:31.558Z"
   },
   {
    "duration": 8,
    "start_time": "2021-12-02T17:13:31.598Z"
   },
   {
    "duration": 11,
    "start_time": "2021-12-02T17:13:31.607Z"
   },
   {
    "duration": 8,
    "start_time": "2021-12-02T17:13:31.619Z"
   },
   {
    "duration": 5,
    "start_time": "2021-12-02T17:13:31.629Z"
   },
   {
    "duration": 11,
    "start_time": "2021-12-02T17:13:31.636Z"
   },
   {
    "duration": 7,
    "start_time": "2021-12-02T17:13:31.649Z"
   },
   {
    "duration": 37,
    "start_time": "2021-12-02T17:13:31.657Z"
   },
   {
    "duration": 7,
    "start_time": "2021-12-02T17:13:31.696Z"
   },
   {
    "duration": 6,
    "start_time": "2021-12-02T17:13:31.705Z"
   },
   {
    "duration": 7,
    "start_time": "2021-12-02T17:13:31.713Z"
   },
   {
    "duration": 4,
    "start_time": "2021-12-02T17:13:31.722Z"
   },
   {
    "duration": 7,
    "start_time": "2021-12-02T17:13:31.727Z"
   },
   {
    "duration": 10,
    "start_time": "2021-12-02T17:13:31.736Z"
   },
   {
    "duration": 6,
    "start_time": "2021-12-02T17:13:31.748Z"
   },
   {
    "duration": 256,
    "start_time": "2021-12-02T17:13:31.757Z"
   },
   {
    "duration": 8,
    "start_time": "2021-12-02T17:13:32.015Z"
   },
   {
    "duration": 34,
    "start_time": "2021-12-02T17:13:32.024Z"
   },
   {
    "duration": 26,
    "start_time": "2021-12-02T17:13:32.060Z"
   },
   {
    "duration": 24,
    "start_time": "2021-12-02T17:13:32.087Z"
   },
   {
    "duration": 23,
    "start_time": "2021-12-02T17:13:32.112Z"
   },
   {
    "duration": 14,
    "start_time": "2021-12-02T17:13:32.137Z"
   },
   {
    "duration": 15,
    "start_time": "2021-12-02T17:13:32.152Z"
   },
   {
    "duration": 8,
    "start_time": "2021-12-02T17:13:32.169Z"
   },
   {
    "duration": 18,
    "start_time": "2021-12-02T17:13:32.179Z"
   },
   {
    "duration": 9,
    "start_time": "2021-12-02T17:13:32.199Z"
   },
   {
    "duration": 10,
    "start_time": "2021-12-02T17:13:32.210Z"
   },
   {
    "duration": 8,
    "start_time": "2021-12-02T17:13:32.222Z"
   },
   {
    "duration": 11,
    "start_time": "2021-12-02T17:13:32.234Z"
   },
   {
    "duration": 12,
    "start_time": "2021-12-02T17:13:32.247Z"
   },
   {
    "duration": 22,
    "start_time": "2021-12-02T17:13:32.261Z"
   },
   {
    "duration": 12,
    "start_time": "2021-12-02T17:13:32.291Z"
   },
   {
    "duration": 13,
    "start_time": "2021-12-02T17:13:32.304Z"
   },
   {
    "duration": 22,
    "start_time": "2021-12-02T17:13:32.319Z"
   },
   {
    "duration": 11,
    "start_time": "2021-12-02T17:13:32.343Z"
   },
   {
    "duration": 15,
    "start_time": "2021-12-02T17:13:32.356Z"
   },
   {
    "duration": 14,
    "start_time": "2021-12-02T17:13:32.372Z"
   },
   {
    "duration": 12,
    "start_time": "2021-12-02T17:13:32.388Z"
   },
   {
    "duration": 19,
    "start_time": "2021-12-02T17:13:32.402Z"
   },
   {
    "duration": 11,
    "start_time": "2021-12-02T17:13:32.422Z"
   },
   {
    "duration": 11,
    "start_time": "2021-12-02T17:13:32.435Z"
   },
   {
    "duration": 23,
    "start_time": "2021-12-02T17:13:32.448Z"
   },
   {
    "duration": 14,
    "start_time": "2021-12-02T17:13:32.473Z"
   },
   {
    "duration": 1431,
    "start_time": "2021-12-02T17:13:32.489Z"
   },
   {
    "duration": 332,
    "start_time": "2021-12-02T17:13:33.921Z"
   },
   {
    "duration": 43,
    "start_time": "2021-12-02T17:13:34.255Z"
   },
   {
    "duration": 2,
    "start_time": "2021-12-02T17:13:34.300Z"
   },
   {
    "duration": 25,
    "start_time": "2021-12-02T17:13:34.304Z"
   },
   {
    "duration": 29,
    "start_time": "2021-12-02T17:13:34.331Z"
   },
   {
    "duration": 9,
    "start_time": "2021-12-02T17:13:34.362Z"
   },
   {
    "duration": 26,
    "start_time": "2021-12-02T17:13:34.373Z"
   },
   {
    "duration": 9,
    "start_time": "2021-12-02T17:13:34.401Z"
   },
   {
    "duration": 23,
    "start_time": "2021-12-02T17:13:34.412Z"
   },
   {
    "duration": 30,
    "start_time": "2021-12-02T17:13:34.436Z"
   },
   {
    "duration": 316,
    "start_time": "2021-12-02T17:13:34.467Z"
   },
   {
    "duration": 8,
    "start_time": "2021-12-02T17:13:34.784Z"
   },
   {
    "duration": 6,
    "start_time": "2021-12-02T17:13:34.794Z"
   },
   {
    "duration": 6,
    "start_time": "2021-12-02T17:13:34.802Z"
   },
   {
    "duration": 9,
    "start_time": "2021-12-02T17:13:34.809Z"
   },
   {
    "duration": 10,
    "start_time": "2021-12-02T17:13:34.820Z"
   },
   {
    "duration": 5,
    "start_time": "2021-12-02T17:13:34.832Z"
   },
   {
    "duration": 5,
    "start_time": "2021-12-02T17:13:34.839Z"
   },
   {
    "duration": 8,
    "start_time": "2021-12-02T17:13:34.845Z"
   },
   {
    "duration": 5,
    "start_time": "2021-12-02T17:13:34.854Z"
   },
   {
    "duration": 32,
    "start_time": "2021-12-02T17:13:34.861Z"
   },
   {
    "duration": 12,
    "start_time": "2021-12-02T17:13:34.894Z"
   },
   {
    "duration": 4,
    "start_time": "2021-12-02T17:13:34.908Z"
   },
   {
    "duration": 7,
    "start_time": "2021-12-02T17:13:34.914Z"
   },
   {
    "duration": 4,
    "start_time": "2021-12-02T17:13:34.923Z"
   },
   {
    "duration": 11,
    "start_time": "2021-12-02T17:13:34.929Z"
   },
   {
    "duration": 17,
    "start_time": "2021-12-02T17:13:34.942Z"
   },
   {
    "duration": 10,
    "start_time": "2021-12-02T17:14:25.591Z"
   },
   {
    "duration": 12,
    "start_time": "2021-12-02T17:15:08.432Z"
   },
   {
    "duration": 254,
    "start_time": "2021-12-02T17:15:28.002Z"
   },
   {
    "duration": 4065,
    "start_time": "2021-12-02T17:15:35.753Z"
   },
   {
    "duration": 8,
    "start_time": "2021-12-02T17:15:46.663Z"
   },
   {
    "duration": 11,
    "start_time": "2021-12-02T17:16:33.031Z"
   },
   {
    "duration": 4256,
    "start_time": "2021-12-02T17:17:17.864Z"
   },
   {
    "duration": 12,
    "start_time": "2021-12-02T17:17:31.517Z"
   },
   {
    "duration": 9,
    "start_time": "2021-12-02T17:35:26.357Z"
   },
   {
    "duration": 5,
    "start_time": "2021-12-02T17:36:46.920Z"
   },
   {
    "duration": 4,
    "start_time": "2021-12-02T17:37:01.140Z"
   },
   {
    "duration": 6,
    "start_time": "2021-12-02T17:37:50.098Z"
   },
   {
    "duration": 13,
    "start_time": "2021-12-02T17:38:08.822Z"
   },
   {
    "duration": 412,
    "start_time": "2021-12-02T17:40:17.248Z"
   },
   {
    "duration": 196,
    "start_time": "2021-12-02T17:40:35.515Z"
   },
   {
    "duration": 191,
    "start_time": "2021-12-02T17:41:55.916Z"
   },
   {
    "duration": 4280,
    "start_time": "2021-12-02T17:44:48.967Z"
   },
   {
    "duration": 8,
    "start_time": "2021-12-02T17:45:08.896Z"
   },
   {
    "duration": 4275,
    "start_time": "2021-12-02T17:45:29.433Z"
   },
   {
    "duration": 6,
    "start_time": "2021-12-02T17:45:38.388Z"
   },
   {
    "duration": 4,
    "start_time": "2021-12-02T17:46:28.981Z"
   },
   {
    "duration": 4,
    "start_time": "2021-12-02T17:49:02.769Z"
   },
   {
    "duration": 4,
    "start_time": "2021-12-02T17:49:32.096Z"
   },
   {
    "duration": 11,
    "start_time": "2021-12-02T17:53:15.958Z"
   },
   {
    "duration": 6,
    "start_time": "2021-12-02T17:53:21.019Z"
   },
   {
    "duration": 8,
    "start_time": "2021-12-02T17:55:05.414Z"
   },
   {
    "duration": 10,
    "start_time": "2021-12-02T17:56:04.482Z"
   },
   {
    "duration": 7,
    "start_time": "2021-12-02T17:56:33.512Z"
   },
   {
    "duration": 5,
    "start_time": "2021-12-02T17:56:40.207Z"
   },
   {
    "duration": 5,
    "start_time": "2021-12-02T17:56:49.556Z"
   },
   {
    "duration": 3,
    "start_time": "2021-12-02T18:01:43.982Z"
   },
   {
    "duration": 1146,
    "start_time": "2021-12-02T18:01:43.990Z"
   },
   {
    "duration": 411,
    "start_time": "2021-12-02T18:01:45.138Z"
   },
   {
    "duration": 2,
    "start_time": "2021-12-02T18:01:45.551Z"
   },
   {
    "duration": 54,
    "start_time": "2021-12-02T18:01:45.555Z"
   },
   {
    "duration": 35,
    "start_time": "2021-12-02T18:01:45.610Z"
   },
   {
    "duration": 9,
    "start_time": "2021-12-02T18:01:45.646Z"
   },
   {
    "duration": 35,
    "start_time": "2021-12-02T18:01:45.657Z"
   },
   {
    "duration": 3,
    "start_time": "2021-12-02T18:01:45.695Z"
   },
   {
    "duration": 44,
    "start_time": "2021-12-02T18:01:45.700Z"
   },
   {
    "duration": 4,
    "start_time": "2021-12-02T18:01:45.745Z"
   },
   {
    "duration": 7,
    "start_time": "2021-12-02T18:01:45.750Z"
   },
   {
    "duration": 4,
    "start_time": "2021-12-02T18:01:45.758Z"
   },
   {
    "duration": 32,
    "start_time": "2021-12-02T18:01:45.763Z"
   },
   {
    "duration": 7,
    "start_time": "2021-12-02T18:01:45.797Z"
   },
   {
    "duration": 9,
    "start_time": "2021-12-02T18:01:45.806Z"
   },
   {
    "duration": 32,
    "start_time": "2021-12-02T18:01:45.816Z"
   },
   {
    "duration": 14,
    "start_time": "2021-12-02T18:01:45.849Z"
   },
   {
    "duration": 60,
    "start_time": "2021-12-02T18:01:45.865Z"
   },
   {
    "duration": 11,
    "start_time": "2021-12-02T18:01:45.926Z"
   },
   {
    "duration": 11,
    "start_time": "2021-12-02T18:01:45.938Z"
   },
   {
    "duration": 6,
    "start_time": "2021-12-02T18:01:45.950Z"
   },
   {
    "duration": 9,
    "start_time": "2021-12-02T18:01:45.957Z"
   },
   {
    "duration": 7,
    "start_time": "2021-12-02T18:01:45.994Z"
   },
   {
    "duration": 8,
    "start_time": "2021-12-02T18:01:46.003Z"
   },
   {
    "duration": 6,
    "start_time": "2021-12-02T18:01:46.013Z"
   },
   {
    "duration": 6,
    "start_time": "2021-12-02T18:01:46.021Z"
   },
   {
    "duration": 18,
    "start_time": "2021-12-02T18:01:46.028Z"
   },
   {
    "duration": 47,
    "start_time": "2021-12-02T18:01:46.048Z"
   },
   {
    "duration": 53,
    "start_time": "2021-12-02T18:01:46.097Z"
   },
   {
    "duration": 15,
    "start_time": "2021-12-02T18:01:46.152Z"
   },
   {
    "duration": 3,
    "start_time": "2021-12-02T18:01:46.168Z"
   },
   {
    "duration": 81,
    "start_time": "2021-12-02T18:01:46.172Z"
   },
   {
    "duration": 4,
    "start_time": "2021-12-02T18:01:46.254Z"
   },
   {
    "duration": 64,
    "start_time": "2021-12-02T18:01:46.260Z"
   },
   {
    "duration": 3,
    "start_time": "2021-12-02T18:01:46.326Z"
   },
   {
    "duration": 15,
    "start_time": "2021-12-02T18:01:46.331Z"
   },
   {
    "duration": 7,
    "start_time": "2021-12-02T18:01:46.347Z"
   },
   {
    "duration": 8,
    "start_time": "2021-12-02T18:01:46.355Z"
   },
   {
    "duration": 7,
    "start_time": "2021-12-02T18:01:46.392Z"
   },
   {
    "duration": 10,
    "start_time": "2021-12-02T18:01:46.401Z"
   },
   {
    "duration": 30,
    "start_time": "2021-12-02T18:01:46.412Z"
   },
   {
    "duration": 10,
    "start_time": "2021-12-02T18:01:46.444Z"
   },
   {
    "duration": 5,
    "start_time": "2021-12-02T18:01:46.455Z"
   },
   {
    "duration": 48,
    "start_time": "2021-12-02T18:01:46.462Z"
   },
   {
    "duration": 10,
    "start_time": "2021-12-02T18:01:46.511Z"
   },
   {
    "duration": 5,
    "start_time": "2021-12-02T18:01:46.523Z"
   },
   {
    "duration": 10,
    "start_time": "2021-12-02T18:01:46.529Z"
   },
   {
    "duration": 7,
    "start_time": "2021-12-02T18:01:46.541Z"
   },
   {
    "duration": 6,
    "start_time": "2021-12-02T18:01:46.549Z"
   },
   {
    "duration": 40,
    "start_time": "2021-12-02T18:01:46.556Z"
   },
   {
    "duration": 10,
    "start_time": "2021-12-02T18:01:46.598Z"
   },
   {
    "duration": 6,
    "start_time": "2021-12-02T18:01:46.609Z"
   },
   {
    "duration": 9,
    "start_time": "2021-12-02T18:01:46.617Z"
   },
   {
    "duration": 2,
    "start_time": "2021-12-02T18:01:46.628Z"
   },
   {
    "duration": 9,
    "start_time": "2021-12-02T18:01:46.631Z"
   },
   {
    "duration": 6,
    "start_time": "2021-12-02T18:01:46.641Z"
   },
   {
    "duration": 6,
    "start_time": "2021-12-02T18:01:46.648Z"
   },
   {
    "duration": 41,
    "start_time": "2021-12-02T18:01:46.655Z"
   },
   {
    "duration": 5,
    "start_time": "2021-12-02T18:01:46.698Z"
   },
   {
    "duration": 8,
    "start_time": "2021-12-02T18:01:46.704Z"
   },
   {
    "duration": 4,
    "start_time": "2021-12-02T18:01:46.713Z"
   },
   {
    "duration": 7,
    "start_time": "2021-12-02T18:01:46.719Z"
   },
   {
    "duration": 6,
    "start_time": "2021-12-02T18:01:46.727Z"
   },
   {
    "duration": 6,
    "start_time": "2021-12-02T18:01:46.735Z"
   },
   {
    "duration": 48,
    "start_time": "2021-12-02T18:01:46.743Z"
   },
   {
    "duration": 4,
    "start_time": "2021-12-02T18:01:46.793Z"
   },
   {
    "duration": 8,
    "start_time": "2021-12-02T18:01:46.799Z"
   },
   {
    "duration": 5,
    "start_time": "2021-12-02T18:01:46.813Z"
   },
   {
    "duration": 6,
    "start_time": "2021-12-02T18:01:46.820Z"
   },
   {
    "duration": 218,
    "start_time": "2021-12-02T18:01:46.828Z"
   },
   {
    "duration": 8,
    "start_time": "2021-12-02T18:01:47.048Z"
   },
   {
    "duration": 16,
    "start_time": "2021-12-02T18:01:47.058Z"
   },
   {
    "duration": 6,
    "start_time": "2021-12-02T18:01:47.091Z"
   },
   {
    "duration": 6,
    "start_time": "2021-12-02T18:01:47.098Z"
   },
   {
    "duration": 6,
    "start_time": "2021-12-02T18:01:47.106Z"
   },
   {
    "duration": 6,
    "start_time": "2021-12-02T18:01:47.114Z"
   },
   {
    "duration": 7,
    "start_time": "2021-12-02T18:01:47.121Z"
   },
   {
    "duration": 9,
    "start_time": "2021-12-02T18:01:47.129Z"
   },
   {
    "duration": 6,
    "start_time": "2021-12-02T18:01:47.139Z"
   },
   {
    "duration": 6,
    "start_time": "2021-12-02T18:01:47.146Z"
   },
   {
    "duration": 41,
    "start_time": "2021-12-02T18:01:47.154Z"
   },
   {
    "duration": 7,
    "start_time": "2021-12-02T18:01:47.197Z"
   },
   {
    "duration": 8,
    "start_time": "2021-12-02T18:01:47.206Z"
   },
   {
    "duration": 10,
    "start_time": "2021-12-02T18:01:47.215Z"
   },
   {
    "duration": 8,
    "start_time": "2021-12-02T18:01:47.227Z"
   },
   {
    "duration": 7,
    "start_time": "2021-12-02T18:01:47.236Z"
   },
   {
    "duration": 8,
    "start_time": "2021-12-02T18:01:47.244Z"
   },
   {
    "duration": 41,
    "start_time": "2021-12-02T18:01:47.254Z"
   },
   {
    "duration": 5,
    "start_time": "2021-12-02T18:01:47.297Z"
   },
   {
    "duration": 6,
    "start_time": "2021-12-02T18:01:47.304Z"
   },
   {
    "duration": 7,
    "start_time": "2021-12-02T18:01:47.312Z"
   },
   {
    "duration": 12,
    "start_time": "2021-12-02T18:01:47.320Z"
   },
   {
    "duration": 5,
    "start_time": "2021-12-02T18:01:47.333Z"
   },
   {
    "duration": 5,
    "start_time": "2021-12-02T18:01:47.339Z"
   },
   {
    "duration": 4,
    "start_time": "2021-12-02T18:01:47.345Z"
   },
   {
    "duration": 44,
    "start_time": "2021-12-02T18:01:47.351Z"
   },
   {
    "duration": 10,
    "start_time": "2021-12-02T18:01:47.397Z"
   },
   {
    "duration": 1403,
    "start_time": "2021-12-02T18:01:47.408Z"
   },
   {
    "duration": 330,
    "start_time": "2021-12-02T18:01:48.813Z"
   },
   {
    "duration": 31,
    "start_time": "2021-12-02T18:01:49.144Z"
   },
   {
    "duration": 16,
    "start_time": "2021-12-02T18:01:49.176Z"
   },
   {
    "duration": 8,
    "start_time": "2021-12-02T18:01:49.193Z"
   },
   {
    "duration": 5,
    "start_time": "2021-12-02T18:01:49.203Z"
   },
   {
    "duration": 4,
    "start_time": "2021-12-02T18:01:49.209Z"
   },
   {
    "duration": 6,
    "start_time": "2021-12-02T18:01:49.214Z"
   },
   {
    "duration": 6,
    "start_time": "2021-12-02T18:01:49.222Z"
   },
   {
    "duration": 5,
    "start_time": "2021-12-02T18:01:49.229Z"
   },
   {
    "duration": 12,
    "start_time": "2021-12-02T18:01:49.235Z"
   },
   {
    "duration": 319,
    "start_time": "2021-12-02T18:01:49.249Z"
   },
   {
    "duration": 5,
    "start_time": "2021-12-02T18:01:49.569Z"
   },
   {
    "duration": 17,
    "start_time": "2021-12-02T18:01:49.575Z"
   },
   {
    "duration": 13,
    "start_time": "2021-12-02T18:01:49.594Z"
   },
   {
    "duration": 11,
    "start_time": "2021-12-02T18:01:49.608Z"
   },
   {
    "duration": 22,
    "start_time": "2021-12-02T18:01:49.620Z"
   },
   {
    "duration": 14,
    "start_time": "2021-12-02T18:01:49.644Z"
   },
   {
    "duration": 17,
    "start_time": "2021-12-02T18:01:49.660Z"
   },
   {
    "duration": 31,
    "start_time": "2021-12-02T18:01:49.679Z"
   },
   {
    "duration": 27,
    "start_time": "2021-12-02T18:01:49.712Z"
   },
   {
    "duration": 16,
    "start_time": "2021-12-02T18:01:49.740Z"
   },
   {
    "duration": 18,
    "start_time": "2021-12-02T18:01:49.758Z"
   },
   {
    "duration": 19,
    "start_time": "2021-12-02T18:01:49.778Z"
   },
   {
    "duration": 20,
    "start_time": "2021-12-02T18:01:49.799Z"
   },
   {
    "duration": 27,
    "start_time": "2021-12-02T18:01:49.820Z"
   },
   {
    "duration": 18,
    "start_time": "2021-12-02T18:01:49.848Z"
   },
   {
    "duration": 19,
    "start_time": "2021-12-02T18:01:49.867Z"
   },
   {
    "duration": 7,
    "start_time": "2021-12-02T18:01:49.888Z"
   },
   {
    "duration": 3,
    "start_time": "2021-12-02T18:01:49.897Z"
   },
   {
    "duration": 6,
    "start_time": "2021-12-02T18:01:49.902Z"
   },
   {
    "duration": 5,
    "start_time": "2021-12-02T18:01:49.909Z"
   },
   {
    "duration": 384,
    "start_time": "2022-02-08T11:39:13.264Z"
   },
   {
    "duration": 4,
    "start_time": "2022-02-08T11:39:22.244Z"
   },
   {
    "duration": 1419,
    "start_time": "2022-02-08T11:39:22.252Z"
   },
   {
    "duration": 467,
    "start_time": "2022-02-08T11:39:23.677Z"
   },
   {
    "duration": 4,
    "start_time": "2022-02-08T11:39:24.146Z"
   },
   {
    "duration": 67,
    "start_time": "2022-02-08T11:39:24.152Z"
   },
   {
    "duration": 52,
    "start_time": "2022-02-08T11:39:24.224Z"
   },
   {
    "duration": 49,
    "start_time": "2022-02-08T11:39:24.278Z"
   },
   {
    "duration": 7,
    "start_time": "2022-02-08T11:39:24.331Z"
   },
   {
    "duration": 4,
    "start_time": "2022-02-08T11:39:24.341Z"
   },
   {
    "duration": 79,
    "start_time": "2022-02-08T11:39:24.347Z"
   },
   {
    "duration": 5,
    "start_time": "2022-02-08T11:39:24.428Z"
   },
   {
    "duration": 10,
    "start_time": "2022-02-08T11:39:24.434Z"
   },
   {
    "duration": 5,
    "start_time": "2022-02-08T11:39:24.447Z"
   },
   {
    "duration": 13,
    "start_time": "2022-02-08T11:39:24.455Z"
   },
   {
    "duration": 58,
    "start_time": "2022-02-08T11:39:24.471Z"
   },
   {
    "duration": 13,
    "start_time": "2022-02-08T11:39:24.531Z"
   },
   {
    "duration": 43,
    "start_time": "2022-02-08T11:39:24.547Z"
   },
   {
    "duration": 40,
    "start_time": "2022-02-08T11:39:24.593Z"
   },
   {
    "duration": 98,
    "start_time": "2022-02-08T11:39:24.636Z"
   },
   {
    "duration": 15,
    "start_time": "2022-02-08T11:39:24.737Z"
   },
   {
    "duration": 17,
    "start_time": "2022-02-08T11:39:24.754Z"
   },
   {
    "duration": 6,
    "start_time": "2022-02-08T11:39:24.773Z"
   },
   {
    "duration": 43,
    "start_time": "2022-02-08T11:39:24.781Z"
   },
   {
    "duration": 14,
    "start_time": "2022-02-08T11:39:24.827Z"
   },
   {
    "duration": 11,
    "start_time": "2022-02-08T11:39:24.844Z"
   },
   {
    "duration": 11,
    "start_time": "2022-02-08T11:39:24.865Z"
   },
   {
    "duration": 48,
    "start_time": "2022-02-08T11:39:24.880Z"
   },
   {
    "duration": 21,
    "start_time": "2022-02-08T11:39:24.930Z"
   },
   {
    "duration": 21,
    "start_time": "2022-02-08T11:39:24.953Z"
   },
   {
    "duration": 103,
    "start_time": "2022-02-08T11:39:24.976Z"
   },
   {
    "duration": 19,
    "start_time": "2022-02-08T11:39:25.081Z"
   },
   {
    "duration": 22,
    "start_time": "2022-02-08T11:39:25.102Z"
   },
   {
    "duration": 97,
    "start_time": "2022-02-08T11:39:25.126Z"
   },
   {
    "duration": 6,
    "start_time": "2022-02-08T11:39:25.225Z"
   },
   {
    "duration": 72,
    "start_time": "2022-02-08T11:39:25.233Z"
   },
   {
    "duration": 7,
    "start_time": "2022-02-08T11:39:25.323Z"
   },
   {
    "duration": 25,
    "start_time": "2022-02-08T11:39:25.333Z"
   },
   {
    "duration": 9,
    "start_time": "2022-02-08T11:39:25.360Z"
   },
   {
    "duration": 60,
    "start_time": "2022-02-08T11:39:25.371Z"
   },
   {
    "duration": 12,
    "start_time": "2022-02-08T11:39:25.433Z"
   },
   {
    "duration": 10,
    "start_time": "2022-02-08T11:39:25.448Z"
   },
   {
    "duration": 70,
    "start_time": "2022-02-08T11:39:25.460Z"
   },
   {
    "duration": 15,
    "start_time": "2022-02-08T11:39:25.533Z"
   },
   {
    "duration": 6,
    "start_time": "2022-02-08T11:39:25.550Z"
   },
   {
    "duration": 31,
    "start_time": "2022-02-08T11:39:25.559Z"
   },
   {
    "duration": 15,
    "start_time": "2022-02-08T11:39:25.624Z"
   },
   {
    "duration": 10,
    "start_time": "2022-02-08T11:39:25.642Z"
   },
   {
    "duration": 15,
    "start_time": "2022-02-08T11:39:25.654Z"
   },
   {
    "duration": 11,
    "start_time": "2022-02-08T11:39:25.672Z"
   },
   {
    "duration": 56,
    "start_time": "2022-02-08T11:39:25.686Z"
   },
   {
    "duration": 13,
    "start_time": "2022-02-08T11:39:25.745Z"
   },
   {
    "duration": 18,
    "start_time": "2022-02-08T11:39:25.760Z"
   },
   {
    "duration": 43,
    "start_time": "2022-02-08T11:39:25.780Z"
   },
   {
    "duration": 15,
    "start_time": "2022-02-08T11:39:25.826Z"
   },
   {
    "duration": 5,
    "start_time": "2022-02-08T11:39:25.844Z"
   },
   {
    "duration": 10,
    "start_time": "2022-02-08T11:39:25.852Z"
   },
   {
    "duration": 13,
    "start_time": "2022-02-08T11:39:25.865Z"
   },
   {
    "duration": 10,
    "start_time": "2022-02-08T11:39:25.924Z"
   },
   {
    "duration": 12,
    "start_time": "2022-02-08T11:39:25.937Z"
   },
   {
    "duration": 5,
    "start_time": "2022-02-08T11:39:25.952Z"
   },
   {
    "duration": 12,
    "start_time": "2022-02-08T11:39:25.960Z"
   },
   {
    "duration": 51,
    "start_time": "2022-02-08T11:39:25.975Z"
   },
   {
    "duration": 11,
    "start_time": "2022-02-08T11:39:26.029Z"
   },
   {
    "duration": 13,
    "start_time": "2022-02-08T11:39:26.042Z"
   },
   {
    "duration": 8,
    "start_time": "2022-02-08T11:39:26.058Z"
   },
   {
    "duration": 12,
    "start_time": "2022-02-08T11:39:26.069Z"
   },
   {
    "duration": 42,
    "start_time": "2022-02-08T11:39:26.083Z"
   },
   {
    "duration": 7,
    "start_time": "2022-02-08T11:39:26.127Z"
   },
   {
    "duration": 13,
    "start_time": "2022-02-08T11:39:26.136Z"
   },
   {
    "duration": 8,
    "start_time": "2022-02-08T11:39:26.151Z"
   },
   {
    "duration": 402,
    "start_time": "2022-02-08T11:39:26.161Z"
   },
   {
    "duration": 12,
    "start_time": "2022-02-08T11:39:26.565Z"
   },
   {
    "duration": 44,
    "start_time": "2022-02-08T11:39:26.579Z"
   },
   {
    "duration": 9,
    "start_time": "2022-02-08T11:39:26.626Z"
   },
   {
    "duration": 10,
    "start_time": "2022-02-08T11:39:26.638Z"
   },
   {
    "duration": 16,
    "start_time": "2022-02-08T11:39:26.651Z"
   },
   {
    "duration": 10,
    "start_time": "2022-02-08T11:39:26.670Z"
   },
   {
    "duration": 42,
    "start_time": "2022-02-08T11:39:26.682Z"
   },
   {
    "duration": 10,
    "start_time": "2022-02-08T11:39:26.726Z"
   },
   {
    "duration": 6,
    "start_time": "2022-02-08T11:39:26.746Z"
   },
   {
    "duration": 9,
    "start_time": "2022-02-08T11:39:26.755Z"
   },
   {
    "duration": 16,
    "start_time": "2022-02-08T11:39:26.766Z"
   },
   {
    "duration": 9,
    "start_time": "2022-02-08T11:39:26.825Z"
   },
   {
    "duration": 16,
    "start_time": "2022-02-08T11:39:26.836Z"
   },
   {
    "duration": 12,
    "start_time": "2022-02-08T11:39:26.855Z"
   },
   {
    "duration": 11,
    "start_time": "2022-02-08T11:39:26.870Z"
   },
   {
    "duration": 44,
    "start_time": "2022-02-08T11:39:26.884Z"
   },
   {
    "duration": 14,
    "start_time": "2022-02-08T11:39:26.931Z"
   },
   {
    "duration": 21,
    "start_time": "2022-02-08T11:39:26.948Z"
   },
   {
    "duration": 9,
    "start_time": "2022-02-08T11:39:26.971Z"
   },
   {
    "duration": 46,
    "start_time": "2022-02-08T11:39:26.984Z"
   },
   {
    "duration": 10,
    "start_time": "2022-02-08T11:39:27.034Z"
   },
   {
    "duration": 13,
    "start_time": "2022-02-08T11:39:27.046Z"
   },
   {
    "duration": 8,
    "start_time": "2022-02-08T11:39:27.062Z"
   },
   {
    "duration": 7,
    "start_time": "2022-02-08T11:39:27.073Z"
   },
   {
    "duration": 42,
    "start_time": "2022-02-08T11:39:27.083Z"
   },
   {
    "duration": 27,
    "start_time": "2022-02-08T11:39:27.127Z"
   },
   {
    "duration": 14,
    "start_time": "2022-02-08T11:39:27.156Z"
   },
   {
    "duration": 2186,
    "start_time": "2022-02-08T11:39:27.172Z"
   },
   {
    "duration": 462,
    "start_time": "2022-02-08T11:39:29.361Z"
   },
   {
    "duration": 43,
    "start_time": "2022-02-08T11:39:29.825Z"
   },
   {
    "duration": 3,
    "start_time": "2022-02-08T11:39:29.871Z"
   },
   {
    "duration": 10,
    "start_time": "2022-02-08T11:39:29.877Z"
   },
   {
    "duration": 40,
    "start_time": "2022-02-08T11:39:29.889Z"
   },
   {
    "duration": 5,
    "start_time": "2022-02-08T11:39:29.931Z"
   },
   {
    "duration": 8,
    "start_time": "2022-02-08T11:39:29.938Z"
   },
   {
    "duration": 10,
    "start_time": "2022-02-08T11:39:29.949Z"
   },
   {
    "duration": 7,
    "start_time": "2022-02-08T11:39:29.961Z"
   },
   {
    "duration": 61,
    "start_time": "2022-02-08T11:39:29.970Z"
   },
   {
    "duration": 430,
    "start_time": "2022-02-08T11:39:30.034Z"
   },
   {
    "duration": 6,
    "start_time": "2022-02-08T11:39:30.467Z"
   },
   {
    "duration": 12,
    "start_time": "2022-02-08T11:39:30.476Z"
   },
   {
    "duration": 22,
    "start_time": "2022-02-08T11:39:30.490Z"
   },
   {
    "duration": 6,
    "start_time": "2022-02-08T11:39:30.524Z"
   },
   {
    "duration": 28,
    "start_time": "2022-02-08T11:39:30.532Z"
   },
   {
    "duration": 21,
    "start_time": "2022-02-08T11:39:30.562Z"
   },
   {
    "duration": 14,
    "start_time": "2022-02-08T11:39:30.585Z"
   },
   {
    "duration": 30,
    "start_time": "2022-02-08T11:39:30.601Z"
   },
   {
    "duration": 27,
    "start_time": "2022-02-08T11:39:30.633Z"
   },
   {
    "duration": 32,
    "start_time": "2022-02-08T11:39:30.664Z"
   },
   {
    "duration": 42,
    "start_time": "2022-02-08T11:39:30.699Z"
   },
   {
    "duration": 18,
    "start_time": "2022-02-08T11:39:30.743Z"
   },
   {
    "duration": 20,
    "start_time": "2022-02-08T11:39:30.764Z"
   },
   {
    "duration": 28,
    "start_time": "2022-02-08T11:39:30.786Z"
   },
   {
    "duration": 22,
    "start_time": "2022-02-08T11:39:30.817Z"
   },
   {
    "duration": 24,
    "start_time": "2022-02-08T11:39:30.842Z"
   },
   {
    "duration": 19,
    "start_time": "2022-02-08T11:39:30.869Z"
   },
   {
    "duration": 26,
    "start_time": "2022-02-08T11:39:30.891Z"
   },
   {
    "duration": 32,
    "start_time": "2022-02-08T11:39:30.920Z"
   },
   {
    "duration": 28,
    "start_time": "2022-02-08T11:39:30.955Z"
   },
   {
    "duration": 1642,
    "start_time": "2022-05-25T19:01:44.330Z"
   },
   {
    "duration": 1152,
    "start_time": "2022-05-25T19:01:45.974Z"
   },
   {
    "duration": 4,
    "start_time": "2022-05-25T19:01:47.128Z"
   },
   {
    "duration": 83,
    "start_time": "2022-05-25T19:01:47.134Z"
   },
   {
    "duration": 35,
    "start_time": "2022-05-25T19:01:47.224Z"
   },
   {
    "duration": 10,
    "start_time": "2022-05-25T19:01:47.260Z"
   },
   {
    "duration": 33,
    "start_time": "2022-05-25T19:01:47.271Z"
   },
   {
    "duration": 5,
    "start_time": "2022-05-25T19:01:47.306Z"
   },
   {
    "duration": 36,
    "start_time": "2022-05-25T19:01:47.314Z"
   },
   {
    "duration": 3,
    "start_time": "2022-05-25T19:01:47.352Z"
   },
   {
    "duration": 6,
    "start_time": "2022-05-25T19:01:47.357Z"
   },
   {
    "duration": 3,
    "start_time": "2022-05-25T19:01:47.365Z"
   },
   {
    "duration": 39,
    "start_time": "2022-05-25T19:01:47.370Z"
   },
   {
    "duration": 14,
    "start_time": "2022-05-25T19:01:47.412Z"
   },
   {
    "duration": 14,
    "start_time": "2022-05-25T19:01:47.427Z"
   },
   {
    "duration": 36,
    "start_time": "2022-05-25T19:01:47.443Z"
   },
   {
    "duration": 37,
    "start_time": "2022-05-25T19:01:47.481Z"
   },
   {
    "duration": 48,
    "start_time": "2022-05-25T19:01:47.520Z"
   },
   {
    "duration": 38,
    "start_time": "2022-05-25T19:01:47.569Z"
   },
   {
    "duration": 17,
    "start_time": "2022-05-25T19:01:47.609Z"
   },
   {
    "duration": 6,
    "start_time": "2022-05-25T19:01:47.628Z"
   },
   {
    "duration": 8,
    "start_time": "2022-05-25T19:01:47.636Z"
   },
   {
    "duration": 7,
    "start_time": "2022-05-25T19:01:47.645Z"
   },
   {
    "duration": 9,
    "start_time": "2022-05-25T19:01:47.653Z"
   },
   {
    "duration": 48,
    "start_time": "2022-05-25T19:01:47.663Z"
   },
   {
    "duration": 18,
    "start_time": "2022-05-25T19:01:47.713Z"
   },
   {
    "duration": 17,
    "start_time": "2022-05-25T19:01:47.732Z"
   },
   {
    "duration": 15,
    "start_time": "2022-05-25T19:01:47.750Z"
   },
   {
    "duration": 82,
    "start_time": "2022-05-25T19:01:47.766Z"
   },
   {
    "duration": 43,
    "start_time": "2022-05-25T19:01:47.850Z"
   },
   {
    "duration": 11,
    "start_time": "2022-05-25T19:01:47.894Z"
   },
   {
    "duration": 163,
    "start_time": "2022-05-25T19:01:47.909Z"
   },
   {
    "duration": 3,
    "start_time": "2022-05-25T19:01:48.074Z"
   },
   {
    "duration": 86,
    "start_time": "2022-05-25T19:01:48.078Z"
   },
   {
    "duration": 3,
    "start_time": "2022-05-25T19:01:48.165Z"
   },
   {
    "duration": 14,
    "start_time": "2022-05-25T19:01:48.170Z"
   },
   {
    "duration": 34,
    "start_time": "2022-05-25T19:01:48.185Z"
   },
   {
    "duration": 20,
    "start_time": "2022-05-25T19:01:48.220Z"
   },
   {
    "duration": 18,
    "start_time": "2022-05-25T19:01:48.242Z"
   },
   {
    "duration": 8,
    "start_time": "2022-05-25T19:01:48.262Z"
   },
   {
    "duration": 36,
    "start_time": "2022-05-25T19:01:48.276Z"
   },
   {
    "duration": 14,
    "start_time": "2022-05-25T19:01:48.314Z"
   },
   {
    "duration": 5,
    "start_time": "2022-05-25T19:01:48.330Z"
   },
   {
    "duration": 28,
    "start_time": "2022-05-25T19:01:48.338Z"
   },
   {
    "duration": 44,
    "start_time": "2022-05-25T19:01:48.368Z"
   },
   {
    "duration": 6,
    "start_time": "2022-05-25T19:01:48.414Z"
   },
   {
    "duration": 28,
    "start_time": "2022-05-25T19:01:48.421Z"
   },
   {
    "duration": 12,
    "start_time": "2022-05-25T19:01:48.451Z"
   },
   {
    "duration": 11,
    "start_time": "2022-05-25T19:01:48.464Z"
   },
   {
    "duration": 36,
    "start_time": "2022-05-25T19:01:48.477Z"
   },
   {
    "duration": 26,
    "start_time": "2022-05-25T19:01:48.516Z"
   },
   {
    "duration": 8,
    "start_time": "2022-05-25T19:01:48.544Z"
   },
   {
    "duration": 12,
    "start_time": "2022-05-25T19:01:48.554Z"
   },
   {
    "duration": 5,
    "start_time": "2022-05-25T19:01:48.568Z"
   },
   {
    "duration": 12,
    "start_time": "2022-05-25T19:01:48.575Z"
   },
   {
    "duration": 18,
    "start_time": "2022-05-25T19:01:48.607Z"
   },
   {
    "duration": 21,
    "start_time": "2022-05-25T19:01:48.627Z"
   },
   {
    "duration": 12,
    "start_time": "2022-05-25T19:01:48.650Z"
   },
   {
    "duration": 5,
    "start_time": "2022-05-25T19:01:48.664Z"
   },
   {
    "duration": 11,
    "start_time": "2022-05-25T19:01:48.670Z"
   },
   {
    "duration": 4,
    "start_time": "2022-05-25T19:01:48.683Z"
   },
   {
    "duration": 8,
    "start_time": "2022-05-25T19:01:48.702Z"
   },
   {
    "duration": 18,
    "start_time": "2022-05-25T19:01:48.712Z"
   },
   {
    "duration": 13,
    "start_time": "2022-05-25T19:01:48.732Z"
   },
   {
    "duration": 12,
    "start_time": "2022-05-25T19:01:48.747Z"
   },
   {
    "duration": 5,
    "start_time": "2022-05-25T19:01:48.760Z"
   },
   {
    "duration": 5,
    "start_time": "2022-05-25T19:01:48.766Z"
   },
   {
    "duration": 10,
    "start_time": "2022-05-25T19:01:48.773Z"
   },
   {
    "duration": 8,
    "start_time": "2022-05-25T19:01:48.803Z"
   },
   {
    "duration": 112,
    "start_time": "2022-05-25T19:01:48.813Z"
   },
   {
    "duration": 11,
    "start_time": "2022-05-25T19:01:48.928Z"
   },
   {
    "duration": 17,
    "start_time": "2022-05-25T19:01:48.940Z"
   },
   {
    "duration": 7,
    "start_time": "2022-05-25T19:01:48.959Z"
   },
   {
    "duration": 6,
    "start_time": "2022-05-25T19:01:48.967Z"
   },
   {
    "duration": 35,
    "start_time": "2022-05-25T19:01:48.975Z"
   },
   {
    "duration": 9,
    "start_time": "2022-05-25T19:01:49.013Z"
   },
   {
    "duration": 11,
    "start_time": "2022-05-25T19:01:49.024Z"
   },
   {
    "duration": 7,
    "start_time": "2022-05-25T19:01:49.037Z"
   },
   {
    "duration": 9,
    "start_time": "2022-05-25T19:01:49.045Z"
   },
   {
    "duration": 7,
    "start_time": "2022-05-25T19:01:49.055Z"
   },
   {
    "duration": 7,
    "start_time": "2022-05-25T19:01:49.063Z"
   },
   {
    "duration": 7,
    "start_time": "2022-05-25T19:01:49.071Z"
   },
   {
    "duration": 8,
    "start_time": "2022-05-25T19:01:49.103Z"
   },
   {
    "duration": 20,
    "start_time": "2022-05-25T19:01:49.114Z"
   },
   {
    "duration": 14,
    "start_time": "2022-05-25T19:01:49.135Z"
   },
   {
    "duration": 5,
    "start_time": "2022-05-25T19:01:49.151Z"
   },
   {
    "duration": 10,
    "start_time": "2022-05-25T19:01:49.157Z"
   },
   {
    "duration": 11,
    "start_time": "2022-05-25T19:01:49.168Z"
   },
   {
    "duration": 5,
    "start_time": "2022-05-25T19:01:49.180Z"
   },
   {
    "duration": 19,
    "start_time": "2022-05-25T19:01:49.186Z"
   },
   {
    "duration": 7,
    "start_time": "2022-05-25T19:01:49.208Z"
   },
   {
    "duration": 12,
    "start_time": "2022-05-25T19:01:49.218Z"
   },
   {
    "duration": 6,
    "start_time": "2022-05-25T19:01:49.231Z"
   },
   {
    "duration": 5,
    "start_time": "2022-05-25T19:01:49.238Z"
   },
   {
    "duration": 5,
    "start_time": "2022-05-25T19:01:49.244Z"
   },
   {
    "duration": 52,
    "start_time": "2022-05-25T19:01:49.250Z"
   },
   {
    "duration": 19,
    "start_time": "2022-05-25T19:01:49.306Z"
   },
   {
    "duration": 1397,
    "start_time": "2022-05-25T19:01:49.328Z"
   },
   {
    "duration": 221,
    "start_time": "2022-05-25T19:01:50.727Z"
   },
   {
    "duration": 30,
    "start_time": "2022-05-25T19:01:50.950Z"
   },
   {
    "duration": 3,
    "start_time": "2022-05-25T19:01:50.981Z"
   },
   {
    "duration": 31,
    "start_time": "2022-05-25T19:01:50.986Z"
   },
   {
    "duration": 13,
    "start_time": "2022-05-25T19:01:51.020Z"
   },
   {
    "duration": 5,
    "start_time": "2022-05-25T19:01:51.034Z"
   },
   {
    "duration": 7,
    "start_time": "2022-05-25T19:01:51.041Z"
   },
   {
    "duration": 6,
    "start_time": "2022-05-25T19:01:51.049Z"
   },
   {
    "duration": 5,
    "start_time": "2022-05-25T19:01:51.057Z"
   },
   {
    "duration": 12,
    "start_time": "2022-05-25T19:01:51.063Z"
   },
   {
    "duration": 322,
    "start_time": "2022-05-25T19:01:51.105Z"
   },
   {
    "duration": 7,
    "start_time": "2022-05-25T19:01:51.430Z"
   },
   {
    "duration": 11,
    "start_time": "2022-05-25T19:01:51.439Z"
   },
   {
    "duration": 6,
    "start_time": "2022-05-25T19:01:51.452Z"
   },
   {
    "duration": 5,
    "start_time": "2022-05-25T19:01:51.460Z"
   },
   {
    "duration": 41,
    "start_time": "2022-05-25T19:01:51.467Z"
   },
   {
    "duration": 6,
    "start_time": "2022-05-25T19:01:51.512Z"
   },
   {
    "duration": 9,
    "start_time": "2022-05-25T19:01:51.521Z"
   },
   {
    "duration": 6,
    "start_time": "2022-05-25T19:01:51.531Z"
   },
   {
    "duration": 12,
    "start_time": "2022-05-25T19:01:51.539Z"
   },
   {
    "duration": 5,
    "start_time": "2022-05-25T19:01:51.552Z"
   },
   {
    "duration": 7,
    "start_time": "2022-05-25T19:01:51.559Z"
   },
   {
    "duration": 5,
    "start_time": "2022-05-25T19:01:51.567Z"
   },
   {
    "duration": 7,
    "start_time": "2022-05-25T19:01:51.608Z"
   },
   {
    "duration": 10,
    "start_time": "2022-05-25T19:01:51.618Z"
   },
   {
    "duration": 9,
    "start_time": "2022-05-25T19:01:51.630Z"
   },
   {
    "duration": 12,
    "start_time": "2022-05-25T19:01:51.640Z"
   },
   {
    "duration": 8,
    "start_time": "2022-05-25T19:01:51.654Z"
   },
   {
    "duration": 41,
    "start_time": "2022-05-25T19:01:51.663Z"
   },
   {
    "duration": 34,
    "start_time": "2022-05-25T19:01:51.707Z"
   },
   {
    "duration": 13,
    "start_time": "2022-05-25T19:01:51.743Z"
   },
   {
    "duration": 1186,
    "start_time": "2022-05-25T19:51:30.833Z"
   },
   {
    "duration": 1062,
    "start_time": "2022-05-25T19:51:47.432Z"
   },
   {
    "duration": 1133,
    "start_time": "2022-05-25T19:52:08.543Z"
   },
   {
    "duration": 940,
    "start_time": "2022-05-25T19:52:21.300Z"
   },
   {
    "duration": 403,
    "start_time": "2022-05-25T19:52:30.930Z"
   },
   {
    "duration": 883,
    "start_time": "2022-05-25T19:53:35.811Z"
   },
   {
    "duration": 1022,
    "start_time": "2022-05-25T19:54:02.040Z"
   },
   {
    "duration": 1006,
    "start_time": "2022-05-25T19:54:13.122Z"
   },
   {
    "duration": 1091,
    "start_time": "2022-05-25T19:55:25.098Z"
   },
   {
    "duration": 1117,
    "start_time": "2022-05-25T19:55:32.485Z"
   },
   {
    "duration": 1221,
    "start_time": "2022-05-25T19:55:35.445Z"
   },
   {
    "duration": 188,
    "start_time": "2022-05-25T19:56:50.568Z"
   },
   {
    "duration": 200,
    "start_time": "2022-05-25T19:57:03.758Z"
   },
   {
    "duration": 217,
    "start_time": "2022-05-25T19:57:09.843Z"
   },
   {
    "duration": 218,
    "start_time": "2022-05-25T19:57:39.521Z"
   },
   {
    "duration": 1278,
    "start_time": "2022-05-25T20:00:09.693Z"
   },
   {
    "duration": 1228,
    "start_time": "2022-05-25T20:00:10.973Z"
   },
   {
    "duration": 2,
    "start_time": "2022-05-25T20:00:12.203Z"
   },
   {
    "duration": 69,
    "start_time": "2022-05-25T20:00:12.208Z"
   },
   {
    "duration": 49,
    "start_time": "2022-05-25T20:00:12.279Z"
   },
   {
    "duration": 9,
    "start_time": "2022-05-25T20:00:12.330Z"
   },
   {
    "duration": 15,
    "start_time": "2022-05-25T20:00:12.341Z"
   },
   {
    "duration": 10,
    "start_time": "2022-05-25T20:00:12.358Z"
   },
   {
    "duration": 43,
    "start_time": "2022-05-25T20:00:12.369Z"
   },
   {
    "duration": 3,
    "start_time": "2022-05-25T20:00:12.415Z"
   },
   {
    "duration": 8,
    "start_time": "2022-05-25T20:00:12.420Z"
   },
   {
    "duration": 5,
    "start_time": "2022-05-25T20:00:12.429Z"
   },
   {
    "duration": 12,
    "start_time": "2022-05-25T20:00:12.436Z"
   },
   {
    "duration": 8,
    "start_time": "2022-05-25T20:00:12.450Z"
   },
   {
    "duration": 13,
    "start_time": "2022-05-25T20:00:12.459Z"
   },
   {
    "duration": 52,
    "start_time": "2022-05-25T20:00:12.473Z"
   },
   {
    "duration": 18,
    "start_time": "2022-05-25T20:00:12.527Z"
   },
   {
    "duration": 57,
    "start_time": "2022-05-25T20:00:12.547Z"
   },
   {
    "duration": 14,
    "start_time": "2022-05-25T20:00:12.606Z"
   },
   {
    "duration": 15,
    "start_time": "2022-05-25T20:00:12.622Z"
   },
   {
    "duration": 5,
    "start_time": "2022-05-25T20:00:12.639Z"
   },
   {
    "duration": 8,
    "start_time": "2022-05-25T20:00:12.646Z"
   },
   {
    "duration": 17,
    "start_time": "2022-05-25T20:00:12.655Z"
   },
   {
    "duration": 29,
    "start_time": "2022-05-25T20:00:12.674Z"
   },
   {
    "duration": 6,
    "start_time": "2022-05-25T20:00:12.705Z"
   },
   {
    "duration": 7,
    "start_time": "2022-05-25T20:00:12.713Z"
   },
   {
    "duration": 29,
    "start_time": "2022-05-25T20:00:12.722Z"
   },
   {
    "duration": 14,
    "start_time": "2022-05-25T20:00:12.756Z"
   },
   {
    "duration": 78,
    "start_time": "2022-05-25T20:00:12.772Z"
   },
   {
    "duration": 12,
    "start_time": "2022-05-25T20:00:12.852Z"
   },
   {
    "duration": 3,
    "start_time": "2022-05-25T20:00:12.866Z"
   },
   {
    "duration": 74,
    "start_time": "2022-05-25T20:00:12.870Z"
   },
   {
    "duration": 4,
    "start_time": "2022-05-25T20:00:12.945Z"
   },
   {
    "duration": 53,
    "start_time": "2022-05-25T20:00:12.950Z"
   },
   {
    "duration": 4,
    "start_time": "2022-05-25T20:00:13.005Z"
   },
   {
    "duration": 15,
    "start_time": "2022-05-25T20:00:13.010Z"
   },
   {
    "duration": 11,
    "start_time": "2022-05-25T20:00:13.027Z"
   },
   {
    "duration": 14,
    "start_time": "2022-05-25T20:00:13.039Z"
   },
   {
    "duration": 12,
    "start_time": "2022-05-25T20:00:13.055Z"
   },
   {
    "duration": 8,
    "start_time": "2022-05-25T20:00:13.102Z"
   },
   {
    "duration": 29,
    "start_time": "2022-05-25T20:00:13.111Z"
   },
   {
    "duration": 16,
    "start_time": "2022-05-25T20:00:13.141Z"
   },
   {
    "duration": 5,
    "start_time": "2022-05-25T20:00:13.158Z"
   },
   {
    "duration": 59,
    "start_time": "2022-05-25T20:00:13.164Z"
   },
   {
    "duration": 16,
    "start_time": "2022-05-25T20:00:13.225Z"
   },
   {
    "duration": 4,
    "start_time": "2022-05-25T20:00:13.243Z"
   },
   {
    "duration": 27,
    "start_time": "2022-05-25T20:00:13.249Z"
   },
   {
    "duration": 26,
    "start_time": "2022-05-25T20:00:13.277Z"
   },
   {
    "duration": 11,
    "start_time": "2022-05-25T20:00:13.305Z"
   },
   {
    "duration": 11,
    "start_time": "2022-05-25T20:00:13.317Z"
   },
   {
    "duration": 13,
    "start_time": "2022-05-25T20:00:13.330Z"
   },
   {
    "duration": 10,
    "start_time": "2022-05-25T20:00:13.344Z"
   },
   {
    "duration": 49,
    "start_time": "2022-05-25T20:00:13.355Z"
   },
   {
    "duration": 12,
    "start_time": "2022-05-25T20:00:13.406Z"
   },
   {
    "duration": 22,
    "start_time": "2022-05-25T20:00:13.420Z"
   },
   {
    "duration": 9,
    "start_time": "2022-05-25T20:00:13.444Z"
   },
   {
    "duration": 16,
    "start_time": "2022-05-25T20:00:13.454Z"
   },
   {
    "duration": 15,
    "start_time": "2022-05-25T20:00:13.472Z"
   },
   {
    "duration": 3,
    "start_time": "2022-05-25T20:00:13.502Z"
   },
   {
    "duration": 12,
    "start_time": "2022-05-25T20:00:13.508Z"
   },
   {
    "duration": 9,
    "start_time": "2022-05-25T20:00:13.522Z"
   },
   {
    "duration": 14,
    "start_time": "2022-05-25T20:00:13.533Z"
   },
   {
    "duration": 13,
    "start_time": "2022-05-25T20:00:13.549Z"
   },
   {
    "duration": 39,
    "start_time": "2022-05-25T20:00:13.564Z"
   },
   {
    "duration": 12,
    "start_time": "2022-05-25T20:00:13.605Z"
   },
   {
    "duration": 5,
    "start_time": "2022-05-25T20:00:13.618Z"
   },
   {
    "duration": 7,
    "start_time": "2022-05-25T20:00:13.625Z"
   },
   {
    "duration": 8,
    "start_time": "2022-05-25T20:00:13.633Z"
   },
   {
    "duration": 7,
    "start_time": "2022-05-25T20:00:13.643Z"
   },
   {
    "duration": 127,
    "start_time": "2022-05-25T20:00:13.652Z"
   },
   {
    "duration": 14,
    "start_time": "2022-05-25T20:00:13.783Z"
   },
   {
    "duration": 34,
    "start_time": "2022-05-25T20:00:13.803Z"
   },
   {
    "duration": 10,
    "start_time": "2022-05-25T20:00:13.839Z"
   },
   {
    "duration": 15,
    "start_time": "2022-05-25T20:00:13.851Z"
   },
   {
    "duration": 8,
    "start_time": "2022-05-25T20:00:13.867Z"
   },
   {
    "duration": 9,
    "start_time": "2022-05-25T20:00:13.877Z"
   },
   {
    "duration": 6,
    "start_time": "2022-05-25T20:00:13.888Z"
   },
   {
    "duration": 10,
    "start_time": "2022-05-25T20:00:13.895Z"
   },
   {
    "duration": 8,
    "start_time": "2022-05-25T20:00:13.906Z"
   },
   {
    "duration": 11,
    "start_time": "2022-05-25T20:00:13.916Z"
   },
   {
    "duration": 12,
    "start_time": "2022-05-25T20:00:13.929Z"
   },
   {
    "duration": 5,
    "start_time": "2022-05-25T20:00:13.947Z"
   },
   {
    "duration": 14,
    "start_time": "2022-05-25T20:00:13.954Z"
   },
   {
    "duration": 39,
    "start_time": "2022-05-25T20:00:13.970Z"
   },
   {
    "duration": 12,
    "start_time": "2022-05-25T20:00:14.011Z"
   },
   {
    "duration": 6,
    "start_time": "2022-05-25T20:00:14.026Z"
   },
   {
    "duration": 8,
    "start_time": "2022-05-25T20:00:14.033Z"
   },
   {
    "duration": 11,
    "start_time": "2022-05-25T20:00:14.042Z"
   },
   {
    "duration": 6,
    "start_time": "2022-05-25T20:00:14.054Z"
   },
   {
    "duration": 40,
    "start_time": "2022-05-25T20:00:14.062Z"
   },
   {
    "duration": 5,
    "start_time": "2022-05-25T20:00:14.104Z"
   },
   {
    "duration": 9,
    "start_time": "2022-05-25T20:00:14.111Z"
   },
   {
    "duration": 6,
    "start_time": "2022-05-25T20:00:14.122Z"
   },
   {
    "duration": 6,
    "start_time": "2022-05-25T20:00:14.130Z"
   },
   {
    "duration": 10,
    "start_time": "2022-05-25T20:00:14.137Z"
   },
   {
    "duration": 19,
    "start_time": "2022-05-25T20:00:14.149Z"
   },
   {
    "duration": 43,
    "start_time": "2022-05-25T20:00:14.169Z"
   },
   {
    "duration": 1246,
    "start_time": "2022-05-25T20:00:14.214Z"
   },
   {
    "duration": 192,
    "start_time": "2022-05-25T20:00:15.462Z"
   },
   {
    "duration": 31,
    "start_time": "2022-05-25T20:00:15.656Z"
   },
   {
    "duration": 2,
    "start_time": "2022-05-25T20:00:15.702Z"
   },
   {
    "duration": 9,
    "start_time": "2022-05-25T20:00:15.706Z"
   },
   {
    "duration": 5,
    "start_time": "2022-05-25T20:00:15.720Z"
   },
   {
    "duration": 3,
    "start_time": "2022-05-25T20:00:15.727Z"
   },
   {
    "duration": 5,
    "start_time": "2022-05-25T20:00:15.732Z"
   },
   {
    "duration": 9,
    "start_time": "2022-05-25T20:00:15.739Z"
   },
   {
    "duration": 5,
    "start_time": "2022-05-25T20:00:15.749Z"
   },
   {
    "duration": 47,
    "start_time": "2022-05-25T20:00:15.756Z"
   },
   {
    "duration": 280,
    "start_time": "2022-05-25T20:00:15.805Z"
   },
   {
    "duration": 6,
    "start_time": "2022-05-25T20:00:16.088Z"
   },
   {
    "duration": 4,
    "start_time": "2022-05-25T20:00:16.102Z"
   },
   {
    "duration": 12,
    "start_time": "2022-05-25T20:00:16.107Z"
   },
   {
    "duration": 7,
    "start_time": "2022-05-25T20:00:16.120Z"
   },
   {
    "duration": 9,
    "start_time": "2022-05-25T20:00:16.128Z"
   },
   {
    "duration": 6,
    "start_time": "2022-05-25T20:00:16.139Z"
   },
   {
    "duration": 7,
    "start_time": "2022-05-25T20:00:16.146Z"
   },
   {
    "duration": 8,
    "start_time": "2022-05-25T20:00:16.154Z"
   },
   {
    "duration": 5,
    "start_time": "2022-05-25T20:00:16.163Z"
   },
   {
    "duration": 33,
    "start_time": "2022-05-25T20:00:16.170Z"
   },
   {
    "duration": 4,
    "start_time": "2022-05-25T20:00:16.205Z"
   },
   {
    "duration": 5,
    "start_time": "2022-05-25T20:00:16.211Z"
   },
   {
    "duration": 8,
    "start_time": "2022-05-25T20:00:16.218Z"
   },
   {
    "duration": 6,
    "start_time": "2022-05-25T20:00:16.228Z"
   },
   {
    "duration": 10,
    "start_time": "2022-05-25T20:00:16.236Z"
   },
   {
    "duration": 15,
    "start_time": "2022-05-25T20:00:16.248Z"
   }
  ],
  "kernelspec": {
   "display_name": "Python 3 (ipykernel)",
   "language": "python",
   "name": "python3"
  },
  "language_info": {
   "codemirror_mode": {
    "name": "ipython",
    "version": 3
   },
   "file_extension": ".py",
   "mimetype": "text/x-python",
   "name": "python",
   "nbconvert_exporter": "python",
   "pygments_lexer": "ipython3",
   "version": "3.9.7"
  },
  "notebookId": "abaeead3-f045-43c8-826d-09716b55e1fe",
  "notebookPath": "da-ds-statistics.ipynb",
  "toc": {
   "base_numbering": 1,
   "nav_menu": {},
   "number_sections": true,
   "sideBar": true,
   "skip_h1_title": true,
   "title_cell": "Table of Contents",
   "title_sidebar": "Contents",
   "toc_cell": false,
   "toc_position": {},
   "toc_section_display": true,
   "toc_window_display": true
  }
 },
 "nbformat": 4,
 "nbformat_minor": 4
}
