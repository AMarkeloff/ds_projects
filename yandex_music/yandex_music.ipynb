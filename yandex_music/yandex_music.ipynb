{
 "cells": [
  {
   "cell_type": "markdown",
   "metadata": {
    "id": "E0vqbgi9ay0H"
   },
   "source": [
    "# Анализ музыкальных предпочтений жителей Москвы и Санкт-Петербурга"
   ]
  },
  {
   "cell_type": "markdown",
   "metadata": {
    "id": "VUC88oWjTJw2"
   },
   "source": [
    "Сравнение Москвы и Петербурга окружено мифами. Например:\n",
    " * Москва — мегаполис, подчинённый жёсткому ритму рабочей недели;\n",
    " * Петербург — культурная столица, со своими вкусами.\n",
    "\n",
    "На данных Яндекс.Музыки мы сравним поведение пользователей двух столиц.\n",
    "\n",
    "**Цель исследования** — проверим три гипотезы:\n",
    "1. Активность пользователей зависит от дня недели. Причём в Москве и Петербурге это проявляется по-разному.\n",
    "2. В понедельник утром в Москве преобладают одни жанры, а в Петербурге — другие. Так же и вечером пятницы преобладают разные жанры — в зависимости от города. \n",
    "3. Москва и Петербург предпочитают разные жанры музыки. В Москве чаще слушают поп-музыку, в Петербурге — русский рэп.\n",
    "\n",
    "**Ход исследования**\n",
    "\n",
    "Данные о поведении пользователей мы получим из файла `yandex_music_project.csv`. О качестве данных ничего не известно. Поэтому перед проверкой гипотез понадобится обзор данных. \n",
    "\n",
    "Мы проверим данные на ошибки и оценим их влияние на исследование. Затем, на этапе предобработки мы поищем возможность исправить самые критичные ошибки данных.\n",
    " \n",
    "Таким образом, исследование пройдёт в три этапа:\n",
    " 1. Обзор данных.\n",
    " 2. Предобработка данных.\n",
    " 3. Проверка гипотез."
   ]
  },
  {
   "cell_type": "markdown",
   "metadata": {
    "id": "Ml1hmfXC_Zcs"
   },
   "source": [
    "## Обзор данных\n",
    "\n",
    "Составим первое представление о данных Яндекс.Музыки."
   ]
  },
  {
   "cell_type": "markdown",
   "metadata": {
    "id": "57eAOGIz_Zcs"
   },
   "source": [
    "Основной инструмент аналитика — `pandas`. Импортируем эту библиотеку."
   ]
  },
  {
   "cell_type": "code",
   "execution_count": 1,
   "metadata": {
    "id": "AXN7PHPN_Zcs"
   },
   "outputs": [],
   "source": [
    "# импорт библиотеки pandas\n",
    "import pandas as pd"
   ]
  },
  {
   "cell_type": "markdown",
   "metadata": {
    "id": "SG23P8tt_Zcs"
   },
   "source": [
    "Прочитаем файл `yandex_music_project.csv` из папки `/datasets` и сохраним его в переменной `df`:"
   ]
  },
  {
   "cell_type": "code",
   "execution_count": 2,
   "metadata": {
    "id": "fFVu7vqh_Zct"
   },
   "outputs": [],
   "source": [
    "# чтение файла с данными и сохранение в df\n",
    "df = pd.read_csv(\"/datasets/yandex_music_project.csv\")"
   ]
  },
  {
   "cell_type": "markdown",
   "metadata": {
    "id": "rDoOMd3uTqnZ"
   },
   "source": [
    "Выведем на экран первые десять строк таблицы:"
   ]
  },
  {
   "cell_type": "code",
   "execution_count": 3,
   "metadata": {
    "id": "oWTVX3gW_Zct"
   },
   "outputs": [
    {
     "data": {
      "text/html": [
       "<div>\n",
       "<style scoped>\n",
       "    .dataframe tbody tr th:only-of-type {\n",
       "        vertical-align: middle;\n",
       "    }\n",
       "\n",
       "    .dataframe tbody tr th {\n",
       "        vertical-align: top;\n",
       "    }\n",
       "\n",
       "    .dataframe thead th {\n",
       "        text-align: right;\n",
       "    }\n",
       "</style>\n",
       "<table border=\"1\" class=\"dataframe\">\n",
       "  <thead>\n",
       "    <tr style=\"text-align: right;\">\n",
       "      <th></th>\n",
       "      <th>userID</th>\n",
       "      <th>Track</th>\n",
       "      <th>artist</th>\n",
       "      <th>genre</th>\n",
       "      <th>City</th>\n",
       "      <th>time</th>\n",
       "      <th>Day</th>\n",
       "    </tr>\n",
       "  </thead>\n",
       "  <tbody>\n",
       "    <tr>\n",
       "      <th>0</th>\n",
       "      <td>FFB692EC</td>\n",
       "      <td>Kamigata To Boots</td>\n",
       "      <td>The Mass Missile</td>\n",
       "      <td>rock</td>\n",
       "      <td>Saint-Petersburg</td>\n",
       "      <td>20:28:33</td>\n",
       "      <td>Wednesday</td>\n",
       "    </tr>\n",
       "    <tr>\n",
       "      <th>1</th>\n",
       "      <td>55204538</td>\n",
       "      <td>Delayed Because of Accident</td>\n",
       "      <td>Andreas Rönnberg</td>\n",
       "      <td>rock</td>\n",
       "      <td>Moscow</td>\n",
       "      <td>14:07:09</td>\n",
       "      <td>Friday</td>\n",
       "    </tr>\n",
       "    <tr>\n",
       "      <th>2</th>\n",
       "      <td>20EC38</td>\n",
       "      <td>Funiculì funiculà</td>\n",
       "      <td>Mario Lanza</td>\n",
       "      <td>pop</td>\n",
       "      <td>Saint-Petersburg</td>\n",
       "      <td>20:58:07</td>\n",
       "      <td>Wednesday</td>\n",
       "    </tr>\n",
       "    <tr>\n",
       "      <th>3</th>\n",
       "      <td>A3DD03C9</td>\n",
       "      <td>Dragons in the Sunset</td>\n",
       "      <td>Fire + Ice</td>\n",
       "      <td>folk</td>\n",
       "      <td>Saint-Petersburg</td>\n",
       "      <td>08:37:09</td>\n",
       "      <td>Monday</td>\n",
       "    </tr>\n",
       "    <tr>\n",
       "      <th>4</th>\n",
       "      <td>E2DC1FAE</td>\n",
       "      <td>Soul People</td>\n",
       "      <td>Space Echo</td>\n",
       "      <td>dance</td>\n",
       "      <td>Moscow</td>\n",
       "      <td>08:34:34</td>\n",
       "      <td>Monday</td>\n",
       "    </tr>\n",
       "    <tr>\n",
       "      <th>5</th>\n",
       "      <td>842029A1</td>\n",
       "      <td>Преданная</td>\n",
       "      <td>IMPERVTOR</td>\n",
       "      <td>rusrap</td>\n",
       "      <td>Saint-Petersburg</td>\n",
       "      <td>13:09:41</td>\n",
       "      <td>Friday</td>\n",
       "    </tr>\n",
       "    <tr>\n",
       "      <th>6</th>\n",
       "      <td>4CB90AA5</td>\n",
       "      <td>True</td>\n",
       "      <td>Roman Messer</td>\n",
       "      <td>dance</td>\n",
       "      <td>Moscow</td>\n",
       "      <td>13:00:07</td>\n",
       "      <td>Wednesday</td>\n",
       "    </tr>\n",
       "    <tr>\n",
       "      <th>7</th>\n",
       "      <td>F03E1C1F</td>\n",
       "      <td>Feeling This Way</td>\n",
       "      <td>Polina Griffith</td>\n",
       "      <td>dance</td>\n",
       "      <td>Moscow</td>\n",
       "      <td>20:47:49</td>\n",
       "      <td>Wednesday</td>\n",
       "    </tr>\n",
       "    <tr>\n",
       "      <th>8</th>\n",
       "      <td>8FA1D3BE</td>\n",
       "      <td>И вновь продолжается бой</td>\n",
       "      <td>NaN</td>\n",
       "      <td>ruspop</td>\n",
       "      <td>Moscow</td>\n",
       "      <td>09:17:40</td>\n",
       "      <td>Friday</td>\n",
       "    </tr>\n",
       "    <tr>\n",
       "      <th>9</th>\n",
       "      <td>E772D5C0</td>\n",
       "      <td>Pessimist</td>\n",
       "      <td>NaN</td>\n",
       "      <td>dance</td>\n",
       "      <td>Saint-Petersburg</td>\n",
       "      <td>21:20:49</td>\n",
       "      <td>Wednesday</td>\n",
       "    </tr>\n",
       "  </tbody>\n",
       "</table>\n",
       "</div>"
      ],
      "text/plain": [
       "     userID                        Track            artist   genre  \\\n",
       "0  FFB692EC            Kamigata To Boots  The Mass Missile    rock   \n",
       "1  55204538  Delayed Because of Accident  Andreas Rönnberg    rock   \n",
       "2    20EC38            Funiculì funiculà       Mario Lanza     pop   \n",
       "3  A3DD03C9        Dragons in the Sunset        Fire + Ice    folk   \n",
       "4  E2DC1FAE                  Soul People        Space Echo   dance   \n",
       "5  842029A1                    Преданная         IMPERVTOR  rusrap   \n",
       "6  4CB90AA5                         True      Roman Messer   dance   \n",
       "7  F03E1C1F             Feeling This Way   Polina Griffith   dance   \n",
       "8  8FA1D3BE     И вновь продолжается бой               NaN  ruspop   \n",
       "9  E772D5C0                    Pessimist               NaN   dance   \n",
       "\n",
       "             City        time        Day  \n",
       "0  Saint-Petersburg  20:28:33  Wednesday  \n",
       "1            Moscow  14:07:09     Friday  \n",
       "2  Saint-Petersburg  20:58:07  Wednesday  \n",
       "3  Saint-Petersburg  08:37:09     Monday  \n",
       "4            Moscow  08:34:34     Monday  \n",
       "5  Saint-Petersburg  13:09:41     Friday  \n",
       "6            Moscow  13:00:07  Wednesday  \n",
       "7            Moscow  20:47:49  Wednesday  \n",
       "8            Moscow  09:17:40     Friday  \n",
       "9  Saint-Petersburg  21:20:49  Wednesday  "
      ]
     },
     "execution_count": 3,
     "metadata": {},
     "output_type": "execute_result"
    }
   ],
   "source": [
    "# получение первых 10 строк таблицы df\n",
    "df.head(10)"
   ]
  },
  {
   "cell_type": "markdown",
   "metadata": {
    "id": "EO73Kwic_Zct"
   },
   "source": [
    "Одной командой получим общую информацию о таблице:"
   ]
  },
  {
   "cell_type": "code",
   "execution_count": 4,
   "metadata": {
    "id": "DSf2kIb-_Zct",
    "scrolled": true
   },
   "outputs": [
    {
     "name": "stdout",
     "output_type": "stream",
     "text": [
      "<class 'pandas.core.frame.DataFrame'>\n",
      "RangeIndex: 65079 entries, 0 to 65078\n",
      "Data columns (total 7 columns):\n",
      " #   Column    Non-Null Count  Dtype \n",
      "---  ------    --------------  ----- \n",
      " 0     userID  65079 non-null  object\n",
      " 1   Track     63848 non-null  object\n",
      " 2   artist    57876 non-null  object\n",
      " 3   genre     63881 non-null  object\n",
      " 4     City    65079 non-null  object\n",
      " 5   time      65079 non-null  object\n",
      " 6   Day       65079 non-null  object\n",
      "dtypes: object(7)\n",
      "memory usage: 3.5+ MB\n"
     ]
    }
   ],
   "source": [
    "# получение общей информации о данных в таблице df\n",
    "df.info()"
   ]
  },
  {
   "cell_type": "markdown",
   "metadata": {
    "id": "TaQ2Iwbr_Zct"
   },
   "source": [
    "Итак, в таблице семь столбцов. Тип данных во всех столбцах — `object`.\n",
    "\n",
    "Согласно документации к данным:\n",
    "* `userID` — идентификатор пользователя;\n",
    "* `Track` — название трека;  \n",
    "* `artist` — имя исполнителя;\n",
    "* `genre` — название жанра;\n",
    "* `City` — город пользователя;\n",
    "* `time` — время начала прослушивания;\n",
    "* `Day` — день недели.\n",
    "\n",
    "В названиях колонок видны нарушения хорошего стиля:\n",
    "1. Строчные буквы сочетаются с прописными.\n",
    "2. Встречаются пробелы.\n",
    "3. Для названий столбцов рекомендуется использовать \"змеиный_регистр\".\n",
    "\n",
    "Количество значений в столбцах различается. Значит, в данных есть пропуски."
   ]
  },
  {
   "cell_type": "markdown",
   "metadata": {
    "id": "MCB6-dXG_Zct"
   },
   "source": [
    "**Выводы**\n",
    "\n",
    "- В каждой строке таблицы — данные о прослушанном треке. \n",
    "- Часть колонок описывает саму композицию: название, исполнителя и жанр. \n",
    "- Остальные данные рассказывают о пользователе: из какого он города, когда он слушал музыку. \n",
    "\n",
    "Предварительно можно утверждать, что данных достаточно для проверки гипотез. Но встречаются пропуски, а в названиях колонок расхождения с хорошим стилем.\n",
    "\n",
    "Чтобы двигаться дальше, нужно устранить выявленные проблемы."
   ]
  },
  {
   "cell_type": "markdown",
   "metadata": {
    "id": "SjYF6Ub9_Zct"
   },
   "source": [
    "## Предобработка данных\n",
    "Исправим стиль в заголовках столбцов, исключим пропуски. Затем проверим данные на дубликаты."
   ]
  },
  {
   "cell_type": "markdown",
   "metadata": {
    "id": "dIaKXr29_Zct"
   },
   "source": [
    "### Стиль заголовков\n",
    "Выведем на экран названия столбцов:"
   ]
  },
  {
   "cell_type": "code",
   "execution_count": 5,
   "metadata": {
    "id": "oKOTdF_Q_Zct"
   },
   "outputs": [
    {
     "data": {
      "text/plain": [
       "Index(['  userID', 'Track', 'artist', 'genre', '  City  ', 'time', 'Day'], dtype='object')"
      ]
     },
     "execution_count": 5,
     "metadata": {},
     "output_type": "execute_result"
    }
   ],
   "source": [
    "# перечень названий столбцов таблицы df\n",
    "df.columns"
   ]
  },
  {
   "cell_type": "markdown",
   "metadata": {
    "id": "zj5534cv_Zct"
   },
   "source": [
    "Приведём названия в соответствие с хорошим стилем:\n",
    "* несколько слов в названии запишим в «змеином_регистре»,\n",
    "* все символы сделаем строчными,\n",
    "* устраним пробелы,\n",
    "* конкретизируем названия столбцов.\n",
    "\n",
    "Для этого переименуем колонки так:\n",
    "* `'  userID'` → `'user_id'`;\n",
    "* `'Track'`    → `'track_name'`;\n",
    "* `'artist'`   → `'artist_name'`;\n",
    "* `'genre'`    → `'genre_name'`;\n",
    "* `'  City  '` → `'user_city'`;\n",
    "* `'time'`     → `'start_time'`;\n",
    "* `'Day'`      → `'day_of_week'`;\n",
    "."
   ]
  },
  {
   "cell_type": "code",
   "execution_count": 6,
   "metadata": {
    "id": "ISlFqs5y_Zct"
   },
   "outputs": [],
   "source": [
    "# переименование столбцов\n",
    "df = df.rename(columns={'  userID': 'user_id',\n",
    "                        'Track': 'track_name',\n",
    "                        'artist' : 'artist_name',\n",
    "                        'genre' : 'genre_name',\n",
    "                        '  City  ': 'user_city',\n",
    "                        'time' : 'start_time',\n",
    "                        'Day' : 'day_of_week' })"
   ]
  },
  {
   "cell_type": "markdown",
   "metadata": {
    "id": "1dqbh00J_Zct"
   },
   "source": [
    "Проверим результат. Для этого ещё раз выведем на экран названия столбцов:"
   ]
  },
  {
   "cell_type": "code",
   "execution_count": 7,
   "metadata": {
    "id": "d4NOAmTW_Zct"
   },
   "outputs": [
    {
     "data": {
      "text/plain": [
       "Index(['user_id', 'track_name', 'artist_name', 'genre_name', 'user_city',\n",
       "       'start_time', 'day_of_week'],\n",
       "      dtype='object')"
      ]
     },
     "execution_count": 7,
     "metadata": {},
     "output_type": "execute_result"
    }
   ],
   "source": [
    "# проверка результатов - перечень названий столбцов\n",
    "df.columns"
   ]
  },
  {
   "cell_type": "markdown",
   "metadata": {
    "id": "5ISfbcfY_Zct"
   },
   "source": [
    "### Пропуски значений\n",
    "Сначала посчитаем сколько в таблице пропущенных значений. \n",
    "\n",
    "Для этого достаточно двух методов `pandas`:"
   ]
  },
  {
   "cell_type": "code",
   "execution_count": 8,
   "metadata": {
    "id": "RskX29qr_Zct"
   },
   "outputs": [
    {
     "data": {
      "text/plain": [
       "user_id           0\n",
       "track_name     1231\n",
       "artist_name    7203\n",
       "genre_name     1198\n",
       "user_city         0\n",
       "start_time        0\n",
       "day_of_week       0\n",
       "dtype: int64"
      ]
     },
     "execution_count": 8,
     "metadata": {},
     "output_type": "execute_result"
    }
   ],
   "source": [
    "# подсчёт пропусков\n",
    "df.isna().sum()"
   ]
  },
  {
   "cell_type": "markdown",
   "metadata": {
    "id": "qubhgnlO_Zct"
   },
   "source": [
    "Не все пропущенные значения влияют на исследование. Так в `track_name` и `artist_name` пропуски не важны для нашей работы. Достаточно заменить их явными обозначениями.\n",
    "\n",
    "Но пропуски в `genre_name` могут помешать сравнению музыкальных вкусов в Москве и Санкт-Петербурге. На практике было бы правильно установить причину пропусков и восстановить данные. Такой возможности нет в учебном проекте. \n",
    "\n",
    "Придётся:\n",
    "* заполнить и эти пропуски явными обозначениями,\n",
    "* оценить, насколько они повредят расчётам. "
   ]
  },
  {
   "cell_type": "markdown",
   "metadata": {
    "id": "fSv2laPA_Zct"
   },
   "source": [
    "Заменим пропущенные значения в столбцах `track_name`, `artist_name` и `genre_name` на строку `'unknown'`. \n",
    "\n",
    "Для этого создадим список `columns_to_replace`, переберем его элементы циклом `for` и для каждого столбца выполним замену пропущенных значений:"
   ]
  },
  {
   "cell_type": "code",
   "execution_count": 9,
   "metadata": {
    "id": "KplB5qWs_Zct"
   },
   "outputs": [],
   "source": [
    "# перебор названий столбцов в цикле и замена пропущенных значений на 'unknown'\n",
    "columns_to_replace = ['track_name', 'artist_name', 'genre_name']\n",
    "for column in columns_to_replace:\n",
    "    df[column] = df[column].fillna('unknown')"
   ]
  },
  {
   "cell_type": "markdown",
   "metadata": {
    "id": "Ilsm-MZo_Zct"
   },
   "source": [
    "Убедимся, что в таблице не осталось пропусков. Для этого ещё раз посчитаем пропущенные значения."
   ]
  },
  {
   "cell_type": "code",
   "execution_count": 10,
   "metadata": {
    "id": "Tq4nYRX4_Zct"
   },
   "outputs": [
    {
     "data": {
      "text/plain": [
       "user_id        0\n",
       "track_name     0\n",
       "artist_name    0\n",
       "genre_name     0\n",
       "user_city      0\n",
       "start_time     0\n",
       "day_of_week    0\n",
       "dtype: int64"
      ]
     },
     "execution_count": 10,
     "metadata": {},
     "output_type": "execute_result"
    }
   ],
   "source": [
    "# подсчёт пропусков\n",
    "df.isna().sum()"
   ]
  },
  {
   "cell_type": "markdown",
   "metadata": {
    "id": "BWKRtBJ3_Zct"
   },
   "source": [
    "### Дубликаты\n",
    "Посчитаем явные дубликаты в таблице одной командой:"
   ]
  },
  {
   "cell_type": "code",
   "execution_count": 11,
   "metadata": {
    "id": "36eES_S0_Zct"
   },
   "outputs": [
    {
     "data": {
      "text/plain": [
       "3826"
      ]
     },
     "execution_count": 11,
     "metadata": {},
     "output_type": "execute_result"
    }
   ],
   "source": [
    "# подсчёт явных дубликатов\n",
    "df.duplicated().sum()"
   ]
  },
  {
   "cell_type": "markdown",
   "metadata": {
    "id": "Ot25h6XR_Zct"
   },
   "source": [
    "Вызовим специальный метод `pandas`, чтобы удалить явные дубликаты:"
   ]
  },
  {
   "cell_type": "code",
   "execution_count": 12,
   "metadata": {
    "id": "exFHq6tt_Zct"
   },
   "outputs": [],
   "source": [
    "# удаление явных дубликатов (с удалением старых индексов и формированием новых)\n",
    "df = df.drop_duplicates().reset_index(drop=True) "
   ]
  },
  {
   "cell_type": "markdown",
   "metadata": {
    "id": "Im2YwBEG_Zct"
   },
   "source": [
    "Ещё раз посчитаем явные дубликаты в таблице — убедимся, что полностью от них избавились:"
   ]
  },
  {
   "cell_type": "code",
   "execution_count": 13,
   "metadata": {
    "id": "-8PuNWQ0_Zct"
   },
   "outputs": [
    {
     "data": {
      "text/plain": [
       "0"
      ]
     },
     "execution_count": 13,
     "metadata": {},
     "output_type": "execute_result"
    }
   ],
   "source": [
    "# проверка на отсутствие дубликатов\n",
    "df.duplicated().sum()"
   ]
  },
  {
   "cell_type": "markdown",
   "metadata": {},
   "source": [
    "Проверим неявные дубликаты в столбце `user_city`:"
   ]
  },
  {
   "cell_type": "code",
   "execution_count": 14,
   "metadata": {},
   "outputs": [
    {
     "data": {
      "text/plain": [
       "array(['Moscow', 'Saint-Petersburg'], dtype=object)"
      ]
     },
     "execution_count": 14,
     "metadata": {},
     "output_type": "execute_result"
    }
   ],
   "source": [
    "df['user_city'].sort_values().unique()"
   ]
  },
  {
   "cell_type": "markdown",
   "metadata": {},
   "source": [
    "Неявные дубликаты в столбце `user_city` отсутствуют. \n",
    "\n",
    "Теперь проверим неявные дубликаты в столбце `day_of_week`:"
   ]
  },
  {
   "cell_type": "code",
   "execution_count": 15,
   "metadata": {},
   "outputs": [
    {
     "data": {
      "text/plain": [
       "array(['Friday', 'Monday', 'Wednesday'], dtype=object)"
      ]
     },
     "execution_count": 15,
     "metadata": {},
     "output_type": "execute_result"
    }
   ],
   "source": [
    "df['day_of_week'].sort_values().unique()"
   ]
  },
  {
   "cell_type": "markdown",
   "metadata": {
    "id": "QlFBsxAr_Zct"
   },
   "source": [
    "Неявные дубликаты в столбце `day_of_week` отсутствуют. Данные представлены для 3 дней: понедельник, среда, пятница.\n",
    "\n",
    "\n",
    "Теперь избавимся от неявных дубликатов в колонке `genre_name`. Например, название одного и того же жанра может быть записано немного по-разному. Такие ошибки тоже повлияют на результат исследования."
   ]
  },
  {
   "cell_type": "markdown",
   "metadata": {
    "id": "eSjWwsOh_Zct"
   },
   "source": [
    "Выведем на экран список уникальных названий жанров, отсортированный в алфавитном порядке. Для этого:\n",
    "* извлечем нужный столбец датафрейма, \n",
    "* применим к нему метод сортировки,\n",
    "* для отсортированного столбца вызовем метод, который вернёт уникальные значения из столбца."
   ]
  },
  {
   "cell_type": "code",
   "execution_count": 16,
   "metadata": {
    "id": "JIUcqzZN_Zct"
   },
   "outputs": [
    {
     "data": {
      "text/plain": [
       "array(['acid', 'acoustic', 'action', 'adult', 'africa', 'afrikaans',\n",
       "       'alternative', 'alternativepunk', 'ambient', 'americana',\n",
       "       'animated', 'anime', 'arabesk', 'arabic', 'arena',\n",
       "       'argentinetango', 'art', 'audiobook', 'author', 'avantgarde',\n",
       "       'axé', 'baile', 'balkan', 'beats', 'bigroom', 'black', 'bluegrass',\n",
       "       'blues', 'bollywood', 'bossa', 'brazilian', 'breakbeat', 'breaks',\n",
       "       'broadway', 'cantautori', 'cantopop', 'canzone', 'caribbean',\n",
       "       'caucasian', 'celtic', 'chamber', 'chanson', 'children', 'chill',\n",
       "       'chinese', 'choral', 'christian', 'christmas', 'classical',\n",
       "       'classicmetal', 'club', 'colombian', 'comedy', 'conjazz',\n",
       "       'contemporary', 'country', 'cuban', 'dance', 'dancehall',\n",
       "       'dancepop', 'dark', 'death', 'deep', 'deutschrock', 'deutschspr',\n",
       "       'dirty', 'disco', 'dnb', 'documentary', 'downbeat', 'downtempo',\n",
       "       'drum', 'dub', 'dubstep', 'eastern', 'easy', 'electronic',\n",
       "       'electropop', 'emo', 'entehno', 'epicmetal', 'estrada', 'ethnic',\n",
       "       'eurofolk', 'european', 'experimental', 'extrememetal', 'fado',\n",
       "       'fairytail', 'film', 'fitness', 'flamenco', 'folk', 'folklore',\n",
       "       'folkmetal', 'folkrock', 'folktronica', 'forró', 'frankreich',\n",
       "       'französisch', 'french', 'funk', 'future', 'gangsta', 'garage',\n",
       "       'german', 'ghazal', 'gitarre', 'glitch', 'gospel', 'gothic',\n",
       "       'grime', 'grunge', 'gypsy', 'handsup', \"hard'n'heavy\", 'hardcore',\n",
       "       'hardstyle', 'hardtechno', 'hip', 'hip-hop', 'hiphop',\n",
       "       'historisch', 'holiday', 'hop', 'horror', 'house', 'hymn', 'idm',\n",
       "       'independent', 'indian', 'indie', 'indipop', 'industrial',\n",
       "       'inspirational', 'instrumental', 'international', 'irish', 'jam',\n",
       "       'japanese', 'jazz', 'jewish', 'jpop', 'jungle', 'k-pop',\n",
       "       'karadeniz', 'karaoke', 'kayokyoku', 'korean', 'laiko', 'latin',\n",
       "       'latino', 'leftfield', 'local', 'lounge', 'loungeelectronic',\n",
       "       'lovers', 'malaysian', 'mandopop', 'marschmusik', 'meditative',\n",
       "       'mediterranean', 'melodic', 'metal', 'metalcore', 'mexican',\n",
       "       'middle', 'minimal', 'miscellaneous', 'modern', 'mood', 'mpb',\n",
       "       'muslim', 'native', 'neoklassik', 'neue', 'new', 'newage',\n",
       "       'newwave', 'nu', 'nujazz', 'numetal', 'oceania', 'old', 'opera',\n",
       "       'orchestral', 'other', 'piano', 'podcasts', 'pop', 'popdance',\n",
       "       'popelectronic', 'popeurodance', 'poprussian', 'post',\n",
       "       'posthardcore', 'postrock', 'power', 'progmetal', 'progressive',\n",
       "       'psychedelic', 'punjabi', 'punk', 'quebecois', 'ragga', 'ram',\n",
       "       'rancheras', 'rap', 'rave', 'reggae', 'reggaeton', 'regional',\n",
       "       'relax', 'religious', 'retro', 'rhythm', 'rnb', 'rnr', 'rock',\n",
       "       'rockabilly', 'rockalternative', 'rockindie', 'rockother',\n",
       "       'romance', 'roots', 'ruspop', 'rusrap', 'rusrock', 'russian',\n",
       "       'salsa', 'samba', 'scenic', 'schlager', 'self', 'sertanejo',\n",
       "       'shanson', 'shoegazing', 'showtunes', 'singer', 'ska', 'skarock',\n",
       "       'slow', 'smooth', 'soft', 'soul', 'soulful', 'sound', 'soundtrack',\n",
       "       'southern', 'specialty', 'speech', 'spiritual', 'sport',\n",
       "       'stonerrock', 'surf', 'swing', 'synthpop', 'synthrock',\n",
       "       'sängerportrait', 'tango', 'tanzorchester', 'taraftar', 'tatar',\n",
       "       'tech', 'techno', 'teen', 'thrash', 'top', 'traditional',\n",
       "       'tradjazz', 'trance', 'tribal', 'trip', 'triphop', 'tropical',\n",
       "       'türk', 'türkçe', 'ukrrock', 'unknown', 'urban', 'uzbek',\n",
       "       'variété', 'vi', 'videogame', 'vocal', 'western', 'world',\n",
       "       'worldbeat', 'ïîï', 'электроника'], dtype=object)"
      ]
     },
     "execution_count": 16,
     "metadata": {},
     "output_type": "execute_result"
    }
   ],
   "source": [
    "# Просмотр уникальных названий жанров\n",
    "df['genre_name'].sort_values().unique()"
   ]
  },
  {
   "cell_type": "markdown",
   "metadata": {},
   "source": [
    "Выведем также общее количество уникальных названий:"
   ]
  },
  {
   "cell_type": "code",
   "execution_count": 17,
   "metadata": {},
   "outputs": [
    {
     "data": {
      "text/plain": [
       "290"
      ]
     },
     "execution_count": 17,
     "metadata": {},
     "output_type": "execute_result"
    }
   ],
   "source": [
    "len(df['genre_name'].sort_values().unique())"
   ]
  },
  {
   "cell_type": "markdown",
   "metadata": {
    "id": "qej-Qmuo_Zct"
   },
   "source": [
    "Просмотрим список и найдем неявные дубликаты названия `hiphop`. Это могут быть названия с ошибками или альтернативные названия того же жанра.\n",
    "\n",
    "Мы видим следующие неявные дубликаты:\n",
    "* *hip*,\n",
    "* *hop*,\n",
    "* *hip-hop*.\n",
    "\n",
    "Чтобы очистить от них таблицу, напишем функцию `replace_wrong_genres()` с двумя параметрами: \n",
    "* `wrong_genres` — список дубликатов,\n",
    "* `correct_genre` — строка с правильным значением.\n",
    "\n",
    "Функция должна исправить колонку `genre` в таблице `df`: заменить каждое значение из списка `wrong_genres` на значение из `correct_genre`.\n",
    "\n",
    "Также неявным дубликатом является название `электроника` на русском языке. Заменим его на `electronic`.\n",
    "\n",
    "Подозрения вызывают жанры `türk`, `türkçe`, указанные не на английском языке и жанр `ïîï`. Так как нет возможности уточнить смысл этих жанров, оставим их в исходном состоянии."
   ]
  },
  {
   "cell_type": "markdown",
   "metadata": {},
   "source": [
    "Процент треков жанра `türk` от общего количества треков:"
   ]
  },
  {
   "cell_type": "code",
   "execution_count": 18,
   "metadata": {},
   "outputs": [
    {
     "name": "stdout",
     "output_type": "stream",
     "text": [
      "0.0065%\n"
     ]
    }
   ],
   "source": [
    "print('{:.4%}'.format((df[df['genre_name']=='türk']['user_id'].count())/len(df['genre_name'])))"
   ]
  },
  {
   "cell_type": "markdown",
   "metadata": {},
   "source": [
    "Процент треков жанра `türkçe` от общего количества треков:"
   ]
  },
  {
   "cell_type": "code",
   "execution_count": 19,
   "metadata": {},
   "outputs": [
    {
     "name": "stdout",
     "output_type": "stream",
     "text": [
      "0.0408%\n"
     ]
    }
   ],
   "source": [
    "print('{:.4%}'.format((df[df['genre_name']=='türkçe']['user_id'].count())/len(df['genre_name'])))"
   ]
  },
  {
   "cell_type": "markdown",
   "metadata": {},
   "source": [
    "Процент треков жанра `ïîï` от общего количества треков:"
   ]
  },
  {
   "cell_type": "code",
   "execution_count": 20,
   "metadata": {},
   "outputs": [
    {
     "name": "stdout",
     "output_type": "stream",
     "text": [
      "0.0016%\n"
     ]
    }
   ],
   "source": [
    "print('{:.4%}'.format((df[df['genre_name']=='ïîï']['user_id'].count())/len(df['genre_name'])))"
   ]
  },
  {
   "cell_type": "markdown",
   "metadata": {},
   "source": [
    "Очевидно, что они не несут рисков для качества исследования."
   ]
  },
  {
   "cell_type": "markdown",
   "metadata": {},
   "source": [
    "Вернемся к функции для исправления жанров. Сделаем так, чтобы списку из `wrong_genres` соответствовало одно значение из `correct_genre`. Тогда не нужно создавать дополнительные переменные и несколько раз вызывать функцию `replace_wrong_genres`:"
   ]
  },
  {
   "cell_type": "code",
   "execution_count": 21,
   "metadata": {
    "id": "ErNDkmns_Zct"
   },
   "outputs": [],
   "source": [
    "#Функция для замены неявных дубликатов\n",
    "def replace_wrong_genres(column_name, wrong_genres, correct_genre):\n",
    "    #итерирруемся по wrong_genres\n",
    "    for i in range(len(wrong_genres)):\n",
    "        #шагаем по названиям, которые требуют исправления, и исправляем\n",
    "        for j in range(len(wrong_genres[i])):\n",
    "            column_name = column_name.replace(wrong_genres[i][j], correct_genre[i])\n",
    "    return column_name"
   ]
  },
  {
   "cell_type": "markdown",
   "metadata": {
    "id": "aDoBJxbA_Zct"
   },
   "source": [
    "Вызовем `replace_wrong_genres()` и передим ей такие аргументы, чтобы она устранила неявные дубликаты: вместо `hip`, `hop` и `hip-hop` в таблице должно быть значение `hiphop`:"
   ]
  },
  {
   "cell_type": "code",
   "execution_count": 22,
   "metadata": {
    "id": "YN5i2hpmSo09"
   },
   "outputs": [],
   "source": [
    "# Устранение неявных дубликатов\n",
    "wrong_genres = [['hip','hop','hip-hop'],\n",
    "                ['электроника']]\n",
    "correct_genre = ['hiphop',\n",
    "                 'electronic']\n",
    "\n",
    "df['genre_name'] = replace_wrong_genres(df['genre_name'], wrong_genres, correct_genre)"
   ]
  },
  {
   "cell_type": "markdown",
   "metadata": {
    "id": "zQKF16_RG15m"
   },
   "source": [
    "Проверим, что заменили неправильные названия:\n",
    "\n",
    "*   hip\n",
    "*   hop\n",
    "*   hip-hop\n",
    "\n",
    "Выведем отсортированный список уникальных значений столбца `genre`:"
   ]
  },
  {
   "cell_type": "code",
   "execution_count": 23,
   "metadata": {
    "id": "wvixALnFG15m"
   },
   "outputs": [
    {
     "data": {
      "text/plain": [
       "array(['acid', 'acoustic', 'action', 'adult', 'africa', 'afrikaans',\n",
       "       'alternative', 'alternativepunk', 'ambient', 'americana',\n",
       "       'animated', 'anime', 'arabesk', 'arabic', 'arena',\n",
       "       'argentinetango', 'art', 'audiobook', 'author', 'avantgarde',\n",
       "       'axé', 'baile', 'balkan', 'beats', 'bigroom', 'black', 'bluegrass',\n",
       "       'blues', 'bollywood', 'bossa', 'brazilian', 'breakbeat', 'breaks',\n",
       "       'broadway', 'cantautori', 'cantopop', 'canzone', 'caribbean',\n",
       "       'caucasian', 'celtic', 'chamber', 'chanson', 'children', 'chill',\n",
       "       'chinese', 'choral', 'christian', 'christmas', 'classical',\n",
       "       'classicmetal', 'club', 'colombian', 'comedy', 'conjazz',\n",
       "       'contemporary', 'country', 'cuban', 'dance', 'dancehall',\n",
       "       'dancepop', 'dark', 'death', 'deep', 'deutschrock', 'deutschspr',\n",
       "       'dirty', 'disco', 'dnb', 'documentary', 'downbeat', 'downtempo',\n",
       "       'drum', 'dub', 'dubstep', 'eastern', 'easy', 'electronic',\n",
       "       'electropop', 'emo', 'entehno', 'epicmetal', 'estrada', 'ethnic',\n",
       "       'eurofolk', 'european', 'experimental', 'extrememetal', 'fado',\n",
       "       'fairytail', 'film', 'fitness', 'flamenco', 'folk', 'folklore',\n",
       "       'folkmetal', 'folkrock', 'folktronica', 'forró', 'frankreich',\n",
       "       'französisch', 'french', 'funk', 'future', 'gangsta', 'garage',\n",
       "       'german', 'ghazal', 'gitarre', 'glitch', 'gospel', 'gothic',\n",
       "       'grime', 'grunge', 'gypsy', 'handsup', \"hard'n'heavy\", 'hardcore',\n",
       "       'hardstyle', 'hardtechno', 'hiphop', 'historisch', 'holiday',\n",
       "       'horror', 'house', 'hymn', 'idm', 'independent', 'indian', 'indie',\n",
       "       'indipop', 'industrial', 'inspirational', 'instrumental',\n",
       "       'international', 'irish', 'jam', 'japanese', 'jazz', 'jewish',\n",
       "       'jpop', 'jungle', 'k-pop', 'karadeniz', 'karaoke', 'kayokyoku',\n",
       "       'korean', 'laiko', 'latin', 'latino', 'leftfield', 'local',\n",
       "       'lounge', 'loungeelectronic', 'lovers', 'malaysian', 'mandopop',\n",
       "       'marschmusik', 'meditative', 'mediterranean', 'melodic', 'metal',\n",
       "       'metalcore', 'mexican', 'middle', 'minimal', 'miscellaneous',\n",
       "       'modern', 'mood', 'mpb', 'muslim', 'native', 'neoklassik', 'neue',\n",
       "       'new', 'newage', 'newwave', 'nu', 'nujazz', 'numetal', 'oceania',\n",
       "       'old', 'opera', 'orchestral', 'other', 'piano', 'podcasts', 'pop',\n",
       "       'popdance', 'popelectronic', 'popeurodance', 'poprussian', 'post',\n",
       "       'posthardcore', 'postrock', 'power', 'progmetal', 'progressive',\n",
       "       'psychedelic', 'punjabi', 'punk', 'quebecois', 'ragga', 'ram',\n",
       "       'rancheras', 'rap', 'rave', 'reggae', 'reggaeton', 'regional',\n",
       "       'relax', 'religious', 'retro', 'rhythm', 'rnb', 'rnr', 'rock',\n",
       "       'rockabilly', 'rockalternative', 'rockindie', 'rockother',\n",
       "       'romance', 'roots', 'ruspop', 'rusrap', 'rusrock', 'russian',\n",
       "       'salsa', 'samba', 'scenic', 'schlager', 'self', 'sertanejo',\n",
       "       'shanson', 'shoegazing', 'showtunes', 'singer', 'ska', 'skarock',\n",
       "       'slow', 'smooth', 'soft', 'soul', 'soulful', 'sound', 'soundtrack',\n",
       "       'southern', 'specialty', 'speech', 'spiritual', 'sport',\n",
       "       'stonerrock', 'surf', 'swing', 'synthpop', 'synthrock',\n",
       "       'sängerportrait', 'tango', 'tanzorchester', 'taraftar', 'tatar',\n",
       "       'tech', 'techno', 'teen', 'thrash', 'top', 'traditional',\n",
       "       'tradjazz', 'trance', 'tribal', 'trip', 'triphop', 'tropical',\n",
       "       'türk', 'türkçe', 'ukrrock', 'unknown', 'urban', 'uzbek',\n",
       "       'variété', 'vi', 'videogame', 'vocal', 'western', 'world',\n",
       "       'worldbeat', 'ïîï'], dtype=object)"
      ]
     },
     "execution_count": 23,
     "metadata": {},
     "output_type": "execute_result"
    }
   ],
   "source": [
    "# Проверка на неявные дубликаты\n",
    "df['genre_name'].sort_values().unique()"
   ]
  },
  {
   "cell_type": "markdown",
   "metadata": {},
   "source": [
    "Проверим общее количество уникальных названий в столбце `genre_name`, оно должно стать меньше на 4 позиции:"
   ]
  },
  {
   "cell_type": "code",
   "execution_count": 24,
   "metadata": {},
   "outputs": [
    {
     "data": {
      "text/plain": [
       "286"
      ]
     },
     "execution_count": 24,
     "metadata": {},
     "output_type": "execute_result"
    }
   ],
   "source": [
    "len(df['genre_name'].sort_values().unique())"
   ]
  },
  {
   "cell_type": "markdown",
   "metadata": {},
   "source": [
    "И, действительно, работает как ожидаем."
   ]
  },
  {
   "cell_type": "markdown",
   "metadata": {},
   "source": [
    "### Достаточность данных по периодам \"утро\" и \"вечер\""
   ]
  },
  {
   "cell_type": "markdown",
   "metadata": {},
   "source": [
    "Данные за какой период времени суток в нашем распоряжении:"
   ]
  },
  {
   "cell_type": "code",
   "execution_count": 25,
   "metadata": {},
   "outputs": [
    {
     "data": {
      "text/plain": [
       "'22:00:59'"
      ]
     },
     "execution_count": 25,
     "metadata": {},
     "output_type": "execute_result"
    }
   ],
   "source": [
    "#самое позднее значение времени\n",
    "df['start_time'].max()"
   ]
  },
  {
   "cell_type": "code",
   "execution_count": 26,
   "metadata": {},
   "outputs": [
    {
     "data": {
      "text/plain": [
       "'08:00:00'"
      ]
     },
     "execution_count": 26,
     "metadata": {},
     "output_type": "execute_result"
    }
   ],
   "source": [
    "#самое раннее значение времени\n",
    "df['start_time'].min()"
   ]
  },
  {
   "cell_type": "markdown",
   "metadata": {},
   "source": [
    "Создадим функцию для проверки количества данных в заданном интервале времени:"
   ]
  },
  {
   "cell_type": "code",
   "execution_count": 27,
   "metadata": {},
   "outputs": [],
   "source": [
    "#функция для проверки количества данных в заданном \n",
    "#интервале времени\n",
    "def count_interval(time1,time2):\n",
    "    tracks_in_interval = (len(df['start_time']) - \n",
    "                          df[df['start_time']<time1]['user_id'].count()-\n",
    "                          df[df['start_time']>time2]['user_id'].count())\n",
    "    return tracks_in_interval"
   ]
  },
  {
   "cell_type": "markdown",
   "metadata": {},
   "source": [
    "Создадим массив для последующего расчета по интервалам времени:"
   ]
  },
  {
   "cell_type": "code",
   "execution_count": 28,
   "metadata": {},
   "outputs": [],
   "source": [
    "#создаём массив для последующего расчета по интервалам времени\n",
    "time_for_intervals = ['07:00','08:00','09:00','10:00','11:00','12:00','13:00', '14:00', '15:00', '16:00',\n",
    "                     '17:00', '18:00' ,'19:00' ,'20:00' ,'21:00','22:01','23:00']"
   ]
  },
  {
   "cell_type": "markdown",
   "metadata": {},
   "source": [
    "Введём счетчик количества треков, чтобы не потерять ни одного при разделении треков по промежуткам времени:"
   ]
  },
  {
   "cell_type": "code",
   "execution_count": 29,
   "metadata": {},
   "outputs": [],
   "source": [
    "#счетчик для проверки правильности разделения по периодам\n",
    "total_tracks = 0 "
   ]
  },
  {
   "cell_type": "markdown",
   "metadata": {},
   "source": [
    "Теперь воспользуемся этой функцией внутри цикла:"
   ]
  },
  {
   "cell_type": "code",
   "execution_count": 30,
   "metadata": {},
   "outputs": [
    {
     "name": "stdout",
     "output_type": "stream",
     "text": [
      "Количество треков с 07:00 до 08:00 : 0\n",
      "Количество треков с 08:00 до 09:00 : 9512\n",
      "Количество треков с 09:00 до 10:00 : 9511\n",
      "Количество треков с 10:00 до 11:00 : 169\n",
      "Количество треков с 11:00 до 12:00 : 0\n",
      "Количество треков с 12:00 до 13:00 : 0\n",
      "Количество треков с 13:00 до 14:00 : 10304\n",
      "Количество треков с 14:00 до 15:00 : 10722\n",
      "Количество треков с 15:00 до 16:00 : 176\n",
      "Количество треков с 16:00 до 17:00 : 0\n",
      "Количество треков с 17:00 до 18:00 : 0\n",
      "Количество треков с 18:00 до 19:00 : 0\n",
      "Количество треков с 19:00 до 20:00 : 0\n",
      "Количество треков с 20:00 до 21:00 : 10829\n",
      "Количество треков с 21:00 до 22:01 : 10030\n",
      "Количество треков с 22:01 до 23:00 : 0\n"
     ]
    }
   ],
   "source": [
    "#рассчитаем количество треков по периодам и выведем на экран\n",
    "for i in range(len(time_for_intervals)-1):\n",
    "    total_tracks  += count_interval(time_for_intervals[i],time_for_intervals[i+1])\n",
    "    print('Количество треков с', time_for_intervals[i], 'до', time_for_intervals[i+1], ':',\n",
    "          count_interval(time_for_intervals[i],time_for_intervals[i+1]))"
   ]
  },
  {
   "cell_type": "markdown",
   "metadata": {},
   "source": [
    "Проверим корректность подсчета количества треков по периодам времени:"
   ]
  },
  {
   "cell_type": "code",
   "execution_count": 31,
   "metadata": {},
   "outputs": [
    {
     "name": "stdout",
     "output_type": "stream",
     "text": [
      "Общее количество треков по периодам времени: 61253\n",
      "Общее количество треков в таблице после предобработки: 61253\n"
     ]
    }
   ],
   "source": [
    "print('Общее количество треков по периодам времени:', total_tracks )\n",
    "print('Общее количество треков в таблице после предобработки:', len(df['user_id']))"
   ]
  },
  {
   "cell_type": "markdown",
   "metadata": {},
   "source": [
    "Очевидно, что разбивка по периодам выполнена верно. \n",
    "\n",
    "Если нам предстоит исследовать периоды \"утро\" и \"вечер\", то следует учесть, что по вечернему периоду есть данные только с 21:00 до 22:01. Данные за утренний период даны с 08:00 до 11:00, что лучше, чем для вечернего периода. \n",
    "\n",
    "Вряд ли в периоды, для которых данных нет, люди не слушают музыку. Вероятно массив исходных данных неполный. Для более расширенного анализа утреннего и вечернего периодов желательно дополнить исходные данные:\n",
    "- утром - за период 07:00-08:00,\n",
    "- вечером - за период 17:00-21:00,\n",
    "\n",
    "так как это \"часы пик\", в которые количество прослушиваний музыки может возрасти и изменить результаты исследования. Также разделение на периоды \"утро\" и \"вечер\" будет одинаковым по протяжённости и составит 4 часа (07-11, 17-21)."
   ]
  },
  {
   "cell_type": "markdown",
   "metadata": {},
   "source": [
    "Похоже, что датасет готовили под проект, и в первоначальном варианте задание могло быть немного другим."
   ]
  },
  {
   "cell_type": "markdown",
   "metadata": {
    "id": "jz6a9-7HQUDd"
   },
   "source": [
    "**Выводы**\n",
    "\n",
    "Предобработка обнаружила три проблемы в данных:\n",
    "\n",
    "- нарушения в стиле заголовков,\n",
    "- пропущенные значения,\n",
    "- дубликаты — явные и неявные.\n",
    "\n",
    "Также проанализировано количество доступных для анализа треков по часам дня. В вечерний период есть треки с 20 до 22 ч. В утренние часы доступны треки с 8 до 11 ч. Данные можно было бы улучшить дополнительной информацией по другим часам, но на данный момент такая возможность отсутствует.\n",
    "\n",
    "Мы исправили заголовки, чтобы упростить работу с таблицей. Без дубликатов исследование станет более точным.\n",
    "\n",
    "Пропущенные значения мы заменили на `'unknown'`. Ещё предстоит увидеть, не повредят ли исследованию пропуски в колонке `genre_name`.\n",
    "\n",
    "Теперь можно перейти к проверке гипотез. "
   ]
  },
  {
   "cell_type": "markdown",
   "metadata": {
    "id": "WttZHXH0SqKk"
   },
   "source": [
    "## Проверка гипотез"
   ]
  },
  {
   "cell_type": "markdown",
   "metadata": {
    "id": "Im936VVi_Zcu"
   },
   "source": [
    "### Сравнение поведения пользователей двух столиц"
   ]
  },
  {
   "cell_type": "markdown",
   "metadata": {
    "id": "nwt_MuaL_Zcu"
   },
   "source": [
    "Первая гипотеза утверждает, что пользователи по-разному слушают музыку в Москве и Санкт-Петербурге. Проверим это предположение по данным о трёх днях недели — понедельнике, среде и пятнице. Для этого:\n",
    "\n",
    "* Разделим пользователей Москвы и Санкт-Петербурга\n",
    "* Сравним, сколько треков послушала каждая группа пользователей в понедельник, среду и пятницу.\n"
   ]
  },
  {
   "cell_type": "markdown",
   "metadata": {
    "id": "8Dw_YMmT_Zcu"
   },
   "source": [
    "Для тренировки сначала выполним каждый из расчётов по отдельности. \n",
    "\n",
    "Оценим активность пользователей в каждом городе. Сгруппируем данные по городу и посчитаем прослушивания в каждой группе."
   ]
  },
  {
   "cell_type": "code",
   "execution_count": 32,
   "metadata": {
    "id": "0_Qs96oh_Zcu"
   },
   "outputs": [
    {
     "data": {
      "text/plain": [
       "user_city\n",
       "Moscow              42741\n",
       "Saint-Petersburg    18512\n",
       "Name: genre_name, dtype: int64"
      ]
     },
     "metadata": {},
     "output_type": "display_data"
    }
   ],
   "source": [
    "# Подсчёт прослушиваний в каждом городе\n",
    "display(df.groupby('user_city')['genre_name'].count()) #сколько треков прослушано за пн, ср, пт"
   ]
  },
  {
   "cell_type": "markdown",
   "metadata": {
    "id": "dzli3w8o_Zcu"
   },
   "source": [
    "В Москве прослушиваний больше, чем в Петербурге. Из этого не следует, что московские пользователи чаще слушают музыку. Просто самих пользователей в Москве больше.\n",
    "\n",
    "Теперь сгруппируем данные по дню недели и подсчитаем прослушивания в понедельник, среду и пятницу. Учтём, что в данных есть информация о прослушиваниях только за эти дни.\n"
   ]
  },
  {
   "cell_type": "code",
   "execution_count": 33,
   "metadata": {},
   "outputs": [
    {
     "data": {
      "text/plain": [
       "day_of_week\n",
       "Friday       21840\n",
       "Monday       21354\n",
       "Wednesday    18059\n",
       "Name: genre_name, dtype: int64"
      ]
     },
     "metadata": {},
     "output_type": "display_data"
    }
   ],
   "source": [
    "# Подсчёт прослушиваний по дням недели\n",
    "display(df.groupby('day_of_week')['genre_name'].count())"
   ]
  },
  {
   "cell_type": "markdown",
   "metadata": {
    "id": "cC2tNrlL_Zcu"
   },
   "source": [
    "В среднем пользователи из двух городов менее активны по средам. Но картина может измениться, если рассмотреть каждый город в отдельности."
   ]
  },
  {
   "cell_type": "markdown",
   "metadata": {
    "id": "POzs8bGa_Zcu"
   },
   "source": [
    "Мы увидели, как работает группировка по городу и по дням недели. Теперь напишем функцию, которая объединит два эти расчёта.\n",
    "\n",
    "Создадим функцию `number_tracks()`, которая посчитает прослушивания для заданного дня и города. Ей понадобятся два параметра:\n",
    "* день недели,\n",
    "* название города.\n",
    "\n",
    "В функции сохраним в переменную строки исходной таблицы, у которых значение:\n",
    "  * в колонке `day_of_week` равно параметру `day`,\n",
    "  * в колонке `user_city` равно параметру `city`.\n",
    "\n",
    "Для этого применим последовательную фильтрацию с логической индексацией.\n",
    "\n",
    "Затем посчитаем значения в столбце `user_id` получившейся таблицы. Результат сохраним в новую переменную. Вернём эту переменную из функции."
   ]
  },
  {
   "cell_type": "code",
   "execution_count": 34,
   "metadata": {
    "id": "Nz3GdQB1_Zcu"
   },
   "outputs": [],
   "source": [
    "# Объявляется функция с двумя параметрами: day, city.\n",
    "def number_tracks(day, city):\n",
    "    \n",
    "    # В переменной track_list сохраняются те строки таблицы df, для которых \n",
    "    # значение в столбце 'day_of_week' равно параметру day и одновременно значение\n",
    "    # в столбце 'user_city' равно параметру city\n",
    "    track_list = df[df['day_of_week'] == day]\n",
    "    track_list = track_list[track_list['user_city'] == city]\n",
    "    \n",
    "    # В переменной track_list_count сохраняется число значений столбца 'user_id',\n",
    "    # рассчитанное методом count() для таблицы track_list.\n",
    "    track_list_count = track_list['user_id'].count()\n",
    "    \n",
    "    # Функция возвращает число - значение track_list_count. \n",
    "    return track_list_count"
   ]
  },
  {
   "cell_type": "markdown",
   "metadata": {
    "id": "ytf7xFrFJQ2r"
   },
   "source": [
    "Вызовем `number_tracks()` шесть раз, меняя значение параметров — так, чтобы получить данные для каждого города в каждый из трёх дней."
   ]
  },
  {
   "cell_type": "code",
   "execution_count": 35,
   "metadata": {},
   "outputs": [
    {
     "name": "stdout",
     "output_type": "stream",
     "text": [
      "Количество прослушиваний:\n",
      "\n",
      "Moscow , Monday : 15740\n",
      "\n",
      "Moscow , Wednesday : 11056\n",
      "\n",
      "Moscow , Friday : 15945\n",
      "\n",
      "Saint-Petersburg , Monday : 5614\n",
      "\n",
      "Saint-Petersburg , Wednesday : 7003\n",
      "\n",
      "Saint-Petersburg , Friday : 5895\n",
      "\n"
     ]
    }
   ],
   "source": [
    "print('Количество прослушиваний:')\n",
    "print()\n",
    "for city in ['Moscow','Saint-Petersburg']:\n",
    "    for day in ['Monday','Wednesday','Friday']:\n",
    "        print(city,',', day, ':', number_tracks(day, city))\n",
    "        print()"
   ]
  },
  {
   "cell_type": "markdown",
   "metadata": {
    "id": "7QXffbO-_Zcu"
   },
   "source": [
    "Создадим c помощью конструктора `pd.DataFrame` таблицу, где\n",
    "* названия колонок — `['city', 'monday', 'wednesday', 'friday']`;\n",
    "* данные — результаты, которые вы получили с помощью `number_tracks`."
   ]
  },
  {
   "cell_type": "code",
   "execution_count": 36,
   "metadata": {
    "id": "APAcLpOr_Zcu"
   },
   "outputs": [
    {
     "data": {
      "text/html": [
       "<div>\n",
       "<style scoped>\n",
       "    .dataframe tbody tr th:only-of-type {\n",
       "        vertical-align: middle;\n",
       "    }\n",
       "\n",
       "    .dataframe tbody tr th {\n",
       "        vertical-align: top;\n",
       "    }\n",
       "\n",
       "    .dataframe thead th {\n",
       "        text-align: right;\n",
       "    }\n",
       "</style>\n",
       "<table border=\"1\" class=\"dataframe\">\n",
       "  <thead>\n",
       "    <tr style=\"text-align: right;\">\n",
       "      <th></th>\n",
       "      <th>city</th>\n",
       "      <th>monday</th>\n",
       "      <th>wednesday</th>\n",
       "      <th>friday</th>\n",
       "    </tr>\n",
       "  </thead>\n",
       "  <tbody>\n",
       "    <tr>\n",
       "      <th>0</th>\n",
       "      <td>Moscow</td>\n",
       "      <td>15740</td>\n",
       "      <td>11056</td>\n",
       "      <td>15945</td>\n",
       "    </tr>\n",
       "    <tr>\n",
       "      <th>1</th>\n",
       "      <td>Saint-Petersburg</td>\n",
       "      <td>5614</td>\n",
       "      <td>7003</td>\n",
       "      <td>5895</td>\n",
       "    </tr>\n",
       "  </tbody>\n",
       "</table>\n",
       "</div>"
      ],
      "text/plain": [
       "               city  monday  wednesday  friday\n",
       "0            Moscow   15740      11056   15945\n",
       "1  Saint-Petersburg    5614       7003    5895"
      ]
     },
     "execution_count": 36,
     "metadata": {},
     "output_type": "execute_result"
    }
   ],
   "source": [
    "# Таблица с результатами\n",
    "new_colums_1 = ['city', 'monday', 'wednesday', 'friday']\n",
    "\n",
    "data_1 = [['Moscow', 15740,11056,15945],\n",
    "          ['Saint-Petersburg',5614,7003,5895]]\n",
    "\n",
    "pd.DataFrame(data=data_1, columns=new_colums_1)"
   ]
  },
  {
   "cell_type": "markdown",
   "metadata": {},
   "source": [
    "**Другой способ**\n",
    "\n",
    "Посчитаем количество треков по дням недели в городах с использованием встроенных функций.\n",
    "\n",
    "Разделим пользователей Санкт-Петербурга и Москвы с использованием логической индексации:"
   ]
  },
  {
   "cell_type": "code",
   "execution_count": 37,
   "metadata": {},
   "outputs": [],
   "source": [
    "#фильтрация пользователей по городам логической индексацией\n",
    "\n",
    "# получение таблицы moscow_general из тех строк таблицы df,\n",
    "# для которых значение в столбце 'user_city' равно 'Moscow'\n",
    "moscow_general = df[df['user_city']=='Moscow']\n",
    "\n",
    "# получение таблицы spb_general из тех строк таблицы df,\n",
    "# для которых значение в столбце 'user_city' равно 'Saint-Petersburg'\n",
    "spb_general = df[df['user_city']=='Saint-Petersburg']"
   ]
  },
  {
   "cell_type": "markdown",
   "metadata": {},
   "source": [
    "Количество треков *по дням недели* **в Москве**:"
   ]
  },
  {
   "cell_type": "code",
   "execution_count": 38,
   "metadata": {},
   "outputs": [
    {
     "name": "stdout",
     "output_type": "stream",
     "text": [
      "Moscow\n"
     ]
    },
    {
     "data": {
      "text/plain": [
       "day_of_week\n",
       "Friday       15945\n",
       "Monday       15740\n",
       "Wednesday    11056\n",
       "Name: user_id, dtype: int64"
      ]
     },
     "execution_count": 38,
     "metadata": {},
     "output_type": "execute_result"
    }
   ],
   "source": [
    "print('Moscow')\n",
    "moscow_general.groupby('day_of_week')['user_id'].count().sort_values(ascending=False)"
   ]
  },
  {
   "cell_type": "markdown",
   "metadata": {},
   "source": [
    "Количество треков *по дням недели* **в Санкт-Петербурге**:"
   ]
  },
  {
   "cell_type": "code",
   "execution_count": 39,
   "metadata": {},
   "outputs": [
    {
     "name": "stdout",
     "output_type": "stream",
     "text": [
      "Saint-Petersburg\n"
     ]
    },
    {
     "data": {
      "text/plain": [
       "day_of_week\n",
       "Wednesday    7003\n",
       "Friday       5895\n",
       "Monday       5614\n",
       "Name: user_id, dtype: int64"
      ]
     },
     "execution_count": 39,
     "metadata": {},
     "output_type": "execute_result"
    }
   ],
   "source": [
    "print('Saint-Petersburg')\n",
    "spb_general.groupby('day_of_week')['user_id'].count().sort_values(ascending=False)"
   ]
  },
  {
   "cell_type": "markdown",
   "metadata": {
    "id": "-EgPIHYu_Zcu"
   },
   "source": [
    "**Выводы**\n",
    "\n",
    "Данные показывают разницу поведения пользователей:\n",
    "\n",
    "- В Москве пик прослушиваний приходится на понедельник и пятницу, а в среду заметен спад.\n",
    "- В Петербурге, наоборот, больше слушают музыку по средам. Активность в понедельник и пятницу здесь почти в равной мере уступает среде.\n",
    "\n",
    "Значит, данные говорят в пользу первой гипотезы."
   ]
  },
  {
   "cell_type": "markdown",
   "metadata": {
    "id": "atZAxtq4_Zcu"
   },
   "source": [
    "### Музыка в начале и в конце недели"
   ]
  },
  {
   "cell_type": "markdown",
   "metadata": {
    "id": "eXrQqXFH_Zcu"
   },
   "source": [
    "Согласно второй гипотезе, утром в понедельник в Москве преобладают одни жанры, а в Петербурге — другие. Так же и вечером пятницы преобладают разные жанры — в зависимости от города."
   ]
  },
  {
   "cell_type": "markdown",
   "metadata": {
    "id": "S8UcW6Hw_Zcu"
   },
   "source": [
    "В предыдущем разделе было создано две переменные с данными по городам:\n",
    "* по Москве — в `moscow_general`;\n",
    "* по Санкт-Петербургу — в `spb_general`."
   ]
  },
  {
   "cell_type": "markdown",
   "metadata": {
    "id": "MEJV-CX2_Zcu"
   },
   "source": [
    "Создадим функцию `genre_weekday()` с четырьмя параметрами:\n",
    "* таблица (датафрейм) с данными,\n",
    "* день недели,\n",
    "* начальная временная метка в формате 'hh:mm', \n",
    "* последняя временная метка в формате 'hh:mm'.\n",
    "\n",
    "Функция должна вернуть информацию о топ-10 жанров тех треков, которые прослушивали в указанный день, в промежутке между двумя отметками времени."
   ]
  },
  {
   "cell_type": "code",
   "execution_count": 40,
   "metadata": {
    "id": "laJT9BYl_Zcu"
   },
   "outputs": [],
   "source": [
    "# Объявление функции genre_weekday() с параметрами table, day, time1, time2,\n",
    "# которая возвращает информацию о самых популярных жанрах в указанный день в\n",
    "# заданное время:\n",
    "def genre_weekday(table, day, time1, time2):\n",
    "    \n",
    "    # 1) в переменную genre_df сохраняются те строки переданного датафрейма table, для\n",
    "    #    которых одновременно:\n",
    "    genre_df = table[table['day_of_week']==day]         #    - значение в столбце day равно значению аргумента day\n",
    "    genre_df = genre_df[genre_df['start_time']>time1]   #    - значение в столбце time больше значения аргумента time1\n",
    "    genre_df = genre_df[genre_df['start_time']<time2]   #    - значение в столбце time меньше значения аргумента time2\n",
    "    \n",
    "    # 2) группируем датафрейм genre_df по столбцу genre, взяв один из его столбцов и\n",
    "    #    посчитаем методом count() количество записей для каждого из жанров\n",
    "    genre_df_count = genre_df.groupby('genre_name')['user_id'].count()\n",
    "    \n",
    "    # 3) отсортируем genre_df_count по убыванию встречаемости и сохраним\n",
    "    #    в переменную genre_df_sorted\n",
    "    genre_df_sorted = genre_df_count.sort_values(ascending = False)\n",
    "    \n",
    "    # 4) вернем Series из 10 первых значений genre_df_sorted, это будут топ-10\n",
    "    #    популярных жанров (в указанный день, в заданное время)\n",
    "    return genre_df_sorted.head(10)"
   ]
  },
  {
   "cell_type": "markdown",
   "metadata": {
    "id": "la2s2_PF_Zcu"
   },
   "source": [
    "Cравним результаты функции `genre_weekday()` для Москвы и Санкт-Петербурга в понедельник утром (с 7:00 до 11:00) и в пятницу вечером (с 17:00 до 23:00):"
   ]
  },
  {
   "cell_type": "code",
   "execution_count": 41,
   "metadata": {
    "id": "yz7itPUQ_Zcu"
   },
   "outputs": [
    {
     "data": {
      "text/plain": [
       "genre_name\n",
       "pop            781\n",
       "dance          549\n",
       "electronic     480\n",
       "rock           474\n",
       "hiphop         286\n",
       "ruspop         186\n",
       "world          181\n",
       "rusrap         175\n",
       "alternative    164\n",
       "unknown        161\n",
       "Name: user_id, dtype: int64"
      ]
     },
     "execution_count": 41,
     "metadata": {},
     "output_type": "execute_result"
    }
   ],
   "source": [
    "# вызов функции для утра понедельника в Москве\n",
    "genre_weekday(moscow_general, 'Monday', '07:00', '11:00')"
   ]
  },
  {
   "cell_type": "code",
   "execution_count": 42,
   "metadata": {
    "id": "kwUcHPdy_Zcu"
   },
   "outputs": [
    {
     "data": {
      "text/plain": [
       "genre_name\n",
       "pop            218\n",
       "dance          182\n",
       "rock           162\n",
       "electronic     147\n",
       "hiphop          80\n",
       "ruspop          64\n",
       "alternative     58\n",
       "rusrap          55\n",
       "jazz            44\n",
       "classical       40\n",
       "Name: user_id, dtype: int64"
      ]
     },
     "execution_count": 42,
     "metadata": {},
     "output_type": "execute_result"
    }
   ],
   "source": [
    "# вызов функции для утра понедельника в Петербурге\n",
    "genre_weekday(spb_general, 'Monday', '07:00', '11:00')"
   ]
  },
  {
   "cell_type": "code",
   "execution_count": 43,
   "metadata": {
    "id": "EzXVRE1o_Zcu"
   },
   "outputs": [
    {
     "data": {
      "text/plain": [
       "genre_name\n",
       "pop            713\n",
       "rock           517\n",
       "dance          495\n",
       "electronic     482\n",
       "hiphop         273\n",
       "world          208\n",
       "ruspop         170\n",
       "alternative    163\n",
       "classical      163\n",
       "rusrap         142\n",
       "Name: user_id, dtype: int64"
      ]
     },
     "execution_count": 43,
     "metadata": {},
     "output_type": "execute_result"
    }
   ],
   "source": [
    "# вызов функции для вечера пятницы в Москве\n",
    "genre_weekday(moscow_general, 'Friday', '17:00', '23:00')"
   ]
  },
  {
   "cell_type": "code",
   "execution_count": 44,
   "metadata": {
    "id": "JZaEKu5v_Zcu"
   },
   "outputs": [
    {
     "data": {
      "text/plain": [
       "genre_name\n",
       "pop            256\n",
       "electronic     216\n",
       "rock           216\n",
       "dance          210\n",
       "hiphop          97\n",
       "alternative     63\n",
       "jazz            61\n",
       "classical       60\n",
       "rusrap          59\n",
       "world           54\n",
       "Name: user_id, dtype: int64"
      ]
     },
     "execution_count": 44,
     "metadata": {},
     "output_type": "execute_result"
    }
   ],
   "source": [
    "# вызов функции для вечера пятницы в Петербурге\n",
    "genre_weekday(spb_general, 'Friday', '17:00', '23:00')"
   ]
  },
  {
   "cell_type": "markdown",
   "metadata": {
    "id": "wrCe4MNX_Zcu"
   },
   "source": [
    "**Выводы**\n",
    "\n",
    "Если сравнить топ-10 жанров в понедельник утром, можно сделать такие выводы:\n",
    "\n",
    "1. В Москве и Петербурге слушают похожую музыку. Единственное отличие — в московский рейтинг вошёл жанр “world”, а в петербургский — джаз и классика.\n",
    "\n",
    "2. В Москве пропущенных значений оказалось так много, что значение `'unknown'` заняло десятое место среди самых популярных жанров. Значит, пропущенные значения занимают существенную долю в данных и угрожают достоверности исследования.\n",
    "\n",
    "Вечер пятницы не меняет эту картину. Некоторые жанры поднимаются немного выше, другие спускаются, но в целом топ-10 остаётся тем же самым.\n",
    "\n",
    "Таким образом, вторая гипотеза подтвердилась лишь частично:\n",
    "* Пользователи слушают похожую музыку в начале недели и в конце.\n",
    "* Разница между Москвой и Петербургом не слишком выражена. В Москве чаще слушают русскую популярную музыку, в Петербурге — джаз.\n",
    "\n",
    "Однако пропуски в данных ставят под сомнение этот результат. В Москве их так много, что рейтинг топ-10 мог бы выглядеть иначе, если бы не утерянные  данные о жанрах.\n",
    "\n",
    "**Следует учесть**, что в исходных данных представлены треки  за периоды времени 08:00-11:00 (утро) и 21:00-22:00 (вечер). Для более полного сравнения желательно получить данные за периоды 07:00-08:00 и 17:00-21:00. Тогда сравнение можно было сделать по \"часам пик\": 07:00-11:00 и 17:00-21:00. Это были бы равные промежутки времени по 4 часа утром и вечером. Для вечера пятницы можно было расширить вечерний период: 17:00-23:00.\n",
    "\n",
    "Ещё более корректно взять полные сутки, чтобы наверняка определить часы пик."
   ]
  },
  {
   "cell_type": "markdown",
   "metadata": {
    "id": "JolODAqr_Zcu"
   },
   "source": [
    "### Жанровые предпочтения в Москве и Петербурге\n",
    "\n",
    "Гипотеза: Петербург — столица рэпа, музыку этого жанра там слушают чаще, чем в Москве.  \n",
    "\n",
    "А Москва — город контрастов, в котором, тем не менее, преобладает поп-музыка."
   ]
  },
  {
   "cell_type": "markdown",
   "metadata": {
    "id": "DlegSvaT_Zcu"
   },
   "source": [
    "Сгруппируем таблицу `moscow_general` по жанру и посчитаем прослушивания треков каждого жанра методом `count()`. Затем отсортируем результат в порядке убывания и сохраним его в таблице `moscow_genres`."
   ]
  },
  {
   "cell_type": "code",
   "execution_count": 45,
   "metadata": {
    "id": "r19lIPke_Zcu"
   },
   "outputs": [],
   "source": [
    "# группировка таблицы moscow_general по 'genre_name', подсчёт числа значений 'genre_name', \n",
    "# сортировка получившегося Series в порядке убывания\n",
    "moscow_genres = moscow_general.groupby('genre_name')['user_id'].count().sort_values(ascending = False)"
   ]
  },
  {
   "cell_type": "markdown",
   "metadata": {
    "id": "6kMuomxTiIr8"
   },
   "source": [
    "Выведем на экран первые десять строк `moscow_genres`:"
   ]
  },
  {
   "cell_type": "code",
   "execution_count": 46,
   "metadata": {
    "id": "WhCSooF8_Zcv"
   },
   "outputs": [
    {
     "data": {
      "text/plain": [
       "genre_name\n",
       "pop            5892\n",
       "dance          4435\n",
       "rock           3965\n",
       "electronic     3786\n",
       "hiphop         2096\n",
       "classical      1616\n",
       "world          1432\n",
       "alternative    1379\n",
       "ruspop         1372\n",
       "rusrap         1161\n",
       "Name: user_id, dtype: int64"
      ]
     },
     "metadata": {},
     "output_type": "display_data"
    }
   ],
   "source": [
    "# просмотр первых 10 строк moscow_genres\n",
    "display(moscow_genres.head(10))"
   ]
  },
  {
   "cell_type": "markdown",
   "metadata": {
    "id": "cnPG2vnN_Zcv"
   },
   "source": [
    "Теперь повторим то же и для Петербурга.\n",
    "\n",
    "Сгруппируем таблицу `spb_general` по жанру. Посчитаем прослушивания треков каждого жанра. Результат отсортируем в порядке убывания и сохраним в таблице `spb_genres`:\n"
   ]
  },
  {
   "cell_type": "code",
   "execution_count": 47,
   "metadata": {
    "id": "gluLIpE7_Zcv"
   },
   "outputs": [],
   "source": [
    "# группировка таблицы spb_general по столбцу 'genre_names', подсчёт числа значений 'genre_names'\n",
    "# сортировка получившегося Series в порядке убывания\n",
    "spb_genres = spb_general.groupby('genre_name')['user_id'].count().sort_values(ascending = False)"
   ]
  },
  {
   "cell_type": "markdown",
   "metadata": {
    "id": "5Doha_ODgyQ8"
   },
   "source": [
    "Выведем на экран первые десять строк `spb_genres`:"
   ]
  },
  {
   "cell_type": "code",
   "execution_count": 48,
   "metadata": {
    "id": "uaGJHjVU_Zcv"
   },
   "outputs": [
    {
     "data": {
      "text/plain": [
       "genre_name\n",
       "pop            2431\n",
       "dance          1932\n",
       "rock           1879\n",
       "electronic     1737\n",
       "hiphop          960\n",
       "alternative     649\n",
       "classical       646\n",
       "rusrap          564\n",
       "ruspop          538\n",
       "world           515\n",
       "Name: user_id, dtype: int64"
      ]
     },
     "metadata": {},
     "output_type": "display_data"
    }
   ],
   "source": [
    "# просмотр первых 10 строк spb_genres\n",
    "display(spb_genres.head(10))"
   ]
  },
  {
   "cell_type": "markdown",
   "metadata": {
    "id": "RY51YJYu_Zcv"
   },
   "source": [
    "**Выводы**"
   ]
  },
  {
   "cell_type": "markdown",
   "metadata": {
    "id": "nVhnJEm__Zcv"
   },
   "source": [
    "Гипотеза частично подтвердилась:\n",
    "* Поп-музыка — самый популярный жанр в Москве, как и предполагала гипотеза. Более того, в топ-10 жанров встречается близкий жанр — русская популярная музыка.\n",
    "* Вопреки ожиданиям, рэп одинаково популярен в Москве и Петербурге. \n"
   ]
  },
  {
   "cell_type": "markdown",
   "metadata": {
    "id": "ykKQ0N65_Zcv"
   },
   "source": [
    "## Итоги исследования"
   ]
  },
  {
   "cell_type": "markdown",
   "metadata": {
    "id": "tjUwbHb3_Zcv"
   },
   "source": [
    "Мы проверили три гипотезы и установили:\n",
    "\n",
    "1. День недели по-разному влияет на активность пользователей в Москве и Петербурге. \n",
    "\n",
    "Первая гипотеза полностью подтвердилась.\n",
    "\n",
    "2. Музыкальные предпочтения не сильно меняются в течение недели — будь то Москва или Петербург. Небольшие различия заметны в начале недели, по понедельникам:\n",
    "* в Москве слушают музыку жанра “world”,\n",
    "* в Петербурге — джаз и классику.\n",
    "\n",
    "Таким образом, вторая гипотеза подтвердилась лишь отчасти. Этот результат мог оказаться иным, если бы не пропуски в данных.\n",
    "\n",
    "3. Во вкусах пользователей Москвы и Петербурга больше общего чем различий. Вопреки ожиданиям, предпочтения жанров в Петербурге напоминают московские.\n",
    "\n",
    "Третья гипотеза не подтвердилась. Если различия в предпочтениях и существуют, на основной массе пользователей они незаметны.\n",
    "\n",
    "**Следует учесть**, что в исходных данных для периодов \"утро\" и \"вечер\" представлены треки за промежутки времени 08:00-11:00 (утро) и 21:00-22:00 (вечер). Для более расширенного анализа желательно получить дополнительные данные, о чем подробнее сказано в выводах к проверке 2-ой гипотезы.\n",
    "\n",
    "**На практике исследования содержат проверки статистических гипотез.**\n",
    "Из данных одного сервиса не всегда можно сделать вывод о всех жителях города.\n",
    "Проверки статистических гипотез покажут, насколько они достоверны, исходя из имеющихся данных."
   ]
  },
  {
   "cell_type": "code",
   "execution_count": null,
   "metadata": {},
   "outputs": [],
   "source": []
  }
 ],
 "metadata": {
  "ExecuteTimeLog": [
   {
    "duration": 601,
    "start_time": "2021-10-19T15:45:16.296Z"
   },
   {
    "duration": 169,
    "start_time": "2021-10-19T15:46:07.027Z"
   },
   {
    "duration": 19,
    "start_time": "2021-10-19T15:46:24.828Z"
   },
   {
    "duration": 9,
    "start_time": "2021-10-19T15:47:07.661Z"
   },
   {
    "duration": 25,
    "start_time": "2021-10-19T15:48:04.109Z"
   },
   {
    "duration": 4,
    "start_time": "2021-10-19T16:05:25.589Z"
   },
   {
    "duration": 5,
    "start_time": "2021-10-19T16:06:00.090Z"
   },
   {
    "duration": 85,
    "start_time": "2021-10-19T16:09:40.723Z"
   },
   {
    "duration": 23,
    "start_time": "2021-10-19T16:09:51.359Z"
   },
   {
    "duration": 24,
    "start_time": "2021-10-19T16:09:53.611Z"
   },
   {
    "duration": 24,
    "start_time": "2021-10-19T16:10:06.762Z"
   },
   {
    "duration": 17,
    "start_time": "2021-10-19T16:10:53.331Z"
   },
   {
    "duration": 18,
    "start_time": "2021-10-19T16:11:37.675Z"
   },
   {
    "duration": 17,
    "start_time": "2021-10-19T16:11:48.854Z"
   },
   {
    "duration": 4,
    "start_time": "2021-10-19T16:11:52.364Z"
   },
   {
    "duration": 16,
    "start_time": "2021-10-19T16:19:59.723Z"
   },
   {
    "duration": 4,
    "start_time": "2021-10-19T16:20:03.225Z"
   },
   {
    "duration": 312,
    "start_time": "2021-10-20T05:59:39.906Z"
   },
   {
    "duration": 744,
    "start_time": "2021-10-20T05:59:53.351Z"
   },
   {
    "duration": 174,
    "start_time": "2021-10-20T05:59:59.407Z"
   },
   {
    "duration": 26,
    "start_time": "2021-10-20T06:00:00.726Z"
   },
   {
    "duration": 33,
    "start_time": "2021-10-20T06:00:06.002Z"
   },
   {
    "duration": 7,
    "start_time": "2021-10-20T06:00:14.402Z"
   },
   {
    "duration": 28,
    "start_time": "2021-10-20T06:00:20.014Z"
   },
   {
    "duration": 6,
    "start_time": "2021-10-20T06:00:25.240Z"
   },
   {
    "duration": 48,
    "start_time": "2021-10-20T06:03:45.086Z"
   },
   {
    "duration": 11,
    "start_time": "2021-10-20T06:08:54.056Z"
   },
   {
    "duration": 31,
    "start_time": "2021-10-20T06:09:02.087Z"
   },
   {
    "duration": 75,
    "start_time": "2021-10-20T06:10:55.874Z"
   },
   {
    "duration": 24,
    "start_time": "2021-10-20T06:11:01.638Z"
   },
   {
    "duration": 30,
    "start_time": "2021-10-20T06:11:04.625Z"
   },
   {
    "duration": 85,
    "start_time": "2021-10-20T06:13:40.762Z"
   },
   {
    "duration": 101,
    "start_time": "2021-10-20T06:16:04.540Z"
   },
   {
    "duration": 4,
    "start_time": "2021-10-20T06:16:11.269Z"
   },
   {
    "duration": 79,
    "start_time": "2021-10-20T06:16:14.223Z"
   },
   {
    "duration": 10,
    "start_time": "2021-10-20T06:18:14.594Z"
   },
   {
    "duration": 308,
    "start_time": "2021-10-20T06:18:28.353Z"
   },
   {
    "duration": 262,
    "start_time": "2021-10-20T06:18:31.683Z"
   },
   {
    "duration": 301,
    "start_time": "2021-10-20T06:18:47.754Z"
   },
   {
    "duration": 9,
    "start_time": "2021-10-20T06:18:50.970Z"
   },
   {
    "duration": 263,
    "start_time": "2021-10-20T06:23:52.900Z"
   },
   {
    "duration": 270,
    "start_time": "2021-10-20T06:24:39.696Z"
   },
   {
    "duration": 9,
    "start_time": "2021-10-20T06:28:42.676Z"
   },
   {
    "duration": 8,
    "start_time": "2021-10-20T06:28:54.245Z"
   },
   {
    "duration": 56,
    "start_time": "2021-10-20T06:29:54.948Z"
   },
   {
    "duration": 442,
    "start_time": "2021-10-20T06:30:25.591Z"
   },
   {
    "duration": 433,
    "start_time": "2021-10-20T06:31:10.048Z"
   },
   {
    "duration": 57,
    "start_time": "2021-10-20T06:31:25.520Z"
   },
   {
    "duration": 58,
    "start_time": "2021-10-20T06:31:35.655Z"
   },
   {
    "duration": 54,
    "start_time": "2021-10-20T06:32:30.188Z"
   },
   {
    "duration": 67,
    "start_time": "2021-10-20T06:33:13.797Z"
   },
   {
    "duration": 56,
    "start_time": "2021-10-20T06:33:27.594Z"
   },
   {
    "duration": 382,
    "start_time": "2021-10-20T06:38:42.834Z"
   },
   {
    "duration": 334,
    "start_time": "2021-10-20T06:39:04.210Z"
   },
   {
    "duration": 310,
    "start_time": "2021-10-20T06:39:31.532Z"
   },
   {
    "duration": 399,
    "start_time": "2021-10-20T06:39:42.082Z"
   },
   {
    "duration": 353,
    "start_time": "2021-10-20T06:40:25.914Z"
   },
   {
    "duration": 129,
    "start_time": "2021-10-20T06:42:06.089Z"
   },
   {
    "duration": 311,
    "start_time": "2021-10-20T06:42:49.103Z"
   },
   {
    "duration": 57,
    "start_time": "2021-10-20T06:42:55.959Z"
   },
   {
    "duration": 56,
    "start_time": "2021-10-20T06:42:59.294Z"
   },
   {
    "duration": 55,
    "start_time": "2021-10-20T06:43:04.623Z"
   },
   {
    "duration": 63,
    "start_time": "2021-10-20T06:43:19.522Z"
   },
   {
    "duration": 65,
    "start_time": "2021-10-20T06:43:49.434Z"
   },
   {
    "duration": 66,
    "start_time": "2021-10-20T06:44:24.037Z"
   },
   {
    "duration": 768,
    "start_time": "2021-10-20T06:44:38.860Z"
   },
   {
    "duration": 329,
    "start_time": "2021-10-20T06:44:45.610Z"
   },
   {
    "duration": 100,
    "start_time": "2021-10-20T06:44:56.060Z"
   },
   {
    "duration": 98,
    "start_time": "2021-10-20T06:45:09.475Z"
   },
   {
    "duration": 88,
    "start_time": "2021-10-20T06:45:25.180Z"
   },
   {
    "duration": 101,
    "start_time": "2021-10-20T06:45:46.204Z"
   },
   {
    "duration": 55,
    "start_time": "2021-10-20T06:45:53.159Z"
   },
   {
    "duration": 66,
    "start_time": "2021-10-20T06:46:12.240Z"
   },
   {
    "duration": 70,
    "start_time": "2021-10-20T06:46:24.780Z"
   },
   {
    "duration": 105,
    "start_time": "2021-10-20T06:58:35.983Z"
   },
   {
    "duration": 275,
    "start_time": "2021-10-20T06:58:43.926Z"
   },
   {
    "duration": 66,
    "start_time": "2021-10-20T07:04:38.072Z"
   },
   {
    "duration": 57,
    "start_time": "2021-10-20T07:13:44.845Z"
   },
   {
    "duration": 4,
    "start_time": "2021-10-20T07:23:16.416Z"
   },
   {
    "duration": 60,
    "start_time": "2021-10-20T07:26:42.398Z"
   },
   {
    "duration": 89,
    "start_time": "2021-10-20T07:27:16.929Z"
   },
   {
    "duration": 75,
    "start_time": "2021-10-20T07:27:26.822Z"
   },
   {
    "duration": 92,
    "start_time": "2021-10-20T07:27:40.060Z"
   },
   {
    "duration": 72,
    "start_time": "2021-10-20T07:27:52.578Z"
   },
   {
    "duration": 56,
    "start_time": "2021-10-20T07:30:03.837Z"
   },
   {
    "duration": 12,
    "start_time": "2021-10-20T07:30:10.471Z"
   },
   {
    "duration": 11,
    "start_time": "2021-10-20T07:32:45.380Z"
   },
   {
    "duration": 96,
    "start_time": "2021-10-20T07:33:33.382Z"
   },
   {
    "duration": 55,
    "start_time": "2021-10-20T07:33:38.033Z"
   },
   {
    "duration": 53,
    "start_time": "2021-10-20T07:33:54.520Z"
   },
   {
    "duration": 57,
    "start_time": "2021-10-20T07:34:29.390Z"
   },
   {
    "duration": 53,
    "start_time": "2021-10-20T07:36:35.184Z"
   },
   {
    "duration": 3,
    "start_time": "2021-10-20T07:37:23.829Z"
   },
   {
    "duration": 16,
    "start_time": "2021-10-20T07:37:27.854Z"
   },
   {
    "duration": 15,
    "start_time": "2021-10-20T07:37:44.632Z"
   },
   {
    "duration": 57,
    "start_time": "2021-10-20T07:37:48.019Z"
   },
   {
    "duration": 12,
    "start_time": "2021-10-20T07:38:44.634Z"
   },
   {
    "duration": 57,
    "start_time": "2021-10-20T07:38:47.852Z"
   },
   {
    "duration": 56,
    "start_time": "2021-10-20T07:38:51.997Z"
   },
   {
    "duration": 4,
    "start_time": "2021-10-20T07:49:25.213Z"
   },
   {
    "duration": 557,
    "start_time": "2021-10-20T07:49:28.954Z"
   },
   {
    "duration": 5,
    "start_time": "2021-10-20T07:50:42.043Z"
   },
   {
    "duration": 573,
    "start_time": "2021-10-20T07:50:44.063Z"
   },
   {
    "duration": 5,
    "start_time": "2021-10-20T07:50:55.810Z"
   },
   {
    "duration": 476,
    "start_time": "2021-10-20T07:50:57.998Z"
   },
   {
    "duration": 559,
    "start_time": "2021-10-20T07:51:33.559Z"
   },
   {
    "duration": 5,
    "start_time": "2021-10-20T07:51:51.098Z"
   },
   {
    "duration": 550,
    "start_time": "2021-10-20T07:51:52.844Z"
   },
   {
    "duration": 255,
    "start_time": "2021-10-20T07:52:27.285Z"
   },
   {
    "duration": 123,
    "start_time": "2021-10-20T07:52:36.302Z"
   },
   {
    "duration": 96,
    "start_time": "2021-10-20T07:52:38.623Z"
   },
   {
    "duration": 8628,
    "start_time": "2021-10-20T07:52:34.279Z"
   },
   {
    "duration": 90,
    "start_time": "2021-10-20T07:52:52.864Z"
   },
   {
    "duration": 271,
    "start_time": "2021-10-20T07:53:01.702Z"
   },
   {
    "duration": 233,
    "start_time": "2021-10-20T07:53:09.110Z"
   },
   {
    "duration": 219,
    "start_time": "2021-10-20T07:53:38.259Z"
   },
   {
    "duration": 5,
    "start_time": "2021-10-20T07:53:49.381Z"
   },
   {
    "duration": 5,
    "start_time": "2021-10-20T07:53:58.867Z"
   },
   {
    "duration": 5,
    "start_time": "2021-10-20T07:54:14.207Z"
   },
   {
    "duration": 92,
    "start_time": "2021-10-20T07:54:19.880Z"
   },
   {
    "duration": 282,
    "start_time": "2021-10-20T07:54:28.954Z"
   },
   {
    "duration": 6,
    "start_time": "2021-10-20T07:55:47.077Z"
   },
   {
    "duration": 6,
    "start_time": "2021-10-20T07:56:20.528Z"
   },
   {
    "duration": 149,
    "start_time": "2021-10-20T07:57:18.536Z"
   },
   {
    "duration": 5,
    "start_time": "2021-10-20T07:57:33.439Z"
   },
   {
    "duration": 6,
    "start_time": "2021-10-20T07:58:01.833Z"
   },
   {
    "duration": 311,
    "start_time": "2021-10-20T07:58:20.821Z"
   },
   {
    "duration": 5,
    "start_time": "2021-10-20T07:58:30.693Z"
   },
   {
    "duration": 521,
    "start_time": "2021-10-20T07:59:11.381Z"
   },
   {
    "duration": 245,
    "start_time": "2021-10-20T08:00:22.988Z"
   },
   {
    "duration": 7,
    "start_time": "2021-10-20T08:01:07.837Z"
   },
   {
    "duration": 92,
    "start_time": "2021-10-20T08:01:51.131Z"
   },
   {
    "duration": 6,
    "start_time": "2021-10-20T08:02:04.348Z"
   },
   {
    "duration": 5,
    "start_time": "2021-10-20T08:02:47.148Z"
   },
   {
    "duration": 15,
    "start_time": "2021-10-20T08:02:55.275Z"
   },
   {
    "duration": 16,
    "start_time": "2021-10-20T08:03:09.513Z"
   },
   {
    "duration": 18,
    "start_time": "2021-10-20T08:03:27.747Z"
   },
   {
    "duration": 27,
    "start_time": "2021-10-20T08:03:38.175Z"
   },
   {
    "duration": 132,
    "start_time": "2021-10-20T08:04:31.570Z"
   },
   {
    "duration": 5,
    "start_time": "2021-10-20T08:04:36.192Z"
   },
   {
    "duration": 28,
    "start_time": "2021-10-20T08:04:37.792Z"
   },
   {
    "duration": 29,
    "start_time": "2021-10-20T08:05:21.686Z"
   },
   {
    "duration": 30,
    "start_time": "2021-10-20T08:05:36.949Z"
   },
   {
    "duration": 29,
    "start_time": "2021-10-20T08:06:10.414Z"
   },
   {
    "duration": 5,
    "start_time": "2021-10-20T08:06:17.376Z"
   },
   {
    "duration": 28,
    "start_time": "2021-10-20T08:06:19.319Z"
   },
   {
    "duration": 5,
    "start_time": "2021-10-20T08:09:48.951Z"
   },
   {
    "duration": 30,
    "start_time": "2021-10-20T08:09:51.044Z"
   },
   {
    "duration": 93,
    "start_time": "2021-10-20T08:10:14.434Z"
   },
   {
    "duration": 5,
    "start_time": "2021-10-20T08:10:47.395Z"
   },
   {
    "duration": 31,
    "start_time": "2021-10-20T08:10:52.290Z"
   },
   {
    "duration": 30,
    "start_time": "2021-10-20T08:10:55.677Z"
   },
   {
    "duration": 5,
    "start_time": "2021-10-20T08:11:38.588Z"
   },
   {
    "duration": 31,
    "start_time": "2021-10-20T08:11:41.125Z"
   },
   {
    "duration": 34,
    "start_time": "2021-10-20T08:13:12.590Z"
   },
   {
    "duration": 23,
    "start_time": "2021-10-20T08:13:42.526Z"
   },
   {
    "duration": 18,
    "start_time": "2021-10-20T08:13:53.324Z"
   },
   {
    "duration": 19,
    "start_time": "2021-10-20T08:14:00.258Z"
   },
   {
    "duration": 4,
    "start_time": "2021-10-20T08:14:10.690Z"
   },
   {
    "duration": 3,
    "start_time": "2021-10-20T08:14:14.710Z"
   },
   {
    "duration": 184,
    "start_time": "2021-10-20T08:14:14.716Z"
   },
   {
    "duration": 15,
    "start_time": "2021-10-20T08:14:14.903Z"
   },
   {
    "duration": 34,
    "start_time": "2021-10-20T08:14:14.921Z"
   },
   {
    "duration": 27,
    "start_time": "2021-10-20T08:14:14.958Z"
   },
   {
    "duration": 37,
    "start_time": "2021-10-20T08:14:14.987Z"
   },
   {
    "duration": 7,
    "start_time": "2021-10-20T08:14:15.026Z"
   },
   {
    "duration": 66,
    "start_time": "2021-10-20T08:14:15.037Z"
   },
   {
    "duration": 34,
    "start_time": "2021-10-20T08:14:15.106Z"
   },
   {
    "duration": 29,
    "start_time": "2021-10-20T08:14:15.143Z"
   },
   {
    "duration": 82,
    "start_time": "2021-10-20T08:14:15.182Z"
   },
   {
    "duration": 102,
    "start_time": "2021-10-20T08:14:15.267Z"
   },
   {
    "duration": 90,
    "start_time": "2021-10-20T08:14:15.372Z"
   },
   {
    "duration": 74,
    "start_time": "2021-10-20T08:14:15.464Z"
   },
   {
    "duration": 68,
    "start_time": "2021-10-20T08:14:15.541Z"
   },
   {
    "duration": 4,
    "start_time": "2021-10-20T08:14:15.611Z"
   },
   {
    "duration": 33,
    "start_time": "2021-10-20T08:14:15.618Z"
   },
   {
    "duration": 77,
    "start_time": "2021-10-20T08:14:15.653Z"
   },
   {
    "duration": 61,
    "start_time": "2021-10-20T08:14:15.732Z"
   },
   {
    "duration": 3,
    "start_time": "2021-10-20T08:14:15.796Z"
   },
   {
    "duration": 6,
    "start_time": "2021-10-20T08:14:15.802Z"
   },
   {
    "duration": 9,
    "start_time": "2021-10-20T08:14:15.810Z"
   },
   {
    "duration": 9,
    "start_time": "2021-10-20T08:14:15.823Z"
   },
   {
    "duration": 8,
    "start_time": "2021-10-20T08:14:15.835Z"
   },
   {
    "duration": 12,
    "start_time": "2021-10-20T08:14:15.845Z"
   },
   {
    "duration": 4,
    "start_time": "2021-10-20T08:14:15.883Z"
   },
   {
    "duration": 7,
    "start_time": "2021-10-20T08:14:15.889Z"
   },
   {
    "duration": 11,
    "start_time": "2021-10-20T08:14:15.898Z"
   },
   {
    "duration": 7,
    "start_time": "2021-10-20T08:14:15.911Z"
   },
   {
    "duration": 6,
    "start_time": "2021-10-20T08:14:15.920Z"
   },
   {
    "duration": 8,
    "start_time": "2021-10-20T08:14:15.928Z"
   },
   {
    "duration": 10,
    "start_time": "2021-10-20T08:14:15.939Z"
   },
   {
    "duration": 11,
    "start_time": "2021-10-20T08:14:15.951Z"
   },
   {
    "duration": 8,
    "start_time": "2021-10-20T08:14:15.984Z"
   },
   {
    "duration": 9,
    "start_time": "2021-10-20T08:14:15.995Z"
   },
   {
    "duration": 8,
    "start_time": "2021-10-20T08:14:16.007Z"
   },
   {
    "duration": 15,
    "start_time": "2021-10-20T08:14:16.017Z"
   },
   {
    "duration": 11,
    "start_time": "2021-10-20T08:14:16.035Z"
   },
   {
    "duration": 7,
    "start_time": "2021-10-20T08:14:16.048Z"
   },
   {
    "duration": 8,
    "start_time": "2021-10-20T08:14:16.057Z"
   },
   {
    "duration": 5,
    "start_time": "2021-10-20T08:15:17.021Z"
   },
   {
    "duration": 14,
    "start_time": "2021-10-20T08:15:46.867Z"
   },
   {
    "duration": 17,
    "start_time": "2021-10-20T08:15:51.678Z"
   },
   {
    "duration": 4,
    "start_time": "2021-10-20T08:16:01.221Z"
   },
   {
    "duration": 264,
    "start_time": "2021-10-20T08:16:01.229Z"
   },
   {
    "duration": 19,
    "start_time": "2021-10-20T08:16:01.496Z"
   },
   {
    "duration": 44,
    "start_time": "2021-10-20T08:16:01.517Z"
   },
   {
    "duration": 15,
    "start_time": "2021-10-20T08:16:01.564Z"
   },
   {
    "duration": 36,
    "start_time": "2021-10-20T08:16:01.582Z"
   },
   {
    "duration": 5,
    "start_time": "2021-10-20T08:16:01.621Z"
   },
   {
    "duration": 41,
    "start_time": "2021-10-20T08:16:01.629Z"
   },
   {
    "duration": 23,
    "start_time": "2021-10-20T08:16:01.674Z"
   },
   {
    "duration": 37,
    "start_time": "2021-10-20T08:16:01.700Z"
   },
   {
    "duration": 88,
    "start_time": "2021-10-20T08:16:01.739Z"
   },
   {
    "duration": 153,
    "start_time": "2021-10-20T08:16:01.829Z"
   },
   {
    "duration": 72,
    "start_time": "2021-10-20T08:16:01.985Z"
   },
   {
    "duration": 69,
    "start_time": "2021-10-20T08:16:02.059Z"
   },
   {
    "duration": 70,
    "start_time": "2021-10-20T08:16:02.130Z"
   },
   {
    "duration": 5,
    "start_time": "2021-10-20T08:16:02.202Z"
   },
   {
    "duration": 30,
    "start_time": "2021-10-20T08:16:02.209Z"
   },
   {
    "duration": 18,
    "start_time": "2021-10-20T08:16:02.241Z"
   },
   {
    "duration": 28,
    "start_time": "2021-10-20T08:16:02.261Z"
   },
   {
    "duration": 3,
    "start_time": "2021-10-20T08:16:02.291Z"
   },
   {
    "duration": 15,
    "start_time": "2021-10-20T08:16:02.296Z"
   },
   {
    "duration": 10,
    "start_time": "2021-10-20T08:16:02.313Z"
   },
   {
    "duration": 25,
    "start_time": "2021-10-20T08:16:02.326Z"
   },
   {
    "duration": 22,
    "start_time": "2021-10-20T08:16:02.354Z"
   },
   {
    "duration": 15,
    "start_time": "2021-10-20T08:16:02.378Z"
   },
   {
    "duration": 8,
    "start_time": "2021-10-20T08:16:02.395Z"
   },
   {
    "duration": 7,
    "start_time": "2021-10-20T08:16:02.408Z"
   },
   {
    "duration": 22,
    "start_time": "2021-10-20T08:16:02.418Z"
   },
   {
    "duration": 11,
    "start_time": "2021-10-20T08:16:02.443Z"
   },
   {
    "duration": 11,
    "start_time": "2021-10-20T08:16:02.456Z"
   },
   {
    "duration": 29,
    "start_time": "2021-10-20T08:16:02.469Z"
   },
   {
    "duration": 8,
    "start_time": "2021-10-20T08:16:02.500Z"
   },
   {
    "duration": 18,
    "start_time": "2021-10-20T08:16:02.511Z"
   },
   {
    "duration": 20,
    "start_time": "2021-10-20T08:16:02.531Z"
   },
   {
    "duration": 21,
    "start_time": "2021-10-20T08:16:02.553Z"
   },
   {
    "duration": 12,
    "start_time": "2021-10-20T08:16:02.577Z"
   },
   {
    "duration": 31,
    "start_time": "2021-10-20T08:16:02.592Z"
   },
   {
    "duration": 11,
    "start_time": "2021-10-20T08:16:02.626Z"
   },
   {
    "duration": 13,
    "start_time": "2021-10-20T08:16:02.639Z"
   },
   {
    "duration": 14,
    "start_time": "2021-10-20T08:16:02.655Z"
   },
   {
    "duration": 17,
    "start_time": "2021-10-20T08:16:23.737Z"
   },
   {
    "duration": 4,
    "start_time": "2021-10-20T08:16:35.957Z"
   },
   {
    "duration": 211,
    "start_time": "2021-10-20T08:16:35.965Z"
   },
   {
    "duration": 15,
    "start_time": "2021-10-20T08:16:36.179Z"
   },
   {
    "duration": 44,
    "start_time": "2021-10-20T08:16:36.197Z"
   },
   {
    "duration": 6,
    "start_time": "2021-10-20T08:16:36.243Z"
   },
   {
    "duration": 45,
    "start_time": "2021-10-20T08:16:36.251Z"
   },
   {
    "duration": 5,
    "start_time": "2021-10-20T08:16:36.298Z"
   },
   {
    "duration": 38,
    "start_time": "2021-10-20T08:16:36.306Z"
   },
   {
    "duration": 47,
    "start_time": "2021-10-20T08:16:36.347Z"
   },
   {
    "duration": 32,
    "start_time": "2021-10-20T08:16:36.397Z"
   },
   {
    "duration": 99,
    "start_time": "2021-10-20T08:16:36.431Z"
   },
   {
    "duration": 102,
    "start_time": "2021-10-20T08:16:36.532Z"
   },
   {
    "duration": 86,
    "start_time": "2021-10-20T08:16:36.636Z"
   },
   {
    "duration": 68,
    "start_time": "2021-10-20T08:16:36.725Z"
   },
   {
    "duration": 52,
    "start_time": "2021-10-20T08:16:36.796Z"
   },
   {
    "duration": 5,
    "start_time": "2021-10-20T08:16:36.850Z"
   },
   {
    "duration": 34,
    "start_time": "2021-10-20T08:16:36.857Z"
   },
   {
    "duration": 16,
    "start_time": "2021-10-20T08:16:36.893Z"
   },
   {
    "duration": 19,
    "start_time": "2021-10-20T08:16:36.911Z"
   },
   {
    "duration": 3,
    "start_time": "2021-10-20T08:16:36.932Z"
   },
   {
    "duration": 7,
    "start_time": "2021-10-20T08:16:36.937Z"
   },
   {
    "duration": 39,
    "start_time": "2021-10-20T08:16:36.946Z"
   },
   {
    "duration": 6,
    "start_time": "2021-10-20T08:16:36.990Z"
   },
   {
    "duration": 10,
    "start_time": "2021-10-20T08:16:36.999Z"
   },
   {
    "duration": 11,
    "start_time": "2021-10-20T08:16:37.011Z"
   },
   {
    "duration": 9,
    "start_time": "2021-10-20T08:16:37.024Z"
   },
   {
    "duration": 13,
    "start_time": "2021-10-20T08:16:37.035Z"
   },
   {
    "duration": 7,
    "start_time": "2021-10-20T08:16:37.050Z"
   },
   {
    "duration": 24,
    "start_time": "2021-10-20T08:16:37.059Z"
   },
   {
    "duration": 12,
    "start_time": "2021-10-20T08:16:37.086Z"
   },
   {
    "duration": 6,
    "start_time": "2021-10-20T08:16:37.101Z"
   },
   {
    "duration": 5,
    "start_time": "2021-10-20T08:16:37.110Z"
   },
   {
    "duration": 11,
    "start_time": "2021-10-20T08:16:37.118Z"
   },
   {
    "duration": 6,
    "start_time": "2021-10-20T08:16:37.132Z"
   },
   {
    "duration": 12,
    "start_time": "2021-10-20T08:16:37.140Z"
   },
   {
    "duration": 10,
    "start_time": "2021-10-20T08:16:37.155Z"
   },
   {
    "duration": 16,
    "start_time": "2021-10-20T08:16:37.167Z"
   },
   {
    "duration": 6,
    "start_time": "2021-10-20T08:16:37.185Z"
   },
   {
    "duration": 11,
    "start_time": "2021-10-20T08:16:37.193Z"
   },
   {
    "duration": 13,
    "start_time": "2021-10-20T08:16:37.206Z"
   },
   {
    "duration": 392,
    "start_time": "2021-10-20T08:18:34.636Z"
   },
   {
    "duration": 20,
    "start_time": "2021-10-20T08:19:08.681Z"
   },
   {
    "duration": 289,
    "start_time": "2021-10-20T08:19:21.392Z"
   },
   {
    "duration": 72,
    "start_time": "2021-10-20T08:19:25.241Z"
   },
   {
    "duration": 72,
    "start_time": "2021-10-20T08:19:35.739Z"
   },
   {
    "duration": 22,
    "start_time": "2021-10-20T08:19:54.500Z"
   },
   {
    "duration": 28,
    "start_time": "2021-10-20T08:19:57.413Z"
   },
   {
    "duration": 73,
    "start_time": "2021-10-20T08:20:00.013Z"
   },
   {
    "duration": 72,
    "start_time": "2021-10-20T08:22:40.139Z"
   },
   {
    "duration": 75,
    "start_time": "2021-10-20T08:22:45.270Z"
   },
   {
    "duration": 79,
    "start_time": "2021-10-20T08:22:57.348Z"
   },
   {
    "duration": 72,
    "start_time": "2021-10-20T08:22:59.292Z"
   },
   {
    "duration": 15,
    "start_time": "2021-10-20T08:23:19.180Z"
   },
   {
    "duration": 182,
    "start_time": "2021-10-20T08:23:31.447Z"
   },
   {
    "duration": 16,
    "start_time": "2021-10-20T08:23:33.622Z"
   },
   {
    "duration": 20,
    "start_time": "2021-10-20T08:24:05.556Z"
   },
   {
    "duration": 6,
    "start_time": "2021-10-20T08:24:13.805Z"
   },
   {
    "duration": 31,
    "start_time": "2021-10-20T08:24:29.172Z"
   },
   {
    "duration": 21,
    "start_time": "2021-10-20T08:24:47.924Z"
   },
   {
    "duration": 28,
    "start_time": "2021-10-20T08:24:56.435Z"
   },
   {
    "duration": 92,
    "start_time": "2021-10-20T08:25:03.957Z"
   },
   {
    "duration": 85,
    "start_time": "2021-10-20T08:25:16.437Z"
   },
   {
    "duration": 75,
    "start_time": "2021-10-20T08:25:22.298Z"
   },
   {
    "duration": 8587,
    "start_time": "2021-10-20T08:25:34.098Z"
   },
   {
    "duration": 56,
    "start_time": "2021-10-20T08:25:48.885Z"
   },
   {
    "duration": 20,
    "start_time": "2021-10-20T08:27:16.735Z"
   },
   {
    "duration": 5,
    "start_time": "2021-10-20T08:27:17.941Z"
   },
   {
    "duration": 31,
    "start_time": "2021-10-20T08:27:27.852Z"
   },
   {
    "duration": 31,
    "start_time": "2021-10-20T08:27:41.122Z"
   },
   {
    "duration": 34,
    "start_time": "2021-10-20T08:28:00.013Z"
   },
   {
    "duration": 32,
    "start_time": "2021-10-20T08:28:01.234Z"
   },
   {
    "duration": 49,
    "start_time": "2021-10-20T08:28:11.608Z"
   },
   {
    "duration": 79,
    "start_time": "2021-10-20T08:28:20.442Z"
   },
   {
    "duration": 90,
    "start_time": "2021-10-20T08:28:26.476Z"
   },
   {
    "duration": 76,
    "start_time": "2021-10-20T08:28:49.488Z"
   },
   {
    "duration": 86,
    "start_time": "2021-10-20T08:28:50.958Z"
   },
   {
    "duration": 83,
    "start_time": "2021-10-20T08:28:52.508Z"
   },
   {
    "duration": 78,
    "start_time": "2021-10-20T08:28:59.838Z"
   },
   {
    "duration": 29,
    "start_time": "2021-10-20T08:29:05.654Z"
   },
   {
    "duration": 76,
    "start_time": "2021-10-20T08:29:08.488Z"
   },
   {
    "duration": 84,
    "start_time": "2021-10-20T08:29:10.483Z"
   },
   {
    "duration": 88,
    "start_time": "2021-10-20T08:29:14.420Z"
   },
   {
    "duration": 4,
    "start_time": "2021-10-20T08:29:29.458Z"
   },
   {
    "duration": 178,
    "start_time": "2021-10-20T08:29:29.621Z"
   },
   {
    "duration": 15,
    "start_time": "2021-10-20T08:29:29.802Z"
   },
   {
    "duration": 35,
    "start_time": "2021-10-20T08:29:29.820Z"
   },
   {
    "duration": 34,
    "start_time": "2021-10-20T08:29:29.858Z"
   },
   {
    "duration": 24,
    "start_time": "2021-10-20T08:29:29.895Z"
   },
   {
    "duration": 5,
    "start_time": "2021-10-20T08:29:29.922Z"
   },
   {
    "duration": 68,
    "start_time": "2021-10-20T08:29:29.930Z"
   },
   {
    "duration": 31,
    "start_time": "2021-10-20T08:29:30.000Z"
   },
   {
    "duration": 30,
    "start_time": "2021-10-20T08:29:30.035Z"
   },
   {
    "duration": 83,
    "start_time": "2021-10-20T08:29:30.087Z"
   },
   {
    "duration": 111,
    "start_time": "2021-10-20T08:29:30.172Z"
   },
   {
    "duration": 79,
    "start_time": "2021-10-20T08:29:30.286Z"
   },
   {
    "duration": 83,
    "start_time": "2021-10-20T08:29:30.367Z"
   },
   {
    "duration": 8200,
    "start_time": "2021-10-20T08:29:30.452Z"
   },
   {
    "duration": 8547,
    "start_time": "2021-10-20T08:29:30.109Z"
   },
   {
    "duration": 8547,
    "start_time": "2021-10-20T08:29:30.111Z"
   },
   {
    "duration": 8547,
    "start_time": "2021-10-20T08:29:30.112Z"
   },
   {
    "duration": 8544,
    "start_time": "2021-10-20T08:29:30.116Z"
   },
   {
    "duration": 8544,
    "start_time": "2021-10-20T08:29:30.118Z"
   },
   {
    "duration": 8543,
    "start_time": "2021-10-20T08:29:30.120Z"
   },
   {
    "duration": 8543,
    "start_time": "2021-10-20T08:29:30.122Z"
   },
   {
    "duration": 8543,
    "start_time": "2021-10-20T08:29:30.123Z"
   },
   {
    "duration": 8542,
    "start_time": "2021-10-20T08:29:30.125Z"
   },
   {
    "duration": 8543,
    "start_time": "2021-10-20T08:29:30.126Z"
   },
   {
    "duration": 8543,
    "start_time": "2021-10-20T08:29:30.127Z"
   },
   {
    "duration": 8543,
    "start_time": "2021-10-20T08:29:30.129Z"
   },
   {
    "duration": 8543,
    "start_time": "2021-10-20T08:29:30.130Z"
   },
   {
    "duration": 8543,
    "start_time": "2021-10-20T08:29:30.131Z"
   },
   {
    "duration": 8543,
    "start_time": "2021-10-20T08:29:30.133Z"
   },
   {
    "duration": 8543,
    "start_time": "2021-10-20T08:29:30.134Z"
   },
   {
    "duration": 8542,
    "start_time": "2021-10-20T08:29:30.136Z"
   },
   {
    "duration": 8522,
    "start_time": "2021-10-20T08:29:30.158Z"
   },
   {
    "duration": 8519,
    "start_time": "2021-10-20T08:29:30.162Z"
   },
   {
    "duration": 8518,
    "start_time": "2021-10-20T08:29:30.164Z"
   },
   {
    "duration": 8518,
    "start_time": "2021-10-20T08:29:30.165Z"
   },
   {
    "duration": 8517,
    "start_time": "2021-10-20T08:29:30.167Z"
   },
   {
    "duration": 8518,
    "start_time": "2021-10-20T08:29:30.168Z"
   },
   {
    "duration": 8517,
    "start_time": "2021-10-20T08:29:30.170Z"
   },
   {
    "duration": 8514,
    "start_time": "2021-10-20T08:29:30.174Z"
   },
   {
    "duration": 294,
    "start_time": "2021-10-20T08:30:32.424Z"
   },
   {
    "duration": 30,
    "start_time": "2021-10-20T08:30:54.144Z"
   },
   {
    "duration": 32,
    "start_time": "2021-10-20T08:31:31.830Z"
   },
   {
    "duration": 3844,
    "start_time": "2021-10-20T08:32:31.179Z"
   },
   {
    "duration": 8571,
    "start_time": "2021-10-20T08:32:26.455Z"
   },
   {
    "duration": 12,
    "start_time": "2021-10-20T08:32:35.279Z"
   },
   {
    "duration": 25,
    "start_time": "2021-10-20T08:32:45.285Z"
   },
   {
    "duration": 31,
    "start_time": "2021-10-20T08:32:48.105Z"
   },
   {
    "duration": 263,
    "start_time": "2021-10-20T08:33:09.881Z"
   },
   {
    "duration": 280,
    "start_time": "2021-10-20T08:33:41.568Z"
   },
   {
    "duration": 23,
    "start_time": "2021-10-20T08:33:53.341Z"
   },
   {
    "duration": 31,
    "start_time": "2021-10-20T08:33:59.637Z"
   },
   {
    "duration": 86,
    "start_time": "2021-10-20T08:34:03.657Z"
   },
   {
    "duration": 90,
    "start_time": "2021-10-20T08:34:38.763Z"
   },
   {
    "duration": 81,
    "start_time": "2021-10-20T08:34:46.617Z"
   },
   {
    "duration": 55,
    "start_time": "2021-10-20T08:35:11.109Z"
   },
   {
    "duration": 56,
    "start_time": "2021-10-20T08:35:18.941Z"
   },
   {
    "duration": 58,
    "start_time": "2021-10-20T08:35:29.480Z"
   },
   {
    "duration": 17,
    "start_time": "2021-10-20T08:36:21.799Z"
   },
   {
    "duration": 18,
    "start_time": "2021-10-20T08:36:29.129Z"
   },
   {
    "duration": 4,
    "start_time": "2021-10-20T08:36:38.493Z"
   },
   {
    "duration": 190,
    "start_time": "2021-10-20T08:36:38.501Z"
   },
   {
    "duration": 16,
    "start_time": "2021-10-20T08:36:38.695Z"
   },
   {
    "duration": 52,
    "start_time": "2021-10-20T08:36:38.715Z"
   },
   {
    "duration": 26,
    "start_time": "2021-10-20T08:36:38.770Z"
   },
   {
    "duration": 43,
    "start_time": "2021-10-20T08:36:38.798Z"
   },
   {
    "duration": 7,
    "start_time": "2021-10-20T08:36:38.844Z"
   },
   {
    "duration": 40,
    "start_time": "2021-10-20T08:36:38.853Z"
   },
   {
    "duration": 27,
    "start_time": "2021-10-20T08:36:38.899Z"
   },
   {
    "duration": 55,
    "start_time": "2021-10-20T08:36:38.929Z"
   },
   {
    "duration": 102,
    "start_time": "2021-10-20T08:36:38.986Z"
   },
   {
    "duration": 102,
    "start_time": "2021-10-20T08:36:39.090Z"
   },
   {
    "duration": 75,
    "start_time": "2021-10-20T08:36:39.195Z"
   },
   {
    "duration": 80,
    "start_time": "2021-10-20T08:36:39.272Z"
   },
   {
    "duration": 98,
    "start_time": "2021-10-20T08:36:39.354Z"
   },
   {
    "duration": 5,
    "start_time": "2021-10-20T08:36:39.455Z"
   },
   {
    "duration": 38,
    "start_time": "2021-10-20T08:36:39.462Z"
   },
   {
    "duration": 18,
    "start_time": "2021-10-20T08:36:39.502Z"
   },
   {
    "duration": 10864,
    "start_time": "2021-10-20T08:36:39.523Z"
   },
   {
    "duration": 8579,
    "start_time": "2021-10-20T08:36:41.811Z"
   },
   {
    "duration": 8579,
    "start_time": "2021-10-20T08:36:41.813Z"
   },
   {
    "duration": 8573,
    "start_time": "2021-10-20T08:36:41.820Z"
   },
   {
    "duration": 8572,
    "start_time": "2021-10-20T08:36:41.822Z"
   },
   {
    "duration": 8572,
    "start_time": "2021-10-20T08:36:41.824Z"
   },
   {
    "duration": 8571,
    "start_time": "2021-10-20T08:36:41.826Z"
   },
   {
    "duration": 8569,
    "start_time": "2021-10-20T08:36:41.829Z"
   },
   {
    "duration": 8570,
    "start_time": "2021-10-20T08:36:41.830Z"
   },
   {
    "duration": 8569,
    "start_time": "2021-10-20T08:36:41.832Z"
   },
   {
    "duration": 8569,
    "start_time": "2021-10-20T08:36:41.833Z"
   },
   {
    "duration": 8570,
    "start_time": "2021-10-20T08:36:41.834Z"
   },
   {
    "duration": 8569,
    "start_time": "2021-10-20T08:36:41.836Z"
   },
   {
    "duration": 8568,
    "start_time": "2021-10-20T08:36:41.838Z"
   },
   {
    "duration": 8569,
    "start_time": "2021-10-20T08:36:41.839Z"
   },
   {
    "duration": 8569,
    "start_time": "2021-10-20T08:36:41.840Z"
   },
   {
    "duration": 8566,
    "start_time": "2021-10-20T08:36:41.845Z"
   },
   {
    "duration": 8536,
    "start_time": "2021-10-20T08:36:41.878Z"
   },
   {
    "duration": 8532,
    "start_time": "2021-10-20T08:36:41.884Z"
   },
   {
    "duration": 8527,
    "start_time": "2021-10-20T08:36:41.891Z"
   },
   {
    "duration": 8527,
    "start_time": "2021-10-20T08:36:41.892Z"
   },
   {
    "duration": 8526,
    "start_time": "2021-10-20T08:36:41.894Z"
   },
   {
    "duration": 29,
    "start_time": "2021-10-20T08:38:02.914Z"
   },
   {
    "duration": 3,
    "start_time": "2021-10-20T08:38:12.896Z"
   },
   {
    "duration": 168,
    "start_time": "2021-10-20T08:38:14.231Z"
   },
   {
    "duration": 17,
    "start_time": "2021-10-20T08:38:15.535Z"
   },
   {
    "duration": 34,
    "start_time": "2021-10-20T08:38:16.304Z"
   },
   {
    "duration": 6,
    "start_time": "2021-10-20T08:38:20.026Z"
   },
   {
    "duration": 23,
    "start_time": "2021-10-20T08:38:22.816Z"
   },
   {
    "duration": 4,
    "start_time": "2021-10-20T08:38:30.579Z"
   },
   {
    "duration": 175,
    "start_time": "2021-10-20T08:38:32.739Z"
   },
   {
    "duration": 16,
    "start_time": "2021-10-20T08:38:34.414Z"
   },
   {
    "duration": 32,
    "start_time": "2021-10-20T08:38:37.474Z"
   },
   {
    "duration": 6,
    "start_time": "2021-10-20T08:38:44.134Z"
   },
   {
    "duration": 22,
    "start_time": "2021-10-20T08:38:49.854Z"
   },
   {
    "duration": 5,
    "start_time": "2021-10-20T08:38:57.422Z"
   },
   {
    "duration": 29,
    "start_time": "2021-10-20T08:39:01.937Z"
   },
   {
    "duration": 25,
    "start_time": "2021-10-20T08:39:06.818Z"
   },
   {
    "duration": 29,
    "start_time": "2021-10-20T08:39:09.384Z"
   },
   {
    "duration": 79,
    "start_time": "2021-10-20T08:39:11.695Z"
   },
   {
    "duration": 85,
    "start_time": "2021-10-20T08:39:13.332Z"
   },
   {
    "duration": 71,
    "start_time": "2021-10-20T08:39:14.768Z"
   },
   {
    "duration": 58,
    "start_time": "2021-10-20T08:39:24.456Z"
   },
   {
    "duration": 57,
    "start_time": "2021-10-20T08:39:26.606Z"
   },
   {
    "duration": 5,
    "start_time": "2021-10-20T08:39:51.351Z"
   },
   {
    "duration": 20,
    "start_time": "2021-10-20T08:39:54.742Z"
   },
   {
    "duration": 17,
    "start_time": "2021-10-20T08:40:08.808Z"
   },
   {
    "duration": 18,
    "start_time": "2021-10-20T08:40:28.118Z"
   },
   {
    "duration": 32,
    "start_time": "2021-10-20T08:40:59.083Z"
   },
   {
    "duration": 41,
    "start_time": "2021-10-20T08:41:54.259Z"
   },
   {
    "duration": 4,
    "start_time": "2021-10-20T08:42:27.796Z"
   },
   {
    "duration": 46,
    "start_time": "2021-10-20T08:42:30.423Z"
   },
   {
    "duration": 43,
    "start_time": "2021-10-20T08:42:59.218Z"
   },
   {
    "duration": 43,
    "start_time": "2021-10-20T08:43:22.352Z"
   },
   {
    "duration": 18,
    "start_time": "2021-10-20T08:43:35.175Z"
   },
   {
    "duration": 5,
    "start_time": "2021-10-20T08:43:48.626Z"
   },
   {
    "duration": 18,
    "start_time": "2021-10-20T08:43:50.196Z"
   },
   {
    "duration": 17,
    "start_time": "2021-10-20T08:43:55.260Z"
   },
   {
    "duration": 16,
    "start_time": "2021-10-20T08:43:58.069Z"
   },
   {
    "duration": 4,
    "start_time": "2021-10-20T08:44:05.735Z"
   },
   {
    "duration": 199,
    "start_time": "2021-10-20T08:44:05.741Z"
   },
   {
    "duration": 16,
    "start_time": "2021-10-20T08:44:05.943Z"
   },
   {
    "duration": 51,
    "start_time": "2021-10-20T08:44:05.962Z"
   },
   {
    "duration": 12,
    "start_time": "2021-10-20T08:44:06.016Z"
   },
   {
    "duration": 32,
    "start_time": "2021-10-20T08:44:06.031Z"
   },
   {
    "duration": 18,
    "start_time": "2021-10-20T08:44:06.066Z"
   },
   {
    "duration": 39,
    "start_time": "2021-10-20T08:44:06.086Z"
   },
   {
    "duration": 29,
    "start_time": "2021-10-20T08:44:06.129Z"
   },
   {
    "duration": 32,
    "start_time": "2021-10-20T08:44:06.184Z"
   },
   {
    "duration": 124,
    "start_time": "2021-10-20T08:44:06.219Z"
   },
   {
    "duration": 129,
    "start_time": "2021-10-20T08:44:06.346Z"
   },
   {
    "duration": 76,
    "start_time": "2021-10-20T08:44:06.477Z"
   },
   {
    "duration": 75,
    "start_time": "2021-10-20T08:44:06.555Z"
   },
   {
    "duration": 95,
    "start_time": "2021-10-20T08:44:06.632Z"
   },
   {
    "duration": 11,
    "start_time": "2021-10-20T08:44:06.730Z"
   },
   {
    "duration": 53,
    "start_time": "2021-10-20T08:44:06.744Z"
   },
   {
    "duration": 112,
    "start_time": "2021-10-20T08:44:06.800Z"
   },
   {
    "duration": 98,
    "start_time": "2021-10-20T08:44:06.915Z"
   },
   {
    "duration": 17,
    "start_time": "2021-10-20T08:44:07.016Z"
   },
   {
    "duration": 20,
    "start_time": "2021-10-20T08:44:07.036Z"
   },
   {
    "duration": 18,
    "start_time": "2021-10-20T08:44:07.058Z"
   },
   {
    "duration": 27,
    "start_time": "2021-10-20T08:44:07.078Z"
   },
   {
    "duration": 19,
    "start_time": "2021-10-20T08:44:07.107Z"
   },
   {
    "duration": 13,
    "start_time": "2021-10-20T08:44:07.128Z"
   },
   {
    "duration": 17,
    "start_time": "2021-10-20T08:44:07.143Z"
   },
   {
    "duration": 17,
    "start_time": "2021-10-20T08:44:07.165Z"
   },
   {
    "duration": 35,
    "start_time": "2021-10-20T08:44:07.185Z"
   },
   {
    "duration": 11,
    "start_time": "2021-10-20T08:44:07.223Z"
   },
   {
    "duration": 22,
    "start_time": "2021-10-20T08:44:07.237Z"
   },
   {
    "duration": 12,
    "start_time": "2021-10-20T08:44:07.262Z"
   },
   {
    "duration": 25,
    "start_time": "2021-10-20T08:44:07.277Z"
   },
   {
    "duration": 30,
    "start_time": "2021-10-20T08:44:07.305Z"
   },
   {
    "duration": 10,
    "start_time": "2021-10-20T08:44:07.338Z"
   },
   {
    "duration": 11,
    "start_time": "2021-10-20T08:44:07.351Z"
   },
   {
    "duration": 11,
    "start_time": "2021-10-20T08:44:07.364Z"
   },
   {
    "duration": 9,
    "start_time": "2021-10-20T08:44:07.378Z"
   },
   {
    "duration": 11,
    "start_time": "2021-10-20T08:44:07.389Z"
   },
   {
    "duration": 10,
    "start_time": "2021-10-20T08:44:07.402Z"
   },
   {
    "duration": 12,
    "start_time": "2021-10-20T08:44:07.415Z"
   },
   {
    "duration": 18,
    "start_time": "2021-10-20T08:44:32.068Z"
   },
   {
    "duration": 34,
    "start_time": "2021-10-20T08:44:51.532Z"
   },
   {
    "duration": 3,
    "start_time": "2021-10-20T08:46:03.790Z"
   },
   {
    "duration": 206,
    "start_time": "2021-10-20T08:46:03.796Z"
   },
   {
    "duration": 16,
    "start_time": "2021-10-20T08:46:04.005Z"
   },
   {
    "duration": 35,
    "start_time": "2021-10-20T08:46:04.024Z"
   },
   {
    "duration": 24,
    "start_time": "2021-10-20T08:46:04.062Z"
   },
   {
    "duration": 19,
    "start_time": "2021-10-20T08:46:04.088Z"
   },
   {
    "duration": 5,
    "start_time": "2021-10-20T08:46:04.110Z"
   },
   {
    "duration": 65,
    "start_time": "2021-10-20T08:46:04.119Z"
   },
   {
    "duration": 27,
    "start_time": "2021-10-20T08:46:04.187Z"
   },
   {
    "duration": 31,
    "start_time": "2021-10-20T08:46:04.216Z"
   },
   {
    "duration": 110,
    "start_time": "2021-10-20T08:46:04.250Z"
   },
   {
    "duration": 98,
    "start_time": "2021-10-20T08:46:04.362Z"
   },
   {
    "duration": 89,
    "start_time": "2021-10-20T08:46:04.462Z"
   },
   {
    "duration": 65,
    "start_time": "2021-10-20T08:46:04.553Z"
   },
   {
    "duration": 72,
    "start_time": "2021-10-20T08:46:04.620Z"
   },
   {
    "duration": 4,
    "start_time": "2021-10-20T08:46:04.695Z"
   },
   {
    "duration": 46,
    "start_time": "2021-10-20T08:46:04.701Z"
   },
   {
    "duration": 41,
    "start_time": "2021-10-20T08:46:04.749Z"
   },
   {
    "duration": 18,
    "start_time": "2021-10-20T08:46:04.792Z"
   },
   {
    "duration": 3,
    "start_time": "2021-10-20T08:46:04.813Z"
   },
   {
    "duration": 6,
    "start_time": "2021-10-20T08:46:04.819Z"
   },
   {
    "duration": 10,
    "start_time": "2021-10-20T08:46:04.827Z"
   },
   {
    "duration": 45,
    "start_time": "2021-10-20T08:46:04.842Z"
   },
   {
    "duration": 10,
    "start_time": "2021-10-20T08:46:04.890Z"
   },
   {
    "duration": 8,
    "start_time": "2021-10-20T08:46:04.902Z"
   },
   {
    "duration": 11,
    "start_time": "2021-10-20T08:46:04.913Z"
   },
   {
    "duration": 8,
    "start_time": "2021-10-20T08:46:04.926Z"
   },
   {
    "duration": 12,
    "start_time": "2021-10-20T08:46:04.936Z"
   },
   {
    "duration": 9,
    "start_time": "2021-10-20T08:46:04.950Z"
   },
   {
    "duration": 10,
    "start_time": "2021-10-20T08:46:04.961Z"
   },
   {
    "duration": 8,
    "start_time": "2021-10-20T08:46:04.974Z"
   },
   {
    "duration": 4,
    "start_time": "2021-10-20T08:46:04.985Z"
   },
   {
    "duration": 11,
    "start_time": "2021-10-20T08:46:04.991Z"
   },
   {
    "duration": 6,
    "start_time": "2021-10-20T08:46:05.004Z"
   },
   {
    "duration": 9,
    "start_time": "2021-10-20T08:46:05.013Z"
   },
   {
    "duration": 10,
    "start_time": "2021-10-20T08:46:05.025Z"
   },
   {
    "duration": 11,
    "start_time": "2021-10-20T08:46:05.037Z"
   },
   {
    "duration": 9,
    "start_time": "2021-10-20T08:46:05.051Z"
   },
   {
    "duration": 9,
    "start_time": "2021-10-20T08:46:05.063Z"
   },
   {
    "duration": 14,
    "start_time": "2021-10-20T08:46:05.083Z"
   },
   {
    "duration": 8,
    "start_time": "2021-10-20T08:48:25.767Z"
   },
   {
    "duration": 27,
    "start_time": "2021-10-20T08:49:26.127Z"
   },
   {
    "duration": 19,
    "start_time": "2021-10-20T08:49:29.768Z"
   },
   {
    "duration": 46,
    "start_time": "2021-10-20T08:49:37.837Z"
   },
   {
    "duration": 86,
    "start_time": "2021-10-20T08:50:02.965Z"
   },
   {
    "duration": 43,
    "start_time": "2021-10-20T08:50:15.554Z"
   },
   {
    "duration": 26,
    "start_time": "2021-10-20T08:51:10.885Z"
   },
   {
    "duration": 27,
    "start_time": "2021-10-20T08:51:49.124Z"
   },
   {
    "duration": 24,
    "start_time": "2021-10-20T08:52:21.059Z"
   },
   {
    "duration": 22,
    "start_time": "2021-10-20T08:52:25.767Z"
   },
   {
    "duration": 25,
    "start_time": "2021-10-20T08:52:30.454Z"
   },
   {
    "duration": 3,
    "start_time": "2021-10-20T08:52:33.663Z"
   },
   {
    "duration": 205,
    "start_time": "2021-10-20T08:52:33.669Z"
   },
   {
    "duration": 16,
    "start_time": "2021-10-20T08:52:33.878Z"
   },
   {
    "duration": 39,
    "start_time": "2021-10-20T08:52:33.897Z"
   },
   {
    "duration": 7,
    "start_time": "2021-10-20T08:52:33.939Z"
   },
   {
    "duration": 53,
    "start_time": "2021-10-20T08:52:33.948Z"
   },
   {
    "duration": 5,
    "start_time": "2021-10-20T08:52:34.004Z"
   },
   {
    "duration": 36,
    "start_time": "2021-10-20T08:52:34.013Z"
   },
   {
    "duration": 51,
    "start_time": "2021-10-20T08:52:34.052Z"
   },
   {
    "duration": 30,
    "start_time": "2021-10-20T08:52:34.106Z"
   },
   {
    "duration": 107,
    "start_time": "2021-10-20T08:52:34.139Z"
   },
   {
    "duration": 102,
    "start_time": "2021-10-20T08:52:34.248Z"
   },
   {
    "duration": 93,
    "start_time": "2021-10-20T08:52:34.354Z"
   },
   {
    "duration": 68,
    "start_time": "2021-10-20T08:52:34.450Z"
   },
   {
    "duration": 74,
    "start_time": "2021-10-20T08:52:34.521Z"
   },
   {
    "duration": 3,
    "start_time": "2021-10-20T08:52:34.598Z"
   },
   {
    "duration": 44,
    "start_time": "2021-10-20T08:52:34.604Z"
   },
   {
    "duration": 94,
    "start_time": "2021-10-20T08:52:34.651Z"
   },
   {
    "duration": 66,
    "start_time": "2021-10-20T08:52:34.747Z"
   },
   {
    "duration": 3,
    "start_time": "2021-10-20T08:52:34.816Z"
   },
   {
    "duration": 9,
    "start_time": "2021-10-20T08:52:34.822Z"
   },
   {
    "duration": 25,
    "start_time": "2021-10-20T08:52:34.833Z"
   },
   {
    "duration": 31,
    "start_time": "2021-10-20T08:52:34.863Z"
   },
   {
    "duration": 34,
    "start_time": "2021-10-20T08:52:34.897Z"
   },
   {
    "duration": 25,
    "start_time": "2021-10-20T08:52:34.934Z"
   },
   {
    "duration": 29,
    "start_time": "2021-10-20T08:52:34.961Z"
   },
   {
    "duration": 37,
    "start_time": "2021-10-20T08:52:34.992Z"
   },
   {
    "duration": 20,
    "start_time": "2021-10-20T08:52:35.031Z"
   },
   {
    "duration": 30,
    "start_time": "2021-10-20T08:52:35.053Z"
   },
   {
    "duration": 13,
    "start_time": "2021-10-20T08:52:35.086Z"
   },
   {
    "duration": 17,
    "start_time": "2021-10-20T08:52:35.101Z"
   },
   {
    "duration": 19,
    "start_time": "2021-10-20T08:52:35.120Z"
   },
   {
    "duration": 28,
    "start_time": "2021-10-20T08:52:35.142Z"
   },
   {
    "duration": 10,
    "start_time": "2021-10-20T08:52:35.173Z"
   },
   {
    "duration": 24,
    "start_time": "2021-10-20T08:52:35.185Z"
   },
   {
    "duration": 13,
    "start_time": "2021-10-20T08:52:35.212Z"
   },
   {
    "duration": 20,
    "start_time": "2021-10-20T08:52:35.228Z"
   },
   {
    "duration": 19,
    "start_time": "2021-10-20T08:52:35.251Z"
   },
   {
    "duration": 18,
    "start_time": "2021-10-20T08:52:35.272Z"
   },
   {
    "duration": 25,
    "start_time": "2021-10-20T08:52:35.292Z"
   },
   {
    "duration": 24,
    "start_time": "2021-10-20T08:53:07.008Z"
   },
   {
    "duration": 4,
    "start_time": "2021-10-20T08:53:40.428Z"
   },
   {
    "duration": 179,
    "start_time": "2021-10-20T08:53:40.434Z"
   },
   {
    "duration": 15,
    "start_time": "2021-10-20T08:53:40.616Z"
   },
   {
    "duration": 50,
    "start_time": "2021-10-20T08:53:40.634Z"
   },
   {
    "duration": 5,
    "start_time": "2021-10-20T08:53:40.687Z"
   },
   {
    "duration": 15,
    "start_time": "2021-10-20T08:53:40.694Z"
   },
   {
    "duration": 5,
    "start_time": "2021-10-20T08:53:40.712Z"
   },
   {
    "duration": 65,
    "start_time": "2021-10-20T08:53:40.719Z"
   },
   {
    "duration": 29,
    "start_time": "2021-10-20T08:53:40.788Z"
   },
   {
    "duration": 31,
    "start_time": "2021-10-20T08:53:40.820Z"
   },
   {
    "duration": 106,
    "start_time": "2021-10-20T08:53:40.853Z"
   },
   {
    "duration": 98,
    "start_time": "2021-10-20T08:53:40.962Z"
   },
   {
    "duration": 81,
    "start_time": "2021-10-20T08:53:41.062Z"
   },
   {
    "duration": 72,
    "start_time": "2021-10-20T08:53:41.146Z"
   },
   {
    "duration": 70,
    "start_time": "2021-10-20T08:53:41.220Z"
   },
   {
    "duration": 106,
    "start_time": "2021-10-20T08:53:41.293Z"
   },
   {
    "duration": 8587,
    "start_time": "2021-10-20T08:53:32.815Z"
   },
   {
    "duration": 8579,
    "start_time": "2021-10-20T08:53:32.825Z"
   },
   {
    "duration": 8578,
    "start_time": "2021-10-20T08:53:32.827Z"
   },
   {
    "duration": 8577,
    "start_time": "2021-10-20T08:53:32.829Z"
   },
   {
    "duration": 8576,
    "start_time": "2021-10-20T08:53:32.832Z"
   },
   {
    "duration": 8576,
    "start_time": "2021-10-20T08:53:32.834Z"
   },
   {
    "duration": 8572,
    "start_time": "2021-10-20T08:53:32.840Z"
   },
   {
    "duration": 8572,
    "start_time": "2021-10-20T08:53:32.842Z"
   },
   {
    "duration": 8571,
    "start_time": "2021-10-20T08:53:32.844Z"
   },
   {
    "duration": 8572,
    "start_time": "2021-10-20T08:53:32.846Z"
   },
   {
    "duration": 8571,
    "start_time": "2021-10-20T08:53:32.848Z"
   },
   {
    "duration": 8571,
    "start_time": "2021-10-20T08:53:32.849Z"
   },
   {
    "duration": 8567,
    "start_time": "2021-10-20T08:53:32.855Z"
   },
   {
    "duration": 8566,
    "start_time": "2021-10-20T08:53:32.857Z"
   },
   {
    "duration": 8566,
    "start_time": "2021-10-20T08:53:32.859Z"
   },
   {
    "duration": 8565,
    "start_time": "2021-10-20T08:53:32.861Z"
   },
   {
    "duration": 8565,
    "start_time": "2021-10-20T08:53:32.863Z"
   },
   {
    "duration": 8565,
    "start_time": "2021-10-20T08:53:32.864Z"
   },
   {
    "duration": 8540,
    "start_time": "2021-10-20T08:53:32.891Z"
   },
   {
    "duration": 8538,
    "start_time": "2021-10-20T08:53:32.894Z"
   },
   {
    "duration": 8537,
    "start_time": "2021-10-20T08:53:32.897Z"
   },
   {
    "duration": 8536,
    "start_time": "2021-10-20T08:53:32.899Z"
   },
   {
    "duration": 8535,
    "start_time": "2021-10-20T08:53:32.901Z"
   },
   {
    "duration": 8532,
    "start_time": "2021-10-20T08:53:32.906Z"
   },
   {
    "duration": 3,
    "start_time": "2021-10-20T08:54:03.069Z"
   },
   {
    "duration": 192,
    "start_time": "2021-10-20T08:54:03.075Z"
   },
   {
    "duration": 21,
    "start_time": "2021-10-20T08:54:03.270Z"
   },
   {
    "duration": 33,
    "start_time": "2021-10-20T08:54:03.294Z"
   },
   {
    "duration": 12,
    "start_time": "2021-10-20T08:54:03.329Z"
   },
   {
    "duration": 41,
    "start_time": "2021-10-20T08:54:03.343Z"
   },
   {
    "duration": 5,
    "start_time": "2021-10-20T08:54:03.386Z"
   },
   {
    "duration": 55,
    "start_time": "2021-10-20T08:54:03.394Z"
   },
   {
    "duration": 36,
    "start_time": "2021-10-20T08:54:03.455Z"
   },
   {
    "duration": 34,
    "start_time": "2021-10-20T08:54:03.495Z"
   },
   {
    "duration": 109,
    "start_time": "2021-10-20T08:54:03.532Z"
   },
   {
    "duration": 93,
    "start_time": "2021-10-20T08:54:03.644Z"
   },
   {
    "duration": 88,
    "start_time": "2021-10-20T08:54:03.740Z"
   },
   {
    "duration": 66,
    "start_time": "2021-10-20T08:54:03.830Z"
   },
   {
    "duration": 56,
    "start_time": "2021-10-20T08:54:03.899Z"
   },
   {
    "duration": 28,
    "start_time": "2021-10-20T08:54:03.958Z"
   },
   {
    "duration": 39,
    "start_time": "2021-10-20T08:54:03.989Z"
   },
   {
    "duration": 16,
    "start_time": "2021-10-20T08:54:04.030Z"
   },
   {
    "duration": 36,
    "start_time": "2021-10-20T08:54:04.048Z"
   },
   {
    "duration": 3,
    "start_time": "2021-10-20T08:54:04.086Z"
   },
   {
    "duration": 15,
    "start_time": "2021-10-20T08:54:04.091Z"
   },
   {
    "duration": 26,
    "start_time": "2021-10-20T08:54:04.109Z"
   },
   {
    "duration": 10,
    "start_time": "2021-10-20T08:54:04.137Z"
   },
   {
    "duration": 11,
    "start_time": "2021-10-20T08:54:04.150Z"
   },
   {
    "duration": 12,
    "start_time": "2021-10-20T08:54:04.163Z"
   },
   {
    "duration": 32,
    "start_time": "2021-10-20T08:54:04.177Z"
   },
   {
    "duration": 12,
    "start_time": "2021-10-20T08:54:04.214Z"
   },
   {
    "duration": 21,
    "start_time": "2021-10-20T08:54:04.228Z"
   },
   {
    "duration": 17,
    "start_time": "2021-10-20T08:54:04.251Z"
   },
   {
    "duration": 21,
    "start_time": "2021-10-20T08:54:04.271Z"
   },
   {
    "duration": 28,
    "start_time": "2021-10-20T08:54:04.294Z"
   },
   {
    "duration": 18,
    "start_time": "2021-10-20T08:54:04.325Z"
   },
   {
    "duration": 27,
    "start_time": "2021-10-20T08:54:04.345Z"
   },
   {
    "duration": 17,
    "start_time": "2021-10-20T08:54:04.374Z"
   },
   {
    "duration": 33,
    "start_time": "2021-10-20T08:54:04.394Z"
   },
   {
    "duration": 19,
    "start_time": "2021-10-20T08:54:04.430Z"
   },
   {
    "duration": 27,
    "start_time": "2021-10-20T08:54:04.451Z"
   },
   {
    "duration": 34,
    "start_time": "2021-10-20T08:54:04.480Z"
   },
   {
    "duration": 15,
    "start_time": "2021-10-20T08:54:04.516Z"
   },
   {
    "duration": 23,
    "start_time": "2021-10-20T08:54:04.533Z"
   },
   {
    "duration": 31,
    "start_time": "2021-10-20T08:54:26.939Z"
   },
   {
    "duration": 4,
    "start_time": "2021-10-20T08:54:31.969Z"
   },
   {
    "duration": 203,
    "start_time": "2021-10-20T08:54:31.976Z"
   },
   {
    "duration": 16,
    "start_time": "2021-10-20T08:54:32.184Z"
   },
   {
    "duration": 39,
    "start_time": "2021-10-20T08:54:32.203Z"
   },
   {
    "duration": 7,
    "start_time": "2021-10-20T08:54:32.245Z"
   },
   {
    "duration": 48,
    "start_time": "2021-10-20T08:54:32.254Z"
   },
   {
    "duration": 6,
    "start_time": "2021-10-20T08:54:32.304Z"
   },
   {
    "duration": 35,
    "start_time": "2021-10-20T08:54:32.312Z"
   },
   {
    "duration": 55,
    "start_time": "2021-10-20T08:54:32.352Z"
   },
   {
    "duration": 31,
    "start_time": "2021-10-20T08:54:32.410Z"
   },
   {
    "duration": 113,
    "start_time": "2021-10-20T08:54:32.443Z"
   },
   {
    "duration": 105,
    "start_time": "2021-10-20T08:54:32.558Z"
   },
   {
    "duration": 87,
    "start_time": "2021-10-20T08:54:32.666Z"
   },
   {
    "duration": 73,
    "start_time": "2021-10-20T08:54:32.756Z"
   },
   {
    "duration": 72,
    "start_time": "2021-10-20T08:54:32.831Z"
   },
   {
    "duration": 10,
    "start_time": "2021-10-20T08:54:32.905Z"
   },
   {
    "duration": 31,
    "start_time": "2021-10-20T08:54:32.918Z"
   },
   {
    "duration": 80,
    "start_time": "2021-10-20T08:54:32.951Z"
   },
   {
    "duration": 105,
    "start_time": "2021-10-20T08:54:33.034Z"
   },
   {
    "duration": 4,
    "start_time": "2021-10-20T08:54:33.142Z"
   },
   {
    "duration": 6,
    "start_time": "2021-10-20T08:54:33.148Z"
   },
   {
    "duration": 27,
    "start_time": "2021-10-20T08:54:33.156Z"
   },
   {
    "duration": 8,
    "start_time": "2021-10-20T08:54:33.185Z"
   },
   {
    "duration": 6,
    "start_time": "2021-10-20T08:54:33.196Z"
   },
   {
    "duration": 15,
    "start_time": "2021-10-20T08:54:33.204Z"
   },
   {
    "duration": 20,
    "start_time": "2021-10-20T08:54:33.221Z"
   },
   {
    "duration": 7,
    "start_time": "2021-10-20T08:54:33.246Z"
   },
   {
    "duration": 12,
    "start_time": "2021-10-20T08:54:33.255Z"
   },
   {
    "duration": 10,
    "start_time": "2021-10-20T08:54:33.269Z"
   },
   {
    "duration": 6,
    "start_time": "2021-10-20T08:54:33.282Z"
   },
   {
    "duration": 7,
    "start_time": "2021-10-20T08:54:33.290Z"
   },
   {
    "duration": 7,
    "start_time": "2021-10-20T08:54:33.300Z"
   },
   {
    "duration": 9,
    "start_time": "2021-10-20T08:54:33.310Z"
   },
   {
    "duration": 8,
    "start_time": "2021-10-20T08:54:33.322Z"
   },
   {
    "duration": 12,
    "start_time": "2021-10-20T08:54:33.333Z"
   },
   {
    "duration": 11,
    "start_time": "2021-10-20T08:54:33.347Z"
   },
   {
    "duration": 23,
    "start_time": "2021-10-20T08:54:33.361Z"
   },
   {
    "duration": 6,
    "start_time": "2021-10-20T08:54:33.387Z"
   },
   {
    "duration": 22,
    "start_time": "2021-10-20T08:54:33.395Z"
   },
   {
    "duration": 15,
    "start_time": "2021-10-20T08:54:33.420Z"
   },
   {
    "duration": 31,
    "start_time": "2021-10-20T08:55:05.019Z"
   },
   {
    "duration": 5,
    "start_time": "2021-10-20T08:55:33.595Z"
   },
   {
    "duration": 29,
    "start_time": "2021-10-20T08:55:36.060Z"
   },
   {
    "duration": 29,
    "start_time": "2021-10-20T08:55:38.722Z"
   },
   {
    "duration": 3,
    "start_time": "2021-10-20T08:55:42.558Z"
   },
   {
    "duration": 211,
    "start_time": "2021-10-20T08:55:42.564Z"
   },
   {
    "duration": 20,
    "start_time": "2021-10-20T08:55:42.779Z"
   },
   {
    "duration": 36,
    "start_time": "2021-10-20T08:55:42.802Z"
   },
   {
    "duration": 6,
    "start_time": "2021-10-20T08:55:42.841Z"
   },
   {
    "duration": 46,
    "start_time": "2021-10-20T08:55:42.850Z"
   },
   {
    "duration": 7,
    "start_time": "2021-10-20T08:55:42.901Z"
   },
   {
    "duration": 35,
    "start_time": "2021-10-20T08:55:42.912Z"
   },
   {
    "duration": 57,
    "start_time": "2021-10-20T08:55:42.949Z"
   },
   {
    "duration": 34,
    "start_time": "2021-10-20T08:55:43.009Z"
   },
   {
    "duration": 104,
    "start_time": "2021-10-20T08:55:43.046Z"
   },
   {
    "duration": 119,
    "start_time": "2021-10-20T08:55:43.153Z"
   },
   {
    "duration": 81,
    "start_time": "2021-10-20T08:55:43.275Z"
   },
   {
    "duration": 78,
    "start_time": "2021-10-20T08:55:43.359Z"
   },
   {
    "duration": 72,
    "start_time": "2021-10-20T08:55:43.439Z"
   },
   {
    "duration": 6,
    "start_time": "2021-10-20T08:55:43.514Z"
   },
   {
    "duration": 33,
    "start_time": "2021-10-20T08:55:43.523Z"
   },
   {
    "duration": 17,
    "start_time": "2021-10-20T08:55:43.582Z"
   },
   {
    "duration": 15,
    "start_time": "2021-10-20T08:55:43.603Z"
   },
   {
    "duration": 4,
    "start_time": "2021-10-20T08:55:43.621Z"
   },
   {
    "duration": 28,
    "start_time": "2021-10-20T08:55:43.627Z"
   },
   {
    "duration": 20,
    "start_time": "2021-10-20T08:55:43.658Z"
   },
   {
    "duration": 26,
    "start_time": "2021-10-20T08:55:43.680Z"
   },
   {
    "duration": 17,
    "start_time": "2021-10-20T08:55:43.709Z"
   },
   {
    "duration": 16,
    "start_time": "2021-10-20T08:55:43.728Z"
   },
   {
    "duration": 15,
    "start_time": "2021-10-20T08:55:43.746Z"
   },
   {
    "duration": 25,
    "start_time": "2021-10-20T08:55:43.763Z"
   },
   {
    "duration": 21,
    "start_time": "2021-10-20T08:55:43.790Z"
   },
   {
    "duration": 16,
    "start_time": "2021-10-20T08:55:43.814Z"
   },
   {
    "duration": 20,
    "start_time": "2021-10-20T08:55:43.833Z"
   },
   {
    "duration": 15,
    "start_time": "2021-10-20T08:55:43.856Z"
   },
   {
    "duration": 17,
    "start_time": "2021-10-20T08:55:43.873Z"
   },
   {
    "duration": 15,
    "start_time": "2021-10-20T08:55:43.892Z"
   },
   {
    "duration": 17,
    "start_time": "2021-10-20T08:55:43.909Z"
   },
   {
    "duration": 18,
    "start_time": "2021-10-20T08:55:43.928Z"
   },
   {
    "duration": 24,
    "start_time": "2021-10-20T08:55:43.949Z"
   },
   {
    "duration": 12,
    "start_time": "2021-10-20T08:55:43.975Z"
   },
   {
    "duration": 10,
    "start_time": "2021-10-20T08:55:43.989Z"
   },
   {
    "duration": 8,
    "start_time": "2021-10-20T08:55:44.002Z"
   },
   {
    "duration": 23,
    "start_time": "2021-10-20T08:55:44.013Z"
   },
   {
    "duration": 5,
    "start_time": "2021-10-20T08:56:03.482Z"
   },
   {
    "duration": 34,
    "start_time": "2021-10-20T08:56:05.595Z"
   },
   {
    "duration": 3,
    "start_time": "2021-10-20T08:56:16.118Z"
   },
   {
    "duration": 179,
    "start_time": "2021-10-20T08:56:16.124Z"
   },
   {
    "duration": 17,
    "start_time": "2021-10-20T08:56:16.306Z"
   },
   {
    "duration": 37,
    "start_time": "2021-10-20T08:56:16.325Z"
   },
   {
    "duration": 6,
    "start_time": "2021-10-20T08:56:16.381Z"
   },
   {
    "duration": 24,
    "start_time": "2021-10-20T08:56:16.390Z"
   },
   {
    "duration": 6,
    "start_time": "2021-10-20T08:56:16.417Z"
   },
   {
    "duration": 57,
    "start_time": "2021-10-20T08:56:16.427Z"
   },
   {
    "duration": 33,
    "start_time": "2021-10-20T08:56:16.488Z"
   },
   {
    "duration": 30,
    "start_time": "2021-10-20T08:56:16.524Z"
   },
   {
    "duration": 104,
    "start_time": "2021-10-20T08:56:16.556Z"
   },
   {
    "duration": 102,
    "start_time": "2021-10-20T08:56:16.663Z"
   },
   {
    "duration": 84,
    "start_time": "2021-10-20T08:56:16.768Z"
   },
   {
    "duration": 69,
    "start_time": "2021-10-20T08:56:16.854Z"
   },
   {
    "duration": 68,
    "start_time": "2021-10-20T08:56:16.926Z"
   },
   {
    "duration": 10,
    "start_time": "2021-10-20T08:56:16.996Z"
   },
   {
    "duration": 49,
    "start_time": "2021-10-20T08:56:17.008Z"
   },
   {
    "duration": 33,
    "start_time": "2021-10-20T08:56:17.059Z"
   },
   {
    "duration": 16,
    "start_time": "2021-10-20T08:56:17.095Z"
   },
   {
    "duration": 3,
    "start_time": "2021-10-20T08:56:17.114Z"
   },
   {
    "duration": 8,
    "start_time": "2021-10-20T08:56:17.120Z"
   },
   {
    "duration": 7,
    "start_time": "2021-10-20T08:56:17.131Z"
   },
   {
    "duration": 9,
    "start_time": "2021-10-20T08:56:17.143Z"
   },
   {
    "duration": 3,
    "start_time": "2021-10-20T08:56:17.183Z"
   },
   {
    "duration": 9,
    "start_time": "2021-10-20T08:56:17.189Z"
   },
   {
    "duration": 10,
    "start_time": "2021-10-20T08:56:17.201Z"
   },
   {
    "duration": 6,
    "start_time": "2021-10-20T08:56:17.214Z"
   },
   {
    "duration": 16,
    "start_time": "2021-10-20T08:56:17.222Z"
   },
   {
    "duration": 6,
    "start_time": "2021-10-20T08:56:17.241Z"
   },
   {
    "duration": 7,
    "start_time": "2021-10-20T08:56:17.249Z"
   },
   {
    "duration": 24,
    "start_time": "2021-10-20T08:56:17.258Z"
   },
   {
    "duration": 4,
    "start_time": "2021-10-20T08:56:17.284Z"
   },
   {
    "duration": 8,
    "start_time": "2021-10-20T08:56:17.291Z"
   },
   {
    "duration": 8,
    "start_time": "2021-10-20T08:56:17.301Z"
   },
   {
    "duration": 11,
    "start_time": "2021-10-20T08:56:17.311Z"
   },
   {
    "duration": 6,
    "start_time": "2021-10-20T08:56:17.324Z"
   },
   {
    "duration": 6,
    "start_time": "2021-10-20T08:56:17.333Z"
   },
   {
    "duration": 7,
    "start_time": "2021-10-20T08:56:17.341Z"
   },
   {
    "duration": 7,
    "start_time": "2021-10-20T08:56:17.350Z"
   },
   {
    "duration": 3,
    "start_time": "2021-10-20T08:56:17.383Z"
   },
   {
    "duration": 4,
    "start_time": "2021-10-20T08:56:29.404Z"
   },
   {
    "duration": 27,
    "start_time": "2021-10-20T08:57:11.835Z"
   },
   {
    "duration": 4,
    "start_time": "2021-10-20T08:57:14.156Z"
   },
   {
    "duration": 25,
    "start_time": "2021-10-20T08:57:16.344Z"
   },
   {
    "duration": 4,
    "start_time": "2021-10-20T08:57:19.783Z"
   },
   {
    "duration": 207,
    "start_time": "2021-10-20T08:57:19.789Z"
   },
   {
    "duration": 16,
    "start_time": "2021-10-20T08:57:19.999Z"
   },
   {
    "duration": 37,
    "start_time": "2021-10-20T08:57:20.018Z"
   },
   {
    "duration": 26,
    "start_time": "2021-10-20T08:57:20.058Z"
   },
   {
    "duration": 17,
    "start_time": "2021-10-20T08:57:20.087Z"
   },
   {
    "duration": 7,
    "start_time": "2021-10-20T08:57:20.106Z"
   },
   {
    "duration": 35,
    "start_time": "2021-10-20T08:57:20.115Z"
   },
   {
    "duration": 54,
    "start_time": "2021-10-20T08:57:20.155Z"
   },
   {
    "duration": 28,
    "start_time": "2021-10-20T08:57:20.213Z"
   },
   {
    "duration": 109,
    "start_time": "2021-10-20T08:57:20.244Z"
   },
   {
    "duration": 102,
    "start_time": "2021-10-20T08:57:20.356Z"
   },
   {
    "duration": 91,
    "start_time": "2021-10-20T08:57:20.461Z"
   },
   {
    "duration": 76,
    "start_time": "2021-10-20T08:57:20.555Z"
   },
   {
    "duration": 73,
    "start_time": "2021-10-20T08:57:20.633Z"
   },
   {
    "duration": 6,
    "start_time": "2021-10-20T08:57:20.709Z"
   },
   {
    "duration": 28,
    "start_time": "2021-10-20T08:57:20.718Z"
   },
   {
    "duration": 89,
    "start_time": "2021-10-20T08:57:20.748Z"
   },
   {
    "duration": 80,
    "start_time": "2021-10-20T08:57:20.839Z"
   },
   {
    "duration": 4,
    "start_time": "2021-10-20T08:57:20.921Z"
   },
   {
    "duration": 13,
    "start_time": "2021-10-20T08:57:20.927Z"
   },
   {
    "duration": 12,
    "start_time": "2021-10-20T08:57:20.943Z"
   },
   {
    "duration": 14,
    "start_time": "2021-10-20T08:57:20.957Z"
   },
   {
    "duration": 3,
    "start_time": "2021-10-20T08:57:20.983Z"
   },
   {
    "duration": 11,
    "start_time": "2021-10-20T08:57:20.989Z"
   },
   {
    "duration": 7,
    "start_time": "2021-10-20T08:57:21.003Z"
   },
   {
    "duration": 20,
    "start_time": "2021-10-20T08:57:21.014Z"
   },
   {
    "duration": 13,
    "start_time": "2021-10-20T08:57:21.036Z"
   },
   {
    "duration": 9,
    "start_time": "2021-10-20T08:57:21.051Z"
   },
   {
    "duration": 9,
    "start_time": "2021-10-20T08:57:21.062Z"
   },
   {
    "duration": 10,
    "start_time": "2021-10-20T08:57:21.073Z"
   },
   {
    "duration": 8,
    "start_time": "2021-10-20T08:57:21.085Z"
   },
   {
    "duration": 16,
    "start_time": "2021-10-20T08:57:21.095Z"
   },
   {
    "duration": 11,
    "start_time": "2021-10-20T08:57:21.114Z"
   },
   {
    "duration": 12,
    "start_time": "2021-10-20T08:57:21.127Z"
   },
   {
    "duration": 15,
    "start_time": "2021-10-20T08:57:21.141Z"
   },
   {
    "duration": 10,
    "start_time": "2021-10-20T08:57:21.158Z"
   },
   {
    "duration": 10,
    "start_time": "2021-10-20T08:57:21.171Z"
   },
   {
    "duration": 8,
    "start_time": "2021-10-20T08:57:21.183Z"
   },
   {
    "duration": 10,
    "start_time": "2021-10-20T08:57:21.193Z"
   },
   {
    "duration": 365,
    "start_time": "2021-10-20T08:58:08.577Z"
   },
   {
    "duration": 30,
    "start_time": "2021-10-20T08:58:30.303Z"
   },
   {
    "duration": 32,
    "start_time": "2021-10-20T08:58:34.645Z"
   },
   {
    "duration": 31,
    "start_time": "2021-10-20T08:58:46.725Z"
   },
   {
    "duration": 30,
    "start_time": "2021-10-20T08:59:37.025Z"
   },
   {
    "duration": 34,
    "start_time": "2021-10-20T08:59:45.197Z"
   },
   {
    "duration": 57,
    "start_time": "2021-10-20T09:00:04.270Z"
   },
   {
    "duration": 32,
    "start_time": "2021-10-20T09:00:43.176Z"
   },
   {
    "duration": 40,
    "start_time": "2021-10-20T09:00:56.540Z"
   },
   {
    "duration": 3,
    "start_time": "2021-10-20T09:01:00.217Z"
   },
   {
    "duration": 217,
    "start_time": "2021-10-20T09:01:00.223Z"
   },
   {
    "duration": 16,
    "start_time": "2021-10-20T09:01:00.443Z"
   },
   {
    "duration": 49,
    "start_time": "2021-10-20T09:01:00.462Z"
   },
   {
    "duration": 24,
    "start_time": "2021-10-20T09:01:00.514Z"
   },
   {
    "duration": 33,
    "start_time": "2021-10-20T09:01:00.542Z"
   },
   {
    "duration": 35,
    "start_time": "2021-10-20T09:01:00.578Z"
   },
   {
    "duration": 51,
    "start_time": "2021-10-20T09:01:00.615Z"
   },
   {
    "duration": 36,
    "start_time": "2021-10-20T09:01:00.671Z"
   },
   {
    "duration": 31,
    "start_time": "2021-10-20T09:01:00.712Z"
   },
   {
    "duration": 109,
    "start_time": "2021-10-20T09:01:00.746Z"
   },
   {
    "duration": 104,
    "start_time": "2021-10-20T09:01:00.858Z"
   },
   {
    "duration": 90,
    "start_time": "2021-10-20T09:01:00.964Z"
   },
   {
    "duration": 74,
    "start_time": "2021-10-20T09:01:01.057Z"
   },
   {
    "duration": 83,
    "start_time": "2021-10-20T09:01:01.134Z"
   },
   {
    "duration": 12,
    "start_time": "2021-10-20T09:01:01.220Z"
   },
   {
    "duration": 65,
    "start_time": "2021-10-20T09:01:01.235Z"
   },
   {
    "duration": 28,
    "start_time": "2021-10-20T09:01:01.302Z"
   },
   {
    "duration": 25,
    "start_time": "2021-10-20T09:01:01.333Z"
   },
   {
    "duration": 12,
    "start_time": "2021-10-20T09:01:01.360Z"
   },
   {
    "duration": 29,
    "start_time": "2021-10-20T09:01:01.375Z"
   },
   {
    "duration": 15,
    "start_time": "2021-10-20T09:01:01.406Z"
   },
   {
    "duration": 23,
    "start_time": "2021-10-20T09:01:01.424Z"
   },
   {
    "duration": 29,
    "start_time": "2021-10-20T09:01:01.450Z"
   },
   {
    "duration": 36,
    "start_time": "2021-10-20T09:01:01.481Z"
   },
   {
    "duration": 24,
    "start_time": "2021-10-20T09:01:01.520Z"
   },
   {
    "duration": 12,
    "start_time": "2021-10-20T09:01:01.549Z"
   },
   {
    "duration": 40,
    "start_time": "2021-10-20T09:01:01.564Z"
   },
   {
    "duration": 16,
    "start_time": "2021-10-20T09:01:01.606Z"
   },
   {
    "duration": 15,
    "start_time": "2021-10-20T09:01:01.625Z"
   },
   {
    "duration": 29,
    "start_time": "2021-10-20T09:01:01.642Z"
   },
   {
    "duration": 28,
    "start_time": "2021-10-20T09:01:01.674Z"
   },
   {
    "duration": 21,
    "start_time": "2021-10-20T09:01:01.705Z"
   },
   {
    "duration": 19,
    "start_time": "2021-10-20T09:01:01.729Z"
   },
   {
    "duration": 26,
    "start_time": "2021-10-20T09:01:01.751Z"
   },
   {
    "duration": 20,
    "start_time": "2021-10-20T09:01:01.779Z"
   },
   {
    "duration": 23,
    "start_time": "2021-10-20T09:01:01.802Z"
   },
   {
    "duration": 19,
    "start_time": "2021-10-20T09:01:01.827Z"
   },
   {
    "duration": 17,
    "start_time": "2021-10-20T09:01:01.849Z"
   },
   {
    "duration": 18,
    "start_time": "2021-10-20T09:01:01.869Z"
   },
   {
    "duration": 4,
    "start_time": "2021-10-20T09:01:52.554Z"
   },
   {
    "duration": 40,
    "start_time": "2021-10-20T09:01:54.715Z"
   },
   {
    "duration": 3,
    "start_time": "2021-10-20T09:02:01.114Z"
   },
   {
    "duration": 212,
    "start_time": "2021-10-20T09:02:01.119Z"
   },
   {
    "duration": 16,
    "start_time": "2021-10-20T09:02:01.334Z"
   },
   {
    "duration": 57,
    "start_time": "2021-10-20T09:02:01.353Z"
   },
   {
    "duration": 23,
    "start_time": "2021-10-20T09:02:01.413Z"
   },
   {
    "duration": 59,
    "start_time": "2021-10-20T09:02:01.438Z"
   },
   {
    "duration": 21,
    "start_time": "2021-10-20T09:02:01.501Z"
   },
   {
    "duration": 65,
    "start_time": "2021-10-20T09:02:01.525Z"
   },
   {
    "duration": 37,
    "start_time": "2021-10-20T09:02:01.593Z"
   },
   {
    "duration": 33,
    "start_time": "2021-10-20T09:02:01.633Z"
   },
   {
    "duration": 109,
    "start_time": "2021-10-20T09:02:01.668Z"
   },
   {
    "duration": 104,
    "start_time": "2021-10-20T09:02:01.779Z"
   },
   {
    "duration": 78,
    "start_time": "2021-10-20T09:02:01.886Z"
   },
   {
    "duration": 77,
    "start_time": "2021-10-20T09:02:01.966Z"
   },
   {
    "duration": 80,
    "start_time": "2021-10-20T09:02:02.046Z"
   },
   {
    "duration": 21,
    "start_time": "2021-10-20T09:02:02.128Z"
   },
   {
    "duration": 46,
    "start_time": "2021-10-20T09:02:02.151Z"
   },
   {
    "duration": 58,
    "start_time": "2021-10-20T09:02:02.200Z"
   },
   {
    "duration": 104,
    "start_time": "2021-10-20T09:02:02.264Z"
   },
   {
    "duration": 12,
    "start_time": "2021-10-20T09:02:02.371Z"
   },
   {
    "duration": 21,
    "start_time": "2021-10-20T09:02:02.386Z"
   },
   {
    "duration": 24,
    "start_time": "2021-10-20T09:02:02.410Z"
   },
   {
    "duration": 26,
    "start_time": "2021-10-20T09:02:02.437Z"
   },
   {
    "duration": 18,
    "start_time": "2021-10-20T09:02:02.466Z"
   },
   {
    "duration": 13,
    "start_time": "2021-10-20T09:02:02.486Z"
   },
   {
    "duration": 15,
    "start_time": "2021-10-20T09:02:02.501Z"
   },
   {
    "duration": 13,
    "start_time": "2021-10-20T09:02:02.518Z"
   },
   {
    "duration": 25,
    "start_time": "2021-10-20T09:02:02.533Z"
   },
   {
    "duration": 12,
    "start_time": "2021-10-20T09:02:02.560Z"
   },
   {
    "duration": 16,
    "start_time": "2021-10-20T09:02:02.575Z"
   },
   {
    "duration": 14,
    "start_time": "2021-10-20T09:02:02.593Z"
   },
   {
    "duration": 10,
    "start_time": "2021-10-20T09:02:02.609Z"
   },
   {
    "duration": 11,
    "start_time": "2021-10-20T09:02:02.622Z"
   },
   {
    "duration": 13,
    "start_time": "2021-10-20T09:02:02.635Z"
   },
   {
    "duration": 12,
    "start_time": "2021-10-20T09:02:02.650Z"
   },
   {
    "duration": 11,
    "start_time": "2021-10-20T09:02:02.664Z"
   },
   {
    "duration": 16,
    "start_time": "2021-10-20T09:02:02.677Z"
   },
   {
    "duration": 15,
    "start_time": "2021-10-20T09:02:02.696Z"
   },
   {
    "duration": 6,
    "start_time": "2021-10-20T09:02:02.715Z"
   },
   {
    "duration": 5,
    "start_time": "2021-10-20T09:02:02.725Z"
   },
   {
    "duration": 58,
    "start_time": "2021-10-20T09:08:17.120Z"
   },
   {
    "duration": 60,
    "start_time": "2021-10-20T09:08:26.584Z"
   },
   {
    "duration": 4,
    "start_time": "2021-10-20T09:08:36.269Z"
   },
   {
    "duration": 214,
    "start_time": "2021-10-20T09:08:36.276Z"
   },
   {
    "duration": 16,
    "start_time": "2021-10-20T09:08:36.493Z"
   },
   {
    "duration": 32,
    "start_time": "2021-10-20T09:08:36.513Z"
   },
   {
    "duration": 5,
    "start_time": "2021-10-20T09:08:36.548Z"
   },
   {
    "duration": 47,
    "start_time": "2021-10-20T09:08:36.555Z"
   },
   {
    "duration": 6,
    "start_time": "2021-10-20T09:08:36.605Z"
   },
   {
    "duration": 30,
    "start_time": "2021-10-20T09:08:36.614Z"
   },
   {
    "duration": 61,
    "start_time": "2021-10-20T09:08:36.646Z"
   },
   {
    "duration": 31,
    "start_time": "2021-10-20T09:08:36.710Z"
   },
   {
    "duration": 111,
    "start_time": "2021-10-20T09:08:36.744Z"
   },
   {
    "duration": 104,
    "start_time": "2021-10-20T09:08:36.858Z"
   },
   {
    "duration": 82,
    "start_time": "2021-10-20T09:08:36.965Z"
   },
   {
    "duration": 77,
    "start_time": "2021-10-20T09:08:37.049Z"
   },
   {
    "duration": 77,
    "start_time": "2021-10-20T09:08:37.128Z"
   },
   {
    "duration": 5,
    "start_time": "2021-10-20T09:08:37.207Z"
   },
   {
    "duration": 38,
    "start_time": "2021-10-20T09:08:37.214Z"
   },
   {
    "duration": 77,
    "start_time": "2021-10-20T09:08:37.254Z"
   },
   {
    "duration": 70,
    "start_time": "2021-10-20T09:08:37.336Z"
   },
   {
    "duration": 3,
    "start_time": "2021-10-20T09:08:37.410Z"
   },
   {
    "duration": 6,
    "start_time": "2021-10-20T09:08:37.415Z"
   },
   {
    "duration": 6,
    "start_time": "2021-10-20T09:08:37.424Z"
   },
   {
    "duration": 8,
    "start_time": "2021-10-20T09:08:37.432Z"
   },
   {
    "duration": 44,
    "start_time": "2021-10-20T09:08:37.443Z"
   },
   {
    "duration": 4,
    "start_time": "2021-10-20T09:08:37.490Z"
   },
   {
    "duration": 6,
    "start_time": "2021-10-20T09:08:37.496Z"
   },
   {
    "duration": 10,
    "start_time": "2021-10-20T09:08:37.504Z"
   },
   {
    "duration": 10,
    "start_time": "2021-10-20T09:08:37.516Z"
   },
   {
    "duration": 9,
    "start_time": "2021-10-20T09:08:37.529Z"
   },
   {
    "duration": 7,
    "start_time": "2021-10-20T09:08:37.540Z"
   },
   {
    "duration": 8,
    "start_time": "2021-10-20T09:08:37.550Z"
   },
   {
    "duration": 6,
    "start_time": "2021-10-20T09:08:37.560Z"
   },
   {
    "duration": 11,
    "start_time": "2021-10-20T09:08:37.583Z"
   },
   {
    "duration": 13,
    "start_time": "2021-10-20T09:08:37.599Z"
   },
   {
    "duration": 36,
    "start_time": "2021-10-20T09:08:37.614Z"
   },
   {
    "duration": 21,
    "start_time": "2021-10-20T09:08:37.653Z"
   },
   {
    "duration": 21,
    "start_time": "2021-10-20T09:08:37.676Z"
   },
   {
    "duration": 17,
    "start_time": "2021-10-20T09:08:37.699Z"
   },
   {
    "duration": 10,
    "start_time": "2021-10-20T09:08:37.718Z"
   },
   {
    "duration": 22,
    "start_time": "2021-10-20T09:08:37.730Z"
   },
   {
    "duration": 4,
    "start_time": "2021-10-20T09:10:58.291Z"
   },
   {
    "duration": 206,
    "start_time": "2021-10-20T09:10:58.298Z"
   },
   {
    "duration": 16,
    "start_time": "2021-10-20T09:10:58.508Z"
   },
   {
    "duration": 57,
    "start_time": "2021-10-20T09:10:58.527Z"
   },
   {
    "duration": 9,
    "start_time": "2021-10-20T09:10:58.586Z"
   },
   {
    "duration": 21,
    "start_time": "2021-10-20T09:10:58.597Z"
   },
   {
    "duration": 5,
    "start_time": "2021-10-20T09:10:58.620Z"
   },
   {
    "duration": 68,
    "start_time": "2021-10-20T09:10:58.629Z"
   },
   {
    "duration": 22,
    "start_time": "2021-10-20T09:10:58.701Z"
   },
   {
    "duration": 28,
    "start_time": "2021-10-20T09:10:58.726Z"
   },
   {
    "duration": 104,
    "start_time": "2021-10-20T09:10:58.756Z"
   },
   {
    "duration": 96,
    "start_time": "2021-10-20T09:10:58.863Z"
   },
   {
    "duration": 88,
    "start_time": "2021-10-20T09:10:58.962Z"
   },
   {
    "duration": 75,
    "start_time": "2021-10-20T09:10:59.053Z"
   },
   {
    "duration": 65,
    "start_time": "2021-10-20T09:10:59.130Z"
   },
   {
    "duration": 5,
    "start_time": "2021-10-20T09:10:59.198Z"
   },
   {
    "duration": 31,
    "start_time": "2021-10-20T09:10:59.205Z"
   },
   {
    "duration": 81,
    "start_time": "2021-10-20T09:10:59.238Z"
   },
   {
    "duration": 78,
    "start_time": "2021-10-20T09:10:59.321Z"
   },
   {
    "duration": 3,
    "start_time": "2021-10-20T09:10:59.402Z"
   },
   {
    "duration": 17,
    "start_time": "2021-10-20T09:10:59.407Z"
   },
   {
    "duration": 18,
    "start_time": "2021-10-20T09:10:59.427Z"
   },
   {
    "duration": 27,
    "start_time": "2021-10-20T09:10:59.450Z"
   },
   {
    "duration": 22,
    "start_time": "2021-10-20T09:10:59.480Z"
   },
   {
    "duration": 11,
    "start_time": "2021-10-20T09:10:59.505Z"
   },
   {
    "duration": 21,
    "start_time": "2021-10-20T09:10:59.519Z"
   },
   {
    "duration": 30,
    "start_time": "2021-10-20T09:10:59.542Z"
   },
   {
    "duration": 21,
    "start_time": "2021-10-20T09:10:59.575Z"
   },
   {
    "duration": 10,
    "start_time": "2021-10-20T09:10:59.599Z"
   },
   {
    "duration": 14,
    "start_time": "2021-10-20T09:10:59.611Z"
   },
   {
    "duration": 25,
    "start_time": "2021-10-20T09:10:59.627Z"
   },
   {
    "duration": 11,
    "start_time": "2021-10-20T09:10:59.655Z"
   },
   {
    "duration": 28,
    "start_time": "2021-10-20T09:10:59.668Z"
   },
   {
    "duration": 20,
    "start_time": "2021-10-20T09:10:59.698Z"
   },
   {
    "duration": 15,
    "start_time": "2021-10-20T09:10:59.720Z"
   },
   {
    "duration": 13,
    "start_time": "2021-10-20T09:10:59.737Z"
   },
   {
    "duration": 18,
    "start_time": "2021-10-20T09:10:59.752Z"
   },
   {
    "duration": 23,
    "start_time": "2021-10-20T09:10:59.772Z"
   },
   {
    "duration": 14,
    "start_time": "2021-10-20T09:10:59.798Z"
   },
   {
    "duration": 17,
    "start_time": "2021-10-20T09:10:59.815Z"
   },
   {
    "duration": 4,
    "start_time": "2021-10-20T09:15:06.219Z"
   },
   {
    "duration": 180,
    "start_time": "2021-10-20T09:15:06.226Z"
   },
   {
    "duration": 15,
    "start_time": "2021-10-20T09:15:06.409Z"
   },
   {
    "duration": 36,
    "start_time": "2021-10-20T09:15:06.427Z"
   },
   {
    "duration": 6,
    "start_time": "2021-10-20T09:15:06.481Z"
   },
   {
    "duration": 30,
    "start_time": "2021-10-20T09:15:06.489Z"
   },
   {
    "duration": 5,
    "start_time": "2021-10-20T09:15:06.523Z"
   },
   {
    "duration": 58,
    "start_time": "2021-10-20T09:15:06.531Z"
   },
   {
    "duration": 22,
    "start_time": "2021-10-20T09:15:06.592Z"
   },
   {
    "duration": 36,
    "start_time": "2021-10-20T09:15:06.617Z"
   },
   {
    "duration": 113,
    "start_time": "2021-10-20T09:15:06.656Z"
   },
   {
    "duration": 90,
    "start_time": "2021-10-20T09:15:06.771Z"
   },
   {
    "duration": 80,
    "start_time": "2021-10-20T09:15:06.863Z"
   },
   {
    "duration": 68,
    "start_time": "2021-10-20T09:15:06.945Z"
   },
   {
    "duration": 75,
    "start_time": "2021-10-20T09:15:07.016Z"
   },
   {
    "duration": 4,
    "start_time": "2021-10-20T09:15:07.093Z"
   },
   {
    "duration": 18,
    "start_time": "2021-10-20T09:15:07.099Z"
   },
   {
    "duration": 75,
    "start_time": "2021-10-20T09:15:07.119Z"
   },
   {
    "duration": 55,
    "start_time": "2021-10-20T09:15:07.199Z"
   },
   {
    "duration": 3,
    "start_time": "2021-10-20T09:15:07.257Z"
   },
   {
    "duration": 21,
    "start_time": "2021-10-20T09:15:07.262Z"
   },
   {
    "duration": 6,
    "start_time": "2021-10-20T09:15:07.286Z"
   },
   {
    "duration": 10,
    "start_time": "2021-10-20T09:15:07.295Z"
   },
   {
    "duration": 7,
    "start_time": "2021-10-20T09:15:07.307Z"
   },
   {
    "duration": 6,
    "start_time": "2021-10-20T09:15:07.316Z"
   },
   {
    "duration": 10,
    "start_time": "2021-10-20T09:15:07.324Z"
   },
   {
    "duration": 12,
    "start_time": "2021-10-20T09:15:07.336Z"
   },
   {
    "duration": 17,
    "start_time": "2021-10-20T09:15:07.350Z"
   },
   {
    "duration": 3,
    "start_time": "2021-10-20T09:15:07.382Z"
   },
   {
    "duration": 7,
    "start_time": "2021-10-20T09:15:07.387Z"
   },
   {
    "duration": 7,
    "start_time": "2021-10-20T09:15:07.396Z"
   },
   {
    "duration": 10,
    "start_time": "2021-10-20T09:15:07.405Z"
   },
   {
    "duration": 14,
    "start_time": "2021-10-20T09:15:07.417Z"
   },
   {
    "duration": 7,
    "start_time": "2021-10-20T09:15:07.433Z"
   },
   {
    "duration": 14,
    "start_time": "2021-10-20T09:15:07.442Z"
   },
   {
    "duration": 8,
    "start_time": "2021-10-20T09:15:07.458Z"
   },
   {
    "duration": 17,
    "start_time": "2021-10-20T09:15:07.468Z"
   },
   {
    "duration": 10,
    "start_time": "2021-10-20T09:15:07.487Z"
   },
   {
    "duration": 6,
    "start_time": "2021-10-20T09:15:07.499Z"
   },
   {
    "duration": 7,
    "start_time": "2021-10-20T09:15:07.508Z"
   },
   {
    "duration": 4,
    "start_time": "2021-10-20T09:16:08.671Z"
   },
   {
    "duration": 194,
    "start_time": "2021-10-20T09:16:08.677Z"
   },
   {
    "duration": 21,
    "start_time": "2021-10-20T09:16:08.875Z"
   },
   {
    "duration": 39,
    "start_time": "2021-10-20T09:16:08.899Z"
   },
   {
    "duration": 13,
    "start_time": "2021-10-20T09:16:08.941Z"
   },
   {
    "duration": 47,
    "start_time": "2021-10-20T09:16:08.957Z"
   },
   {
    "duration": 7,
    "start_time": "2021-10-20T09:16:09.007Z"
   },
   {
    "duration": 42,
    "start_time": "2021-10-20T09:16:09.017Z"
   },
   {
    "duration": 22,
    "start_time": "2021-10-20T09:16:09.084Z"
   },
   {
    "duration": 30,
    "start_time": "2021-10-20T09:16:09.109Z"
   },
   {
    "duration": 109,
    "start_time": "2021-10-20T09:16:09.141Z"
   },
   {
    "duration": 98,
    "start_time": "2021-10-20T09:16:09.252Z"
   },
   {
    "duration": 78,
    "start_time": "2021-10-20T09:16:09.353Z"
   },
   {
    "duration": 65,
    "start_time": "2021-10-20T09:16:09.433Z"
   },
   {
    "duration": 56,
    "start_time": "2021-10-20T09:16:09.500Z"
   },
   {
    "duration": 25,
    "start_time": "2021-10-20T09:16:09.558Z"
   },
   {
    "duration": 18,
    "start_time": "2021-10-20T09:16:09.585Z"
   },
   {
    "duration": 59,
    "start_time": "2021-10-20T09:16:09.605Z"
   },
   {
    "duration": 71,
    "start_time": "2021-10-20T09:16:09.667Z"
   },
   {
    "duration": 3,
    "start_time": "2021-10-20T09:16:09.741Z"
   },
   {
    "duration": 7,
    "start_time": "2021-10-20T09:16:09.746Z"
   },
   {
    "duration": 27,
    "start_time": "2021-10-20T09:16:09.755Z"
   },
   {
    "duration": 10,
    "start_time": "2021-10-20T09:16:09.785Z"
   },
   {
    "duration": 6,
    "start_time": "2021-10-20T09:16:09.797Z"
   },
   {
    "duration": 6,
    "start_time": "2021-10-20T09:16:09.805Z"
   },
   {
    "duration": 6,
    "start_time": "2021-10-20T09:16:09.813Z"
   },
   {
    "duration": 6,
    "start_time": "2021-10-20T09:16:09.824Z"
   },
   {
    "duration": 13,
    "start_time": "2021-10-20T09:16:09.832Z"
   },
   {
    "duration": 6,
    "start_time": "2021-10-20T09:16:09.847Z"
   },
   {
    "duration": 28,
    "start_time": "2021-10-20T09:16:09.855Z"
   },
   {
    "duration": 13,
    "start_time": "2021-10-20T09:16:09.886Z"
   },
   {
    "duration": 13,
    "start_time": "2021-10-20T09:16:09.901Z"
   },
   {
    "duration": 24,
    "start_time": "2021-10-20T09:16:09.916Z"
   },
   {
    "duration": 16,
    "start_time": "2021-10-20T09:16:09.942Z"
   },
   {
    "duration": 15,
    "start_time": "2021-10-20T09:16:09.960Z"
   },
   {
    "duration": 18,
    "start_time": "2021-10-20T09:16:09.978Z"
   },
   {
    "duration": 22,
    "start_time": "2021-10-20T09:16:09.999Z"
   },
   {
    "duration": 12,
    "start_time": "2021-10-20T09:16:10.023Z"
   },
   {
    "duration": 25,
    "start_time": "2021-10-20T09:16:10.037Z"
   },
   {
    "duration": 19,
    "start_time": "2021-10-20T09:16:10.064Z"
   },
   {
    "duration": 3,
    "start_time": "2021-10-20T09:16:57.078Z"
   },
   {
    "duration": 205,
    "start_time": "2021-10-20T09:16:57.092Z"
   },
   {
    "duration": 17,
    "start_time": "2021-10-20T09:16:57.300Z"
   },
   {
    "duration": 64,
    "start_time": "2021-10-20T09:16:57.321Z"
   },
   {
    "duration": 4,
    "start_time": "2021-10-20T09:16:57.388Z"
   },
   {
    "duration": 32,
    "start_time": "2021-10-20T09:16:57.395Z"
   },
   {
    "duration": 5,
    "start_time": "2021-10-20T09:16:57.429Z"
   },
   {
    "duration": 59,
    "start_time": "2021-10-20T09:16:57.437Z"
   },
   {
    "duration": 24,
    "start_time": "2021-10-20T09:16:57.498Z"
   },
   {
    "duration": 31,
    "start_time": "2021-10-20T09:16:57.526Z"
   },
   {
    "duration": 83,
    "start_time": "2021-10-20T09:16:57.583Z"
   },
   {
    "duration": 114,
    "start_time": "2021-10-20T09:16:57.668Z"
   },
   {
    "duration": 74,
    "start_time": "2021-10-20T09:16:57.784Z"
   },
   {
    "duration": 70,
    "start_time": "2021-10-20T09:16:57.860Z"
   },
   {
    "duration": 68,
    "start_time": "2021-10-20T09:16:57.933Z"
   },
   {
    "duration": 6,
    "start_time": "2021-10-20T09:16:58.003Z"
   },
   {
    "duration": 16,
    "start_time": "2021-10-20T09:16:58.012Z"
   },
   {
    "duration": 84,
    "start_time": "2021-10-20T09:16:58.030Z"
   },
   {
    "duration": 66,
    "start_time": "2021-10-20T09:16:58.117Z"
   },
   {
    "duration": 3,
    "start_time": "2021-10-20T09:16:58.186Z"
   },
   {
    "duration": 6,
    "start_time": "2021-10-20T09:16:58.191Z"
   },
   {
    "duration": 6,
    "start_time": "2021-10-20T09:16:58.199Z"
   },
   {
    "duration": 15,
    "start_time": "2021-10-20T09:16:58.207Z"
   },
   {
    "duration": 6,
    "start_time": "2021-10-20T09:16:58.224Z"
   },
   {
    "duration": 8,
    "start_time": "2021-10-20T09:16:58.232Z"
   },
   {
    "duration": 9,
    "start_time": "2021-10-20T09:16:58.243Z"
   },
   {
    "duration": 5,
    "start_time": "2021-10-20T09:16:58.255Z"
   },
   {
    "duration": 3,
    "start_time": "2021-10-20T09:16:58.287Z"
   },
   {
    "duration": 7,
    "start_time": "2021-10-20T09:16:58.292Z"
   },
   {
    "duration": 8,
    "start_time": "2021-10-20T09:16:58.302Z"
   },
   {
    "duration": 6,
    "start_time": "2021-10-20T09:16:58.312Z"
   },
   {
    "duration": 6,
    "start_time": "2021-10-20T09:16:58.320Z"
   },
   {
    "duration": 12,
    "start_time": "2021-10-20T09:16:58.328Z"
   },
   {
    "duration": 6,
    "start_time": "2021-10-20T09:16:58.342Z"
   },
   {
    "duration": 16,
    "start_time": "2021-10-20T09:16:58.350Z"
   },
   {
    "duration": 9,
    "start_time": "2021-10-20T09:16:58.383Z"
   },
   {
    "duration": 6,
    "start_time": "2021-10-20T09:16:58.394Z"
   },
   {
    "duration": 11,
    "start_time": "2021-10-20T09:16:58.402Z"
   },
   {
    "duration": 11,
    "start_time": "2021-10-20T09:16:58.415Z"
   },
   {
    "duration": 6,
    "start_time": "2021-10-20T09:16:58.428Z"
   },
   {
    "duration": 48,
    "start_time": "2021-10-20T09:24:38.918Z"
   },
   {
    "duration": 50,
    "start_time": "2021-10-20T09:25:55.311Z"
   },
   {
    "duration": 48,
    "start_time": "2021-10-20T09:27:08.477Z"
   },
   {
    "duration": 278,
    "start_time": "2021-10-20T09:33:33.887Z"
   },
   {
    "duration": 329,
    "start_time": "2021-10-20T09:33:43.410Z"
   },
   {
    "duration": 33,
    "start_time": "2021-10-20T09:33:54.056Z"
   },
   {
    "duration": 34,
    "start_time": "2021-10-20T09:33:57.397Z"
   },
   {
    "duration": 3,
    "start_time": "2021-10-20T09:34:09.932Z"
   },
   {
    "duration": 195,
    "start_time": "2021-10-20T09:34:09.938Z"
   },
   {
    "duration": 16,
    "start_time": "2021-10-20T09:34:10.136Z"
   },
   {
    "duration": 45,
    "start_time": "2021-10-20T09:34:10.155Z"
   },
   {
    "duration": 8,
    "start_time": "2021-10-20T09:34:10.202Z"
   },
   {
    "duration": 37,
    "start_time": "2021-10-20T09:34:10.213Z"
   },
   {
    "duration": 6,
    "start_time": "2021-10-20T09:34:10.252Z"
   },
   {
    "duration": 32,
    "start_time": "2021-10-20T09:34:10.283Z"
   },
   {
    "duration": 21,
    "start_time": "2021-10-20T09:34:10.319Z"
   },
   {
    "duration": 60,
    "start_time": "2021-10-20T09:34:10.343Z"
   },
   {
    "duration": 91,
    "start_time": "2021-10-20T09:34:10.406Z"
   },
   {
    "duration": 99,
    "start_time": "2021-10-20T09:34:10.499Z"
   },
   {
    "duration": 82,
    "start_time": "2021-10-20T09:34:10.601Z"
   },
   {
    "duration": 51,
    "start_time": "2021-10-20T09:34:10.686Z"
   },
   {
    "duration": 68,
    "start_time": "2021-10-20T09:34:10.739Z"
   },
   {
    "duration": 75,
    "start_time": "2021-10-20T09:34:10.809Z"
   },
   {
    "duration": 55,
    "start_time": "2021-10-20T09:34:10.887Z"
   },
   {
    "duration": 5,
    "start_time": "2021-10-20T09:34:10.944Z"
   },
   {
    "duration": 40,
    "start_time": "2021-10-20T09:34:10.951Z"
   },
   {
    "duration": 58,
    "start_time": "2021-10-20T09:34:10.993Z"
   },
   {
    "duration": 76,
    "start_time": "2021-10-20T09:34:11.054Z"
   },
   {
    "duration": 56,
    "start_time": "2021-10-20T09:34:11.133Z"
   },
   {
    "duration": 4,
    "start_time": "2021-10-20T09:34:11.191Z"
   },
   {
    "duration": 8,
    "start_time": "2021-10-20T09:34:11.198Z"
   },
   {
    "duration": 10,
    "start_time": "2021-10-20T09:34:11.208Z"
   },
   {
    "duration": 6,
    "start_time": "2021-10-20T09:34:11.220Z"
   },
   {
    "duration": 3,
    "start_time": "2021-10-20T09:34:11.231Z"
   },
   {
    "duration": 9,
    "start_time": "2021-10-20T09:34:11.237Z"
   },
   {
    "duration": 35,
    "start_time": "2021-10-20T09:34:11.248Z"
   },
   {
    "duration": 8,
    "start_time": "2021-10-20T09:34:11.286Z"
   },
   {
    "duration": 10,
    "start_time": "2021-10-20T09:34:11.296Z"
   },
   {
    "duration": 8,
    "start_time": "2021-10-20T09:34:11.308Z"
   },
   {
    "duration": 8,
    "start_time": "2021-10-20T09:34:11.318Z"
   },
   {
    "duration": 6,
    "start_time": "2021-10-20T09:34:11.328Z"
   },
   {
    "duration": 13,
    "start_time": "2021-10-20T09:34:11.336Z"
   },
   {
    "duration": 6,
    "start_time": "2021-10-20T09:34:11.352Z"
   },
   {
    "duration": 22,
    "start_time": "2021-10-20T09:34:11.360Z"
   },
   {
    "duration": 6,
    "start_time": "2021-10-20T09:34:11.385Z"
   },
   {
    "duration": 5,
    "start_time": "2021-10-20T09:34:11.393Z"
   },
   {
    "duration": 13,
    "start_time": "2021-10-20T09:34:11.400Z"
   },
   {
    "duration": 16,
    "start_time": "2021-10-20T09:34:11.415Z"
   },
   {
    "duration": 6,
    "start_time": "2021-10-20T09:34:11.434Z"
   },
   {
    "duration": 37,
    "start_time": "2021-10-20T09:34:26.958Z"
   },
   {
    "duration": 34,
    "start_time": "2021-10-20T09:34:39.306Z"
   },
   {
    "duration": 36,
    "start_time": "2021-10-20T09:34:50.925Z"
   },
   {
    "duration": 14,
    "start_time": "2021-10-20T09:36:06.991Z"
   },
   {
    "duration": 37,
    "start_time": "2021-10-20T09:37:25.508Z"
   },
   {
    "duration": 13,
    "start_time": "2021-10-20T09:37:51.280Z"
   },
   {
    "duration": 36,
    "start_time": "2021-10-20T09:39:28.600Z"
   },
   {
    "duration": 12,
    "start_time": "2021-10-20T09:39:41.745Z"
   },
   {
    "duration": 36,
    "start_time": "2021-10-20T09:39:55.771Z"
   },
   {
    "duration": 36,
    "start_time": "2021-10-20T09:40:11.142Z"
   },
   {
    "duration": 38,
    "start_time": "2021-10-20T09:40:27.534Z"
   },
   {
    "duration": 10,
    "start_time": "2021-10-20T09:42:47.676Z"
   },
   {
    "duration": 11,
    "start_time": "2021-10-20T09:43:04.321Z"
   },
   {
    "duration": 12,
    "start_time": "2021-10-20T09:43:24.771Z"
   },
   {
    "duration": 14,
    "start_time": "2021-10-20T09:47:36.529Z"
   },
   {
    "duration": 13,
    "start_time": "2021-10-20T09:50:42.941Z"
   },
   {
    "duration": 3,
    "start_time": "2021-10-20T11:15:58.252Z"
   },
   {
    "duration": 196,
    "start_time": "2021-10-20T11:15:58.258Z"
   },
   {
    "duration": 14,
    "start_time": "2021-10-20T11:15:58.457Z"
   },
   {
    "duration": 37,
    "start_time": "2021-10-20T11:15:58.474Z"
   },
   {
    "duration": 5,
    "start_time": "2021-10-20T11:15:58.514Z"
   },
   {
    "duration": 22,
    "start_time": "2021-10-20T11:15:58.522Z"
   },
   {
    "duration": 37,
    "start_time": "2021-10-20T11:15:58.547Z"
   },
   {
    "duration": 35,
    "start_time": "2021-10-20T11:15:58.588Z"
   },
   {
    "duration": 32,
    "start_time": "2021-10-20T11:15:58.626Z"
   },
   {
    "duration": 49,
    "start_time": "2021-10-20T11:15:58.661Z"
   },
   {
    "duration": 100,
    "start_time": "2021-10-20T11:15:58.713Z"
   },
   {
    "duration": 101,
    "start_time": "2021-10-20T11:15:58.815Z"
   },
   {
    "duration": 80,
    "start_time": "2021-10-20T11:15:58.919Z"
   },
   {
    "duration": 50,
    "start_time": "2021-10-20T11:15:59.001Z"
   },
   {
    "duration": 68,
    "start_time": "2021-10-20T11:15:59.053Z"
   },
   {
    "duration": 69,
    "start_time": "2021-10-20T11:15:59.123Z"
   },
   {
    "duration": 53,
    "start_time": "2021-10-20T11:15:59.194Z"
   },
   {
    "duration": 6,
    "start_time": "2021-10-20T11:15:59.250Z"
   },
   {
    "duration": 28,
    "start_time": "2021-10-20T11:15:59.283Z"
   },
   {
    "duration": 72,
    "start_time": "2021-10-20T11:15:59.313Z"
   },
   {
    "duration": 68,
    "start_time": "2021-10-20T11:15:59.387Z"
   },
   {
    "duration": 20,
    "start_time": "2021-10-20T11:15:59.458Z"
   },
   {
    "duration": 18,
    "start_time": "2021-10-20T11:15:59.484Z"
   },
   {
    "duration": 4,
    "start_time": "2021-10-20T11:15:59.506Z"
   },
   {
    "duration": 23,
    "start_time": "2021-10-20T11:15:59.512Z"
   },
   {
    "duration": 20,
    "start_time": "2021-10-20T11:15:59.538Z"
   },
   {
    "duration": 15,
    "start_time": "2021-10-20T11:15:59.561Z"
   },
   {
    "duration": 18,
    "start_time": "2021-10-20T11:15:59.578Z"
   },
   {
    "duration": 29,
    "start_time": "2021-10-20T11:15:59.599Z"
   },
   {
    "duration": 20,
    "start_time": "2021-10-20T11:15:59.630Z"
   },
   {
    "duration": 19,
    "start_time": "2021-10-20T11:15:59.653Z"
   },
   {
    "duration": 16,
    "start_time": "2021-10-20T11:15:59.675Z"
   },
   {
    "duration": 24,
    "start_time": "2021-10-20T11:15:59.693Z"
   },
   {
    "duration": 18,
    "start_time": "2021-10-20T11:15:59.720Z"
   },
   {
    "duration": 28,
    "start_time": "2021-10-20T11:15:59.741Z"
   },
   {
    "duration": 29,
    "start_time": "2021-10-20T11:15:59.772Z"
   },
   {
    "duration": 27,
    "start_time": "2021-10-20T11:15:59.804Z"
   },
   {
    "duration": 16,
    "start_time": "2021-10-20T11:15:59.834Z"
   },
   {
    "duration": 18,
    "start_time": "2021-10-20T11:15:59.852Z"
   },
   {
    "duration": 24,
    "start_time": "2021-10-20T11:15:59.872Z"
   },
   {
    "duration": 15,
    "start_time": "2021-10-20T11:15:59.899Z"
   },
   {
    "duration": 27,
    "start_time": "2021-10-20T11:15:59.916Z"
   },
   {
    "duration": 13,
    "start_time": "2021-10-20T11:34:04.405Z"
   },
   {
    "duration": 14,
    "start_time": "2021-10-20T11:34:07.286Z"
   },
   {
    "duration": 14,
    "start_time": "2021-10-20T11:34:16.275Z"
   },
   {
    "duration": 5,
    "start_time": "2021-10-20T11:35:00.625Z"
   },
   {
    "duration": 20,
    "start_time": "2021-10-20T11:35:02.774Z"
   },
   {
    "duration": 19,
    "start_time": "2021-10-20T11:36:25.152Z"
   },
   {
    "duration": 19,
    "start_time": "2021-10-20T11:36:27.010Z"
   },
   {
    "duration": 18,
    "start_time": "2021-10-20T11:36:28.837Z"
   },
   {
    "duration": 20,
    "start_time": "2021-10-20T11:37:44.322Z"
   },
   {
    "duration": 19,
    "start_time": "2021-10-20T11:37:46.333Z"
   },
   {
    "duration": 17,
    "start_time": "2021-10-20T11:40:58.456Z"
   },
   {
    "duration": 282,
    "start_time": "2021-10-20T11:42:37.120Z"
   },
   {
    "duration": 110,
    "start_time": "2021-10-20T11:45:41.742Z"
   },
   {
    "duration": 12,
    "start_time": "2021-10-20T11:46:00.808Z"
   },
   {
    "duration": 28,
    "start_time": "2021-10-20T11:49:05.759Z"
   },
   {
    "duration": 554,
    "start_time": "2021-10-20T11:51:08.045Z"
   },
   {
    "duration": 28,
    "start_time": "2021-10-20T11:51:48.610Z"
   },
   {
    "duration": 26,
    "start_time": "2021-10-20T11:53:57.065Z"
   },
   {
    "duration": 13,
    "start_time": "2021-10-20T11:54:29.891Z"
   },
   {
    "duration": 14,
    "start_time": "2021-10-20T11:54:57.864Z"
   },
   {
    "duration": 27,
    "start_time": "2021-10-20T11:56:34.274Z"
   },
   {
    "duration": 26,
    "start_time": "2021-10-20T11:57:10.353Z"
   },
   {
    "duration": 20,
    "start_time": "2021-10-20T11:57:25.404Z"
   },
   {
    "duration": 28,
    "start_time": "2021-10-20T11:57:43.152Z"
   },
   {
    "duration": 16,
    "start_time": "2021-10-20T11:58:47.043Z"
   },
   {
    "duration": 10,
    "start_time": "2021-10-20T11:59:04.711Z"
   },
   {
    "duration": 24,
    "start_time": "2021-10-20T12:01:18.160Z"
   },
   {
    "duration": 14,
    "start_time": "2021-10-20T12:01:19.552Z"
   },
   {
    "duration": 11,
    "start_time": "2021-10-20T12:01:20.802Z"
   },
   {
    "duration": 19,
    "start_time": "2021-10-20T12:01:49.770Z"
   },
   {
    "duration": 3,
    "start_time": "2021-10-20T12:01:59.728Z"
   },
   {
    "duration": 27,
    "start_time": "2021-10-20T12:03:57.930Z"
   },
   {
    "duration": 14,
    "start_time": "2021-10-20T12:04:02.478Z"
   },
   {
    "duration": 10,
    "start_time": "2021-10-20T12:04:04.145Z"
   },
   {
    "duration": 29,
    "start_time": "2021-10-20T12:05:18.531Z"
   },
   {
    "duration": 6,
    "start_time": "2021-10-20T12:15:00.145Z"
   },
   {
    "duration": 6,
    "start_time": "2021-10-20T12:15:27.963Z"
   },
   {
    "duration": 6,
    "start_time": "2021-10-20T12:15:33.713Z"
   },
   {
    "duration": 6,
    "start_time": "2021-10-20T12:15:37.916Z"
   },
   {
    "duration": 6686,
    "start_time": "2021-10-20T12:16:53.205Z"
   },
   {
    "duration": 7050,
    "start_time": "2021-10-20T12:17:28.426Z"
   },
   {
    "duration": 9,
    "start_time": "2021-10-20T12:18:30.348Z"
   },
   {
    "duration": 27,
    "start_time": "2021-10-20T12:18:32.565Z"
   },
   {
    "duration": 18,
    "start_time": "2021-10-20T12:18:54.960Z"
   },
   {
    "duration": 22,
    "start_time": "2021-10-20T12:20:32.053Z"
   },
   {
    "duration": 17,
    "start_time": "2021-10-20T12:20:40.617Z"
   },
   {
    "duration": 4,
    "start_time": "2021-10-20T12:21:24.012Z"
   },
   {
    "duration": 199,
    "start_time": "2021-10-20T12:21:24.019Z"
   },
   {
    "duration": 16,
    "start_time": "2021-10-20T12:21:24.222Z"
   },
   {
    "duration": 53,
    "start_time": "2021-10-20T12:21:24.242Z"
   },
   {
    "duration": 12,
    "start_time": "2021-10-20T12:21:24.299Z"
   },
   {
    "duration": 41,
    "start_time": "2021-10-20T12:21:24.314Z"
   },
   {
    "duration": 6,
    "start_time": "2021-10-20T12:21:24.358Z"
   },
   {
    "duration": 43,
    "start_time": "2021-10-20T12:21:24.368Z"
   },
   {
    "duration": 22,
    "start_time": "2021-10-20T12:21:24.414Z"
   },
   {
    "duration": 54,
    "start_time": "2021-10-20T12:21:24.438Z"
   },
   {
    "duration": 95,
    "start_time": "2021-10-20T12:21:24.495Z"
   },
   {
    "duration": 101,
    "start_time": "2021-10-20T12:21:24.592Z"
   },
   {
    "duration": 72,
    "start_time": "2021-10-20T12:21:24.695Z"
   },
   {
    "duration": 50,
    "start_time": "2021-10-20T12:21:24.781Z"
   },
   {
    "duration": 67,
    "start_time": "2021-10-20T12:21:24.834Z"
   },
   {
    "duration": 58,
    "start_time": "2021-10-20T12:21:24.904Z"
   },
   {
    "duration": 58,
    "start_time": "2021-10-20T12:21:24.983Z"
   },
   {
    "duration": 6,
    "start_time": "2021-10-20T12:21:25.044Z"
   },
   {
    "duration": 44,
    "start_time": "2021-10-20T12:21:25.052Z"
   },
   {
    "duration": 70,
    "start_time": "2021-10-20T12:21:25.099Z"
   },
   {
    "duration": 66,
    "start_time": "2021-10-20T12:21:25.172Z"
   },
   {
    "duration": 15,
    "start_time": "2021-10-20T12:21:25.241Z"
   },
   {
    "duration": 16,
    "start_time": "2021-10-20T12:21:25.288Z"
   },
   {
    "duration": 6,
    "start_time": "2021-10-20T12:21:25.308Z"
   },
   {
    "duration": 23,
    "start_time": "2021-10-20T12:21:25.317Z"
   },
   {
    "duration": 53,
    "start_time": "2021-10-20T12:21:25.343Z"
   },
   {
    "duration": 19,
    "start_time": "2021-10-20T12:21:25.399Z"
   },
   {
    "duration": 18,
    "start_time": "2021-10-20T12:21:25.421Z"
   },
   {
    "duration": 55,
    "start_time": "2021-10-20T12:21:25.442Z"
   },
   {
    "duration": 17,
    "start_time": "2021-10-20T12:21:25.500Z"
   },
   {
    "duration": 11,
    "start_time": "2021-10-20T12:21:25.520Z"
   },
   {
    "duration": 59,
    "start_time": "2021-10-20T12:21:25.533Z"
   },
   {
    "duration": 13,
    "start_time": "2021-10-20T12:21:25.594Z"
   },
   {
    "duration": 9,
    "start_time": "2021-10-20T12:21:25.610Z"
   },
   {
    "duration": 6,
    "start_time": "2021-10-20T12:21:25.622Z"
   },
   {
    "duration": 58,
    "start_time": "2021-10-20T12:21:25.630Z"
   },
   {
    "duration": 17,
    "start_time": "2021-10-20T12:21:25.690Z"
   },
   {
    "duration": 31,
    "start_time": "2021-10-20T12:21:25.709Z"
   },
   {
    "duration": 14,
    "start_time": "2021-10-20T12:21:25.742Z"
   },
   {
    "duration": 3,
    "start_time": "2021-10-20T12:21:25.783Z"
   },
   {
    "duration": 12,
    "start_time": "2021-10-20T12:21:25.788Z"
   },
   {
    "duration": 5,
    "start_time": "2021-10-20T12:21:25.803Z"
   },
   {
    "duration": 6,
    "start_time": "2021-10-20T12:21:25.810Z"
   },
   {
    "duration": 20,
    "start_time": "2021-10-20T12:23:33.757Z"
   },
   {
    "duration": 23,
    "start_time": "2021-10-20T12:23:38.356Z"
   },
   {
    "duration": 20,
    "start_time": "2021-10-20T12:23:47.814Z"
   },
   {
    "duration": 20,
    "start_time": "2021-10-20T12:23:51.001Z"
   },
   {
    "duration": 17,
    "start_time": "2021-10-20T12:23:54.967Z"
   },
   {
    "duration": 16,
    "start_time": "2021-10-20T12:24:02.774Z"
   },
   {
    "duration": 21,
    "start_time": "2021-10-20T12:24:07.603Z"
   },
   {
    "duration": 24,
    "start_time": "2021-10-20T12:24:12.718Z"
   },
   {
    "duration": 23,
    "start_time": "2021-10-20T12:24:16.133Z"
   },
   {
    "duration": 21,
    "start_time": "2021-10-20T12:24:34.606Z"
   },
   {
    "duration": 22,
    "start_time": "2021-10-20T12:24:38.006Z"
   },
   {
    "duration": 16,
    "start_time": "2021-10-20T12:24:49.622Z"
   },
   {
    "duration": 16,
    "start_time": "2021-10-20T12:24:52.968Z"
   },
   {
    "duration": 3,
    "start_time": "2021-10-20T12:26:35.960Z"
   },
   {
    "duration": 200,
    "start_time": "2021-10-20T12:26:35.970Z"
   },
   {
    "duration": 16,
    "start_time": "2021-10-20T12:26:36.172Z"
   },
   {
    "duration": 46,
    "start_time": "2021-10-20T12:26:36.190Z"
   },
   {
    "duration": 18,
    "start_time": "2021-10-20T12:26:36.239Z"
   },
   {
    "duration": 33,
    "start_time": "2021-10-20T12:26:36.259Z"
   },
   {
    "duration": 6,
    "start_time": "2021-10-20T12:26:36.294Z"
   },
   {
    "duration": 37,
    "start_time": "2021-10-20T12:26:36.302Z"
   },
   {
    "duration": 52,
    "start_time": "2021-10-20T12:26:36.344Z"
   },
   {
    "duration": 29,
    "start_time": "2021-10-20T12:26:36.400Z"
   },
   {
    "duration": 103,
    "start_time": "2021-10-20T12:26:36.431Z"
   },
   {
    "duration": 109,
    "start_time": "2021-10-20T12:26:36.537Z"
   },
   {
    "duration": 95,
    "start_time": "2021-10-20T12:26:36.649Z"
   },
   {
    "duration": 60,
    "start_time": "2021-10-20T12:26:36.747Z"
   },
   {
    "duration": 50,
    "start_time": "2021-10-20T12:26:36.810Z"
   },
   {
    "duration": 60,
    "start_time": "2021-10-20T12:26:36.882Z"
   },
   {
    "duration": 74,
    "start_time": "2021-10-20T12:26:36.945Z"
   },
   {
    "duration": 4,
    "start_time": "2021-10-20T12:26:37.021Z"
   },
   {
    "duration": 34,
    "start_time": "2021-10-20T12:26:37.028Z"
   },
   {
    "duration": 64,
    "start_time": "2021-10-20T12:26:37.065Z"
   },
   {
    "duration": 69,
    "start_time": "2021-10-20T12:26:37.132Z"
   },
   {
    "duration": 14,
    "start_time": "2021-10-20T12:26:37.203Z"
   },
   {
    "duration": 14,
    "start_time": "2021-10-20T12:26:37.219Z"
   },
   {
    "duration": 4,
    "start_time": "2021-10-20T12:26:37.239Z"
   },
   {
    "duration": 58,
    "start_time": "2021-10-20T12:26:37.246Z"
   },
   {
    "duration": 17,
    "start_time": "2021-10-20T12:26:37.306Z"
   },
   {
    "duration": 18,
    "start_time": "2021-10-20T12:26:37.325Z"
   },
   {
    "duration": 46,
    "start_time": "2021-10-20T12:26:37.345Z"
   },
   {
    "duration": 19,
    "start_time": "2021-10-20T12:26:37.394Z"
   },
   {
    "duration": 17,
    "start_time": "2021-10-20T12:26:37.416Z"
   },
   {
    "duration": 12,
    "start_time": "2021-10-20T12:26:37.435Z"
   },
   {
    "duration": 61,
    "start_time": "2021-10-20T12:26:37.450Z"
   },
   {
    "duration": 14,
    "start_time": "2021-10-20T12:26:37.514Z"
   },
   {
    "duration": 9,
    "start_time": "2021-10-20T12:26:37.530Z"
   },
   {
    "duration": 43,
    "start_time": "2021-10-20T12:26:37.541Z"
   },
   {
    "duration": 30,
    "start_time": "2021-10-20T12:26:37.586Z"
   },
   {
    "duration": 18,
    "start_time": "2021-10-20T12:26:37.619Z"
   },
   {
    "duration": 51,
    "start_time": "2021-10-20T12:26:37.639Z"
   },
   {
    "duration": 22,
    "start_time": "2021-10-20T12:26:37.692Z"
   },
   {
    "duration": 4,
    "start_time": "2021-10-20T12:26:37.716Z"
   },
   {
    "duration": 8,
    "start_time": "2021-10-20T12:26:37.722Z"
   },
   {
    "duration": 5,
    "start_time": "2021-10-20T12:26:37.733Z"
   },
   {
    "duration": 47,
    "start_time": "2021-10-20T12:26:37.741Z"
   },
   {
    "duration": 12,
    "start_time": "2021-10-20T12:32:32.144Z"
   },
   {
    "duration": 12,
    "start_time": "2021-10-20T12:32:35.891Z"
   },
   {
    "duration": 14,
    "start_time": "2021-10-20T12:32:43.382Z"
   },
   {
    "duration": 282,
    "start_time": "2021-10-20T12:33:52.496Z"
   },
   {
    "duration": 254,
    "start_time": "2021-10-20T12:33:59.079Z"
   },
   {
    "duration": 25,
    "start_time": "2021-10-20T12:34:06.801Z"
   },
   {
    "duration": 12,
    "start_time": "2021-10-20T12:34:24.795Z"
   },
   {
    "duration": 288,
    "start_time": "2021-10-20T12:34:45.977Z"
   },
   {
    "duration": 8,
    "start_time": "2021-10-20T12:34:52.173Z"
   },
   {
    "duration": 10,
    "start_time": "2021-10-20T12:35:40.773Z"
   },
   {
    "duration": 7,
    "start_time": "2021-10-20T12:35:57.764Z"
   },
   {
    "duration": 4,
    "start_time": "2021-10-20T12:38:13.950Z"
   },
   {
    "duration": 190,
    "start_time": "2021-10-20T12:38:13.957Z"
   },
   {
    "duration": 16,
    "start_time": "2021-10-20T12:38:14.150Z"
   },
   {
    "duration": 42,
    "start_time": "2021-10-20T12:38:14.169Z"
   },
   {
    "duration": 5,
    "start_time": "2021-10-20T12:38:14.214Z"
   },
   {
    "duration": 22,
    "start_time": "2021-10-20T12:38:14.222Z"
   },
   {
    "duration": 5,
    "start_time": "2021-10-20T12:38:14.246Z"
   },
   {
    "duration": 55,
    "start_time": "2021-10-20T12:38:14.255Z"
   },
   {
    "duration": 22,
    "start_time": "2021-10-20T12:38:14.313Z"
   },
   {
    "duration": 61,
    "start_time": "2021-10-20T12:38:14.337Z"
   },
   {
    "duration": 87,
    "start_time": "2021-10-20T12:38:14.400Z"
   },
   {
    "duration": 104,
    "start_time": "2021-10-20T12:38:14.489Z"
   },
   {
    "duration": 72,
    "start_time": "2021-10-20T12:38:14.595Z"
   },
   {
    "duration": 56,
    "start_time": "2021-10-20T12:38:14.669Z"
   },
   {
    "duration": 64,
    "start_time": "2021-10-20T12:38:14.728Z"
   },
   {
    "duration": 54,
    "start_time": "2021-10-20T12:38:14.794Z"
   },
   {
    "duration": 75,
    "start_time": "2021-10-20T12:38:14.850Z"
   },
   {
    "duration": 6,
    "start_time": "2021-10-20T12:38:14.928Z"
   },
   {
    "duration": 17,
    "start_time": "2021-10-20T12:38:14.937Z"
   },
   {
    "duration": 81,
    "start_time": "2021-10-20T12:38:14.956Z"
   },
   {
    "duration": 70,
    "start_time": "2021-10-20T12:38:15.040Z"
   },
   {
    "duration": 14,
    "start_time": "2021-10-20T12:38:15.113Z"
   },
   {
    "duration": 15,
    "start_time": "2021-10-20T12:38:15.135Z"
   },
   {
    "duration": 34,
    "start_time": "2021-10-20T12:38:15.152Z"
   },
   {
    "duration": 32,
    "start_time": "2021-10-20T12:38:15.189Z"
   },
   {
    "duration": 17,
    "start_time": "2021-10-20T12:38:15.224Z"
   },
   {
    "duration": 41,
    "start_time": "2021-10-20T12:38:15.244Z"
   },
   {
    "duration": 19,
    "start_time": "2021-10-20T12:38:15.288Z"
   },
   {
    "duration": 24,
    "start_time": "2021-10-20T12:38:15.310Z"
   },
   {
    "duration": 55,
    "start_time": "2021-10-20T12:38:15.337Z"
   },
   {
    "duration": 12,
    "start_time": "2021-10-20T12:38:15.394Z"
   },
   {
    "duration": 37,
    "start_time": "2021-10-20T12:38:15.409Z"
   },
   {
    "duration": 40,
    "start_time": "2021-10-20T12:38:15.449Z"
   },
   {
    "duration": 10,
    "start_time": "2021-10-20T12:38:15.492Z"
   },
   {
    "duration": 6,
    "start_time": "2021-10-20T12:38:15.504Z"
   },
   {
    "duration": 35,
    "start_time": "2021-10-20T12:38:15.513Z"
   },
   {
    "duration": 46,
    "start_time": "2021-10-20T12:38:15.550Z"
   },
   {
    "duration": 21,
    "start_time": "2021-10-20T12:38:15.598Z"
   },
   {
    "duration": 21,
    "start_time": "2021-10-20T12:38:15.622Z"
   },
   {
    "duration": 48,
    "start_time": "2021-10-20T12:38:15.645Z"
   },
   {
    "duration": 8,
    "start_time": "2021-10-20T12:38:15.696Z"
   },
   {
    "duration": 13,
    "start_time": "2021-10-20T12:38:15.707Z"
   },
   {
    "duration": 7,
    "start_time": "2021-10-20T12:38:15.723Z"
   },
   {
    "duration": 9341,
    "start_time": "2021-10-20T12:39:17.163Z"
   },
   {
    "duration": 9338,
    "start_time": "2021-10-20T12:39:30.793Z"
   },
   {
    "duration": 9335,
    "start_time": "2021-10-20T12:39:30.798Z"
   },
   {
    "duration": 9333,
    "start_time": "2021-10-20T12:39:30.801Z"
   },
   {
    "duration": 9333,
    "start_time": "2021-10-20T12:39:30.803Z"
   },
   {
    "duration": 9332,
    "start_time": "2021-10-20T12:39:30.805Z"
   },
   {
    "duration": 9331,
    "start_time": "2021-10-20T12:39:30.808Z"
   },
   {
    "duration": 9330,
    "start_time": "2021-10-20T12:39:30.811Z"
   },
   {
    "duration": 9330,
    "start_time": "2021-10-20T12:39:30.812Z"
   },
   {
    "duration": 9330,
    "start_time": "2021-10-20T12:39:30.814Z"
   },
   {
    "duration": 9328,
    "start_time": "2021-10-20T12:39:30.818Z"
   },
   {
    "duration": 9326,
    "start_time": "2021-10-20T12:39:30.821Z"
   },
   {
    "duration": 9326,
    "start_time": "2021-10-20T12:39:30.823Z"
   },
   {
    "duration": 9326,
    "start_time": "2021-10-20T12:39:30.825Z"
   },
   {
    "duration": 9323,
    "start_time": "2021-10-20T12:39:30.829Z"
   },
   {
    "duration": 9323,
    "start_time": "2021-10-20T12:39:30.831Z"
   },
   {
    "duration": 9323,
    "start_time": "2021-10-20T12:39:30.832Z"
   },
   {
    "duration": 9323,
    "start_time": "2021-10-20T12:39:30.834Z"
   },
   {
    "duration": 9321,
    "start_time": "2021-10-20T12:39:30.837Z"
   },
   {
    "duration": 9318,
    "start_time": "2021-10-20T12:39:30.841Z"
   },
   {
    "duration": 9314,
    "start_time": "2021-10-20T12:39:30.846Z"
   },
   {
    "duration": 9312,
    "start_time": "2021-10-20T12:39:30.850Z"
   },
   {
    "duration": 9308,
    "start_time": "2021-10-20T12:39:30.855Z"
   },
   {
    "duration": 9307,
    "start_time": "2021-10-20T12:39:30.857Z"
   },
   {
    "duration": 9304,
    "start_time": "2021-10-20T12:39:30.861Z"
   },
   {
    "duration": 9302,
    "start_time": "2021-10-20T12:39:30.865Z"
   },
   {
    "duration": 9313,
    "start_time": "2021-10-20T12:39:30.869Z"
   },
   {
    "duration": 9302,
    "start_time": "2021-10-20T12:39:30.881Z"
   },
   {
    "duration": 9296,
    "start_time": "2021-10-20T12:39:30.889Z"
   },
   {
    "duration": 9295,
    "start_time": "2021-10-20T12:39:30.891Z"
   },
   {
    "duration": 9294,
    "start_time": "2021-10-20T12:39:30.893Z"
   },
   {
    "duration": 9293,
    "start_time": "2021-10-20T12:39:30.895Z"
   },
   {
    "duration": 9285,
    "start_time": "2021-10-20T12:39:30.905Z"
   },
   {
    "duration": 9278,
    "start_time": "2021-10-20T12:39:30.913Z"
   },
   {
    "duration": 9278,
    "start_time": "2021-10-20T12:39:30.914Z"
   },
   {
    "duration": 9278,
    "start_time": "2021-10-20T12:39:30.916Z"
   },
   {
    "duration": 9265,
    "start_time": "2021-10-20T12:39:30.930Z"
   },
   {
    "duration": 9265,
    "start_time": "2021-10-20T12:39:30.931Z"
   },
   {
    "duration": 9264,
    "start_time": "2021-10-20T12:39:30.933Z"
   },
   {
    "duration": 9251,
    "start_time": "2021-10-20T12:39:30.947Z"
   },
   {
    "duration": 9251,
    "start_time": "2021-10-20T12:39:30.949Z"
   },
   {
    "duration": 9251,
    "start_time": "2021-10-20T12:39:30.950Z"
   },
   {
    "duration": 9248,
    "start_time": "2021-10-20T12:39:30.954Z"
   },
   {
    "duration": 9241,
    "start_time": "2021-10-20T12:39:30.962Z"
   },
   {
    "duration": 9241,
    "start_time": "2021-10-20T12:39:30.964Z"
   },
   {
    "duration": 19,
    "start_time": "2021-10-20T12:39:48.348Z"
   },
   {
    "duration": 30,
    "start_time": "2021-10-20T12:39:51.246Z"
   },
   {
    "duration": 7624,
    "start_time": "2021-10-20T12:39:53.460Z"
   },
   {
    "duration": 6769,
    "start_time": "2021-10-20T12:40:05.628Z"
   },
   {
    "duration": 6534,
    "start_time": "2021-10-20T12:40:14.936Z"
   },
   {
    "duration": 4,
    "start_time": "2021-10-20T12:41:50.893Z"
   },
   {
    "duration": 190,
    "start_time": "2021-10-20T12:41:50.901Z"
   },
   {
    "duration": 15,
    "start_time": "2021-10-20T12:41:51.094Z"
   },
   {
    "duration": 39,
    "start_time": "2021-10-20T12:41:51.112Z"
   },
   {
    "duration": 30,
    "start_time": "2021-10-20T12:41:51.154Z"
   },
   {
    "duration": 13,
    "start_time": "2021-10-20T12:41:51.186Z"
   },
   {
    "duration": 34,
    "start_time": "2021-10-20T12:41:51.201Z"
   },
   {
    "duration": 5,
    "start_time": "2021-10-20T12:41:51.237Z"
   },
   {
    "duration": 41,
    "start_time": "2021-10-20T12:41:51.246Z"
   },
   {
    "duration": 19,
    "start_time": "2021-10-20T12:41:51.290Z"
   },
   {
    "duration": 32,
    "start_time": "2021-10-20T12:41:51.312Z"
   },
   {
    "duration": 103,
    "start_time": "2021-10-20T12:41:51.347Z"
   },
   {
    "duration": 99,
    "start_time": "2021-10-20T12:41:51.452Z"
   },
   {
    "duration": 78,
    "start_time": "2021-10-20T12:41:51.554Z"
   },
   {
    "duration": 56,
    "start_time": "2021-10-20T12:41:51.635Z"
   },
   {
    "duration": 48,
    "start_time": "2021-10-20T12:41:51.693Z"
   },
   {
    "duration": 76,
    "start_time": "2021-10-20T12:41:51.744Z"
   },
   {
    "duration": 69,
    "start_time": "2021-10-20T12:41:51.822Z"
   },
   {
    "duration": 5,
    "start_time": "2021-10-20T12:41:51.893Z"
   },
   {
    "duration": 18,
    "start_time": "2021-10-20T12:41:51.900Z"
   },
   {
    "duration": 78,
    "start_time": "2021-10-20T12:41:51.921Z"
   },
   {
    "duration": 57,
    "start_time": "2021-10-20T12:41:52.001Z"
   },
   {
    "duration": 35,
    "start_time": "2021-10-20T12:41:52.060Z"
   },
   {
    "duration": 14,
    "start_time": "2021-10-20T12:41:52.098Z"
   },
   {
    "duration": 5,
    "start_time": "2021-10-20T12:41:52.115Z"
   },
   {
    "duration": 27,
    "start_time": "2021-10-20T12:41:52.122Z"
   },
   {
    "duration": 20,
    "start_time": "2021-10-20T12:41:52.186Z"
   },
   {
    "duration": 29,
    "start_time": "2021-10-20T12:41:52.209Z"
   },
   {
    "duration": 18,
    "start_time": "2021-10-20T12:41:52.241Z"
   },
   {
    "duration": 43,
    "start_time": "2021-10-20T12:41:52.262Z"
   },
   {
    "duration": 19,
    "start_time": "2021-10-20T12:41:52.307Z"
   },
   {
    "duration": 12,
    "start_time": "2021-10-20T12:41:52.328Z"
   },
   {
    "duration": 58,
    "start_time": "2021-10-20T12:41:52.343Z"
   },
   {
    "duration": 14,
    "start_time": "2021-10-20T12:41:52.403Z"
   },
   {
    "duration": 14,
    "start_time": "2021-10-20T12:41:52.420Z"
   },
   {
    "duration": 11,
    "start_time": "2021-10-20T12:41:52.437Z"
   },
   {
    "duration": 51,
    "start_time": "2021-10-20T12:41:52.450Z"
   },
   {
    "duration": 18,
    "start_time": "2021-10-20T12:41:52.503Z"
   },
   {
    "duration": 25,
    "start_time": "2021-10-20T12:41:52.523Z"
   },
   {
    "duration": 46,
    "start_time": "2021-10-20T12:41:52.551Z"
   },
   {
    "duration": 12,
    "start_time": "2021-10-20T12:41:52.600Z"
   },
   {
    "duration": 6,
    "start_time": "2021-10-20T12:41:52.614Z"
   },
   {
    "duration": 10,
    "start_time": "2021-10-20T12:41:52.623Z"
   },
   {
    "duration": 10,
    "start_time": "2021-10-20T12:41:52.635Z"
   },
   {
    "duration": 6351,
    "start_time": "2021-10-20T12:42:07.678Z"
   },
   {
    "duration": 3,
    "start_time": "2021-10-20T12:42:37.471Z"
   },
   {
    "duration": 177,
    "start_time": "2021-10-20T12:42:38.349Z"
   },
   {
    "duration": 16,
    "start_time": "2021-10-20T12:42:39.207Z"
   },
   {
    "duration": 31,
    "start_time": "2021-10-20T12:42:45.303Z"
   },
   {
    "duration": 13,
    "start_time": "2021-10-20T12:43:24.459Z"
   },
   {
    "duration": 13,
    "start_time": "2021-10-20T12:44:56.718Z"
   },
   {
    "duration": 5997,
    "start_time": "2021-10-20T12:45:08.425Z"
   },
   {
    "duration": 261,
    "start_time": "2021-10-20T12:45:49.305Z"
   },
   {
    "duration": 50,
    "start_time": "2021-10-20T12:46:35.187Z"
   },
   {
    "duration": 28,
    "start_time": "2021-10-20T12:46:56.328Z"
   },
   {
    "duration": 13,
    "start_time": "2021-10-20T12:48:08.562Z"
   },
   {
    "duration": 20,
    "start_time": "2021-10-20T12:48:15.758Z"
   },
   {
    "duration": 6088,
    "start_time": "2021-10-20T12:48:50.766Z"
   },
   {
    "duration": 4,
    "start_time": "2021-10-20T12:49:00.397Z"
   },
   {
    "duration": 224,
    "start_time": "2021-10-20T12:49:00.404Z"
   },
   {
    "duration": 21,
    "start_time": "2021-10-20T12:49:00.631Z"
   },
   {
    "duration": 54,
    "start_time": "2021-10-20T12:49:00.655Z"
   },
   {
    "duration": 31,
    "start_time": "2021-10-20T12:49:00.711Z"
   },
   {
    "duration": 60,
    "start_time": "2021-10-20T12:49:00.745Z"
   },
   {
    "duration": 14,
    "start_time": "2021-10-20T12:49:00.808Z"
   },
   {
    "duration": 64,
    "start_time": "2021-10-20T12:49:00.826Z"
   },
   {
    "duration": 51,
    "start_time": "2021-10-20T12:49:00.893Z"
   },
   {
    "duration": 53,
    "start_time": "2021-10-20T12:49:00.946Z"
   },
   {
    "duration": 103,
    "start_time": "2021-10-20T12:49:01.001Z"
   },
   {
    "duration": 106,
    "start_time": "2021-10-20T12:49:01.106Z"
   },
   {
    "duration": 89,
    "start_time": "2021-10-20T12:49:01.215Z"
   },
   {
    "duration": 50,
    "start_time": "2021-10-20T12:49:01.307Z"
   },
   {
    "duration": 69,
    "start_time": "2021-10-20T12:49:01.360Z"
   },
   {
    "duration": 72,
    "start_time": "2021-10-20T12:49:01.432Z"
   },
   {
    "duration": 63,
    "start_time": "2021-10-20T12:49:01.507Z"
   },
   {
    "duration": 6,
    "start_time": "2021-10-20T12:49:01.582Z"
   },
   {
    "duration": 28,
    "start_time": "2021-10-20T12:49:01.591Z"
   },
   {
    "duration": 65,
    "start_time": "2021-10-20T12:49:01.622Z"
   },
   {
    "duration": 57,
    "start_time": "2021-10-20T12:49:01.690Z"
   },
   {
    "duration": 7013,
    "start_time": "2021-10-20T12:49:01.750Z"
   },
   {
    "duration": 9339,
    "start_time": "2021-10-20T12:48:59.428Z"
   },
   {
    "duration": 9338,
    "start_time": "2021-10-20T12:48:59.430Z"
   },
   {
    "duration": 9338,
    "start_time": "2021-10-20T12:48:59.432Z"
   },
   {
    "duration": 9338,
    "start_time": "2021-10-20T12:48:59.433Z"
   },
   {
    "duration": 9338,
    "start_time": "2021-10-20T12:48:59.435Z"
   },
   {
    "duration": 9336,
    "start_time": "2021-10-20T12:48:59.438Z"
   },
   {
    "duration": 9336,
    "start_time": "2021-10-20T12:48:59.440Z"
   },
   {
    "duration": 9336,
    "start_time": "2021-10-20T12:48:59.441Z"
   },
   {
    "duration": 9332,
    "start_time": "2021-10-20T12:48:59.446Z"
   },
   {
    "duration": 9333,
    "start_time": "2021-10-20T12:48:59.447Z"
   },
   {
    "duration": 9332,
    "start_time": "2021-10-20T12:48:59.449Z"
   },
   {
    "duration": 9333,
    "start_time": "2021-10-20T12:48:59.450Z"
   },
   {
    "duration": 9329,
    "start_time": "2021-10-20T12:48:59.455Z"
   },
   {
    "duration": 9329,
    "start_time": "2021-10-20T12:48:59.457Z"
   },
   {
    "duration": 9329,
    "start_time": "2021-10-20T12:48:59.458Z"
   },
   {
    "duration": 9325,
    "start_time": "2021-10-20T12:48:59.464Z"
   },
   {
    "duration": 9325,
    "start_time": "2021-10-20T12:48:59.465Z"
   },
   {
    "duration": 9324,
    "start_time": "2021-10-20T12:48:59.467Z"
   },
   {
    "duration": 9324,
    "start_time": "2021-10-20T12:48:59.469Z"
   },
   {
    "duration": 9323,
    "start_time": "2021-10-20T12:48:59.471Z"
   },
   {
    "duration": 9322,
    "start_time": "2021-10-20T12:48:59.473Z"
   },
   {
    "duration": 9322,
    "start_time": "2021-10-20T12:48:59.475Z"
   },
   {
    "duration": 9319,
    "start_time": "2021-10-20T12:48:59.479Z"
   },
   {
    "duration": 7137,
    "start_time": "2021-10-20T12:49:21.005Z"
   },
   {
    "duration": 15,
    "start_time": "2021-10-20T12:49:35.038Z"
   },
   {
    "duration": 111,
    "start_time": "2021-10-20T12:49:42.088Z"
   },
   {
    "duration": 12,
    "start_time": "2021-10-20T12:49:57.279Z"
   },
   {
    "duration": 94,
    "start_time": "2021-10-20T12:50:00.826Z"
   },
   {
    "duration": 12,
    "start_time": "2021-10-20T12:50:04.523Z"
   },
   {
    "duration": 2817,
    "start_time": "2021-10-20T12:50:25.304Z"
   },
   {
    "duration": 16,
    "start_time": "2021-10-20T12:51:04.500Z"
   },
   {
    "duration": 13,
    "start_time": "2021-10-20T12:51:23.837Z"
   },
   {
    "duration": 13,
    "start_time": "2021-10-20T12:51:33.604Z"
   },
   {
    "duration": 4,
    "start_time": "2021-10-20T12:51:38.072Z"
   },
   {
    "duration": 213,
    "start_time": "2021-10-20T12:51:38.080Z"
   },
   {
    "duration": 16,
    "start_time": "2021-10-20T12:51:38.297Z"
   },
   {
    "duration": 46,
    "start_time": "2021-10-20T12:51:38.317Z"
   },
   {
    "duration": 18,
    "start_time": "2021-10-20T12:51:38.366Z"
   },
   {
    "duration": 34,
    "start_time": "2021-10-20T12:51:38.387Z"
   },
   {
    "duration": 7,
    "start_time": "2021-10-20T12:51:38.424Z"
   },
   {
    "duration": 58,
    "start_time": "2021-10-20T12:51:38.433Z"
   },
   {
    "duration": 26,
    "start_time": "2021-10-20T12:51:38.496Z"
   },
   {
    "duration": 30,
    "start_time": "2021-10-20T12:51:38.525Z"
   },
   {
    "duration": 109,
    "start_time": "2021-10-20T12:51:38.558Z"
   },
   {
    "duration": 100,
    "start_time": "2021-10-20T12:51:38.669Z"
   },
   {
    "duration": 74,
    "start_time": "2021-10-20T12:51:38.783Z"
   },
   {
    "duration": 66,
    "start_time": "2021-10-20T12:51:38.860Z"
   },
   {
    "duration": 62,
    "start_time": "2021-10-20T12:51:38.929Z"
   },
   {
    "duration": 57,
    "start_time": "2021-10-20T12:51:38.994Z"
   },
   {
    "duration": 71,
    "start_time": "2021-10-20T12:51:39.054Z"
   },
   {
    "duration": 5,
    "start_time": "2021-10-20T12:51:39.128Z"
   },
   {
    "duration": 25,
    "start_time": "2021-10-20T12:51:39.136Z"
   },
   {
    "duration": 75,
    "start_time": "2021-10-20T12:51:39.164Z"
   },
   {
    "duration": 79,
    "start_time": "2021-10-20T12:51:39.242Z"
   },
   {
    "duration": 21,
    "start_time": "2021-10-20T12:51:39.325Z"
   },
   {
    "duration": 17,
    "start_time": "2021-10-20T12:51:39.349Z"
   },
   {
    "duration": 14,
    "start_time": "2021-10-20T12:51:39.383Z"
   },
   {
    "duration": 24,
    "start_time": "2021-10-20T12:51:39.400Z"
   },
   {
    "duration": 17,
    "start_time": "2021-10-20T12:51:39.427Z"
   },
   {
    "duration": 4,
    "start_time": "2021-10-20T12:51:39.482Z"
   },
   {
    "duration": 30,
    "start_time": "2021-10-20T12:51:39.489Z"
   },
   {
    "duration": 21,
    "start_time": "2021-10-20T12:51:39.521Z"
   },
   {
    "duration": 48,
    "start_time": "2021-10-20T12:51:39.544Z"
   },
   {
    "duration": 19,
    "start_time": "2021-10-20T12:51:39.594Z"
   },
   {
    "duration": 21,
    "start_time": "2021-10-20T12:51:39.615Z"
   },
   {
    "duration": 52,
    "start_time": "2021-10-20T12:51:39.638Z"
   },
   {
    "duration": 12,
    "start_time": "2021-10-20T12:51:39.692Z"
   },
   {
    "duration": 35,
    "start_time": "2021-10-20T12:51:39.707Z"
   },
   {
    "duration": 41,
    "start_time": "2021-10-20T12:51:39.745Z"
   },
   {
    "duration": 10,
    "start_time": "2021-10-20T12:51:39.789Z"
   },
   {
    "duration": 6,
    "start_time": "2021-10-20T12:51:39.801Z"
   },
   {
    "duration": 32,
    "start_time": "2021-10-20T12:51:39.810Z"
   },
   {
    "duration": 49,
    "start_time": "2021-10-20T12:51:39.844Z"
   },
   {
    "duration": 21,
    "start_time": "2021-10-20T12:51:39.895Z"
   },
   {
    "duration": 16,
    "start_time": "2021-10-20T12:51:39.918Z"
   },
   {
    "duration": 11,
    "start_time": "2021-10-20T12:51:39.936Z"
   },
   {
    "duration": 39,
    "start_time": "2021-10-20T12:51:39.949Z"
   },
   {
    "duration": 11,
    "start_time": "2021-10-20T12:51:39.991Z"
   },
   {
    "duration": 9,
    "start_time": "2021-10-20T12:51:40.005Z"
   },
   {
    "duration": 13,
    "start_time": "2021-10-20T12:52:19.578Z"
   },
   {
    "duration": 25,
    "start_time": "2021-10-20T12:52:27.240Z"
   },
   {
    "duration": 25,
    "start_time": "2021-10-20T12:52:40.658Z"
   },
   {
    "duration": 26,
    "start_time": "2021-10-20T12:52:53.130Z"
   },
   {
    "duration": 26,
    "start_time": "2021-10-20T12:52:58.763Z"
   },
   {
    "duration": 24,
    "start_time": "2021-10-20T12:53:22.976Z"
   },
   {
    "duration": 18,
    "start_time": "2021-10-20T12:53:29.925Z"
   },
   {
    "duration": 16,
    "start_time": "2021-10-20T12:53:35.945Z"
   },
   {
    "duration": 18,
    "start_time": "2021-10-20T12:53:38.447Z"
   },
   {
    "duration": 21,
    "start_time": "2021-10-20T12:54:34.419Z"
   },
   {
    "duration": 248,
    "start_time": "2021-10-20T12:57:37.762Z"
   },
   {
    "duration": 44,
    "start_time": "2021-10-20T12:57:46.860Z"
   },
   {
    "duration": 40,
    "start_time": "2021-10-20T12:58:06.368Z"
   },
   {
    "duration": 19,
    "start_time": "2021-10-20T12:58:51.181Z"
   },
   {
    "duration": 253,
    "start_time": "2021-10-20T12:59:02.013Z"
   },
   {
    "duration": 256,
    "start_time": "2021-10-20T12:59:14.777Z"
   },
   {
    "duration": 265,
    "start_time": "2021-10-20T12:59:19.529Z"
   },
   {
    "duration": 376,
    "start_time": "2021-10-20T12:59:29.057Z"
   },
   {
    "duration": 22,
    "start_time": "2021-10-20T12:59:38.370Z"
   },
   {
    "duration": 342,
    "start_time": "2021-10-20T13:04:25.934Z"
   },
   {
    "duration": 4,
    "start_time": "2021-10-20T13:04:34.837Z"
   },
   {
    "duration": 6792,
    "start_time": "2021-10-20T13:04:37.609Z"
   },
   {
    "duration": 5,
    "start_time": "2021-10-20T13:05:46.175Z"
   },
   {
    "duration": 4,
    "start_time": "2021-10-20T13:06:00.588Z"
   },
   {
    "duration": 224,
    "start_time": "2021-10-20T13:06:00.595Z"
   },
   {
    "duration": 16,
    "start_time": "2021-10-20T13:06:00.822Z"
   },
   {
    "duration": 53,
    "start_time": "2021-10-20T13:06:00.841Z"
   },
   {
    "duration": 21,
    "start_time": "2021-10-20T13:06:00.897Z"
   },
   {
    "duration": 64,
    "start_time": "2021-10-20T13:06:00.920Z"
   },
   {
    "duration": 14,
    "start_time": "2021-10-20T13:06:00.987Z"
   },
   {
    "duration": 57,
    "start_time": "2021-10-20T13:06:01.003Z"
   },
   {
    "duration": 43,
    "start_time": "2021-10-20T13:06:01.065Z"
   },
   {
    "duration": 42,
    "start_time": "2021-10-20T13:06:01.111Z"
   },
   {
    "duration": 100,
    "start_time": "2021-10-20T13:06:01.156Z"
   },
   {
    "duration": 99,
    "start_time": "2021-10-20T13:06:01.259Z"
   },
   {
    "duration": 92,
    "start_time": "2021-10-20T13:06:01.360Z"
   },
   {
    "duration": 58,
    "start_time": "2021-10-20T13:06:01.455Z"
   },
   {
    "duration": 61,
    "start_time": "2021-10-20T13:06:01.515Z"
   },
   {
    "duration": 59,
    "start_time": "2021-10-20T13:06:01.582Z"
   },
   {
    "duration": 70,
    "start_time": "2021-10-20T13:06:01.643Z"
   },
   {
    "duration": 26,
    "start_time": "2021-10-20T13:06:01.715Z"
   },
   {
    "duration": 30,
    "start_time": "2021-10-20T13:06:01.744Z"
   },
   {
    "duration": 71,
    "start_time": "2021-10-20T13:06:01.776Z"
   },
   {
    "duration": 70,
    "start_time": "2021-10-20T13:06:01.850Z"
   },
   {
    "duration": 28,
    "start_time": "2021-10-20T13:06:01.922Z"
   },
   {
    "duration": 27,
    "start_time": "2021-10-20T13:06:01.953Z"
   },
   {
    "duration": 31,
    "start_time": "2021-10-20T13:06:01.982Z"
   },
   {
    "duration": 32,
    "start_time": "2021-10-20T13:06:02.016Z"
   },
   {
    "duration": 29,
    "start_time": "2021-10-20T13:06:02.051Z"
   },
   {
    "duration": 22,
    "start_time": "2021-10-20T13:06:02.085Z"
   },
   {
    "duration": 17,
    "start_time": "2021-10-20T13:06:02.110Z"
   },
   {
    "duration": 49,
    "start_time": "2021-10-20T13:06:02.130Z"
   },
   {
    "duration": 46,
    "start_time": "2021-10-20T13:06:02.182Z"
   },
   {
    "duration": 28,
    "start_time": "2021-10-20T13:06:02.231Z"
   },
   {
    "duration": 27,
    "start_time": "2021-10-20T13:06:02.262Z"
   },
   {
    "duration": 30,
    "start_time": "2021-10-20T13:06:02.292Z"
   },
   {
    "duration": 21,
    "start_time": "2021-10-20T13:06:02.325Z"
   },
   {
    "duration": 30,
    "start_time": "2021-10-20T13:06:02.348Z"
   },
   {
    "duration": 49,
    "start_time": "2021-10-20T13:06:02.382Z"
   },
   {
    "duration": 13,
    "start_time": "2021-10-20T13:06:02.434Z"
   },
   {
    "duration": 23,
    "start_time": "2021-10-20T13:06:02.450Z"
   },
   {
    "duration": 8,
    "start_time": "2021-10-20T13:06:02.476Z"
   },
   {
    "duration": 45,
    "start_time": "2021-10-20T13:06:02.487Z"
   },
   {
    "duration": 25,
    "start_time": "2021-10-20T13:06:02.535Z"
   },
   {
    "duration": 31,
    "start_time": "2021-10-20T13:06:02.563Z"
   },
   {
    "duration": 17,
    "start_time": "2021-10-20T13:06:02.597Z"
   },
   {
    "duration": 12,
    "start_time": "2021-10-20T13:06:02.617Z"
   },
   {
    "duration": 16,
    "start_time": "2021-10-20T13:06:02.632Z"
   },
   {
    "duration": 38,
    "start_time": "2021-10-20T13:06:02.650Z"
   },
   {
    "duration": 8,
    "start_time": "2021-10-20T13:06:02.691Z"
   },
   {
    "duration": 4,
    "start_time": "2021-10-20T13:06:18.754Z"
   },
   {
    "duration": 13,
    "start_time": "2021-10-20T13:06:19.718Z"
   },
   {
    "duration": 3,
    "start_time": "2021-10-20T13:06:24.929Z"
   },
   {
    "duration": 223,
    "start_time": "2021-10-20T13:06:24.935Z"
   },
   {
    "duration": 21,
    "start_time": "2021-10-20T13:06:25.161Z"
   },
   {
    "duration": 46,
    "start_time": "2021-10-20T13:06:25.185Z"
   },
   {
    "duration": 52,
    "start_time": "2021-10-20T13:06:25.234Z"
   },
   {
    "duration": 36,
    "start_time": "2021-10-20T13:06:25.289Z"
   },
   {
    "duration": 15,
    "start_time": "2021-10-20T13:06:25.328Z"
   },
   {
    "duration": 50,
    "start_time": "2021-10-20T13:06:25.347Z"
   },
   {
    "duration": 28,
    "start_time": "2021-10-20T13:06:25.400Z"
   },
   {
    "duration": 37,
    "start_time": "2021-10-20T13:06:25.430Z"
   },
   {
    "duration": 95,
    "start_time": "2021-10-20T13:06:25.470Z"
   },
   {
    "duration": 99,
    "start_time": "2021-10-20T13:06:25.568Z"
   },
   {
    "duration": 79,
    "start_time": "2021-10-20T13:06:25.669Z"
   },
   {
    "duration": 62,
    "start_time": "2021-10-20T13:06:25.750Z"
   },
   {
    "duration": 69,
    "start_time": "2021-10-20T13:06:25.815Z"
   },
   {
    "duration": 58,
    "start_time": "2021-10-20T13:06:25.886Z"
   },
   {
    "duration": 74,
    "start_time": "2021-10-20T13:06:25.947Z"
   },
   {
    "duration": 11,
    "start_time": "2021-10-20T13:06:26.024Z"
   },
   {
    "duration": 22,
    "start_time": "2021-10-20T13:06:26.038Z"
   },
   {
    "duration": 86,
    "start_time": "2021-10-20T13:06:26.062Z"
   },
   {
    "duration": 60,
    "start_time": "2021-10-20T13:06:26.151Z"
   },
   {
    "duration": 12,
    "start_time": "2021-10-20T13:06:26.214Z"
   },
   {
    "duration": 14,
    "start_time": "2021-10-20T13:06:26.231Z"
   },
   {
    "duration": 34,
    "start_time": "2021-10-20T13:06:26.248Z"
   },
   {
    "duration": 14,
    "start_time": "2021-10-20T13:06:26.284Z"
   },
   {
    "duration": 21,
    "start_time": "2021-10-20T13:06:26.301Z"
   },
   {
    "duration": 26,
    "start_time": "2021-10-20T13:06:26.325Z"
   },
   {
    "duration": 5,
    "start_time": "2021-10-20T13:06:26.354Z"
   },
   {
    "duration": 52,
    "start_time": "2021-10-20T13:06:26.361Z"
   },
   {
    "duration": 20,
    "start_time": "2021-10-20T13:06:26.416Z"
   },
   {
    "duration": 24,
    "start_time": "2021-10-20T13:06:26.439Z"
   },
   {
    "duration": 27,
    "start_time": "2021-10-20T13:06:26.466Z"
   },
   {
    "duration": 34,
    "start_time": "2021-10-20T13:06:26.496Z"
   },
   {
    "duration": 25,
    "start_time": "2021-10-20T13:06:26.534Z"
   },
   {
    "duration": 29,
    "start_time": "2021-10-20T13:06:26.562Z"
   },
   {
    "duration": 53,
    "start_time": "2021-10-20T13:06:26.594Z"
   },
   {
    "duration": 33,
    "start_time": "2021-10-20T13:06:26.650Z"
   },
   {
    "duration": 10,
    "start_time": "2021-10-20T13:06:26.685Z"
   },
   {
    "duration": 16,
    "start_time": "2021-10-20T13:06:26.697Z"
   },
   {
    "duration": 56,
    "start_time": "2021-10-20T13:06:26.715Z"
   },
   {
    "duration": 23,
    "start_time": "2021-10-20T13:06:26.774Z"
   },
   {
    "duration": 34,
    "start_time": "2021-10-20T13:06:26.799Z"
   },
   {
    "duration": 17,
    "start_time": "2021-10-20T13:06:26.837Z"
   },
   {
    "duration": 27,
    "start_time": "2021-10-20T13:06:26.857Z"
   },
   {
    "duration": 9,
    "start_time": "2021-10-20T13:06:26.886Z"
   },
   {
    "duration": 19,
    "start_time": "2021-10-20T13:06:26.898Z"
   },
   {
    "duration": 16,
    "start_time": "2021-10-20T13:06:26.919Z"
   },
   {
    "duration": 4,
    "start_time": "2021-10-20T13:07:00.869Z"
   },
   {
    "duration": 5,
    "start_time": "2021-10-20T13:07:19.005Z"
   },
   {
    "duration": 13,
    "start_time": "2021-10-20T13:07:20.877Z"
   },
   {
    "duration": 14,
    "start_time": "2021-10-20T13:07:27.054Z"
   },
   {
    "duration": 12,
    "start_time": "2021-10-20T13:07:31.675Z"
   },
   {
    "duration": 12,
    "start_time": "2021-10-20T13:07:47.979Z"
   },
   {
    "duration": 4,
    "start_time": "2021-10-20T13:07:59.534Z"
   },
   {
    "duration": 14,
    "start_time": "2021-10-20T13:08:09.521Z"
   },
   {
    "duration": 13,
    "start_time": "2021-10-20T13:08:11.379Z"
   },
   {
    "duration": 17,
    "start_time": "2021-10-20T13:08:18.449Z"
   },
   {
    "duration": 4,
    "start_time": "2021-10-20T13:08:21.081Z"
   },
   {
    "duration": 26,
    "start_time": "2021-10-20T13:09:01.520Z"
   },
   {
    "duration": 41,
    "start_time": "2021-10-20T13:09:47.775Z"
   },
   {
    "duration": 42,
    "start_time": "2021-10-20T13:16:04.673Z"
   },
   {
    "duration": 6,
    "start_time": "2021-10-20T13:16:11.651Z"
   },
   {
    "duration": 32,
    "start_time": "2021-10-20T13:17:28.520Z"
   },
   {
    "duration": 58,
    "start_time": "2021-10-20T13:17:39.928Z"
   },
   {
    "duration": 57,
    "start_time": "2021-10-20T13:17:48.165Z"
   },
   {
    "duration": 61,
    "start_time": "2021-10-20T13:17:52.497Z"
   },
   {
    "duration": 72,
    "start_time": "2021-10-20T13:18:05.648Z"
   },
   {
    "duration": 217,
    "start_time": "2021-10-20T13:22:45.490Z"
   },
   {
    "duration": 226,
    "start_time": "2021-10-20T13:23:22.890Z"
   },
   {
    "duration": 232,
    "start_time": "2021-10-20T13:24:44.010Z"
   },
   {
    "duration": 239,
    "start_time": "2021-10-20T13:25:19.047Z"
   },
   {
    "duration": 97,
    "start_time": "2021-10-20T13:26:04.799Z"
   },
   {
    "duration": 220,
    "start_time": "2021-10-20T13:26:38.711Z"
   },
   {
    "duration": 105,
    "start_time": "2021-10-20T13:27:18.602Z"
   },
   {
    "duration": 249,
    "start_time": "2021-10-20T13:27:23.955Z"
   },
   {
    "duration": 230,
    "start_time": "2021-10-20T13:27:46.301Z"
   },
   {
    "duration": 428,
    "start_time": "2021-10-20T13:29:14.940Z"
   },
   {
    "duration": 410,
    "start_time": "2021-10-20T13:29:58.099Z"
   },
   {
    "duration": 6,
    "start_time": "2021-10-20T13:31:21.515Z"
   },
   {
    "duration": 248,
    "start_time": "2021-10-20T13:31:46.574Z"
   },
   {
    "duration": 4,
    "start_time": "2021-10-20T13:31:53.269Z"
   },
   {
    "duration": 213,
    "start_time": "2021-10-20T13:31:53.275Z"
   },
   {
    "duration": 16,
    "start_time": "2021-10-20T13:31:53.491Z"
   },
   {
    "duration": 39,
    "start_time": "2021-10-20T13:31:53.510Z"
   },
   {
    "duration": 6,
    "start_time": "2021-10-20T13:31:53.552Z"
   },
   {
    "duration": 19,
    "start_time": "2021-10-20T13:31:53.583Z"
   },
   {
    "duration": 5,
    "start_time": "2021-10-20T13:31:53.604Z"
   },
   {
    "duration": 42,
    "start_time": "2021-10-20T13:31:53.611Z"
   },
   {
    "duration": 25,
    "start_time": "2021-10-20T13:31:53.685Z"
   },
   {
    "duration": 35,
    "start_time": "2021-10-20T13:31:53.713Z"
   },
   {
    "duration": 106,
    "start_time": "2021-10-20T13:31:53.751Z"
   },
   {
    "duration": 112,
    "start_time": "2021-10-20T13:31:53.859Z"
   },
   {
    "duration": 82,
    "start_time": "2021-10-20T13:31:53.973Z"
   },
   {
    "duration": 63,
    "start_time": "2021-10-20T13:31:54.058Z"
   },
   {
    "duration": 63,
    "start_time": "2021-10-20T13:31:54.124Z"
   },
   {
    "duration": 55,
    "start_time": "2021-10-20T13:31:54.189Z"
   },
   {
    "duration": 78,
    "start_time": "2021-10-20T13:31:54.246Z"
   },
   {
    "duration": 4,
    "start_time": "2021-10-20T13:31:54.327Z"
   },
   {
    "duration": 18,
    "start_time": "2021-10-20T13:31:54.334Z"
   },
   {
    "duration": 78,
    "start_time": "2021-10-20T13:31:54.355Z"
   },
   {
    "duration": 66,
    "start_time": "2021-10-20T13:31:54.436Z"
   },
   {
    "duration": 12,
    "start_time": "2021-10-20T13:31:54.505Z"
   },
   {
    "duration": 14,
    "start_time": "2021-10-20T13:31:54.519Z"
   },
   {
    "duration": 9,
    "start_time": "2021-10-20T13:31:54.535Z"
   },
   {
    "duration": 837,
    "start_time": "2021-10-20T13:31:54.546Z"
   },
   {
    "duration": 276,
    "start_time": "2021-10-20T13:31:55.386Z"
   },
   {
    "duration": 9313,
    "start_time": "2021-10-20T13:31:46.353Z"
   },
   {
    "duration": 9312,
    "start_time": "2021-10-20T13:31:46.356Z"
   },
   {
    "duration": 9311,
    "start_time": "2021-10-20T13:31:46.358Z"
   },
   {
    "duration": 9311,
    "start_time": "2021-10-20T13:31:46.360Z"
   },
   {
    "duration": 9310,
    "start_time": "2021-10-20T13:31:46.362Z"
   },
   {
    "duration": 9311,
    "start_time": "2021-10-20T13:31:46.363Z"
   },
   {
    "duration": 9310,
    "start_time": "2021-10-20T13:31:46.365Z"
   },
   {
    "duration": 9307,
    "start_time": "2021-10-20T13:31:46.370Z"
   },
   {
    "duration": 9305,
    "start_time": "2021-10-20T13:31:46.373Z"
   },
   {
    "duration": 9305,
    "start_time": "2021-10-20T13:31:46.375Z"
   },
   {
    "duration": 9305,
    "start_time": "2021-10-20T13:31:46.376Z"
   },
   {
    "duration": 9304,
    "start_time": "2021-10-20T13:31:46.378Z"
   },
   {
    "duration": 9304,
    "start_time": "2021-10-20T13:31:46.380Z"
   },
   {
    "duration": 9305,
    "start_time": "2021-10-20T13:31:46.381Z"
   },
   {
    "duration": 9304,
    "start_time": "2021-10-20T13:31:46.383Z"
   },
   {
    "duration": 9299,
    "start_time": "2021-10-20T13:31:46.389Z"
   },
   {
    "duration": 9298,
    "start_time": "2021-10-20T13:31:46.392Z"
   },
   {
    "duration": 9298,
    "start_time": "2021-10-20T13:31:46.394Z"
   },
   {
    "duration": 9297,
    "start_time": "2021-10-20T13:31:46.396Z"
   },
   {
    "duration": 9295,
    "start_time": "2021-10-20T13:31:46.400Z"
   },
   {
    "duration": 9294,
    "start_time": "2021-10-20T13:31:46.402Z"
   },
   {
    "duration": 9293,
    "start_time": "2021-10-20T13:31:46.405Z"
   },
   {
    "duration": 322,
    "start_time": "2021-10-20T13:32:33.281Z"
   },
   {
    "duration": 6,
    "start_time": "2021-10-20T13:32:44.708Z"
   },
   {
    "duration": 5,
    "start_time": "2021-10-20T13:32:52.244Z"
   },
   {
    "duration": 705,
    "start_time": "2021-10-20T13:39:41.763Z"
   },
   {
    "duration": 781,
    "start_time": "2021-10-20T13:43:29.733Z"
   },
   {
    "duration": 774,
    "start_time": "2021-10-20T13:43:45.136Z"
   },
   {
    "duration": 17,
    "start_time": "2021-10-20T13:45:02.115Z"
   },
   {
    "duration": 3,
    "start_time": "2021-10-20T13:45:08.361Z"
   },
   {
    "duration": 201,
    "start_time": "2021-10-20T13:45:08.367Z"
   },
   {
    "duration": 21,
    "start_time": "2021-10-20T13:45:08.571Z"
   },
   {
    "duration": 46,
    "start_time": "2021-10-20T13:45:08.595Z"
   },
   {
    "duration": 15,
    "start_time": "2021-10-20T13:45:08.643Z"
   },
   {
    "duration": 30,
    "start_time": "2021-10-20T13:45:08.661Z"
   },
   {
    "duration": 6,
    "start_time": "2021-10-20T13:45:08.693Z"
   },
   {
    "duration": 59,
    "start_time": "2021-10-20T13:45:08.702Z"
   },
   {
    "duration": 33,
    "start_time": "2021-10-20T13:45:08.767Z"
   },
   {
    "duration": 32,
    "start_time": "2021-10-20T13:45:08.803Z"
   },
   {
    "duration": 106,
    "start_time": "2021-10-20T13:45:08.838Z"
   },
   {
    "duration": 99,
    "start_time": "2021-10-20T13:45:08.947Z"
   },
   {
    "duration": 89,
    "start_time": "2021-10-20T13:45:09.048Z"
   },
   {
    "duration": 54,
    "start_time": "2021-10-20T13:45:09.139Z"
   },
   {
    "duration": 50,
    "start_time": "2021-10-20T13:45:09.195Z"
   },
   {
    "duration": 79,
    "start_time": "2021-10-20T13:45:09.247Z"
   },
   {
    "duration": 73,
    "start_time": "2021-10-20T13:45:09.328Z"
   },
   {
    "duration": 5,
    "start_time": "2021-10-20T13:45:09.404Z"
   },
   {
    "duration": 18,
    "start_time": "2021-10-20T13:45:09.411Z"
   },
   {
    "duration": 78,
    "start_time": "2021-10-20T13:45:09.431Z"
   },
   {
    "duration": 74,
    "start_time": "2021-10-20T13:45:09.511Z"
   },
   {
    "duration": 11,
    "start_time": "2021-10-20T13:45:09.587Z"
   },
   {
    "duration": 29,
    "start_time": "2021-10-20T13:45:09.601Z"
   },
   {
    "duration": 17,
    "start_time": "2021-10-20T13:45:09.633Z"
   },
   {
    "duration": 915,
    "start_time": "2021-10-20T13:45:09.653Z"
   },
   {
    "duration": 12,
    "start_time": "2021-10-20T13:45:10.570Z"
   },
   {
    "duration": 14,
    "start_time": "2021-10-20T13:45:10.587Z"
   },
   {
    "duration": 12,
    "start_time": "2021-10-20T13:45:10.604Z"
   },
   {
    "duration": 4,
    "start_time": "2021-10-20T13:45:10.619Z"
   },
   {
    "duration": 60,
    "start_time": "2021-10-20T13:45:10.625Z"
   },
   {
    "duration": 22,
    "start_time": "2021-10-20T13:45:10.687Z"
   },
   {
    "duration": 20,
    "start_time": "2021-10-20T13:45:10.712Z"
   },
   {
    "duration": 56,
    "start_time": "2021-10-20T13:45:10.735Z"
   },
   {
    "duration": 21,
    "start_time": "2021-10-20T13:45:10.795Z"
   },
   {
    "duration": 20,
    "start_time": "2021-10-20T13:45:10.819Z"
   },
   {
    "duration": 46,
    "start_time": "2021-10-20T13:45:10.842Z"
   },
   {
    "duration": 56,
    "start_time": "2021-10-20T13:45:10.891Z"
   },
   {
    "duration": 19,
    "start_time": "2021-10-20T13:45:10.950Z"
   },
   {
    "duration": 20,
    "start_time": "2021-10-20T13:45:10.971Z"
   },
   {
    "duration": 8,
    "start_time": "2021-10-20T13:45:10.993Z"
   },
   {
    "duration": 44,
    "start_time": "2021-10-20T13:45:11.003Z"
   },
   {
    "duration": 33,
    "start_time": "2021-10-20T13:45:11.050Z"
   },
   {
    "duration": 27,
    "start_time": "2021-10-20T13:45:11.085Z"
   },
   {
    "duration": 16,
    "start_time": "2021-10-20T13:45:11.115Z"
   },
   {
    "duration": 13,
    "start_time": "2021-10-20T13:45:11.134Z"
   },
   {
    "duration": 42,
    "start_time": "2021-10-20T13:45:11.149Z"
   },
   {
    "duration": 30,
    "start_time": "2021-10-20T13:45:11.193Z"
   },
   {
    "duration": 26,
    "start_time": "2021-10-20T13:45:11.225Z"
   },
   {
    "duration": 780,
    "start_time": "2021-10-20T16:40:55.619Z"
   },
   {
    "duration": 199,
    "start_time": "2021-10-20T16:40:56.401Z"
   },
   {
    "duration": 27,
    "start_time": "2021-10-20T16:40:56.603Z"
   },
   {
    "duration": 36,
    "start_time": "2021-10-20T16:40:56.633Z"
   },
   {
    "duration": 30,
    "start_time": "2021-10-20T16:40:56.672Z"
   },
   {
    "duration": 30,
    "start_time": "2021-10-20T16:40:56.705Z"
   },
   {
    "duration": 10,
    "start_time": "2021-10-20T16:40:56.737Z"
   },
   {
    "duration": 57,
    "start_time": "2021-10-20T16:40:56.751Z"
   },
   {
    "duration": 24,
    "start_time": "2021-10-20T16:40:56.812Z"
   },
   {
    "duration": 33,
    "start_time": "2021-10-20T16:40:56.838Z"
   },
   {
    "duration": 126,
    "start_time": "2021-10-20T16:40:56.874Z"
   },
   {
    "duration": 132,
    "start_time": "2021-10-20T16:40:57.003Z"
   },
   {
    "duration": 93,
    "start_time": "2021-10-20T16:40:57.137Z"
   },
   {
    "duration": 50,
    "start_time": "2021-10-20T16:40:57.233Z"
   },
   {
    "duration": 52,
    "start_time": "2021-10-20T16:40:57.300Z"
   },
   {
    "duration": 76,
    "start_time": "2021-10-20T16:40:57.354Z"
   },
   {
    "duration": 75,
    "start_time": "2021-10-20T16:40:57.433Z"
   },
   {
    "duration": 4,
    "start_time": "2021-10-20T16:40:57.511Z"
   },
   {
    "duration": 423,
    "start_time": "2021-10-20T16:40:57.518Z"
   },
   {
    "duration": -97,
    "start_time": "2021-10-20T16:40:58.043Z"
   },
   {
    "duration": -102,
    "start_time": "2021-10-20T16:40:58.049Z"
   },
   {
    "duration": -106,
    "start_time": "2021-10-20T16:40:58.054Z"
   },
   {
    "duration": -108,
    "start_time": "2021-10-20T16:40:58.058Z"
   },
   {
    "duration": -112,
    "start_time": "2021-10-20T16:40:58.063Z"
   },
   {
    "duration": -139,
    "start_time": "2021-10-20T16:40:58.091Z"
   },
   {
    "duration": -143,
    "start_time": "2021-10-20T16:40:58.096Z"
   },
   {
    "duration": -146,
    "start_time": "2021-10-20T16:40:58.101Z"
   },
   {
    "duration": -150,
    "start_time": "2021-10-20T16:40:58.106Z"
   },
   {
    "duration": -153,
    "start_time": "2021-10-20T16:40:58.110Z"
   },
   {
    "duration": -156,
    "start_time": "2021-10-20T16:40:58.114Z"
   },
   {
    "duration": -158,
    "start_time": "2021-10-20T16:40:58.118Z"
   },
   {
    "duration": -161,
    "start_time": "2021-10-20T16:40:58.122Z"
   },
   {
    "duration": -164,
    "start_time": "2021-10-20T16:40:58.126Z"
   },
   {
    "duration": -168,
    "start_time": "2021-10-20T16:40:58.131Z"
   },
   {
    "duration": -172,
    "start_time": "2021-10-20T16:40:58.137Z"
   },
   {
    "duration": -175,
    "start_time": "2021-10-20T16:40:58.141Z"
   },
   {
    "duration": -179,
    "start_time": "2021-10-20T16:40:58.146Z"
   },
   {
    "duration": -184,
    "start_time": "2021-10-20T16:40:58.152Z"
   },
   {
    "duration": -188,
    "start_time": "2021-10-20T16:40:58.157Z"
   },
   {
    "duration": -191,
    "start_time": "2021-10-20T16:40:58.162Z"
   },
   {
    "duration": -194,
    "start_time": "2021-10-20T16:40:58.166Z"
   },
   {
    "duration": -197,
    "start_time": "2021-10-20T16:40:58.170Z"
   },
   {
    "duration": -200,
    "start_time": "2021-10-20T16:40:58.174Z"
   },
   {
    "duration": -204,
    "start_time": "2021-10-20T16:40:58.180Z"
   },
   {
    "duration": -208,
    "start_time": "2021-10-20T16:40:58.185Z"
   },
   {
    "duration": -212,
    "start_time": "2021-10-20T16:40:58.190Z"
   },
   {
    "duration": -214,
    "start_time": "2021-10-20T16:40:58.194Z"
   },
   {
    "duration": -217,
    "start_time": "2021-10-20T16:40:58.198Z"
   },
   {
    "duration": 305,
    "start_time": "2021-10-21T05:34:55.080Z"
   },
   {
    "duration": 5,
    "start_time": "2021-10-21T05:35:00.088Z"
   },
   {
    "duration": 251,
    "start_time": "2021-10-21T05:35:02.925Z"
   },
   {
    "duration": 772,
    "start_time": "2021-10-21T05:35:56.750Z"
   },
   {
    "duration": 186,
    "start_time": "2021-10-21T05:35:57.525Z"
   },
   {
    "duration": 28,
    "start_time": "2021-10-21T05:35:57.714Z"
   },
   {
    "duration": 47,
    "start_time": "2021-10-21T05:35:57.744Z"
   },
   {
    "duration": 5,
    "start_time": "2021-10-21T05:35:57.793Z"
   },
   {
    "duration": 32,
    "start_time": "2021-10-21T05:35:57.801Z"
   },
   {
    "duration": 33,
    "start_time": "2021-10-21T05:35:57.835Z"
   },
   {
    "duration": 33,
    "start_time": "2021-10-21T05:35:57.873Z"
   },
   {
    "duration": 24,
    "start_time": "2021-10-21T05:35:57.910Z"
   },
   {
    "duration": 61,
    "start_time": "2021-10-21T05:35:57.936Z"
   },
   {
    "duration": 107,
    "start_time": "2021-10-21T05:35:58.001Z"
   },
   {
    "duration": 118,
    "start_time": "2021-10-21T05:35:58.111Z"
   },
   {
    "duration": 95,
    "start_time": "2021-10-21T05:35:58.232Z"
   },
   {
    "duration": 66,
    "start_time": "2021-10-21T05:35:58.330Z"
   },
   {
    "duration": 70,
    "start_time": "2021-10-21T05:35:58.398Z"
   },
   {
    "duration": 59,
    "start_time": "2021-10-21T05:35:58.471Z"
   },
   {
    "duration": 82,
    "start_time": "2021-10-21T05:35:58.532Z"
   },
   {
    "duration": 5,
    "start_time": "2021-10-21T05:35:58.617Z"
   },
   {
    "duration": 45,
    "start_time": "2021-10-21T05:35:58.625Z"
   },
   {
    "duration": 61,
    "start_time": "2021-10-21T05:35:58.673Z"
   },
   {
    "duration": 79,
    "start_time": "2021-10-21T05:35:58.736Z"
   },
   {
    "duration": 13,
    "start_time": "2021-10-21T05:35:58.818Z"
   },
   {
    "duration": 38,
    "start_time": "2021-10-21T05:35:58.836Z"
   },
   {
    "duration": 5,
    "start_time": "2021-10-21T05:35:58.877Z"
   },
   {
    "duration": 841,
    "start_time": "2021-10-21T05:35:58.884Z"
   },
   {
    "duration": 4,
    "start_time": "2021-10-21T05:35:59.728Z"
   },
   {
    "duration": 38,
    "start_time": "2021-10-21T05:35:59.735Z"
   },
   {
    "duration": 14,
    "start_time": "2021-10-21T05:35:59.775Z"
   },
   {
    "duration": 5,
    "start_time": "2021-10-21T05:35:59.791Z"
   },
   {
    "duration": 26,
    "start_time": "2021-10-21T05:35:59.798Z"
   },
   {
    "duration": 48,
    "start_time": "2021-10-21T05:35:59.826Z"
   },
   {
    "duration": 19,
    "start_time": "2021-10-21T05:35:59.877Z"
   },
   {
    "duration": 18,
    "start_time": "2021-10-21T05:35:59.898Z"
   },
   {
    "duration": 57,
    "start_time": "2021-10-21T05:35:59.919Z"
   },
   {
    "duration": 19,
    "start_time": "2021-10-21T05:35:59.979Z"
   },
   {
    "duration": 11,
    "start_time": "2021-10-21T05:36:00.001Z"
   },
   {
    "duration": 53,
    "start_time": "2021-10-21T05:36:00.014Z"
   },
   {
    "duration": 12,
    "start_time": "2021-10-21T05:36:00.070Z"
   },
   {
    "duration": 18,
    "start_time": "2021-10-21T05:36:00.085Z"
   },
   {
    "duration": 7,
    "start_time": "2021-10-21T05:36:00.105Z"
   },
   {
    "duration": 65,
    "start_time": "2021-10-21T05:36:00.115Z"
   },
   {
    "duration": 23,
    "start_time": "2021-10-21T05:36:00.183Z"
   },
   {
    "duration": 27,
    "start_time": "2021-10-21T05:36:00.209Z"
   },
   {
    "duration": 19,
    "start_time": "2021-10-21T05:36:00.271Z"
   },
   {
    "duration": 17,
    "start_time": "2021-10-21T05:36:00.292Z"
   },
   {
    "duration": 6,
    "start_time": "2021-10-21T05:36:00.312Z"
   },
   {
    "duration": 26,
    "start_time": "2021-10-21T05:36:00.321Z"
   },
   {
    "duration": 19,
    "start_time": "2021-10-21T05:36:00.350Z"
   },
   {
    "duration": 15,
    "start_time": "2021-10-21T05:36:35.032Z"
   },
   {
    "duration": 15,
    "start_time": "2021-10-21T05:36:50.894Z"
   },
   {
    "duration": 83,
    "start_time": "2021-10-21T05:39:30.521Z"
   },
   {
    "duration": 16,
    "start_time": "2021-10-21T05:41:14.613Z"
   },
   {
    "duration": 336,
    "start_time": "2021-10-21T05:46:19.554Z"
   },
   {
    "duration": 14,
    "start_time": "2021-10-21T05:46:30.418Z"
   },
   {
    "duration": 241,
    "start_time": "2021-10-21T05:46:42.014Z"
   },
   {
    "duration": 11,
    "start_time": "2021-10-21T05:46:47.348Z"
   },
   {
    "duration": 82,
    "start_time": "2021-10-21T05:47:14.433Z"
   },
   {
    "duration": 83,
    "start_time": "2021-10-21T05:47:27.727Z"
   },
   {
    "duration": 281,
    "start_time": "2021-10-21T05:47:35.252Z"
   },
   {
    "duration": 12,
    "start_time": "2021-10-21T05:47:38.736Z"
   },
   {
    "duration": 12,
    "start_time": "2021-10-21T05:47:59.956Z"
   },
   {
    "duration": 12,
    "start_time": "2021-10-21T05:48:26.536Z"
   },
   {
    "duration": 11,
    "start_time": "2021-10-21T05:48:40.970Z"
   },
   {
    "duration": 86,
    "start_time": "2021-10-21T05:49:54.518Z"
   },
   {
    "duration": 12,
    "start_time": "2021-10-21T05:49:58.249Z"
   },
   {
    "duration": 12,
    "start_time": "2021-10-21T05:50:02.427Z"
   },
   {
    "duration": 12,
    "start_time": "2021-10-21T05:50:08.074Z"
   },
   {
    "duration": 89,
    "start_time": "2021-10-21T05:50:42.656Z"
   },
   {
    "duration": 86,
    "start_time": "2021-10-21T05:50:47.544Z"
   },
   {
    "duration": 12,
    "start_time": "2021-10-21T05:50:53.567Z"
   },
   {
    "duration": 11,
    "start_time": "2021-10-21T05:50:58.892Z"
   },
   {
    "duration": 11,
    "start_time": "2021-10-21T05:59:06.192Z"
   },
   {
    "duration": 10,
    "start_time": "2021-10-21T05:59:17.928Z"
   },
   {
    "duration": 11,
    "start_time": "2021-10-21T05:59:27.968Z"
   },
   {
    "duration": 79,
    "start_time": "2021-10-21T06:00:12.872Z"
   },
   {
    "duration": 76,
    "start_time": "2021-10-21T06:00:16.935Z"
   },
   {
    "duration": 19,
    "start_time": "2021-10-21T06:00:21.733Z"
   },
   {
    "duration": 17,
    "start_time": "2021-10-21T06:00:29.801Z"
   },
   {
    "duration": 10,
    "start_time": "2021-10-21T06:00:40.878Z"
   },
   {
    "duration": 10,
    "start_time": "2021-10-21T06:01:05.229Z"
   },
   {
    "duration": 18,
    "start_time": "2021-10-21T06:01:20.177Z"
   },
   {
    "duration": 10,
    "start_time": "2021-10-21T06:01:25.763Z"
   },
   {
    "duration": 17,
    "start_time": "2021-10-21T06:01:44.054Z"
   },
   {
    "duration": 1659,
    "start_time": "2021-10-21T06:03:26.239Z"
   },
   {
    "duration": 194,
    "start_time": "2021-10-21T06:03:27.901Z"
   },
   {
    "duration": 27,
    "start_time": "2021-10-21T06:03:28.097Z"
   },
   {
    "duration": 54,
    "start_time": "2021-10-21T06:03:28.127Z"
   },
   {
    "duration": 6,
    "start_time": "2021-10-21T06:03:28.183Z"
   },
   {
    "duration": 30,
    "start_time": "2021-10-21T06:03:28.191Z"
   },
   {
    "duration": 6,
    "start_time": "2021-10-21T06:03:28.225Z"
   },
   {
    "duration": 64,
    "start_time": "2021-10-21T06:03:28.233Z"
   },
   {
    "duration": 23,
    "start_time": "2021-10-21T06:03:28.300Z"
   },
   {
    "duration": 51,
    "start_time": "2021-10-21T06:03:28.325Z"
   },
   {
    "duration": 102,
    "start_time": "2021-10-21T06:03:28.378Z"
   },
   {
    "duration": 124,
    "start_time": "2021-10-21T06:03:28.483Z"
   },
   {
    "duration": 86,
    "start_time": "2021-10-21T06:03:28.610Z"
   },
   {
    "duration": 50,
    "start_time": "2021-10-21T06:03:28.699Z"
   },
   {
    "duration": 62,
    "start_time": "2021-10-21T06:03:28.751Z"
   },
   {
    "duration": 74,
    "start_time": "2021-10-21T06:03:28.816Z"
   },
   {
    "duration": 77,
    "start_time": "2021-10-21T06:03:28.892Z"
   },
   {
    "duration": 11,
    "start_time": "2021-10-21T06:03:28.971Z"
   },
   {
    "duration": 17,
    "start_time": "2021-10-21T06:03:28.984Z"
   },
   {
    "duration": 16,
    "start_time": "2021-10-21T06:03:29.003Z"
   },
   {
    "duration": 5,
    "start_time": "2021-10-21T06:03:29.021Z"
   },
   {
    "duration": 43,
    "start_time": "2021-10-21T06:03:29.032Z"
   },
   {
    "duration": 58,
    "start_time": "2021-10-21T06:03:29.078Z"
   },
   {
    "duration": 75,
    "start_time": "2021-10-21T06:03:29.138Z"
   },
   {
    "duration": 12,
    "start_time": "2021-10-21T06:03:29.215Z"
   },
   {
    "duration": 13,
    "start_time": "2021-10-21T06:03:29.229Z"
   },
   {
    "duration": 4,
    "start_time": "2021-10-21T06:03:29.268Z"
   },
   {
    "duration": 841,
    "start_time": "2021-10-21T06:03:29.275Z"
   },
   {
    "duration": 5,
    "start_time": "2021-10-21T06:03:30.118Z"
   },
   {
    "duration": 23,
    "start_time": "2021-10-21T06:03:30.126Z"
   },
   {
    "duration": 17,
    "start_time": "2021-10-21T06:03:30.168Z"
   },
   {
    "duration": 6,
    "start_time": "2021-10-21T06:03:30.188Z"
   },
   {
    "duration": 38,
    "start_time": "2021-10-21T06:03:30.197Z"
   },
   {
    "duration": 43,
    "start_time": "2021-10-21T06:03:30.237Z"
   },
   {
    "duration": 22,
    "start_time": "2021-10-21T06:03:30.282Z"
   },
   {
    "duration": 17,
    "start_time": "2021-10-21T06:03:30.306Z"
   },
   {
    "duration": 51,
    "start_time": "2021-10-21T06:03:30.326Z"
   },
   {
    "duration": 28,
    "start_time": "2021-10-21T06:03:30.379Z"
   },
   {
    "duration": 26,
    "start_time": "2021-10-21T06:03:30.410Z"
   },
   {
    "duration": 38,
    "start_time": "2021-10-21T06:03:30.438Z"
   },
   {
    "duration": 12,
    "start_time": "2021-10-21T06:03:30.478Z"
   },
   {
    "duration": 36,
    "start_time": "2021-10-21T06:03:30.493Z"
   },
   {
    "duration": 9,
    "start_time": "2021-10-21T06:03:30.532Z"
   },
   {
    "duration": 44,
    "start_time": "2021-10-21T06:03:30.544Z"
   },
   {
    "duration": 20,
    "start_time": "2021-10-21T06:03:30.591Z"
   },
   {
    "duration": 27,
    "start_time": "2021-10-21T06:03:30.613Z"
   },
   {
    "duration": 38,
    "start_time": "2021-10-21T06:03:30.642Z"
   },
   {
    "duration": 14,
    "start_time": "2021-10-21T06:03:30.682Z"
   },
   {
    "duration": 6,
    "start_time": "2021-10-21T06:03:30.699Z"
   },
   {
    "duration": 21,
    "start_time": "2021-10-21T06:03:30.707Z"
   },
   {
    "duration": 10,
    "start_time": "2021-10-21T06:03:30.731Z"
   },
   {
    "duration": 5,
    "start_time": "2021-10-21T06:07:19.301Z"
   },
   {
    "duration": 15,
    "start_time": "2021-10-21T06:07:20.982Z"
   },
   {
    "duration": 790,
    "start_time": "2021-10-21T06:13:22.042Z"
   },
   {
    "duration": 183,
    "start_time": "2021-10-21T06:13:22.835Z"
   },
   {
    "duration": 26,
    "start_time": "2021-10-21T06:13:23.024Z"
   },
   {
    "duration": 49,
    "start_time": "2021-10-21T06:13:23.052Z"
   },
   {
    "duration": 6,
    "start_time": "2021-10-21T06:13:23.104Z"
   },
   {
    "duration": 70,
    "start_time": "2021-10-21T06:13:23.113Z"
   },
   {
    "duration": 7,
    "start_time": "2021-10-21T06:13:23.188Z"
   },
   {
    "duration": 32,
    "start_time": "2021-10-21T06:13:23.199Z"
   },
   {
    "duration": 56,
    "start_time": "2021-10-21T06:13:23.233Z"
   },
   {
    "duration": 34,
    "start_time": "2021-10-21T06:13:23.292Z"
   },
   {
    "duration": 109,
    "start_time": "2021-10-21T06:13:23.329Z"
   },
   {
    "duration": 114,
    "start_time": "2021-10-21T06:13:23.442Z"
   },
   {
    "duration": 79,
    "start_time": "2021-10-21T06:13:23.558Z"
   },
   {
    "duration": 62,
    "start_time": "2021-10-21T06:13:23.639Z"
   },
   {
    "duration": 65,
    "start_time": "2021-10-21T06:13:23.703Z"
   },
   {
    "duration": 58,
    "start_time": "2021-10-21T06:13:23.771Z"
   },
   {
    "duration": 76,
    "start_time": "2021-10-21T06:13:23.831Z"
   },
   {
    "duration": 10,
    "start_time": "2021-10-21T06:13:23.910Z"
   },
   {
    "duration": 18,
    "start_time": "2021-10-21T06:13:23.923Z"
   },
   {
    "duration": 49,
    "start_time": "2021-10-21T06:13:23.944Z"
   },
   {
    "duration": 29,
    "start_time": "2021-10-21T06:13:23.995Z"
   },
   {
    "duration": 35,
    "start_time": "2021-10-21T06:13:24.030Z"
   },
   {
    "duration": 63,
    "start_time": "2021-10-21T06:13:24.068Z"
   },
   {
    "duration": 56,
    "start_time": "2021-10-21T06:13:24.134Z"
   },
   {
    "duration": 15,
    "start_time": "2021-10-21T06:13:24.192Z"
   },
   {
    "duration": 19,
    "start_time": "2021-10-21T06:13:24.210Z"
   },
   {
    "duration": 25,
    "start_time": "2021-10-21T06:13:24.231Z"
   },
   {
    "duration": 911,
    "start_time": "2021-10-21T06:13:24.258Z"
   },
   {
    "duration": 7,
    "start_time": "2021-10-21T06:13:25.172Z"
   },
   {
    "duration": 17,
    "start_time": "2021-10-21T06:13:25.181Z"
   },
   {
    "duration": 13,
    "start_time": "2021-10-21T06:13:25.200Z"
   },
   {
    "duration": 5,
    "start_time": "2021-10-21T06:13:25.215Z"
   },
   {
    "duration": 61,
    "start_time": "2021-10-21T06:13:25.223Z"
   },
   {
    "duration": 19,
    "start_time": "2021-10-21T06:13:25.287Z"
   },
   {
    "duration": 20,
    "start_time": "2021-10-21T06:13:25.308Z"
   },
   {
    "duration": 48,
    "start_time": "2021-10-21T06:13:25.331Z"
   },
   {
    "duration": 20,
    "start_time": "2021-10-21T06:13:25.381Z"
   },
   {
    "duration": 18,
    "start_time": "2021-10-21T06:13:25.404Z"
   },
   {
    "duration": 45,
    "start_time": "2021-10-21T06:13:25.425Z"
   },
   {
    "duration": 27,
    "start_time": "2021-10-21T06:13:25.472Z"
   },
   {
    "duration": 12,
    "start_time": "2021-10-21T06:13:25.501Z"
   },
   {
    "duration": 12,
    "start_time": "2021-10-21T06:13:25.516Z"
   },
   {
    "duration": 6,
    "start_time": "2021-10-21T06:13:25.567Z"
   },
   {
    "duration": 36,
    "start_time": "2021-10-21T06:13:25.576Z"
   },
   {
    "duration": 18,
    "start_time": "2021-10-21T06:13:25.614Z"
   },
   {
    "duration": 53,
    "start_time": "2021-10-21T06:13:25.634Z"
   },
   {
    "duration": 17,
    "start_time": "2021-10-21T06:13:25.690Z"
   },
   {
    "duration": 11,
    "start_time": "2021-10-21T06:13:25.709Z"
   },
   {
    "duration": 8,
    "start_time": "2021-10-21T06:13:25.723Z"
   },
   {
    "duration": 10,
    "start_time": "2021-10-21T06:13:25.767Z"
   },
   {
    "duration": 7,
    "start_time": "2021-10-21T06:13:25.779Z"
   },
   {
    "duration": 760,
    "start_time": "2021-10-21T06:15:45.576Z"
   },
   {
    "duration": 202,
    "start_time": "2021-10-21T06:15:46.339Z"
   },
   {
    "duration": 33,
    "start_time": "2021-10-21T06:15:46.545Z"
   },
   {
    "duration": 36,
    "start_time": "2021-10-21T06:15:46.582Z"
   },
   {
    "duration": 8,
    "start_time": "2021-10-21T06:15:46.621Z"
   },
   {
    "duration": 60,
    "start_time": "2021-10-21T06:15:46.632Z"
   },
   {
    "duration": 10,
    "start_time": "2021-10-21T06:15:46.696Z"
   },
   {
    "duration": 58,
    "start_time": "2021-10-21T06:15:46.711Z"
   },
   {
    "duration": 23,
    "start_time": "2021-10-21T06:15:46.773Z"
   },
   {
    "duration": 29,
    "start_time": "2021-10-21T06:15:46.798Z"
   },
   {
    "duration": 121,
    "start_time": "2021-10-21T06:15:46.830Z"
   },
   {
    "duration": 120,
    "start_time": "2021-10-21T06:15:46.954Z"
   },
   {
    "duration": 124,
    "start_time": "2021-10-21T06:15:47.078Z"
   },
   {
    "duration": 63,
    "start_time": "2021-10-21T06:15:47.205Z"
   },
   {
    "duration": 63,
    "start_time": "2021-10-21T06:15:47.270Z"
   },
   {
    "duration": 81,
    "start_time": "2021-10-21T06:15:47.336Z"
   },
   {
    "duration": 83,
    "start_time": "2021-10-21T06:15:47.419Z"
   },
   {
    "duration": 16,
    "start_time": "2021-10-21T06:15:47.505Z"
   },
   {
    "duration": 13,
    "start_time": "2021-10-21T06:15:47.524Z"
   },
   {
    "duration": 36,
    "start_time": "2021-10-21T06:15:47.539Z"
   },
   {
    "duration": 10,
    "start_time": "2021-10-21T06:15:47.577Z"
   },
   {
    "duration": 19,
    "start_time": "2021-10-21T06:15:47.590Z"
   },
   {
    "duration": 99,
    "start_time": "2021-10-21T06:15:47.615Z"
   },
   {
    "duration": 64,
    "start_time": "2021-10-21T06:15:47.717Z"
   },
   {
    "duration": 11,
    "start_time": "2021-10-21T06:15:47.784Z"
   },
   {
    "duration": 16,
    "start_time": "2021-10-21T06:15:47.798Z"
   },
   {
    "duration": 7,
    "start_time": "2021-10-21T06:15:47.818Z"
   },
   {
    "duration": 1015,
    "start_time": "2021-10-21T06:15:47.827Z"
   },
   {
    "duration": 5,
    "start_time": "2021-10-21T06:15:48.844Z"
   },
   {
    "duration": 29,
    "start_time": "2021-10-21T06:15:48.851Z"
   },
   {
    "duration": 16,
    "start_time": "2021-10-21T06:15:48.882Z"
   },
   {
    "duration": 5,
    "start_time": "2021-10-21T06:15:48.900Z"
   },
   {
    "duration": 73,
    "start_time": "2021-10-21T06:15:48.909Z"
   },
   {
    "duration": 30,
    "start_time": "2021-10-21T06:15:48.985Z"
   },
   {
    "duration": 20,
    "start_time": "2021-10-21T06:15:49.017Z"
   },
   {
    "duration": 19,
    "start_time": "2021-10-21T06:15:49.067Z"
   },
   {
    "duration": 22,
    "start_time": "2021-10-21T06:15:49.089Z"
   },
   {
    "duration": 20,
    "start_time": "2021-10-21T06:15:49.114Z"
   },
   {
    "duration": 42,
    "start_time": "2021-10-21T06:15:49.137Z"
   },
   {
    "duration": 30,
    "start_time": "2021-10-21T06:15:49.181Z"
   },
   {
    "duration": 13,
    "start_time": "2021-10-21T06:15:49.214Z"
   },
   {
    "duration": 40,
    "start_time": "2021-10-21T06:15:49.230Z"
   },
   {
    "duration": 7,
    "start_time": "2021-10-21T06:15:49.273Z"
   },
   {
    "duration": 31,
    "start_time": "2021-10-21T06:15:49.283Z"
   },
   {
    "duration": 51,
    "start_time": "2021-10-21T06:15:49.316Z"
   },
   {
    "duration": 24,
    "start_time": "2021-10-21T06:15:49.370Z"
   },
   {
    "duration": 17,
    "start_time": "2021-10-21T06:15:49.396Z"
   },
   {
    "duration": 50,
    "start_time": "2021-10-21T06:15:49.416Z"
   },
   {
    "duration": 7,
    "start_time": "2021-10-21T06:15:49.469Z"
   },
   {
    "duration": 11,
    "start_time": "2021-10-21T06:15:49.478Z"
   },
   {
    "duration": 7,
    "start_time": "2021-10-21T06:15:49.491Z"
   },
   {
    "duration": 781,
    "start_time": "2021-10-21T14:46:48.975Z"
   },
   {
    "duration": 191,
    "start_time": "2021-10-21T14:46:49.758Z"
   },
   {
    "duration": 37,
    "start_time": "2021-10-21T14:46:49.952Z"
   },
   {
    "duration": 37,
    "start_time": "2021-10-21T14:46:49.992Z"
   },
   {
    "duration": 6,
    "start_time": "2021-10-21T14:46:50.032Z"
   },
   {
    "duration": 64,
    "start_time": "2021-10-21T14:46:50.041Z"
   },
   {
    "duration": 16,
    "start_time": "2021-10-21T14:46:50.108Z"
   },
   {
    "duration": 30,
    "start_time": "2021-10-21T14:46:50.128Z"
   },
   {
    "duration": 22,
    "start_time": "2021-10-21T14:46:50.182Z"
   },
   {
    "duration": 30,
    "start_time": "2021-10-21T14:46:50.206Z"
   },
   {
    "duration": 104,
    "start_time": "2021-10-21T14:46:50.238Z"
   },
   {
    "duration": 110,
    "start_time": "2021-10-21T14:46:50.345Z"
   },
   {
    "duration": 88,
    "start_time": "2021-10-21T14:46:50.458Z"
   },
   {
    "duration": 58,
    "start_time": "2021-10-21T14:46:50.549Z"
   },
   {
    "duration": 51,
    "start_time": "2021-10-21T14:46:50.609Z"
   },
   {
    "duration": 56,
    "start_time": "2021-10-21T14:46:50.683Z"
   },
   {
    "duration": 69,
    "start_time": "2021-10-21T14:46:50.741Z"
   },
   {
    "duration": 10,
    "start_time": "2021-10-21T14:46:50.813Z"
   },
   {
    "duration": 24,
    "start_time": "2021-10-21T14:46:50.826Z"
   },
   {
    "duration": 35,
    "start_time": "2021-10-21T14:46:50.852Z"
   },
   {
    "duration": 5,
    "start_time": "2021-10-21T14:46:50.890Z"
   },
   {
    "duration": 17,
    "start_time": "2021-10-21T14:46:50.898Z"
   },
   {
    "duration": 76,
    "start_time": "2021-10-21T14:46:50.920Z"
   },
   {
    "duration": 57,
    "start_time": "2021-10-21T14:46:50.999Z"
   },
   {
    "duration": 32,
    "start_time": "2021-10-21T14:46:51.058Z"
   },
   {
    "duration": 15,
    "start_time": "2021-10-21T14:46:51.092Z"
   },
   {
    "duration": 8,
    "start_time": "2021-10-21T14:46:51.109Z"
   },
   {
    "duration": 844,
    "start_time": "2021-10-21T14:46:51.120Z"
   },
   {
    "duration": 6,
    "start_time": "2021-10-21T14:46:51.966Z"
   },
   {
    "duration": 13,
    "start_time": "2021-10-21T14:46:51.983Z"
   },
   {
    "duration": 13,
    "start_time": "2021-10-21T14:46:51.999Z"
   },
   {
    "duration": 5,
    "start_time": "2021-10-21T14:46:52.014Z"
   },
   {
    "duration": 64,
    "start_time": "2021-10-21T14:46:52.021Z"
   },
   {
    "duration": 18,
    "start_time": "2021-10-21T14:46:52.087Z"
   },
   {
    "duration": 19,
    "start_time": "2021-10-21T14:46:52.107Z"
   },
   {
    "duration": 17,
    "start_time": "2021-10-21T14:46:52.129Z"
   },
   {
    "duration": 22,
    "start_time": "2021-10-21T14:46:52.182Z"
   },
   {
    "duration": 18,
    "start_time": "2021-10-21T14:46:52.206Z"
   },
   {
    "duration": 13,
    "start_time": "2021-10-21T14:46:52.227Z"
   },
   {
    "duration": 55,
    "start_time": "2021-10-21T14:46:52.242Z"
   },
   {
    "duration": 12,
    "start_time": "2021-10-21T14:46:52.300Z"
   },
   {
    "duration": 9,
    "start_time": "2021-10-21T14:46:52.315Z"
   },
   {
    "duration": 6,
    "start_time": "2021-10-21T14:46:52.327Z"
   },
   {
    "duration": 67,
    "start_time": "2021-10-21T14:46:52.335Z"
   },
   {
    "duration": 17,
    "start_time": "2021-10-21T14:46:52.404Z"
   },
   {
    "duration": 22,
    "start_time": "2021-10-21T14:46:52.423Z"
   },
   {
    "duration": 45,
    "start_time": "2021-10-21T14:46:52.447Z"
   },
   {
    "duration": 11,
    "start_time": "2021-10-21T14:46:52.494Z"
   },
   {
    "duration": 7,
    "start_time": "2021-10-21T14:46:52.507Z"
   },
   {
    "duration": 10,
    "start_time": "2021-10-21T14:46:52.516Z"
   },
   {
    "duration": 7,
    "start_time": "2021-10-21T14:46:52.528Z"
   },
   {
    "duration": 10,
    "start_time": "2021-10-21T14:49:21.830Z"
   },
   {
    "duration": 422,
    "start_time": "2022-05-21T19:38:50.298Z"
   },
   {
    "duration": 763,
    "start_time": "2022-05-21T19:38:50.722Z"
   },
   {
    "duration": 19,
    "start_time": "2022-05-21T19:38:51.487Z"
   },
   {
    "duration": 35,
    "start_time": "2022-05-21T19:38:51.507Z"
   },
   {
    "duration": 4,
    "start_time": "2022-05-21T19:38:51.545Z"
   },
   {
    "duration": 13,
    "start_time": "2022-05-21T19:38:51.551Z"
   },
   {
    "duration": 6,
    "start_time": "2022-05-21T19:38:51.566Z"
   },
   {
    "duration": 26,
    "start_time": "2022-05-21T19:38:51.574Z"
   },
   {
    "duration": 50,
    "start_time": "2022-05-21T19:38:51.602Z"
   },
   {
    "duration": 25,
    "start_time": "2022-05-21T19:38:51.654Z"
   },
   {
    "duration": 81,
    "start_time": "2022-05-21T19:38:51.681Z"
   },
   {
    "duration": 99,
    "start_time": "2022-05-21T19:38:51.765Z"
   },
   {
    "duration": 64,
    "start_time": "2022-05-21T19:38:51.866Z"
   },
   {
    "duration": 34,
    "start_time": "2022-05-21T19:38:51.942Z"
   },
   {
    "duration": 36,
    "start_time": "2022-05-21T19:38:51.978Z"
   },
   {
    "duration": 56,
    "start_time": "2022-05-21T19:38:52.016Z"
   },
   {
    "duration": 37,
    "start_time": "2022-05-21T19:38:52.074Z"
   },
   {
    "duration": 9,
    "start_time": "2022-05-21T19:38:52.113Z"
   },
   {
    "duration": 9,
    "start_time": "2022-05-21T19:38:52.142Z"
   },
   {
    "duration": 10,
    "start_time": "2022-05-21T19:38:52.152Z"
   },
   {
    "duration": 9,
    "start_time": "2022-05-21T19:38:52.163Z"
   },
   {
    "duration": 13,
    "start_time": "2022-05-21T19:38:52.173Z"
   },
   {
    "duration": 63,
    "start_time": "2022-05-21T19:38:52.188Z"
   },
   {
    "duration": 39,
    "start_time": "2022-05-21T19:38:52.253Z"
   },
   {
    "duration": 9,
    "start_time": "2022-05-21T19:38:52.294Z"
   },
   {
    "duration": 9,
    "start_time": "2022-05-21T19:38:52.305Z"
   },
   {
    "duration": 28,
    "start_time": "2022-05-21T19:38:52.316Z"
   },
   {
    "duration": 5,
    "start_time": "2022-05-21T19:38:52.346Z"
   },
   {
    "duration": 6,
    "start_time": "2022-05-21T19:38:52.353Z"
   },
   {
    "duration": 581,
    "start_time": "2022-05-21T19:38:52.360Z"
   },
   {
    "duration": 4,
    "start_time": "2022-05-21T19:38:52.943Z"
   },
   {
    "duration": 16,
    "start_time": "2022-05-21T19:38:52.948Z"
   },
   {
    "duration": 12,
    "start_time": "2022-05-21T19:38:52.965Z"
   },
   {
    "duration": 4,
    "start_time": "2022-05-21T19:38:52.978Z"
   },
   {
    "duration": 102,
    "start_time": "2022-05-21T19:38:52.983Z"
   },
   {
    "duration": 16,
    "start_time": "2022-05-21T19:38:53.087Z"
   },
   {
    "duration": 38,
    "start_time": "2022-05-21T19:38:53.105Z"
   },
   {
    "duration": 17,
    "start_time": "2022-05-21T19:38:53.144Z"
   },
   {
    "duration": 16,
    "start_time": "2022-05-21T19:38:53.163Z"
   },
   {
    "duration": 18,
    "start_time": "2022-05-21T19:38:53.182Z"
   },
   {
    "duration": 50,
    "start_time": "2022-05-21T19:38:53.203Z"
   },
   {
    "duration": 9,
    "start_time": "2022-05-21T19:38:53.254Z"
   },
   {
    "duration": 21,
    "start_time": "2022-05-21T19:38:53.265Z"
   },
   {
    "duration": 10,
    "start_time": "2022-05-21T19:38:53.287Z"
   },
   {
    "duration": 43,
    "start_time": "2022-05-21T19:38:53.299Z"
   },
   {
    "duration": 5,
    "start_time": "2022-05-21T19:38:53.343Z"
   },
   {
    "duration": 24,
    "start_time": "2022-05-21T19:38:53.350Z"
   },
   {
    "duration": 14,
    "start_time": "2022-05-21T19:38:53.376Z"
   },
   {
    "duration": 51,
    "start_time": "2022-05-21T19:38:53.392Z"
   },
   {
    "duration": 19,
    "start_time": "2022-05-21T19:38:53.445Z"
   },
   {
    "duration": 20,
    "start_time": "2022-05-21T19:38:53.466Z"
   },
   {
    "duration": 6,
    "start_time": "2022-05-21T19:38:53.488Z"
   },
   {
    "duration": 12,
    "start_time": "2022-05-21T19:38:53.496Z"
   },
   {
    "duration": 6,
    "start_time": "2022-05-21T19:38:53.509Z"
   },
   {
    "duration": 82,
    "start_time": "2022-05-21T19:39:56.501Z"
   },
   {
    "duration": 79,
    "start_time": "2022-05-21T19:40:20.151Z"
   },
   {
    "duration": 82,
    "start_time": "2022-05-21T19:40:28.198Z"
   },
   {
    "duration": 90,
    "start_time": "2022-05-21T19:40:43.055Z"
   },
   {
    "duration": 98,
    "start_time": "2022-05-21T19:40:51.247Z"
   },
   {
    "duration": 76,
    "start_time": "2022-05-21T19:40:58.381Z"
   },
   {
    "duration": 88,
    "start_time": "2022-05-21T19:41:11.099Z"
   },
   {
    "duration": 77,
    "start_time": "2022-05-21T19:41:14.087Z"
   },
   {
    "duration": 81,
    "start_time": "2022-05-21T19:41:24.519Z"
   },
   {
    "duration": 41,
    "start_time": "2022-05-21T19:41:51.668Z"
   },
   {
    "duration": 58,
    "start_time": "2022-05-21T19:41:55.422Z"
   },
   {
    "duration": 94,
    "start_time": "2022-05-21T19:42:21.503Z"
   },
   {
    "duration": 79,
    "start_time": "2022-05-21T19:42:28.252Z"
   },
   {
    "duration": 9,
    "start_time": "2022-05-21T19:43:14.437Z"
   },
   {
    "duration": 11,
    "start_time": "2022-05-21T19:44:59.542Z"
   },
   {
    "duration": 9,
    "start_time": "2022-05-21T19:45:00.620Z"
   },
   {
    "duration": 12,
    "start_time": "2022-05-21T19:45:08.414Z"
   },
   {
    "duration": 8,
    "start_time": "2022-05-21T19:45:14.101Z"
   },
   {
    "duration": 14,
    "start_time": "2022-05-21T19:45:27.850Z"
   },
   {
    "duration": 14,
    "start_time": "2022-05-21T19:45:39.889Z"
   },
   {
    "duration": 17,
    "start_time": "2022-05-21T19:46:06.226Z"
   },
   {
    "duration": 10,
    "start_time": "2022-05-21T19:46:07.452Z"
   },
   {
    "duration": 455,
    "start_time": "2022-05-21T19:56:42.340Z"
   },
   {
    "duration": 170,
    "start_time": "2022-05-21T19:56:42.797Z"
   },
   {
    "duration": 17,
    "start_time": "2022-05-21T19:56:42.968Z"
   },
   {
    "duration": 31,
    "start_time": "2022-05-21T19:56:42.986Z"
   },
   {
    "duration": 4,
    "start_time": "2022-05-21T19:56:43.020Z"
   },
   {
    "duration": 24,
    "start_time": "2022-05-21T19:56:43.026Z"
   },
   {
    "duration": 8,
    "start_time": "2022-05-21T19:56:43.052Z"
   },
   {
    "duration": 26,
    "start_time": "2022-05-21T19:56:43.061Z"
   },
   {
    "duration": 22,
    "start_time": "2022-05-21T19:56:43.089Z"
   },
   {
    "duration": 52,
    "start_time": "2022-05-21T19:56:43.112Z"
   },
   {
    "duration": 83,
    "start_time": "2022-05-21T19:56:43.166Z"
   },
   {
    "duration": 100,
    "start_time": "2022-05-21T19:56:43.250Z"
   },
   {
    "duration": 61,
    "start_time": "2022-05-21T19:56:43.352Z"
   },
   {
    "duration": 49,
    "start_time": "2022-05-21T19:56:43.415Z"
   },
   {
    "duration": 34,
    "start_time": "2022-05-21T19:56:43.465Z"
   },
   {
    "duration": 48,
    "start_time": "2022-05-21T19:56:43.501Z"
   },
   {
    "duration": 39,
    "start_time": "2022-05-21T19:56:43.551Z"
   },
   {
    "duration": 7,
    "start_time": "2022-05-21T19:56:43.592Z"
   },
   {
    "duration": 9,
    "start_time": "2022-05-21T19:56:43.601Z"
   },
   {
    "duration": 32,
    "start_time": "2022-05-21T19:56:43.611Z"
   },
   {
    "duration": 3,
    "start_time": "2022-05-21T19:56:43.645Z"
   },
   {
    "duration": 18,
    "start_time": "2022-05-21T19:56:43.650Z"
   },
   {
    "duration": 38,
    "start_time": "2022-05-21T19:56:43.669Z"
   },
   {
    "duration": 65,
    "start_time": "2022-05-21T19:56:43.708Z"
   },
   {
    "duration": 9,
    "start_time": "2022-05-21T19:56:43.774Z"
   },
   {
    "duration": 19,
    "start_time": "2022-05-21T19:56:43.784Z"
   },
   {
    "duration": 4,
    "start_time": "2022-05-21T19:56:43.805Z"
   },
   {
    "duration": 5,
    "start_time": "2022-05-21T19:56:43.811Z"
   },
   {
    "duration": 5,
    "start_time": "2022-05-21T19:56:43.818Z"
   },
   {
    "duration": 553,
    "start_time": "2022-05-21T19:56:43.824Z"
   },
   {
    "duration": 3,
    "start_time": "2022-05-21T19:56:44.379Z"
   },
   {
    "duration": 13,
    "start_time": "2022-05-21T19:56:44.384Z"
   },
   {
    "duration": 10,
    "start_time": "2022-05-21T19:56:44.399Z"
   },
   {
    "duration": 3,
    "start_time": "2022-05-21T19:56:44.411Z"
   },
   {
    "duration": 102,
    "start_time": "2022-05-21T19:56:44.416Z"
   },
   {
    "duration": 8,
    "start_time": "2022-05-21T19:56:44.520Z"
   },
   {
    "duration": 29,
    "start_time": "2022-05-21T19:56:44.530Z"
   },
   {
    "duration": 12,
    "start_time": "2022-05-21T19:56:44.561Z"
   },
   {
    "duration": 10,
    "start_time": "2022-05-21T19:56:44.574Z"
   },
   {
    "duration": 6,
    "start_time": "2022-05-21T19:56:44.586Z"
   },
   {
    "duration": 67,
    "start_time": "2022-05-21T19:56:44.597Z"
   },
   {
    "duration": 14,
    "start_time": "2022-05-21T19:56:44.665Z"
   },
   {
    "duration": 18,
    "start_time": "2022-05-21T19:56:44.681Z"
   },
   {
    "duration": 12,
    "start_time": "2022-05-21T19:56:44.700Z"
   },
   {
    "duration": 9,
    "start_time": "2022-05-21T19:56:44.741Z"
   },
   {
    "duration": 6,
    "start_time": "2022-05-21T19:56:44.752Z"
   },
   {
    "duration": 10,
    "start_time": "2022-05-21T19:56:44.760Z"
   },
   {
    "duration": 5,
    "start_time": "2022-05-21T19:56:44.772Z"
   }
  ],
  "colab": {
   "collapsed_sections": [
    "E0vqbgi9ay0H",
    "VUC88oWjTJw2"
   ],
   "name": "yandex_music_project_2021.2.ipynb",
   "provenance": []
  },
  "kernelspec": {
   "display_name": "Python 3 (ipykernel)",
   "language": "python",
   "name": "python3"
  },
  "language_info": {
   "codemirror_mode": {
    "name": "ipython",
    "version": 3
   },
   "file_extension": ".py",
   "mimetype": "text/x-python",
   "name": "python",
   "nbconvert_exporter": "python",
   "pygments_lexer": "ipython3",
   "version": "3.9.7"
  },
  "toc": {
   "base_numbering": 1,
   "nav_menu": {},
   "number_sections": true,
   "sideBar": true,
   "skip_h1_title": true,
   "title_cell": "Table of Contents",
   "title_sidebar": "Contents",
   "toc_cell": false,
   "toc_position": {},
   "toc_section_display": true,
   "toc_window_display": true
  }
 },
 "nbformat": 4,
 "nbformat_minor": 1
}
