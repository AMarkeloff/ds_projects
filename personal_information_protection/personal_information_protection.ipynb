{
 "cells": [
  {
   "cell_type": "markdown",
   "metadata": {
    "toc": true
   },
   "source": [
    "<h1>Содержание<span class=\"tocSkip\"></span></h1>\n",
    "<div class=\"toc\"><ul class=\"toc-item\"><li><span><a href=\"#Загрузка-данных\" data-toc-modified-id=\"Загрузка-данных-1\"><span class=\"toc-item-num\">1&nbsp;&nbsp;</span>Загрузка данных</a></span><ul class=\"toc-item\"><li><span><a href=\"#Вывод\" data-toc-modified-id=\"Вывод-1.1\"><span class=\"toc-item-num\">1.1&nbsp;&nbsp;</span>Вывод</a></span></li></ul></li><li><span><a href=\"#Умножение-матриц\" data-toc-modified-id=\"Умножение-матриц-2\"><span class=\"toc-item-num\">2&nbsp;&nbsp;</span>Умножение матриц</a></span><ul class=\"toc-item\"><li><span><a href=\"#Вывод\" data-toc-modified-id=\"Вывод-2.1\"><span class=\"toc-item-num\">2.1&nbsp;&nbsp;</span>Вывод</a></span></li></ul></li><li><span><a href=\"#Алгоритм-преобразования\" data-toc-modified-id=\"Алгоритм-преобразования-3\"><span class=\"toc-item-num\">3&nbsp;&nbsp;</span>Алгоритм преобразования</a></span><ul class=\"toc-item\"><li><span><a href=\"#Вывод\" data-toc-modified-id=\"Вывод-3.1\"><span class=\"toc-item-num\">3.1&nbsp;&nbsp;</span>Вывод</a></span></li></ul></li><li><span><a href=\"#Проверка-алгоритма\" data-toc-modified-id=\"Проверка-алгоритма-4\"><span class=\"toc-item-num\">4&nbsp;&nbsp;</span>Проверка алгоритма</a></span><ul class=\"toc-item\"><li><span><a href=\"#Выделение-признаков-и-целевого-признака\" data-toc-modified-id=\"Выделение-признаков-и-целевого-признака-4.1\"><span class=\"toc-item-num\">4.1&nbsp;&nbsp;</span>Выделение признаков и целевого признака</a></span></li><li><span><a href=\"#Случайная-обратимая-матрица\" data-toc-modified-id=\"Случайная-обратимая-матрица-4.2\"><span class=\"toc-item-num\">4.2&nbsp;&nbsp;</span>Случайная обратимая матрица</a></span></li><li><span><a href=\"#Преобразование-признаков\" data-toc-modified-id=\"Преобразование-признаков-4.3\"><span class=\"toc-item-num\">4.3&nbsp;&nbsp;</span>Преобразование признаков</a></span></li><li><span><a href=\"#Разделение-на-обучающий-и-тестовый-наборы-данных\" data-toc-modified-id=\"Разделение-на-обучающий-и-тестовый-наборы-данных-4.4\"><span class=\"toc-item-num\">4.4&nbsp;&nbsp;</span>Разделение на обучающий и тестовый наборы данных</a></span></li><li><span><a href=\"#Обучение-модели-линейной-регрессии\" data-toc-modified-id=\"Обучение-модели-линейной-регрессии-4.5\"><span class=\"toc-item-num\">4.5&nbsp;&nbsp;</span>Обучение модели линейной регрессии</a></span></li><li><span><a href=\"#Вывод\" data-toc-modified-id=\"Вывод-4.6\"><span class=\"toc-item-num\">4.6&nbsp;&nbsp;</span>Вывод</a></span></li></ul></li><li><span><a href=\"#Общий-вывод\" data-toc-modified-id=\"Общий-вывод-5\"><span class=\"toc-item-num\">5&nbsp;&nbsp;</span>Общий вывод</a></span></li><li><span><a href=\"#Чек-лист-проверки\" data-toc-modified-id=\"Чек-лист-проверки-6\"><span class=\"toc-item-num\">6&nbsp;&nbsp;</span>Чек-лист проверки</a></span></li></ul></div>"
   ]
  },
  {
   "cell_type": "markdown",
   "metadata": {},
   "source": [
    "# Защита персональных данных клиентов"
   ]
  },
  {
   "cell_type": "markdown",
   "metadata": {},
   "source": [
    "Нам нужно защитить данные клиентов страховой компании «Хоть потоп». Разработаем такой метод преобразования данных, чтобы по ним было сложно восстановить персональную информацию. Затем обоснуем корректность его работы.\n",
    "\n",
    "Нужно защитить данные, чтобы при преобразовании качество моделей машинного обучения не ухудшилось. Подбирать наилучшую модель не требуется."
   ]
  },
  {
   "cell_type": "markdown",
   "metadata": {},
   "source": [
    "## Загрузка данных"
   ]
  },
  {
   "cell_type": "markdown",
   "metadata": {},
   "source": [
    "Для начала импортируем библиотеки, которые будем использовать в ходе исследования:"
   ]
  },
  {
   "cell_type": "code",
   "execution_count": 1,
   "metadata": {},
   "outputs": [],
   "source": [
    "# импорт библиотеки pandas\n",
    "import pandas as pd\n",
    "\n",
    "# импорт библиотеки numpy\n",
    "import numpy as np\n",
    "\n",
    "# импорт библиотеки seaborn\n",
    "import seaborn as sns\n",
    "\n",
    "# импорт pyplot из библиотеки matplotlib\n",
    "import matplotlib.pyplot as plt\n",
    "\n",
    "# train_test_split из модуля sklearn.model_selection \n",
    "# для разделения исходной выборки на обучающую и тестовую\n",
    "from sklearn.model_selection import train_test_split\n",
    "\n",
    "from sklearn.metrics import r2_score\n"
   ]
  },
  {
   "cell_type": "markdown",
   "metadata": {},
   "source": [
    "Прочитаем файл c данными: `/datasets/insurance.csv`. \n",
    "\n",
    "Cохраним содержимое в соответствующей переменной:"
   ]
  },
  {
   "cell_type": "code",
   "execution_count": 2,
   "metadata": {},
   "outputs": [],
   "source": [
    "# чтение файла с данными и сохранение в geo_data_0\n",
    "df_insurance = pd.read_csv('/datasets/insurance.csv')"
   ]
  },
  {
   "cell_type": "markdown",
   "metadata": {},
   "source": [
    "Выведем **размерность таблицы** и ознакомимся с результатами:"
   ]
  },
  {
   "cell_type": "code",
   "execution_count": 3,
   "metadata": {},
   "outputs": [
    {
     "data": {
      "text/plain": [
       "(5000, 5)"
      ]
     },
     "execution_count": 3,
     "metadata": {},
     "output_type": "execute_result"
    }
   ],
   "source": [
    "#выведем размерность таблицы df_insurance\n",
    "df_insurance.shape"
   ]
  },
  {
   "cell_type": "markdown",
   "metadata": {},
   "source": [
    "5000 объектов, 5 признаков в исходном датафрейме."
   ]
  },
  {
   "cell_type": "markdown",
   "metadata": {},
   "source": [
    "Применем метод **`info()`** к таблице:"
   ]
  },
  {
   "cell_type": "code",
   "execution_count": 4,
   "metadata": {},
   "outputs": [
    {
     "name": "stdout",
     "output_type": "stream",
     "text": [
      "<class 'pandas.core.frame.DataFrame'>\n",
      "RangeIndex: 5000 entries, 0 to 4999\n",
      "Data columns (total 5 columns):\n",
      " #   Column             Non-Null Count  Dtype  \n",
      "---  ------             --------------  -----  \n",
      " 0   Пол                5000 non-null   int64  \n",
      " 1   Возраст            5000 non-null   float64\n",
      " 2   Зарплата           5000 non-null   float64\n",
      " 3   Члены семьи        5000 non-null   int64  \n",
      " 4   Страховые выплаты  5000 non-null   int64  \n",
      "dtypes: float64(2), int64(3)\n",
      "memory usage: 195.4 KB\n"
     ]
    }
   ],
   "source": [
    "#выведем информацию о таблице df_insurance\n",
    "df_insurance.info()"
   ]
  },
  {
   "cell_type": "markdown",
   "metadata": {},
   "source": [
    "В исходном датафрейме отсуствуют пропущенные значения. Типы данных корректны, за исключением, возможно, возраста клиентов.\n",
    "\n",
    "Из описания данных известно следующее.\n",
    "\n",
    "**Признаки:** \n",
    "- пол, \n",
    "- возраст,\n",
    "- зарплата застрахованного, \n",
    "- количество членов его семьи. \n",
    "\n",
    "**Целевой признак:** \n",
    "- количество страховых выплат клиенту за последние 5 лет."
   ]
  },
  {
   "cell_type": "markdown",
   "metadata": {},
   "source": [
    "Выведем первые несколько строк таблицы:"
   ]
  },
  {
   "cell_type": "code",
   "execution_count": 5,
   "metadata": {},
   "outputs": [
    {
     "data": {
      "text/html": [
       "<div>\n",
       "<style scoped>\n",
       "    .dataframe tbody tr th:only-of-type {\n",
       "        vertical-align: middle;\n",
       "    }\n",
       "\n",
       "    .dataframe tbody tr th {\n",
       "        vertical-align: top;\n",
       "    }\n",
       "\n",
       "    .dataframe thead th {\n",
       "        text-align: right;\n",
       "    }\n",
       "</style>\n",
       "<table border=\"1\" class=\"dataframe\">\n",
       "  <thead>\n",
       "    <tr style=\"text-align: right;\">\n",
       "      <th></th>\n",
       "      <th>Пол</th>\n",
       "      <th>Возраст</th>\n",
       "      <th>Зарплата</th>\n",
       "      <th>Члены семьи</th>\n",
       "      <th>Страховые выплаты</th>\n",
       "    </tr>\n",
       "  </thead>\n",
       "  <tbody>\n",
       "    <tr>\n",
       "      <th>0</th>\n",
       "      <td>1</td>\n",
       "      <td>41.0</td>\n",
       "      <td>49600.0</td>\n",
       "      <td>1</td>\n",
       "      <td>0</td>\n",
       "    </tr>\n",
       "    <tr>\n",
       "      <th>1</th>\n",
       "      <td>0</td>\n",
       "      <td>46.0</td>\n",
       "      <td>38000.0</td>\n",
       "      <td>1</td>\n",
       "      <td>1</td>\n",
       "    </tr>\n",
       "    <tr>\n",
       "      <th>2</th>\n",
       "      <td>0</td>\n",
       "      <td>29.0</td>\n",
       "      <td>21000.0</td>\n",
       "      <td>0</td>\n",
       "      <td>0</td>\n",
       "    </tr>\n",
       "    <tr>\n",
       "      <th>3</th>\n",
       "      <td>0</td>\n",
       "      <td>21.0</td>\n",
       "      <td>41700.0</td>\n",
       "      <td>2</td>\n",
       "      <td>0</td>\n",
       "    </tr>\n",
       "    <tr>\n",
       "      <th>4</th>\n",
       "      <td>1</td>\n",
       "      <td>28.0</td>\n",
       "      <td>26100.0</td>\n",
       "      <td>0</td>\n",
       "      <td>0</td>\n",
       "    </tr>\n",
       "  </tbody>\n",
       "</table>\n",
       "</div>"
      ],
      "text/plain": [
       "   Пол  Возраст  Зарплата  Члены семьи  Страховые выплаты\n",
       "0    1     41.0   49600.0            1                  0\n",
       "1    0     46.0   38000.0            1                  1\n",
       "2    0     29.0   21000.0            0                  0\n",
       "3    0     21.0   41700.0            2                  0\n",
       "4    1     28.0   26100.0            0                  0"
      ]
     },
     "execution_count": 5,
     "metadata": {},
     "output_type": "execute_result"
    }
   ],
   "source": [
    "#выведем первые несколько строк таблицы\n",
    "df_insurance.head()"
   ]
  },
  {
   "cell_type": "markdown",
   "metadata": {},
   "source": [
    "Ознакомимся с характеристиками выборки:"
   ]
  },
  {
   "cell_type": "code",
   "execution_count": 6,
   "metadata": {},
   "outputs": [
    {
     "data": {
      "text/html": [
       "<div>\n",
       "<style scoped>\n",
       "    .dataframe tbody tr th:only-of-type {\n",
       "        vertical-align: middle;\n",
       "    }\n",
       "\n",
       "    .dataframe tbody tr th {\n",
       "        vertical-align: top;\n",
       "    }\n",
       "\n",
       "    .dataframe thead th {\n",
       "        text-align: right;\n",
       "    }\n",
       "</style>\n",
       "<table border=\"1\" class=\"dataframe\">\n",
       "  <thead>\n",
       "    <tr style=\"text-align: right;\">\n",
       "      <th></th>\n",
       "      <th>Пол</th>\n",
       "      <th>Возраст</th>\n",
       "      <th>Зарплата</th>\n",
       "      <th>Члены семьи</th>\n",
       "      <th>Страховые выплаты</th>\n",
       "    </tr>\n",
       "  </thead>\n",
       "  <tbody>\n",
       "    <tr>\n",
       "      <th>count</th>\n",
       "      <td>5000.000000</td>\n",
       "      <td>5000.000000</td>\n",
       "      <td>5000.000000</td>\n",
       "      <td>5000.000000</td>\n",
       "      <td>5000.000000</td>\n",
       "    </tr>\n",
       "    <tr>\n",
       "      <th>mean</th>\n",
       "      <td>0.499000</td>\n",
       "      <td>30.952800</td>\n",
       "      <td>39916.360000</td>\n",
       "      <td>1.194200</td>\n",
       "      <td>0.148000</td>\n",
       "    </tr>\n",
       "    <tr>\n",
       "      <th>std</th>\n",
       "      <td>0.500049</td>\n",
       "      <td>8.440807</td>\n",
       "      <td>9900.083569</td>\n",
       "      <td>1.091387</td>\n",
       "      <td>0.463183</td>\n",
       "    </tr>\n",
       "    <tr>\n",
       "      <th>min</th>\n",
       "      <td>0.000000</td>\n",
       "      <td>18.000000</td>\n",
       "      <td>5300.000000</td>\n",
       "      <td>0.000000</td>\n",
       "      <td>0.000000</td>\n",
       "    </tr>\n",
       "    <tr>\n",
       "      <th>25%</th>\n",
       "      <td>0.000000</td>\n",
       "      <td>24.000000</td>\n",
       "      <td>33300.000000</td>\n",
       "      <td>0.000000</td>\n",
       "      <td>0.000000</td>\n",
       "    </tr>\n",
       "    <tr>\n",
       "      <th>50%</th>\n",
       "      <td>0.000000</td>\n",
       "      <td>30.000000</td>\n",
       "      <td>40200.000000</td>\n",
       "      <td>1.000000</td>\n",
       "      <td>0.000000</td>\n",
       "    </tr>\n",
       "    <tr>\n",
       "      <th>75%</th>\n",
       "      <td>1.000000</td>\n",
       "      <td>37.000000</td>\n",
       "      <td>46600.000000</td>\n",
       "      <td>2.000000</td>\n",
       "      <td>0.000000</td>\n",
       "    </tr>\n",
       "    <tr>\n",
       "      <th>max</th>\n",
       "      <td>1.000000</td>\n",
       "      <td>65.000000</td>\n",
       "      <td>79000.000000</td>\n",
       "      <td>6.000000</td>\n",
       "      <td>5.000000</td>\n",
       "    </tr>\n",
       "  </tbody>\n",
       "</table>\n",
       "</div>"
      ],
      "text/plain": [
       "               Пол      Возраст      Зарплата  Члены семьи  Страховые выплаты\n",
       "count  5000.000000  5000.000000   5000.000000  5000.000000        5000.000000\n",
       "mean      0.499000    30.952800  39916.360000     1.194200           0.148000\n",
       "std       0.500049     8.440807   9900.083569     1.091387           0.463183\n",
       "min       0.000000    18.000000   5300.000000     0.000000           0.000000\n",
       "25%       0.000000    24.000000  33300.000000     0.000000           0.000000\n",
       "50%       0.000000    30.000000  40200.000000     1.000000           0.000000\n",
       "75%       1.000000    37.000000  46600.000000     2.000000           0.000000\n",
       "max       1.000000    65.000000  79000.000000     6.000000           5.000000"
      ]
     },
     "execution_count": 6,
     "metadata": {},
     "output_type": "execute_result"
    }
   ],
   "source": [
    "#характеристика выборки признаков датафрейма df_insurance\n",
    "df_insurance.describe()"
   ]
  },
  {
   "cell_type": "markdown",
   "metadata": {},
   "source": [
    "Из характеристик выборок признаков мы видим:\n",
    "- `Пол` - *бинарный качественный признак*, который принимает значения `1` или `0`. Выборка по полу не смещена, примерно одинаковое количество женщин и мужчин, так как среднее значение около 0,5.\n",
    "- `Возраст`, `Зарплата`, `Члены семьи` - количественные признаки, средняя и медиана в них близки, что говорит о равномерности выборок.\n",
    "- `Возраст`, вероятно, дискретная переменная, принимающая определённые значения.\n",
    "- `Зарплата` клиентов от *5300 до 79000 единиц*, в среднем - 39916 тыс, медиана - 40200 ед.\n",
    "- По признаку `Члены семьи` мы знаем, что у клиентов от 0 до 6 членов семьи. В среднем 1,2, медиана - 1.\n",
    "- Возраст клиентов от 18 до 65 лет, в среднем 30,95, медиана 30. \n",
    "- Признак `Страховые выплаты` имеет среднее значение `0,148`, максимальное `5,0`, но медиана `0`, возможно, что эта перменная дискретная, принимающая определённые значения, как и возраст клиентов."
   ]
  },
  {
   "cell_type": "markdown",
   "metadata": {},
   "source": [
    "С помощью команды **`unique()`** ознакомимся с уникальными значениями столбца `'Страховые выплаты'`:"
   ]
  },
  {
   "cell_type": "code",
   "execution_count": 7,
   "metadata": {},
   "outputs": [
    {
     "data": {
      "text/plain": [
       "array([0, 1, 2, 3, 5, 4])"
      ]
     },
     "execution_count": 7,
     "metadata": {},
     "output_type": "execute_result"
    }
   ],
   "source": [
    "#выводим уникальные значения столбца 'Страховые выплаты'\n",
    "df_insurance['Страховые выплаты'].unique()"
   ]
  },
  {
   "cell_type": "markdown",
   "metadata": {},
   "source": [
    "Действительно, `'Страховые выплаты'` - *дискретная количественная переменная*, принимает целые значения от 0 до 5."
   ]
  },
  {
   "cell_type": "markdown",
   "metadata": {},
   "source": [
    "Ознакомимся с уникальными значениями столбца `'Возраст'`:"
   ]
  },
  {
   "cell_type": "code",
   "execution_count": 8,
   "metadata": {},
   "outputs": [
    {
     "data": {
      "text/plain": [
       "array([41., 46., 29., 21., 28., 43., 39., 25., 36., 32., 38., 23., 40.,\n",
       "       34., 26., 42., 27., 33., 47., 30., 19., 31., 22., 20., 24., 18.,\n",
       "       37., 48., 45., 44., 52., 49., 35., 56., 65., 55., 57., 54., 50.,\n",
       "       53., 51., 58., 59., 60., 61., 62.])"
      ]
     },
     "execution_count": 8,
     "metadata": {},
     "output_type": "execute_result"
    }
   ],
   "source": [
    "#выводим уникальные значения столбца 'Возраст'\n",
    "df_insurance['Возраст'].unique()"
   ]
  },
  {
   "cell_type": "markdown",
   "metadata": {},
   "source": [
    "Все значения в столбце `'Возраст'` без дробной части, поэтому мы можем изменить тип данных на целочисленный:"
   ]
  },
  {
   "cell_type": "code",
   "execution_count": 9,
   "metadata": {},
   "outputs": [],
   "source": [
    "#изменение типа данных в столбце 'Возраст'\n",
    "df_insurance['Возраст'] = df_insurance['Возраст'].astype('int64')"
   ]
  },
  {
   "cell_type": "markdown",
   "metadata": {},
   "source": [
    "Проверим результат изменения типа данных:"
   ]
  },
  {
   "cell_type": "code",
   "execution_count": 10,
   "metadata": {},
   "outputs": [
    {
     "name": "stdout",
     "output_type": "stream",
     "text": [
      "<class 'pandas.core.frame.DataFrame'>\n",
      "RangeIndex: 5000 entries, 0 to 4999\n",
      "Data columns (total 5 columns):\n",
      " #   Column             Non-Null Count  Dtype  \n",
      "---  ------             --------------  -----  \n",
      " 0   Пол                5000 non-null   int64  \n",
      " 1   Возраст            5000 non-null   int64  \n",
      " 2   Зарплата           5000 non-null   float64\n",
      " 3   Члены семьи        5000 non-null   int64  \n",
      " 4   Страховые выплаты  5000 non-null   int64  \n",
      "dtypes: float64(1), int64(4)\n",
      "memory usage: 195.4 KB\n"
     ]
    }
   ],
   "source": [
    "#выводим информацию о таблице\n",
    "df_insurance.info()"
   ]
  },
  {
   "cell_type": "markdown",
   "metadata": {},
   "source": [
    "Проверим колличественные признаки на мультиколлинеарность с использованием диаграммы рассеяния:"
   ]
  },
  {
   "cell_type": "code",
   "execution_count": 11,
   "metadata": {},
   "outputs": [
    {
     "data": {
      "image/png": "[encoded data removed]",
      "text/plain": [
       "<Figure size 576x576 with 16 Axes>"
      ]
     },
     "metadata": {
      "needs_background": "light"
     },
     "output_type": "display_data"
    }
   ],
   "source": [
    "#строим матрицу диаграмм рассеяния для количественных признаков исходного датафрейма\n",
    "pd.plotting.scatter_matrix(df_insurance[[\"Возраст\", \n",
    "                                         \"Зарплата\", \n",
    "                                         \"Члены семьи\", \n",
    "                                         \"Страховые выплаты\"]],\n",
    "                           figsize=(8, 8))\n",
    "plt.suptitle('Матрица диаграмм рассеяния для количественных признаков исходного датафрейма', \n",
    "             fontsize=14)\n",
    "plt.show()"
   ]
  },
  {
   "cell_type": "markdown",
   "metadata": {},
   "source": [
    "Из диаграммы рассеяния можно сделать вывод, что **чем старше клиент, тем больше количество страховых выплат**. По остальным признакам взаимосвязи неочевидны.\n",
    "\n",
    "С помощью тепловой карты визуализируем значение коэффициента корреляции Пирсона:"
   ]
  },
  {
   "cell_type": "code",
   "execution_count": 12,
   "metadata": {},
   "outputs": [
    {
     "data": {
      "image/png": "[encoded data removed]",
      "text/plain": [
       "<Figure size 1008x360 with 2 Axes>"
      ]
     },
     "metadata": {
      "needs_background": "light"
     },
     "output_type": "display_data"
    }
   ],
   "source": [
    "#строим матрицу корреляции с использованием тепловой карты\n",
    "plt.figure(figsize=(14,5))\n",
    "\n",
    "sns.heatmap(\n",
    "    df_insurance[[\"Возраст\", \n",
    "                  \"Зарплата\", \n",
    "                  \"Члены семьи\", \n",
    "                  \"Страховые выплаты\"]]\n",
    "    .corr(),\n",
    "    annot=True)\n",
    "\n",
    "#название графика\n",
    "plt.title('Тепловая карта для коэффициентов корреляции Пирсона \\n количественных признаков исходного датафрейма', \n",
    "          fontsize=14, \n",
    "          loc='center',\n",
    "          pad=15)\n",
    "\n",
    "#задаём размер значений на оси абсцисс и на оси ординат\n",
    "plt.xticks(fontsize=14)\n",
    "plt.yticks(fontsize=14)\n",
    "\n",
    "plt.show()"
   ]
  },
  {
   "cell_type": "markdown",
   "metadata": {},
   "source": [
    "Тепловая карта подтверждает предыдущий вывод: коэффициент корреляции Пирсона между возрастом и количеством страховых выплат **0,65**, то есть наблюдается умеренная положительная зависимость, так как значение больше 0,5, но менее 1."
   ]
  },
  {
   "cell_type": "markdown",
   "metadata": {},
   "source": [
    "С помощью **диаграмм плотности частоты** ознакомимся с распределениями количественных переменных:"
   ]
  },
  {
   "cell_type": "code",
   "execution_count": 13,
   "metadata": {
    "scrolled": false
   },
   "outputs": [
    {
     "data": {
      "image/png": "[encoded data removed]",
      "text/plain": [
       "<Figure size 720x432 with 1 Axes>"
      ]
     },
     "metadata": {
      "needs_background": "light"
     },
     "output_type": "display_data"
    },
    {
     "data": {
      "image/png": "[encoded data removed]",
      "text/plain": [
       "<Figure size 720x432 with 1 Axes>"
      ]
     },
     "metadata": {
      "needs_background": "light"
     },
     "output_type": "display_data"
    }
   ],
   "source": [
    "for name in ['Возраст','Зарплата']:\n",
    "    \n",
    "    plt.rcParams['figure.figsize']=(10,6)\n",
    "\n",
    "    sns.histplot(df_insurance[name],\n",
    "                 kde=True, label=name,\n",
    "                 stat=\"density\")\n",
    "\n",
    "    #название графика\n",
    "    plt.title('Плотность распределения для признака: '+name, \n",
    "              fontsize=16, pad = 15)\n",
    "    \n",
    "    #подписи осей\n",
    "    plt.xlabel(name, fontsize=16)\n",
    "    plt.ylabel('Плотность распределения', fontsize=16)\n",
    "    \n",
    "    #задаём размер значений на оси абсцисс и на оси ординат\n",
    "    plt.xticks(fontsize=11)\n",
    "    plt.yticks(fontsize=14)\n",
    "    \n",
    "    plt.legend(fontsize=14)\n",
    "    \n",
    "    #отображение сетки\n",
    "    plt.grid()\n",
    "    plt.show()"
   ]
  },
  {
   "cell_type": "markdown",
   "metadata": {},
   "source": [
    "Также с помощью **гистограмм** ознакомимся с распределениями дискретных перменных:"
   ]
  },
  {
   "cell_type": "code",
   "execution_count": 14,
   "metadata": {},
   "outputs": [
    {
     "data": {
      "image/png": "[encoded data removed]",
      "text/plain": [
       "<Figure size 720x432 with 1 Axes>"
      ]
     },
     "metadata": {
      "needs_background": "light"
     },
     "output_type": "display_data"
    },
    {
     "data": {
      "image/png": "[encoded data removed]",
      "text/plain": [
       "<Figure size 720x432 with 1 Axes>"
      ]
     },
     "metadata": {
      "needs_background": "light"
     },
     "output_type": "display_data"
    },
    {
     "data": {
      "image/png": "[encoded data removed]",
      "text/plain": [
       "<Figure size 720x432 with 1 Axes>"
      ]
     },
     "metadata": {
      "needs_background": "light"
     },
     "output_type": "display_data"
    }
   ],
   "source": [
    "for name in ['Пол', 'Страховые выплаты','Члены семьи']:\n",
    "    plt.rcParams['figure.figsize']=(10,6)\n",
    "    \n",
    "    sns.histplot(df_insurance[name],\n",
    "                 label=name,\n",
    "                 kde=False)\n",
    "\n",
    "    #название графика\n",
    "    plt.title('Частота для признака: '+name, fontsize=16 )\n",
    "    \n",
    "    #подписи осей\n",
    "    plt.xlabel(name, fontsize=16)\n",
    "    plt.ylabel('Частота', fontsize=16)\n",
    "    \n",
    "    #задаём размер значений на оси абсцисс и на оси ординат\n",
    "    plt.xticks(fontsize=11)\n",
    "    plt.yticks(fontsize=14)\n",
    "    \n",
    "    plt.legend(fontsize=14)\n",
    "    \n",
    "    #отображение сетки\n",
    "    plt.grid()\n",
    "    plt.show()"
   ]
  },
  {
   "cell_type": "markdown",
   "metadata": {},
   "source": [
    "По диаграммам можно сделать вывод, что нам предстоит работать с подготовленными данными без выбросов и аномальных значений. "
   ]
  },
  {
   "cell_type": "markdown",
   "metadata": {},
   "source": [
    "Проверим исходный датафрейм на наличие **явных полных дубликатов**:"
   ]
  },
  {
   "cell_type": "code",
   "execution_count": 15,
   "metadata": {},
   "outputs": [
    {
     "data": {
      "text/plain": [
       "153"
      ]
     },
     "execution_count": 15,
     "metadata": {},
     "output_type": "execute_result"
    }
   ],
   "source": [
    "#подсчет количества полных явных дубликатов\n",
    "df_insurance.duplicated().sum()"
   ]
  },
  {
   "cell_type": "markdown",
   "metadata": {},
   "source": [
    "Мы имеем **153 полных дубликата**, то есть это объекты, имеющие *один или несколько* полных аналогов по признакам `Пол`, `Возраст`, `Зарплата`, `Члены семьи` и целевому признаку `Страховые выплаты`. В реальной жизни такое **не исключено**, но для обучения модели, вероятно, эти строки были бы лишними, так как не несут новой информации.\n",
    "\n",
    "Так как основная задача данного проекта - **безопасность личных данных** клиентов, то не будем удалять дубликаты на текущем этапе."
   ]
  },
  {
   "cell_type": "markdown",
   "metadata": {},
   "source": [
    "### Вывод"
   ]
  },
  {
   "cell_type": "markdown",
   "metadata": {},
   "source": [
    "Загружены и изучены исходные данные:\n",
    "- в нашем распоряженнии данные о **5000 клиентах по 5 признакам**: пол, зарплата, члены семьи, возраст, количество страховых выплат\n",
    "- целевой признак - *количество страховых выплат*\n",
    "- изучение данных показало наличие **153 явных полных дубликата** в исходной таблице, которые не будем удалять на текущем этапе, потому что подобная ситуация не исключена в реальной жизни, а задача проекта - защита персональных данных клиента\n",
    "- Пол - бинарный качественный признак, который принимает значения 1 или 0. Выборка по полу *не смещена*, примерно одинаковое количество женщин и мужчин, так как среднее значение около 0,5.\n",
    "- Возраст, Зарплата, Члены семьи - количественные признаки, средняя и медиана в них близки, что говорит о *равномерности выборок*.\n",
    "- Возраст - дискретная переменная, принимающая определённые значения, тип данных изменен *на целочисленный*.\n",
    "- Зарплата клиентов от 5300 до 79000 единиц, *в среднем - 39916 тыс, медиана - 40200 ед*.\n",
    "- По признаку Члены семьи мы знаем, что у клиентов от 0 до 6 членов семьи. В среднем 1,2, медиана - 1.\n",
    "- Возраст клиентов от 18 до 65 лет, в среднем 30,95, медиана 30.\n",
    "- В ходе проверки на мульколлинеарность показано, что **чем старше клиент, тем больше количество страховых выплат**\n",
    "- У большинства клиентов количество страховых выплат минимально, как показало распределение частот: в основном - 0, иногда - 1 или 2, гораздо реже от 3 и выше.\n",
    "- Стоит обратить внимание на русскоязычные названия столбцов, что является отклонением от хорошего стиля. Но так как нам предстоит работать с матрицами, то заголовки признаков не так важны, поэтому оставим их без изменений.\n",
    "\n",
    "После изучения данных предварительно можно утверждать, что информации для проведения исследования достаточно."
   ]
  },
  {
   "cell_type": "markdown",
   "metadata": {},
   "source": [
    "## Умножение матриц"
   ]
  },
  {
   "cell_type": "markdown",
   "metadata": {},
   "source": [
    "Обозначения:\n",
    "\n",
    "- $X$ — матрица признаков (нулевой столбец состоит из единиц)\n",
    "\n",
    "- $y$ — вектор целевого признака\n",
    "\n",
    "- $P$ — матрица, на которую умножаются признаки\n",
    "\n",
    "- $w$ — вектор весов линейной регрессии (нулевой элемент равен сдвигу)"
   ]
  },
  {
   "cell_type": "markdown",
   "metadata": {},
   "source": [
    "Предсказания:\n",
    "\n",
    "$$\n",
    "a = Xw\n",
    "$$\n",
    "\n",
    "Задача обучения:\n",
    "\n",
    "$$\n",
    "w = \\arg\\min_w MSE(Xw, y)\n",
    "$$\n",
    "\n",
    "Формула обучения:\n",
    "\n",
    "$$\n",
    "w = (X^T X)^{-1} X^T y\n",
    "$$"
   ]
  },
  {
   "cell_type": "markdown",
   "metadata": {},
   "source": [
    "**Вопрос**: \n",
    "\n",
    "Признаки умножают на обратимую матрицу. Изменится ли качество линейной регрессии? (Её можно обучить заново.)"
   ]
  },
  {
   "cell_type": "markdown",
   "metadata": {},
   "source": [
    "**Ответ:** *Не изменится*."
   ]
  },
  {
   "cell_type": "markdown",
   "metadata": {},
   "source": [
    "**Обоснование:** \n",
    "\n",
    "**Квадратные** матрицы, для которых можно найти обратные, называются **обратимыми**.\n",
    "\n",
    "Задача обучения линейной регрессии - найти *вектор весов линейной регрессии* $w$, в котором нулевой элемент равен сдвигу $w0$.\n",
    "\n",
    "Тогда предсказания мы найдем как:\n",
    "\n",
    "$$\n",
    "a = Xw.\n",
    "$$\n",
    " \n",
    "Параметры линейной регрессии **в исходной задаче**:\n",
    " \n",
    "$$\n",
    "w = (X^T X)^{-1} X^T y.\n",
    "$$"
   ]
  },
  {
   "cell_type": "markdown",
   "metadata": {},
   "source": [
    "Умножение вектора признаков $X$ на любую обратимую матрицу приведёт к изменению значений признаков. Но так как обучение происходит заново, то *вектор весов будет определен снова*. Так как на обучение будет передаваться целевой признак без изменений, то тренировка будет выполнена так, что качество модели не ухудшится. \n",
    "\n",
    "Теперь **продемонстрируем это математически**.\n",
    "\n",
    "В преобразованной задаче мы умножаем вектор признаков (размерностью $m \\times n$) на любую обратимую матрицу, то есть квадратную (размерностью $n \\times n$):\n",
    "\n",
    "$$\n",
    "X(m\\times n)P(n\\times n).\n",
    "$$\n",
    "\n",
    "Тогда предсказания будут записаны как\n",
    "\n",
    "$$\n",
    "a_p = XPw_p.\n",
    "$$"
   ]
  },
  {
   "cell_type": "markdown",
   "metadata": {},
   "source": [
    "Посмотрим как изменится формула параметров линейной регрессии в преобразованной задаче:"
   ]
  },
  {
   "cell_type": "markdown",
   "metadata": {},
   "source": [
    "$$\n",
    "w_p = ((XP)^T (XP))^{-1} (XP)^T y.\n",
    "$$\n"
   ]
  },
  {
   "cell_type": "markdown",
   "metadata": {},
   "source": [
    "Известно, что транспонированное произведение матриц равно произведению транспонированных матриц, взятых в обратном порядке, тогда:"
   ]
  },
  {
   "cell_type": "markdown",
   "metadata": {},
   "source": [
    "$$\n",
    "w_p = ((XP)^T (XP))^{-1} (XP)^T y = (P^TX^T XP)^{-1}P^TX^T y\n",
    "$$"
   ]
  },
  {
   "cell_type": "markdown",
   "metadata": {},
   "source": [
    "Воспользуемся свойством обратной матрицы $(AB)^{-1}=B^{-1}A^{-1}$, которое справедливо **для двух квадратных обратимых матриц** $A$ и $B$:"
   ]
  },
  {
   "cell_type": "markdown",
   "metadata": {},
   "source": [
    "$$\n",
    "w_p = (P^TX^T XP)^{-1}P^TX^T y = P^{-1}(P^TX^T X)^{-1}P^TX^T y\n",
    "$$"
   ]
  },
  {
   "cell_type": "markdown",
   "metadata": {},
   "source": [
    "Мы имеем право так сделать, потому что размерность $P^TX^T X$ имеет размерность квадратной матрицы $(n \\times  n)$, так как размерности матриц при произведении: \n",
    "$$P^T(n \\times  n) X^T(n \\times  m) X(m \\times  n).$$ "
   ]
  },
  {
   "cell_type": "markdown",
   "metadata": {},
   "source": [
    "В соотвествии с **сочетательным свойством** умножения матриц мы можем сначала перемножить $X^T(n \\times  m)$ и $X(m \\times  n)$, получим в результате размерность $(n \\times  n)$, которая сохранится при умножении на квадратную матрицу аналогичной размерности $P^T$."
   ]
  },
  {
   "cell_type": "markdown",
   "metadata": {},
   "source": [
    "Как уже было показано выше, умножение $X^T(n \\times  m)$ и $X(m \\times  n)$ даёт в результате квадратную матрицу $(n \\times  n)$, что позволяет нам ещё раз применить свойство обратных матриц:"
   ]
  },
  {
   "cell_type": "markdown",
   "metadata": {},
   "source": [
    "$$\n",
    "w_p  = P^{-1}(P^T X^T X)^{-1}P^TX^T y = P^{-1} (X^T X)^{-1} P^{-T}P^TX^T y\n",
    "$$"
   ]
  },
  {
   "cell_type": "markdown",
   "metadata": {},
   "source": [
    "Воспользуемся свойством единичных матриц: при умножении матрицы на обратную ей **получается единичная матрица**. Тогда $P^{-T}P^T=E$, выражение для $w_p$ изменится следующим образом:"
   ]
  },
  {
   "cell_type": "markdown",
   "metadata": {},
   "source": [
    "$$\n",
    "w_p  = P^{-1} (X^T X)^{-1} X^T y\n",
    "$$"
   ]
  },
  {
   "cell_type": "markdown",
   "metadata": {},
   "source": [
    "Для наглядности запишем повторно вектор параметров линейной регрессии для исходной задачи:"
   ]
  },
  {
   "cell_type": "markdown",
   "metadata": {},
   "source": [
    "$$\n",
    "w = (X^T X)^{-1} X^T y.\n",
    "$$"
   ]
  },
  {
   "cell_type": "markdown",
   "metadata": {},
   "source": [
    "Очевидно, что для преобразованной задачи можем записать:"
   ]
  },
  {
   "cell_type": "markdown",
   "metadata": {},
   "source": [
    "$$\n",
    "w_p  = P^{-1} w\n",
    "$$"
   ]
  },
  {
   "cell_type": "markdown",
   "metadata": {},
   "source": [
    "Тогда *предсказания* в задаче *после преобразования* **равны** *предсказаниям исходной задачи*:"
   ]
  },
  {
   "cell_type": "markdown",
   "metadata": {},
   "source": [
    "$$\n",
    "a_p = XPw_p = XPP^{-1} w = Xw = a\n",
    "$$"
   ]
  },
  {
   "cell_type": "markdown",
   "metadata": {},
   "source": [
    "Что и требовалось доказать."
   ]
  },
  {
   "cell_type": "markdown",
   "metadata": {},
   "source": [
    "### Вывод"
   ]
  },
  {
   "cell_type": "markdown",
   "metadata": {},
   "source": [
    "Умножение признаков на любую обратимую матрицу **не влияет на качество** моделей линейной регрессии. \n",
    "\n",
    "Это позволяет, по сути, \"зашифровать\" личные данные пользователей и не ухудшить качество модели машинного обучения. В этом случае расшифрока данных пользователей возможна только тогда, когда доступен \"ключ\" - искомая обратимая матрица, с помощью которой выполнено преобразование признаков."
   ]
  },
  {
   "cell_type": "markdown",
   "metadata": {},
   "source": [
    "## Алгоритм преобразования"
   ]
  },
  {
   "cell_type": "markdown",
   "metadata": {},
   "source": [
    "В предыдущем параграфе подробно описан подход к задаче шифрования данных клиентов с использованием обратимой матрицы. Здесь выделим основные моменты, которые проверим на следующем шаге."
   ]
  },
  {
   "cell_type": "markdown",
   "metadata": {},
   "source": [
    "**Алгоритм преобразования данных для решения задачи**\n",
    "\n",
    "- Выделяем признаки $X$ и целевой признак $y$ из исходного набора данных `df_insurance`\n",
    "- В данной задаче в признаках получится матрица $X$ размерностью $(m \\times n)$, где $m=5000$, $n=4$\n",
    "- с помощью `np.random.normal()` генерируем случайную квадратную матрицу $P$ размерностью $(n \\times n)$, важно чтобы размерность была такой, иначе не получится выполнить матричное умножение. Как известно,  вероятность получить необратимую матрицу с использованием `np.random.normal()` близка к нулю\n",
    "- Умножаем матрицу $X$ на $P$, получаем преобразованные данные, с которыми можно работать дальше: \n",
    "    - разделять на тестовый и обучающие наборы данных, \n",
    "    - обучать модель, \n",
    "    - исследовать поведение метрики $R2$."
   ]
  },
  {
   "cell_type": "markdown",
   "metadata": {},
   "source": [
    "**Обоснование**\n",
    "\n",
    "Подробное пошаговое математическое обоснование сохранения качества модели линейной регрессии при преобразовании данных приведено выше. \n",
    "\n",
    "Здесь дополнительно обратим внимание, что операции с целевым признаком $y$ **не производятся**, он сохраняется таким, как в исходной задаче. \n",
    "\n",
    "Это позволяет при обучении модели на преобразованных данных при обнаружении вектора параметров модели линейной регрессии $w_p$ подстроится под изменённые признаки так, что в результате получается произведение обратной матрицы $P^{-1}$ на вектор параметров модели линейной регрессии исходной задачи $w$. Это позволяет получить предсказания такие же, как в исходной задаче, как было показано выше."
   ]
  },
  {
   "cell_type": "markdown",
   "metadata": {},
   "source": [
    "### Вывод"
   ]
  },
  {
   "cell_type": "markdown",
   "metadata": {},
   "source": [
    "Предложен алгоритм для работы с личными данными клиентов, позволяющий не ухудшать качество моделей машинного обучения."
   ]
  },
  {
   "cell_type": "markdown",
   "metadata": {},
   "source": [
    "## Проверка алгоритма"
   ]
  },
  {
   "cell_type": "markdown",
   "metadata": {},
   "source": [
    "### Выделение признаков и целевого признака"
   ]
  },
  {
   "cell_type": "markdown",
   "metadata": {},
   "source": [
    "Для начала выделим из исходного набора данных признаки и целевой признак.\n",
    "\n",
    "Признаки - все, кроме страховых выплат:"
   ]
  },
  {
   "cell_type": "code",
   "execution_count": 16,
   "metadata": {},
   "outputs": [],
   "source": [
    "#сохраняем признаки исходного набора данных в переменной X\n",
    "X = df_insurance.drop(['Страховые выплаты'], axis=1)"
   ]
  },
  {
   "cell_type": "markdown",
   "metadata": {},
   "source": [
    "Целевой признак сохраним в переменной `y`:"
   ]
  },
  {
   "cell_type": "code",
   "execution_count": 17,
   "metadata": {},
   "outputs": [],
   "source": [
    "#сохраняем целевой признак исходного набора данных в переменной y\n",
    "y = df_insurance['Страховые выплаты']"
   ]
  },
  {
   "cell_type": "markdown",
   "metadata": {},
   "source": [
    "### Случайная обратимая матрица"
   ]
  },
  {
   "cell_type": "markdown",
   "metadata": {},
   "source": [
    "Сгенерируем случайную обратимую матрицу размерностью $(4 \\times 4)$:"
   ]
  },
  {
   "cell_type": "code",
   "execution_count": 18,
   "metadata": {
    "scrolled": true
   },
   "outputs": [
    {
     "name": "stdout",
     "output_type": "stream",
     "text": [
      "Случайная обратимая матрица:\n"
     ]
    },
    {
     "data": {
      "text/plain": [
       "array([[ 0.98157472, -1.88255379,  0.43171847, -0.28945808],\n",
       "       [ 1.89064732,  0.93330585, -1.42662243,  1.01097538],\n",
       "       [ 1.56814686, -0.10867489,  0.44870791,  1.75756161],\n",
       "       [-1.24814213,  1.17128268,  1.92284577, -0.47055289]])"
      ]
     },
     "metadata": {},
     "output_type": "display_data"
    }
   ],
   "source": [
    "#случайным образом сгенерируем матрицу размерностью 4х4\n",
    "P = np.random.normal(size=(4, 4))\n",
    "\n",
    "#выведем её на экран\n",
    "print('Случайная обратимая матрица:')\n",
    "display(P)"
   ]
  },
  {
   "cell_type": "markdown",
   "metadata": {},
   "source": [
    "Проверим является ли матрица обратимой, найдём для неё обратную:"
   ]
  },
  {
   "cell_type": "code",
   "execution_count": 19,
   "metadata": {},
   "outputs": [
    {
     "data": {
      "text/plain": [
       "array([[ 0.558937  ,  0.62972872, -0.16817917,  0.3809692 ],\n",
       "       [-0.08814343,  0.41676522, -0.15639148,  0.36549674],\n",
       "       [ 0.27589352,  0.02231119,  0.15029811,  0.43959915],\n",
       "       [-0.57458577, -0.54178835,  0.67098294, -0.42954224]])"
      ]
     },
     "execution_count": 19,
     "metadata": {},
     "output_type": "execute_result"
    }
   ],
   "source": [
    "#найдём обратную матрицу для сгенерированной на предыдщем шаге\n",
    "np.linalg.inv(P) "
   ]
  },
  {
   "cell_type": "markdown",
   "metadata": {},
   "source": [
    "Обратная матрица успешно найдена, можно продолжить проверку алгоритма."
   ]
  },
  {
   "cell_type": "markdown",
   "metadata": {},
   "source": [
    "### Преобразование признаков"
   ]
  },
  {
   "cell_type": "markdown",
   "metadata": {},
   "source": [
    "Преобразуем признаки умношением матрицы $X$ на матрицу $P$:"
   ]
  },
  {
   "cell_type": "code",
   "execution_count": 20,
   "metadata": {},
   "outputs": [],
   "source": [
    "#выполняем преобразование личных данных клиентов\n",
    "X_p = X.values @ P"
   ]
  },
  {
   "cell_type": "markdown",
   "metadata": {},
   "source": [
    "Посмотрим как изменились личные данные и можно ли будет что-то по ним восстановить:"
   ]
  },
  {
   "cell_type": "code",
   "execution_count": 21,
   "metadata": {
    "scrolled": false
   },
   "outputs": [
    {
     "data": {
      "text/html": [
       "<div>\n",
       "<style scoped>\n",
       "    .dataframe tbody tr th:only-of-type {\n",
       "        vertical-align: middle;\n",
       "    }\n",
       "\n",
       "    .dataframe tbody tr th {\n",
       "        vertical-align: top;\n",
       "    }\n",
       "\n",
       "    .dataframe thead th {\n",
       "        text-align: right;\n",
       "    }\n",
       "</style>\n",
       "<table border=\"1\" class=\"dataframe\">\n",
       "  <thead>\n",
       "    <tr style=\"text-align: right;\">\n",
       "      <th></th>\n",
       "      <th>Пол</th>\n",
       "      <th>Возраст</th>\n",
       "      <th>Зарплата</th>\n",
       "      <th>Члены семьи</th>\n",
       "    </tr>\n",
       "  </thead>\n",
       "  <tbody>\n",
       "    <tr>\n",
       "      <th>0</th>\n",
       "      <td>77857.334426</td>\n",
       "      <td>-5352.720207</td>\n",
       "      <td>22199.775277</td>\n",
       "      <td>87215.745651</td>\n",
       "    </tr>\n",
       "    <tr>\n",
       "      <th>1</th>\n",
       "      <td>59675.302466</td>\n",
       "      <td>-4085.542416</td>\n",
       "      <td>16987.198715</td>\n",
       "      <td>66833.375353</td>\n",
       "    </tr>\n",
       "    <tr>\n",
       "      <th>2</th>\n",
       "      <td>32985.912916</td>\n",
       "      <td>-2255.106792</td>\n",
       "      <td>9381.494016</td>\n",
       "      <td>36938.112018</td>\n",
       "    </tr>\n",
       "    <tr>\n",
       "      <th>3</th>\n",
       "      <td>65428.931538</td>\n",
       "      <td>-4509.800868</td>\n",
       "      <td>18685.006381</td>\n",
       "      <td>73310.608359</td>\n",
       "    </tr>\n",
       "    <tr>\n",
       "      <th>4</th>\n",
       "      <td>40982.552850</td>\n",
       "      <td>-2812.164583</td>\n",
       "      <td>11671.762687</td>\n",
       "      <td>45900.375776</td>\n",
       "    </tr>\n",
       "  </tbody>\n",
       "</table>\n",
       "</div>"
      ],
      "text/plain": [
       "            Пол      Возраст      Зарплата   Члены семьи\n",
       "0  77857.334426 -5352.720207  22199.775277  87215.745651\n",
       "1  59675.302466 -4085.542416  16987.198715  66833.375353\n",
       "2  32985.912916 -2255.106792   9381.494016  36938.112018\n",
       "3  65428.931538 -4509.800868  18685.006381  73310.608359\n",
       "4  40982.552850 -2812.164583  11671.762687  45900.375776"
      ]
     },
     "execution_count": 21,
     "metadata": {},
     "output_type": "execute_result"
    }
   ],
   "source": [
    "#с помощью DataFrame смотрим как изменились личные данные после преобразования\n",
    "pd.DataFrame(X_p,columns=X.columns).head()"
   ]
  },
  {
   "cell_type": "markdown",
   "metadata": {},
   "source": [
    "Теперь проверим преобразование, умножим на обратную матрицу:"
   ]
  },
  {
   "cell_type": "code",
   "execution_count": 22,
   "metadata": {},
   "outputs": [
    {
     "data": {
      "text/html": [
       "<div>\n",
       "<style scoped>\n",
       "    .dataframe tbody tr th:only-of-type {\n",
       "        vertical-align: middle;\n",
       "    }\n",
       "\n",
       "    .dataframe tbody tr th {\n",
       "        vertical-align: top;\n",
       "    }\n",
       "\n",
       "    .dataframe thead th {\n",
       "        text-align: right;\n",
       "    }\n",
       "</style>\n",
       "<table border=\"1\" class=\"dataframe\">\n",
       "  <thead>\n",
       "    <tr style=\"text-align: right;\">\n",
       "      <th></th>\n",
       "      <th>Пол</th>\n",
       "      <th>Возраст</th>\n",
       "      <th>Зарплата</th>\n",
       "      <th>Члены семьи</th>\n",
       "    </tr>\n",
       "  </thead>\n",
       "  <tbody>\n",
       "    <tr>\n",
       "      <th>0</th>\n",
       "      <td>1.000000e+00</td>\n",
       "      <td>41.0</td>\n",
       "      <td>49600.0</td>\n",
       "      <td>1.000000e+00</td>\n",
       "    </tr>\n",
       "    <tr>\n",
       "      <th>1</th>\n",
       "      <td>-4.980299e-12</td>\n",
       "      <td>46.0</td>\n",
       "      <td>38000.0</td>\n",
       "      <td>1.000000e+00</td>\n",
       "    </tr>\n",
       "    <tr>\n",
       "      <th>2</th>\n",
       "      <td>-2.887095e-12</td>\n",
       "      <td>29.0</td>\n",
       "      <td>21000.0</td>\n",
       "      <td>3.766948e-12</td>\n",
       "    </tr>\n",
       "    <tr>\n",
       "      <th>3</th>\n",
       "      <td>-9.615533e-12</td>\n",
       "      <td>21.0</td>\n",
       "      <td>41700.0</td>\n",
       "      <td>2.000000e+00</td>\n",
       "    </tr>\n",
       "    <tr>\n",
       "      <th>4</th>\n",
       "      <td>1.000000e+00</td>\n",
       "      <td>28.0</td>\n",
       "      <td>26100.0</td>\n",
       "      <td>2.417084e-12</td>\n",
       "    </tr>\n",
       "  </tbody>\n",
       "</table>\n",
       "</div>"
      ],
      "text/plain": [
       "            Пол  Возраст  Зарплата   Члены семьи\n",
       "0  1.000000e+00     41.0   49600.0  1.000000e+00\n",
       "1 -4.980299e-12     46.0   38000.0  1.000000e+00\n",
       "2 -2.887095e-12     29.0   21000.0  3.766948e-12\n",
       "3 -9.615533e-12     21.0   41700.0  2.000000e+00\n",
       "4  1.000000e+00     28.0   26100.0  2.417084e-12"
      ]
     },
     "execution_count": 22,
     "metadata": {},
     "output_type": "execute_result"
    }
   ],
   "source": [
    "#умножаем преобразованные данные на обратную матрицу и смотрим результат\n",
    "pd.DataFrame(X_p @ np.linalg.inv(P),\n",
    "             columns=X.columns).head()"
   ]
  },
  {
   "cell_type": "markdown",
   "metadata": {},
   "source": [
    "Для наглядности выведем несколько строк $X$ до преобразования:"
   ]
  },
  {
   "cell_type": "code",
   "execution_count": 23,
   "metadata": {},
   "outputs": [
    {
     "data": {
      "text/html": [
       "<div>\n",
       "<style scoped>\n",
       "    .dataframe tbody tr th:only-of-type {\n",
       "        vertical-align: middle;\n",
       "    }\n",
       "\n",
       "    .dataframe tbody tr th {\n",
       "        vertical-align: top;\n",
       "    }\n",
       "\n",
       "    .dataframe thead th {\n",
       "        text-align: right;\n",
       "    }\n",
       "</style>\n",
       "<table border=\"1\" class=\"dataframe\">\n",
       "  <thead>\n",
       "    <tr style=\"text-align: right;\">\n",
       "      <th></th>\n",
       "      <th>Пол</th>\n",
       "      <th>Возраст</th>\n",
       "      <th>Зарплата</th>\n",
       "      <th>Члены семьи</th>\n",
       "    </tr>\n",
       "  </thead>\n",
       "  <tbody>\n",
       "    <tr>\n",
       "      <th>0</th>\n",
       "      <td>1</td>\n",
       "      <td>41</td>\n",
       "      <td>49600.0</td>\n",
       "      <td>1</td>\n",
       "    </tr>\n",
       "    <tr>\n",
       "      <th>1</th>\n",
       "      <td>0</td>\n",
       "      <td>46</td>\n",
       "      <td>38000.0</td>\n",
       "      <td>1</td>\n",
       "    </tr>\n",
       "    <tr>\n",
       "      <th>2</th>\n",
       "      <td>0</td>\n",
       "      <td>29</td>\n",
       "      <td>21000.0</td>\n",
       "      <td>0</td>\n",
       "    </tr>\n",
       "    <tr>\n",
       "      <th>3</th>\n",
       "      <td>0</td>\n",
       "      <td>21</td>\n",
       "      <td>41700.0</td>\n",
       "      <td>2</td>\n",
       "    </tr>\n",
       "    <tr>\n",
       "      <th>4</th>\n",
       "      <td>1</td>\n",
       "      <td>28</td>\n",
       "      <td>26100.0</td>\n",
       "      <td>0</td>\n",
       "    </tr>\n",
       "  </tbody>\n",
       "</table>\n",
       "</div>"
      ],
      "text/plain": [
       "   Пол  Возраст  Зарплата  Члены семьи\n",
       "0    1       41   49600.0            1\n",
       "1    0       46   38000.0            1\n",
       "2    0       29   21000.0            0\n",
       "3    0       21   41700.0            2\n",
       "4    1       28   26100.0            0"
      ]
     },
     "execution_count": 23,
     "metadata": {},
     "output_type": "execute_result"
    }
   ],
   "source": [
    "X.head()"
   ]
  },
  {
   "cell_type": "markdown",
   "metadata": {},
   "source": [
    "Очевидно, что результат совпадает, в датафрейме после преобразования есть значения $10^{-12}$, но это связано с особенностью вычислений вещественных чисел, что корректируется изменением формата данных.\n",
    "\n",
    "Продолжим работу с преобразованными данными."
   ]
  },
  {
   "cell_type": "markdown",
   "metadata": {},
   "source": [
    "### Разделение на обучающий и тестовый наборы данных"
   ]
  },
  {
   "cell_type": "markdown",
   "metadata": {},
   "source": [
    "Разобьем исходный набор данных на обучающую и тестовую выборки в соотношении (4:1).\n",
    "\n",
    "Отложим тестовую выборку (20%), в обучающей оставим 80% исходного датасета.\n",
    "\n",
    "Используем `train_test_split` из модуля `sklearn.model_selection`. Разбивку произведём псевдослучайным образом, задав параметр `random_state` равным `12345`.\n",
    "\n",
    "Так как придется проверять на алгоритм на преобразованных и исходных данных, то введём функцию для разделения на обучающий и тестовый наборы данных:"
   ]
  },
  {
   "cell_type": "code",
   "execution_count": 24,
   "metadata": {},
   "outputs": [],
   "source": [
    "#разделяем исходную выборку на тестовую и обучающую, сохраняем отдельно признаки и целевой признак\n",
    "\n",
    "def train_test(X,y,size):\n",
    "    (X_train, \n",
    "     X_test, \n",
    "     y_train, \n",
    "     y_test) = train_test_split(X, \n",
    "                                y, \n",
    "                                test_size=size, \n",
    "                                random_state=12345)\n",
    "    return (X_train, \n",
    "            X_test, \n",
    "            y_train, \n",
    "            y_test)"
   ]
  },
  {
   "cell_type": "markdown",
   "metadata": {},
   "source": [
    "С помощью функции разделим преобразованный набор данных $X_p$:"
   ]
  },
  {
   "cell_type": "code",
   "execution_count": 25,
   "metadata": {},
   "outputs": [],
   "source": [
    "#разделяем набор данных после преобразования на обучающий и тестовый наборы данных\n",
    "(X_p_train, \n",
    " X_p_test, \n",
    " y_p_train, \n",
    " y_p_test) = train_test(X_p,y,0.2)"
   ]
  },
  {
   "cell_type": "markdown",
   "metadata": {},
   "source": [
    "Проверим корректность разделения путем контроля размерностей с помощью цикла:"
   ]
  },
  {
   "cell_type": "code",
   "execution_count": 26,
   "metadata": {},
   "outputs": [
    {
     "name": "stdout",
     "output_type": "stream",
     "text": [
      "Размерность для X_p_train\n",
      "(4000, 4)\n",
      "\n",
      "Размерность для X_p_test\n",
      "(1000, 4)\n",
      "\n",
      "Размерность для y_p_train\n",
      "(4000,)\n",
      "\n",
      "Размерность для y_p_test\n",
      "(1000,)\n",
      "\n"
     ]
    }
   ],
   "source": [
    "#контролируем размерность каждого получившегося набора данных\n",
    "for name in ['X_p_train','X_p_test','y_p_train','y_p_test']:\n",
    "    print('Размерность для '+name)\n",
    "    print(locals()[name].shape)\n",
    "    print()"
   ]
  },
  {
   "cell_type": "markdown",
   "metadata": {},
   "source": [
    "Очевидно, что разделение на обучающий и тестовый наборы данных **выполнено корректно**."
   ]
  },
  {
   "cell_type": "markdown",
   "metadata": {},
   "source": [
    "Аналогично разделим исходный набор данных:"
   ]
  },
  {
   "cell_type": "code",
   "execution_count": 27,
   "metadata": {},
   "outputs": [],
   "source": [
    "#разделяем набор данных ДО преобразования на обучающий и тестовый наборы данных\n",
    "(X_train, \n",
    " X_test, \n",
    " y_train, \n",
    " y_test) = train_test(X,y,0.2)"
   ]
  },
  {
   "cell_type": "markdown",
   "metadata": {},
   "source": [
    "### Обучение модели линейной регрессии"
   ]
  },
  {
   "cell_type": "markdown",
   "metadata": {},
   "source": [
    "Создим класс `LinearRegression`:\n",
    "- метод `fit()` примет на вход признаки и целевой признак, вычислит `w` по формуле минимизации *MSE*, создаст атрибуты `w` и `w0`\n",
    "- метод `predict()` примет признаки, а вернёт предсказания модели линейной регрессии на всех объектах."
   ]
  },
  {
   "cell_type": "code",
   "execution_count": 28,
   "metadata": {},
   "outputs": [],
   "source": [
    "#создаём класс LinearRegression\n",
    "class LinearRegression:\n",
    "    def fit(self, train_features, train_target):\n",
    "        X = np.concatenate((np.ones((train_features.shape[0], 1)), train_features), axis=1)\n",
    "        y = train_target\n",
    "        w = np.linalg.inv(((X.T@X)))@X.T@y\n",
    "        self.w = w[1:]\n",
    "        self.w0 = w[0]\n",
    "\n",
    "    def predict(self, test_features):\n",
    "        return test_features.dot(self.w) + self.w0"
   ]
  },
  {
   "cell_type": "markdown",
   "metadata": {},
   "source": [
    "Для аккуратной проверки качества двух моделей создаим отдельно каждую, с которыми будем параллельно выполнять опреации обучения, предсказания и оценки качества.\n",
    "\n",
    "Модель линейной регрессии для исходного набора данных:"
   ]
  },
  {
   "cell_type": "code",
   "execution_count": 29,
   "metadata": {},
   "outputs": [],
   "source": [
    "# модель линейной регрессии для исходного набора данных\n",
    "model = LinearRegression()"
   ]
  },
  {
   "cell_type": "markdown",
   "metadata": {},
   "source": [
    "Модель линейной регрессии для преобразованного набора данных:"
   ]
  },
  {
   "cell_type": "code",
   "execution_count": 30,
   "metadata": {},
   "outputs": [],
   "source": [
    "# модель линейной регрессии для преобразованного набора данных\n",
    "model_p = LinearRegression()"
   ]
  },
  {
   "cell_type": "markdown",
   "metadata": {},
   "source": [
    "Выполним обучение модели для исходного набора данных:"
   ]
  },
  {
   "cell_type": "code",
   "execution_count": 31,
   "metadata": {},
   "outputs": [],
   "source": [
    "# обучение модели линейной регрессии для исходного набора данных\n",
    "model.fit(X_train, y_train)"
   ]
  },
  {
   "cell_type": "markdown",
   "metadata": {},
   "source": [
    "Обучим модель для преобразованного набора данных"
   ]
  },
  {
   "cell_type": "code",
   "execution_count": 32,
   "metadata": {},
   "outputs": [],
   "source": [
    "# обучение модели линейной регрессии для преобразованного набора данных\n",
    "model_p.fit(X_p_train, y_p_train)"
   ]
  },
  {
   "cell_type": "markdown",
   "metadata": {},
   "source": [
    "Найдём предсказания на тестовой выборке:\n",
    "\n",
    "- для исходного набора данных"
   ]
  },
  {
   "cell_type": "code",
   "execution_count": 33,
   "metadata": {},
   "outputs": [],
   "source": [
    "# предсказания на тестовой выборке для модели линейной регрессии исходного набора данных\n",
    "predictions = model.predict(X_test)"
   ]
  },
  {
   "cell_type": "markdown",
   "metadata": {},
   "source": [
    "- для преобразованного набора данных"
   ]
  },
  {
   "cell_type": "code",
   "execution_count": 34,
   "metadata": {},
   "outputs": [],
   "source": [
    "# предсказания на тестовой выборке для модели линейной регрессии преобразованного набора данных\n",
    "predictions_p = model_p.predict(X_p_test)"
   ]
  },
  {
   "cell_type": "markdown",
   "metadata": {},
   "source": [
    "**Значения метрик** $R2$ с использованием `r2_score` для исходного набора данных:"
   ]
  },
  {
   "cell_type": "code",
   "execution_count": 35,
   "metadata": {},
   "outputs": [],
   "source": [
    "#значение метрики R2 для исхнодого набора данных\n",
    "r2 = r2_score(y_test, predictions)"
   ]
  },
  {
   "cell_type": "markdown",
   "metadata": {},
   "source": [
    "и для преобразованного:"
   ]
  },
  {
   "cell_type": "code",
   "execution_count": 36,
   "metadata": {},
   "outputs": [],
   "source": [
    "#значение метрики R2 для преобразованного набора данных\n",
    "r2_p = r2_score(y_p_test, predictions_p)"
   ]
  },
  {
   "cell_type": "markdown",
   "metadata": {},
   "source": [
    "Напечатаем на экране значения метрик $R2$ для исходного набора данных и преобразованного:"
   ]
  },
  {
   "cell_type": "code",
   "execution_count": 37,
   "metadata": {},
   "outputs": [
    {
     "name": "stdout",
     "output_type": "stream",
     "text": [
      "Качество линейной регрессии на исходном наборе данных:  0.41176839567704737\n",
      "\n",
      "Качество линейной регрессии на преобразованном наборе данных:  0.4117683952881619\n"
     ]
    }
   ],
   "source": [
    "print('Качество линейной регрессии на исходном наборе данных: ', r2)\n",
    "print()\n",
    "print('Качество линейной регрессии на преобразованном наборе данных: ', r2_p)"
   ]
  },
  {
   "cell_type": "markdown",
   "metadata": {},
   "source": [
    "*Разница в качестве моделей* **ничтожно мала**, обусловлена особенностью вычислений для вещественных чисел.\n",
    "\n",
    "Разница в относительных единицах:"
   ]
  },
  {
   "cell_type": "code",
   "execution_count": 38,
   "metadata": {},
   "outputs": [
    {
     "data": {
      "text/plain": [
       "9.44427701244291e-08"
      ]
     },
     "execution_count": 38,
     "metadata": {},
     "output_type": "execute_result"
    }
   ],
   "source": [
    "abs(r2-r2_p)/r2*100"
   ]
  },
  {
   "cell_type": "markdown",
   "metadata": {},
   "source": [
    "на уровне $10^{-5} \\dots 10^{-8}$ процента. Может меняться при перезапуске, так как матрица $P$ генерируется случайным образом."
   ]
  },
  {
   "cell_type": "markdown",
   "metadata": {},
   "source": [
    "### Вывод"
   ]
  },
  {
   "cell_type": "markdown",
   "metadata": {},
   "source": [
    "Качество модели линейной регресии не изменилось в результате использованного подхода к преобразованию личных данных клиентов."
   ]
  },
  {
   "cell_type": "markdown",
   "metadata": {},
   "source": [
    "## Общий вывод"
   ]
  },
  {
   "cell_type": "markdown",
   "metadata": {},
   "source": [
    "1. Данные загружены и изучены: в нашем распоряженнии данные о 5000 клиентах по 5 признакам: пол, зарплата, члены семьи, возраст, количество страховых выплат.\n",
    "\n",
    "2. Приведено строгое матиматическое обоснование того факта, что **умножение признаков на любую обратимую матрицу не влияет на качество моделей линейной регрессии**. Это позволяет, по сути, \"зашифровать\" личные данные пользователей и не ухудшить качество модели машинного обучения. В этом случае расшифрока данных пользователей возможна только тогда, когда доступен \"ключ\" - искомая обратимая матрица, с помощью которой выполнено преобразование признаков.\n",
    "\n",
    "3. Предложен алгоритм для работы с личными данными клиентов, позволяющий не ухудшать качество моделей машинного обучения.\n",
    "\n",
    "4. Выполнена проверка предложенного алгоритма, в ходе которой показано, что качество модели линейной регресии не изменилось в результате использованного подхода к преобразованию личных данных клиентов. Разница между работой с исходным набором данных и с перобразованным в относительных единицах для метрики $R2$ получена на уровне $10^{-5}  \\dots 10^{-8}$. Это значение ничтожно мало, связано с особенностью вычислений для вещественных чисел. Соответственно, сохранение качества подтверждено."
   ]
  }
 ],
 "metadata": {
  "ExecuteTimeLog": [
   {
    "duration": 571,
    "start_time": "2022-03-06T08:07:35.281Z"
   },
   {
    "duration": 19,
    "start_time": "2022-03-06T08:10:10.077Z"
   },
   {
    "duration": 8,
    "start_time": "2022-03-06T08:10:57.103Z"
   },
   {
    "duration": 8,
    "start_time": "2022-03-06T08:12:11.966Z"
   },
   {
    "duration": 20,
    "start_time": "2022-03-06T08:24:43.657Z"
   },
   {
    "duration": 2268,
    "start_time": "2022-03-06T08:26:58.020Z"
   },
   {
    "duration": 390,
    "start_time": "2022-03-06T08:27:22.903Z"
   },
   {
    "duration": 2489,
    "start_time": "2022-03-06T08:27:25.561Z"
   },
   {
    "duration": 1846,
    "start_time": "2022-03-06T08:27:38.513Z"
   },
   {
    "duration": 1840,
    "start_time": "2022-03-06T08:28:06.145Z"
   },
   {
    "duration": 2803,
    "start_time": "2022-03-06T08:33:41.678Z"
   },
   {
    "duration": 2284,
    "start_time": "2022-03-06T08:33:48.722Z"
   },
   {
    "duration": 344,
    "start_time": "2022-03-06T08:41:26.207Z"
   },
   {
    "duration": 329,
    "start_time": "2022-03-06T08:44:43.507Z"
   },
   {
    "duration": 422,
    "start_time": "2022-03-06T08:44:53.891Z"
   },
   {
    "duration": 253,
    "start_time": "2022-03-06T08:47:29.035Z"
   },
   {
    "duration": 693,
    "start_time": "2022-03-06T08:47:46.111Z"
   },
   {
    "duration": 568,
    "start_time": "2022-03-06T08:48:43.119Z"
   },
   {
    "duration": 1662,
    "start_time": "2022-03-06T08:49:04.207Z"
   },
   {
    "duration": 1322,
    "start_time": "2022-03-06T08:49:30.837Z"
   },
   {
    "duration": 832,
    "start_time": "2022-03-06T08:51:37.976Z"
   },
   {
    "duration": 490,
    "start_time": "2022-03-06T08:53:34.707Z"
   },
   {
    "duration": 579,
    "start_time": "2022-03-06T08:53:43.839Z"
   },
   {
    "duration": 534,
    "start_time": "2022-03-06T08:54:02.349Z"
   },
   {
    "duration": 588,
    "start_time": "2022-03-06T08:54:08.006Z"
   },
   {
    "duration": 451,
    "start_time": "2022-03-06T08:54:24.495Z"
   },
   {
    "duration": 6,
    "start_time": "2022-03-06T08:58:19.429Z"
   },
   {
    "duration": 4,
    "start_time": "2022-03-06T08:58:25.487Z"
   },
   {
    "duration": 4,
    "start_time": "2022-03-06T08:59:39.559Z"
   },
   {
    "duration": 163,
    "start_time": "2022-03-07T07:34:25.922Z"
   },
   {
    "duration": 1057,
    "start_time": "2022-03-07T07:34:31.692Z"
   },
   {
    "duration": 13,
    "start_time": "2022-03-07T07:34:32.750Z"
   },
   {
    "duration": 6,
    "start_time": "2022-03-07T07:34:32.765Z"
   },
   {
    "duration": 9,
    "start_time": "2022-03-07T07:34:32.773Z"
   },
   {
    "duration": 23,
    "start_time": "2022-03-07T07:34:32.783Z"
   },
   {
    "duration": 4,
    "start_time": "2022-03-07T07:34:32.808Z"
   },
   {
    "duration": 5,
    "start_time": "2022-03-07T07:34:32.832Z"
   },
   {
    "duration": 1974,
    "start_time": "2022-03-07T07:34:32.839Z"
   },
   {
    "duration": 460,
    "start_time": "2022-03-07T07:34:34.815Z"
   },
   {
    "duration": 1033,
    "start_time": "2022-03-07T07:34:35.277Z"
   },
   {
    "duration": 487,
    "start_time": "2022-03-07T07:34:36.312Z"
   },
   {
    "duration": 4,
    "start_time": "2022-03-07T07:37:39.188Z"
   },
   {
    "duration": 209,
    "start_time": "2022-03-07T07:37:50.503Z"
   },
   {
    "duration": 133,
    "start_time": "2022-03-07T07:37:53.084Z"
   },
   {
    "duration": 4,
    "start_time": "2022-03-07T07:38:00.819Z"
   },
   {
    "duration": 149,
    "start_time": "2022-03-07T07:38:07.993Z"
   },
   {
    "duration": 125,
    "start_time": "2022-03-07T07:38:12.612Z"
   },
   {
    "duration": 6,
    "start_time": "2022-03-07T07:38:17.128Z"
   },
   {
    "duration": 6,
    "start_time": "2022-03-07T07:38:42.719Z"
   },
   {
    "duration": 591,
    "start_time": "2022-03-07T07:40:24.954Z"
   },
   {
    "duration": 774,
    "start_time": "2022-03-07T07:40:46.477Z"
   },
   {
    "duration": 1000,
    "start_time": "2022-03-07T07:41:14.223Z"
   },
   {
    "duration": 611,
    "start_time": "2022-03-07T07:41:23.621Z"
   },
   {
    "duration": 7,
    "start_time": "2022-03-07T07:46:09.457Z"
   },
   {
    "duration": 6,
    "start_time": "2022-03-07T07:46:13.867Z"
   },
   {
    "duration": 11,
    "start_time": "2022-03-07T07:48:26.056Z"
   },
   {
    "duration": 10,
    "start_time": "2022-03-07T07:49:07.767Z"
   },
   {
    "duration": 7,
    "start_time": "2022-03-07T07:50:11.238Z"
   },
   {
    "duration": 7,
    "start_time": "2022-03-07T07:50:23.170Z"
   },
   {
    "duration": 6,
    "start_time": "2022-03-07T07:51:00.537Z"
   },
   {
    "duration": 11,
    "start_time": "2022-03-07T07:51:57.427Z"
   },
   {
    "duration": 4,
    "start_time": "2022-03-07T07:55:14.345Z"
   },
   {
    "duration": 6,
    "start_time": "2022-03-07T07:55:29.885Z"
   },
   {
    "duration": 131,
    "start_time": "2022-03-07T07:55:39.018Z"
   },
   {
    "duration": 7,
    "start_time": "2022-03-07T07:55:41.768Z"
   },
   {
    "duration": 5,
    "start_time": "2022-03-07T07:56:14.166Z"
   },
   {
    "duration": 8,
    "start_time": "2022-03-07T07:56:14.947Z"
   },
   {
    "duration": 6,
    "start_time": "2022-03-07T07:56:17.010Z"
   },
   {
    "duration": 9,
    "start_time": "2022-03-07T07:56:33.364Z"
   },
   {
    "duration": 9,
    "start_time": "2022-03-07T07:56:43.126Z"
   },
   {
    "duration": 6,
    "start_time": "2022-03-07T07:57:16.513Z"
   },
   {
    "duration": 10,
    "start_time": "2022-03-07T07:57:21.012Z"
   },
   {
    "duration": 12,
    "start_time": "2022-03-07T07:57:25.498Z"
   },
   {
    "duration": 6,
    "start_time": "2022-03-07T07:57:55.728Z"
   },
   {
    "duration": 13,
    "start_time": "2022-03-07T07:59:57.702Z"
   },
   {
    "duration": 10,
    "start_time": "2022-03-07T08:00:10.185Z"
   },
   {
    "duration": 13,
    "start_time": "2022-03-07T08:00:17.711Z"
   },
   {
    "duration": 11,
    "start_time": "2022-03-07T08:00:25.243Z"
   },
   {
    "duration": 9,
    "start_time": "2022-03-07T08:01:09.450Z"
   },
   {
    "duration": 6,
    "start_time": "2022-03-07T08:01:27.920Z"
   },
   {
    "duration": 7,
    "start_time": "2022-03-07T08:02:50.602Z"
   },
   {
    "duration": 5,
    "start_time": "2022-03-07T08:04:31.983Z"
   },
   {
    "duration": 333,
    "start_time": "2022-03-07T13:56:38.390Z"
   },
   {
    "duration": 1807,
    "start_time": "2022-03-07T13:56:45.973Z"
   },
   {
    "duration": 20,
    "start_time": "2022-03-07T13:56:47.782Z"
   },
   {
    "duration": 6,
    "start_time": "2022-03-07T13:56:47.805Z"
   },
   {
    "duration": 18,
    "start_time": "2022-03-07T13:56:47.814Z"
   },
   {
    "duration": 12,
    "start_time": "2022-03-07T13:56:47.835Z"
   },
   {
    "duration": 32,
    "start_time": "2022-03-07T13:56:47.849Z"
   },
   {
    "duration": 5,
    "start_time": "2022-03-07T13:56:47.883Z"
   },
   {
    "duration": 44,
    "start_time": "2022-03-07T13:56:47.892Z"
   },
   {
    "duration": 4,
    "start_time": "2022-03-07T13:56:47.939Z"
   },
   {
    "duration": 10,
    "start_time": "2022-03-07T13:56:47.946Z"
   },
   {
    "duration": 3309,
    "start_time": "2022-03-07T13:56:47.959Z"
   },
   {
    "duration": 506,
    "start_time": "2022-03-07T13:56:51.271Z"
   },
   {
    "duration": 1110,
    "start_time": "2022-03-07T13:56:51.779Z"
   },
   {
    "duration": 1303,
    "start_time": "2022-03-07T13:56:52.891Z"
   },
   {
    "duration": 8,
    "start_time": "2022-03-07T13:56:54.197Z"
   },
   {
    "duration": 28,
    "start_time": "2022-03-07T13:56:54.207Z"
   },
   {
    "duration": 6,
    "start_time": "2022-03-07T13:57:17.986Z"
   },
   {
    "duration": 6,
    "start_time": "2022-03-07T13:57:28.611Z"
   },
   {
    "duration": 779,
    "start_time": "2022-03-07T13:59:59.203Z"
   },
   {
    "duration": 6,
    "start_time": "2022-03-07T14:00:12.359Z"
   },
   {
    "duration": 7,
    "start_time": "2022-03-07T14:00:29.550Z"
   },
   {
    "duration": 7,
    "start_time": "2022-03-07T14:00:41.260Z"
   },
   {
    "duration": 6,
    "start_time": "2022-03-07T14:00:45.227Z"
   },
   {
    "duration": 529,
    "start_time": "2022-03-07T14:01:04.721Z"
   },
   {
    "duration": 1582,
    "start_time": "2022-03-07T15:17:18.840Z"
   },
   {
    "duration": 22,
    "start_time": "2022-03-07T15:17:20.425Z"
   },
   {
    "duration": 8,
    "start_time": "2022-03-07T15:17:20.451Z"
   },
   {
    "duration": 12,
    "start_time": "2022-03-07T15:17:20.462Z"
   },
   {
    "duration": 13,
    "start_time": "2022-03-07T15:17:20.477Z"
   },
   {
    "duration": 72,
    "start_time": "2022-03-07T15:17:20.492Z"
   },
   {
    "duration": 6,
    "start_time": "2022-03-07T15:17:20.567Z"
   },
   {
    "duration": 8,
    "start_time": "2022-03-07T15:17:20.578Z"
   },
   {
    "duration": 45,
    "start_time": "2022-03-07T15:17:20.589Z"
   },
   {
    "duration": 12,
    "start_time": "2022-03-07T15:17:20.637Z"
   },
   {
    "duration": 3937,
    "start_time": "2022-03-07T15:17:20.651Z"
   },
   {
    "duration": 545,
    "start_time": "2022-03-07T15:17:24.591Z"
   },
   {
    "duration": 1142,
    "start_time": "2022-03-07T15:17:25.138Z"
   },
   {
    "duration": 1317,
    "start_time": "2022-03-07T15:17:26.283Z"
   },
   {
    "duration": 8,
    "start_time": "2022-03-07T15:17:27.603Z"
   },
   {
    "duration": 7,
    "start_time": "2022-03-07T15:17:27.633Z"
   },
   {
    "duration": 8,
    "start_time": "2022-03-07T15:17:27.643Z"
   },
   {
    "duration": 323,
    "start_time": "2022-03-08T07:05:39.569Z"
   },
   {
    "duration": 1441,
    "start_time": "2022-03-08T07:05:45.860Z"
   },
   {
    "duration": 20,
    "start_time": "2022-03-08T07:05:47.304Z"
   },
   {
    "duration": 6,
    "start_time": "2022-03-08T07:05:47.329Z"
   },
   {
    "duration": 17,
    "start_time": "2022-03-08T07:05:47.338Z"
   },
   {
    "duration": 13,
    "start_time": "2022-03-08T07:05:47.358Z"
   },
   {
    "duration": 37,
    "start_time": "2022-03-08T07:05:47.373Z"
   },
   {
    "duration": 40,
    "start_time": "2022-03-08T07:05:47.414Z"
   },
   {
    "duration": 8,
    "start_time": "2022-03-08T07:05:47.456Z"
   },
   {
    "duration": 7,
    "start_time": "2022-03-08T07:05:47.467Z"
   },
   {
    "duration": 17,
    "start_time": "2022-03-08T07:05:47.476Z"
   },
   {
    "duration": 4039,
    "start_time": "2022-03-08T07:05:47.495Z"
   },
   {
    "duration": 496,
    "start_time": "2022-03-08T07:05:51.536Z"
   },
   {
    "duration": 1182,
    "start_time": "2022-03-08T07:05:52.034Z"
   },
   {
    "duration": 1236,
    "start_time": "2022-03-08T07:05:53.218Z"
   },
   {
    "duration": 8,
    "start_time": "2022-03-08T07:05:54.456Z"
   },
   {
    "duration": 7,
    "start_time": "2022-03-08T07:30:37.489Z"
   },
   {
    "duration": 7,
    "start_time": "2022-03-08T07:30:40.052Z"
   },
   {
    "duration": 5,
    "start_time": "2022-03-08T07:30:41.236Z"
   },
   {
    "duration": 1238,
    "start_time": "2022-03-08T07:30:51.327Z"
   },
   {
    "duration": 7,
    "start_time": "2022-03-08T07:31:16.034Z"
   },
   {
    "duration": 6,
    "start_time": "2022-03-08T07:31:17.355Z"
   },
   {
    "duration": 6,
    "start_time": "2022-03-08T07:31:19.558Z"
   },
   {
    "duration": 6,
    "start_time": "2022-03-08T07:31:20.453Z"
   },
   {
    "duration": 6,
    "start_time": "2022-03-08T07:31:21.153Z"
   },
   {
    "duration": 8,
    "start_time": "2022-03-08T07:31:21.899Z"
   },
   {
    "duration": 6,
    "start_time": "2022-03-08T07:31:22.432Z"
   },
   {
    "duration": 42,
    "start_time": "2022-03-08T07:32:21.318Z"
   },
   {
    "duration": 5,
    "start_time": "2022-03-08T07:35:30.987Z"
   },
   {
    "duration": 3,
    "start_time": "2022-03-08T07:35:32.135Z"
   },
   {
    "duration": 6,
    "start_time": "2022-03-08T07:41:20.901Z"
   },
   {
    "duration": 4,
    "start_time": "2022-03-08T07:41:22.095Z"
   },
   {
    "duration": 8,
    "start_time": "2022-03-08T07:41:45.400Z"
   },
   {
    "duration": 6,
    "start_time": "2022-03-08T07:43:10.279Z"
   },
   {
    "duration": 307,
    "start_time": "2022-03-08T07:43:24.564Z"
   },
   {
    "duration": 5,
    "start_time": "2022-03-08T07:43:35.735Z"
   },
   {
    "duration": 7,
    "start_time": "2022-03-08T07:43:42.797Z"
   },
   {
    "duration": 6,
    "start_time": "2022-03-08T07:43:47.607Z"
   },
   {
    "duration": 6,
    "start_time": "2022-03-08T07:43:56.191Z"
   },
   {
    "duration": 6,
    "start_time": "2022-03-08T07:45:13.702Z"
   },
   {
    "duration": 7,
    "start_time": "2022-03-08T07:45:18.872Z"
   },
   {
    "duration": 6,
    "start_time": "2022-03-08T08:07:43.478Z"
   },
   {
    "duration": 7,
    "start_time": "2022-03-08T08:07:49.860Z"
   },
   {
    "duration": 7,
    "start_time": "2022-03-08T08:10:38.950Z"
   },
   {
    "duration": 12,
    "start_time": "2022-03-08T08:13:37.881Z"
   },
   {
    "duration": 264,
    "start_time": "2022-03-08T08:13:55.892Z"
   },
   {
    "duration": 284,
    "start_time": "2022-03-08T08:14:00.352Z"
   },
   {
    "duration": 11,
    "start_time": "2022-03-08T08:14:08.528Z"
   },
   {
    "duration": 5,
    "start_time": "2022-03-08T08:14:25.414Z"
   },
   {
    "duration": 16,
    "start_time": "2022-03-08T08:14:30.463Z"
   },
   {
    "duration": 306,
    "start_time": "2022-03-08T08:15:10.241Z"
   },
   {
    "duration": 19,
    "start_time": "2022-03-08T08:15:16.847Z"
   },
   {
    "duration": 12,
    "start_time": "2022-03-08T08:15:25.591Z"
   },
   {
    "duration": 7,
    "start_time": "2022-03-08T08:16:02.159Z"
   },
   {
    "duration": 11,
    "start_time": "2022-03-08T08:16:18.151Z"
   },
   {
    "duration": 4,
    "start_time": "2022-03-08T08:16:28.395Z"
   },
   {
    "duration": 278,
    "start_time": "2022-03-08T08:16:30.853Z"
   },
   {
    "duration": 6,
    "start_time": "2022-03-08T08:16:47.055Z"
   },
   {
    "duration": 5,
    "start_time": "2022-03-08T08:17:01.088Z"
   },
   {
    "duration": 14,
    "start_time": "2022-03-08T08:17:01.939Z"
   },
   {
    "duration": 11,
    "start_time": "2022-03-08T08:17:05.063Z"
   },
   {
    "duration": 19,
    "start_time": "2022-03-08T08:17:08.839Z"
   },
   {
    "duration": 11,
    "start_time": "2022-03-08T08:17:10.979Z"
   },
   {
    "duration": 4,
    "start_time": "2022-03-08T08:18:23.208Z"
   },
   {
    "duration": 16,
    "start_time": "2022-03-08T08:18:50.596Z"
   },
   {
    "duration": 12,
    "start_time": "2022-03-08T08:18:54.826Z"
   },
   {
    "duration": 16,
    "start_time": "2022-03-08T08:19:10.158Z"
   },
   {
    "duration": 336,
    "start_time": "2022-03-08T08:19:18.379Z"
   },
   {
    "duration": 14,
    "start_time": "2022-03-08T08:19:24.010Z"
   },
   {
    "duration": 266,
    "start_time": "2022-03-08T08:19:49.096Z"
   },
   {
    "duration": 293,
    "start_time": "2022-03-08T08:19:56.438Z"
   },
   {
    "duration": 21,
    "start_time": "2022-03-08T08:20:22.773Z"
   },
   {
    "duration": 88,
    "start_time": "2022-03-08T08:20:33.782Z"
   },
   {
    "duration": 20,
    "start_time": "2022-03-08T08:20:37.106Z"
   },
   {
    "duration": 5,
    "start_time": "2022-03-08T08:26:08.299Z"
   },
   {
    "duration": 6,
    "start_time": "2022-03-08T08:28:18.737Z"
   },
   {
    "duration": 6,
    "start_time": "2022-03-08T08:28:34.551Z"
   },
   {
    "duration": 7,
    "start_time": "2022-03-08T08:29:16.688Z"
   },
   {
    "duration": 11,
    "start_time": "2022-03-08T08:29:47.102Z"
   },
   {
    "duration": 6,
    "start_time": "2022-03-08T08:31:09.234Z"
   },
   {
    "duration": 3,
    "start_time": "2022-03-08T08:31:24.726Z"
   },
   {
    "duration": 1502,
    "start_time": "2022-03-08T08:34:52.635Z"
   },
   {
    "duration": 20,
    "start_time": "2022-03-08T08:34:54.140Z"
   },
   {
    "duration": 7,
    "start_time": "2022-03-08T08:34:54.163Z"
   },
   {
    "duration": 12,
    "start_time": "2022-03-08T08:34:54.174Z"
   },
   {
    "duration": 12,
    "start_time": "2022-03-08T08:34:54.188Z"
   },
   {
    "duration": 71,
    "start_time": "2022-03-08T08:34:54.203Z"
   },
   {
    "duration": 7,
    "start_time": "2022-03-08T08:34:54.276Z"
   },
   {
    "duration": 14,
    "start_time": "2022-03-08T08:34:54.287Z"
   },
   {
    "duration": 5,
    "start_time": "2022-03-08T08:34:54.304Z"
   },
   {
    "duration": 39,
    "start_time": "2022-03-08T08:34:54.312Z"
   },
   {
    "duration": 3642,
    "start_time": "2022-03-08T08:34:54.353Z"
   },
   {
    "duration": 602,
    "start_time": "2022-03-08T08:34:57.998Z"
   },
   {
    "duration": 1022,
    "start_time": "2022-03-08T08:34:58.602Z"
   },
   {
    "duration": 1300,
    "start_time": "2022-03-08T08:34:59.627Z"
   },
   {
    "duration": 8,
    "start_time": "2022-03-08T08:35:00.930Z"
   },
   {
    "duration": 5,
    "start_time": "2022-03-08T08:35:00.952Z"
   },
   {
    "duration": 17,
    "start_time": "2022-03-08T08:35:00.960Z"
   },
   {
    "duration": 38,
    "start_time": "2022-03-08T08:35:00.979Z"
   },
   {
    "duration": 45,
    "start_time": "2022-03-08T08:35:01.021Z"
   },
   {
    "duration": 89,
    "start_time": "2022-03-08T08:35:01.069Z"
   },
   {
    "duration": 91,
    "start_time": "2022-03-08T08:35:01.162Z"
   },
   {
    "duration": 20,
    "start_time": "2022-03-08T08:35:01.255Z"
   },
   {
    "duration": 93,
    "start_time": "2022-03-08T08:35:01.358Z"
   },
   {
    "duration": 6,
    "start_time": "2022-03-08T08:35:01.455Z"
   },
   {
    "duration": 7,
    "start_time": "2022-03-08T08:35:01.464Z"
   },
   {
    "duration": 9,
    "start_time": "2022-03-08T08:35:01.473Z"
   },
   {
    "duration": 11,
    "start_time": "2022-03-08T08:35:01.484Z"
   },
   {
    "duration": 7,
    "start_time": "2022-03-08T08:35:01.497Z"
   },
   {
    "duration": 46,
    "start_time": "2022-03-08T08:35:01.506Z"
   },
   {
    "duration": 7,
    "start_time": "2022-03-08T08:35:01.554Z"
   },
   {
    "duration": 9,
    "start_time": "2022-03-08T08:35:01.563Z"
   },
   {
    "duration": 85,
    "start_time": "2022-03-08T08:35:01.575Z"
   },
   {
    "duration": 91,
    "start_time": "2022-03-08T08:35:01.664Z"
   },
   {
    "duration": 93,
    "start_time": "2022-03-08T08:35:01.759Z"
   },
   {
    "duration": 442,
    "start_time": "2022-03-08T08:35:01.855Z"
   },
   {
    "duration": 2209,
    "start_time": "2022-03-08T08:35:00.091Z"
   },
   {
    "duration": 2207,
    "start_time": "2022-03-08T08:35:00.095Z"
   },
   {
    "duration": 5,
    "start_time": "2022-03-08T08:35:19.089Z"
   },
   {
    "duration": 5,
    "start_time": "2022-03-08T08:35:23.778Z"
   },
   {
    "duration": 5,
    "start_time": "2022-03-08T08:35:24.815Z"
   },
   {
    "duration": 4,
    "start_time": "2022-03-08T08:35:26.054Z"
   },
   {
    "duration": 5,
    "start_time": "2022-03-08T08:35:54.282Z"
   },
   {
    "duration": 6,
    "start_time": "2022-03-08T08:36:06.737Z"
   },
   {
    "duration": 6,
    "start_time": "2022-03-08T08:45:32.597Z"
   },
   {
    "duration": 1435,
    "start_time": "2022-03-08T08:57:03.508Z"
   },
   {
    "duration": 20,
    "start_time": "2022-03-08T08:57:04.945Z"
   },
   {
    "duration": 7,
    "start_time": "2022-03-08T08:57:04.968Z"
   },
   {
    "duration": 9,
    "start_time": "2022-03-08T08:57:04.978Z"
   },
   {
    "duration": 12,
    "start_time": "2022-03-08T08:57:04.989Z"
   },
   {
    "duration": 63,
    "start_time": "2022-03-08T08:57:05.003Z"
   },
   {
    "duration": 5,
    "start_time": "2022-03-08T08:57:05.068Z"
   },
   {
    "duration": 8,
    "start_time": "2022-03-08T08:57:05.076Z"
   },
   {
    "duration": 6,
    "start_time": "2022-03-08T08:57:05.088Z"
   },
   {
    "duration": 14,
    "start_time": "2022-03-08T08:57:05.097Z"
   },
   {
    "duration": 3455,
    "start_time": "2022-03-08T08:57:05.113Z"
   },
   {
    "duration": 546,
    "start_time": "2022-03-08T08:57:08.570Z"
   },
   {
    "duration": 1039,
    "start_time": "2022-03-08T08:57:09.118Z"
   },
   {
    "duration": 1261,
    "start_time": "2022-03-08T08:57:10.159Z"
   },
   {
    "duration": 9,
    "start_time": "2022-03-08T08:57:11.422Z"
   },
   {
    "duration": 21,
    "start_time": "2022-03-08T08:57:11.433Z"
   },
   {
    "duration": 10,
    "start_time": "2022-03-08T08:57:11.457Z"
   },
   {
    "duration": 16,
    "start_time": "2022-03-08T08:57:11.470Z"
   },
   {
    "duration": 13,
    "start_time": "2022-03-08T08:57:11.488Z"
   },
   {
    "duration": 4,
    "start_time": "2022-03-08T08:57:11.552Z"
   },
   {
    "duration": 104,
    "start_time": "2022-03-08T08:57:11.558Z"
   },
   {
    "duration": 14,
    "start_time": "2022-03-08T08:57:11.664Z"
   },
   {
    "duration": 81,
    "start_time": "2022-03-08T08:57:11.681Z"
   },
   {
    "duration": 87,
    "start_time": "2022-03-08T08:57:11.766Z"
   },
   {
    "duration": 8,
    "start_time": "2022-03-08T08:57:11.855Z"
   },
   {
    "duration": 9,
    "start_time": "2022-03-08T08:57:11.865Z"
   },
   {
    "duration": 6,
    "start_time": "2022-03-08T08:57:11.880Z"
   },
   {
    "duration": 6,
    "start_time": "2022-03-08T08:57:11.889Z"
   },
   {
    "duration": 5,
    "start_time": "2022-03-08T08:57:11.897Z"
   },
   {
    "duration": 47,
    "start_time": "2022-03-08T08:57:11.904Z"
   },
   {
    "duration": 9,
    "start_time": "2022-03-08T08:57:11.953Z"
   },
   {
    "duration": 89,
    "start_time": "2022-03-08T08:57:11.965Z"
   },
   {
    "duration": 7,
    "start_time": "2022-03-08T08:57:12.057Z"
   },
   {
    "duration": 87,
    "start_time": "2022-03-08T08:57:12.067Z"
   },
   {
    "duration": 94,
    "start_time": "2022-03-08T08:57:12.158Z"
   },
   {
    "duration": 7,
    "start_time": "2022-03-08T08:57:12.254Z"
   },
   {
    "duration": 5,
    "start_time": "2022-03-08T08:57:12.263Z"
   },
   {
    "duration": 9,
    "start_time": "2022-03-08T08:57:12.271Z"
   },
   {
    "duration": 1509,
    "start_time": "2022-03-08T08:58:31.232Z"
   },
   {
    "duration": 15,
    "start_time": "2022-03-08T08:58:32.744Z"
   },
   {
    "duration": 7,
    "start_time": "2022-03-08T08:58:32.762Z"
   },
   {
    "duration": 10,
    "start_time": "2022-03-08T08:58:32.772Z"
   },
   {
    "duration": 13,
    "start_time": "2022-03-08T08:58:32.784Z"
   },
   {
    "duration": 71,
    "start_time": "2022-03-08T08:58:32.799Z"
   },
   {
    "duration": 6,
    "start_time": "2022-03-08T08:58:32.872Z"
   },
   {
    "duration": 8,
    "start_time": "2022-03-08T08:58:32.881Z"
   },
   {
    "duration": 7,
    "start_time": "2022-03-08T08:58:32.893Z"
   },
   {
    "duration": 14,
    "start_time": "2022-03-08T08:58:32.902Z"
   },
   {
    "duration": 3788,
    "start_time": "2022-03-08T08:58:32.919Z"
   },
   {
    "duration": 605,
    "start_time": "2022-03-08T08:58:36.710Z"
   },
   {
    "duration": 1004,
    "start_time": "2022-03-08T08:58:37.317Z"
   },
   {
    "duration": 1246,
    "start_time": "2022-03-08T08:58:38.323Z"
   },
   {
    "duration": 7,
    "start_time": "2022-03-08T08:58:39.572Z"
   },
   {
    "duration": 5,
    "start_time": "2022-03-08T08:58:39.582Z"
   },
   {
    "duration": 5,
    "start_time": "2022-03-08T08:58:39.589Z"
   },
   {
    "duration": 8,
    "start_time": "2022-03-08T08:58:39.597Z"
   },
   {
    "duration": 49,
    "start_time": "2022-03-08T08:58:39.607Z"
   },
   {
    "duration": 3,
    "start_time": "2022-03-08T08:58:39.659Z"
   },
   {
    "duration": 88,
    "start_time": "2022-03-08T08:58:39.665Z"
   },
   {
    "duration": 95,
    "start_time": "2022-03-08T08:58:39.756Z"
   },
   {
    "duration": 94,
    "start_time": "2022-03-08T08:58:39.859Z"
   },
   {
    "duration": 4,
    "start_time": "2022-03-08T08:58:39.957Z"
   },
   {
    "duration": 7,
    "start_time": "2022-03-08T08:58:39.964Z"
   },
   {
    "duration": 7,
    "start_time": "2022-03-08T08:58:39.973Z"
   },
   {
    "duration": 8,
    "start_time": "2022-03-08T08:58:39.982Z"
   },
   {
    "duration": 6,
    "start_time": "2022-03-08T08:58:39.992Z"
   },
   {
    "duration": 4,
    "start_time": "2022-03-08T08:58:40.052Z"
   },
   {
    "duration": 6,
    "start_time": "2022-03-08T08:58:40.059Z"
   },
   {
    "duration": 6,
    "start_time": "2022-03-08T08:58:40.068Z"
   },
   {
    "duration": 75,
    "start_time": "2022-03-08T08:58:40.077Z"
   },
   {
    "duration": 9,
    "start_time": "2022-03-08T08:58:40.155Z"
   },
   {
    "duration": 87,
    "start_time": "2022-03-08T08:58:40.167Z"
   },
   {
    "duration": 7,
    "start_time": "2022-03-08T08:58:40.256Z"
   },
   {
    "duration": 6,
    "start_time": "2022-03-08T08:58:40.266Z"
   },
   {
    "duration": 6,
    "start_time": "2022-03-08T08:58:40.274Z"
   },
   {
    "duration": 70,
    "start_time": "2022-03-08T08:58:40.283Z"
   },
   {
    "duration": 1451,
    "start_time": "2022-03-08T08:58:59.903Z"
   },
   {
    "duration": 14,
    "start_time": "2022-03-08T08:59:01.357Z"
   },
   {
    "duration": 9,
    "start_time": "2022-03-08T08:59:01.375Z"
   },
   {
    "duration": 14,
    "start_time": "2022-03-08T08:59:01.386Z"
   },
   {
    "duration": 14,
    "start_time": "2022-03-08T08:59:01.402Z"
   },
   {
    "duration": 63,
    "start_time": "2022-03-08T08:59:01.418Z"
   },
   {
    "duration": 5,
    "start_time": "2022-03-08T08:59:01.483Z"
   },
   {
    "duration": 18,
    "start_time": "2022-03-08T08:59:01.490Z"
   },
   {
    "duration": 8,
    "start_time": "2022-03-08T08:59:01.512Z"
   },
   {
    "duration": 30,
    "start_time": "2022-03-08T08:59:01.523Z"
   },
   {
    "duration": 3243,
    "start_time": "2022-03-08T08:59:01.555Z"
   },
   {
    "duration": 554,
    "start_time": "2022-03-08T08:59:04.800Z"
   },
   {
    "duration": 1025,
    "start_time": "2022-03-08T08:59:05.356Z"
   },
   {
    "duration": 1277,
    "start_time": "2022-03-08T08:59:06.383Z"
   },
   {
    "duration": 11,
    "start_time": "2022-03-08T08:59:07.663Z"
   },
   {
    "duration": 12,
    "start_time": "2022-03-08T08:59:07.676Z"
   },
   {
    "duration": 10,
    "start_time": "2022-03-08T08:59:07.691Z"
   },
   {
    "duration": 10,
    "start_time": "2022-03-08T08:59:07.703Z"
   },
   {
    "duration": 8,
    "start_time": "2022-03-08T08:59:07.752Z"
   },
   {
    "duration": 8,
    "start_time": "2022-03-08T08:59:07.763Z"
   },
   {
    "duration": 89,
    "start_time": "2022-03-08T08:59:07.773Z"
   },
   {
    "duration": 95,
    "start_time": "2022-03-08T08:59:07.865Z"
   },
   {
    "duration": 91,
    "start_time": "2022-03-08T08:59:07.962Z"
   },
   {
    "duration": 10,
    "start_time": "2022-03-08T08:59:08.055Z"
   },
   {
    "duration": 8,
    "start_time": "2022-03-08T08:59:08.067Z"
   },
   {
    "duration": 7,
    "start_time": "2022-03-08T08:59:08.078Z"
   },
   {
    "duration": 7,
    "start_time": "2022-03-08T08:59:08.092Z"
   },
   {
    "duration": 49,
    "start_time": "2022-03-08T08:59:08.102Z"
   },
   {
    "duration": 4,
    "start_time": "2022-03-08T08:59:08.154Z"
   },
   {
    "duration": 7,
    "start_time": "2022-03-08T08:59:08.160Z"
   },
   {
    "duration": 8,
    "start_time": "2022-03-08T08:59:08.169Z"
   },
   {
    "duration": 73,
    "start_time": "2022-03-08T08:59:08.181Z"
   },
   {
    "duration": 96,
    "start_time": "2022-03-08T08:59:08.258Z"
   },
   {
    "duration": 5,
    "start_time": "2022-03-08T08:59:08.357Z"
   },
   {
    "duration": 90,
    "start_time": "2022-03-08T08:59:08.365Z"
   },
   {
    "duration": 6,
    "start_time": "2022-03-08T08:59:08.458Z"
   },
   {
    "duration": 6,
    "start_time": "2022-03-08T08:59:08.467Z"
   },
   {
    "duration": 8,
    "start_time": "2022-03-08T08:59:08.476Z"
   },
   {
    "duration": 1485,
    "start_time": "2022-03-08T09:00:59.671Z"
   },
   {
    "duration": 21,
    "start_time": "2022-03-08T09:01:01.159Z"
   },
   {
    "duration": 14,
    "start_time": "2022-03-08T09:01:01.183Z"
   },
   {
    "duration": 13,
    "start_time": "2022-03-08T09:01:01.200Z"
   },
   {
    "duration": 13,
    "start_time": "2022-03-08T09:01:01.216Z"
   },
   {
    "duration": 53,
    "start_time": "2022-03-08T09:01:01.231Z"
   },
   {
    "duration": 6,
    "start_time": "2022-03-08T09:01:01.287Z"
   },
   {
    "duration": 20,
    "start_time": "2022-03-08T09:01:01.297Z"
   },
   {
    "duration": 32,
    "start_time": "2022-03-08T09:01:01.320Z"
   },
   {
    "duration": 9,
    "start_time": "2022-03-08T09:01:01.354Z"
   },
   {
    "duration": 3225,
    "start_time": "2022-03-08T09:01:01.365Z"
   },
   {
    "duration": 578,
    "start_time": "2022-03-08T09:01:04.593Z"
   },
   {
    "duration": 1043,
    "start_time": "2022-03-08T09:01:05.174Z"
   },
   {
    "duration": 1351,
    "start_time": "2022-03-08T09:01:06.220Z"
   },
   {
    "duration": 8,
    "start_time": "2022-03-08T09:01:07.574Z"
   },
   {
    "duration": 5,
    "start_time": "2022-03-08T09:01:07.584Z"
   },
   {
    "duration": 5,
    "start_time": "2022-03-08T09:01:07.591Z"
   },
   {
    "duration": 9,
    "start_time": "2022-03-08T09:01:07.599Z"
   },
   {
    "duration": 45,
    "start_time": "2022-03-08T09:01:07.610Z"
   },
   {
    "duration": 5,
    "start_time": "2022-03-08T09:01:07.659Z"
   },
   {
    "duration": 90,
    "start_time": "2022-03-08T09:01:07.666Z"
   },
   {
    "duration": 15,
    "start_time": "2022-03-08T09:01:07.759Z"
   },
   {
    "duration": 11,
    "start_time": "2022-03-08T09:01:07.855Z"
   },
   {
    "duration": 84,
    "start_time": "2022-03-08T09:01:07.869Z"
   },
   {
    "duration": 11,
    "start_time": "2022-03-08T09:01:07.955Z"
   },
   {
    "duration": 6,
    "start_time": "2022-03-08T09:01:07.969Z"
   },
   {
    "duration": 9,
    "start_time": "2022-03-08T09:01:07.978Z"
   },
   {
    "duration": 7,
    "start_time": "2022-03-08T09:01:07.990Z"
   },
   {
    "duration": 51,
    "start_time": "2022-03-08T09:01:08.000Z"
   },
   {
    "duration": 7,
    "start_time": "2022-03-08T09:01:08.054Z"
   },
   {
    "duration": 10,
    "start_time": "2022-03-08T09:01:08.064Z"
   },
   {
    "duration": 75,
    "start_time": "2022-03-08T09:01:08.077Z"
   },
   {
    "duration": 8,
    "start_time": "2022-03-08T09:01:08.155Z"
   },
   {
    "duration": 9,
    "start_time": "2022-03-08T09:01:08.250Z"
   },
   {
    "duration": 7,
    "start_time": "2022-03-08T09:01:08.261Z"
   },
   {
    "duration": 6,
    "start_time": "2022-03-08T09:01:08.271Z"
   },
   {
    "duration": 9,
    "start_time": "2022-03-08T09:01:08.279Z"
   },
   {
    "duration": 6,
    "start_time": "2022-03-08T09:01:08.352Z"
   },
   {
    "duration": 1303,
    "start_time": "2022-05-29T16:14:31.712Z"
   },
   {
    "duration": 77,
    "start_time": "2022-05-29T16:14:33.017Z"
   },
   {
    "duration": 5,
    "start_time": "2022-05-29T16:14:33.096Z"
   },
   {
    "duration": 100,
    "start_time": "2022-05-29T16:14:33.103Z"
   },
   {
    "duration": 12,
    "start_time": "2022-05-29T16:14:33.205Z"
   },
   {
    "duration": 24,
    "start_time": "2022-05-29T16:14:33.219Z"
   },
   {
    "duration": 4,
    "start_time": "2022-05-29T16:14:33.244Z"
   },
   {
    "duration": 7,
    "start_time": "2022-05-29T16:14:33.250Z"
   },
   {
    "duration": 5,
    "start_time": "2022-05-29T16:14:33.258Z"
   },
   {
    "duration": 36,
    "start_time": "2022-05-29T16:14:33.265Z"
   },
   {
    "duration": 1022,
    "start_time": "2022-05-29T16:14:33.303Z"
   },
   {
    "duration": 403,
    "start_time": "2022-05-29T16:14:34.327Z"
   },
   {
    "duration": 518,
    "start_time": "2022-05-29T16:14:34.732Z"
   },
   {
    "duration": 696,
    "start_time": "2022-05-29T16:14:35.251Z"
   },
   {
    "duration": 7,
    "start_time": "2022-05-29T16:14:35.948Z"
   },
   {
    "duration": 8,
    "start_time": "2022-05-29T16:14:35.956Z"
   },
   {
    "duration": 7,
    "start_time": "2022-05-29T16:14:35.965Z"
   },
   {
    "duration": 23,
    "start_time": "2022-05-29T16:14:35.974Z"
   },
   {
    "duration": 11,
    "start_time": "2022-05-29T16:14:35.999Z"
   },
   {
    "duration": 10,
    "start_time": "2022-05-29T16:14:36.013Z"
   },
   {
    "duration": 83,
    "start_time": "2022-05-29T16:14:36.025Z"
   },
   {
    "duration": 93,
    "start_time": "2022-05-29T16:14:36.110Z"
   },
   {
    "duration": 93,
    "start_time": "2022-05-29T16:14:36.205Z"
   },
   {
    "duration": 7,
    "start_time": "2022-05-29T16:14:36.300Z"
   },
   {
    "duration": 8,
    "start_time": "2022-05-29T16:14:36.308Z"
   },
   {
    "duration": 7,
    "start_time": "2022-05-29T16:14:36.318Z"
   },
   {
    "duration": 6,
    "start_time": "2022-05-29T16:14:36.327Z"
   },
   {
    "duration": 5,
    "start_time": "2022-05-29T16:14:36.336Z"
   },
   {
    "duration": 5,
    "start_time": "2022-05-29T16:14:36.343Z"
   },
   {
    "duration": 8,
    "start_time": "2022-05-29T16:14:36.349Z"
   },
   {
    "duration": 7,
    "start_time": "2022-05-29T16:14:36.358Z"
   },
   {
    "duration": 7,
    "start_time": "2022-05-29T16:14:36.396Z"
   },
   {
    "duration": 92,
    "start_time": "2022-05-29T16:14:36.405Z"
   },
   {
    "duration": 13,
    "start_time": "2022-05-29T16:14:36.500Z"
   },
   {
    "duration": 4,
    "start_time": "2022-05-29T16:14:36.595Z"
   },
   {
    "duration": 10,
    "start_time": "2022-05-29T16:14:36.601Z"
   },
   {
    "duration": 5,
    "start_time": "2022-05-29T16:14:36.613Z"
   },
   {
    "duration": 9,
    "start_time": "2022-05-29T16:14:36.620Z"
   },
   {
    "duration": 1095,
    "start_time": "2022-05-29T16:17:28.965Z"
   },
   {
    "duration": 990,
    "start_time": "2022-05-29T16:17:36.915Z"
   },
   {
    "duration": 317,
    "start_time": "2022-05-29T16:17:51.318Z"
   },
   {
    "duration": 1086,
    "start_time": "2022-05-29T16:18:01.550Z"
   },
   {
    "duration": 1095,
    "start_time": "2022-05-29T16:18:24.058Z"
   },
   {
    "duration": 865,
    "start_time": "2022-05-29T16:18:56.769Z"
   },
   {
    "duration": 831,
    "start_time": "2022-05-29T16:19:01.379Z"
   },
   {
    "duration": 281,
    "start_time": "2022-05-29T16:22:09.045Z"
   },
   {
    "duration": 779,
    "start_time": "2022-05-29T16:22:16.346Z"
   },
   {
    "duration": 289,
    "start_time": "2022-05-29T16:22:24.449Z"
   },
   {
    "duration": 515,
    "start_time": "2022-05-29T16:23:42.150Z"
   },
   {
    "duration": 467,
    "start_time": "2022-05-29T16:24:11.252Z"
   },
   {
    "duration": 456,
    "start_time": "2022-05-29T16:25:50.804Z"
   },
   {
    "duration": 557,
    "start_time": "2022-05-29T16:25:54.452Z"
   },
   {
    "duration": 449,
    "start_time": "2022-05-29T16:25:57.563Z"
   },
   {
    "duration": 526,
    "start_time": "2022-05-29T16:27:31.526Z"
   },
   {
    "duration": 510,
    "start_time": "2022-05-29T16:27:37.234Z"
   },
   {
    "duration": 457,
    "start_time": "2022-05-29T16:28:04.465Z"
   },
   {
    "duration": 356,
    "start_time": "2022-05-29T16:28:12.002Z"
   },
   {
    "duration": 353,
    "start_time": "2022-05-29T16:28:20.383Z"
   },
   {
    "duration": 362,
    "start_time": "2022-05-29T16:28:31.794Z"
   },
   {
    "duration": 301,
    "start_time": "2022-05-29T16:28:36.727Z"
   },
   {
    "duration": 360,
    "start_time": "2022-05-29T16:28:42.766Z"
   },
   {
    "duration": 1002,
    "start_time": "2022-05-29T16:32:06.492Z"
   },
   {
    "duration": 1044,
    "start_time": "2022-05-29T16:32:29.415Z"
   },
   {
    "duration": 941,
    "start_time": "2022-05-29T16:32:41.845Z"
   },
   {
    "duration": 944,
    "start_time": "2022-05-29T16:32:45.988Z"
   },
   {
    "duration": 981,
    "start_time": "2022-05-29T16:32:49.870Z"
   },
   {
    "duration": 1149,
    "start_time": "2022-05-29T16:33:01.701Z"
   },
   {
    "duration": 993,
    "start_time": "2022-05-29T16:33:06.270Z"
   },
   {
    "duration": 1014,
    "start_time": "2022-05-29T16:33:22.247Z"
   },
   {
    "duration": 1000,
    "start_time": "2022-05-29T16:33:27.160Z"
   },
   {
    "duration": 1079,
    "start_time": "2022-05-29T16:34:59.084Z"
   },
   {
    "duration": 1020,
    "start_time": "2022-05-29T16:35:06.549Z"
   },
   {
    "duration": 1069,
    "start_time": "2022-05-29T16:36:02.564Z"
   },
   {
    "duration": 1249,
    "start_time": "2022-05-29T16:36:22.160Z"
   },
   {
    "duration": 1143,
    "start_time": "2022-05-29T16:36:29.018Z"
   },
   {
    "duration": 1130,
    "start_time": "2022-05-29T16:36:37.152Z"
   },
   {
    "duration": 1169,
    "start_time": "2022-05-29T16:36:44.057Z"
   },
   {
    "duration": 29,
    "start_time": "2022-05-29T16:36:45.228Z"
   },
   {
    "duration": 4,
    "start_time": "2022-05-29T16:36:45.259Z"
   },
   {
    "duration": 88,
    "start_time": "2022-05-29T16:36:45.265Z"
   },
   {
    "duration": 10,
    "start_time": "2022-05-29T16:36:45.354Z"
   },
   {
    "duration": 42,
    "start_time": "2022-05-29T16:36:45.365Z"
   },
   {
    "duration": 5,
    "start_time": "2022-05-29T16:36:45.411Z"
   },
   {
    "duration": 6,
    "start_time": "2022-05-29T16:36:45.417Z"
   },
   {
    "duration": 8,
    "start_time": "2022-05-29T16:36:45.425Z"
   },
   {
    "duration": 12,
    "start_time": "2022-05-29T16:36:45.435Z"
   },
   {
    "duration": 1512,
    "start_time": "2022-05-29T16:36:45.449Z"
   },
   {
    "duration": 546,
    "start_time": "2022-05-29T16:36:46.994Z"
   },
   {
    "duration": 514,
    "start_time": "2022-05-29T16:36:47.594Z"
   },
   {
    "duration": 1087,
    "start_time": "2022-05-29T16:36:48.110Z"
   },
   {
    "duration": 6,
    "start_time": "2022-05-29T16:36:49.198Z"
   },
   {
    "duration": 8,
    "start_time": "2022-05-29T16:36:49.205Z"
   },
   {
    "duration": 6,
    "start_time": "2022-05-29T16:36:49.214Z"
   },
   {
    "duration": 11,
    "start_time": "2022-05-29T16:36:49.221Z"
   },
   {
    "duration": 7,
    "start_time": "2022-05-29T16:36:49.233Z"
   },
   {
    "duration": 53,
    "start_time": "2022-05-29T16:36:49.242Z"
   },
   {
    "duration": 11,
    "start_time": "2022-05-29T16:36:49.298Z"
   },
   {
    "duration": 93,
    "start_time": "2022-05-29T16:36:49.311Z"
   },
   {
    "duration": 91,
    "start_time": "2022-05-29T16:36:49.406Z"
   },
   {
    "duration": 6,
    "start_time": "2022-05-29T16:36:49.500Z"
   },
   {
    "duration": 13,
    "start_time": "2022-05-29T16:36:49.507Z"
   },
   {
    "duration": 76,
    "start_time": "2022-05-29T16:36:49.521Z"
   },
   {
    "duration": 8,
    "start_time": "2022-05-29T16:36:49.599Z"
   },
   {
    "duration": 4,
    "start_time": "2022-05-29T16:36:49.610Z"
   },
   {
    "duration": 6,
    "start_time": "2022-05-29T16:36:49.615Z"
   },
   {
    "duration": 5,
    "start_time": "2022-05-29T16:36:49.622Z"
   },
   {
    "duration": 7,
    "start_time": "2022-05-29T16:36:49.629Z"
   },
   {
    "duration": 58,
    "start_time": "2022-05-29T16:36:49.638Z"
   },
   {
    "duration": 6,
    "start_time": "2022-05-29T16:36:49.699Z"
   },
   {
    "duration": 99,
    "start_time": "2022-05-29T16:36:49.708Z"
   },
   {
    "duration": 85,
    "start_time": "2022-05-29T16:36:49.809Z"
   },
   {
    "duration": 6,
    "start_time": "2022-05-29T16:36:49.896Z"
   },
   {
    "duration": 5,
    "start_time": "2022-05-29T16:36:49.904Z"
   },
   {
    "duration": 6,
    "start_time": "2022-05-29T16:36:49.910Z"
   },
   {
    "duration": 975,
    "start_time": "2022-05-29T16:37:10.269Z"
   },
   {
    "duration": 1147,
    "start_time": "2022-05-29T16:37:16.302Z"
   },
   {
    "duration": 30,
    "start_time": "2022-05-29T16:37:17.451Z"
   },
   {
    "duration": 5,
    "start_time": "2022-05-29T16:37:17.482Z"
   },
   {
    "duration": 85,
    "start_time": "2022-05-29T16:37:17.489Z"
   },
   {
    "duration": 10,
    "start_time": "2022-05-29T16:37:17.576Z"
   },
   {
    "duration": 21,
    "start_time": "2022-05-29T16:37:17.594Z"
   },
   {
    "duration": 3,
    "start_time": "2022-05-29T16:37:17.617Z"
   },
   {
    "duration": 7,
    "start_time": "2022-05-29T16:37:17.622Z"
   },
   {
    "duration": 8,
    "start_time": "2022-05-29T16:37:17.630Z"
   },
   {
    "duration": 12,
    "start_time": "2022-05-29T16:37:17.640Z"
   },
   {
    "duration": 1011,
    "start_time": "2022-05-29T16:37:17.654Z"
   },
   {
    "duration": 397,
    "start_time": "2022-05-29T16:37:18.666Z"
   },
   {
    "duration": 534,
    "start_time": "2022-05-29T16:37:19.065Z"
   },
   {
    "duration": 1051,
    "start_time": "2022-05-29T16:37:19.601Z"
   },
   {
    "duration": 7,
    "start_time": "2022-05-29T16:37:20.654Z"
   },
   {
    "duration": 4,
    "start_time": "2022-05-29T16:37:20.663Z"
   },
   {
    "duration": 5,
    "start_time": "2022-05-29T16:37:20.669Z"
   },
   {
    "duration": 21,
    "start_time": "2022-05-29T16:37:20.675Z"
   },
   {
    "duration": 12,
    "start_time": "2022-05-29T16:37:20.698Z"
   },
   {
    "duration": 15,
    "start_time": "2022-05-29T16:37:20.713Z"
   },
   {
    "duration": 10,
    "start_time": "2022-05-29T16:37:20.794Z"
   },
   {
    "duration": 97,
    "start_time": "2022-05-29T16:37:20.805Z"
   },
   {
    "duration": 9,
    "start_time": "2022-05-29T16:37:20.904Z"
   },
   {
    "duration": 87,
    "start_time": "2022-05-29T16:37:20.914Z"
   },
   {
    "duration": 7,
    "start_time": "2022-05-29T16:37:21.003Z"
   },
   {
    "duration": 13,
    "start_time": "2022-05-29T16:37:21.011Z"
   },
   {
    "duration": 11,
    "start_time": "2022-05-29T16:37:21.025Z"
   },
   {
    "duration": 7,
    "start_time": "2022-05-29T16:37:21.039Z"
   },
   {
    "duration": 6,
    "start_time": "2022-05-29T16:37:21.047Z"
   },
   {
    "duration": 6,
    "start_time": "2022-05-29T16:37:21.054Z"
   },
   {
    "duration": 7,
    "start_time": "2022-05-29T16:37:21.061Z"
   },
   {
    "duration": 27,
    "start_time": "2022-05-29T16:37:21.070Z"
   },
   {
    "duration": 94,
    "start_time": "2022-05-29T16:37:21.100Z"
   },
   {
    "duration": 4,
    "start_time": "2022-05-29T16:37:21.197Z"
   },
   {
    "duration": 91,
    "start_time": "2022-05-29T16:37:21.203Z"
   },
   {
    "duration": 5,
    "start_time": "2022-05-29T16:37:21.296Z"
   },
   {
    "duration": 11,
    "start_time": "2022-05-29T16:37:21.303Z"
   },
   {
    "duration": 11,
    "start_time": "2022-05-29T16:37:21.315Z"
   },
   {
    "duration": 537,
    "start_time": "2022-05-29T16:37:41.021Z"
   },
   {
    "duration": 1104,
    "start_time": "2022-05-29T16:37:56.026Z"
   },
   {
    "duration": 30,
    "start_time": "2022-05-29T16:37:57.132Z"
   },
   {
    "duration": 6,
    "start_time": "2022-05-29T16:37:57.163Z"
   },
   {
    "duration": 83,
    "start_time": "2022-05-29T16:37:57.171Z"
   },
   {
    "duration": 11,
    "start_time": "2022-05-29T16:37:57.256Z"
   },
   {
    "duration": 38,
    "start_time": "2022-05-29T16:37:57.268Z"
   },
   {
    "duration": 4,
    "start_time": "2022-05-29T16:37:57.307Z"
   },
   {
    "duration": 6,
    "start_time": "2022-05-29T16:37:57.313Z"
   },
   {
    "duration": 8,
    "start_time": "2022-05-29T16:37:57.320Z"
   },
   {
    "duration": 10,
    "start_time": "2022-05-29T16:37:57.330Z"
   },
   {
    "duration": 1000,
    "start_time": "2022-05-29T16:37:57.341Z"
   },
   {
    "duration": 356,
    "start_time": "2022-05-29T16:37:58.342Z"
   },
   {
    "duration": 567,
    "start_time": "2022-05-29T16:37:58.699Z"
   },
   {
    "duration": 690,
    "start_time": "2022-05-29T16:37:59.268Z"
   },
   {
    "duration": 6,
    "start_time": "2022-05-29T16:37:59.959Z"
   },
   {
    "duration": 5,
    "start_time": "2022-05-29T16:37:59.966Z"
   },
   {
    "duration": 5,
    "start_time": "2022-05-29T16:37:59.973Z"
   },
   {
    "duration": 6,
    "start_time": "2022-05-29T16:37:59.993Z"
   },
   {
    "duration": 9,
    "start_time": "2022-05-29T16:38:00.000Z"
   },
   {
    "duration": 10,
    "start_time": "2022-05-29T16:38:00.010Z"
   },
   {
    "duration": 84,
    "start_time": "2022-05-29T16:38:00.022Z"
   },
   {
    "duration": 101,
    "start_time": "2022-05-29T16:38:00.108Z"
   },
   {
    "duration": 88,
    "start_time": "2022-05-29T16:38:00.211Z"
   },
   {
    "duration": 6,
    "start_time": "2022-05-29T16:38:00.301Z"
   },
   {
    "duration": 22,
    "start_time": "2022-05-29T16:38:00.308Z"
   },
   {
    "duration": 14,
    "start_time": "2022-05-29T16:38:00.332Z"
   },
   {
    "duration": 15,
    "start_time": "2022-05-29T16:38:00.348Z"
   },
   {
    "duration": 28,
    "start_time": "2022-05-29T16:38:00.366Z"
   },
   {
    "duration": 9,
    "start_time": "2022-05-29T16:38:00.396Z"
   },
   {
    "duration": 10,
    "start_time": "2022-05-29T16:38:00.407Z"
   },
   {
    "duration": 16,
    "start_time": "2022-05-29T16:38:00.418Z"
   },
   {
    "duration": 58,
    "start_time": "2022-05-29T16:38:00.437Z"
   },
   {
    "duration": 99,
    "start_time": "2022-05-29T16:38:00.497Z"
   },
   {
    "duration": 16,
    "start_time": "2022-05-29T16:38:00.598Z"
   },
   {
    "duration": 9,
    "start_time": "2022-05-29T16:38:00.616Z"
   },
   {
    "duration": 7,
    "start_time": "2022-05-29T16:38:00.627Z"
   },
   {
    "duration": 7,
    "start_time": "2022-05-29T16:38:00.636Z"
   },
   {
    "duration": 22,
    "start_time": "2022-05-29T16:38:00.645Z"
   }
  ],
  "kernelspec": {
   "display_name": "Python 3 (ipykernel)",
   "language": "python",
   "name": "python3"
  },
  "language_info": {
   "codemirror_mode": {
    "name": "ipython",
    "version": 3
   },
   "file_extension": ".py",
   "mimetype": "text/x-python",
   "name": "python",
   "nbconvert_exporter": "python",
   "pygments_lexer": "ipython3",
   "version": "3.9.7"
  },
  "toc": {
   "base_numbering": 1,
   "nav_menu": {},
   "number_sections": true,
   "sideBar": true,
   "skip_h1_title": true,
   "title_cell": "Содержание",
   "title_sidebar": "Contents",
   "toc_cell": true,
   "toc_position": {},
   "toc_section_display": true,
   "toc_window_display": true
  }
 },
 "nbformat": 4,
 "nbformat_minor": 2
}
