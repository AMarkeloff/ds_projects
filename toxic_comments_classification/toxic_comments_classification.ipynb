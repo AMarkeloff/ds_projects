{
 "cells": [
  {
   "cell_type": "markdown",
   "metadata": {
    "toc": true
   },
   "source": [
    "<h1>Содержание<span class=\"tocSkip\"></span></h1>\n",
    "<div class=\"toc\"><ul class=\"toc-item\"><li><span><a href=\"#Подготовка\" data-toc-modified-id=\"Подготовка-1\"><span class=\"toc-item-num\">1&nbsp;&nbsp;</span>Подготовка</a></span><ul class=\"toc-item\"><li><span><a href=\"#Загрузка-библиотек\" data-toc-modified-id=\"Загрузка-библиотек-1.1\"><span class=\"toc-item-num\">1.1&nbsp;&nbsp;</span>Загрузка библиотек</a></span></li><li><span><a href=\"#Загрузка-данных\" data-toc-modified-id=\"Загрузка-данных-1.2\"><span class=\"toc-item-num\">1.2&nbsp;&nbsp;</span>Загрузка данных</a></span></li><li><span><a href=\"#Функция-лемматизации\" data-toc-modified-id=\"Функция-лемматизации-1.3\"><span class=\"toc-item-num\">1.3&nbsp;&nbsp;</span>Функция лемматизации</a></span></li><li><span><a href=\"#Регулярные-выражения-(функция-для-очистки-текста)\" data-toc-modified-id=\"Регулярные-выражения-(функция-для-очистки-текста)-1.4\"><span class=\"toc-item-num\">1.4&nbsp;&nbsp;</span>Регулярные выражения (функция для очистки текста)</a></span></li><li><span><a href=\"#Применение-функций-лемматизации-и-очистки-текста\" data-toc-modified-id=\"Применение-функций-лемматизации-и-очистки-текста-1.5\"><span class=\"toc-item-num\">1.5&nbsp;&nbsp;</span>Применение функций лемматизации и очистки текста</a></span></li><li><span><a href=\"#Разбивка-данных-на-выборки\" data-toc-modified-id=\"Разбивка-данных-на-выборки-1.6\"><span class=\"toc-item-num\">1.6&nbsp;&nbsp;</span>Разбивка данных на выборки</a></span></li><li><span><a href=\"#Тестовый,-обучающий-и-валидационный-наборы-данных\" data-toc-modified-id=\"Тестовый,-обучающий-и-валидационный-наборы-данных-1.7\"><span class=\"toc-item-num\">1.7&nbsp;&nbsp;</span>Тестовый, обучающий и валидационный наборы данных</a></span></li><li><span><a href=\"#Вывод\" data-toc-modified-id=\"Вывод-1.8\"><span class=\"toc-item-num\">1.8&nbsp;&nbsp;</span>Вывод</a></span></li></ul></li><li><span><a href=\"#Обучение\" data-toc-modified-id=\"Обучение-2\"><span class=\"toc-item-num\">2&nbsp;&nbsp;</span>Обучение</a></span><ul class=\"toc-item\"><li><span><a href=\"#Модель-мажоритарного-класса\" data-toc-modified-id=\"Модель-мажоритарного-класса-2.1\"><span class=\"toc-item-num\">2.1&nbsp;&nbsp;</span>Модель мажоритарного класса</a></span></li><li><span><a href=\"#Модели-без-учета-дисбаланса\" data-toc-modified-id=\"Модели-без-учета-дисбаланса-2.2\"><span class=\"toc-item-num\">2.2&nbsp;&nbsp;</span>Модели без учета дисбаланса</a></span><ul class=\"toc-item\"><li><span><a href=\"#Модель-логистической-регрессии-(без-учета-дисбаланса)\" data-toc-modified-id=\"Модель-логистической-регрессии-(без-учета-дисбаланса)-2.2.1\"><span class=\"toc-item-num\">2.2.1&nbsp;&nbsp;</span>Модель логистической регрессии (без учета дисбаланса)</a></span></li><li><span><a href=\"#Модель-решающего-дерева-(без-учета-дисбаланса)\" data-toc-modified-id=\"Модель-решающего-дерева-(без-учета-дисбаланса)-2.2.2\"><span class=\"toc-item-num\">2.2.2&nbsp;&nbsp;</span>Модель решающего дерева (без учета дисбаланса)</a></span></li><li><span><a href=\"#Модель-случайного-леса-(без-учета-дисбаланса)\" data-toc-modified-id=\"Модель-случайного-леса-(без-учета-дисбаланса)-2.2.3\"><span class=\"toc-item-num\">2.2.3&nbsp;&nbsp;</span>Модель случайного леса (без учета дисбаланса)</a></span></li></ul></li><li><span><a href=\"#ROC-кривая-для-модели-логистической-регрессии\" data-toc-modified-id=\"ROC-кривая-для-модели-логистической-регрессии-2.3\"><span class=\"toc-item-num\">2.3&nbsp;&nbsp;</span>ROC-кривая для модели логистической регрессии</a></span></li><li><span><a href=\"#Изменение-порога\" data-toc-modified-id=\"Изменение-порога-2.4\"><span class=\"toc-item-num\">2.4&nbsp;&nbsp;</span>Изменение порога</a></span><ul class=\"toc-item\"><li><span><a href=\"#Логистическая-регрессия\" data-toc-modified-id=\"Логистическая-регрессия-2.4.1\"><span class=\"toc-item-num\">2.4.1&nbsp;&nbsp;</span>Логистическая регрессия</a></span></li><li><span><a href=\"#Для-модели-решающего-дерева\" data-toc-modified-id=\"Для-модели-решающего-дерева-2.4.2\"><span class=\"toc-item-num\">2.4.2&nbsp;&nbsp;</span>Для модели решающего дерева</a></span></li></ul></li><li><span><a href=\"#Взвешивание-классов\" data-toc-modified-id=\"Взвешивание-классов-2.5\"><span class=\"toc-item-num\">2.5&nbsp;&nbsp;</span>Взвешивание классов</a></span><ul class=\"toc-item\"><li><span><a href=\"#Взвешивание-классов-для-логистической-регрессии\" data-toc-modified-id=\"Взвешивание-классов-для-логистической-регрессии-2.5.1\"><span class=\"toc-item-num\">2.5.1&nbsp;&nbsp;</span>Взвешивание классов для логистической регрессии</a></span></li><li><span><a href=\"#Взвешивание-классов-для-решающего-дерева\" data-toc-modified-id=\"Взвешивание-классов-для-решающего-дерева-2.5.2\"><span class=\"toc-item-num\">2.5.2&nbsp;&nbsp;</span>Взвешивание классов для решающего дерева</a></span></li></ul></li><li><span><a href=\"#Вывод\" data-toc-modified-id=\"Вывод-2.6\"><span class=\"toc-item-num\">2.6&nbsp;&nbsp;</span>Вывод</a></span></li></ul></li><li><span><a href=\"#Тестирование-модели\" data-toc-modified-id=\"Тестирование-модели-3\"><span class=\"toc-item-num\">3&nbsp;&nbsp;</span>Тестирование модели</a></span></li><li><span><a href=\"#Общий-вывод\" data-toc-modified-id=\"Общий-вывод-4\"><span class=\"toc-item-num\">4&nbsp;&nbsp;</span>Общий вывод</a></span></li></ul></div>"
   ]
  },
  {
   "cell_type": "markdown",
   "metadata": {},
   "source": [
    "# Проект для «Викишоп»"
   ]
  },
  {
   "cell_type": "markdown",
   "metadata": {},
   "source": [
    "Интернет-магазин «Викишоп» запускает новый сервис. Теперь пользователи могут редактировать и дополнять описания товаров, как в вики-сообществах. То есть клиенты предлагают свои правки и комментируют изменения других. Магазину нужен инструмент, который будет искать токсичные комментарии и отправлять их на модерацию. \n",
    "\n",
    "Обучим модель классифицировать комментарии на позитивные и негативные. В нашем распоряжении набор данных с разметкой о токсичности правок.\n",
    "\n",
    "Построим модель со значением метрики качества **F1** не меньше **0.75**. \n",
    "\n",
    "**План по выполнению проекта**\n",
    "\n",
    "1. Загрузим и подготовим данные.\n",
    "2. Обучим разные модели. \n",
    "3. Сделаем выводы.\n",
    "\n",
    "**Описание данных**\n",
    "\n",
    "Данные находятся в файле `toxic_comments.csv`. Столбец *text* в нём содержит текст комментария, а *toxic* — целевой признак."
   ]
  },
  {
   "cell_type": "markdown",
   "metadata": {},
   "source": [
    "## Подготовка"
   ]
  },
  {
   "cell_type": "markdown",
   "metadata": {},
   "source": [
    "### Загрузка библиотек"
   ]
  },
  {
   "cell_type": "markdown",
   "metadata": {},
   "source": [
    "Для начала **импортируем библиотеки**, которые будем использовать в ходе исследования:"
   ]
  },
  {
   "cell_type": "code",
   "execution_count": 1,
   "metadata": {},
   "outputs": [],
   "source": [
    "# импорт библиотеки pandas\n",
    "import pandas as pd\n",
    "\n",
    "# импорт библиотеки numpy\n",
    "import numpy as np\n",
    "\n",
    "# импорт библиотеки seaborn\n",
    "import seaborn as sns\n",
    "\n",
    "# импорт pyplot из библиотеки matplotlib\n",
    "import matplotlib.pyplot as plt\n",
    "\n",
    "# встроенный модуль Python `re` с регулярными выражениями\n",
    "import re \n",
    "\n",
    "# импорт библиотеки NLTK для лемматизации текста\n",
    "import nltk\n",
    "\n",
    "# пакет stopwords, который находится в модуле nltk.corpus библиотеки NLTK\n",
    "from nltk.corpus import stopwords as nltk_stopwords\n",
    "\n",
    "# класс TfidfVectorizer() из модуля sklearn.feature_extraction.text\n",
    "from sklearn.feature_extraction.text import TfidfVectorizer \n",
    "\n",
    "# импортируем LogisticRegression  из модуля sklearn.linear_model\n",
    "from sklearn.linear_model import LogisticRegression \n",
    "\n",
    "# импорт модели дерева решений из модуля sklearn.tree\n",
    "from sklearn.tree import DecisionTreeClassifier\n",
    "\n",
    "# импортируем RandomForestClassifier из модуля sklearn.ensemble\n",
    "from sklearn.ensemble import RandomForestClassifier\n",
    "\n",
    "# импортируем train_test_split из модуля sklearn.model_selection\n",
    "from sklearn.model_selection import train_test_split \n",
    "\n",
    "#для проверки модели на адекватность\n",
    "from sklearn.dummy import DummyClassifier\n",
    "\n",
    "# импорт метрик из модуля sklearn.metrics\n",
    "from sklearn.metrics import (accuracy_score,        #правильность\n",
    "                             confusion_matrix,      #для построения матрицы ошибок\n",
    "                             classification_report, #позволяет получить более развернутый отчет о точности, полноте и f1-мере\n",
    "                             f1_score,              #f1-мера\n",
    "                             roc_curve,\n",
    "                             roc_auc_score)"
   ]
  },
  {
   "cell_type": "markdown",
   "metadata": {},
   "source": [
    "### Загрузка данных"
   ]
  },
  {
   "cell_type": "markdown",
   "metadata": {},
   "source": [
    "**Прочитаем файл** `toxic_comments.csv` из папки `/datasets`.\n",
    "Cохраним содержимое в переменной `toxic_comments `:"
   ]
  },
  {
   "cell_type": "code",
   "execution_count": 2,
   "metadata": {},
   "outputs": [],
   "source": [
    "# чтение файла с данными и сохранение\n",
    "toxic_comments = pd.read_csv(\"/datasets/toxic_comments.csv\")"
   ]
  },
  {
   "cell_type": "markdown",
   "metadata": {},
   "source": [
    "Выведем общую инфомрацию о таблице:"
   ]
  },
  {
   "cell_type": "code",
   "execution_count": 3,
   "metadata": {},
   "outputs": [
    {
     "name": "stdout",
     "output_type": "stream",
     "text": [
      "<class 'pandas.core.frame.DataFrame'>\n",
      "RangeIndex: 159571 entries, 0 to 159570\n",
      "Data columns (total 2 columns):\n",
      " #   Column  Non-Null Count   Dtype \n",
      "---  ------  --------------   ----- \n",
      " 0   text    159571 non-null  object\n",
      " 1   toxic   159571 non-null  int64 \n",
      "dtypes: int64(1), object(1)\n",
      "memory usage: 2.4+ MB\n"
     ]
    }
   ],
   "source": [
    "# вывод общей информации о таблице\n",
    "toxic_comments.info()"
   ]
  },
  {
   "cell_type": "markdown",
   "metadata": {},
   "source": [
    "В нашем распоряжении около **160 тыс. комментариев**. Всё соответствует описанию данных. Пропущенных значений нет, формат данных нас тоже устраивает.\n",
    "\n",
    "Проверим уникальные значения столбца `toxic`:"
   ]
  },
  {
   "cell_type": "code",
   "execution_count": 4,
   "metadata": {},
   "outputs": [
    {
     "data": {
      "text/plain": [
       "array([0, 1])"
      ]
     },
     "execution_count": 4,
     "metadata": {},
     "output_type": "execute_result"
    }
   ],
   "source": [
    "# вывод уникальных значений столбца 'toxic'\n",
    "toxic_comments['toxic'].unique()"
   ]
  },
  {
   "cell_type": "markdown",
   "metadata": {},
   "source": [
    "Только **да** или **нет** - ничего лишнего."
   ]
  },
  {
   "cell_type": "markdown",
   "metadata": {},
   "source": [
    "Выведем первые несколько строк таблицы, чтобы укрупнённо ознакомиться с содержимым:"
   ]
  },
  {
   "cell_type": "code",
   "execution_count": 5,
   "metadata": {},
   "outputs": [
    {
     "data": {
      "text/html": [
       "<div>\n",
       "<style scoped>\n",
       "    .dataframe tbody tr th:only-of-type {\n",
       "        vertical-align: middle;\n",
       "    }\n",
       "\n",
       "    .dataframe tbody tr th {\n",
       "        vertical-align: top;\n",
       "    }\n",
       "\n",
       "    .dataframe thead th {\n",
       "        text-align: right;\n",
       "    }\n",
       "</style>\n",
       "<table border=\"1\" class=\"dataframe\">\n",
       "  <thead>\n",
       "    <tr style=\"text-align: right;\">\n",
       "      <th></th>\n",
       "      <th>text</th>\n",
       "      <th>toxic</th>\n",
       "    </tr>\n",
       "  </thead>\n",
       "  <tbody>\n",
       "    <tr>\n",
       "      <th>0</th>\n",
       "      <td>Explanation\\nWhy the edits made under my usern...</td>\n",
       "      <td>0</td>\n",
       "    </tr>\n",
       "    <tr>\n",
       "      <th>1</th>\n",
       "      <td>D'aww! He matches this background colour I'm s...</td>\n",
       "      <td>0</td>\n",
       "    </tr>\n",
       "    <tr>\n",
       "      <th>2</th>\n",
       "      <td>Hey man, I'm really not trying to edit war. It...</td>\n",
       "      <td>0</td>\n",
       "    </tr>\n",
       "    <tr>\n",
       "      <th>3</th>\n",
       "      <td>\"\\nMore\\nI can't make any real suggestions on ...</td>\n",
       "      <td>0</td>\n",
       "    </tr>\n",
       "    <tr>\n",
       "      <th>4</th>\n",
       "      <td>You, sir, are my hero. Any chance you remember...</td>\n",
       "      <td>0</td>\n",
       "    </tr>\n",
       "  </tbody>\n",
       "</table>\n",
       "</div>"
      ],
      "text/plain": [
       "                                                text  toxic\n",
       "0  Explanation\\nWhy the edits made under my usern...      0\n",
       "1  D'aww! He matches this background colour I'm s...      0\n",
       "2  Hey man, I'm really not trying to edit war. It...      0\n",
       "3  \"\\nMore\\nI can't make any real suggestions on ...      0\n",
       "4  You, sir, are my hero. Any chance you remember...      0"
      ]
     },
     "execution_count": 5,
     "metadata": {},
     "output_type": "execute_result"
    }
   ],
   "source": [
    "# вывод первых строк таблицы toxic_comments\n",
    "toxic_comments.head()"
   ]
  },
  {
   "cell_type": "markdown",
   "metadata": {},
   "source": [
    "Очевидно, что предстоит лемматизация, очистка от лишних символов."
   ]
  },
  {
   "cell_type": "markdown",
   "metadata": {},
   "source": [
    "Посмотрим **баланс выборки** по целевому признаку, для этого вычислим долю токсичных комментариев с использованием функции `mean()`:"
   ]
  },
  {
   "cell_type": "code",
   "execution_count": 6,
   "metadata": {},
   "outputs": [
    {
     "data": {
      "text/plain": [
       "0.102"
      ]
     },
     "execution_count": 6,
     "metadata": {},
     "output_type": "execute_result"
    }
   ],
   "source": [
    "# доля токсичных комментариев в исходных данных\n",
    "round(toxic_comments['toxic'].mean(),3)"
   ]
  },
  {
   "cell_type": "markdown",
   "metadata": {},
   "source": [
    "Выборка **несбалансированная**, как и многое в нашей жизни. Дисбаланс классов налицо. Будем помнить это при обучении моделей."
   ]
  },
  {
   "cell_type": "markdown",
   "metadata": {},
   "source": [
    "Посмтроим гистограмму значений целевого признака:"
   ]
  },
  {
   "cell_type": "code",
   "execution_count": 7,
   "metadata": {},
   "outputs": [
    {
     "data": {
      "image/png": "[encoded data removed]",
      "text/plain": [
       "<Figure size 720x432 with 1 Axes>"
      ]
     },
     "metadata": {
      "needs_background": "light"
     },
     "output_type": "display_data"
    }
   ],
   "source": [
    "#размер графика\n",
    "plt.figure(figsize=(10,6))\n",
    "    \n",
    "#строим гистограмму\n",
    "toxic_comments['toxic'].hist(bins=2)\n",
    "\n",
    "#название графика\n",
    "plt.title('Гистограмма частоты значений целевого признака `toxic` для \\n исходного датафрейма', fontsize=16 )\n",
    "\n",
    "#подписи осей\n",
    "plt.xlabel('toxic', fontsize=16)\n",
    "plt.ylabel('Частота значений', fontsize=14)\n",
    "\n",
    "#сетка по оси абсцисс\n",
    "plt.xticks(np.arange(0, 2,step=1), fontsize=12)\n",
    "plt.yticks(fontsize=12)\n",
    "    \n",
    "plt.show()"
   ]
  },
  {
   "cell_type": "markdown",
   "metadata": {},
   "source": [
    "И мы снова убедимся в несбалансированности выборки."
   ]
  },
  {
   "cell_type": "markdown",
   "metadata": {},
   "source": [
    "### Функция лемматизации"
   ]
  },
  {
   "cell_type": "markdown",
   "metadata": {},
   "source": [
    "Выполним **лемматизацию** — приведение слова к начальной форме (лемме).\n",
    "\n",
    "Воспользуемся следующей функцией, внутри которой:\n",
    "- создадим класс для лемматизации `WordNetLemmatizer`\n",
    "- выполним токенизацию\n",
    "- с помощью функции `lemmatize()` вернем лемму каждого слова  \n",
    "- функцией `join()` объединим элементы списка в строку, разделив их пробелом\n",
    "- вернём лемматизированный текст.\n",
    "\n",
    "Запишем функцию:"
   ]
  },
  {
   "cell_type": "code",
   "execution_count": 8,
   "metadata": {},
   "outputs": [],
   "source": [
    "def lemmatize_text(text):\n",
    "    \n",
    "    #Создадим класс для лемматизации:\n",
    "    from nltk.stem import WordNetLemmatizer \n",
    "    \n",
    "    # Init the Wordnet Lemmatizer\n",
    "    lemmatizer = WordNetLemmatizer()\n",
    "    \n",
    "    #выполняем токенизацию - разбиваем предложения на слова\n",
    "    lemm_list = nltk.word_tokenize(text)\n",
    "    \n",
    "    #Функция lemmatize() вернет лемму каждого слова\n",
    "    #Функцией join() объединим элементы списка в строку, разделив их пробелом\n",
    "    lemm_text = ' '.join([lemmatizer.lemmatize(w) for w in lemm_list])\n",
    "    \n",
    "    # возвращаем лемматизированный текст\n",
    "    return lemm_text"
   ]
  },
  {
   "cell_type": "markdown",
   "metadata": {},
   "source": [
    "Проверим работу функции на произвольном предложении:"
   ]
  },
  {
   "cell_type": "code",
   "execution_count": 9,
   "metadata": {},
   "outputs": [
    {
     "data": {
      "text/plain": [
       "\"Lemons and oranges are similar. Boots and hippos aren't.\""
      ]
     },
     "execution_count": 9,
     "metadata": {},
     "output_type": "execute_result"
    }
   ],
   "source": [
    "#произвольное предложение\n",
    "sentence = \"Lemons and oranges are similar. Boots and hippos aren't.\"\n",
    "\n",
    "#выведем его на экран\n",
    "sentence"
   ]
  },
  {
   "cell_type": "markdown",
   "metadata": {},
   "source": [
    "Выведем текст до и после применения функции:"
   ]
  },
  {
   "cell_type": "code",
   "execution_count": 10,
   "metadata": {},
   "outputs": [
    {
     "name": "stdout",
     "output_type": "stream",
     "text": [
      "\u001b[1mИсходный текст:\u001b[0m\n",
      "Lemons and oranges are similar. Boots and hippos aren't.\n",
      "\n",
      "\u001b[1mЛемматизированный текст:\u001b[0m\n",
      "Lemons and orange are similar . Boots and hippo are n't .\n"
     ]
    }
   ],
   "source": [
    "print('\\033[1m'+\"Исходный текст:\"+'\\033[0m')\n",
    "print(sentence)\n",
    "\n",
    "print()\n",
    "\n",
    "print('\\033[1m'+\"Лемматизированный текст:\"+'\\033[0m')\n",
    "print(lemmatize_text(sentence))"
   ]
  },
  {
   "cell_type": "markdown",
   "metadata": {},
   "source": [
    "Очевидно, что результат положительный. Например, у слов `hippo` и `orange` больше нет окончания, означающего множественное число."
   ]
  },
  {
   "cell_type": "markdown",
   "metadata": {},
   "source": [
    "Повторим проверку на одном из наших комментариев:"
   ]
  },
  {
   "cell_type": "code",
   "execution_count": 11,
   "metadata": {},
   "outputs": [
    {
     "name": "stdout",
     "output_type": "stream",
     "text": [
      "\u001b[1mИсходный текст:\u001b[0m\n",
      "Explanation\n",
      "Why the edits made under my username Hardcore Metallica Fan were reverted? They weren't vandalisms, just closure on some GAs after I voted at New York Dolls FAC. And please don't remove the template from the talk page since I'm retired now.89.205.38.27\n",
      "\n",
      "\u001b[1mЛемматизированный текст:\u001b[0m\n",
      "Explanation Why the edits made under my username Hardcore Metallica Fan were reverted ? They were n't vandalism , just closure on some GAs after I voted at New York Dolls FAC . And please do n't remove the template from the talk page since I 'm retired now.89.205.38.27\n"
     ]
    }
   ],
   "source": [
    "print('\\033[1m'+\"Исходный текст:\"+'\\033[0m')\n",
    "print(toxic_comments['text'][0])\n",
    "\n",
    "print()\n",
    "\n",
    "print('\\033[1m'+\"Лемматизированный текст:\"+'\\033[0m')\n",
    "print(lemmatize_text(toxic_comments['text'][0]))"
   ]
  },
  {
   "cell_type": "markdown",
   "metadata": {},
   "source": [
    "Особенность лемматизации в том, что `made`, наример не приводится к первой форме `make`. Следовательно, для понимания смысла слов и комментариев лемматизация должна подходить лучше стемминга."
   ]
  },
  {
   "cell_type": "markdown",
   "metadata": {},
   "source": [
    "### Регулярные выражения (функция для очистки текста)"
   ]
  },
  {
   "cell_type": "markdown",
   "metadata": {},
   "source": [
    "От лишних символов текст очистят **регулярные выражения**. Это инструмент для поиска слова или числа по шаблону. Он определяет, из каких частей состоит строка и какие в них символы."
   ]
  },
  {
   "cell_type": "markdown",
   "metadata": {},
   "source": [
    "Для работы с регулярными выражениями в `Python` есть встроенный модуль `re`. "
   ]
  },
  {
   "cell_type": "markdown",
   "metadata": {},
   "source": [
    "Создадим фунцию `clear_text(text)` внутри которой:\n",
    "- Воспользуемся функцией `re.sub()`. Она находит в тексте все совпадения по шаблону и заменяет их заданной строкой.\n",
    "- В лемматизированном тексте комментария нужно оставить только латинские символы и пробелы. Чтобы их найти, напишем регулярное выражение `re.sub(r'[^a-zA-Z]', ' ', text)`. Чтобы указать, что символы под шаблон не подходят, перед набором символов мы поставили знак «домика» (`^`).\n",
    "- После этой операции в тексте можно обнаружить лишние пробелы, для анализа они — помеха. Пробелы устраняются комбинацией функций `join()` и `split()`.\n",
    "\n",
    "Запишем функцию:"
   ]
  },
  {
   "cell_type": "code",
   "execution_count": 12,
   "metadata": {},
   "outputs": [],
   "source": [
    "def clear_text(text):\n",
    "    \n",
    "    #напишем регулярное выражение \n",
    "    clear_text =  re.sub(r'[^a-zA-Z]', ' ', text)\n",
    "    \n",
    "    #применяем функцию split()\n",
    "    clear_list = clear_text.split() \n",
    "    \n",
    "    #применяем функцию join()\n",
    "    clear_text = \" \".join(clear_list)    \n",
    "    \n",
    "    #выводим очищенный текст\n",
    "    return clear_text"
   ]
  },
  {
   "cell_type": "markdown",
   "metadata": {},
   "source": [
    "Проверим результат работы функций:"
   ]
  },
  {
   "cell_type": "code",
   "execution_count": 13,
   "metadata": {},
   "outputs": [
    {
     "name": "stdout",
     "output_type": "stream",
     "text": [
      "\u001b[1mИсходный текст:\u001b[0m\n",
      "Explanation\n",
      "Why the edits made under my username Hardcore Metallica Fan were reverted? They weren't vandalisms, just closure on some GAs after I voted at New York Dolls FAC. And please don't remove the template from the talk page since I'm retired now.89.205.38.27\n",
      "\n",
      "\u001b[1mЛемматизированный и очищенный текст:\u001b[0m\n",
      "Explanation Why the edits made under my username Hardcore Metallica Fan were reverted They weren t vandalism just closure on some GAs after I voted at New York Dolls FAC And please don t remove the template from the talk page since I m retired now\n"
     ]
    }
   ],
   "source": [
    "print('\\033[1m'+\"Исходный текст:\"+'\\033[0m')\n",
    "print(toxic_comments['text'][0])\n",
    "\n",
    "print()\n",
    "\n",
    "print('\\033[1m'+\"Лемматизированный и очищенный текст:\"+'\\033[0m')\n",
    "print(lemmatize_text(clear_text(toxic_comments['text'][0])))"
   ]
  },
  {
   "cell_type": "markdown",
   "metadata": {},
   "source": [
    "Лемматизация и очистка на примере **выполнены успешно**. Переходим к пременению функции для всего датафрейма."
   ]
  },
  {
   "cell_type": "markdown",
   "metadata": {},
   "source": [
    "### Применение функций лемматизации и очистки текста"
   ]
  },
  {
   "cell_type": "markdown",
   "metadata": {},
   "source": [
    "Создадим столбец `lemm_text` в который сохраним лемматизированный и очищенный текст:"
   ]
  },
  {
   "cell_type": "code",
   "execution_count": 14,
   "metadata": {},
   "outputs": [
    {
     "name": "stdout",
     "output_type": "stream",
     "text": [
      "CPU times: user 2min, sys: 167 ms, total: 2min\n",
      "Wall time: 2min 1s\n"
     ]
    }
   ],
   "source": [
    "%%time\n",
    "\n",
    "# создаём столбец 'lemm_text' с помощью метода apply() и функций лемматизации и очистки\n",
    "toxic_comments['lemm_text'] = toxic_comments['text'].apply(lambda x: clear_text(lemmatize_text(x)))"
   ]
  },
  {
   "cell_type": "markdown",
   "metadata": {},
   "source": [
    "Проверим результат, посмотрим несколько первых строк:"
   ]
  },
  {
   "cell_type": "code",
   "execution_count": 15,
   "metadata": {
    "scrolled": true
   },
   "outputs": [
    {
     "data": {
      "text/html": [
       "<div>\n",
       "<style scoped>\n",
       "    .dataframe tbody tr th:only-of-type {\n",
       "        vertical-align: middle;\n",
       "    }\n",
       "\n",
       "    .dataframe tbody tr th {\n",
       "        vertical-align: top;\n",
       "    }\n",
       "\n",
       "    .dataframe thead th {\n",
       "        text-align: right;\n",
       "    }\n",
       "</style>\n",
       "<table border=\"1\" class=\"dataframe\">\n",
       "  <thead>\n",
       "    <tr style=\"text-align: right;\">\n",
       "      <th></th>\n",
       "      <th>text</th>\n",
       "      <th>toxic</th>\n",
       "      <th>lemm_text</th>\n",
       "    </tr>\n",
       "  </thead>\n",
       "  <tbody>\n",
       "    <tr>\n",
       "      <th>0</th>\n",
       "      <td>Explanation\\nWhy the edits made under my usern...</td>\n",
       "      <td>0</td>\n",
       "      <td>Explanation Why the edits made under my userna...</td>\n",
       "    </tr>\n",
       "    <tr>\n",
       "      <th>1</th>\n",
       "      <td>D'aww! He matches this background colour I'm s...</td>\n",
       "      <td>0</td>\n",
       "      <td>D aww He match this background colour I m seem...</td>\n",
       "    </tr>\n",
       "    <tr>\n",
       "      <th>2</th>\n",
       "      <td>Hey man, I'm really not trying to edit war. It...</td>\n",
       "      <td>0</td>\n",
       "      <td>Hey man I m really not trying to edit war It s...</td>\n",
       "    </tr>\n",
       "    <tr>\n",
       "      <th>3</th>\n",
       "      <td>\"\\nMore\\nI can't make any real suggestions on ...</td>\n",
       "      <td>0</td>\n",
       "      <td>More I ca n t make any real suggestion on impr...</td>\n",
       "    </tr>\n",
       "    <tr>\n",
       "      <th>4</th>\n",
       "      <td>You, sir, are my hero. Any chance you remember...</td>\n",
       "      <td>0</td>\n",
       "      <td>You sir are my hero Any chance you remember wh...</td>\n",
       "    </tr>\n",
       "  </tbody>\n",
       "</table>\n",
       "</div>"
      ],
      "text/plain": [
       "                                                text  toxic  \\\n",
       "0  Explanation\\nWhy the edits made under my usern...      0   \n",
       "1  D'aww! He matches this background colour I'm s...      0   \n",
       "2  Hey man, I'm really not trying to edit war. It...      0   \n",
       "3  \"\\nMore\\nI can't make any real suggestions on ...      0   \n",
       "4  You, sir, are my hero. Any chance you remember...      0   \n",
       "\n",
       "                                           lemm_text  \n",
       "0  Explanation Why the edits made under my userna...  \n",
       "1  D aww He match this background colour I m seem...  \n",
       "2  Hey man I m really not trying to edit war It s...  \n",
       "3  More I ca n t make any real suggestion on impr...  \n",
       "4  You sir are my hero Any chance you remember wh...  "
      ]
     },
     "execution_count": 15,
     "metadata": {},
     "output_type": "execute_result"
    }
   ],
   "source": [
    "#выведем первые несколько строк\n",
    "toxic_comments.head()"
   ]
  },
  {
   "cell_type": "markdown",
   "metadata": {},
   "source": [
    "Выведем общую инфомрацию о таблице после добавления столбца:"
   ]
  },
  {
   "cell_type": "code",
   "execution_count": 16,
   "metadata": {},
   "outputs": [
    {
     "name": "stdout",
     "output_type": "stream",
     "text": [
      "<class 'pandas.core.frame.DataFrame'>\n",
      "RangeIndex: 159571 entries, 0 to 159570\n",
      "Data columns (total 3 columns):\n",
      " #   Column     Non-Null Count   Dtype \n",
      "---  ------     --------------   ----- \n",
      " 0   text       159571 non-null  object\n",
      " 1   toxic      159571 non-null  int64 \n",
      " 2   lemm_text  159571 non-null  object\n",
      "dtypes: int64(1), object(2)\n",
      "memory usage: 3.7+ MB\n"
     ]
    }
   ],
   "source": [
    "#вывод общей информации о таблице\n",
    "toxic_comments.info()"
   ]
  },
  {
   "cell_type": "markdown",
   "metadata": {},
   "source": [
    "Применение функции выполнено успешно. Применение функции не привело к искажениям в данных. Новый столбец создан."
   ]
  },
  {
   "cell_type": "markdown",
   "metadata": {},
   "source": [
    "### Разбивка данных на выборки"
   ]
  },
  {
   "cell_type": "markdown",
   "metadata": {},
   "source": [
    "Разобъём исходную выборку на обучающущю, валидационную и тестовую в соотношении (3:1:1):\n",
    "\n",
    "|Выборка |Процент от количества объектов исходной выборки|\n",
    "|:-----|:----:|\n",
    "|Обучающая|60%|\n",
    "|Валидационная|20%|\n",
    "|Тестовая|20%|"
   ]
  },
  {
   "cell_type": "markdown",
   "metadata": {},
   "source": [
    "Для этого сначала отложим тестовую выборку (20%), в обучающей оставим 80% исходного датасета (чтобы в дальнейшем выделить валидационную).\n",
    "\n",
    "Используем `train_test_split` из модуля `sklearn.model_selection`. Разбивку произведём псевдослучайным образом, задав параметр `random_state` равным `12345`."
   ]
  },
  {
   "cell_type": "code",
   "execution_count": 17,
   "metadata": {},
   "outputs": [],
   "source": [
    "# первый шаг разбивки - откладываем тестовую выборку, \n",
    "# в обучающей оставляем 80%, чтобы затем из неё\n",
    "# выделить валидационную\n",
    "lemm_text_train, lemm_text_test = train_test_split(toxic_comments, \n",
    "                                                   test_size=0.20, \n",
    "                                                   random_state=12345) "
   ]
  },
  {
   "cell_type": "markdown",
   "metadata": {},
   "source": [
    "Теперь нужно из обучающей выборки выделить валидационную. 20% от 80% это 1/4, или 25% от 100%:"
   ]
  },
  {
   "cell_type": "code",
   "execution_count": 18,
   "metadata": {},
   "outputs": [],
   "source": [
    "# Второй шаг разбивки - выделяем из 80% оставшихся процентов обучающую и валидационную выборки.\n",
    "# В обучающей оставляем 60% из 80%, в валидационной 20% из 80%, то есть 1/4, или 25% из 100%\n",
    "lemm_text_train, lemm_text_valid = train_test_split(lemm_text_train, \n",
    "                                                    test_size=0.25, \n",
    "                                                    random_state=12345) "
   ]
  },
  {
   "cell_type": "markdown",
   "metadata": {},
   "source": [
    "Проверим результат разбивки: количество строк в трех получившихся датафреймах в сумме должно быть равно исходному количеству объектов.\n",
    "\n",
    "Для визуального ознакомления выведем количество объектов и признаков в каждой из выборок:"
   ]
  },
  {
   "cell_type": "code",
   "execution_count": 19,
   "metadata": {},
   "outputs": [
    {
     "name": "stdout",
     "output_type": "stream",
     "text": [
      "\u001b[1mРазмерность выборки test\u001b[0m (31915, 3)\n",
      "\u001b[1mРазмерность выборки train\u001b[0m (95742, 3)\n",
      "\u001b[1mРазмерность выборки valid\u001b[0m (31914, 3)\n"
     ]
    }
   ],
   "source": [
    "for name in ['test','train','valid']:\n",
    "    print('\\033[1m'+'Размерность выборки '+name+'\\033[0m', locals()['lemm_text_'+name].shape)"
   ]
  },
  {
   "cell_type": "markdown",
   "metadata": {},
   "source": [
    "Просуммируем количество объектов в каждой из выборок:"
   ]
  },
  {
   "cell_type": "code",
   "execution_count": 20,
   "metadata": {},
   "outputs": [
    {
     "data": {
      "text/plain": [
       "159571"
      ]
     },
     "execution_count": 20,
     "metadata": {},
     "output_type": "execute_result"
    }
   ],
   "source": [
    "# суммарное количество объектов в трех выборках\n",
    "lemm_text_test.shape[0]+lemm_text_train.shape[0]+lemm_text_valid.shape[0]"
   ]
  },
  {
   "cell_type": "markdown",
   "metadata": {},
   "source": [
    "Сопоставим с количеством объектов в исходной выборке:"
   ]
  },
  {
   "cell_type": "code",
   "execution_count": 21,
   "metadata": {},
   "outputs": [
    {
     "data": {
      "text/plain": [
       "159571"
      ]
     },
     "execution_count": 21,
     "metadata": {},
     "output_type": "execute_result"
    }
   ],
   "source": [
    "#количество объектов в исходной выборке\n",
    "toxic_comments.shape[0]"
   ]
  },
  {
   "cell_type": "markdown",
   "metadata": {},
   "source": [
    "Контрольная сумма сходится."
   ]
  },
  {
   "cell_type": "markdown",
   "metadata": {},
   "source": [
    "Проверим также **баланс целевого признака** во всех выборках:"
   ]
  },
  {
   "cell_type": "code",
   "execution_count": 22,
   "metadata": {},
   "outputs": [
    {
     "name": "stdout",
     "output_type": "stream",
     "text": [
      "\u001b[1mДоля токсичных комментариев для выборки:\u001b[0m\n",
      "\u001b[1m   - test:\u001b[0m 0.101\n",
      "\u001b[1m   - train:\u001b[0m 0.101\n",
      "\u001b[1m   - valid:\u001b[0m 0.104\n"
     ]
    }
   ],
   "source": [
    "print('\\033[1m'+'Доля токсичных комментариев для выборки:'+'\\033[0m')\n",
    "for name in ['test','train','valid']:\n",
    "    print('\\033[1m'+'   - '+name+':'+'\\033[0m', round(locals()['lemm_text_'+name]['toxic'].mean(),3))"
   ]
  },
  {
   "cell_type": "markdown",
   "metadata": {},
   "source": [
    "Встроенная функция `train_test_split` **не подвела**, поделила всё поровну."
   ]
  },
  {
   "cell_type": "markdown",
   "metadata": {},
   "source": [
    "### Тестовый, обучающий и валидационный наборы данных"
   ]
  },
  {
   "cell_type": "markdown",
   "metadata": {},
   "source": [
    "В данном случае проще начать с **сохранения целевого признака**. Это столбец `['toxic']` во всех наборах данных. Выделим его *с помощью цикла*:"
   ]
  },
  {
   "cell_type": "code",
   "execution_count": 23,
   "metadata": {},
   "outputs": [
    {
     "name": "stdout",
     "output_type": "stream",
     "text": [
      "y_test shape: (31915,)\n",
      "y_train shape: (95742,)\n",
      "y_valid shape: (31914,)\n"
     ]
    }
   ],
   "source": [
    "#с помощью цикла выделяем целевой признак для каждой из выборок\n",
    "for name in ['test','train','valid']:\n",
    "    locals()['y_'+name] = locals()['lemm_text_'+name]['toxic']\n",
    "    \n",
    "    #проверяем размерность\n",
    "    print('y_'+name, 'shape:', \n",
    "          locals()['y_'+name].shape)"
   ]
  },
  {
   "cell_type": "markdown",
   "metadata": {},
   "source": [
    "Для создания признаков **переведём тексты в понятный для машины формат — векторный**."
   ]
  },
  {
   "cell_type": "markdown",
   "metadata": {},
   "source": [
    "Преобразовать слова в векторы поможет модель «мешок слов» (англ. bag of words). Она преобразует текст в вектор, не учитывая порядок слов. Отсюда и название — «мешок»."
   ]
  },
  {
   "cell_type": "markdown",
   "metadata": {},
   "source": [
    "Когда текстов несколько, мешок слов преобразует их в **матрицу**. Её строки — это *тексты*, а столбцы — *уникальные слова* из всех текстов корпуса. Числа на пересечении строк и столбцов показывают, *сколько раз в тексте встречается уникальное слово*."
   ]
  },
  {
   "cell_type": "markdown",
   "metadata": {},
   "source": [
    "Мешок слов учитывает частоту употребления слов. Посмотрим, как часто уникальное слово встречается во всём корпусе и в отдельном его тексте.\n",
    "\n",
    "В этом нам поможет **TF-IDF**.\n",
    "\n",
    "Оценка важности слова определяется величиной $\\mathbf{TFIDF}$ (от англ. *term frequency*, «частота терма, или слова»; *inverse document frequency*, «обратная частота документа, или текста»). То есть $\\mathbf{TF}$ отвечает за количество упоминаний слова в отдельном тексте, а $\\mathbf{IDF}$ отражает частоту его употребления во всём корпусе."
   ]
  },
  {
   "cell_type": "markdown",
   "metadata": {},
   "source": [
    "Формула $(\\mathbf{TFIDF})$:"
   ]
  },
  {
   "cell_type": "markdown",
   "metadata": {},
   "source": [
    "$$ \\mathbf{TFIDF} = \\mathbf{TF}\\cdot \\mathbf{IDF}.$$"
   ]
  },
  {
   "cell_type": "markdown",
   "metadata": {},
   "source": [
    "$\\mathbf{TF}$ рассчитвается как: "
   ]
  },
  {
   "cell_type": "markdown",
   "metadata": {},
   "source": [
    "$$\\mathbf{TF}=\\frac{t}{n},$$"
   ]
  },
  {
   "cell_type": "markdown",
   "metadata": {},
   "source": [
    "где $t$ (от англ. *term*) — количество употребления слова, а $n$ — общее число слов в тексте."
   ]
  },
  {
   "cell_type": "markdown",
   "metadata": {},
   "source": [
    "$\\mathbf{IDF}$ нужна в формуле, чтобы **уменьшить вес слов**, наиболее распространённых в любом другом тексте заданного корпуса. \n",
    "\n",
    "$\\mathbf{IDF}$ зависит от общего числа текстов в корпусе ($D$) и количества текстов, в которых это слово встречается ($d$):"
   ]
  },
  {
   "cell_type": "markdown",
   "metadata": {},
   "source": [
    "$$\\mathbf{IDF}= \\log_{10} \\frac{D}{d}.$$"
   ]
  },
  {
   "cell_type": "markdown",
   "metadata": {},
   "source": [
    "Рассчитать `TF-IDF` можно и в библиотеке `sklearn`. Класс `TfidfVectorizer()` (от англ. *«счётчик величин TF-IDF»*) находится в модуле `sklearn.feature_extraction.text`."
   ]
  },
  {
   "cell_type": "markdown",
   "metadata": {},
   "source": [
    "При создании счетчика *исключим стоп-слова*, то есть слова **без смысловой нагрузки**. Их много, и для каждого языка — свои. \n",
    "\n",
    "Будем использовать пакет `stopwords`, который находится в модуле `nltk.corpus` библиотеки **nltk**:"
   ]
  },
  {
   "cell_type": "code",
   "execution_count": 24,
   "metadata": {},
   "outputs": [],
   "source": [
    "#пакет стоп-слов из библиотеки NLTK\n",
    "stopwords = set(nltk_stopwords.words('english'))"
   ]
  },
  {
   "cell_type": "markdown",
   "metadata": {},
   "source": [
    "**При создании счётчика** передадим *список стоп-слов в счётчик* `TfidfVectorizer()`:"
   ]
  },
  {
   "cell_type": "code",
   "execution_count": 25,
   "metadata": {},
   "outputs": [],
   "source": [
    "#создаём счетчик величин TF-IDF и передаём ему список стоп-слов\n",
    "count_tf_idf = TfidfVectorizer(stop_words=stopwords) "
   ]
  },
  {
   "cell_type": "markdown",
   "metadata": {},
   "source": [
    "Корпус текстов обучающей выборки, который мы будем использовать:"
   ]
  },
  {
   "cell_type": "code",
   "execution_count": 26,
   "metadata": {},
   "outputs": [],
   "source": [
    "#корпус текстов обучающей выборки\n",
    "corpus_train = lemm_text_train['lemm_text'].values.astype('U')"
   ]
  },
  {
   "cell_type": "markdown",
   "metadata": {},
   "source": [
    "Чтобы посчитать **TF-IDF** для корпуса текстов обучающей выборки, вызовем функцию `fit_transform()`:"
   ]
  },
  {
   "cell_type": "code",
   "execution_count": 27,
   "metadata": {},
   "outputs": [
    {
     "name": "stdout",
     "output_type": "stream",
     "text": [
      "Размер матрицы tf_idf_train: (95742, 121547)\n"
     ]
    }
   ],
   "source": [
    "#рассчитаем TF-IDF для корпуса текстов обучающей выборки\n",
    "tf_idf_train = count_tf_idf.fit_transform(corpus_train) \n",
    "\n",
    "print(\"Размер матрицы tf_idf_train:\", tf_idf_train.shape)"
   ]
  },
  {
   "cell_type": "markdown",
   "metadata": {},
   "source": [
    "Создадим признаки для двух других наборов данных с помощью цикла. \n",
    "\n",
    "Чтобы рассчитать **TF-IDF** для корпуса текстов валидационной и тестовой выборок, вызовем функцию **`transform()`**:"
   ]
  },
  {
   "cell_type": "code",
   "execution_count": 28,
   "metadata": {},
   "outputs": [
    {
     "name": "stdout",
     "output_type": "stream",
     "text": [
      "\u001b[1mРазмер матрицы tf_idf_valid:\u001b[0m (31914, 121547)\n",
      "\u001b[1mРазмер матрицы tf_idf_test:\u001b[0m (31915, 121547)\n"
     ]
    }
   ],
   "source": [
    "for name in ['valid','test']:\n",
    "    \n",
    "    #корпус текстов для выборки\n",
    "    locals()['corpus_'+name] = locals()['lemm_text_'+name]['lemm_text'].values.astype('U')\n",
    "    \n",
    "    #вызовем функцию transform()\n",
    "    locals()['tf_idf_'+name] = count_tf_idf.transform(locals()['corpus_'+name])\n",
    "    \n",
    "    #выведем на экран размерность матрицы признаков\n",
    "    print('\\033[1m'+\"Размер матрицы tf_idf_\"+name+':'+'\\033[0m',locals()['tf_idf_'+name].shape)"
   ]
  },
  {
   "cell_type": "markdown",
   "metadata": {},
   "source": [
    "Данные готовы к обучению моделей."
   ]
  },
  {
   "cell_type": "markdown",
   "metadata": {},
   "source": [
    "### Вывод"
   ]
  },
  {
   "cell_type": "markdown",
   "metadata": {},
   "source": [
    "На подготовительной стадии:\n",
    "\n",
    "- Мы загрузили данные, ознакомились с ними, увидели дисбаланс классов: только 10% токсичных комментариев от общего количества.\n",
    "\n",
    "- Мы выполнили лемматизацию и очистку текста с помощью средств библиотеки **nltk** и специально созданных функций.\n",
    "\n",
    "- Мы разделили данные на выборки: обучающую, тестовую и валидационную.\n",
    "\n",
    "- Для всех выборок мы выделили целевой признак, а также рассчитали $(\\mathbf{TFIDF})$, то есть перевели текст на понятный машине язык, привели его к векторному виду.\n",
    "\n",
    "Данные подготовлены к обучению и тестированию моделей.\n",
    "\n",
    "В дальнейшем будем учитывать выявленный **дисбаланс классов**. Если целевая метрика не будет достигнута без учета дисбаланса, то принимем соответствующие меры."
   ]
  },
  {
   "cell_type": "markdown",
   "metadata": {},
   "source": [
    "## Обучение"
   ]
  },
  {
   "cell_type": "markdown",
   "metadata": {},
   "source": [
    "### Модель мажоритарного класса"
   ]
  },
  {
   "cell_type": "markdown",
   "metadata": {},
   "source": [
    "Мы уже знаем о факте несбалансированности исходной выборки. Чтобы в дальнейшем выполнять проверку моделей на вменяемость, воспользуемся `DummyClassifier` из модуля `sklearn.dummy`, который всегда предсказывает мажоритарный класс:"
   ]
  },
  {
   "cell_type": "code",
   "execution_count": 29,
   "metadata": {},
   "outputs": [],
   "source": [
    "#задаём и обучаем модель на тренировочной выборке, предсказывающую мажоритарный класс \n",
    "dummy_majority = DummyClassifier(strategy='most_frequent').fit(tf_idf_train, y_train)"
   ]
  },
  {
   "cell_type": "markdown",
   "metadata": {},
   "source": [
    "Запишем предсказания данной модели на валидационной выборке:"
   ]
  },
  {
   "cell_type": "code",
   "execution_count": 30,
   "metadata": {},
   "outputs": [],
   "source": [
    "#предсказания на валидационной выборке\n",
    "pred_most_frequent = dummy_majority.predict(tf_idf_valid)"
   ]
  },
  {
   "cell_type": "markdown",
   "metadata": {},
   "source": [
    "И выведем уникальные предсказанные значения и правильность на валидационном наборе:"
   ]
  },
  {
   "cell_type": "code",
   "execution_count": 31,
   "metadata": {},
   "outputs": [
    {
     "name": "stdout",
     "output_type": "stream",
     "text": [
      "Уникальные спрогнозированные метки: [0]\n",
      "Правильность на валидационном наборе: 0.90\n"
     ]
    }
   ],
   "source": [
    "print(\"Уникальные спрогнозированные метки: {}\".format(np.unique(pred_most_frequent)))\n",
    "print(\"Правильность на валидационном наборе: {:.2f}\".format(dummy_majority.score(tf_idf_valid,y_valid)))"
   ]
  },
  {
   "cell_type": "markdown",
   "metadata": {},
   "source": [
    "Получили результат: модель, которая предсказывает наиболее часто встречающийся класс, имеет правильность 90%. Соответсвенно, **90%** правильности - это минимальная планка для признания модели вменяемой. "
   ]
  },
  {
   "cell_type": "markdown",
   "metadata": {},
   "source": [
    "Как правило, **правильность не является адекватным показателем** прогностической способности бинарных моделей классификации, поскольку количество совершаемых ошибок не содержит весь объем интересующей нас информации.\n",
    "\n",
    "Поэтому воспользуемся матрицей ошибок (`confusion_matrix`) из модуля `sklearn.metrics` и выведем результат для `dummy_majority`."
   ]
  },
  {
   "cell_type": "code",
   "execution_count": 32,
   "metadata": {},
   "outputs": [
    {
     "name": "stdout",
     "output_type": "stream",
     "text": [
      "Модель наиболее часто встречающегося класса:\n",
      "[[28595     0]\n",
      " [ 3319     0]]\n"
     ]
    }
   ],
   "source": [
    "print(\"Модель наиболее часто встречающегося класса:\\n{}\".format(confusion_matrix(y_valid, \n",
    "                                                                                 dummy_majority.predict(tf_idf_valid))))"
   ]
  },
  {
   "cell_type": "markdown",
   "metadata": {},
   "source": [
    "Напомним, что означает матрица ошибок:"
   ]
  },
  {
   "cell_type": "markdown",
   "metadata": {},
   "source": [
    "\n",
    "|Прогноз |Реальность|Реальность|\n",
    "|:-----|:----:|:----:|\n",
    "| |+|-|\n",
    "|+|**True Positive** (истинно-положительное решение): прогноз совпал с реальностью, результат положительный произошел, как и было предсказано ML-моделью|**False Positive** (ложноположительное решение): ошибка 1-го рода, ML-модель предсказала положительный результат, а на самом деле он отрицательный\n",
    "|-|**False Negative** (ложноотрицательное решение): ошибка 2-го рода – ML-модель предсказала отрицательный результат, но на самом деле он положительный|**True Negative** (истинно-отрицательное решение): результат отрицательный, ML-прогноз совпал с реальностью\n"
   ]
  },
  {
   "cell_type": "markdown",
   "metadata": {},
   "source": [
    "*Источник: https://www.bigdataschool.ru/blog/machine-learning-confusion-matrix.html*"
   ]
  },
  {
   "cell_type": "markdown",
   "metadata": {},
   "source": [
    "Соответственно, матрица ошибок для модели мажоритарного класса говорит следующее: все ответы, предсказанные моделью - **отрицательные**. Поэтому такая модель *не обнаружила самого ценного* - положительного ответа. В нашем случае положительный ответ означает - токсичный комментарий.\n",
    "\n",
    "Поэтому для модели мажоритарного класса все положительные ответы попали в **FN** (ошибка 2 рода): модель предсказала отрицательный результат, но на самом деле он - положительный."
   ]
  },
  {
   "cell_type": "markdown",
   "metadata": {},
   "source": [
    "Дополнительно можно посмотреть точность и полноту. Но точность и полнота, хоть и являются очень важными метриками, сами по себе не дают полной картины. \n",
    "\n",
    "Одним из способов подытожить их является **F1-мера** (или F-measure), которая представляет собой гармоническое среднее точности и полноты."
   ]
  },
  {
   "cell_type": "markdown",
   "metadata": {},
   "source": [
    "Поскольку f1-мера учитывает точность и полноту, то для бинарной классификации несбалансированных данных она может быть более лучшей метрикой, чем правильность.\n",
    "\n",
    "Если мы хотим получить более развернутый отчет о точности, полноте и f1-мере, можно воспользоваться удобной функцией `classification_report`, чтобы вычислить все три метрики сразу."
   ]
  },
  {
   "cell_type": "code",
   "execution_count": 33,
   "metadata": {},
   "outputs": [
    {
     "name": "stdout",
     "output_type": "stream",
     "text": [
      "\u001b[1mdummy_majority\u001b[0m\n",
      "              precision    recall  f1-score   support\n",
      "\n",
      "        Good       0.90      1.00      0.95     28595\n",
      "       Toxic       0.00      0.00      0.00      3319\n",
      "\n",
      "    accuracy                           0.90     31914\n",
      "   macro avg       0.45      0.50      0.47     31914\n",
      "weighted avg       0.80      0.90      0.85     31914\n",
      "\n"
     ]
    },
    {
     "name": "stderr",
     "output_type": "stream",
     "text": [
      "/opt/conda/lib/python3.9/site-packages/sklearn/metrics/_classification.py:1245: UndefinedMetricWarning: Precision and F-score are ill-defined and being set to 0.0 in labels with no predicted samples. Use `zero_division` parameter to control this behavior.\n",
      "  _warn_prf(average, modifier, msg_start, len(result))\n",
      "/opt/conda/lib/python3.9/site-packages/sklearn/metrics/_classification.py:1245: UndefinedMetricWarning: Precision and F-score are ill-defined and being set to 0.0 in labels with no predicted samples. Use `zero_division` parameter to control this behavior.\n",
      "  _warn_prf(average, modifier, msg_start, len(result))\n",
      "/opt/conda/lib/python3.9/site-packages/sklearn/metrics/_classification.py:1245: UndefinedMetricWarning: Precision and F-score are ill-defined and being set to 0.0 in labels with no predicted samples. Use `zero_division` parameter to control this behavior.\n",
      "  _warn_prf(average, modifier, msg_start, len(result))\n"
     ]
    }
   ],
   "source": [
    "print('\\033[1m'+'dummy_majority'+'\\033[0m')\n",
    "\n",
    "print(classification_report(y_valid, dummy_majority.predict(tf_idf_valid),\n",
    "                            target_names=[\"Good\", \"Toxic\"]))"
   ]
  },
  {
   "cell_type": "markdown",
   "metadata": {},
   "source": [
    "Очевидно, что для модели мажоритарного класса f1-мера - **`0`**. Поэтому мы получаем предупреждение: при вычислении гармонического среднего в знаменателе появляется ноль."
   ]
  },
  {
   "cell_type": "markdown",
   "metadata": {},
   "source": [
    "### Модели без учета дисбаланса"
   ]
  },
  {
   "cell_type": "markdown",
   "metadata": {},
   "source": [
    "#### Модель логистической регрессии (без учета дисбаланса)"
   ]
  },
  {
   "cell_type": "markdown",
   "metadata": {},
   "source": [
    "Создадим модель логистической регрессии без учета дисбаланса:"
   ]
  },
  {
   "cell_type": "code",
   "execution_count": 34,
   "metadata": {},
   "outputs": [],
   "source": [
    "# инициализируем модель логистической регрессии с параметром random_state=12345\n",
    "model_lr_db = LogisticRegression(random_state=12345)"
   ]
  },
  {
   "cell_type": "markdown",
   "metadata": {},
   "source": [
    "Обучаем модель на тренировочной выборке:"
   ]
  },
  {
   "cell_type": "code",
   "execution_count": 35,
   "metadata": {},
   "outputs": [
    {
     "name": "stdout",
     "output_type": "stream",
     "text": [
      "CPU times: user 18.3 s, sys: 23.5 s, total: 41.7 s\n",
      "Wall time: 41.7 s\n"
     ]
    },
    {
     "name": "stderr",
     "output_type": "stream",
     "text": [
      "/opt/conda/lib/python3.9/site-packages/sklearn/linear_model/_logistic.py:763: ConvergenceWarning: lbfgs failed to converge (status=1):\n",
      "STOP: TOTAL NO. of ITERATIONS REACHED LIMIT.\n",
      "\n",
      "Increase the number of iterations (max_iter) or scale the data as shown in:\n",
      "    https://scikit-learn.org/stable/modules/preprocessing.html\n",
      "Please also refer to the documentation for alternative solver options:\n",
      "    https://scikit-learn.org/stable/modules/linear_model.html#logistic-regression\n",
      "  n_iter_i = _check_optimize_result(\n"
     ]
    },
    {
     "data": {
      "text/plain": [
       "LogisticRegression(random_state=12345)"
      ]
     },
     "execution_count": 35,
     "metadata": {},
     "output_type": "execute_result"
    }
   ],
   "source": [
    "%%time\n",
    "\n",
    "# обучим модель на тренировочной выборке\n",
    "model_lr_db.fit(tf_idf_train,\n",
    "                 y_train) "
   ]
  },
  {
   "cell_type": "markdown",
   "metadata": {},
   "source": [
    "Запишем функцию, которая будет выводить `classification_report` и сохранять *f1-меру* для обученной модели:"
   ]
  },
  {
   "cell_type": "code",
   "execution_count": 36,
   "metadata": {},
   "outputs": [],
   "source": [
    "def f1_report(model,\n",
    "              model_name,\n",
    "              y,\n",
    "              tf_idf):\n",
    "    \n",
    "    print('\\033[1m'+model_name+'\\033[0m'+' for valid')\n",
    "              \n",
    "    print(classification_report(y, \n",
    "                                model.predict(tf_idf),\n",
    "                                target_names=[\"Good\", \"Toxic\"]))\n",
    "    \n",
    "    return f1_score(y, model.predict(tf_idf))"
   ]
  },
  {
   "cell_type": "markdown",
   "metadata": {},
   "source": [
    "Выведем `classification_report` для результатов модели логистической регрессии: "
   ]
  },
  {
   "cell_type": "code",
   "execution_count": 37,
   "metadata": {},
   "outputs": [
    {
     "name": "stdout",
     "output_type": "stream",
     "text": [
      "\u001b[1mmodel_lr_db\u001b[0m for valid\n",
      "              precision    recall  f1-score   support\n",
      "\n",
      "        Good       0.95      1.00      0.97     28595\n",
      "       Toxic       0.93      0.59      0.73      3319\n",
      "\n",
      "    accuracy                           0.95     31914\n",
      "   macro avg       0.94      0.79      0.85     31914\n",
      "weighted avg       0.95      0.95      0.95     31914\n",
      "\n"
     ]
    }
   ],
   "source": [
    "f1_lr_db_valid  = f1_report(model_lr_db,\n",
    "                            'model_lr_db',\n",
    "                            y_valid,\n",
    "                            tf_idf_valid)"
   ]
  },
  {
   "cell_type": "markdown",
   "metadata": {},
   "source": [
    "Очевидно, что f1-мера не достигла искомого значения без учета дисбаланса."
   ]
  },
  {
   "cell_type": "markdown",
   "metadata": {},
   "source": [
    "Выведем дополнительно её значение на экран:"
   ]
  },
  {
   "cell_type": "code",
   "execution_count": 38,
   "metadata": {},
   "outputs": [
    {
     "name": "stdout",
     "output_type": "stream",
     "text": [
      "\u001b[1mf1-мера для model_lr_db\u001b[0m на валидационной выборке:\n"
     ]
    },
    {
     "data": {
      "text/plain": [
       "0.727"
      ]
     },
     "execution_count": 38,
     "metadata": {},
     "output_type": "execute_result"
    }
   ],
   "source": [
    "print('\\033[1m'+'f1-мера для model_lr_db'+'\\033[0m'+' на валидационной выборке:')\n",
    "round(f1_lr_db_valid,3)"
   ]
  },
  {
   "cell_type": "markdown",
   "metadata": {},
   "source": [
    "#### Модель решающего дерева (без учета дисбаланса)"
   ]
  },
  {
   "cell_type": "markdown",
   "metadata": {},
   "source": [
    "Рассмотрим модель решающего дерева без учета дисбаланса классов:"
   ]
  },
  {
   "cell_type": "code",
   "execution_count": 39,
   "metadata": {},
   "outputs": [],
   "source": [
    "#создадим модель решающего дерева без учета дисбаланса классов\n",
    "model_dtc_db = DecisionTreeClassifier(random_state=12345)"
   ]
  },
  {
   "cell_type": "markdown",
   "metadata": {},
   "source": [
    "Обучим модель решающего дерева на обучающей выборке:"
   ]
  },
  {
   "cell_type": "code",
   "execution_count": 40,
   "metadata": {},
   "outputs": [
    {
     "name": "stdout",
     "output_type": "stream",
     "text": [
      "CPU times: user 4min 2s, sys: 411 ms, total: 4min 2s\n",
      "Wall time: 4min 3s\n"
     ]
    },
    {
     "data": {
      "text/plain": [
       "DecisionTreeClassifier(random_state=12345)"
      ]
     },
     "execution_count": 40,
     "metadata": {},
     "output_type": "execute_result"
    }
   ],
   "source": [
    "%%time\n",
    "\n",
    "#обучаем модель\n",
    "model_dtc_db.fit(tf_idf_train, \n",
    "                 y_train)"
   ]
  },
  {
   "cell_type": "markdown",
   "metadata": {},
   "source": [
    "Вычислим *f1-меру* и отчет для модели решающего дерева без учета дисбаланса классов с помощью созданной функции:"
   ]
  },
  {
   "cell_type": "code",
   "execution_count": 41,
   "metadata": {},
   "outputs": [
    {
     "name": "stdout",
     "output_type": "stream",
     "text": [
      "\u001b[1mmodel_dtc_db\u001b[0m for valid\n",
      "              precision    recall  f1-score   support\n",
      "\n",
      "        Good       0.97      0.97      0.97     28595\n",
      "       Toxic       0.73      0.71      0.72      3319\n",
      "\n",
      "    accuracy                           0.94     31914\n",
      "   macro avg       0.85      0.84      0.85     31914\n",
      "weighted avg       0.94      0.94      0.94     31914\n",
      "\n"
     ]
    }
   ],
   "source": [
    "f1_dtc_db_valid  = f1_report(model_dtc_db,\n",
    "                            'model_dtc_db',\n",
    "                             y_valid,\n",
    "                             tf_idf_valid)"
   ]
  },
  {
   "cell_type": "markdown",
   "metadata": {},
   "source": [
    "В сравнении с логистической регрессией значительно увеличилась **полнота** (`recall`) то есть способность модели **правильно** выделить положительные ответы *среди всех истинно положительных*:"
   ]
  },
  {
   "cell_type": "markdown",
   "metadata": {},
   "source": [
    "$$\\text{recall}=\\frac{\\text{TP}}{\\text{TP}+\\text{FN}}$$"
   ]
  },
  {
   "cell_type": "markdown",
   "metadata": {},
   "source": [
    "Для логистической регрессии полнота была  *0.59*, для решающего дерева без учета дисбаланса стала *0.71*, но метрика *f1* осталась примерно на таком же уровне."
   ]
  },
  {
   "cell_type": "markdown",
   "metadata": {},
   "source": [
    "#### Модель случайного леса (без учета дисбаланса)"
   ]
  },
  {
   "cell_type": "markdown",
   "metadata": {},
   "source": [
    "Рассмотрим модель случайного леса без учета дисбаланса классов:"
   ]
  },
  {
   "cell_type": "code",
   "execution_count": 42,
   "metadata": {},
   "outputs": [],
   "source": [
    "#модель случайного леса без учета дисбаланса классов\n",
    "model_rfc_db = RandomForestClassifier(random_state=12345) "
   ]
  },
  {
   "cell_type": "markdown",
   "metadata": {},
   "source": [
    "Обучим модель:"
   ]
  },
  {
   "cell_type": "code",
   "execution_count": 43,
   "metadata": {},
   "outputs": [
    {
     "name": "stdout",
     "output_type": "stream",
     "text": [
      "CPU times: user 5min 12s, sys: 539 ms, total: 5min 13s\n",
      "Wall time: 5min 14s\n"
     ]
    },
    {
     "data": {
      "text/plain": [
       "RandomForestClassifier(random_state=12345)"
      ]
     },
     "execution_count": 43,
     "metadata": {},
     "output_type": "execute_result"
    }
   ],
   "source": [
    "%%time\n",
    "\n",
    "# обучим модель на тренировочной выборке\n",
    "model_rfc_db.fit(tf_idf_train,\n",
    "                 y_train)"
   ]
  },
  {
   "cell_type": "markdown",
   "metadata": {},
   "source": [
    "Воспользуемся ранее созданной функцией для отображения результатов:"
   ]
  },
  {
   "cell_type": "code",
   "execution_count": 44,
   "metadata": {},
   "outputs": [
    {
     "name": "stdout",
     "output_type": "stream",
     "text": [
      "\u001b[1mmodel_rfc_db\u001b[0m for valid\n",
      "              precision    recall  f1-score   support\n",
      "\n",
      "        Good       0.95      1.00      0.97     28595\n",
      "       Toxic       0.93      0.56      0.70      3319\n",
      "\n",
      "    accuracy                           0.95     31914\n",
      "   macro avg       0.94      0.78      0.84     31914\n",
      "weighted avg       0.95      0.95      0.94     31914\n",
      "\n"
     ]
    }
   ],
   "source": [
    "f1_rfc_db_valid = f1_report(model_rfc_db,\n",
    "                            'model_rfc_db',\n",
    "                            y_valid,\n",
    "                            tf_idf_valid)"
   ]
  },
  {
   "cell_type": "markdown",
   "metadata": {},
   "source": [
    "*f1-мера* без учета дисбаланса классов для модели случайного леса показала результат худший в сравнении с предыдущими. Придётся принять меры по балансировке минорного класса."
   ]
  },
  {
   "cell_type": "markdown",
   "metadata": {},
   "source": [
    "### ROC-кривая для модели логистической регрессии"
   ]
  },
  {
   "cell_type": "markdown",
   "metadata": {},
   "source": [
    "Создадим функцию, которая позволит сохранить параметры для построения $\\text{ROC}$-кривой, а также площадь под $\\text{ROC}$-кривой $\\text{AUC-ROC}$:"
   ]
  },
  {
   "cell_type": "code",
   "execution_count": 45,
   "metadata": {},
   "outputs": [],
   "source": [
    "def roc_auc_model(model, \n",
    "                  features, \n",
    "                  target):\n",
    "    \n",
    "    #вычисляем вероятность классов\n",
    "    proba = model.predict_proba(features)\n",
    "    \n",
    "    #вероятность положительного класса\n",
    "    proba_one = proba[:, 1]\n",
    "    \n",
    "    #данные для построения ROC-кривой\n",
    "    fpr, tpr, thresholds = roc_curve(target, \n",
    "                                     proba_one) \n",
    "    \n",
    "    roc_auc = roc_auc_score(target,\n",
    "                            proba_one)\n",
    "    \n",
    "    return  fpr, tpr, thresholds, roc_auc"
   ]
  },
  {
   "cell_type": "markdown",
   "metadata": {},
   "source": [
    "Используем эту функцию для модели логистической регрессии без учета дисбаланса:"
   ]
  },
  {
   "cell_type": "code",
   "execution_count": 46,
   "metadata": {},
   "outputs": [],
   "source": [
    "#применяем функцию для логистической регрессии без учета дисбаланса на валидационной выборке\n",
    "(fpr_lr_db, \n",
    " tpr_lr_db, \n",
    " thresholds_lr_db, \n",
    " roc_auc_lr_db) = roc_auc_model(model_lr_db, \n",
    "                                tf_idf_valid, \n",
    "                                y_valid)"
   ]
  },
  {
   "cell_type": "markdown",
   "metadata": {},
   "source": [
    "Построим $\\text{ROC}$-кривую:"
   ]
  },
  {
   "cell_type": "code",
   "execution_count": 47,
   "metadata": {},
   "outputs": [
    {
     "data": {
      "image/png": "[encoded data removed]",
      "text/plain": [
       "<Figure size 432x288 with 1 Axes>"
      ]
     },
     "metadata": {
      "needs_background": "light"
     },
     "output_type": "display_data"
    }
   ],
   "source": [
    "plt.figure()\n",
    "\n",
    "plt.plot(fpr_lr_db, tpr_lr_db)\n",
    "\n",
    "# ROC-кривая случайной модели (выглядит как прямая)\n",
    "plt.plot([0, 1], [0, 1], linestyle='--')\n",
    "\n",
    "#plt.xlim() и plt.ylim(), чтобы\n",
    "#   установить границы осей от 0 до 1 >\n",
    "plt.xlim([0.0, 1.0])\n",
    "plt.ylim([0.0, 1.0])\n",
    "\n",
    "#plt.xlabel() и plt.ylabel(), чтобы\n",
    "#подписать оси \"False Positive Rate\" и \"True Positive Rate\" >\n",
    "plt.xlabel('False Positive Rate')\n",
    "plt.ylabel('True Positive Rate')\n",
    "\n",
    "#отображение сетки\n",
    "plt.grid()\n",
    "\n",
    "#заголовок \"ROC-кривая\" функцией plt.title() >\n",
    "plt.title('ROC-кривая, логистическая регрессия без учета дисбаланса')\n",
    "plt.show()"
   ]
  },
  {
   "cell_type": "markdown",
   "metadata": {},
   "source": [
    "ROC-кривая позволяет увидеть, что по-умолчанию установленный порог `0.5` приводит нас не к самому лучшему качеству модели из возможных. \n",
    "\n",
    "Посмотрим какой порог лучший. Конечно, тот который позволит получить точку кривой максимально близкую к **1** на **TPR**."
   ]
  },
  {
   "cell_type": "markdown",
   "metadata": {},
   "source": [
    "Найдём лучший порог по данным *ROC-кривой* с помощью функции:"
   ]
  },
  {
   "cell_type": "code",
   "execution_count": 48,
   "metadata": {},
   "outputs": [],
   "source": [
    "def best_thresh(tpr,fpr,thresholds):\n",
    "\n",
    "    # get the best threshold\n",
    "    J = tpr - fpr\n",
    "    ix = np.argmax(J)\n",
    "    best_thresh = thresholds[ix]\n",
    "    print('Best Threshold=%f' % (best_thresh))\n",
    "    return best_thresh"
   ]
  },
  {
   "cell_type": "markdown",
   "metadata": {},
   "source": [
    "Используем эту функцию:"
   ]
  },
  {
   "cell_type": "code",
   "execution_count": 49,
   "metadata": {},
   "outputs": [
    {
     "name": "stdout",
     "output_type": "stream",
     "text": [
      "Best Threshold=0.101963\n"
     ]
    },
    {
     "data": {
      "text/plain": [
       "0.101962875264481"
      ]
     },
     "execution_count": 49,
     "metadata": {},
     "output_type": "execute_result"
    }
   ],
   "source": [
    "best_thresh(tpr_lr_db,\n",
    "            fpr_lr_db,\n",
    "            thresholds_lr_db)"
   ]
  },
  {
   "cell_type": "markdown",
   "metadata": {},
   "source": [
    "И результат работы функции, и данные графика могут натолкнуть на то, чтобы сделать вывод о том, что этот порог будет действительно лучшим.\n",
    "\n",
    "Проверим это."
   ]
  },
  {
   "cell_type": "markdown",
   "metadata": {},
   "source": [
    "Запишем вероятности предсказания положительного класса на валидационной выборке:"
   ]
  },
  {
   "cell_type": "code",
   "execution_count": 50,
   "metadata": {},
   "outputs": [],
   "source": [
    "#вычисляем вероятность классов\n",
    "proba_lr_valid = model_lr_db.predict_proba(tf_idf_valid)\n",
    "\n",
    "#вероятность положительного класса\n",
    "proba_one_lr_valid  = proba_lr_valid[:, 1]"
   ]
  },
  {
   "cell_type": "markdown",
   "metadata": {},
   "source": [
    "Изменяем порог предсказаний и сохраняем предсказания:"
   ]
  },
  {
   "cell_type": "code",
   "execution_count": 51,
   "metadata": {},
   "outputs": [],
   "source": [
    "predicted_lr_valid = proba_one_lr_valid  > 0.101980"
   ]
  },
  {
   "cell_type": "markdown",
   "metadata": {},
   "source": [
    "Увы, **результат отрицательный**:"
   ]
  },
  {
   "cell_type": "code",
   "execution_count": 52,
   "metadata": {
    "scrolled": false
   },
   "outputs": [
    {
     "name": "stdout",
     "output_type": "stream",
     "text": [
      "\u001b[1mlr&best thresh\u001b[0m\n",
      "              precision    recall  f1-score   support\n",
      "\n",
      "        Good       0.99      0.91      0.95     28595\n",
      "       Toxic       0.54      0.91      0.68      3319\n",
      "\n",
      "    accuracy                           0.91     31914\n",
      "   macro avg       0.77      0.91      0.81     31914\n",
      "weighted avg       0.94      0.91      0.92     31914\n",
      "\n"
     ]
    }
   ],
   "source": [
    "print('\\033[1m'+'lr&best thresh'+'\\033[0m')\n",
    "\n",
    "print(classification_report(y_valid, predicted_lr_valid,\n",
    "                            target_names=[\"Good\", \"Toxic\"]))"
   ]
  },
  {
   "cell_type": "code",
   "execution_count": 53,
   "metadata": {},
   "outputs": [
    {
     "data": {
      "text/plain": [
       "0.6786238014664411"
      ]
     },
     "execution_count": 53,
     "metadata": {},
     "output_type": "execute_result"
    }
   ],
   "source": [
    "f1_score(y_valid, predicted_lr_valid)"
   ]
  },
  {
   "cell_type": "markdown",
   "metadata": {},
   "source": [
    "|Логистическая регрессия|precision| recall|f1-score|\n",
    "|:-----|:-----|:-----|:----:|\n",
    "|До изменения порога| 0.93| 0.59|0.73|\n",
    "|После изменения порога на 0.1| 0.54|  0.91|0.68|"
   ]
  },
  {
   "cell_type": "markdown",
   "metadata": {},
   "source": [
    "Мы видим, что изменение порога улучшило полноту, но ухудшило целевую метрику - *f1-меру*. То есть ROC-кривая не позволяет найти точку, при которой будет оптимальна f1-мера."
   ]
  },
  {
   "cell_type": "markdown",
   "metadata": {},
   "source": [
    "### Изменение порога"
   ]
  },
  {
   "cell_type": "markdown",
   "metadata": {},
   "source": [
    "#### Логистическая регрессия"
   ]
  },
  {
   "cell_type": "markdown",
   "metadata": {},
   "source": [
    "Изменим порог вручную. Для этого повторно вычислим вероятности предсказания:"
   ]
  },
  {
   "cell_type": "code",
   "execution_count": 54,
   "metadata": {},
   "outputs": [],
   "source": [
    "#вычисляем вероятность классов\n",
    "proba_lr_valid = model_lr_db.predict_proba(tf_idf_valid)\n",
    "\n",
    "#вероятность положительного класса\n",
    "proba_one_lr_valid  = proba_lr_valid[:, 1]"
   ]
  },
  {
   "cell_type": "markdown",
   "metadata": {},
   "source": [
    "С помощью цикла пройдёмся по значениям порога, будем сохранять предсказания и вычислять f1 меру для валидационной выборки:"
   ]
  },
  {
   "cell_type": "code",
   "execution_count": 55,
   "metadata": {},
   "outputs": [],
   "source": [
    "f1_lr_thresh = [] #здесь сохраним значения f1-меры\n",
    "thresh_lr = []    #здесь сохраним уникальные значения порога\n",
    "\n",
    "#запускаем цикл\n",
    "for threshold in np.arange(0, 0.7, 0.01): \n",
    "    \n",
    "    #проверяем превышает ли вероятность порог\n",
    "    predicted_valid = proba_one_lr_valid > threshold \n",
    "    \n",
    "    #считаем f1 меру для предсказаний\n",
    "    f1_lr_thresh.append(f1_score(y_valid, predicted_valid))\n",
    "    \n",
    "    #массив значений порога для визуализации\n",
    "    thresh_lr.append(threshold)"
   ]
  },
  {
   "cell_type": "markdown",
   "metadata": {},
   "source": [
    "Результаты соберём в датафрейм:"
   ]
  },
  {
   "cell_type": "code",
   "execution_count": 56,
   "metadata": {},
   "outputs": [],
   "source": [
    "f1_lr_df = pd.DataFrame({'f1_lr_thresh':f1_lr_thresh, \n",
    "                         'thresh_lr':thresh_lr})"
   ]
  },
  {
   "cell_type": "markdown",
   "metadata": {},
   "source": [
    "И построим график:"
   ]
  },
  {
   "cell_type": "code",
   "execution_count": 57,
   "metadata": {},
   "outputs": [
    {
     "data": {
      "image/png": "[encoded data removed]",
      "text/plain": [
       "<Figure size 864x576 with 1 Axes>"
      ]
     },
     "metadata": {
      "needs_background": "light"
     },
     "output_type": "display_data"
    }
   ],
   "source": [
    "#размер графика\n",
    "plt.figure(figsize=(12,8))\n",
    "\n",
    "#строим график\n",
    "plt.plot(f1_lr_df['thresh_lr'],\n",
    "         f1_lr_df['f1_lr_thresh'])\n",
    "\n",
    "#название графика\n",
    "plt.title('Зависимость f1-меры от порога для модели \\n логистической регрессии', fontsize=16)\n",
    "\n",
    "#подписи осей\n",
    "plt.xlabel(\"Значения порога\", fontsize=16)\n",
    "plt.ylabel(\"f1-мера\", fontsize=16)\n",
    "\n",
    "#отображение сетки\n",
    "plt.grid()\n",
    "\n",
    "plt.xticks(np.arange(0,0.8,step=0.05),\n",
    "           fontsize=14)\n",
    "\n",
    "plt.yticks(np.arange(0.15,0.8,step=0.025),\n",
    "           fontsize=12)\n",
    "\n",
    "plt.show()"
   ]
  },
  {
   "cell_type": "markdown",
   "metadata": {},
   "source": [
    "Из графика мы видим, что f1-мера превышает целевое значение 0.75 при варьировании порога.\n",
    "\n",
    "Найдём максимальное значение:"
   ]
  },
  {
   "cell_type": "code",
   "execution_count": 58,
   "metadata": {},
   "outputs": [
    {
     "data": {
      "text/plain": [
       "0.7792126964369068"
      ]
     },
     "execution_count": 58,
     "metadata": {},
     "output_type": "execute_result"
    }
   ],
   "source": [
    "f1_lr_df['f1_lr_thresh'].max()"
   ]
  },
  {
   "cell_type": "markdown",
   "metadata": {},
   "source": [
    "Найдём какой порог позволяет получить максимальное значение:"
   ]
  },
  {
   "cell_type": "code",
   "execution_count": 59,
   "metadata": {},
   "outputs": [
    {
     "data": {
      "text/plain": [
       "0.25"
      ]
     },
     "execution_count": 59,
     "metadata": {},
     "output_type": "execute_result"
    }
   ],
   "source": [
    "f1_lr_df[f1_lr_df['f1_lr_thresh']==f1_lr_df['f1_lr_thresh'].max()]['thresh_lr'].iloc[0]"
   ]
  },
  {
   "cell_type": "markdown",
   "metadata": {},
   "source": [
    "Запомнили важные параметры, проверим на стадии тестирования."
   ]
  },
  {
   "cell_type": "markdown",
   "metadata": {},
   "source": [
    "В заключение обобщим результаты:"
   ]
  },
  {
   "cell_type": "code",
   "execution_count": 60,
   "metadata": {},
   "outputs": [],
   "source": [
    "predicted_valid = proba_one_lr_valid > 0.25"
   ]
  },
  {
   "cell_type": "code",
   "execution_count": 61,
   "metadata": {},
   "outputs": [
    {
     "name": "stdout",
     "output_type": "stream",
     "text": [
      "\u001b[1mlr&best thresh\u001b[0m\n",
      "              precision    recall  f1-score   support\n",
      "\n",
      "        Good       0.97      0.98      0.98     28595\n",
      "       Toxic       0.81      0.75      0.78      3319\n",
      "\n",
      "    accuracy                           0.96     31914\n",
      "   macro avg       0.89      0.87      0.88     31914\n",
      "weighted avg       0.95      0.96      0.95     31914\n",
      "\n"
     ]
    }
   ],
   "source": [
    "print('\\033[1m'+'lr&best thresh'+'\\033[0m')\n",
    "\n",
    "print(classification_report(y_valid, predicted_valid,\n",
    "                            target_names=[\"Good\", \"Toxic\"]))"
   ]
  },
  {
   "cell_type": "markdown",
   "metadata": {},
   "source": [
    "Обобщим результаты:"
   ]
  },
  {
   "cell_type": "markdown",
   "metadata": {},
   "source": [
    "|Логистическая регрессия|precision| recall|f1-score|\n",
    "|:-----|:-----|:-----|:----:|\n",
    "|До изменения порога| 0.93| 0.59|0.73|\n",
    "|После изменения порога до 0.1| 0.54|  0.91|0.68|\n",
    "|После изменения порога до 0.25| 0.81|  0.75|0.78|"
   ]
  },
  {
   "cell_type": "markdown",
   "metadata": {},
   "source": [
    "Поиск порога вручную позволил найти оптимальное значения для целевой метрики `f1`."
   ]
  },
  {
   "cell_type": "markdown",
   "metadata": {},
   "source": [
    "#### Для модели решающего дерева"
   ]
  },
  {
   "cell_type": "markdown",
   "metadata": {},
   "source": [
    "Вычисляем вероятности предсказаний:"
   ]
  },
  {
   "cell_type": "code",
   "execution_count": 62,
   "metadata": {},
   "outputs": [],
   "source": [
    "#вычисляем вероятность классов\n",
    "proba_dtc_valid = model_dtc_db.predict_proba(tf_idf_valid)\n",
    "\n",
    "#вероятность положительного класса\n",
    "proba_one_dtc_valid  = proba_dtc_valid[:, 1]"
   ]
  },
  {
   "cell_type": "markdown",
   "metadata": {},
   "source": [
    "С помощью цикла пройдёмся по значениям порога, будем сохранять предсказания и вычислять f1 меру для валидационной выборки:"
   ]
  },
  {
   "cell_type": "code",
   "execution_count": 63,
   "metadata": {},
   "outputs": [],
   "source": [
    "f1_dtc_thresh = [] #здесь сохраним значения f1-меры\n",
    "thresh_dtc = []    #здесь сохраним уникальные значения порога\n",
    "\n",
    "#запускаем цикл\n",
    "for threshold in np.arange(0, 0.7, 0.01): \n",
    "    \n",
    "    #проверяем превышает ли вероятность порог\n",
    "    predicted_dtc_valid = proba_one_dtc_valid > threshold \n",
    "    \n",
    "    #считаем f1 меру для предсказаний\n",
    "    f1_dtc_thresh.append(f1_score(y_valid, \n",
    "                                  predicted_dtc_valid))\n",
    "    \n",
    "    #массив значений порога для визуализации\n",
    "    thresh_dtc.append(threshold)"
   ]
  },
  {
   "cell_type": "markdown",
   "metadata": {},
   "source": [
    "Результаты соберём в датафрейм:"
   ]
  },
  {
   "cell_type": "code",
   "execution_count": 64,
   "metadata": {},
   "outputs": [],
   "source": [
    "f1_dtc_df = pd.DataFrame({'f1_dtc_thresh':f1_dtc_thresh, \n",
    "                          'thresh_dtc':thresh_dtc})"
   ]
  },
  {
   "cell_type": "markdown",
   "metadata": {},
   "source": [
    "И построим график:"
   ]
  },
  {
   "cell_type": "code",
   "execution_count": 65,
   "metadata": {},
   "outputs": [
    {
     "data": {
      "image/png": "[encoded data removed]",
      "text/plain": [
       "<Figure size 864x576 with 1 Axes>"
      ]
     },
     "metadata": {
      "needs_background": "light"
     },
     "output_type": "display_data"
    }
   ],
   "source": [
    "#размер графика\n",
    "plt.figure(figsize=(12,8))\n",
    "\n",
    "#строим график\n",
    "plt.plot(f1_dtc_df['thresh_dtc'],\n",
    "         f1_dtc_df['f1_dtc_thresh'])\n",
    "\n",
    "#название графика\n",
    "plt.title('Зависимость f1-меры от порога для модели \\n решающего дерева', fontsize=16)\n",
    "\n",
    "#подписи осей\n",
    "plt.xlabel(\"Значения порога\", fontsize=16)\n",
    "plt.ylabel(\"f1-мера\", fontsize=16)\n",
    "\n",
    "#отображение сетки\n",
    "plt.grid()\n",
    "\n",
    "plt.xticks(np.arange(0,0.8,step=0.05),\n",
    "           fontsize=14)\n",
    "\n",
    "plt.yticks(np.arange(0.15,0.8,step=0.025),\n",
    "           fontsize=12)\n",
    "\n",
    "plt.show()"
   ]
  },
  {
   "cell_type": "markdown",
   "metadata": {},
   "source": [
    "Из графика мы видим, что f1-мера не превышает целевое значение 0.75 при варьировании порога.\n",
    "\n",
    "Результат модели решающего дерева не так чувствителен к порогу, как логистическая регрессия."
   ]
  },
  {
   "cell_type": "markdown",
   "metadata": {},
   "source": [
    "### Взвешивание классов"
   ]
  },
  {
   "cell_type": "markdown",
   "metadata": {},
   "source": [
    "Придадим объектам редкого класса больший вес. Модели проще запоминать объекты бóльшей значимости."
   ]
  },
  {
   "cell_type": "markdown",
   "metadata": {},
   "source": [
    "Алгоритмы машинного обучения считают все объекты обучающей выборки равнозначными по умолчанию. Если важно указать, что какие-то объекты важнее, их классу присваивается вес."
   ]
  },
  {
   "cell_type": "markdown",
   "metadata": {},
   "source": [
    "В алгоритме логистической регрессии в библиотеке `sklearn` есть аргумент `class_weight`. По умолчанию он равен `None`, т. е. классы равнозначны:\n",
    "- `вес класса «0» = 1.0`,\n",
    "- `вес класса «1» = 1.0`."
   ]
  },
  {
   "cell_type": "markdown",
   "metadata": {},
   "source": [
    "Если указать `class_weight='balanced'` (англ. «сбалансированный»), алгоритм посчитает, во сколько раз класс «`0`» встречается чаще класса «`1`».\n",
    "\n",
    "Бóльший вес будет у редкого класса.\n",
    "\n",
    "Аргумент `class_weight` также есть у решающего дерева и случайного леса."
   ]
  },
  {
   "cell_type": "markdown",
   "metadata": {},
   "source": [
    "#### Взвешивание классов для логистической регрессии"
   ]
  },
  {
   "cell_type": "markdown",
   "metadata": {},
   "source": [
    "Укажем `class_weight='balanced'` для модели логистической регрессии:"
   ]
  },
  {
   "cell_type": "code",
   "execution_count": 66,
   "metadata": {},
   "outputs": [],
   "source": [
    "#модель логистической регресии с взвешиванием классов\n",
    "model_lr_cwb = LogisticRegression(random_state=12345, \n",
    "                                  solver='liblinear',\n",
    "                                  class_weight='balanced')"
   ]
  },
  {
   "cell_type": "markdown",
   "metadata": {},
   "source": [
    "Обучим модель на тренировочной выборке:"
   ]
  },
  {
   "cell_type": "code",
   "execution_count": 67,
   "metadata": {},
   "outputs": [
    {
     "name": "stdout",
     "output_type": "stream",
     "text": [
      "CPU times: user 6.49 s, sys: 7.41 s, total: 13.9 s\n",
      "Wall time: 13.9 s\n"
     ]
    },
    {
     "data": {
      "text/plain": [
       "LogisticRegression(class_weight='balanced', random_state=12345,\n",
       "                   solver='liblinear')"
      ]
     },
     "execution_count": 67,
     "metadata": {},
     "output_type": "execute_result"
    }
   ],
   "source": [
    "%%time\n",
    "\n",
    "#обучение модели, тренировочная (обучающая) выборка\n",
    "model_lr_cwb.fit(tf_idf_train, \n",
    "                 y_train)"
   ]
  },
  {
   "cell_type": "markdown",
   "metadata": {},
   "source": [
    "Воспользуемся ранее созданной функцией для отображения результатов:"
   ]
  },
  {
   "cell_type": "code",
   "execution_count": 68,
   "metadata": {},
   "outputs": [
    {
     "name": "stdout",
     "output_type": "stream",
     "text": [
      "\u001b[1mmodel_lr_cwb\u001b[0m for valid\n",
      "              precision    recall  f1-score   support\n",
      "\n",
      "        Good       0.98      0.95      0.97     28595\n",
      "       Toxic       0.67      0.84      0.74      3319\n",
      "\n",
      "    accuracy                           0.94     31914\n",
      "   macro avg       0.82      0.90      0.85     31914\n",
      "weighted avg       0.95      0.94      0.94     31914\n",
      "\n"
     ]
    }
   ],
   "source": [
    "f1_lr_cwb_valid = f1_report(model_lr_cwb,\n",
    "                            'model_lr_cwb',\n",
    "                            y_valid,\n",
    "                            tf_idf_valid)"
   ]
  },
  {
   "cell_type": "markdown",
   "metadata": {},
   "source": [
    "Результат улучшился, но нам снова не хватает немного, чтобы достигнуть искомых **0.75** для *f1-меры*."
   ]
  },
  {
   "cell_type": "markdown",
   "metadata": {},
   "source": [
    "#### Взвешивание классов для решающего дерева"
   ]
  },
  {
   "cell_type": "markdown",
   "metadata": {},
   "source": [
    "Модель решающего дерева с взвешиванием классов:"
   ]
  },
  {
   "cell_type": "code",
   "execution_count": 69,
   "metadata": {},
   "outputs": [],
   "source": [
    "#зададим модель решающего дерева с взвешиванием классов\n",
    "model_dtc_cwb = DecisionTreeClassifier(random_state=12345,\n",
    "                                       class_weight='balanced')"
   ]
  },
  {
   "cell_type": "markdown",
   "metadata": {},
   "source": [
    "Обучим модель:"
   ]
  },
  {
   "cell_type": "code",
   "execution_count": 70,
   "metadata": {},
   "outputs": [
    {
     "name": "stdout",
     "output_type": "stream",
     "text": [
      "CPU times: user 1min 20s, sys: 82.9 ms, total: 1min 20s\n",
      "Wall time: 1min 21s\n"
     ]
    },
    {
     "data": {
      "text/plain": [
       "DecisionTreeClassifier(class_weight='balanced', random_state=12345)"
      ]
     },
     "execution_count": 70,
     "metadata": {},
     "output_type": "execute_result"
    }
   ],
   "source": [
    "%%time\n",
    "\n",
    "#обучаем модель\n",
    "model_dtc_cwb.fit(tf_idf_train, \n",
    "                  y_train)"
   ]
  },
  {
   "cell_type": "markdown",
   "metadata": {},
   "source": [
    "Сохраним *f1-меру* и выведем отчет о результатах работы модели на валидационной выборке:"
   ]
  },
  {
   "cell_type": "code",
   "execution_count": 71,
   "metadata": {},
   "outputs": [
    {
     "name": "stdout",
     "output_type": "stream",
     "text": [
      "\u001b[1mmodel_dtc_cwb\u001b[0m for valid\n",
      "              precision    recall  f1-score   support\n",
      "\n",
      "        Good       0.97      0.95      0.96     28595\n",
      "       Toxic       0.61      0.72      0.66      3319\n",
      "\n",
      "    accuracy                           0.92     31914\n",
      "   macro avg       0.79      0.83      0.81     31914\n",
      "weighted avg       0.93      0.92      0.92     31914\n",
      "\n"
     ]
    }
   ],
   "source": [
    "f1_dtc_cwb_valid = f1_report(model_dtc_cwb,\n",
    "                             'model_dtc_cwb',\n",
    "                             y_valid,\n",
    "                             tf_idf_valid)"
   ]
  },
  {
   "cell_type": "markdown",
   "metadata": {},
   "source": [
    "Взвешивание классов привело к существенному ухудшению метрики *f1*."
   ]
  },
  {
   "cell_type": "markdown",
   "metadata": {},
   "source": [
    "Взвешивать классы для случайного леса не будем, так как это приводит к смерти ядра в тренажёре, проверено."
   ]
  },
  {
   "cell_type": "markdown",
   "metadata": {},
   "source": [
    "### Вывод"
   ]
  },
  {
   "cell_type": "markdown",
   "metadata": {},
   "source": [
    "В ходе обучения моделей было выполнено следующее:\n",
    "- проверена модель мажоритарного класса, правильность которой составляет *0.9*, но *f1* вычислить для неё не представляется возможным, так как отсутствуют TN и FN\n",
    "- без учета дисбаланса рассмотрены модели логистической регрессии, решающего дерева и случайного леса, но целевой результат не был достигнут\n",
    "- проанализирована ROC-кривая для модели логистической регрессии, но по ней не удалось определить порог, при котором целевая метрика может быть достигнута, хотя порог около 0.1 позволил существенно увеличить полноту\n",
    "- изменение порога вручную позволило улучшить f1-меру до целевого значения для модели логистической регрессии\n",
    "- изменение порога для модели решающего дерева не привело к существенным результатам\n",
    "- взвешивание классов для моделей логистической регрессии и решающего дерева не привело к существенному улучшению целевой метрики.\n",
    "\n",
    "Наилучшее решение из рассморенных - подбор порога классификации вручную для модели логистической регрессии, достигнуто значение f1-меры равное **0.78**."
   ]
  },
  {
   "cell_type": "markdown",
   "metadata": {},
   "source": [
    "## Тестирование модели"
   ]
  },
  {
   "cell_type": "markdown",
   "metadata": {},
   "source": [
    "Тестируем лучшую модель логистической регрессии:"
   ]
  },
  {
   "cell_type": "code",
   "execution_count": 72,
   "metadata": {},
   "outputs": [],
   "source": [
    "#вычисляем вероятность классов\n",
    "proba_lr_test = model_lr_db.predict_proba(tf_idf_test)\n",
    "\n",
    "#вероятность положительного класса\n",
    "proba_one_lr_test  = proba_lr_test[:, 1]"
   ]
  },
  {
   "cell_type": "markdown",
   "metadata": {},
   "source": [
    "Изменяем порог предсказаний и сохраняем предсказания:"
   ]
  },
  {
   "cell_type": "code",
   "execution_count": 73,
   "metadata": {},
   "outputs": [],
   "source": [
    "predicted_lr_test = proba_one_lr_test  > (f1_lr_df[f1_lr_df['f1_lr_thresh']==f1_lr_df['f1_lr_thresh'].max()]\n",
    "                                          ['thresh_lr'].iloc[0])"
   ]
  },
  {
   "cell_type": "markdown",
   "metadata": {},
   "source": [
    "Результат:"
   ]
  },
  {
   "cell_type": "code",
   "execution_count": 74,
   "metadata": {
    "scrolled": false
   },
   "outputs": [
    {
     "name": "stdout",
     "output_type": "stream",
     "text": [
      "\u001b[1mLR&best thresh for f1-measure\u001b[0m\n",
      "              precision    recall  f1-score   support\n",
      "\n",
      "        Good       0.97      0.98      0.98     28676\n",
      "       Toxic       0.80      0.75      0.78      3239\n",
      "\n",
      "    accuracy                           0.96     31915\n",
      "   macro avg       0.89      0.86      0.88     31915\n",
      "weighted avg       0.95      0.96      0.96     31915\n",
      "\n"
     ]
    }
   ],
   "source": [
    "print('\\033[1m'+'LR&best thresh for f1-measure'+'\\033[0m')\n",
    "\n",
    "print(classification_report(y_test, predicted_lr_test,\n",
    "                            target_names=[\"Good\", \"Toxic\"]))"
   ]
  },
  {
   "cell_type": "markdown",
   "metadata": {},
   "source": [
    "Очевидно, что изменение порога позволило достигнуть целевую метрику заданного значения: f1-мера составила **0.78** для логистической регрессии с порогом 0.25 на тестовой выборке."
   ]
  },
  {
   "cell_type": "markdown",
   "metadata": {},
   "source": [
    "## Общий вывод"
   ]
  },
  {
   "cell_type": "markdown",
   "metadata": {},
   "source": [
    "Наша задача состояла в разработке инструмента, который будет искать токсичные комментарии и отправлять их на модерацию. В нашем распоряжении оказалось **около 160 тысяч комментариев** пользователей интернет-магазина «Викишоп», из которых *только 10% были отмечены, как токсичные*. То есть мы имели дело с несбалансированной выборкой.\n",
    "\n",
    "В ходе выполнения проекта реализованы следующие задачи:\n",
    "\n",
    "1. Выполненна **лемматизация и очистка исходных текстов** от лишних символов и стоп-слов с помощью средств библиотеки **nltk** и специально созданных функций. Данные разбиты на выборки (тренировочную, валидационную и тестовую).\n",
    "\n",
    "2. Для создания признаков тексты переведены в понятный для машины формат — **векторный**. Это реализовано с помощью счётчика величин TF-IDF.\n",
    "\n",
    "3. В ходе **обучения моделей** было выполнено следующее:\n",
    " - проверена модель **мажоритарного класса**, правильность которой составляет *0.9*, но *f1* вычислить для неё не представляется возможным, так как отсутствуют TN и FN\n",
    " - **без учета дисбаланса** рассмотрены модели логистической регрессии, решающего дерева и случайного леса, но целевой результат не был достигнут\n",
    " - проанализирована **ROC-кривая** для модели логистической регрессии, но по ней не удалось определить порог, при котором целевая метрика может быть достигнута, хотя порог около 0.1 позволил существенно увеличить полноту\n",
    " - **изменение порога вручную** позволило улучшить f1-меру до целевого значения для модели логистической регрессии\n",
    " - изменение порога для модели решающего дерева *не привело к существенным результатам*\n",
    " - *взвешивание классов* для моделей логистической регрессии и решающего дерево не привело к существенному улучшению целевой метрики.\n",
    "\n",
    "**Наилучшее решение из рассморенных** - подбор порога классификации вручную для модели логистической регрессии, достигнуто значение f1-меры равное **0.78** на *тестовой отложенной выборке*."
   ]
  }
 ],
 "metadata": {
  "ExecuteTimeLog": [
   {
    "duration": 1942,
    "start_time": "2022-04-15T18:46:44.687Z"
   },
   {
    "duration": 1113,
    "start_time": "2022-04-15T18:46:48.406Z"
   },
   {
    "duration": 46,
    "start_time": "2022-04-15T18:47:07.687Z"
   },
   {
    "duration": 21,
    "start_time": "2022-04-15T18:47:19.622Z"
   },
   {
    "duration": 6,
    "start_time": "2022-04-15T18:52:31.255Z"
   },
   {
    "duration": 167,
    "start_time": "2022-04-15T19:03:31.614Z"
   },
   {
    "duration": 4,
    "start_time": "2022-04-15T19:03:47.099Z"
   },
   {
    "duration": 3,
    "start_time": "2022-04-15T19:03:51.562Z"
   },
   {
    "duration": 4,
    "start_time": "2022-04-15T19:04:17.824Z"
   },
   {
    "duration": 36,
    "start_time": "2022-04-15T19:09:40.955Z"
   },
   {
    "duration": 11,
    "start_time": "2022-04-15T19:09:47.294Z"
   },
   {
    "duration": 6,
    "start_time": "2022-04-15T19:09:55.449Z"
   },
   {
    "duration": 5,
    "start_time": "2022-04-15T19:10:01.519Z"
   },
   {
    "duration": 6,
    "start_time": "2022-04-15T19:11:53.722Z"
   },
   {
    "duration": 28,
    "start_time": "2022-04-15T19:12:02.629Z"
   },
   {
    "duration": 2380,
    "start_time": "2022-04-15T19:12:07.392Z"
   },
   {
    "duration": 7,
    "start_time": "2022-04-15T19:12:18.845Z"
   },
   {
    "duration": 6,
    "start_time": "2022-04-15T19:12:42.325Z"
   },
   {
    "duration": 6,
    "start_time": "2022-04-15T19:12:57.868Z"
   },
   {
    "duration": 2099,
    "start_time": "2022-04-15T19:13:43.273Z"
   },
   {
    "duration": 1637,
    "start_time": "2022-04-15T19:13:45.376Z"
   },
   {
    "duration": 45,
    "start_time": "2022-04-15T19:13:47.016Z"
   },
   {
    "duration": 24,
    "start_time": "2022-04-15T19:13:47.064Z"
   },
   {
    "duration": 36,
    "start_time": "2022-04-15T19:13:47.090Z"
   },
   {
    "duration": 2422,
    "start_time": "2022-04-15T19:13:47.129Z"
   },
   {
    "duration": 13,
    "start_time": "2022-04-15T19:13:49.553Z"
   },
   {
    "duration": 10,
    "start_time": "2022-04-15T19:13:49.568Z"
   },
   {
    "duration": 9,
    "start_time": "2022-04-15T19:13:49.580Z"
   },
   {
    "duration": 194,
    "start_time": "2022-04-15T19:13:49.592Z"
   },
   {
    "duration": 0,
    "start_time": "2022-04-15T19:13:49.788Z"
   },
   {
    "duration": 5,
    "start_time": "2022-04-15T19:16:19.630Z"
   },
   {
    "duration": 3,
    "start_time": "2022-04-15T19:18:14.603Z"
   },
   {
    "duration": 4,
    "start_time": "2022-04-15T19:23:06.500Z"
   },
   {
    "duration": 5,
    "start_time": "2022-04-15T19:28:01.062Z"
   },
   {
    "duration": 2147,
    "start_time": "2022-04-15T19:28:20.766Z"
   },
   {
    "duration": 5,
    "start_time": "2022-04-15T19:29:20.130Z"
   },
   {
    "duration": 6,
    "start_time": "2022-04-15T19:29:24.559Z"
   },
   {
    "duration": 8,
    "start_time": "2022-04-15T19:29:57.017Z"
   },
   {
    "duration": 20,
    "start_time": "2022-04-15T19:33:41.639Z"
   },
   {
    "duration": 20,
    "start_time": "2022-04-15T19:34:16.358Z"
   },
   {
    "duration": 5,
    "start_time": "2022-04-15T19:34:36.275Z"
   },
   {
    "duration": 5,
    "start_time": "2022-04-15T19:34:43.847Z"
   },
   {
    "duration": 12,
    "start_time": "2022-04-15T19:40:37.790Z"
   },
   {
    "duration": 12,
    "start_time": "2022-04-15T19:40:47.848Z"
   },
   {
    "duration": 13,
    "start_time": "2022-04-15T19:40:57.534Z"
   },
   {
    "duration": 28,
    "start_time": "2022-04-15T19:41:33.697Z"
   },
   {
    "duration": 7,
    "start_time": "2022-04-15T19:41:40.017Z"
   },
   {
    "duration": 6,
    "start_time": "2022-04-15T19:42:51.450Z"
   },
   {
    "duration": 2680,
    "start_time": "2022-04-15T19:43:35.383Z"
   },
   {
    "duration": 1176,
    "start_time": "2022-04-15T19:43:38.067Z"
   },
   {
    "duration": 41,
    "start_time": "2022-04-15T19:43:39.245Z"
   },
   {
    "duration": 42,
    "start_time": "2022-04-15T19:43:39.288Z"
   },
   {
    "duration": 7,
    "start_time": "2022-04-15T19:43:39.335Z"
   },
   {
    "duration": 2515,
    "start_time": "2022-04-15T19:43:39.344Z"
   },
   {
    "duration": 17,
    "start_time": "2022-04-15T19:43:41.861Z"
   },
   {
    "duration": 15,
    "start_time": "2022-04-15T19:43:41.880Z"
   },
   {
    "duration": 9,
    "start_time": "2022-04-15T19:43:41.897Z"
   },
   {
    "duration": 12,
    "start_time": "2022-04-15T19:44:13.671Z"
   },
   {
    "duration": 1880,
    "start_time": "2022-04-15T19:44:24.760Z"
   },
   {
    "duration": 1023,
    "start_time": "2022-04-15T19:44:26.643Z"
   },
   {
    "duration": 39,
    "start_time": "2022-04-15T19:44:27.668Z"
   },
   {
    "duration": 32,
    "start_time": "2022-04-15T19:44:27.709Z"
   },
   {
    "duration": 6,
    "start_time": "2022-04-15T19:44:27.744Z"
   },
   {
    "duration": 2404,
    "start_time": "2022-04-15T19:44:27.753Z"
   },
   {
    "duration": 17,
    "start_time": "2022-04-15T19:44:30.160Z"
   },
   {
    "duration": 12,
    "start_time": "2022-04-15T19:44:30.179Z"
   },
   {
    "duration": 32,
    "start_time": "2022-04-15T19:44:30.193Z"
   },
   {
    "duration": 17,
    "start_time": "2022-04-15T19:44:30.227Z"
   },
   {
    "duration": 2080,
    "start_time": "2022-04-15T19:44:30.246Z"
   },
   {
    "duration": 0,
    "start_time": "2022-04-15T19:44:32.328Z"
   },
   {
    "duration": 0,
    "start_time": "2022-04-15T19:44:32.330Z"
   },
   {
    "duration": 0,
    "start_time": "2022-04-15T19:44:32.332Z"
   },
   {
    "duration": 0,
    "start_time": "2022-04-15T19:44:32.333Z"
   },
   {
    "duration": 0,
    "start_time": "2022-04-15T19:44:32.335Z"
   },
   {
    "duration": 0,
    "start_time": "2022-04-15T19:44:32.337Z"
   },
   {
    "duration": 26,
    "start_time": "2022-04-15T19:46:36.573Z"
   },
   {
    "duration": 5,
    "start_time": "2022-04-15T19:47:12.323Z"
   },
   {
    "duration": 6,
    "start_time": "2022-04-15T19:47:15.441Z"
   },
   {
    "duration": 5,
    "start_time": "2022-04-15T19:47:30.088Z"
   },
   {
    "duration": 6,
    "start_time": "2022-04-15T19:47:31.858Z"
   },
   {
    "duration": 5,
    "start_time": "2022-04-15T19:47:54.227Z"
   },
   {
    "duration": 5,
    "start_time": "2022-04-15T19:47:56.602Z"
   },
   {
    "duration": 6,
    "start_time": "2022-04-15T19:47:58.663Z"
   },
   {
    "duration": 6,
    "start_time": "2022-04-15T19:48:01.840Z"
   },
   {
    "duration": 4,
    "start_time": "2022-04-15T19:48:03.250Z"
   },
   {
    "duration": 7,
    "start_time": "2022-04-15T19:48:04.058Z"
   },
   {
    "duration": 5,
    "start_time": "2022-04-15T19:48:09.514Z"
   },
   {
    "duration": 6,
    "start_time": "2022-04-15T19:48:10.436Z"
   },
   {
    "duration": 6,
    "start_time": "2022-04-15T19:48:18.376Z"
   },
   {
    "duration": 5,
    "start_time": "2022-04-15T19:48:21.008Z"
   },
   {
    "duration": 6,
    "start_time": "2022-04-15T19:48:24.268Z"
   },
   {
    "duration": 5,
    "start_time": "2022-04-15T19:48:28.487Z"
   },
   {
    "duration": 7,
    "start_time": "2022-04-15T19:48:29.233Z"
   },
   {
    "duration": 5,
    "start_time": "2022-04-15T19:48:31.149Z"
   },
   {
    "duration": 6,
    "start_time": "2022-04-15T19:48:31.723Z"
   },
   {
    "duration": 1792,
    "start_time": "2022-04-15T19:48:38.001Z"
   },
   {
    "duration": 1012,
    "start_time": "2022-04-15T19:48:39.796Z"
   },
   {
    "duration": 53,
    "start_time": "2022-04-15T19:48:40.810Z"
   },
   {
    "duration": 22,
    "start_time": "2022-04-15T19:48:40.866Z"
   },
   {
    "duration": 34,
    "start_time": "2022-04-15T19:48:40.893Z"
   },
   {
    "duration": 2424,
    "start_time": "2022-04-15T19:48:40.929Z"
   },
   {
    "duration": 11,
    "start_time": "2022-04-15T19:48:43.355Z"
   },
   {
    "duration": 10,
    "start_time": "2022-04-15T19:48:43.368Z"
   },
   {
    "duration": 6,
    "start_time": "2022-04-15T19:48:43.380Z"
   },
   {
    "duration": 36,
    "start_time": "2022-04-15T19:48:43.388Z"
   },
   {
    "duration": 1883,
    "start_time": "2022-04-15T19:48:43.427Z"
   },
   {
    "duration": 14,
    "start_time": "2022-04-15T19:48:45.312Z"
   },
   {
    "duration": 24,
    "start_time": "2022-04-15T19:48:45.328Z"
   },
   {
    "duration": 182,
    "start_time": "2022-04-15T19:48:45.356Z"
   },
   {
    "duration": 0,
    "start_time": "2022-04-15T19:48:45.541Z"
   },
   {
    "duration": 0,
    "start_time": "2022-04-15T19:48:45.542Z"
   },
   {
    "duration": 0,
    "start_time": "2022-04-15T19:48:45.544Z"
   },
   {
    "duration": 1849,
    "start_time": "2022-04-15T19:49:18.955Z"
   },
   {
    "duration": 1039,
    "start_time": "2022-04-15T19:49:20.807Z"
   },
   {
    "duration": 42,
    "start_time": "2022-04-15T19:49:21.849Z"
   },
   {
    "duration": 39,
    "start_time": "2022-04-15T19:49:21.895Z"
   },
   {
    "duration": 6,
    "start_time": "2022-04-15T19:49:21.936Z"
   },
   {
    "duration": 2461,
    "start_time": "2022-04-15T19:49:21.944Z"
   },
   {
    "duration": 9,
    "start_time": "2022-04-15T19:49:24.408Z"
   },
   {
    "duration": 6,
    "start_time": "2022-04-15T19:49:24.425Z"
   },
   {
    "duration": 12,
    "start_time": "2022-04-15T19:49:24.433Z"
   },
   {
    "duration": 9,
    "start_time": "2022-04-15T19:49:24.449Z"
   },
   {
    "duration": 1882,
    "start_time": "2022-04-15T19:49:24.461Z"
   },
   {
    "duration": 5,
    "start_time": "2022-04-15T19:49:26.345Z"
   },
   {
    "duration": 9,
    "start_time": "2022-04-15T19:49:26.353Z"
   },
   {
    "duration": 191,
    "start_time": "2022-04-15T19:49:26.364Z"
   },
   {
    "duration": 0,
    "start_time": "2022-04-15T19:49:26.558Z"
   },
   {
    "duration": 0,
    "start_time": "2022-04-15T19:49:26.559Z"
   },
   {
    "duration": 0,
    "start_time": "2022-04-15T19:49:26.561Z"
   },
   {
    "duration": 2055,
    "start_time": "2022-04-15T19:50:24.931Z"
   },
   {
    "duration": 1264,
    "start_time": "2022-04-15T19:50:26.990Z"
   },
   {
    "duration": 40,
    "start_time": "2022-04-15T19:50:28.257Z"
   },
   {
    "duration": 32,
    "start_time": "2022-04-15T19:50:28.300Z"
   },
   {
    "duration": 6,
    "start_time": "2022-04-15T19:50:28.336Z"
   },
   {
    "duration": 2910,
    "start_time": "2022-04-15T19:50:28.344Z"
   },
   {
    "duration": 175,
    "start_time": "2022-04-15T19:50:31.257Z"
   },
   {
    "duration": 132,
    "start_time": "2022-04-15T19:50:31.435Z"
   },
   {
    "duration": 108,
    "start_time": "2022-04-15T19:50:31.570Z"
   },
   {
    "duration": 123,
    "start_time": "2022-04-15T19:50:31.680Z"
   },
   {
    "duration": 3338,
    "start_time": "2022-04-15T19:50:31.805Z"
   },
   {
    "duration": 6,
    "start_time": "2022-04-15T19:50:35.146Z"
   },
   {
    "duration": 13,
    "start_time": "2022-04-15T19:50:35.155Z"
   },
   {
    "duration": 195,
    "start_time": "2022-04-15T19:50:35.172Z"
   },
   {
    "duration": 0,
    "start_time": "2022-04-15T19:50:35.370Z"
   },
   {
    "duration": 0,
    "start_time": "2022-04-15T19:50:35.371Z"
   },
   {
    "duration": 0,
    "start_time": "2022-04-15T19:50:35.373Z"
   },
   {
    "duration": 148,
    "start_time": "2022-04-15T19:52:32.956Z"
   },
   {
    "duration": 12,
    "start_time": "2022-04-15T19:52:39.089Z"
   },
   {
    "duration": 19435,
    "start_time": "2022-04-15T19:53:01.489Z"
   },
   {
    "duration": 5,
    "start_time": "2022-04-15T19:53:46.237Z"
   },
   {
    "duration": 5,
    "start_time": "2022-04-15T19:53:53.573Z"
   },
   {
    "duration": 12,
    "start_time": "2022-04-15T19:54:19.739Z"
   },
   {
    "duration": 4,
    "start_time": "2022-04-15T19:54:37.272Z"
   },
   {
    "duration": 12,
    "start_time": "2022-04-15T19:54:52.453Z"
   },
   {
    "duration": 12,
    "start_time": "2022-04-15T19:55:14.717Z"
   },
   {
    "duration": 5,
    "start_time": "2022-04-15T19:55:23.324Z"
   },
   {
    "duration": 125,
    "start_time": "2022-04-15T19:56:02.557Z"
   },
   {
    "duration": 2899,
    "start_time": "2022-04-15T19:56:06.744Z"
   },
   {
    "duration": 111,
    "start_time": "2022-04-15T19:56:12.115Z"
   },
   {
    "duration": 14,
    "start_time": "2022-04-15T19:56:16.706Z"
   },
   {
    "duration": 2646,
    "start_time": "2022-04-15T19:56:31.307Z"
   },
   {
    "duration": 2598,
    "start_time": "2022-04-15T19:56:33.958Z"
   },
   {
    "duration": 92,
    "start_time": "2022-04-15T19:56:36.558Z"
   },
   {
    "duration": 20,
    "start_time": "2022-04-15T19:56:36.652Z"
   },
   {
    "duration": 7,
    "start_time": "2022-04-15T19:56:36.676Z"
   },
   {
    "duration": 2618,
    "start_time": "2022-04-15T19:56:36.684Z"
   },
   {
    "duration": 9,
    "start_time": "2022-04-15T19:56:39.304Z"
   },
   {
    "duration": 6,
    "start_time": "2022-04-15T19:56:39.324Z"
   },
   {
    "duration": 9,
    "start_time": "2022-04-15T19:56:39.332Z"
   },
   {
    "duration": 6,
    "start_time": "2022-04-15T19:56:39.343Z"
   },
   {
    "duration": 1902,
    "start_time": "2022-04-15T19:56:39.351Z"
   },
   {
    "duration": 174,
    "start_time": "2022-04-15T19:56:41.255Z"
   },
   {
    "duration": 0,
    "start_time": "2022-04-15T19:56:41.431Z"
   },
   {
    "duration": 0,
    "start_time": "2022-04-15T19:56:41.433Z"
   },
   {
    "duration": 0,
    "start_time": "2022-04-15T19:56:41.434Z"
   },
   {
    "duration": 0,
    "start_time": "2022-04-15T19:56:41.436Z"
   },
   {
    "duration": 0,
    "start_time": "2022-04-15T19:56:41.437Z"
   },
   {
    "duration": 0,
    "start_time": "2022-04-15T19:56:41.439Z"
   },
   {
    "duration": 0,
    "start_time": "2022-04-15T19:56:41.440Z"
   },
   {
    "duration": 14,
    "start_time": "2022-04-15T19:56:56.732Z"
   },
   {
    "duration": 14,
    "start_time": "2022-04-15T19:57:13.221Z"
   },
   {
    "duration": 13,
    "start_time": "2022-04-15T19:58:21.888Z"
   },
   {
    "duration": 4,
    "start_time": "2022-04-15T19:58:37.701Z"
   },
   {
    "duration": 5,
    "start_time": "2022-04-15T19:58:46.280Z"
   },
   {
    "duration": 2259,
    "start_time": "2022-04-15T19:58:58.698Z"
   },
   {
    "duration": 2107,
    "start_time": "2022-04-15T19:59:00.960Z"
   },
   {
    "duration": 62,
    "start_time": "2022-04-15T19:59:03.069Z"
   },
   {
    "duration": 21,
    "start_time": "2022-04-15T19:59:03.133Z"
   },
   {
    "duration": 7,
    "start_time": "2022-04-15T19:59:03.157Z"
   },
   {
    "duration": 2594,
    "start_time": "2022-04-15T19:59:03.166Z"
   },
   {
    "duration": 12,
    "start_time": "2022-04-15T19:59:05.763Z"
   },
   {
    "duration": 14,
    "start_time": "2022-04-15T19:59:05.777Z"
   },
   {
    "duration": 11,
    "start_time": "2022-04-15T19:59:05.793Z"
   },
   {
    "duration": 20,
    "start_time": "2022-04-15T19:59:05.806Z"
   },
   {
    "duration": 2003,
    "start_time": "2022-04-15T19:59:05.828Z"
   },
   {
    "duration": 4,
    "start_time": "2022-04-15T19:59:07.833Z"
   },
   {
    "duration": 23,
    "start_time": "2022-04-15T19:59:07.840Z"
   },
   {
    "duration": 182,
    "start_time": "2022-04-15T19:59:07.869Z"
   },
   {
    "duration": 0,
    "start_time": "2022-04-15T19:59:08.054Z"
   },
   {
    "duration": 0,
    "start_time": "2022-04-15T19:59:08.055Z"
   },
   {
    "duration": 0,
    "start_time": "2022-04-15T19:59:08.057Z"
   },
   {
    "duration": 0,
    "start_time": "2022-04-15T19:59:08.058Z"
   },
   {
    "duration": 0,
    "start_time": "2022-04-15T19:59:08.060Z"
   },
   {
    "duration": 0,
    "start_time": "2022-04-15T19:59:08.061Z"
   },
   {
    "duration": 0,
    "start_time": "2022-04-15T19:59:08.063Z"
   },
   {
    "duration": 4,
    "start_time": "2022-04-15T20:00:43.220Z"
   },
   {
    "duration": 2173,
    "start_time": "2022-04-15T20:03:47.061Z"
   },
   {
    "duration": 2090,
    "start_time": "2022-04-15T20:03:49.237Z"
   },
   {
    "duration": 95,
    "start_time": "2022-04-15T20:03:51.329Z"
   },
   {
    "duration": 21,
    "start_time": "2022-04-15T20:03:51.427Z"
   },
   {
    "duration": 72,
    "start_time": "2022-04-15T20:03:51.453Z"
   },
   {
    "duration": 3174,
    "start_time": "2022-04-15T20:03:51.527Z"
   },
   {
    "duration": 21,
    "start_time": "2022-04-15T20:03:54.704Z"
   },
   {
    "duration": 5,
    "start_time": "2022-04-15T20:03:54.727Z"
   },
   {
    "duration": 7,
    "start_time": "2022-04-15T20:03:54.735Z"
   },
   {
    "duration": 2255,
    "start_time": "2022-04-15T20:03:54.745Z"
   },
   {
    "duration": 0,
    "start_time": "2022-04-15T20:03:57.004Z"
   },
   {
    "duration": 0,
    "start_time": "2022-04-15T20:03:57.005Z"
   },
   {
    "duration": 0,
    "start_time": "2022-04-15T20:03:57.008Z"
   },
   {
    "duration": 0,
    "start_time": "2022-04-15T20:03:57.010Z"
   },
   {
    "duration": 0,
    "start_time": "2022-04-15T20:03:57.011Z"
   },
   {
    "duration": 0,
    "start_time": "2022-04-15T20:03:57.014Z"
   },
   {
    "duration": 0,
    "start_time": "2022-04-15T20:03:57.016Z"
   },
   {
    "duration": 0,
    "start_time": "2022-04-15T20:03:57.018Z"
   },
   {
    "duration": 0,
    "start_time": "2022-04-15T20:03:57.020Z"
   },
   {
    "duration": 1,
    "start_time": "2022-04-15T20:03:57.022Z"
   },
   {
    "duration": 0,
    "start_time": "2022-04-15T20:03:57.025Z"
   },
   {
    "duration": 0,
    "start_time": "2022-04-15T20:03:57.027Z"
   },
   {
    "duration": 13,
    "start_time": "2022-04-15T20:04:18.816Z"
   },
   {
    "duration": 11,
    "start_time": "2022-04-15T20:07:26.056Z"
   },
   {
    "duration": 1927,
    "start_time": "2022-04-15T20:08:51.209Z"
   },
   {
    "duration": 1018,
    "start_time": "2022-04-15T20:08:53.139Z"
   },
   {
    "duration": 40,
    "start_time": "2022-04-15T20:08:54.159Z"
   },
   {
    "duration": 40,
    "start_time": "2022-04-15T20:08:54.202Z"
   },
   {
    "duration": 5,
    "start_time": "2022-04-15T20:08:54.245Z"
   },
   {
    "duration": 2478,
    "start_time": "2022-04-15T20:08:54.252Z"
   },
   {
    "duration": 8,
    "start_time": "2022-04-15T20:08:56.733Z"
   },
   {
    "duration": 12,
    "start_time": "2022-04-15T20:08:56.743Z"
   },
   {
    "duration": 6,
    "start_time": "2022-04-15T20:08:56.757Z"
   },
   {
    "duration": 682,
    "start_time": "2022-04-15T20:08:56.765Z"
   },
   {
    "duration": 4,
    "start_time": "2022-04-15T20:09:09.616Z"
   },
   {
    "duration": 15,
    "start_time": "2022-04-15T20:09:19.077Z"
   },
   {
    "duration": 1880,
    "start_time": "2022-04-15T20:09:33.780Z"
   },
   {
    "duration": 8608,
    "start_time": "2022-04-15T20:09:51.462Z"
   },
   {
    "duration": 11,
    "start_time": "2022-04-15T20:10:09.671Z"
   },
   {
    "duration": 67,
    "start_time": "2022-04-15T20:11:26.749Z"
   },
   {
    "duration": 1808,
    "start_time": "2022-04-15T20:12:31.753Z"
   },
   {
    "duration": 1047,
    "start_time": "2022-04-15T20:12:33.564Z"
   },
   {
    "duration": 45,
    "start_time": "2022-04-15T20:12:34.613Z"
   },
   {
    "duration": 23,
    "start_time": "2022-04-15T20:12:34.660Z"
   },
   {
    "duration": 6,
    "start_time": "2022-04-15T20:12:34.686Z"
   },
   {
    "duration": 2780,
    "start_time": "2022-04-15T20:12:34.694Z"
   },
   {
    "duration": 13,
    "start_time": "2022-04-15T20:12:37.479Z"
   },
   {
    "duration": 9,
    "start_time": "2022-04-15T20:12:37.495Z"
   },
   {
    "duration": 19,
    "start_time": "2022-04-15T20:12:37.507Z"
   },
   {
    "duration": 10,
    "start_time": "2022-04-15T20:12:37.528Z"
   },
   {
    "duration": 346,
    "start_time": "2022-04-15T20:12:37.541Z"
   },
   {
    "duration": 0,
    "start_time": "2022-04-15T20:12:37.890Z"
   },
   {
    "duration": 0,
    "start_time": "2022-04-15T20:12:37.892Z"
   },
   {
    "duration": 0,
    "start_time": "2022-04-15T20:12:37.893Z"
   },
   {
    "duration": 0,
    "start_time": "2022-04-15T20:12:37.894Z"
   },
   {
    "duration": 0,
    "start_time": "2022-04-15T20:12:37.900Z"
   },
   {
    "duration": 4,
    "start_time": "2022-04-15T20:13:40.787Z"
   },
   {
    "duration": 1828,
    "start_time": "2022-04-15T20:14:08.881Z"
   },
   {
    "duration": 1126,
    "start_time": "2022-04-15T20:14:10.712Z"
   },
   {
    "duration": 41,
    "start_time": "2022-04-15T20:14:11.840Z"
   },
   {
    "duration": 19,
    "start_time": "2022-04-15T20:14:11.883Z"
   },
   {
    "duration": 7,
    "start_time": "2022-04-15T20:14:11.927Z"
   },
   {
    "duration": 7,
    "start_time": "2022-04-15T20:14:11.937Z"
   },
   {
    "duration": 7,
    "start_time": "2022-04-15T20:14:11.946Z"
   },
   {
    "duration": 313,
    "start_time": "2022-04-15T20:14:11.956Z"
   },
   {
    "duration": 0,
    "start_time": "2022-04-15T20:14:12.272Z"
   },
   {
    "duration": 0,
    "start_time": "2022-04-15T20:14:12.274Z"
   },
   {
    "duration": 0,
    "start_time": "2022-04-15T20:14:12.276Z"
   },
   {
    "duration": 0,
    "start_time": "2022-04-15T20:14:12.278Z"
   },
   {
    "duration": 0,
    "start_time": "2022-04-15T20:14:12.280Z"
   },
   {
    "duration": 6,
    "start_time": "2022-04-15T20:14:30.980Z"
   },
   {
    "duration": 2954,
    "start_time": "2022-04-15T20:14:41.677Z"
   },
   {
    "duration": 1946,
    "start_time": "2022-04-15T20:14:57.319Z"
   },
   {
    "duration": 1134,
    "start_time": "2022-04-15T20:14:59.268Z"
   },
   {
    "duration": 51,
    "start_time": "2022-04-15T20:15:00.405Z"
   },
   {
    "duration": 21,
    "start_time": "2022-04-15T20:15:00.458Z"
   },
   {
    "duration": 7,
    "start_time": "2022-04-15T20:15:00.483Z"
   },
   {
    "duration": 7,
    "start_time": "2022-04-15T20:15:00.526Z"
   },
   {
    "duration": 17,
    "start_time": "2022-04-15T20:15:00.535Z"
   },
   {
    "duration": 2070,
    "start_time": "2022-04-15T20:15:00.554Z"
   },
   {
    "duration": 8607,
    "start_time": "2022-04-15T20:15:02.626Z"
   },
   {
    "duration": 13,
    "start_time": "2022-04-15T20:15:11.235Z"
   },
   {
    "duration": 87,
    "start_time": "2022-04-15T20:15:11.251Z"
   },
   {
    "duration": 183,
    "start_time": "2022-04-15T20:15:11.341Z"
   },
   {
    "duration": 0,
    "start_time": "2022-04-15T20:15:11.527Z"
   },
   {
    "duration": 193,
    "start_time": "2022-04-15T20:20:12.767Z"
   },
   {
    "duration": 4,
    "start_time": "2022-04-15T20:20:26.010Z"
   },
   {
    "duration": 12,
    "start_time": "2022-04-15T20:23:03.565Z"
   },
   {
    "duration": 2458,
    "start_time": "2022-04-15T20:23:12.516Z"
   },
   {
    "duration": 4,
    "start_time": "2022-04-15T20:23:17.612Z"
   },
   {
    "duration": 5,
    "start_time": "2022-04-15T20:23:44.538Z"
   },
   {
    "duration": 1899,
    "start_time": "2022-04-15T20:29:47.512Z"
   },
   {
    "duration": 1645,
    "start_time": "2022-04-15T20:29:49.413Z"
   },
   {
    "duration": 95,
    "start_time": "2022-04-15T20:29:51.061Z"
   },
   {
    "duration": 91,
    "start_time": "2022-04-15T20:29:51.158Z"
   },
   {
    "duration": 29,
    "start_time": "2022-04-15T20:29:51.252Z"
   },
   {
    "duration": 8,
    "start_time": "2022-04-15T20:29:51.326Z"
   },
   {
    "duration": 20,
    "start_time": "2022-04-15T20:29:51.337Z"
   },
   {
    "duration": 3342,
    "start_time": "2022-04-15T20:29:51.360Z"
   },
   {
    "duration": 11013,
    "start_time": "2022-04-15T20:29:54.706Z"
   },
   {
    "duration": 14,
    "start_time": "2022-04-15T20:30:05.721Z"
   },
   {
    "duration": 92,
    "start_time": "2022-04-15T20:30:05.738Z"
   },
   {
    "duration": 184,
    "start_time": "2022-04-15T20:30:05.832Z"
   },
   {
    "duration": 0,
    "start_time": "2022-04-15T20:30:06.019Z"
   },
   {
    "duration": 0,
    "start_time": "2022-04-15T20:30:06.020Z"
   },
   {
    "duration": 0,
    "start_time": "2022-04-15T20:30:06.024Z"
   },
   {
    "duration": 0,
    "start_time": "2022-04-15T20:30:06.026Z"
   },
   {
    "duration": 0,
    "start_time": "2022-04-15T20:30:06.027Z"
   },
   {
    "duration": 0,
    "start_time": "2022-04-16T06:54:05.349Z"
   },
   {
    "duration": 0,
    "start_time": "2022-04-16T06:54:05.350Z"
   },
   {
    "duration": 0,
    "start_time": "2022-04-16T06:54:05.351Z"
   },
   {
    "duration": 0,
    "start_time": "2022-04-16T06:54:05.352Z"
   },
   {
    "duration": 0,
    "start_time": "2022-04-16T06:54:05.352Z"
   },
   {
    "duration": 0,
    "start_time": "2022-04-16T06:54:05.353Z"
   },
   {
    "duration": 0,
    "start_time": "2022-04-16T06:54:05.355Z"
   },
   {
    "duration": 0,
    "start_time": "2022-04-16T06:54:05.355Z"
   },
   {
    "duration": 0,
    "start_time": "2022-04-16T06:54:05.356Z"
   },
   {
    "duration": 0,
    "start_time": "2022-04-16T06:54:05.357Z"
   },
   {
    "duration": 0,
    "start_time": "2022-04-16T06:54:05.358Z"
   },
   {
    "duration": 0,
    "start_time": "2022-04-16T06:54:05.400Z"
   },
   {
    "duration": 0,
    "start_time": "2022-04-16T06:54:05.401Z"
   },
   {
    "duration": 0,
    "start_time": "2022-04-16T06:54:05.402Z"
   },
   {
    "duration": 0,
    "start_time": "2022-04-16T06:54:05.403Z"
   },
   {
    "duration": 0,
    "start_time": "2022-04-16T06:54:05.403Z"
   },
   {
    "duration": 0,
    "start_time": "2022-04-16T06:54:05.404Z"
   },
   {
    "duration": 1358,
    "start_time": "2022-04-16T06:56:03.566Z"
   },
   {
    "duration": 776,
    "start_time": "2022-04-16T06:56:04.925Z"
   },
   {
    "duration": 31,
    "start_time": "2022-04-16T06:56:05.702Z"
   },
   {
    "duration": 11,
    "start_time": "2022-04-16T06:56:05.736Z"
   },
   {
    "duration": 4,
    "start_time": "2022-04-16T06:56:05.749Z"
   },
   {
    "duration": 5,
    "start_time": "2022-04-16T06:56:05.755Z"
   },
   {
    "duration": 9,
    "start_time": "2022-04-16T06:56:05.761Z"
   },
   {
    "duration": 1471,
    "start_time": "2022-04-16T06:56:05.772Z"
   },
   {
    "duration": 5504,
    "start_time": "2022-04-16T06:56:07.245Z"
   },
   {
    "duration": 7,
    "start_time": "2022-04-16T06:56:12.752Z"
   },
   {
    "duration": 63,
    "start_time": "2022-04-16T06:56:12.760Z"
   },
   {
    "duration": 112,
    "start_time": "2022-04-16T06:56:12.824Z"
   },
   {
    "duration": 0,
    "start_time": "2022-04-16T06:56:12.937Z"
   },
   {
    "duration": 0,
    "start_time": "2022-04-16T06:56:12.939Z"
   },
   {
    "duration": 0,
    "start_time": "2022-04-16T06:56:12.940Z"
   },
   {
    "duration": 0,
    "start_time": "2022-04-16T06:56:12.941Z"
   },
   {
    "duration": 0,
    "start_time": "2022-04-16T06:56:12.942Z"
   },
   {
    "duration": 5,
    "start_time": "2022-04-16T07:06:16.648Z"
   },
   {
    "duration": 4,
    "start_time": "2022-04-16T07:07:08.100Z"
   },
   {
    "duration": 4,
    "start_time": "2022-04-16T07:11:14.502Z"
   },
   {
    "duration": 9,
    "start_time": "2022-04-16T07:14:06.754Z"
   },
   {
    "duration": 10,
    "start_time": "2022-04-16T07:14:28.999Z"
   },
   {
    "duration": 453,
    "start_time": "2022-04-16T07:14:58.135Z"
   },
   {
    "duration": 829,
    "start_time": "2022-04-16T07:15:04.925Z"
   },
   {
    "duration": 861,
    "start_time": "2022-04-16T07:15:17.426Z"
   },
   {
    "duration": 758,
    "start_time": "2022-04-16T07:15:33.385Z"
   },
   {
    "duration": 365,
    "start_time": "2022-04-16T07:16:07.699Z"
   },
   {
    "duration": 330,
    "start_time": "2022-04-16T07:16:51.386Z"
   },
   {
    "duration": 616,
    "start_time": "2022-04-16T07:16:56.775Z"
   },
   {
    "duration": 24,
    "start_time": "2022-04-16T07:17:37.212Z"
   },
   {
    "duration": 848,
    "start_time": "2022-04-16T07:17:46.739Z"
   },
   {
    "duration": 122,
    "start_time": "2022-04-16T07:20:21.194Z"
   },
   {
    "duration": 130,
    "start_time": "2022-04-16T07:21:13.925Z"
   },
   {
    "duration": 124,
    "start_time": "2022-04-16T07:21:32.226Z"
   },
   {
    "duration": 129,
    "start_time": "2022-04-16T07:21:39.939Z"
   },
   {
    "duration": 128,
    "start_time": "2022-04-16T07:21:43.302Z"
   },
   {
    "duration": 119,
    "start_time": "2022-04-16T07:21:53.443Z"
   },
   {
    "duration": 1601,
    "start_time": "2022-04-16T07:24:49.320Z"
   },
   {
    "duration": 983,
    "start_time": "2022-04-16T07:24:50.923Z"
   },
   {
    "duration": 32,
    "start_time": "2022-04-16T07:24:51.908Z"
   },
   {
    "duration": 61,
    "start_time": "2022-04-16T07:24:51.942Z"
   },
   {
    "duration": 8,
    "start_time": "2022-04-16T07:24:52.005Z"
   },
   {
    "duration": 11,
    "start_time": "2022-04-16T07:24:52.014Z"
   },
   {
    "duration": 292,
    "start_time": "2022-04-16T07:24:52.027Z"
   },
   {
    "duration": 4,
    "start_time": "2022-04-16T07:24:52.320Z"
   },
   {
    "duration": 1732,
    "start_time": "2022-04-16T07:24:52.325Z"
   },
   {
    "duration": 3,
    "start_time": "2022-04-16T07:24:54.059Z"
   },
   {
    "duration": 8,
    "start_time": "2022-04-16T07:24:54.064Z"
   },
   {
    "duration": 5233,
    "start_time": "2022-04-16T07:24:54.073Z"
   },
   {
    "duration": 10,
    "start_time": "2022-04-16T07:24:59.308Z"
   },
   {
    "duration": 52,
    "start_time": "2022-04-16T07:24:59.320Z"
   },
   {
    "duration": 127,
    "start_time": "2022-04-16T07:24:59.374Z"
   },
   {
    "duration": 0,
    "start_time": "2022-04-16T07:24:59.503Z"
   },
   {
    "duration": 0,
    "start_time": "2022-04-16T07:24:59.504Z"
   },
   {
    "duration": 0,
    "start_time": "2022-04-16T07:24:59.506Z"
   },
   {
    "duration": 0,
    "start_time": "2022-04-16T07:24:59.508Z"
   },
   {
    "duration": 0,
    "start_time": "2022-04-16T07:24:59.509Z"
   },
   {
    "duration": 3,
    "start_time": "2022-04-16T07:25:15.705Z"
   },
   {
    "duration": 4,
    "start_time": "2022-04-16T07:25:17.063Z"
   },
   {
    "duration": 3,
    "start_time": "2022-04-16T07:25:19.935Z"
   },
   {
    "duration": 4,
    "start_time": "2022-04-16T07:25:21.031Z"
   },
   {
    "duration": 3,
    "start_time": "2022-04-16T07:25:38.510Z"
   },
   {
    "duration": 13,
    "start_time": "2022-04-16T07:25:39.432Z"
   },
   {
    "duration": 3,
    "start_time": "2022-04-16T07:25:43.930Z"
   },
   {
    "duration": 4,
    "start_time": "2022-04-16T07:25:44.562Z"
   },
   {
    "duration": 1600,
    "start_time": "2022-04-16T07:25:53.075Z"
   },
   {
    "duration": 1024,
    "start_time": "2022-04-16T07:25:54.677Z"
   },
   {
    "duration": 32,
    "start_time": "2022-04-16T07:25:55.702Z"
   },
   {
    "duration": 5,
    "start_time": "2022-04-16T07:25:55.735Z"
   },
   {
    "duration": 64,
    "start_time": "2022-04-16T07:25:55.742Z"
   },
   {
    "duration": 5,
    "start_time": "2022-04-16T07:25:55.808Z"
   },
   {
    "duration": 300,
    "start_time": "2022-04-16T07:25:55.815Z"
   },
   {
    "duration": 3,
    "start_time": "2022-04-16T07:25:56.117Z"
   },
   {
    "duration": 1779,
    "start_time": "2022-04-16T07:25:56.121Z"
   },
   {
    "duration": 3,
    "start_time": "2022-04-16T07:25:57.902Z"
   },
   {
    "duration": 7,
    "start_time": "2022-04-16T07:25:57.906Z"
   },
   {
    "duration": 5276,
    "start_time": "2022-04-16T07:25:57.915Z"
   },
   {
    "duration": 12,
    "start_time": "2022-04-16T07:26:03.193Z"
   },
   {
    "duration": 53,
    "start_time": "2022-04-16T07:26:03.207Z"
   },
   {
    "duration": 133,
    "start_time": "2022-04-16T07:26:03.262Z"
   },
   {
    "duration": 1,
    "start_time": "2022-04-16T07:26:03.400Z"
   },
   {
    "duration": 0,
    "start_time": "2022-04-16T07:26:03.402Z"
   },
   {
    "duration": 0,
    "start_time": "2022-04-16T07:26:03.403Z"
   },
   {
    "duration": 0,
    "start_time": "2022-04-16T07:26:03.404Z"
   },
   {
    "duration": 0,
    "start_time": "2022-04-16T07:26:03.405Z"
   },
   {
    "duration": 4,
    "start_time": "2022-04-16T07:28:09.921Z"
   },
   {
    "duration": 3,
    "start_time": "2022-04-16T07:31:50.743Z"
   },
   {
    "duration": 4,
    "start_time": "2022-04-16T07:31:55.907Z"
   },
   {
    "duration": 9,
    "start_time": "2022-04-16T07:32:22.426Z"
   },
   {
    "duration": 9,
    "start_time": "2022-04-16T07:32:29.012Z"
   },
   {
    "duration": 3,
    "start_time": "2022-04-16T07:32:35.677Z"
   },
   {
    "duration": 3,
    "start_time": "2022-04-16T07:32:37.790Z"
   },
   {
    "duration": 3,
    "start_time": "2022-04-16T07:32:44.671Z"
   },
   {
    "duration": 3,
    "start_time": "2022-04-16T07:32:53.928Z"
   },
   {
    "duration": 3,
    "start_time": "2022-04-16T07:33:10.732Z"
   },
   {
    "duration": 4,
    "start_time": "2022-04-16T07:33:18.587Z"
   },
   {
    "duration": 4,
    "start_time": "2022-04-16T07:33:21.490Z"
   },
   {
    "duration": 3,
    "start_time": "2022-04-16T07:33:24.564Z"
   },
   {
    "duration": 4,
    "start_time": "2022-04-16T07:37:40.418Z"
   },
   {
    "duration": 4,
    "start_time": "2022-04-16T07:37:51.132Z"
   },
   {
    "duration": 11,
    "start_time": "2022-04-16T07:39:33.200Z"
   },
   {
    "duration": 5,
    "start_time": "2022-04-16T07:39:39.023Z"
   },
   {
    "duration": 201,
    "start_time": "2022-04-16T07:41:01.471Z"
   },
   {
    "duration": 4,
    "start_time": "2022-04-16T07:41:29.273Z"
   },
   {
    "duration": 6,
    "start_time": "2022-04-16T07:41:43.578Z"
   },
   {
    "duration": 144,
    "start_time": "2022-04-16T07:42:23.582Z"
   },
   {
    "duration": 4,
    "start_time": "2022-04-16T07:42:30.600Z"
   },
   {
    "duration": 3,
    "start_time": "2022-04-16T07:42:58.506Z"
   },
   {
    "duration": 4,
    "start_time": "2022-04-16T07:43:03.203Z"
   },
   {
    "duration": 5,
    "start_time": "2022-04-16T07:43:05.440Z"
   },
   {
    "duration": 4,
    "start_time": "2022-04-16T07:43:11.020Z"
   },
   {
    "duration": 4,
    "start_time": "2022-04-16T07:43:34.983Z"
   },
   {
    "duration": 5,
    "start_time": "2022-04-16T07:43:43.869Z"
   },
   {
    "duration": 4,
    "start_time": "2022-04-16T07:43:48.864Z"
   },
   {
    "duration": 4,
    "start_time": "2022-04-16T07:44:41.304Z"
   },
   {
    "duration": 4,
    "start_time": "2022-04-16T07:44:44.248Z"
   },
   {
    "duration": 4,
    "start_time": "2022-04-16T07:45:48.220Z"
   },
   {
    "duration": 2326,
    "start_time": "2022-04-16T07:46:52.394Z"
   },
   {
    "duration": 1262,
    "start_time": "2022-04-16T07:46:54.724Z"
   },
   {
    "duration": 46,
    "start_time": "2022-04-16T07:46:55.988Z"
   },
   {
    "duration": 8,
    "start_time": "2022-04-16T07:46:56.036Z"
   },
   {
    "duration": 11,
    "start_time": "2022-04-16T07:46:56.047Z"
   },
   {
    "duration": 5,
    "start_time": "2022-04-16T07:46:56.060Z"
   },
   {
    "duration": 285,
    "start_time": "2022-04-16T07:46:56.067Z"
   },
   {
    "duration": 4,
    "start_time": "2022-04-16T07:46:56.354Z"
   },
   {
    "duration": 6,
    "start_time": "2022-04-16T07:46:56.360Z"
   },
   {
    "duration": 2058,
    "start_time": "2022-04-16T07:46:56.368Z"
   },
   {
    "duration": 7,
    "start_time": "2022-04-16T07:46:58.428Z"
   },
   {
    "duration": 9,
    "start_time": "2022-04-16T07:46:58.436Z"
   },
   {
    "duration": 9,
    "start_time": "2022-04-16T07:46:58.447Z"
   },
   {
    "duration": 11,
    "start_time": "2022-04-16T07:46:58.459Z"
   },
   {
    "duration": 213630,
    "start_time": "2022-04-16T07:46:58.472Z"
   },
   {
    "duration": 10,
    "start_time": "2022-04-16T07:50:32.105Z"
   },
   {
    "duration": 70,
    "start_time": "2022-04-16T07:50:32.117Z"
   },
   {
    "duration": 156,
    "start_time": "2022-04-16T07:50:32.189Z"
   },
   {
    "duration": 0,
    "start_time": "2022-04-16T07:50:32.346Z"
   },
   {
    "duration": 0,
    "start_time": "2022-04-16T07:50:32.348Z"
   },
   {
    "duration": 0,
    "start_time": "2022-04-16T07:50:32.350Z"
   },
   {
    "duration": 0,
    "start_time": "2022-04-16T07:50:32.351Z"
   },
   {
    "duration": 0,
    "start_time": "2022-04-16T07:50:32.352Z"
   },
   {
    "duration": 0,
    "start_time": "2022-04-16T07:50:32.353Z"
   },
   {
    "duration": 5,
    "start_time": "2022-04-16T07:52:26.039Z"
   },
   {
    "duration": 6,
    "start_time": "2022-04-16T07:52:28.204Z"
   },
   {
    "duration": 5,
    "start_time": "2022-04-16T07:55:18.663Z"
   },
   {
    "duration": 52,
    "start_time": "2022-04-16T07:58:29.383Z"
   },
   {
    "duration": 10,
    "start_time": "2022-04-16T08:01:19.847Z"
   },
   {
    "duration": 4,
    "start_time": "2022-04-16T08:02:02.902Z"
   },
   {
    "duration": 53,
    "start_time": "2022-04-16T08:02:04.639Z"
   },
   {
    "duration": 34,
    "start_time": "2022-04-16T08:03:03.457Z"
   },
   {
    "duration": 3,
    "start_time": "2022-04-16T08:04:03.724Z"
   },
   {
    "duration": 8,
    "start_time": "2022-04-16T08:04:07.344Z"
   },
   {
    "duration": 4,
    "start_time": "2022-04-16T08:04:13.361Z"
   },
   {
    "duration": 4,
    "start_time": "2022-04-16T08:04:16.422Z"
   },
   {
    "duration": 9,
    "start_time": "2022-04-16T08:05:37.520Z"
   },
   {
    "duration": 4,
    "start_time": "2022-04-16T08:05:42.057Z"
   },
   {
    "duration": 4,
    "start_time": "2022-04-16T08:06:11.411Z"
   },
   {
    "duration": 4,
    "start_time": "2022-04-16T08:06:40.304Z"
   },
   {
    "duration": 9,
    "start_time": "2022-04-16T08:06:46.131Z"
   },
   {
    "duration": 4,
    "start_time": "2022-04-16T08:06:57.282Z"
   },
   {
    "duration": 6,
    "start_time": "2022-04-16T08:09:06.781Z"
   },
   {
    "duration": 164,
    "start_time": "2022-04-16T08:09:21.713Z"
   },
   {
    "duration": 6,
    "start_time": "2022-04-16T08:09:25.425Z"
   },
   {
    "duration": 9,
    "start_time": "2022-04-16T08:18:12.086Z"
   },
   {
    "duration": 3,
    "start_time": "2022-04-16T08:19:05.863Z"
   },
   {
    "duration": 9,
    "start_time": "2022-04-16T08:19:08.295Z"
   },
   {
    "duration": 3,
    "start_time": "2022-04-16T08:19:30.338Z"
   },
   {
    "duration": 5,
    "start_time": "2022-04-16T08:20:12.439Z"
   },
   {
    "duration": 3,
    "start_time": "2022-04-16T08:51:25.867Z"
   },
   {
    "duration": 3,
    "start_time": "2022-04-16T08:54:22.472Z"
   },
   {
    "duration": 9,
    "start_time": "2022-04-16T08:58:12.450Z"
   },
   {
    "duration": 9,
    "start_time": "2022-04-16T08:58:18.759Z"
   },
   {
    "duration": 8,
    "start_time": "2022-04-16T08:58:27.793Z"
   },
   {
    "duration": 1076,
    "start_time": "2022-04-16T08:58:31.547Z"
   },
   {
    "duration": 5144,
    "start_time": "2022-04-16T08:58:49.129Z"
   },
   {
    "duration": 172,
    "start_time": "2022-04-16T09:03:22.722Z"
   },
   {
    "duration": 149,
    "start_time": "2022-04-16T09:05:11.229Z"
   },
   {
    "duration": 3910,
    "start_time": "2022-04-16T09:05:25.692Z"
   },
   {
    "duration": 5019,
    "start_time": "2022-04-16T09:05:46.111Z"
   },
   {
    "duration": 1723,
    "start_time": "2022-04-16T19:05:51.678Z"
   },
   {
    "duration": 1261,
    "start_time": "2022-04-16T19:05:53.403Z"
   },
   {
    "duration": 74,
    "start_time": "2022-04-16T19:05:54.666Z"
   },
   {
    "duration": 5,
    "start_time": "2022-04-16T19:05:54.742Z"
   },
   {
    "duration": 8,
    "start_time": "2022-04-16T19:05:54.749Z"
   },
   {
    "duration": 5,
    "start_time": "2022-04-16T19:05:54.758Z"
   },
   {
    "duration": 293,
    "start_time": "2022-04-16T19:05:54.764Z"
   },
   {
    "duration": 3,
    "start_time": "2022-04-16T19:05:55.059Z"
   },
   {
    "duration": 6,
    "start_time": "2022-04-16T19:05:55.063Z"
   },
   {
    "duration": 1568,
    "start_time": "2022-04-16T19:05:55.071Z"
   },
   {
    "duration": 6,
    "start_time": "2022-04-16T19:05:56.640Z"
   },
   {
    "duration": 7,
    "start_time": "2022-04-16T19:05:56.648Z"
   },
   {
    "duration": 8,
    "start_time": "2022-04-16T19:05:56.657Z"
   },
   {
    "duration": 123976,
    "start_time": "2022-04-16T19:05:56.669Z"
   },
   {
    "duration": 8,
    "start_time": "2022-04-16T19:08:00.646Z"
   },
   {
    "duration": 54,
    "start_time": "2022-04-16T19:08:00.655Z"
   },
   {
    "duration": 65,
    "start_time": "2022-04-16T19:08:00.711Z"
   },
   {
    "duration": 46,
    "start_time": "2022-04-16T19:08:00.778Z"
   },
   {
    "duration": 4,
    "start_time": "2022-04-16T19:08:00.826Z"
   },
   {
    "duration": 21,
    "start_time": "2022-04-16T19:08:00.831Z"
   },
   {
    "duration": 21,
    "start_time": "2022-04-16T19:08:00.853Z"
   },
   {
    "duration": 24,
    "start_time": "2022-04-16T19:08:00.875Z"
   },
   {
    "duration": 10,
    "start_time": "2022-04-16T19:08:00.900Z"
   },
   {
    "duration": 12,
    "start_time": "2022-04-16T19:08:00.911Z"
   },
   {
    "duration": 15,
    "start_time": "2022-04-16T19:08:00.925Z"
   },
   {
    "duration": 1035,
    "start_time": "2022-04-16T19:08:00.942Z"
   },
   {
    "duration": 4787,
    "start_time": "2022-04-16T19:08:01.979Z"
   },
   {
    "duration": 3779,
    "start_time": "2022-04-16T19:08:06.768Z"
   },
   {
    "duration": 116,
    "start_time": "2022-04-16T19:08:10.549Z"
   },
   {
    "duration": 0,
    "start_time": "2022-04-16T19:08:10.667Z"
   },
   {
    "duration": 0,
    "start_time": "2022-04-16T19:08:10.668Z"
   },
   {
    "duration": 0,
    "start_time": "2022-04-16T19:08:10.669Z"
   },
   {
    "duration": 0,
    "start_time": "2022-04-16T19:08:10.670Z"
   },
   {
    "duration": 5,
    "start_time": "2022-04-16T19:14:41.811Z"
   },
   {
    "duration": 5,
    "start_time": "2022-04-16T19:17:30.793Z"
   },
   {
    "duration": 4,
    "start_time": "2022-04-16T19:17:37.198Z"
   },
   {
    "duration": 5,
    "start_time": "2022-04-16T19:17:48.957Z"
   },
   {
    "duration": 1506,
    "start_time": "2022-04-16T19:23:28.834Z"
   },
   {
    "duration": 706,
    "start_time": "2022-04-16T19:23:30.341Z"
   },
   {
    "duration": 28,
    "start_time": "2022-04-16T19:23:31.048Z"
   },
   {
    "duration": 6,
    "start_time": "2022-04-16T19:23:31.077Z"
   },
   {
    "duration": 8,
    "start_time": "2022-04-16T19:23:31.085Z"
   },
   {
    "duration": 5,
    "start_time": "2022-04-16T19:23:31.095Z"
   },
   {
    "duration": 144,
    "start_time": "2022-04-16T19:23:31.124Z"
   },
   {
    "duration": 3,
    "start_time": "2022-04-16T19:23:31.270Z"
   },
   {
    "duration": 12,
    "start_time": "2022-04-16T19:23:31.275Z"
   },
   {
    "duration": 1438,
    "start_time": "2022-04-16T19:23:31.288Z"
   },
   {
    "duration": 5,
    "start_time": "2022-04-16T19:23:32.728Z"
   },
   {
    "duration": 6,
    "start_time": "2022-04-16T19:23:32.734Z"
   },
   {
    "duration": 11,
    "start_time": "2022-04-16T19:23:32.742Z"
   },
   {
    "duration": 112852,
    "start_time": "2022-04-16T19:23:32.756Z"
   },
   {
    "duration": 14,
    "start_time": "2022-04-16T19:25:25.610Z"
   },
   {
    "duration": 47,
    "start_time": "2022-04-16T19:25:25.625Z"
   },
   {
    "duration": 65,
    "start_time": "2022-04-16T19:25:25.674Z"
   },
   {
    "duration": 31,
    "start_time": "2022-04-16T19:25:25.741Z"
   },
   {
    "duration": 4,
    "start_time": "2022-04-16T19:25:25.773Z"
   },
   {
    "duration": 5,
    "start_time": "2022-04-16T19:25:25.778Z"
   },
   {
    "duration": 5,
    "start_time": "2022-04-16T19:25:25.784Z"
   },
   {
    "duration": 6,
    "start_time": "2022-04-16T19:25:25.790Z"
   },
   {
    "duration": 27,
    "start_time": "2022-04-16T19:25:25.798Z"
   },
   {
    "duration": 6,
    "start_time": "2022-04-16T19:25:25.827Z"
   },
   {
    "duration": 3,
    "start_time": "2022-04-16T19:25:25.834Z"
   },
   {
    "duration": 1032,
    "start_time": "2022-04-16T19:25:25.839Z"
   },
   {
    "duration": 4691,
    "start_time": "2022-04-16T19:25:26.873Z"
   },
   {
    "duration": 3674,
    "start_time": "2022-04-16T19:25:31.566Z"
   },
   {
    "duration": 116,
    "start_time": "2022-04-16T19:25:35.241Z"
   },
   {
    "duration": 0,
    "start_time": "2022-04-16T19:25:35.359Z"
   },
   {
    "duration": 0,
    "start_time": "2022-04-16T19:25:35.360Z"
   },
   {
    "duration": 0,
    "start_time": "2022-04-16T19:25:35.361Z"
   },
   {
    "duration": 0,
    "start_time": "2022-04-16T19:25:35.362Z"
   },
   {
    "duration": 10,
    "start_time": "2022-04-16T19:29:30.258Z"
   },
   {
    "duration": 10,
    "start_time": "2022-04-16T19:30:24.478Z"
   },
   {
    "duration": 5,
    "start_time": "2022-04-16T19:31:31.158Z"
   },
   {
    "duration": 7,
    "start_time": "2022-04-16T19:32:04.085Z"
   },
   {
    "duration": 3,
    "start_time": "2022-04-16T19:34:38.132Z"
   },
   {
    "duration": 12,
    "start_time": "2022-04-16T19:35:12.237Z"
   },
   {
    "duration": 3,
    "start_time": "2022-04-16T19:36:26.007Z"
   },
   {
    "duration": 6,
    "start_time": "2022-04-16T19:36:28.627Z"
   },
   {
    "duration": 4,
    "start_time": "2022-04-16T19:38:21.243Z"
   },
   {
    "duration": 10,
    "start_time": "2022-04-16T19:38:30.827Z"
   },
   {
    "duration": 21,
    "start_time": "2022-04-16T19:38:54.727Z"
   },
   {
    "duration": 31,
    "start_time": "2022-04-16T19:39:19.376Z"
   },
   {
    "duration": 32,
    "start_time": "2022-04-16T19:39:28.738Z"
   },
   {
    "duration": 3,
    "start_time": "2022-04-16T20:06:09.896Z"
   },
   {
    "duration": 34,
    "start_time": "2022-04-16T20:06:29.746Z"
   },
   {
    "duration": 30,
    "start_time": "2022-04-16T20:06:57.243Z"
   },
   {
    "duration": 30,
    "start_time": "2022-04-16T20:07:09.077Z"
   },
   {
    "duration": 10,
    "start_time": "2022-04-16T20:07:14.835Z"
   },
   {
    "duration": 32,
    "start_time": "2022-04-16T20:07:32.722Z"
   },
   {
    "duration": 30,
    "start_time": "2022-04-16T20:08:15.701Z"
   },
   {
    "duration": 8,
    "start_time": "2022-04-16T20:13:10.107Z"
   },
   {
    "duration": 4,
    "start_time": "2022-04-16T20:13:14.200Z"
   },
   {
    "duration": 82,
    "start_time": "2022-04-16T20:13:23.707Z"
   },
   {
    "duration": 2,
    "start_time": "2022-04-16T20:16:20.974Z"
   },
   {
    "duration": 37711,
    "start_time": "2022-04-16T20:17:06.425Z"
   },
   {
    "duration": 35,
    "start_time": "2022-04-16T20:19:12.195Z"
   },
   {
    "duration": 82,
    "start_time": "2022-04-16T20:21:17.366Z"
   },
   {
    "duration": 12,
    "start_time": "2022-04-16T20:21:40.407Z"
   },
   {
    "duration": 4,
    "start_time": "2022-04-16T20:21:50.226Z"
   },
   {
    "duration": 5,
    "start_time": "2022-04-16T20:22:14.530Z"
   },
   {
    "duration": 5,
    "start_time": "2022-04-16T20:22:26.529Z"
   },
   {
    "duration": 5,
    "start_time": "2022-04-16T20:31:04.835Z"
   },
   {
    "duration": 12,
    "start_time": "2022-04-16T20:31:15.989Z"
   },
   {
    "duration": 5,
    "start_time": "2022-04-16T20:31:16.956Z"
   },
   {
    "duration": 13,
    "start_time": "2022-04-16T20:31:35.488Z"
   },
   {
    "duration": 4,
    "start_time": "2022-04-16T20:31:49.881Z"
   },
   {
    "duration": 4,
    "start_time": "2022-04-16T20:31:56.058Z"
   },
   {
    "duration": 4,
    "start_time": "2022-04-16T20:32:05.863Z"
   },
   {
    "duration": 34,
    "start_time": "2022-04-16T20:33:30.151Z"
   },
   {
    "duration": 33,
    "start_time": "2022-04-16T20:33:34.025Z"
   },
   {
    "duration": 36862,
    "start_time": "2022-04-16T20:34:18.378Z"
   },
   {
    "duration": 4,
    "start_time": "2022-04-16T20:39:35.747Z"
   },
   {
    "duration": 4,
    "start_time": "2022-04-16T20:39:40.063Z"
   },
   {
    "duration": 9,
    "start_time": "2022-04-16T20:41:25.365Z"
   },
   {
    "duration": 20,
    "start_time": "2022-04-16T20:41:47.195Z"
   },
   {
    "duration": 2,
    "start_time": "2022-04-16T20:42:01.979Z"
   },
   {
    "duration": 227245,
    "start_time": "2022-04-16T20:42:38.847Z"
   },
   {
    "duration": 99,
    "start_time": "2022-04-16T20:46:32.093Z"
   },
   {
    "duration": 92,
    "start_time": "2022-04-16T20:46:59.777Z"
   },
   {
    "duration": 121,
    "start_time": "2022-04-16T20:48:23.210Z"
   },
   {
    "duration": 12,
    "start_time": "2022-04-16T21:00:42.668Z"
   },
   {
    "duration": 10,
    "start_time": "2022-04-16T21:01:08.290Z"
   },
   {
    "duration": 12,
    "start_time": "2022-04-16T21:01:14.585Z"
   },
   {
    "duration": 3,
    "start_time": "2022-04-16T21:01:16.738Z"
   },
   {
    "duration": 291605,
    "start_time": "2022-04-16T21:02:25.156Z"
   },
   {
    "duration": 4,
    "start_time": "2022-04-16T21:07:57.618Z"
   },
   {
    "duration": 16,
    "start_time": "2022-04-16T21:09:30.840Z"
   },
   {
    "duration": 14,
    "start_time": "2022-04-16T21:10:18.576Z"
   },
   {
    "duration": 91,
    "start_time": "2022-04-16T21:11:31.437Z"
   },
   {
    "duration": 3,
    "start_time": "2022-04-16T21:11:34.378Z"
   },
   {
    "duration": 8816,
    "start_time": "2022-04-16T21:11:45.253Z"
   },
   {
    "duration": 43,
    "start_time": "2022-04-16T21:15:33.483Z"
   },
   {
    "duration": 5,
    "start_time": "2022-04-16T21:16:01.797Z"
   },
   {
    "duration": 202,
    "start_time": "2022-04-16T21:16:41.235Z"
   },
   {
    "duration": 2,
    "start_time": "2022-04-16T21:24:18.635Z"
   },
   {
    "duration": 11922,
    "start_time": "2022-04-16T21:25:07.113Z"
   },
   {
    "duration": 43,
    "start_time": "2022-04-16T21:26:12.739Z"
   },
   {
    "duration": 3,
    "start_time": "2022-04-16T21:27:50.912Z"
   },
   {
    "duration": 73392,
    "start_time": "2022-04-16T21:28:28.714Z"
   },
   {
    "duration": 87,
    "start_time": "2022-04-16T21:29:50.217Z"
   },
   {
    "duration": 97,
    "start_time": "2022-04-16T21:30:27.375Z"
   },
   {
    "duration": 3,
    "start_time": "2022-04-16T21:32:55.084Z"
   },
   {
    "duration": 1518,
    "start_time": "2022-04-16T21:37:27.273Z"
   },
   {
    "duration": 634,
    "start_time": "2022-04-16T21:37:28.792Z"
   },
   {
    "duration": 25,
    "start_time": "2022-04-16T21:37:29.428Z"
   },
   {
    "duration": 5,
    "start_time": "2022-04-16T21:37:29.455Z"
   },
   {
    "duration": 8,
    "start_time": "2022-04-16T21:37:29.461Z"
   },
   {
    "duration": 5,
    "start_time": "2022-04-16T21:37:29.470Z"
   },
   {
    "duration": 226,
    "start_time": "2022-04-16T21:37:29.476Z"
   },
   {
    "duration": 4,
    "start_time": "2022-04-16T21:37:29.704Z"
   },
   {
    "duration": 15,
    "start_time": "2022-04-16T21:37:29.710Z"
   },
   {
    "duration": 1189,
    "start_time": "2022-04-16T21:37:29.729Z"
   },
   {
    "duration": 5,
    "start_time": "2022-04-16T21:37:30.920Z"
   },
   {
    "duration": 14,
    "start_time": "2022-04-16T21:37:30.926Z"
   },
   {
    "duration": 22,
    "start_time": "2022-04-16T21:37:30.941Z"
   },
   {
    "duration": 117779,
    "start_time": "2022-04-16T21:37:30.965Z"
   },
   {
    "duration": 7,
    "start_time": "2022-04-16T21:39:28.747Z"
   },
   {
    "duration": 69,
    "start_time": "2022-04-16T21:39:28.756Z"
   },
   {
    "duration": 56,
    "start_time": "2022-04-16T21:39:28.827Z"
   },
   {
    "duration": 46,
    "start_time": "2022-04-16T21:39:28.884Z"
   },
   {
    "duration": 4,
    "start_time": "2022-04-16T21:39:28.932Z"
   },
   {
    "duration": 7,
    "start_time": "2022-04-16T21:39:28.937Z"
   },
   {
    "duration": 5,
    "start_time": "2022-04-16T21:39:28.946Z"
   },
   {
    "duration": 6,
    "start_time": "2022-04-16T21:39:28.953Z"
   },
   {
    "duration": 4,
    "start_time": "2022-04-16T21:39:28.961Z"
   },
   {
    "duration": 5,
    "start_time": "2022-04-16T21:39:28.966Z"
   },
   {
    "duration": 6,
    "start_time": "2022-04-16T21:39:28.972Z"
   },
   {
    "duration": 1084,
    "start_time": "2022-04-16T21:39:28.979Z"
   },
   {
    "duration": 4697,
    "start_time": "2022-04-16T21:39:30.064Z"
   },
   {
    "duration": 3639,
    "start_time": "2022-04-16T21:39:34.764Z"
   },
   {
    "duration": 5,
    "start_time": "2022-04-16T21:39:38.405Z"
   },
   {
    "duration": 13,
    "start_time": "2022-04-16T21:39:38.411Z"
   },
   {
    "duration": 7,
    "start_time": "2022-04-16T21:39:38.425Z"
   },
   {
    "duration": 19,
    "start_time": "2022-04-16T21:39:38.434Z"
   },
   {
    "duration": 31,
    "start_time": "2022-04-16T21:39:38.454Z"
   },
   {
    "duration": 3,
    "start_time": "2022-04-16T21:39:38.486Z"
   },
   {
    "duration": 35835,
    "start_time": "2022-04-16T21:39:38.491Z"
   },
   {
    "duration": 4,
    "start_time": "2022-04-16T21:40:14.328Z"
   },
   {
    "duration": 136,
    "start_time": "2022-04-16T21:40:14.333Z"
   },
   {
    "duration": 5,
    "start_time": "2022-04-16T21:40:14.471Z"
   },
   {
    "duration": 4,
    "start_time": "2022-04-16T21:40:14.478Z"
   },
   {
    "duration": 232773,
    "start_time": "2022-04-16T21:40:14.483Z"
   },
   {
    "duration": 250,
    "start_time": "2022-04-16T21:44:07.258Z"
   },
   {
    "duration": 3,
    "start_time": "2022-04-16T21:44:07.509Z"
   },
   {
    "duration": 288047,
    "start_time": "2022-04-16T21:44:07.523Z"
   },
   {
    "duration": 8885,
    "start_time": "2022-04-16T21:48:55.571Z"
   },
   {
    "duration": 3,
    "start_time": "2022-04-16T21:49:04.458Z"
   },
   {
    "duration": 10769,
    "start_time": "2022-04-16T21:49:04.462Z"
   },
   {
    "duration": 43,
    "start_time": "2022-04-16T21:49:15.232Z"
   },
   {
    "duration": 2,
    "start_time": "2022-04-16T21:49:15.277Z"
   },
   {
    "duration": 73324,
    "start_time": "2022-04-16T21:49:15.280Z"
   },
   {
    "duration": 131,
    "start_time": "2022-04-16T21:50:28.606Z"
   },
   {
    "duration": 3,
    "start_time": "2022-04-16T21:50:28.739Z"
   },
   {
    "duration": 7,
    "start_time": "2022-04-16T22:00:54.054Z"
   },
   {
    "duration": 1844,
    "start_time": "2022-04-16T22:01:09.379Z"
   },
   {
    "duration": 1335,
    "start_time": "2022-04-16T22:01:11.226Z"
   },
   {
    "duration": 24,
    "start_time": "2022-04-16T22:01:12.563Z"
   },
   {
    "duration": 5,
    "start_time": "2022-04-16T22:01:12.589Z"
   },
   {
    "duration": 7,
    "start_time": "2022-04-16T22:01:12.596Z"
   },
   {
    "duration": 22,
    "start_time": "2022-04-16T22:01:12.604Z"
   },
   {
    "duration": 221,
    "start_time": "2022-04-16T22:01:12.628Z"
   },
   {
    "duration": 3,
    "start_time": "2022-04-16T22:01:12.851Z"
   },
   {
    "duration": 7,
    "start_time": "2022-04-16T22:01:12.855Z"
   },
   {
    "duration": 1207,
    "start_time": "2022-04-16T22:01:12.864Z"
   },
   {
    "duration": 4,
    "start_time": "2022-04-16T22:01:14.073Z"
   },
   {
    "duration": 10,
    "start_time": "2022-04-16T22:01:14.079Z"
   },
   {
    "duration": 18,
    "start_time": "2022-04-16T22:01:14.090Z"
   },
   {
    "duration": 124666,
    "start_time": "2022-04-16T22:01:14.110Z"
   },
   {
    "duration": 7,
    "start_time": "2022-04-16T22:03:18.778Z"
   },
   {
    "duration": 67,
    "start_time": "2022-04-16T22:03:18.786Z"
   },
   {
    "duration": 52,
    "start_time": "2022-04-16T22:03:18.855Z"
   },
   {
    "duration": 48,
    "start_time": "2022-04-16T22:03:18.909Z"
   },
   {
    "duration": 3,
    "start_time": "2022-04-16T22:03:18.959Z"
   },
   {
    "duration": 6,
    "start_time": "2022-04-16T22:03:18.964Z"
   },
   {
    "duration": 4,
    "start_time": "2022-04-16T22:03:18.971Z"
   },
   {
    "duration": 7,
    "start_time": "2022-04-16T22:03:18.977Z"
   },
   {
    "duration": 4,
    "start_time": "2022-04-16T22:03:18.985Z"
   },
   {
    "duration": 35,
    "start_time": "2022-04-16T22:03:18.990Z"
   },
   {
    "duration": 3,
    "start_time": "2022-04-16T22:03:19.027Z"
   },
   {
    "duration": 1109,
    "start_time": "2022-04-16T22:03:19.032Z"
   },
   {
    "duration": 4964,
    "start_time": "2022-04-16T22:03:20.143Z"
   },
   {
    "duration": 4002,
    "start_time": "2022-04-16T22:03:25.110Z"
   },
   {
    "duration": 13,
    "start_time": "2022-04-16T22:03:29.114Z"
   },
   {
    "duration": 3,
    "start_time": "2022-04-16T22:03:29.129Z"
   },
   {
    "duration": 7,
    "start_time": "2022-04-16T22:03:29.133Z"
   },
   {
    "duration": 17,
    "start_time": "2022-04-16T22:03:29.142Z"
   },
   {
    "duration": 29,
    "start_time": "2022-04-16T22:03:29.160Z"
   },
   {
    "duration": 2,
    "start_time": "2022-04-16T22:03:29.191Z"
   },
   {
    "duration": 39828,
    "start_time": "2022-04-16T22:03:29.223Z"
   },
   {
    "duration": 13,
    "start_time": "2022-04-16T22:04:09.129Z"
   },
   {
    "duration": 117,
    "start_time": "2022-04-16T22:04:09.144Z"
   },
   {
    "duration": 4,
    "start_time": "2022-04-16T22:04:09.263Z"
   },
   {
    "duration": 4,
    "start_time": "2022-04-16T22:04:09.268Z"
   },
   {
    "duration": 228881,
    "start_time": "2022-04-16T22:04:09.273Z"
   },
   {
    "duration": 222,
    "start_time": "2022-04-16T22:07:58.156Z"
   },
   {
    "duration": 3,
    "start_time": "2022-04-16T22:07:58.380Z"
   },
   {
    "duration": 286443,
    "start_time": "2022-04-16T22:07:58.385Z"
   },
   {
    "duration": 8854,
    "start_time": "2022-04-16T22:12:44.830Z"
   },
   {
    "duration": 4,
    "start_time": "2022-04-16T22:12:53.685Z"
   },
   {
    "duration": 132,
    "start_time": "2022-04-16T22:12:53.691Z"
   },
   {
    "duration": 0,
    "start_time": "2022-04-16T22:12:53.825Z"
   },
   {
    "duration": 0,
    "start_time": "2022-04-16T22:12:53.826Z"
   },
   {
    "duration": 0,
    "start_time": "2022-04-16T22:12:53.827Z"
   },
   {
    "duration": 0,
    "start_time": "2022-04-16T22:12:53.828Z"
   },
   {
    "duration": 0,
    "start_time": "2022-04-16T22:12:53.829Z"
   },
   {
    "duration": 0,
    "start_time": "2022-04-16T22:12:53.830Z"
   },
   {
    "duration": 0,
    "start_time": "2022-04-16T22:12:53.831Z"
   },
   {
    "duration": 3,
    "start_time": "2022-04-16T22:13:43.840Z"
   },
   {
    "duration": 20,
    "start_time": "2022-04-16T22:13:45.800Z"
   },
   {
    "duration": 3,
    "start_time": "2022-04-16T22:13:50.554Z"
   },
   {
    "duration": 12,
    "start_time": "2022-04-16T22:13:52.299Z"
   },
   {
    "duration": 2,
    "start_time": "2022-04-16T22:14:23.795Z"
   },
   {
    "duration": 12,
    "start_time": "2022-04-16T22:14:26.348Z"
   },
   {
    "duration": 3,
    "start_time": "2022-04-16T22:15:19.635Z"
   },
   {
    "duration": 12,
    "start_time": "2022-04-16T22:15:27.099Z"
   },
   {
    "duration": 3,
    "start_time": "2022-04-16T22:15:33.508Z"
   },
   {
    "duration": 4,
    "start_time": "2022-04-16T22:15:36.443Z"
   },
   {
    "duration": 4,
    "start_time": "2022-04-16T22:15:54.455Z"
   },
   {
    "duration": 107,
    "start_time": "2022-04-16T22:19:25.603Z"
   },
   {
    "duration": 3,
    "start_time": "2022-04-16T22:36:29.386Z"
   },
   {
    "duration": 34135,
    "start_time": "2022-04-16T22:36:50.022Z"
   },
   {
    "duration": 18,
    "start_time": "2022-04-16T22:46:03.005Z"
   },
   {
    "duration": 7,
    "start_time": "2022-04-16T22:46:28.156Z"
   },
   {
    "duration": 3,
    "start_time": "2022-04-16T22:47:29.023Z"
   },
   {
    "duration": 33,
    "start_time": "2022-04-16T22:48:43.715Z"
   },
   {
    "duration": 10,
    "start_time": "2022-04-16T22:49:53.032Z"
   },
   {
    "duration": 3,
    "start_time": "2022-04-16T22:49:57.610Z"
   },
   {
    "duration": 3,
    "start_time": "2022-04-16T22:50:07.844Z"
   },
   {
    "duration": 11,
    "start_time": "2022-04-16T22:51:28.823Z"
   },
   {
    "duration": 4,
    "start_time": "2022-04-16T23:00:11.969Z"
   },
   {
    "duration": 4,
    "start_time": "2022-04-16T23:00:28.544Z"
   },
   {
    "duration": 6,
    "start_time": "2022-04-16T23:02:22.983Z"
   },
   {
    "duration": 47,
    "start_time": "2022-04-16T23:04:27.570Z"
   },
   {
    "duration": 3,
    "start_time": "2022-04-16T23:05:55.073Z"
   },
   {
    "duration": 123,
    "start_time": "2022-04-16T23:06:07.313Z"
   },
   {
    "duration": 6,
    "start_time": "2022-04-16T23:06:53.925Z"
   },
   {
    "duration": 43,
    "start_time": "2022-04-16T23:06:56.212Z"
   },
   {
    "duration": 173,
    "start_time": "2022-04-16T23:07:03.591Z"
   },
   {
    "duration": 4,
    "start_time": "2022-04-16T23:07:05.204Z"
   },
   {
    "duration": 121,
    "start_time": "2022-04-16T23:07:06.301Z"
   },
   {
    "duration": 3,
    "start_time": "2022-04-16T23:07:44.104Z"
   },
   {
    "duration": 38412,
    "start_time": "2022-04-16T23:07:46.414Z"
   },
   {
    "duration": 6,
    "start_time": "2022-04-16T23:08:43.168Z"
   },
   {
    "duration": 168,
    "start_time": "2022-04-16T23:08:45.308Z"
   },
   {
    "duration": 4,
    "start_time": "2022-04-16T23:08:48.981Z"
   },
   {
    "duration": 97,
    "start_time": "2022-04-16T23:09:00.782Z"
   },
   {
    "duration": 170,
    "start_time": "2022-04-16T23:09:33.872Z"
   },
   {
    "duration": 3,
    "start_time": "2022-04-16T23:09:35.189Z"
   },
   {
    "duration": 95,
    "start_time": "2022-04-16T23:09:36.273Z"
   },
   {
    "duration": 5,
    "start_time": "2022-04-16T23:09:52.461Z"
   },
   {
    "duration": 458,
    "start_time": "2022-04-16T23:10:06.904Z"
   },
   {
    "duration": 3,
    "start_time": "2022-04-16T23:10:08.607Z"
   },
   {
    "duration": 234,
    "start_time": "2022-04-16T23:10:09.271Z"
   },
   {
    "duration": 4,
    "start_time": "2022-04-16T23:10:13.726Z"
   },
   {
    "duration": 10,
    "start_time": "2022-04-16T23:10:51.346Z"
   },
   {
    "duration": 20,
    "start_time": "2022-04-16T23:15:37.679Z"
   },
   {
    "duration": 12,
    "start_time": "2022-04-16T23:15:53.044Z"
   },
   {
    "duration": 6,
    "start_time": "2022-04-16T23:16:50.293Z"
   },
   {
    "duration": 10,
    "start_time": "2022-04-16T23:18:20.188Z"
   },
   {
    "duration": 6,
    "start_time": "2022-04-16T23:18:24.262Z"
   },
   {
    "duration": 4,
    "start_time": "2022-04-16T23:18:26.620Z"
   },
   {
    "duration": 33,
    "start_time": "2022-04-16T23:18:27.851Z"
   },
   {
    "duration": 162,
    "start_time": "2022-04-16T23:26:43.713Z"
   },
   {
    "duration": 458,
    "start_time": "2022-04-16T23:27:20.387Z"
   },
   {
    "duration": 3,
    "start_time": "2022-04-16T23:27:21.165Z"
   },
   {
    "duration": 163,
    "start_time": "2022-04-16T23:27:22.717Z"
   },
   {
    "duration": 9,
    "start_time": "2022-04-16T23:27:39.841Z"
   },
   {
    "duration": 6,
    "start_time": "2022-04-16T23:27:48.844Z"
   },
   {
    "duration": 153,
    "start_time": "2022-04-16T23:28:22.291Z"
   },
   {
    "duration": 147,
    "start_time": "2022-04-16T23:28:36.320Z"
   },
   {
    "duration": 138,
    "start_time": "2022-04-16T23:28:39.882Z"
   },
   {
    "duration": 134,
    "start_time": "2022-04-16T23:28:50.098Z"
   },
   {
    "duration": 191,
    "start_time": "2022-04-16T23:30:09.405Z"
   },
   {
    "duration": 239,
    "start_time": "2022-04-16T23:30:21.692Z"
   },
   {
    "duration": 235,
    "start_time": "2022-04-16T23:30:25.980Z"
   },
   {
    "duration": 244,
    "start_time": "2022-04-16T23:30:30.614Z"
   },
   {
    "duration": 390,
    "start_time": "2022-04-16T23:30:36.822Z"
   },
   {
    "duration": 402,
    "start_time": "2022-04-16T23:30:44.089Z"
   },
   {
    "duration": 4,
    "start_time": "2022-04-16T23:31:42.599Z"
   },
   {
    "duration": 5,
    "start_time": "2022-04-16T23:31:59.303Z"
   },
   {
    "duration": 85,
    "start_time": "2022-04-16T23:34:32.231Z"
   },
   {
    "duration": 447,
    "start_time": "2022-04-16T23:36:00.992Z"
   },
   {
    "duration": 4,
    "start_time": "2022-04-16T23:36:22.212Z"
   },
   {
    "duration": 240,
    "start_time": "2022-04-16T23:37:00.673Z"
   },
   {
    "duration": 82,
    "start_time": "2022-04-16T23:38:08.651Z"
   },
   {
    "duration": 449,
    "start_time": "2022-04-16T23:38:18.785Z"
   },
   {
    "duration": 454,
    "start_time": "2022-04-16T23:38:44.874Z"
   },
   {
    "duration": 3,
    "start_time": "2022-04-16T23:38:47.388Z"
   },
   {
    "duration": 249,
    "start_time": "2022-04-16T23:38:48.795Z"
   },
   {
    "duration": 85,
    "start_time": "2022-04-16T23:40:40.797Z"
   },
   {
    "duration": 84,
    "start_time": "2022-04-16T23:41:10.562Z"
   },
   {
    "duration": 443,
    "start_time": "2022-04-16T23:41:11.513Z"
   },
   {
    "duration": 3,
    "start_time": "2022-04-16T23:41:14.097Z"
   },
   {
    "duration": 238,
    "start_time": "2022-04-16T23:41:18.152Z"
   },
   {
    "duration": 32,
    "start_time": "2022-04-16T23:49:14.486Z"
   },
   {
    "duration": 7,
    "start_time": "2022-04-16T23:53:51.528Z"
   },
   {
    "duration": 465,
    "start_time": "2022-04-16T23:53:52.634Z"
   },
   {
    "duration": 4,
    "start_time": "2022-04-16T23:53:54.336Z"
   },
   {
    "duration": 230,
    "start_time": "2022-04-16T23:53:55.540Z"
   },
   {
    "duration": 5,
    "start_time": "2022-04-16T23:53:58.958Z"
   },
   {
    "duration": 6,
    "start_time": "2022-04-16T23:54:00.334Z"
   },
   {
    "duration": 32,
    "start_time": "2022-04-16T23:54:01.856Z"
   },
   {
    "duration": 3,
    "start_time": "2022-04-16T23:55:21.650Z"
   },
   {
    "duration": 33,
    "start_time": "2022-04-16T23:55:23.063Z"
   },
   {
    "duration": 92,
    "start_time": "2022-04-16T23:56:25.983Z"
   },
   {
    "duration": 482,
    "start_time": "2022-04-16T23:56:27.911Z"
   },
   {
    "duration": 4,
    "start_time": "2022-04-16T23:56:30.188Z"
   },
   {
    "duration": 236,
    "start_time": "2022-04-16T23:56:31.183Z"
   },
   {
    "duration": 1525,
    "start_time": "2022-04-17T00:00:09.420Z"
   },
   {
    "duration": 666,
    "start_time": "2022-04-17T00:00:10.947Z"
   },
   {
    "duration": 34,
    "start_time": "2022-04-17T00:00:11.615Z"
   },
   {
    "duration": 5,
    "start_time": "2022-04-17T00:00:11.651Z"
   },
   {
    "duration": 7,
    "start_time": "2022-04-17T00:00:11.658Z"
   },
   {
    "duration": 5,
    "start_time": "2022-04-17T00:00:11.667Z"
   },
   {
    "duration": 222,
    "start_time": "2022-04-17T00:00:11.673Z"
   },
   {
    "duration": 3,
    "start_time": "2022-04-17T00:00:11.897Z"
   },
   {
    "duration": 6,
    "start_time": "2022-04-17T00:00:11.902Z"
   },
   {
    "duration": 1160,
    "start_time": "2022-04-17T00:00:11.923Z"
   },
   {
    "duration": 4,
    "start_time": "2022-04-17T00:00:13.085Z"
   },
   {
    "duration": 8,
    "start_time": "2022-04-17T00:00:13.091Z"
   },
   {
    "duration": 18,
    "start_time": "2022-04-17T00:00:13.100Z"
   },
   {
    "duration": 119467,
    "start_time": "2022-04-17T00:00:13.120Z"
   },
   {
    "duration": 7,
    "start_time": "2022-04-17T00:02:12.588Z"
   },
   {
    "duration": 65,
    "start_time": "2022-04-17T00:02:12.596Z"
   },
   {
    "duration": 54,
    "start_time": "2022-04-17T00:02:12.662Z"
   },
   {
    "duration": 33,
    "start_time": "2022-04-17T00:02:12.723Z"
   },
   {
    "duration": 4,
    "start_time": "2022-04-17T00:02:12.757Z"
   },
   {
    "duration": 7,
    "start_time": "2022-04-17T00:02:12.762Z"
   },
   {
    "duration": 6,
    "start_time": "2022-04-17T00:02:12.770Z"
   },
   {
    "duration": 11,
    "start_time": "2022-04-17T00:02:12.777Z"
   },
   {
    "duration": 4,
    "start_time": "2022-04-17T00:02:12.789Z"
   },
   {
    "duration": 29,
    "start_time": "2022-04-17T00:02:12.794Z"
   },
   {
    "duration": 2,
    "start_time": "2022-04-17T00:02:12.825Z"
   },
   {
    "duration": 1123,
    "start_time": "2022-04-17T00:02:12.829Z"
   },
   {
    "duration": 4702,
    "start_time": "2022-04-17T00:02:13.954Z"
   },
   {
    "duration": 3857,
    "start_time": "2022-04-17T00:02:18.660Z"
   },
   {
    "duration": 9,
    "start_time": "2022-04-17T00:02:22.518Z"
   },
   {
    "duration": 4,
    "start_time": "2022-04-17T00:02:22.528Z"
   },
   {
    "duration": 14,
    "start_time": "2022-04-17T00:02:22.534Z"
   },
   {
    "duration": 20,
    "start_time": "2022-04-17T00:02:22.550Z"
   },
   {
    "duration": 54,
    "start_time": "2022-04-17T00:02:22.572Z"
   },
   {
    "duration": 3,
    "start_time": "2022-04-17T00:02:22.628Z"
   },
   {
    "duration": 37995,
    "start_time": "2022-04-17T00:02:22.633Z"
   },
   {
    "duration": 3,
    "start_time": "2022-04-17T00:03:00.629Z"
   },
   {
    "duration": 50,
    "start_time": "2022-04-17T00:03:00.634Z"
   },
   {
    "duration": 4,
    "start_time": "2022-04-17T00:03:00.686Z"
   },
   {
    "duration": 11,
    "start_time": "2022-04-17T00:03:00.691Z"
   },
   {
    "duration": 230832,
    "start_time": "2022-04-17T00:03:00.703Z"
   },
   {
    "duration": 213,
    "start_time": "2022-04-17T00:06:51.536Z"
   },
   {
    "duration": 2,
    "start_time": "2022-04-17T00:06:51.751Z"
   },
   {
    "duration": 285371,
    "start_time": "2022-04-17T00:06:51.755Z"
   },
   {
    "duration": 8445,
    "start_time": "2022-04-17T00:11:37.128Z"
   },
   {
    "duration": 3,
    "start_time": "2022-04-17T00:11:45.575Z"
   },
   {
    "duration": 23,
    "start_time": "2022-04-17T00:11:45.579Z"
   },
   {
    "duration": 108,
    "start_time": "2022-04-17T00:11:45.603Z"
   },
   {
    "duration": 3,
    "start_time": "2022-04-17T00:11:45.712Z"
   },
   {
    "duration": 4,
    "start_time": "2022-04-17T00:11:45.723Z"
   },
   {
    "duration": 9,
    "start_time": "2022-04-17T00:11:45.728Z"
   },
   {
    "duration": 2,
    "start_time": "2022-04-17T00:11:45.738Z"
   },
   {
    "duration": 40,
    "start_time": "2022-04-17T00:11:45.741Z"
   },
   {
    "duration": 11,
    "start_time": "2022-04-17T00:11:45.783Z"
   },
   {
    "duration": 31,
    "start_time": "2022-04-17T00:11:45.795Z"
   },
   {
    "duration": 472,
    "start_time": "2022-04-17T00:11:45.828Z"
   },
   {
    "duration": 4,
    "start_time": "2022-04-17T00:11:46.301Z"
   },
   {
    "duration": 253,
    "start_time": "2022-04-17T00:11:46.307Z"
   },
   {
    "duration": 4,
    "start_time": "2022-04-17T00:11:46.562Z"
   },
   {
    "duration": 9,
    "start_time": "2022-04-17T00:11:46.568Z"
   },
   {
    "duration": 3,
    "start_time": "2022-04-17T00:11:46.579Z"
   },
   {
    "duration": 52,
    "start_time": "2022-04-17T00:11:46.583Z"
   },
   {
    "duration": 89,
    "start_time": "2022-04-17T00:11:46.636Z"
   },
   {
    "duration": 450,
    "start_time": "2022-04-17T00:11:46.727Z"
   },
   {
    "duration": 3,
    "start_time": "2022-04-17T00:11:47.178Z"
   },
   {
    "duration": 240,
    "start_time": "2022-04-17T00:11:47.183Z"
   },
   {
    "duration": 2,
    "start_time": "2022-04-17T00:11:47.425Z"
   },
   {
    "duration": 11704,
    "start_time": "2022-04-17T00:11:47.429Z"
   },
   {
    "duration": 44,
    "start_time": "2022-04-17T00:11:59.135Z"
   },
   {
    "duration": 3,
    "start_time": "2022-04-17T00:11:59.181Z"
   },
   {
    "duration": 73788,
    "start_time": "2022-04-17T00:11:59.186Z"
   },
   {
    "duration": 98,
    "start_time": "2022-04-17T00:13:12.976Z"
   },
   {
    "duration": 7,
    "start_time": "2022-04-17T00:13:13.076Z"
   },
   {
    "duration": 4,
    "start_time": "2022-04-17T00:13:13.085Z"
   },
   {
    "duration": 53,
    "start_time": "2022-04-17T00:13:13.091Z"
   },
   {
    "duration": 1437,
    "start_time": "2022-05-29T18:41:15.163Z"
   },
   {
    "duration": 2159,
    "start_time": "2022-05-29T18:41:16.602Z"
   },
   {
    "duration": 30,
    "start_time": "2022-05-29T18:41:18.763Z"
   },
   {
    "duration": 5,
    "start_time": "2022-05-29T18:41:18.795Z"
   },
   {
    "duration": 9,
    "start_time": "2022-05-29T18:41:18.801Z"
   },
   {
    "duration": 3,
    "start_time": "2022-05-29T18:41:18.812Z"
   },
   {
    "duration": 173,
    "start_time": "2022-05-29T18:41:18.817Z"
   },
   {
    "duration": 4,
    "start_time": "2022-05-29T18:41:18.992Z"
   },
   {
    "duration": 10,
    "start_time": "2022-05-29T18:41:18.998Z"
   },
   {
    "duration": 1214,
    "start_time": "2022-05-29T18:41:19.011Z"
   },
   {
    "duration": 5,
    "start_time": "2022-05-29T18:41:20.227Z"
   },
   {
    "duration": 9,
    "start_time": "2022-05-29T18:41:20.233Z"
   },
   {
    "duration": 10,
    "start_time": "2022-05-29T18:41:20.244Z"
   },
   {
    "duration": 121107,
    "start_time": "2022-05-29T18:41:20.255Z"
   },
   {
    "duration": 7,
    "start_time": "2022-05-29T18:43:21.364Z"
   },
   {
    "duration": 63,
    "start_time": "2022-05-29T18:43:21.373Z"
   },
   {
    "duration": 67,
    "start_time": "2022-05-29T18:43:21.437Z"
   },
   {
    "duration": 35,
    "start_time": "2022-05-29T18:43:21.506Z"
   },
   {
    "duration": 4,
    "start_time": "2022-05-29T18:43:21.543Z"
   },
   {
    "duration": 15,
    "start_time": "2022-05-29T18:43:21.548Z"
   },
   {
    "duration": 9,
    "start_time": "2022-05-29T18:43:21.564Z"
   },
   {
    "duration": 22,
    "start_time": "2022-05-29T18:43:21.575Z"
   },
   {
    "duration": 9,
    "start_time": "2022-05-29T18:43:21.599Z"
   },
   {
    "duration": 19,
    "start_time": "2022-05-29T18:43:21.609Z"
   },
   {
    "duration": 9,
    "start_time": "2022-05-29T18:43:21.630Z"
   },
   {
    "duration": 1299,
    "start_time": "2022-05-29T18:43:21.641Z"
   },
   {
    "duration": 5144,
    "start_time": "2022-05-29T18:43:22.942Z"
   },
   {
    "duration": 4066,
    "start_time": "2022-05-29T18:43:28.093Z"
   },
   {
    "duration": 6,
    "start_time": "2022-05-29T18:43:32.161Z"
   },
   {
    "duration": 4,
    "start_time": "2022-05-29T18:43:32.168Z"
   },
   {
    "duration": 22,
    "start_time": "2022-05-29T18:43:32.173Z"
   },
   {
    "duration": 20,
    "start_time": "2022-05-29T18:43:32.196Z"
   },
   {
    "duration": 35,
    "start_time": "2022-05-29T18:43:32.218Z"
   },
   {
    "duration": 3,
    "start_time": "2022-05-29T18:43:32.254Z"
   },
   {
    "duration": 41746,
    "start_time": "2022-05-29T18:43:32.259Z"
   },
   {
    "duration": 87,
    "start_time": "2022-05-29T18:44:14.008Z"
   },
   {
    "duration": 56,
    "start_time": "2022-05-29T18:44:14.097Z"
   },
   {
    "duration": 5,
    "start_time": "2022-05-29T18:44:14.155Z"
   },
   {
    "duration": 5,
    "start_time": "2022-05-29T18:44:14.162Z"
   },
   {
    "duration": 243310,
    "start_time": "2022-05-29T18:44:14.168Z"
   },
   {
    "duration": 225,
    "start_time": "2022-05-29T18:48:17.479Z"
   },
   {
    "duration": 2,
    "start_time": "2022-05-29T18:48:17.706Z"
   },
   {
    "duration": 314016,
    "start_time": "2022-05-29T18:48:17.709Z"
   },
   {
    "duration": 8955,
    "start_time": "2022-05-29T18:53:31.727Z"
   },
   {
    "duration": 3,
    "start_time": "2022-05-29T18:53:40.684Z"
   },
   {
    "duration": 25,
    "start_time": "2022-05-29T18:53:40.693Z"
   },
   {
    "duration": 134,
    "start_time": "2022-05-29T18:53:40.720Z"
   },
   {
    "duration": 3,
    "start_time": "2022-05-29T18:53:40.855Z"
   },
   {
    "duration": 8,
    "start_time": "2022-05-29T18:53:40.860Z"
   },
   {
    "duration": 10,
    "start_time": "2022-05-29T18:53:40.869Z"
   },
   {
    "duration": 15,
    "start_time": "2022-05-29T18:53:40.880Z"
   },
   {
    "duration": 41,
    "start_time": "2022-05-29T18:53:40.896Z"
   },
   {
    "duration": 12,
    "start_time": "2022-05-29T18:53:40.938Z"
   },
   {
    "duration": 6,
    "start_time": "2022-05-29T18:53:40.952Z"
   },
   {
    "duration": 558,
    "start_time": "2022-05-29T18:53:40.960Z"
   },
   {
    "duration": 3,
    "start_time": "2022-05-29T18:53:41.520Z"
   },
   {
    "duration": 272,
    "start_time": "2022-05-29T18:53:41.524Z"
   },
   {
    "duration": 4,
    "start_time": "2022-05-29T18:53:41.798Z"
   },
   {
    "duration": 120,
    "start_time": "2022-05-29T18:53:41.804Z"
   },
   {
    "duration": 2,
    "start_time": "2022-05-29T18:53:41.926Z"
   },
   {
    "duration": 40,
    "start_time": "2022-05-29T18:53:41.929Z"
   },
   {
    "duration": 86,
    "start_time": "2022-05-29T18:53:41.970Z"
   },
   {
    "duration": 543,
    "start_time": "2022-05-29T18:53:42.057Z"
   },
   {
    "duration": 3,
    "start_time": "2022-05-29T18:53:42.602Z"
   },
   {
    "duration": 280,
    "start_time": "2022-05-29T18:53:42.606Z"
   },
   {
    "duration": 3,
    "start_time": "2022-05-29T18:53:42.893Z"
   },
   {
    "duration": 13908,
    "start_time": "2022-05-29T18:53:42.898Z"
   },
   {
    "duration": 48,
    "start_time": "2022-05-29T18:53:56.807Z"
   },
   {
    "duration": 2,
    "start_time": "2022-05-29T18:53:56.857Z"
   },
   {
    "duration": 81230,
    "start_time": "2022-05-29T18:53:56.860Z"
   },
   {
    "duration": 110,
    "start_time": "2022-05-29T18:55:18.092Z"
   },
   {
    "duration": 7,
    "start_time": "2022-05-29T18:55:18.204Z"
   },
   {
    "duration": 7,
    "start_time": "2022-05-29T18:55:18.213Z"
   },
   {
    "duration": 65,
    "start_time": "2022-05-29T18:55:18.222Z"
   }
  ],
  "kernelspec": {
   "display_name": "Python 3 (ipykernel)",
   "language": "python",
   "name": "python3"
  },
  "language_info": {
   "codemirror_mode": {
    "name": "ipython",
    "version": 3
   },
   "file_extension": ".py",
   "mimetype": "text/x-python",
   "name": "python",
   "nbconvert_exporter": "python",
   "pygments_lexer": "ipython3",
   "version": "3.9.7"
  },
  "toc": {
   "base_numbering": 1,
   "nav_menu": {},
   "number_sections": true,
   "sideBar": true,
   "skip_h1_title": true,
   "title_cell": "Содержание",
   "title_sidebar": "Contents",
   "toc_cell": true,
   "toc_position": {
    "height": "calc(100% - 180px)",
    "left": "10px",
    "top": "150px",
    "width": "302.388px"
   },
   "toc_section_display": true,
   "toc_window_display": true
  }
 },
 "nbformat": 4,
 "nbformat_minor": 2
}
