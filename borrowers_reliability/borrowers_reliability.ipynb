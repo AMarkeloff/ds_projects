{
 "cells": [
  {
   "cell_type": "markdown",
   "metadata": {},
   "source": [
    "# Исследование надёжности заёмщиков\n",
    "\n",
    "Заказчик — кредитный отдел банка. Нужно разобраться, влияет ли семейное положение и количество детей клиента на факт погашения кредита в срок. Входные данные от банка — статистика о платёжеспособности клиентов.\n",
    "\n",
    "Результаты исследования будут учтены при построении модели **кредитного скоринга** — специальной системы, которая оценивает способность потенциального заёмщика вернуть кредит банку.\n",
    "\n",
    "**Цель исследования** - проверить четыре гипотезы:\n",
    "1. Есть ли зависимость между наличием детей и возвратом кредита в срок?\n",
    "2. Есть ли зависимость между семейным положением и возвратом кредита в срок?\n",
    "3. Есть ли зависимость между уровнем дохода и возвратом кредита в срок?\n",
    "4. Как разные цели кредита влияют на его возврат в срок?"
   ]
  },
  {
   "cell_type": "markdown",
   "metadata": {},
   "source": [
    "## Шаг 1. Обзор данных"
   ]
  },
  {
   "cell_type": "markdown",
   "metadata": {},
   "source": [
    "Составим первое впечатление о статистике платёжеспособности клиентов, полученной от банка.\n",
    "\n",
    "Импортируем библиотеку `pandas` и `pymystem3`:"
   ]
  },
  {
   "cell_type": "code",
   "execution_count": 1,
   "metadata": {},
   "outputs": [],
   "source": [
    "# импорт библиотеки pandas\n",
    "import pandas as pd\n",
    "\n",
    "# импортируем pymystem3\n",
    "from pymystem3 import Mystem\n",
    "m = Mystem()"
   ]
  },
  {
   "cell_type": "markdown",
   "metadata": {},
   "source": [
    "Прочитаем файл `data.csv` из папки `/datasets` и сохраним его в переменной `data`, выведем на экран первые 10 строк таблицы:"
   ]
  },
  {
   "cell_type": "code",
   "execution_count": 2,
   "metadata": {
    "scrolled": false
   },
   "outputs": [
    {
     "data": {
      "text/html": [
       "<div>\n",
       "<style scoped>\n",
       "    .dataframe tbody tr th:only-of-type {\n",
       "        vertical-align: middle;\n",
       "    }\n",
       "\n",
       "    .dataframe tbody tr th {\n",
       "        vertical-align: top;\n",
       "    }\n",
       "\n",
       "    .dataframe thead th {\n",
       "        text-align: right;\n",
       "    }\n",
       "</style>\n",
       "<table border=\"1\" class=\"dataframe\">\n",
       "  <thead>\n",
       "    <tr style=\"text-align: right;\">\n",
       "      <th></th>\n",
       "      <th>children</th>\n",
       "      <th>days_employed</th>\n",
       "      <th>dob_years</th>\n",
       "      <th>education</th>\n",
       "      <th>education_id</th>\n",
       "      <th>family_status</th>\n",
       "      <th>family_status_id</th>\n",
       "      <th>gender</th>\n",
       "      <th>income_type</th>\n",
       "      <th>debt</th>\n",
       "      <th>total_income</th>\n",
       "      <th>purpose</th>\n",
       "    </tr>\n",
       "  </thead>\n",
       "  <tbody>\n",
       "    <tr>\n",
       "      <th>0</th>\n",
       "      <td>1</td>\n",
       "      <td>-8437.673028</td>\n",
       "      <td>42</td>\n",
       "      <td>высшее</td>\n",
       "      <td>0</td>\n",
       "      <td>женат / замужем</td>\n",
       "      <td>0</td>\n",
       "      <td>F</td>\n",
       "      <td>сотрудник</td>\n",
       "      <td>0</td>\n",
       "      <td>253875.639453</td>\n",
       "      <td>покупка жилья</td>\n",
       "    </tr>\n",
       "    <tr>\n",
       "      <th>1</th>\n",
       "      <td>1</td>\n",
       "      <td>-4024.803754</td>\n",
       "      <td>36</td>\n",
       "      <td>среднее</td>\n",
       "      <td>1</td>\n",
       "      <td>женат / замужем</td>\n",
       "      <td>0</td>\n",
       "      <td>F</td>\n",
       "      <td>сотрудник</td>\n",
       "      <td>0</td>\n",
       "      <td>112080.014102</td>\n",
       "      <td>приобретение автомобиля</td>\n",
       "    </tr>\n",
       "    <tr>\n",
       "      <th>2</th>\n",
       "      <td>0</td>\n",
       "      <td>-5623.422610</td>\n",
       "      <td>33</td>\n",
       "      <td>Среднее</td>\n",
       "      <td>1</td>\n",
       "      <td>женат / замужем</td>\n",
       "      <td>0</td>\n",
       "      <td>M</td>\n",
       "      <td>сотрудник</td>\n",
       "      <td>0</td>\n",
       "      <td>145885.952297</td>\n",
       "      <td>покупка жилья</td>\n",
       "    </tr>\n",
       "    <tr>\n",
       "      <th>3</th>\n",
       "      <td>3</td>\n",
       "      <td>-4124.747207</td>\n",
       "      <td>32</td>\n",
       "      <td>среднее</td>\n",
       "      <td>1</td>\n",
       "      <td>женат / замужем</td>\n",
       "      <td>0</td>\n",
       "      <td>M</td>\n",
       "      <td>сотрудник</td>\n",
       "      <td>0</td>\n",
       "      <td>267628.550329</td>\n",
       "      <td>дополнительное образование</td>\n",
       "    </tr>\n",
       "    <tr>\n",
       "      <th>4</th>\n",
       "      <td>0</td>\n",
       "      <td>340266.072047</td>\n",
       "      <td>53</td>\n",
       "      <td>среднее</td>\n",
       "      <td>1</td>\n",
       "      <td>гражданский брак</td>\n",
       "      <td>1</td>\n",
       "      <td>F</td>\n",
       "      <td>пенсионер</td>\n",
       "      <td>0</td>\n",
       "      <td>158616.077870</td>\n",
       "      <td>сыграть свадьбу</td>\n",
       "    </tr>\n",
       "    <tr>\n",
       "      <th>5</th>\n",
       "      <td>0</td>\n",
       "      <td>-926.185831</td>\n",
       "      <td>27</td>\n",
       "      <td>высшее</td>\n",
       "      <td>0</td>\n",
       "      <td>гражданский брак</td>\n",
       "      <td>1</td>\n",
       "      <td>M</td>\n",
       "      <td>компаньон</td>\n",
       "      <td>0</td>\n",
       "      <td>255763.565419</td>\n",
       "      <td>покупка жилья</td>\n",
       "    </tr>\n",
       "    <tr>\n",
       "      <th>6</th>\n",
       "      <td>0</td>\n",
       "      <td>-2879.202052</td>\n",
       "      <td>43</td>\n",
       "      <td>высшее</td>\n",
       "      <td>0</td>\n",
       "      <td>женат / замужем</td>\n",
       "      <td>0</td>\n",
       "      <td>F</td>\n",
       "      <td>компаньон</td>\n",
       "      <td>0</td>\n",
       "      <td>240525.971920</td>\n",
       "      <td>операции с жильем</td>\n",
       "    </tr>\n",
       "    <tr>\n",
       "      <th>7</th>\n",
       "      <td>0</td>\n",
       "      <td>-152.779569</td>\n",
       "      <td>50</td>\n",
       "      <td>СРЕДНЕЕ</td>\n",
       "      <td>1</td>\n",
       "      <td>женат / замужем</td>\n",
       "      <td>0</td>\n",
       "      <td>M</td>\n",
       "      <td>сотрудник</td>\n",
       "      <td>0</td>\n",
       "      <td>135823.934197</td>\n",
       "      <td>образование</td>\n",
       "    </tr>\n",
       "    <tr>\n",
       "      <th>8</th>\n",
       "      <td>2</td>\n",
       "      <td>-6929.865299</td>\n",
       "      <td>35</td>\n",
       "      <td>ВЫСШЕЕ</td>\n",
       "      <td>0</td>\n",
       "      <td>гражданский брак</td>\n",
       "      <td>1</td>\n",
       "      <td>F</td>\n",
       "      <td>сотрудник</td>\n",
       "      <td>0</td>\n",
       "      <td>95856.832424</td>\n",
       "      <td>на проведение свадьбы</td>\n",
       "    </tr>\n",
       "    <tr>\n",
       "      <th>9</th>\n",
       "      <td>0</td>\n",
       "      <td>-2188.756445</td>\n",
       "      <td>41</td>\n",
       "      <td>среднее</td>\n",
       "      <td>1</td>\n",
       "      <td>женат / замужем</td>\n",
       "      <td>0</td>\n",
       "      <td>M</td>\n",
       "      <td>сотрудник</td>\n",
       "      <td>0</td>\n",
       "      <td>144425.938277</td>\n",
       "      <td>покупка жилья для семьи</td>\n",
       "    </tr>\n",
       "  </tbody>\n",
       "</table>\n",
       "</div>"
      ],
      "text/plain": [
       "   children  days_employed  dob_years education  education_id  \\\n",
       "0         1   -8437.673028         42    высшее             0   \n",
       "1         1   -4024.803754         36   среднее             1   \n",
       "2         0   -5623.422610         33   Среднее             1   \n",
       "3         3   -4124.747207         32   среднее             1   \n",
       "4         0  340266.072047         53   среднее             1   \n",
       "5         0    -926.185831         27    высшее             0   \n",
       "6         0   -2879.202052         43    высшее             0   \n",
       "7         0    -152.779569         50   СРЕДНЕЕ             1   \n",
       "8         2   -6929.865299         35    ВЫСШЕЕ             0   \n",
       "9         0   -2188.756445         41   среднее             1   \n",
       "\n",
       "      family_status  family_status_id gender income_type  debt   total_income  \\\n",
       "0   женат / замужем                 0      F   сотрудник     0  253875.639453   \n",
       "1   женат / замужем                 0      F   сотрудник     0  112080.014102   \n",
       "2   женат / замужем                 0      M   сотрудник     0  145885.952297   \n",
       "3   женат / замужем                 0      M   сотрудник     0  267628.550329   \n",
       "4  гражданский брак                 1      F   пенсионер     0  158616.077870   \n",
       "5  гражданский брак                 1      M   компаньон     0  255763.565419   \n",
       "6   женат / замужем                 0      F   компаньон     0  240525.971920   \n",
       "7   женат / замужем                 0      M   сотрудник     0  135823.934197   \n",
       "8  гражданский брак                 1      F   сотрудник     0   95856.832424   \n",
       "9   женат / замужем                 0      M   сотрудник     0  144425.938277   \n",
       "\n",
       "                      purpose  \n",
       "0               покупка жилья  \n",
       "1     приобретение автомобиля  \n",
       "2               покупка жилья  \n",
       "3  дополнительное образование  \n",
       "4             сыграть свадьбу  \n",
       "5               покупка жилья  \n",
       "6           операции с жильем  \n",
       "7                 образование  \n",
       "8       на проведение свадьбы  \n",
       "9     покупка жилья для семьи  "
      ]
     },
     "execution_count": 2,
     "metadata": {},
     "output_type": "execute_result"
    }
   ],
   "source": [
    "# чтение файла с данными и сохранение в data\n",
    "data = pd.read_csv('/datasets/data.csv')\n",
    "\n",
    "# получение первых 10 строк таблицы data\n",
    "data.head(10)"
   ]
  },
  {
   "cell_type": "markdown",
   "metadata": {},
   "source": [
    "Нельзя не заметить некорректное представление информации о трудовом стаже в столбце `days_employed`. Возможно причина в проблемах с выгрузкой данных. Так как трудовой стаж не влияет на результат выдвинутых гипотез, в дальнейшем его предлагается **исключить из рассмотрения**."
   ]
  },
  {
   "cell_type": "markdown",
   "metadata": {},
   "source": [
    "Получим общую информацию о таблице:"
   ]
  },
  {
   "cell_type": "code",
   "execution_count": 3,
   "metadata": {
    "scrolled": true
   },
   "outputs": [
    {
     "name": "stdout",
     "output_type": "stream",
     "text": [
      "<class 'pandas.core.frame.DataFrame'>\n",
      "RangeIndex: 21525 entries, 0 to 21524\n",
      "Data columns (total 12 columns):\n",
      " #   Column            Non-Null Count  Dtype  \n",
      "---  ------            --------------  -----  \n",
      " 0   children          21525 non-null  int64  \n",
      " 1   days_employed     19351 non-null  float64\n",
      " 2   dob_years         21525 non-null  int64  \n",
      " 3   education         21525 non-null  object \n",
      " 4   education_id      21525 non-null  int64  \n",
      " 5   family_status     21525 non-null  object \n",
      " 6   family_status_id  21525 non-null  int64  \n",
      " 7   gender            21525 non-null  object \n",
      " 8   income_type       21525 non-null  object \n",
      " 9   debt              21525 non-null  int64  \n",
      " 10  total_income      19351 non-null  float64\n",
      " 11  purpose           21525 non-null  object \n",
      "dtypes: float64(2), int64(5), object(5)\n",
      "memory usage: 2.0+ MB\n"
     ]
    }
   ],
   "source": [
    "# получение общей информации о данных в таблице\n",
    "data.info()"
   ]
  },
  {
   "cell_type": "markdown",
   "metadata": {},
   "source": [
    "В названиях столбцов нет расхождений с хорошим стилем:"
   ]
  },
  {
   "cell_type": "code",
   "execution_count": 4,
   "metadata": {},
   "outputs": [
    {
     "data": {
      "text/plain": [
       "Index(['children', 'days_employed', 'dob_years', 'education', 'education_id',\n",
       "       'family_status', 'family_status_id', 'gender', 'income_type', 'debt',\n",
       "       'total_income', 'purpose'],\n",
       "      dtype='object')"
      ]
     },
     "execution_count": 4,
     "metadata": {},
     "output_type": "execute_result"
    }
   ],
   "source": [
    "# перечень названий столбцов таблицы\n",
    "data.columns"
   ]
  },
  {
   "cell_type": "markdown",
   "metadata": {},
   "source": [
    "Итак: \n",
    "- В таблице **12 столбцов**. \n",
    "- В двух столбцах есть пропущенные значения. \n",
    "- В столбце с доходами неудобный формат данных.\n",
    "\n",
    "Из документации мы знаем описание каждого столбца с данными, а тип данных, хранящихся в столбцах, определили с помощью функции `info()`:\n",
    "* `children` — количество детей в семье, тип данных `int64`\n",
    "* `days_employed` — общий трудовой стаж в днях, тип данных `float64`\n",
    "* `dob_years` — возраст клиента в годах, тип данных `int64`\n",
    "* `education` — уровень образования клиента, тип данных `object`\n",
    "* `education_id` — идентификатор уровня образования, тип данных `int64`\n",
    "* `family_status` — семейное положение, тип данных `object`\n",
    "* `family_status_id` — идентификатор семейного положения, тип данных `int64`\n",
    "* `gender` — пол клиента, тип данных `object`\n",
    "* `income_type` — тип занятости, тип данных `object`\n",
    "* `debt` — имел ли задолженность по возврату кредитов, тип данных `int64`\n",
    "* `total_income` — ежемесячный доход, тип данных `float64`\n",
    "* `purpose` — цель получения кредита, тип данных `object`\n",
    "\n",
    "Итого: \n",
    "* 2 столбца с типом данных `float64`\n",
    "* 5 столбцов с типом данных  `int64`\n",
    "* 5 столбцов с типом данных `object`"
   ]
  },
  {
   "cell_type": "markdown",
   "metadata": {},
   "source": [
    "**Вывод**"
   ]
  },
  {
   "cell_type": "markdown",
   "metadata": {},
   "source": [
    "В каждой строке таблицы — данные о заёмщике и его кредите. \n",
    "\n",
    "Часть колонок описывает заёмщика: количество детей, общий трудовой стаж, возраст, уровень образования, семейное положение, пол, тип занятости, ежемесячный доход. \n",
    "\n",
    "Остальные данные рассказывают о кредите заёмщика:  есть ли задолженность по кредиту, какая была цель получения кредита. \n",
    "\n",
    "Некоторые столбцы не потребуются для проведения исследования, так как не имеют отношения к поставленным гипотезам. \n",
    "\n",
    "Предварительно можно утверждать, что данных достаточно для проверки гипотез, но встречаются пропуски в данных.\n",
    "\n",
    "Чтобы двигаться дальше, нужно устранить проблемы в данных."
   ]
  },
  {
   "cell_type": "markdown",
   "metadata": {},
   "source": [
    "## Шаг 2. Предобработка данных"
   ]
  },
  {
   "cell_type": "markdown",
   "metadata": {},
   "source": [
    "### Выбор информации для анализа, разведка данных"
   ]
  },
  {
   "cell_type": "markdown",
   "metadata": {},
   "source": [
    "Для проверки выдвинутых гипотез в исследовании не потребуются некоторые исходные данные. Учитывая, что нас интересует:\n",
    "- информация о наличии детей, \n",
    "- семейном положении, \n",
    "- уровне дохода и целях кредита, \n",
    "- а также информация о задолженности по кредиту, \n",
    "\n",
    "оставим для рассмотрения следующие столбцы:\n",
    "\n",
    "* `children` — количество детей в семье, тип данных `int64`\n",
    "* `family_status` — семейное положение, тип данных `object`\n",
    "* `family_status_id` — идентификатор семейного положения, тип данных `int64`\n",
    "* `total_income` — ежемесячный доход, тип данных `float64`\n",
    "* `purpose` — цель получения кредита, тип данных `object`\n",
    "* `debt` — имел ли задолженность по возврату кредитов, тип данных `int64`"
   ]
  },
  {
   "cell_type": "markdown",
   "metadata": {},
   "source": [
    "Но **важно** *обработать явные дубликаты* **до выделения столбцов с нужной информацией**. Так как при исключении из рассмотрения возраста и другой информации, которая не рассматривается для проверки гипотез, количество явных дубликатов может увеличиться, хотя рассматриваться будут разные люди.\n",
    "\n",
    "Количество явных дубликатов до предобработки исходных данных:"
   ]
  },
  {
   "cell_type": "code",
   "execution_count": 5,
   "metadata": {
    "scrolled": true
   },
   "outputs": [
    {
     "data": {
      "text/plain": [
       "54"
      ]
     },
     "execution_count": 5,
     "metadata": {},
     "output_type": "execute_result"
    }
   ],
   "source": [
    "#явные дубликаты в основной исходной таблице\n",
    "data.duplicated().sum()"
   ]
  },
  {
   "cell_type": "markdown",
   "metadata": {},
   "source": [
    "Чтобы более-менее аккуратно удалить явные дубликаты проведём небольшую подготовку данных в столбцах, которые нам не потребуются в дальнейшем. Начнём со столбца `education`, посмотрим какие значения в нём встречаются:"
   ]
  },
  {
   "cell_type": "code",
   "execution_count": 6,
   "metadata": {},
   "outputs": [
    {
     "data": {
      "text/plain": [
       "среднее                13750\n",
       "высшее                  4718\n",
       "СРЕДНЕЕ                  772\n",
       "Среднее                  711\n",
       "неоконченное высшее      668\n",
       "ВЫСШЕЕ                   274\n",
       "Высшее                   268\n",
       "начальное                250\n",
       "Неоконченное высшее       47\n",
       "НЕОКОНЧЕННОЕ ВЫСШЕЕ       29\n",
       "НАЧАЛЬНОЕ                 17\n",
       "Начальное                 15\n",
       "ученая степень             4\n",
       "УЧЕНАЯ СТЕПЕНЬ             1\n",
       "Ученая степень             1\n",
       "Name: education, dtype: int64"
      ]
     },
     "execution_count": 6,
     "metadata": {},
     "output_type": "execute_result"
    }
   ],
   "source": [
    "#просмотр уникальных значений столбца 'education'\n",
    "data['education'].value_counts()"
   ]
  },
  {
   "cell_type": "markdown",
   "metadata": {},
   "source": [
    "Переведём названия уровня образования клиентов в нижний регистр, чтобы исключить неявные дубликаты:"
   ]
  },
  {
   "cell_type": "code",
   "execution_count": 7,
   "metadata": {},
   "outputs": [],
   "source": [
    "#перевод значений столбца 'education' в нижний регистр\n",
    "data['education'] = data['education'].str.lower()"
   ]
  },
  {
   "cell_type": "markdown",
   "metadata": {},
   "source": [
    "Проверим результат операции:"
   ]
  },
  {
   "cell_type": "code",
   "execution_count": 8,
   "metadata": {},
   "outputs": [
    {
     "data": {
      "text/plain": [
       "среднее                15233\n",
       "высшее                  5260\n",
       "неоконченное высшее      744\n",
       "начальное                282\n",
       "ученая степень             6\n",
       "Name: education, dtype: int64"
      ]
     },
     "execution_count": 8,
     "metadata": {},
     "output_type": "execute_result"
    }
   ],
   "source": [
    "#просмотр уникальных значений столбца 'education'\n",
    "data['education'].value_counts()"
   ]
  },
  {
   "cell_type": "markdown",
   "metadata": {},
   "source": [
    "Теперь посмотрим идентификаторы уровня образования, здесь всё в порядке, явных дубликатов нет, количество соответствует названиям уровня образования:"
   ]
  },
  {
   "cell_type": "code",
   "execution_count": 9,
   "metadata": {
    "scrolled": false
   },
   "outputs": [
    {
     "data": {
      "text/plain": [
       "1    15233\n",
       "0     5260\n",
       "2      744\n",
       "3      282\n",
       "4        6\n",
       "Name: education_id, dtype: int64"
      ]
     },
     "execution_count": 9,
     "metadata": {},
     "output_type": "execute_result"
    }
   ],
   "source": [
    "#просмотр уникальных значений столбца 'education_id'\n",
    "data['education_id'].value_counts()"
   ]
  },
  {
   "cell_type": "markdown",
   "metadata": {},
   "source": [
    "Проверим есть ли дубликаты в парах идентификатор-уровень образования клиентов. Для этого создадим словарь уровня образования клиентов:"
   ]
  },
  {
   "cell_type": "code",
   "execution_count": 10,
   "metadata": {},
   "outputs": [],
   "source": [
    "#создание словаря уровня образования\n",
    "education_dict = data[['education_id','education']]"
   ]
  },
  {
   "cell_type": "markdown",
   "metadata": {},
   "source": [
    "Выведем на экран несколько значений:"
   ]
  },
  {
   "cell_type": "code",
   "execution_count": 11,
   "metadata": {},
   "outputs": [
    {
     "data": {
      "text/html": [
       "<div>\n",
       "<style scoped>\n",
       "    .dataframe tbody tr th:only-of-type {\n",
       "        vertical-align: middle;\n",
       "    }\n",
       "\n",
       "    .dataframe tbody tr th {\n",
       "        vertical-align: top;\n",
       "    }\n",
       "\n",
       "    .dataframe thead th {\n",
       "        text-align: right;\n",
       "    }\n",
       "</style>\n",
       "<table border=\"1\" class=\"dataframe\">\n",
       "  <thead>\n",
       "    <tr style=\"text-align: right;\">\n",
       "      <th></th>\n",
       "      <th>education_id</th>\n",
       "      <th>education</th>\n",
       "    </tr>\n",
       "  </thead>\n",
       "  <tbody>\n",
       "    <tr>\n",
       "      <th>0</th>\n",
       "      <td>0</td>\n",
       "      <td>высшее</td>\n",
       "    </tr>\n",
       "    <tr>\n",
       "      <th>1</th>\n",
       "      <td>1</td>\n",
       "      <td>среднее</td>\n",
       "    </tr>\n",
       "    <tr>\n",
       "      <th>2</th>\n",
       "      <td>1</td>\n",
       "      <td>среднее</td>\n",
       "    </tr>\n",
       "    <tr>\n",
       "      <th>3</th>\n",
       "      <td>1</td>\n",
       "      <td>среднее</td>\n",
       "    </tr>\n",
       "    <tr>\n",
       "      <th>4</th>\n",
       "      <td>1</td>\n",
       "      <td>среднее</td>\n",
       "    </tr>\n",
       "    <tr>\n",
       "      <th>5</th>\n",
       "      <td>0</td>\n",
       "      <td>высшее</td>\n",
       "    </tr>\n",
       "    <tr>\n",
       "      <th>6</th>\n",
       "      <td>0</td>\n",
       "      <td>высшее</td>\n",
       "    </tr>\n",
       "    <tr>\n",
       "      <th>7</th>\n",
       "      <td>1</td>\n",
       "      <td>среднее</td>\n",
       "    </tr>\n",
       "    <tr>\n",
       "      <th>8</th>\n",
       "      <td>0</td>\n",
       "      <td>высшее</td>\n",
       "    </tr>\n",
       "    <tr>\n",
       "      <th>9</th>\n",
       "      <td>1</td>\n",
       "      <td>среднее</td>\n",
       "    </tr>\n",
       "  </tbody>\n",
       "</table>\n",
       "</div>"
      ],
      "text/plain": [
       "   education_id education\n",
       "0             0    высшее\n",
       "1             1   среднее\n",
       "2             1   среднее\n",
       "3             1   среднее\n",
       "4             1   среднее\n",
       "5             0    высшее\n",
       "6             0    высшее\n",
       "7             1   среднее\n",
       "8             0    высшее\n",
       "9             1   среднее"
      ]
     },
     "execution_count": 11,
     "metadata": {},
     "output_type": "execute_result"
    }
   ],
   "source": [
    "# вывод на экран первых 10 строк таблицы\n",
    "education_dict.head(10)"
   ]
  },
  {
   "cell_type": "markdown",
   "metadata": {},
   "source": [
    "В словаре образования клиентов неявных дубликатов не обнаружено:"
   ]
  },
  {
   "cell_type": "code",
   "execution_count": 12,
   "metadata": {},
   "outputs": [
    {
     "data": {
      "text/html": [
       "<div>\n",
       "<style scoped>\n",
       "    .dataframe tbody tr th:only-of-type {\n",
       "        vertical-align: middle;\n",
       "    }\n",
       "\n",
       "    .dataframe tbody tr th {\n",
       "        vertical-align: top;\n",
       "    }\n",
       "\n",
       "    .dataframe thead th {\n",
       "        text-align: right;\n",
       "    }\n",
       "</style>\n",
       "<table border=\"1\" class=\"dataframe\">\n",
       "  <thead>\n",
       "    <tr style=\"text-align: right;\">\n",
       "      <th></th>\n",
       "      <th>education_id</th>\n",
       "      <th>education</th>\n",
       "    </tr>\n",
       "  </thead>\n",
       "  <tbody>\n",
       "    <tr>\n",
       "      <th>0</th>\n",
       "      <td>0</td>\n",
       "      <td>высшее</td>\n",
       "    </tr>\n",
       "    <tr>\n",
       "      <th>1</th>\n",
       "      <td>1</td>\n",
       "      <td>среднее</td>\n",
       "    </tr>\n",
       "    <tr>\n",
       "      <th>2</th>\n",
       "      <td>2</td>\n",
       "      <td>неоконченное высшее</td>\n",
       "    </tr>\n",
       "    <tr>\n",
       "      <th>3</th>\n",
       "      <td>3</td>\n",
       "      <td>начальное</td>\n",
       "    </tr>\n",
       "    <tr>\n",
       "      <th>4</th>\n",
       "      <td>4</td>\n",
       "      <td>ученая степень</td>\n",
       "    </tr>\n",
       "  </tbody>\n",
       "</table>\n",
       "</div>"
      ],
      "text/plain": [
       "   education_id            education\n",
       "0             0               высшее\n",
       "1             1              среднее\n",
       "2             2  неоконченное высшее\n",
       "3             3            начальное\n",
       "4             4       ученая степень"
      ]
     },
     "execution_count": 12,
     "metadata": {},
     "output_type": "execute_result"
    }
   ],
   "source": [
    "#удаление дубликатов для проверки соответствия одного значения \n",
    "#\"education_id\" одному уровню образования\n",
    "education_dict.drop_duplicates().reset_index(drop=True)"
   ]
  },
  {
   "cell_type": "markdown",
   "metadata": {},
   "source": [
    "После изменения регистра в названиях уровня образования клиентов в столбце `education` увеличилось количество явных дубликатов в основной таблице исходных данных:"
   ]
  },
  {
   "cell_type": "code",
   "execution_count": 13,
   "metadata": {},
   "outputs": [
    {
     "data": {
      "text/plain": [
       "71"
      ]
     },
     "execution_count": 13,
     "metadata": {},
     "output_type": "execute_result"
    }
   ],
   "source": [
    "#явные дубликаты в основной таблице исходных данных\n",
    "data.duplicated().sum()"
   ]
  },
  {
   "cell_type": "markdown",
   "metadata": {},
   "source": [
    "Далее рассмотрим столбец `gender`."
   ]
  },
  {
   "cell_type": "code",
   "execution_count": 14,
   "metadata": {},
   "outputs": [
    {
     "data": {
      "text/plain": [
       "F      14236\n",
       "M       7288\n",
       "XNA        1\n",
       "Name: gender, dtype: int64"
      ]
     },
     "execution_count": 14,
     "metadata": {},
     "output_type": "execute_result"
    }
   ],
   "source": [
    "#просмотр уникальных значений столбца 'gender'\n",
    "data['gender'].value_counts()"
   ]
  },
  {
   "cell_type": "markdown",
   "metadata": {},
   "source": [
    "Неявных дубликатов не обнаружено, неопознанный пол 'XNA' изменять не будем, так как это не повлияет на результаты."
   ]
  },
  {
   "cell_type": "markdown",
   "metadata": {},
   "source": [
    "Далее рассмотрим столбец `income_type`."
   ]
  },
  {
   "cell_type": "code",
   "execution_count": 15,
   "metadata": {},
   "outputs": [
    {
     "data": {
      "text/plain": [
       "сотрудник          11119\n",
       "компаньон           5085\n",
       "пенсионер           3856\n",
       "госслужащий         1459\n",
       "безработный            2\n",
       "предприниматель        2\n",
       "в декрете              1\n",
       "студент                1\n",
       "Name: income_type, dtype: int64"
      ]
     },
     "execution_count": 15,
     "metadata": {},
     "output_type": "execute_result"
    }
   ],
   "source": [
    "#просмотр уникальных значений столбца 'income_type'\n",
    "data['income_type'].value_counts()"
   ]
  },
  {
   "cell_type": "markdown",
   "metadata": {},
   "source": [
    "Неявных дубликатов не обнаружено. \n",
    "\n",
    "В результате анализа столбцов основной таблицы **можно удалять явные дубликаты**:"
   ]
  },
  {
   "cell_type": "code",
   "execution_count": 16,
   "metadata": {},
   "outputs": [],
   "source": [
    "# удаление явных дубликатов (с удалением старых индексов и формированием новых)\n",
    "data = data.drop_duplicates().reset_index(drop=True) "
   ]
  },
  {
   "cell_type": "markdown",
   "metadata": {},
   "source": [
    "Ещё раз посчитаем явные дубликаты в таблице — убедимся, что полностью от них избавились:"
   ]
  },
  {
   "cell_type": "code",
   "execution_count": 17,
   "metadata": {},
   "outputs": [
    {
     "data": {
      "text/plain": [
       "0"
      ]
     },
     "execution_count": 17,
     "metadata": {},
     "output_type": "execute_result"
    }
   ],
   "source": [
    "#проверка отсутствия явных дубликатов\n",
    "data.duplicated().sum()"
   ]
  },
  {
   "cell_type": "markdown",
   "metadata": {},
   "source": [
    "После удаления явных дубликатов в основной таблице исходных данных **перейдём к выделению нужной для исследования информации**:"
   ]
  },
  {
   "cell_type": "code",
   "execution_count": 18,
   "metadata": {
    "scrolled": true
   },
   "outputs": [
    {
     "data": {
      "text/html": [
       "<div>\n",
       "<style scoped>\n",
       "    .dataframe tbody tr th:only-of-type {\n",
       "        vertical-align: middle;\n",
       "    }\n",
       "\n",
       "    .dataframe tbody tr th {\n",
       "        vertical-align: top;\n",
       "    }\n",
       "\n",
       "    .dataframe thead th {\n",
       "        text-align: right;\n",
       "    }\n",
       "</style>\n",
       "<table border=\"1\" class=\"dataframe\">\n",
       "  <thead>\n",
       "    <tr style=\"text-align: right;\">\n",
       "      <th></th>\n",
       "      <th>children</th>\n",
       "      <th>family_status</th>\n",
       "      <th>family_status_id</th>\n",
       "      <th>total_income</th>\n",
       "      <th>purpose</th>\n",
       "      <th>debt</th>\n",
       "    </tr>\n",
       "  </thead>\n",
       "  <tbody>\n",
       "    <tr>\n",
       "      <th>0</th>\n",
       "      <td>1</td>\n",
       "      <td>женат / замужем</td>\n",
       "      <td>0</td>\n",
       "      <td>253875.639453</td>\n",
       "      <td>покупка жилья</td>\n",
       "      <td>0</td>\n",
       "    </tr>\n",
       "    <tr>\n",
       "      <th>1</th>\n",
       "      <td>1</td>\n",
       "      <td>женат / замужем</td>\n",
       "      <td>0</td>\n",
       "      <td>112080.014102</td>\n",
       "      <td>приобретение автомобиля</td>\n",
       "      <td>0</td>\n",
       "    </tr>\n",
       "    <tr>\n",
       "      <th>2</th>\n",
       "      <td>0</td>\n",
       "      <td>женат / замужем</td>\n",
       "      <td>0</td>\n",
       "      <td>145885.952297</td>\n",
       "      <td>покупка жилья</td>\n",
       "      <td>0</td>\n",
       "    </tr>\n",
       "    <tr>\n",
       "      <th>3</th>\n",
       "      <td>3</td>\n",
       "      <td>женат / замужем</td>\n",
       "      <td>0</td>\n",
       "      <td>267628.550329</td>\n",
       "      <td>дополнительное образование</td>\n",
       "      <td>0</td>\n",
       "    </tr>\n",
       "    <tr>\n",
       "      <th>4</th>\n",
       "      <td>0</td>\n",
       "      <td>гражданский брак</td>\n",
       "      <td>1</td>\n",
       "      <td>158616.077870</td>\n",
       "      <td>сыграть свадьбу</td>\n",
       "      <td>0</td>\n",
       "    </tr>\n",
       "    <tr>\n",
       "      <th>5</th>\n",
       "      <td>0</td>\n",
       "      <td>гражданский брак</td>\n",
       "      <td>1</td>\n",
       "      <td>255763.565419</td>\n",
       "      <td>покупка жилья</td>\n",
       "      <td>0</td>\n",
       "    </tr>\n",
       "    <tr>\n",
       "      <th>6</th>\n",
       "      <td>0</td>\n",
       "      <td>женат / замужем</td>\n",
       "      <td>0</td>\n",
       "      <td>240525.971920</td>\n",
       "      <td>операции с жильем</td>\n",
       "      <td>0</td>\n",
       "    </tr>\n",
       "    <tr>\n",
       "      <th>7</th>\n",
       "      <td>0</td>\n",
       "      <td>женат / замужем</td>\n",
       "      <td>0</td>\n",
       "      <td>135823.934197</td>\n",
       "      <td>образование</td>\n",
       "      <td>0</td>\n",
       "    </tr>\n",
       "    <tr>\n",
       "      <th>8</th>\n",
       "      <td>2</td>\n",
       "      <td>гражданский брак</td>\n",
       "      <td>1</td>\n",
       "      <td>95856.832424</td>\n",
       "      <td>на проведение свадьбы</td>\n",
       "      <td>0</td>\n",
       "    </tr>\n",
       "    <tr>\n",
       "      <th>9</th>\n",
       "      <td>0</td>\n",
       "      <td>женат / замужем</td>\n",
       "      <td>0</td>\n",
       "      <td>144425.938277</td>\n",
       "      <td>покупка жилья для семьи</td>\n",
       "      <td>0</td>\n",
       "    </tr>\n",
       "  </tbody>\n",
       "</table>\n",
       "</div>"
      ],
      "text/plain": [
       "   children     family_status  family_status_id   total_income  \\\n",
       "0         1   женат / замужем                 0  253875.639453   \n",
       "1         1   женат / замужем                 0  112080.014102   \n",
       "2         0   женат / замужем                 0  145885.952297   \n",
       "3         3   женат / замужем                 0  267628.550329   \n",
       "4         0  гражданский брак                 1  158616.077870   \n",
       "5         0  гражданский брак                 1  255763.565419   \n",
       "6         0   женат / замужем                 0  240525.971920   \n",
       "7         0   женат / замужем                 0  135823.934197   \n",
       "8         2  гражданский брак                 1   95856.832424   \n",
       "9         0   женат / замужем                 0  144425.938277   \n",
       "\n",
       "                      purpose  debt  \n",
       "0               покупка жилья     0  \n",
       "1     приобретение автомобиля     0  \n",
       "2               покупка жилья     0  \n",
       "3  дополнительное образование     0  \n",
       "4             сыграть свадьбу     0  \n",
       "5               покупка жилья     0  \n",
       "6           операции с жильем     0  \n",
       "7                 образование     0  \n",
       "8       на проведение свадьбы     0  \n",
       "9     покупка жилья для семьи     0  "
      ]
     },
     "execution_count": 18,
     "metadata": {},
     "output_type": "execute_result"
    }
   ],
   "source": [
    "# создаём новую таблицу с нужными для исследования столбцами, исходную сохраняем\n",
    "df = data[['children','family_status','family_status_id','total_income','purpose','debt']]\n",
    "df.head(10)"
   ]
  },
  {
   "cell_type": "markdown",
   "metadata": {},
   "source": [
    "Переименуем столбец `total_income`, чтобы акцентировать внимание на том, что это **месячный доход  заёмщика**:\n",
    "\n",
    "* `'total_income'` → `'monthly_income'`"
   ]
  },
  {
   "cell_type": "code",
   "execution_count": 19,
   "metadata": {},
   "outputs": [],
   "source": [
    "# переименование столбца\n",
    "df = df.rename(columns={'total_income': 'monthly_income'})"
   ]
  },
  {
   "cell_type": "markdown",
   "metadata": {},
   "source": [
    "Проверим результат. Для этого ещё раз выведем на экран названия столбцов:"
   ]
  },
  {
   "cell_type": "code",
   "execution_count": 20,
   "metadata": {},
   "outputs": [
    {
     "data": {
      "text/plain": [
       "Index(['children', 'family_status', 'family_status_id', 'monthly_income',\n",
       "       'purpose', 'debt'],\n",
       "      dtype='object')"
      ]
     },
     "execution_count": 20,
     "metadata": {},
     "output_type": "execute_result"
    }
   ],
   "source": [
    "#вывод на экран новых названий столбцов\n",
    "df.columns"
   ]
  },
  {
   "cell_type": "markdown",
   "metadata": {},
   "source": [
    "Из информации о новой таблице видим, что пропущенные значения есть в столбце `monthly_income`, которые предстоит устранить:"
   ]
  },
  {
   "cell_type": "code",
   "execution_count": 21,
   "metadata": {},
   "outputs": [
    {
     "name": "stdout",
     "output_type": "stream",
     "text": [
      "<class 'pandas.core.frame.DataFrame'>\n",
      "RangeIndex: 21454 entries, 0 to 21453\n",
      "Data columns (total 6 columns):\n",
      " #   Column            Non-Null Count  Dtype  \n",
      "---  ------            --------------  -----  \n",
      " 0   children          21454 non-null  int64  \n",
      " 1   family_status     21454 non-null  object \n",
      " 2   family_status_id  21454 non-null  int64  \n",
      " 3   monthly_income    19351 non-null  float64\n",
      " 4   purpose           21454 non-null  object \n",
      " 5   debt              21454 non-null  int64  \n",
      "dtypes: float64(1), int64(3), object(2)\n",
      "memory usage: 1005.8+ KB\n"
     ]
    }
   ],
   "source": [
    "# получение общей информации по обновлённой таблице\n",
    "df.info()"
   ]
  },
  {
   "cell_type": "markdown",
   "metadata": {},
   "source": [
    "Особенность столбца `monthly_income` - все заполненные (ненулевые) ячейки уникальны, 19351 уникальное значение (19352-ое - пропуск):"
   ]
  },
  {
   "cell_type": "code",
   "execution_count": 22,
   "metadata": {},
   "outputs": [
    {
     "data": {
      "text/plain": [
       "19352"
      ]
     },
     "execution_count": 22,
     "metadata": {},
     "output_type": "execute_result"
    }
   ],
   "source": [
    "# подсчет количества уникальных значений в стобце 'monthly_income'\n",
    "len(df['monthly_income'].unique())"
   ]
  },
  {
   "cell_type": "markdown",
   "metadata": {},
   "source": [
    "Из проверки уникальных значений столбца с информацией о наличии детей видим, что есть аномальные значения (или в какой-то мере неявные дубликаты) `20` и `-1`:"
   ]
  },
  {
   "cell_type": "code",
   "execution_count": 23,
   "metadata": {},
   "outputs": [
    {
     "data": {
      "text/plain": [
       " 0     14091\n",
       " 1      4808\n",
       " 2      2052\n",
       " 3       330\n",
       " 20       76\n",
       "-1        47\n",
       " 4        41\n",
       " 5         9\n",
       "Name: children, dtype: int64"
      ]
     },
     "execution_count": 23,
     "metadata": {},
     "output_type": "execute_result"
    }
   ],
   "source": [
    "# подсчет количества уникальных значений в стобце 'childrens'\n",
    "df['children'].value_counts()"
   ]
  },
  {
   "cell_type": "markdown",
   "metadata": {},
   "source": [
    "Проверка уникальных значений столбца о семейном положении показывает 5 категорий клиентов, среди которых не обнаружено неявных дубликатов: "
   ]
  },
  {
   "cell_type": "code",
   "execution_count": 24,
   "metadata": {},
   "outputs": [
    {
     "data": {
      "text/plain": [
       "женат / замужем          12339\n",
       "гражданский брак          4151\n",
       "Не женат / не замужем     2810\n",
       "в разводе                 1195\n",
       "вдовец / вдова             959\n",
       "Name: family_status, dtype: int64"
      ]
     },
     "execution_count": 24,
     "metadata": {},
     "output_type": "execute_result"
    }
   ],
   "source": [
    "# подсчет количества уникальных значений в стобце 'family_status'\n",
    "df['family_status'].value_counts()"
   ]
  },
  {
   "cell_type": "markdown",
   "metadata": {},
   "source": [
    "Для семейного положения введён классификатор, в котором также 5 категорий:"
   ]
  },
  {
   "cell_type": "code",
   "execution_count": 25,
   "metadata": {},
   "outputs": [
    {
     "data": {
      "text/plain": [
       "0    12339\n",
       "1     4151\n",
       "4     2810\n",
       "3     1195\n",
       "2      959\n",
       "Name: family_status_id, dtype: int64"
      ]
     },
     "execution_count": 25,
     "metadata": {},
     "output_type": "execute_result"
    }
   ],
   "source": [
    "# подсчет количества уникальных значений в стобце 'family_status_id'\n",
    "df['family_status_id'].value_counts()"
   ]
  },
  {
   "cell_type": "markdown",
   "metadata": {},
   "source": [
    "Проверим есть ли дубликаты в словаре семейного положения клиентов. Для начала создадим словарь семейного положения клиентов:"
   ]
  },
  {
   "cell_type": "code",
   "execution_count": 26,
   "metadata": {},
   "outputs": [
    {
     "data": {
      "text/html": [
       "<div>\n",
       "<style scoped>\n",
       "    .dataframe tbody tr th:only-of-type {\n",
       "        vertical-align: middle;\n",
       "    }\n",
       "\n",
       "    .dataframe tbody tr th {\n",
       "        vertical-align: top;\n",
       "    }\n",
       "\n",
       "    .dataframe thead th {\n",
       "        text-align: right;\n",
       "    }\n",
       "</style>\n",
       "<table border=\"1\" class=\"dataframe\">\n",
       "  <thead>\n",
       "    <tr style=\"text-align: right;\">\n",
       "      <th></th>\n",
       "      <th>family_status_id</th>\n",
       "      <th>family_status</th>\n",
       "    </tr>\n",
       "  </thead>\n",
       "  <tbody>\n",
       "    <tr>\n",
       "      <th>0</th>\n",
       "      <td>0</td>\n",
       "      <td>женат / замужем</td>\n",
       "    </tr>\n",
       "    <tr>\n",
       "      <th>1</th>\n",
       "      <td>0</td>\n",
       "      <td>женат / замужем</td>\n",
       "    </tr>\n",
       "    <tr>\n",
       "      <th>2</th>\n",
       "      <td>0</td>\n",
       "      <td>женат / замужем</td>\n",
       "    </tr>\n",
       "    <tr>\n",
       "      <th>3</th>\n",
       "      <td>0</td>\n",
       "      <td>женат / замужем</td>\n",
       "    </tr>\n",
       "    <tr>\n",
       "      <th>4</th>\n",
       "      <td>1</td>\n",
       "      <td>гражданский брак</td>\n",
       "    </tr>\n",
       "    <tr>\n",
       "      <th>5</th>\n",
       "      <td>1</td>\n",
       "      <td>гражданский брак</td>\n",
       "    </tr>\n",
       "    <tr>\n",
       "      <th>6</th>\n",
       "      <td>0</td>\n",
       "      <td>женат / замужем</td>\n",
       "    </tr>\n",
       "    <tr>\n",
       "      <th>7</th>\n",
       "      <td>0</td>\n",
       "      <td>женат / замужем</td>\n",
       "    </tr>\n",
       "    <tr>\n",
       "      <th>8</th>\n",
       "      <td>1</td>\n",
       "      <td>гражданский брак</td>\n",
       "    </tr>\n",
       "    <tr>\n",
       "      <th>9</th>\n",
       "      <td>0</td>\n",
       "      <td>женат / замужем</td>\n",
       "    </tr>\n",
       "  </tbody>\n",
       "</table>\n",
       "</div>"
      ],
      "text/plain": [
       "   family_status_id     family_status\n",
       "0                 0   женат / замужем\n",
       "1                 0   женат / замужем\n",
       "2                 0   женат / замужем\n",
       "3                 0   женат / замужем\n",
       "4                 1  гражданский брак\n",
       "5                 1  гражданский брак\n",
       "6                 0   женат / замужем\n",
       "7                 0   женат / замужем\n",
       "8                 1  гражданский брак\n",
       "9                 0   женат / замужем"
      ]
     },
     "execution_count": 26,
     "metadata": {},
     "output_type": "execute_result"
    }
   ],
   "source": [
    "# создание классификатора семейного положения клиентов\n",
    "family_status_dict = df[['family_status_id','family_status']]\n",
    "\n",
    "# вывод на экран первых 10 строк таблицы\n",
    "family_status_dict.head(10)"
   ]
  },
  {
   "cell_type": "markdown",
   "metadata": {},
   "source": [
    "Для проверки правильности соответствия номера `family_status_id` одному семейному положению воспользуемся методом удаления явных дубликатов. \n",
    "\n",
    "Как видно из результата, одному `family_status_id` соответствует  только одно семейное положение, значит классификатор корректен:"
   ]
  },
  {
   "cell_type": "code",
   "execution_count": 27,
   "metadata": {},
   "outputs": [
    {
     "data": {
      "text/html": [
       "<div>\n",
       "<style scoped>\n",
       "    .dataframe tbody tr th:only-of-type {\n",
       "        vertical-align: middle;\n",
       "    }\n",
       "\n",
       "    .dataframe tbody tr th {\n",
       "        vertical-align: top;\n",
       "    }\n",
       "\n",
       "    .dataframe thead th {\n",
       "        text-align: right;\n",
       "    }\n",
       "</style>\n",
       "<table border=\"1\" class=\"dataframe\">\n",
       "  <thead>\n",
       "    <tr style=\"text-align: right;\">\n",
       "      <th></th>\n",
       "      <th>family_status_id</th>\n",
       "      <th>family_status</th>\n",
       "    </tr>\n",
       "  </thead>\n",
       "  <tbody>\n",
       "    <tr>\n",
       "      <th>0</th>\n",
       "      <td>0</td>\n",
       "      <td>женат / замужем</td>\n",
       "    </tr>\n",
       "    <tr>\n",
       "      <th>1</th>\n",
       "      <td>1</td>\n",
       "      <td>гражданский брак</td>\n",
       "    </tr>\n",
       "    <tr>\n",
       "      <th>2</th>\n",
       "      <td>2</td>\n",
       "      <td>вдовец / вдова</td>\n",
       "    </tr>\n",
       "    <tr>\n",
       "      <th>3</th>\n",
       "      <td>3</td>\n",
       "      <td>в разводе</td>\n",
       "    </tr>\n",
       "    <tr>\n",
       "      <th>4</th>\n",
       "      <td>4</td>\n",
       "      <td>Не женат / не замужем</td>\n",
       "    </tr>\n",
       "  </tbody>\n",
       "</table>\n",
       "</div>"
      ],
      "text/plain": [
       "   family_status_id          family_status\n",
       "0                 0        женат / замужем\n",
       "1                 1       гражданский брак\n",
       "2                 2         вдовец / вдова\n",
       "3                 3              в разводе\n",
       "4                 4  Не женат / не замужем"
      ]
     },
     "execution_count": 27,
     "metadata": {},
     "output_type": "execute_result"
    }
   ],
   "source": [
    "#удаление дубликатов для проверки соответствия family_status_id\n",
    "#одному семейному положению\n",
    "family_status_dict = family_status_dict.drop_duplicates().reset_index(drop=True)\n",
    "\n",
    "#вывод на экран\n",
    "family_status_dict"
   ]
  },
  {
   "cell_type": "markdown",
   "metadata": {},
   "source": [
    "Анализ уникальных значений в столбце `purpose` показывает, что популярнее всего у заёмщиков свадьба, но сразу обнаружен ряд *неявных дубликатов*. С этим столбцом предстоит поработать, будем использовать категоризацию данных:"
   ]
  },
  {
   "cell_type": "code",
   "execution_count": 28,
   "metadata": {},
   "outputs": [
    {
     "data": {
      "text/plain": [
       "свадьба                                   791\n",
       "на проведение свадьбы                     768\n",
       "сыграть свадьбу                           765\n",
       "операции с недвижимостью                  675\n",
       "покупка коммерческой недвижимости         661\n",
       "операции с жильем                         652\n",
       "покупка жилья для сдачи                   651\n",
       "операции с коммерческой недвижимостью     650\n",
       "жилье                                     646\n",
       "покупка жилья                             646\n",
       "покупка жилья для семьи                   638\n",
       "строительство собственной недвижимости    635\n",
       "недвижимость                              633\n",
       "операции со своей недвижимостью           627\n",
       "строительство жилой недвижимости          624\n",
       "покупка недвижимости                      621\n",
       "покупка своего жилья                      620\n",
       "строительство недвижимости                619\n",
       "ремонт жилью                              607\n",
       "покупка жилой недвижимости                606\n",
       "на покупку своего автомобиля              505\n",
       "заняться высшим образованием              496\n",
       "автомобиль                                494\n",
       "сделка с подержанным автомобилем          486\n",
       "на покупку подержанного автомобиля        478\n",
       "свой автомобиль                           478\n",
       "автомобили                                478\n",
       "на покупку автомобиля                     471\n",
       "приобретение автомобиля                   461\n",
       "дополнительное образование                460\n",
       "сделка с автомобилем                      455\n",
       "высшее образование                        452\n",
       "образование                               447\n",
       "получение дополнительного образования     446\n",
       "получение образования                     442\n",
       "профильное образование                    436\n",
       "получение высшего образования             426\n",
       "заняться образованием                     408\n",
       "Name: purpose, dtype: int64"
      ]
     },
     "execution_count": 28,
     "metadata": {},
     "output_type": "execute_result"
    }
   ],
   "source": [
    "#подсчет количества уникальных значений в стобце 'purpose'\n",
    "#и сортировка по убыванию\n",
    "df['purpose'].value_counts().sort_values(ascending=False)"
   ]
  },
  {
   "cell_type": "markdown",
   "metadata": {},
   "source": [
    "В целевом столбце `debt` дубликатов и пропущенных значений не обнаружено:"
   ]
  },
  {
   "cell_type": "code",
   "execution_count": 29,
   "metadata": {},
   "outputs": [
    {
     "data": {
      "text/plain": [
       "0    19713\n",
       "1     1741\n",
       "Name: debt, dtype: int64"
      ]
     },
     "execution_count": 29,
     "metadata": {},
     "output_type": "execute_result"
    }
   ],
   "source": [
    "#подсчет количества уникальных значений в стобце 'debt'\n",
    "df['debt'].value_counts()"
   ]
  },
  {
   "cell_type": "markdown",
   "metadata": {},
   "source": [
    "**Вывод**\n",
    "\n",
    "В основной таблице удалены явные дубликаты после небольшой подготовки столбцов, не имеющих отношения к выдвинутым гипотезам.\n",
    "\n",
    "Выбраны столбцы из исходной таблицы, информация в которых потребуется для проверки выдвинутых гипотез.\n",
    "\n",
    "Проверен классификатор семейного положения клиентов, проблем в нём не обнаружено.\n",
    "\n",
    "Обнаружены следующие проблемы в данных, требующие дальнейшего решения:\n",
    "- пропущенные значения в столбце `monthly_income`, также в нём неудобный формат данных\n",
    "- аномалии (или неявные дубликаты `20` и `-1`) в столбце `childrens`\n",
    "- в столбце `purpose` неявные дубликаты, потребуется категоризация данных для проверки гипотезы"
   ]
  },
  {
   "cell_type": "markdown",
   "metadata": {},
   "source": [
    "### Обработка пропусков"
   ]
  },
  {
   "cell_type": "markdown",
   "metadata": {},
   "source": [
    "Как было отмечено в предыдущем разделе пропуски обнаружены в столбце `monthly_income`:"
   ]
  },
  {
   "cell_type": "code",
   "execution_count": 30,
   "metadata": {},
   "outputs": [
    {
     "data": {
      "text/plain": [
       "children               0\n",
       "family_status          0\n",
       "family_status_id       0\n",
       "monthly_income      2103\n",
       "purpose                0\n",
       "debt                   0\n",
       "dtype: int64"
      ]
     },
     "execution_count": 30,
     "metadata": {},
     "output_type": "execute_result"
    }
   ],
   "source": [
    "# подсчёт пропусков\n",
    "df.isna().sum()"
   ]
  },
  {
   "cell_type": "markdown",
   "metadata": {},
   "source": [
    "Определим тип пропусков в столбце с использованием логической индексации:"
   ]
  },
  {
   "cell_type": "code",
   "execution_count": 31,
   "metadata": {},
   "outputs": [
    {
     "data": {
      "text/html": [
       "<div>\n",
       "<style scoped>\n",
       "    .dataframe tbody tr th:only-of-type {\n",
       "        vertical-align: middle;\n",
       "    }\n",
       "\n",
       "    .dataframe tbody tr th {\n",
       "        vertical-align: top;\n",
       "    }\n",
       "\n",
       "    .dataframe thead th {\n",
       "        text-align: right;\n",
       "    }\n",
       "</style>\n",
       "<table border=\"1\" class=\"dataframe\">\n",
       "  <thead>\n",
       "    <tr style=\"text-align: right;\">\n",
       "      <th></th>\n",
       "      <th>children</th>\n",
       "      <th>family_status</th>\n",
       "      <th>family_status_id</th>\n",
       "      <th>monthly_income</th>\n",
       "      <th>purpose</th>\n",
       "      <th>debt</th>\n",
       "    </tr>\n",
       "  </thead>\n",
       "  <tbody>\n",
       "    <tr>\n",
       "      <th>12</th>\n",
       "      <td>0</td>\n",
       "      <td>гражданский брак</td>\n",
       "      <td>1</td>\n",
       "      <td>NaN</td>\n",
       "      <td>сыграть свадьбу</td>\n",
       "      <td>0</td>\n",
       "    </tr>\n",
       "    <tr>\n",
       "      <th>26</th>\n",
       "      <td>0</td>\n",
       "      <td>женат / замужем</td>\n",
       "      <td>0</td>\n",
       "      <td>NaN</td>\n",
       "      <td>образование</td>\n",
       "      <td>0</td>\n",
       "    </tr>\n",
       "    <tr>\n",
       "      <th>29</th>\n",
       "      <td>0</td>\n",
       "      <td>Не женат / не замужем</td>\n",
       "      <td>4</td>\n",
       "      <td>NaN</td>\n",
       "      <td>строительство жилой недвижимости</td>\n",
       "      <td>0</td>\n",
       "    </tr>\n",
       "    <tr>\n",
       "      <th>41</th>\n",
       "      <td>0</td>\n",
       "      <td>женат / замужем</td>\n",
       "      <td>0</td>\n",
       "      <td>NaN</td>\n",
       "      <td>сделка с подержанным автомобилем</td>\n",
       "      <td>0</td>\n",
       "    </tr>\n",
       "    <tr>\n",
       "      <th>55</th>\n",
       "      <td>0</td>\n",
       "      <td>гражданский брак</td>\n",
       "      <td>1</td>\n",
       "      <td>NaN</td>\n",
       "      <td>сыграть свадьбу</td>\n",
       "      <td>1</td>\n",
       "    </tr>\n",
       "    <tr>\n",
       "      <th>65</th>\n",
       "      <td>0</td>\n",
       "      <td>Не женат / не замужем</td>\n",
       "      <td>4</td>\n",
       "      <td>NaN</td>\n",
       "      <td>операции с коммерческой недвижимостью</td>\n",
       "      <td>0</td>\n",
       "    </tr>\n",
       "    <tr>\n",
       "      <th>67</th>\n",
       "      <td>0</td>\n",
       "      <td>женат / замужем</td>\n",
       "      <td>0</td>\n",
       "      <td>NaN</td>\n",
       "      <td>покупка жилья для семьи</td>\n",
       "      <td>0</td>\n",
       "    </tr>\n",
       "    <tr>\n",
       "      <th>72</th>\n",
       "      <td>1</td>\n",
       "      <td>женат / замужем</td>\n",
       "      <td>0</td>\n",
       "      <td>NaN</td>\n",
       "      <td>операции с коммерческой недвижимостью</td>\n",
       "      <td>0</td>\n",
       "    </tr>\n",
       "    <tr>\n",
       "      <th>82</th>\n",
       "      <td>2</td>\n",
       "      <td>женат / замужем</td>\n",
       "      <td>0</td>\n",
       "      <td>NaN</td>\n",
       "      <td>жилье</td>\n",
       "      <td>0</td>\n",
       "    </tr>\n",
       "    <tr>\n",
       "      <th>83</th>\n",
       "      <td>0</td>\n",
       "      <td>женат / замужем</td>\n",
       "      <td>0</td>\n",
       "      <td>NaN</td>\n",
       "      <td>жилье</td>\n",
       "      <td>0</td>\n",
       "    </tr>\n",
       "  </tbody>\n",
       "</table>\n",
       "</div>"
      ],
      "text/plain": [
       "    children          family_status  family_status_id  monthly_income  \\\n",
       "12         0       гражданский брак                 1             NaN   \n",
       "26         0        женат / замужем                 0             NaN   \n",
       "29         0  Не женат / не замужем                 4             NaN   \n",
       "41         0        женат / замужем                 0             NaN   \n",
       "55         0       гражданский брак                 1             NaN   \n",
       "65         0  Не женат / не замужем                 4             NaN   \n",
       "67         0        женат / замужем                 0             NaN   \n",
       "72         1        женат / замужем                 0             NaN   \n",
       "82         2        женат / замужем                 0             NaN   \n",
       "83         0        женат / замужем                 0             NaN   \n",
       "\n",
       "                                  purpose  debt  \n",
       "12                        сыграть свадьбу     0  \n",
       "26                            образование     0  \n",
       "29       строительство жилой недвижимости     0  \n",
       "41       сделка с подержанным автомобилем     0  \n",
       "55                        сыграть свадьбу     1  \n",
       "65  операции с коммерческой недвижимостью     0  \n",
       "67                покупка жилья для семьи     0  \n",
       "72  операции с коммерческой недвижимостью     0  \n",
       "82                                  жилье     0  \n",
       "83                                  жилье     0  "
      ]
     },
     "execution_count": 31,
     "metadata": {},
     "output_type": "execute_result"
    }
   ],
   "source": [
    "# вывод на экран строк с пустыми ячейками в столбце 'monthly_income'\n",
    "df[df['monthly_income'].isna()==True].head(10)"
   ]
  },
  {
   "cell_type": "markdown",
   "metadata": {},
   "source": [
    "Видим значение NaN. Причина появления - скорее всего некорректная выгрузка данных, так как при получении кредита заёмщик обязан подтвердить доход. Так как это неполностью пропущенные строчки в таблице, то их желательно сохранить для исследования. Более того, так как мы работаем с информацией о выданных кредитах, то в списке клиентов вероятнее всего люди, имеющие доход. Поэтому правильнее будет заполнить таблицу **медианной зарплатой** по списку. Это решение можно подкрепить количеством клиентов с пропущенным доходом, не имеющих долгов по кредиту:"
   ]
  },
  {
   "cell_type": "code",
   "execution_count": 32,
   "metadata": {},
   "outputs": [
    {
     "data": {
      "text/plain": [
       "1933"
      ]
     },
     "execution_count": 32,
     "metadata": {},
     "output_type": "execute_result"
    }
   ],
   "source": [
    "# количество строк в таблице клиентов с пустой ячейков в 'monthly_income',\n",
    "# у которых нет долгов по кредиту\n",
    "len(df[(df['monthly_income'].isna()==True)& (df['debt']==0)]['monthly_income'])"
   ]
  },
  {
   "cell_type": "markdown",
   "metadata": {},
   "source": [
    "Медианная зарплата клиентов банка:"
   ]
  },
  {
   "cell_type": "code",
   "execution_count": 33,
   "metadata": {
    "scrolled": true
   },
   "outputs": [
    {
     "data": {
      "text/plain": [
       "145018.0"
      ]
     },
     "execution_count": 33,
     "metadata": {},
     "output_type": "execute_result"
    }
   ],
   "source": [
    "#медианная месячная зарплата клиентов банка\n",
    "median_monthly_income = df['monthly_income'].median()\n",
    "\n",
    "#вывод на экран её значения\n",
    "round(median_monthly_income,0)"
   ]
  },
  {
   "cell_type": "markdown",
   "metadata": {},
   "source": [
    "Очевидно, что средняя немного выше, поэтому далее будем работать с медианной:"
   ]
  },
  {
   "cell_type": "code",
   "execution_count": 34,
   "metadata": {},
   "outputs": [
    {
     "data": {
      "text/plain": [
       "167422.0"
      ]
     },
     "execution_count": 34,
     "metadata": {},
     "output_type": "execute_result"
    }
   ],
   "source": [
    "#средняя месячная зарплата клиентов банка\n",
    "round(df['monthly_income'].mean(),0)"
   ]
  },
  {
   "cell_type": "markdown",
   "metadata": {},
   "source": [
    "Заменим пустые ячейки столбца `monthly_income` медианной зарплатой клиентов с помощью метода `fillna()`:"
   ]
  },
  {
   "cell_type": "code",
   "execution_count": 35,
   "metadata": {
    "scrolled": true
   },
   "outputs": [
    {
     "data": {
      "text/plain": [
       "145018.0"
      ]
     },
     "execution_count": 35,
     "metadata": {},
     "output_type": "execute_result"
    }
   ],
   "source": [
    "#заменяем пустые ячейки в столбце 'monthly_income' медианной зарплатой клиентов\n",
    "df['monthly_income'] = df['monthly_income'].fillna(value=median_monthly_income)\n",
    "\n",
    "#проверяем изменилась ли медианная зарплата после заполнения ячеек\n",
    "round(df['monthly_income'].median(),0)"
   ]
  },
  {
   "cell_type": "markdown",
   "metadata": {},
   "source": [
    "Заполнение пустых ячеек медианной зарплатой несколько снизило среднюю, но незначительно, соответственно, не должно ухудшить результаты исследования:"
   ]
  },
  {
   "cell_type": "code",
   "execution_count": 36,
   "metadata": {},
   "outputs": [
    {
     "data": {
      "text/plain": [
       "165226.0"
      ]
     },
     "execution_count": 36,
     "metadata": {},
     "output_type": "execute_result"
    }
   ],
   "source": [
    "#средняя месячная зарплата клиентов банка\n",
    "round(df['monthly_income'].mean(),0)"
   ]
  },
  {
   "cell_type": "markdown",
   "metadata": {},
   "source": [
    "Проверим успешность заполнения пропусков:"
   ]
  },
  {
   "cell_type": "code",
   "execution_count": 37,
   "metadata": {},
   "outputs": [
    {
     "data": {
      "text/plain": [
       "children            0\n",
       "family_status       0\n",
       "family_status_id    0\n",
       "monthly_income      0\n",
       "purpose             0\n",
       "debt                0\n",
       "dtype: int64"
      ]
     },
     "execution_count": 37,
     "metadata": {},
     "output_type": "execute_result"
    }
   ],
   "source": [
    "# подсчёт пропусков\n",
    "df.isna().sum()"
   ]
  },
  {
   "cell_type": "markdown",
   "metadata": {},
   "source": [
    "**Вывод**"
   ]
  },
  {
   "cell_type": "markdown",
   "metadata": {},
   "source": [
    "Пропуски в столбце `montly_income` заменены на медианную зарплату клиентов. Решение обосновано, так как большинство клиентов с пропущенным доходом не имеют долгов по кредиту. Далее заменим тип данных в этом столбце для удобства."
   ]
  },
  {
   "cell_type": "markdown",
   "metadata": {},
   "source": [
    "### Замена типа данных"
   ]
  },
  {
   "cell_type": "markdown",
   "metadata": {},
   "source": [
    "Приведём ежемесячный доход клиентов банка к целочисленному формату для удобства отображения. Для этого используем метод `astype`, как наиболее подходящий для этой цели:"
   ]
  },
  {
   "cell_type": "code",
   "execution_count": 38,
   "metadata": {},
   "outputs": [],
   "source": [
    "#приведём доход клиентов банка к целочисленному формату\n",
    "df['monthly_income'] = df['monthly_income'].astype('int')"
   ]
  },
  {
   "cell_type": "markdown",
   "metadata": {},
   "source": [
    "Проверим результат, выведем на экран 10 строк таблицы:"
   ]
  },
  {
   "cell_type": "code",
   "execution_count": 39,
   "metadata": {},
   "outputs": [
    {
     "data": {
      "text/html": [
       "<div>\n",
       "<style scoped>\n",
       "    .dataframe tbody tr th:only-of-type {\n",
       "        vertical-align: middle;\n",
       "    }\n",
       "\n",
       "    .dataframe tbody tr th {\n",
       "        vertical-align: top;\n",
       "    }\n",
       "\n",
       "    .dataframe thead th {\n",
       "        text-align: right;\n",
       "    }\n",
       "</style>\n",
       "<table border=\"1\" class=\"dataframe\">\n",
       "  <thead>\n",
       "    <tr style=\"text-align: right;\">\n",
       "      <th></th>\n",
       "      <th>children</th>\n",
       "      <th>family_status</th>\n",
       "      <th>family_status_id</th>\n",
       "      <th>monthly_income</th>\n",
       "      <th>purpose</th>\n",
       "      <th>debt</th>\n",
       "    </tr>\n",
       "  </thead>\n",
       "  <tbody>\n",
       "    <tr>\n",
       "      <th>0</th>\n",
       "      <td>1</td>\n",
       "      <td>женат / замужем</td>\n",
       "      <td>0</td>\n",
       "      <td>253875</td>\n",
       "      <td>покупка жилья</td>\n",
       "      <td>0</td>\n",
       "    </tr>\n",
       "    <tr>\n",
       "      <th>1</th>\n",
       "      <td>1</td>\n",
       "      <td>женат / замужем</td>\n",
       "      <td>0</td>\n",
       "      <td>112080</td>\n",
       "      <td>приобретение автомобиля</td>\n",
       "      <td>0</td>\n",
       "    </tr>\n",
       "    <tr>\n",
       "      <th>2</th>\n",
       "      <td>0</td>\n",
       "      <td>женат / замужем</td>\n",
       "      <td>0</td>\n",
       "      <td>145885</td>\n",
       "      <td>покупка жилья</td>\n",
       "      <td>0</td>\n",
       "    </tr>\n",
       "    <tr>\n",
       "      <th>3</th>\n",
       "      <td>3</td>\n",
       "      <td>женат / замужем</td>\n",
       "      <td>0</td>\n",
       "      <td>267628</td>\n",
       "      <td>дополнительное образование</td>\n",
       "      <td>0</td>\n",
       "    </tr>\n",
       "    <tr>\n",
       "      <th>4</th>\n",
       "      <td>0</td>\n",
       "      <td>гражданский брак</td>\n",
       "      <td>1</td>\n",
       "      <td>158616</td>\n",
       "      <td>сыграть свадьбу</td>\n",
       "      <td>0</td>\n",
       "    </tr>\n",
       "    <tr>\n",
       "      <th>5</th>\n",
       "      <td>0</td>\n",
       "      <td>гражданский брак</td>\n",
       "      <td>1</td>\n",
       "      <td>255763</td>\n",
       "      <td>покупка жилья</td>\n",
       "      <td>0</td>\n",
       "    </tr>\n",
       "    <tr>\n",
       "      <th>6</th>\n",
       "      <td>0</td>\n",
       "      <td>женат / замужем</td>\n",
       "      <td>0</td>\n",
       "      <td>240525</td>\n",
       "      <td>операции с жильем</td>\n",
       "      <td>0</td>\n",
       "    </tr>\n",
       "    <tr>\n",
       "      <th>7</th>\n",
       "      <td>0</td>\n",
       "      <td>женат / замужем</td>\n",
       "      <td>0</td>\n",
       "      <td>135823</td>\n",
       "      <td>образование</td>\n",
       "      <td>0</td>\n",
       "    </tr>\n",
       "    <tr>\n",
       "      <th>8</th>\n",
       "      <td>2</td>\n",
       "      <td>гражданский брак</td>\n",
       "      <td>1</td>\n",
       "      <td>95856</td>\n",
       "      <td>на проведение свадьбы</td>\n",
       "      <td>0</td>\n",
       "    </tr>\n",
       "    <tr>\n",
       "      <th>9</th>\n",
       "      <td>0</td>\n",
       "      <td>женат / замужем</td>\n",
       "      <td>0</td>\n",
       "      <td>144425</td>\n",
       "      <td>покупка жилья для семьи</td>\n",
       "      <td>0</td>\n",
       "    </tr>\n",
       "  </tbody>\n",
       "</table>\n",
       "</div>"
      ],
      "text/plain": [
       "   children     family_status  family_status_id  monthly_income  \\\n",
       "0         1   женат / замужем                 0          253875   \n",
       "1         1   женат / замужем                 0          112080   \n",
       "2         0   женат / замужем                 0          145885   \n",
       "3         3   женат / замужем                 0          267628   \n",
       "4         0  гражданский брак                 1          158616   \n",
       "5         0  гражданский брак                 1          255763   \n",
       "6         0   женат / замужем                 0          240525   \n",
       "7         0   женат / замужем                 0          135823   \n",
       "8         2  гражданский брак                 1           95856   \n",
       "9         0   женат / замужем                 0          144425   \n",
       "\n",
       "                      purpose  debt  \n",
       "0               покупка жилья     0  \n",
       "1     приобретение автомобиля     0  \n",
       "2               покупка жилья     0  \n",
       "3  дополнительное образование     0  \n",
       "4             сыграть свадьбу     0  \n",
       "5               покупка жилья     0  \n",
       "6           операции с жильем     0  \n",
       "7                 образование     0  \n",
       "8       на проведение свадьбы     0  \n",
       "9     покупка жилья для семьи     0  "
      ]
     },
     "execution_count": 39,
     "metadata": {},
     "output_type": "execute_result"
    }
   ],
   "source": [
    "# выведем на экран 10 строк таблицы\n",
    "df.head(10)"
   ]
  },
  {
   "cell_type": "markdown",
   "metadata": {},
   "source": [
    "**Вывод**"
   ]
  },
  {
   "cell_type": "markdown",
   "metadata": {},
   "source": [
    "Формат столбца доходов клиентов банка изменён на целочисленный формат для удобства."
   ]
  },
  {
   "cell_type": "markdown",
   "metadata": {},
   "source": [
    "### Обработка дубликатов"
   ]
  },
  {
   "cell_type": "markdown",
   "metadata": {},
   "source": [
    "В выбранных для анализа данных обнаружено достаточно большое количество явных дубликатов, больше чем в основной таблице исходных данных `data`:"
   ]
  },
  {
   "cell_type": "code",
   "execution_count": 40,
   "metadata": {},
   "outputs": [
    {
     "data": {
      "text/plain": [
       "1619"
      ]
     },
     "execution_count": 40,
     "metadata": {},
     "output_type": "execute_result"
    }
   ],
   "source": [
    "#явные дубликаты в столбцах, выбранных для проверки гипотез\n",
    "df[df.duplicated()]['children'].count()"
   ]
  },
  {
   "cell_type": "markdown",
   "metadata": {},
   "source": [
    "Однако их не следует удалять, так как рассматриваются разные люди, о чем было сказано выше. Явные дубликаты из исходного набора данных удалены ранее. Новые явные дубликаты появились, когда мы исключили из рассмотрения не влияющие на результат проверки гипотез столбцы."
   ]
  },
  {
   "cell_type": "markdown",
   "metadata": {},
   "source": [
    "Решим проблему с аномалиями (неявными дубликатами) в столбце `children`:"
   ]
  },
  {
   "cell_type": "code",
   "execution_count": 41,
   "metadata": {},
   "outputs": [
    {
     "data": {
      "text/plain": [
       " 0     14091\n",
       " 1      4808\n",
       " 2      2052\n",
       " 3       330\n",
       " 20       76\n",
       "-1        47\n",
       " 4        41\n",
       " 5         9\n",
       "Name: children, dtype: int64"
      ]
     },
     "execution_count": 41,
     "metadata": {},
     "output_type": "execute_result"
    }
   ],
   "source": [
    "#подсчет количества уникальных значений в стобце 'children'\n",
    "df['children'].value_counts()"
   ]
  },
  {
   "cell_type": "markdown",
   "metadata": {},
   "source": [
    "Предположим, что `20` и `-1` - это неявные дубликаты значений `2` и `1`. Причина их появления - вероятнее всего - человеческий фактор. `-1` также может быть маркером, обозначающим что-то. \n",
    "\n",
    "Заменим с помощью метода `replace` и сразу проверим результат замены."
   ]
  },
  {
   "cell_type": "code",
   "execution_count": 42,
   "metadata": {},
   "outputs": [
    {
     "data": {
      "text/plain": [
       "0    14091\n",
       "1     4855\n",
       "2     2128\n",
       "3      330\n",
       "4       41\n",
       "5        9\n",
       "Name: children, dtype: int64"
      ]
     },
     "execution_count": 42,
     "metadata": {},
     "output_type": "execute_result"
    }
   ],
   "source": [
    "#заменая неявных дубликатов\n",
    "df['children']=df['children'].replace(20,2)\n",
    "df['children']=df['children'].replace(-1,1)\n",
    "\n",
    "#проверка результата замены\n",
    "df['children'].value_counts()"
   ]
  },
  {
   "cell_type": "markdown",
   "metadata": {},
   "source": [
    "Также, учитывая долю этих значений (в сумме около 0,56%):"
   ]
  },
  {
   "cell_type": "code",
   "execution_count": 43,
   "metadata": {},
   "outputs": [
    {
     "name": "stdout",
     "output_type": "stream",
     "text": [
      "0.3542%\n"
     ]
    }
   ],
   "source": [
    "## процент с '20' детьми\n",
    "print('{:.4%}'.format(76/len(df['children'])))"
   ]
  },
  {
   "cell_type": "code",
   "execution_count": 44,
   "metadata": {},
   "outputs": [
    {
     "name": "stdout",
     "output_type": "stream",
     "text": [
      "0.2191%\n"
     ]
    }
   ],
   "source": [
    "#процент с '-1' детьми\n",
    "print('{:.4%}'.format(47/len(df['children'])))"
   ]
  },
  {
   "cell_type": "markdown",
   "metadata": {},
   "source": [
    "Можно было бы от них избавиться, но в данном случае поступим консервативно."
   ]
  },
  {
   "cell_type": "markdown",
   "metadata": {},
   "source": [
    "**Вывод**"
   ]
  },
  {
   "cell_type": "markdown",
   "metadata": {},
   "source": [
    "Явные дубликаты удалены перед подготовкой исходной таблицы к анализу. Неявные дубликаты устранены в столбце `children`. Дальнейшее устранение дубликатов в столбце `purpose` требует лемматизации и категоризации."
   ]
  },
  {
   "cell_type": "markdown",
   "metadata": {},
   "source": [
    "### Лемматизация и категоризация данных"
   ]
  },
  {
   "cell_type": "markdown",
   "metadata": {},
   "source": [
    "Рассмотрим уникальные значения столбца `purpose`:"
   ]
  },
  {
   "cell_type": "code",
   "execution_count": 45,
   "metadata": {},
   "outputs": [
    {
     "data": {
      "text/plain": [
       "array(['покупка жилья', 'приобретение автомобиля',\n",
       "       'дополнительное образование', 'сыграть свадьбу',\n",
       "       'операции с жильем', 'образование', 'на проведение свадьбы',\n",
       "       'покупка жилья для семьи', 'покупка недвижимости',\n",
       "       'покупка коммерческой недвижимости', 'покупка жилой недвижимости',\n",
       "       'строительство собственной недвижимости', 'недвижимость',\n",
       "       'строительство недвижимости', 'на покупку подержанного автомобиля',\n",
       "       'на покупку своего автомобиля',\n",
       "       'операции с коммерческой недвижимостью',\n",
       "       'строительство жилой недвижимости', 'жилье',\n",
       "       'операции со своей недвижимостью', 'автомобили',\n",
       "       'заняться образованием', 'сделка с подержанным автомобилем',\n",
       "       'получение образования', 'автомобиль', 'свадьба',\n",
       "       'получение дополнительного образования', 'покупка своего жилья',\n",
       "       'операции с недвижимостью', 'получение высшего образования',\n",
       "       'свой автомобиль', 'сделка с автомобилем',\n",
       "       'профильное образование', 'высшее образование',\n",
       "       'покупка жилья для сдачи', 'на покупку автомобиля', 'ремонт жилью',\n",
       "       'заняться высшим образованием'], dtype=object)"
      ]
     },
     "execution_count": 45,
     "metadata": {},
     "output_type": "execute_result"
    }
   ],
   "source": [
    "#вывод на экран уникальных значений\n",
    "df['purpose'].unique()"
   ]
  },
  {
   "cell_type": "markdown",
   "metadata": {},
   "source": [
    "Общее количество уникальных значений столбца `purpose`:"
   ]
  },
  {
   "cell_type": "code",
   "execution_count": 46,
   "metadata": {},
   "outputs": [
    {
     "data": {
      "text/plain": [
       "38"
      ]
     },
     "execution_count": 46,
     "metadata": {},
     "output_type": "execute_result"
    }
   ],
   "source": [
    "#количество уникальных значений целей кредита\n",
    "len(df['purpose'].unique())"
   ]
  },
  {
   "cell_type": "markdown",
   "metadata": {},
   "source": [
    "Чтобы избежать неявных дубликатов в столбце `purpose` проведём лемматизацию целей и категоризацию по ним. Для этого выделем 4 категории целей кредита:\n",
    "- покупка автомобиля\n",
    "- свадьба\n",
    "- образование\n",
    "- операции с недвижимостью\n",
    "\n",
    "Для лемматизации и категоризации целей кредита составим специальную функцию `lemma_group` с использованием библиотеки `pymystem3`:"
   ]
  },
  {
   "cell_type": "code",
   "execution_count": 47,
   "metadata": {},
   "outputs": [],
   "source": [
    "def lemma_group(purpose):\n",
    "#    Возвращает категорию целей кредита, используя правила:\n",
    "#    - если в цели кредита есть лемма 'автомобиль', \n",
    "#      то категория \"покупка автомобиля\";\n",
    "#    - если в цели кредита есть лемма 'свадьба', \n",
    "#      то категория \"свадьба\";\n",
    "#    - если в цели кредита есть лемма 'образование', \n",
    "#      то категория \"образование\";\n",
    "#    - если в цели кредита есть леммы 'жильё' или 'недвижимость', \n",
    "#      то категория \"операции с недвижимостью\";\n",
    "\n",
    "    \n",
    "    lemmas = m.lemmatize(purpose)\n",
    "    \n",
    "    if ('жилье' in lemmas) or ('недвижимость' in lemmas):\n",
    "        return 'операции с недвижимостью'\n",
    "    if 'автомобиль' in lemmas:\n",
    "        return 'покупка автомобиля'\n",
    "    if 'свадьба' in lemmas:\n",
    "        return 'свадьба'\n",
    "    if 'образование' in lemmas:\n",
    "        return 'образование'\n"
   ]
  },
  {
   "cell_type": "markdown",
   "metadata": {},
   "source": [
    "Проверим результат работы функции. Для этого создадим новый столбец `purpose_group`, сохраним в него результат применения созданной нами функции, выведем на экран уникальные значения категорий:"
   ]
  },
  {
   "cell_type": "code",
   "execution_count": 48,
   "metadata": {},
   "outputs": [
    {
     "data": {
      "text/plain": [
       "array(['операции с недвижимостью', 'покупка автомобиля', 'образование',\n",
       "       'свадьба'], dtype=object)"
      ]
     },
     "execution_count": 48,
     "metadata": {},
     "output_type": "execute_result"
    }
   ],
   "source": [
    "#создание нового столбца и применение функции\n",
    "df['purpose_group']=df['purpose'].apply(lemma_group)\n",
    "\n",
    "#Вывод уникальных значений - новых категорий целей кредита\n",
    "df['purpose_group'].unique()"
   ]
  },
  {
   "cell_type": "markdown",
   "metadata": {},
   "source": [
    "Составим словарь соотвествия целей кредита заданной нами категории:"
   ]
  },
  {
   "cell_type": "code",
   "execution_count": 49,
   "metadata": {},
   "outputs": [
    {
     "data": {
      "text/html": [
       "<div>\n",
       "<style scoped>\n",
       "    .dataframe tbody tr th:only-of-type {\n",
       "        vertical-align: middle;\n",
       "    }\n",
       "\n",
       "    .dataframe tbody tr th {\n",
       "        vertical-align: top;\n",
       "    }\n",
       "\n",
       "    .dataframe thead th {\n",
       "        text-align: right;\n",
       "    }\n",
       "</style>\n",
       "<table border=\"1\" class=\"dataframe\">\n",
       "  <thead>\n",
       "    <tr style=\"text-align: right;\">\n",
       "      <th></th>\n",
       "      <th>purpose_group</th>\n",
       "      <th>purpose</th>\n",
       "    </tr>\n",
       "  </thead>\n",
       "  <tbody>\n",
       "    <tr>\n",
       "      <th>0</th>\n",
       "      <td>операции с недвижимостью</td>\n",
       "      <td>покупка жилья</td>\n",
       "    </tr>\n",
       "    <tr>\n",
       "      <th>1</th>\n",
       "      <td>покупка автомобиля</td>\n",
       "      <td>приобретение автомобиля</td>\n",
       "    </tr>\n",
       "    <tr>\n",
       "      <th>2</th>\n",
       "      <td>операции с недвижимостью</td>\n",
       "      <td>покупка жилья</td>\n",
       "    </tr>\n",
       "    <tr>\n",
       "      <th>3</th>\n",
       "      <td>образование</td>\n",
       "      <td>дополнительное образование</td>\n",
       "    </tr>\n",
       "    <tr>\n",
       "      <th>4</th>\n",
       "      <td>свадьба</td>\n",
       "      <td>сыграть свадьбу</td>\n",
       "    </tr>\n",
       "    <tr>\n",
       "      <th>5</th>\n",
       "      <td>операции с недвижимостью</td>\n",
       "      <td>покупка жилья</td>\n",
       "    </tr>\n",
       "    <tr>\n",
       "      <th>6</th>\n",
       "      <td>операции с недвижимостью</td>\n",
       "      <td>операции с жильем</td>\n",
       "    </tr>\n",
       "    <tr>\n",
       "      <th>7</th>\n",
       "      <td>образование</td>\n",
       "      <td>образование</td>\n",
       "    </tr>\n",
       "    <tr>\n",
       "      <th>8</th>\n",
       "      <td>свадьба</td>\n",
       "      <td>на проведение свадьбы</td>\n",
       "    </tr>\n",
       "    <tr>\n",
       "      <th>9</th>\n",
       "      <td>операции с недвижимостью</td>\n",
       "      <td>покупка жилья для семьи</td>\n",
       "    </tr>\n",
       "  </tbody>\n",
       "</table>\n",
       "</div>"
      ],
      "text/plain": [
       "              purpose_group                     purpose\n",
       "0  операции с недвижимостью               покупка жилья\n",
       "1        покупка автомобиля     приобретение автомобиля\n",
       "2  операции с недвижимостью               покупка жилья\n",
       "3               образование  дополнительное образование\n",
       "4                   свадьба             сыграть свадьбу\n",
       "5  операции с недвижимостью               покупка жилья\n",
       "6  операции с недвижимостью           операции с жильем\n",
       "7               образование                 образование\n",
       "8                   свадьба       на проведение свадьбы\n",
       "9  операции с недвижимостью     покупка жилья для семьи"
      ]
     },
     "execution_count": 49,
     "metadata": {},
     "output_type": "execute_result"
    }
   ],
   "source": [
    "#словарь соответсвия целей кредита заданной категории\n",
    "purpose_dict = df[['purpose_group','purpose']]\n",
    "\n",
    "#Вывод на экран первых 10 значений:\n",
    "purpose_dict.head(10)"
   ]
  },
  {
   "cell_type": "markdown",
   "metadata": {},
   "source": [
    "Теперь проверим правильность соответствия категории цели кредита. \n",
    "Для этого в словаре целей удалим явные дубликаты и обновим нумерацию, удалив старую:"
   ]
  },
  {
   "cell_type": "code",
   "execution_count": 50,
   "metadata": {
    "scrolled": false
   },
   "outputs": [
    {
     "data": {
      "text/html": [
       "<div>\n",
       "<style scoped>\n",
       "    .dataframe tbody tr th:only-of-type {\n",
       "        vertical-align: middle;\n",
       "    }\n",
       "\n",
       "    .dataframe tbody tr th {\n",
       "        vertical-align: top;\n",
       "    }\n",
       "\n",
       "    .dataframe thead th {\n",
       "        text-align: right;\n",
       "    }\n",
       "</style>\n",
       "<table border=\"1\" class=\"dataframe\">\n",
       "  <thead>\n",
       "    <tr style=\"text-align: right;\">\n",
       "      <th></th>\n",
       "      <th>purpose_group</th>\n",
       "      <th>purpose</th>\n",
       "    </tr>\n",
       "  </thead>\n",
       "  <tbody>\n",
       "    <tr>\n",
       "      <th>0</th>\n",
       "      <td>операции с недвижимостью</td>\n",
       "      <td>покупка жилья</td>\n",
       "    </tr>\n",
       "    <tr>\n",
       "      <th>1</th>\n",
       "      <td>покупка автомобиля</td>\n",
       "      <td>приобретение автомобиля</td>\n",
       "    </tr>\n",
       "    <tr>\n",
       "      <th>2</th>\n",
       "      <td>образование</td>\n",
       "      <td>дополнительное образование</td>\n",
       "    </tr>\n",
       "    <tr>\n",
       "      <th>3</th>\n",
       "      <td>свадьба</td>\n",
       "      <td>сыграть свадьбу</td>\n",
       "    </tr>\n",
       "    <tr>\n",
       "      <th>4</th>\n",
       "      <td>операции с недвижимостью</td>\n",
       "      <td>операции с жильем</td>\n",
       "    </tr>\n",
       "    <tr>\n",
       "      <th>5</th>\n",
       "      <td>образование</td>\n",
       "      <td>образование</td>\n",
       "    </tr>\n",
       "    <tr>\n",
       "      <th>6</th>\n",
       "      <td>свадьба</td>\n",
       "      <td>на проведение свадьбы</td>\n",
       "    </tr>\n",
       "    <tr>\n",
       "      <th>7</th>\n",
       "      <td>операции с недвижимостью</td>\n",
       "      <td>покупка жилья для семьи</td>\n",
       "    </tr>\n",
       "    <tr>\n",
       "      <th>8</th>\n",
       "      <td>операции с недвижимостью</td>\n",
       "      <td>покупка недвижимости</td>\n",
       "    </tr>\n",
       "    <tr>\n",
       "      <th>9</th>\n",
       "      <td>операции с недвижимостью</td>\n",
       "      <td>покупка коммерческой недвижимости</td>\n",
       "    </tr>\n",
       "    <tr>\n",
       "      <th>10</th>\n",
       "      <td>операции с недвижимостью</td>\n",
       "      <td>покупка жилой недвижимости</td>\n",
       "    </tr>\n",
       "    <tr>\n",
       "      <th>11</th>\n",
       "      <td>операции с недвижимостью</td>\n",
       "      <td>строительство собственной недвижимости</td>\n",
       "    </tr>\n",
       "    <tr>\n",
       "      <th>12</th>\n",
       "      <td>операции с недвижимостью</td>\n",
       "      <td>недвижимость</td>\n",
       "    </tr>\n",
       "    <tr>\n",
       "      <th>13</th>\n",
       "      <td>операции с недвижимостью</td>\n",
       "      <td>строительство недвижимости</td>\n",
       "    </tr>\n",
       "    <tr>\n",
       "      <th>14</th>\n",
       "      <td>покупка автомобиля</td>\n",
       "      <td>на покупку подержанного автомобиля</td>\n",
       "    </tr>\n",
       "    <tr>\n",
       "      <th>15</th>\n",
       "      <td>покупка автомобиля</td>\n",
       "      <td>на покупку своего автомобиля</td>\n",
       "    </tr>\n",
       "    <tr>\n",
       "      <th>16</th>\n",
       "      <td>операции с недвижимостью</td>\n",
       "      <td>операции с коммерческой недвижимостью</td>\n",
       "    </tr>\n",
       "    <tr>\n",
       "      <th>17</th>\n",
       "      <td>операции с недвижимостью</td>\n",
       "      <td>строительство жилой недвижимости</td>\n",
       "    </tr>\n",
       "    <tr>\n",
       "      <th>18</th>\n",
       "      <td>операции с недвижимостью</td>\n",
       "      <td>жилье</td>\n",
       "    </tr>\n",
       "    <tr>\n",
       "      <th>19</th>\n",
       "      <td>операции с недвижимостью</td>\n",
       "      <td>операции со своей недвижимостью</td>\n",
       "    </tr>\n",
       "    <tr>\n",
       "      <th>20</th>\n",
       "      <td>покупка автомобиля</td>\n",
       "      <td>автомобили</td>\n",
       "    </tr>\n",
       "    <tr>\n",
       "      <th>21</th>\n",
       "      <td>образование</td>\n",
       "      <td>заняться образованием</td>\n",
       "    </tr>\n",
       "    <tr>\n",
       "      <th>22</th>\n",
       "      <td>покупка автомобиля</td>\n",
       "      <td>сделка с подержанным автомобилем</td>\n",
       "    </tr>\n",
       "    <tr>\n",
       "      <th>23</th>\n",
       "      <td>образование</td>\n",
       "      <td>получение образования</td>\n",
       "    </tr>\n",
       "    <tr>\n",
       "      <th>24</th>\n",
       "      <td>покупка автомобиля</td>\n",
       "      <td>автомобиль</td>\n",
       "    </tr>\n",
       "    <tr>\n",
       "      <th>25</th>\n",
       "      <td>свадьба</td>\n",
       "      <td>свадьба</td>\n",
       "    </tr>\n",
       "    <tr>\n",
       "      <th>26</th>\n",
       "      <td>образование</td>\n",
       "      <td>получение дополнительного образования</td>\n",
       "    </tr>\n",
       "    <tr>\n",
       "      <th>27</th>\n",
       "      <td>операции с недвижимостью</td>\n",
       "      <td>покупка своего жилья</td>\n",
       "    </tr>\n",
       "    <tr>\n",
       "      <th>28</th>\n",
       "      <td>операции с недвижимостью</td>\n",
       "      <td>операции с недвижимостью</td>\n",
       "    </tr>\n",
       "    <tr>\n",
       "      <th>29</th>\n",
       "      <td>образование</td>\n",
       "      <td>получение высшего образования</td>\n",
       "    </tr>\n",
       "    <tr>\n",
       "      <th>30</th>\n",
       "      <td>покупка автомобиля</td>\n",
       "      <td>свой автомобиль</td>\n",
       "    </tr>\n",
       "    <tr>\n",
       "      <th>31</th>\n",
       "      <td>покупка автомобиля</td>\n",
       "      <td>сделка с автомобилем</td>\n",
       "    </tr>\n",
       "    <tr>\n",
       "      <th>32</th>\n",
       "      <td>образование</td>\n",
       "      <td>профильное образование</td>\n",
       "    </tr>\n",
       "    <tr>\n",
       "      <th>33</th>\n",
       "      <td>образование</td>\n",
       "      <td>высшее образование</td>\n",
       "    </tr>\n",
       "    <tr>\n",
       "      <th>34</th>\n",
       "      <td>операции с недвижимостью</td>\n",
       "      <td>покупка жилья для сдачи</td>\n",
       "    </tr>\n",
       "    <tr>\n",
       "      <th>35</th>\n",
       "      <td>покупка автомобиля</td>\n",
       "      <td>на покупку автомобиля</td>\n",
       "    </tr>\n",
       "    <tr>\n",
       "      <th>36</th>\n",
       "      <td>операции с недвижимостью</td>\n",
       "      <td>ремонт жилью</td>\n",
       "    </tr>\n",
       "    <tr>\n",
       "      <th>37</th>\n",
       "      <td>образование</td>\n",
       "      <td>заняться высшим образованием</td>\n",
       "    </tr>\n",
       "  </tbody>\n",
       "</table>\n",
       "</div>"
      ],
      "text/plain": [
       "               purpose_group                                 purpose\n",
       "0   операции с недвижимостью                           покупка жилья\n",
       "1         покупка автомобиля                 приобретение автомобиля\n",
       "2                образование              дополнительное образование\n",
       "3                    свадьба                         сыграть свадьбу\n",
       "4   операции с недвижимостью                       операции с жильем\n",
       "5                образование                             образование\n",
       "6                    свадьба                   на проведение свадьбы\n",
       "7   операции с недвижимостью                 покупка жилья для семьи\n",
       "8   операции с недвижимостью                    покупка недвижимости\n",
       "9   операции с недвижимостью       покупка коммерческой недвижимости\n",
       "10  операции с недвижимостью              покупка жилой недвижимости\n",
       "11  операции с недвижимостью  строительство собственной недвижимости\n",
       "12  операции с недвижимостью                            недвижимость\n",
       "13  операции с недвижимостью              строительство недвижимости\n",
       "14        покупка автомобиля      на покупку подержанного автомобиля\n",
       "15        покупка автомобиля            на покупку своего автомобиля\n",
       "16  операции с недвижимостью   операции с коммерческой недвижимостью\n",
       "17  операции с недвижимостью        строительство жилой недвижимости\n",
       "18  операции с недвижимостью                                   жилье\n",
       "19  операции с недвижимостью         операции со своей недвижимостью\n",
       "20        покупка автомобиля                              автомобили\n",
       "21               образование                   заняться образованием\n",
       "22        покупка автомобиля        сделка с подержанным автомобилем\n",
       "23               образование                   получение образования\n",
       "24        покупка автомобиля                              автомобиль\n",
       "25                   свадьба                                 свадьба\n",
       "26               образование   получение дополнительного образования\n",
       "27  операции с недвижимостью                    покупка своего жилья\n",
       "28  операции с недвижимостью                операции с недвижимостью\n",
       "29               образование           получение высшего образования\n",
       "30        покупка автомобиля                         свой автомобиль\n",
       "31        покупка автомобиля                    сделка с автомобилем\n",
       "32               образование                  профильное образование\n",
       "33               образование                      высшее образование\n",
       "34  операции с недвижимостью                 покупка жилья для сдачи\n",
       "35        покупка автомобиля                   на покупку автомобиля\n",
       "36  операции с недвижимостью                            ремонт жилью\n",
       "37               образование            заняться высшим образованием"
      ]
     },
     "execution_count": 50,
     "metadata": {},
     "output_type": "execute_result"
    }
   ],
   "source": [
    "#удаляем дубликаты в словаре и обновляем индексацию, старую удаляем\n",
    "purpose_dict = purpose_dict.drop_duplicates().reset_index(drop=True)\n",
    "\n",
    "#отображение словаря на экране\n",
    "purpose_dict"
   ]
  },
  {
   "cell_type": "markdown",
   "metadata": {},
   "source": [
    "Прокерка показывает, что функция сработала корректно. Выделено 4 категории целей кредита для проверки одной из гипотез."
   ]
  },
  {
   "cell_type": "markdown",
   "metadata": {},
   "source": [
    "**Вывод**"
   ]
  },
  {
   "cell_type": "markdown",
   "metadata": {},
   "source": [
    "С помощью лематизации выполнена категоризация целей кредита заёмщиков, которая будет использова при проверке одной из гипотез. \n",
    "\n",
    "Выделено **4 основные цели кредита** вместо 38 исходных:\n",
    "- покупка автомобиля, \n",
    "- свадьба, \n",
    "- образование, \n",
    "- операции с недвижимостью."
   ]
  },
  {
   "cell_type": "markdown",
   "metadata": {},
   "source": [
    "### Категоризация данных"
   ]
  },
  {
   "cell_type": "markdown",
   "metadata": {},
   "source": [
    "**Категоризация по наличию детей**"
   ]
  },
  {
   "cell_type": "markdown",
   "metadata": {},
   "source": [
    "Проведём категоризацию данных по наличию детей у заёмщиков. Для этого ещё раз просмотрим уникальные значения этого столбца:"
   ]
  },
  {
   "cell_type": "code",
   "execution_count": 51,
   "metadata": {},
   "outputs": [
    {
     "data": {
      "text/plain": [
       "0    14091\n",
       "1     4855\n",
       "2     2128\n",
       "3      330\n",
       "4       41\n",
       "5        9\n",
       "Name: children, dtype: int64"
      ]
     },
     "execution_count": 51,
     "metadata": {},
     "output_type": "execute_result"
    }
   ],
   "source": [
    "#просмотр уникальных значений столбца 'children'\n",
    "df['children'].value_counts()"
   ]
  },
  {
   "cell_type": "markdown",
   "metadata": {},
   "source": [
    "Сделаем функцию для категоризации данных в столбце, в котором содержится инфомрацию о количестве детей у заёмщиков. Так как согласно выдвинутой гипотезе нам нужно проверить влияет ли наличие детей на способность выплачивать кредит, а не их количество, то введём две категории: `есть дети` и `нет детей`. \n",
    "\n",
    "Функцию для категоризации запишем следующим образом:"
   ]
  },
  {
   "cell_type": "code",
   "execution_count": 52,
   "metadata": {},
   "outputs": [],
   "source": [
    "def children_group(children):\n",
    "    #функция разделяет заёмщиков на две категории:\n",
    "    #'есть дети' и 'нет детей'\n",
    "    if children > 0:\n",
    "        return 'есть дети'\n",
    "    return 'нет детей'"
   ]
  },
  {
   "cell_type": "markdown",
   "metadata": {},
   "source": [
    "Проверим результат работы функции. \n",
    "\n",
    "Для этого создадим новый столбец `children_group`, сохраним в него результат применения созданной нами функции:"
   ]
  },
  {
   "cell_type": "code",
   "execution_count": 53,
   "metadata": {},
   "outputs": [],
   "source": [
    "#применение функции и создание нового столбца\n",
    "df['children_group']=df['children'].apply(children_group)"
   ]
  },
  {
   "cell_type": "markdown",
   "metadata": {},
   "source": [
    "Выведем на экран уникальные значения:"
   ]
  },
  {
   "cell_type": "code",
   "execution_count": 54,
   "metadata": {},
   "outputs": [
    {
     "data": {
      "text/plain": [
       "нет детей    14091\n",
       "есть дети     7363\n",
       "Name: children_group, dtype: int64"
      ]
     },
     "execution_count": 54,
     "metadata": {},
     "output_type": "execute_result"
    }
   ],
   "source": [
    "#Вывод уникальных значений - категории наличия детей\n",
    "df['children_group'].value_counts()"
   ]
  },
  {
   "cell_type": "markdown",
   "metadata": {},
   "source": [
    "Создадим словарь, в котором сохраним соответствие количества детей информации о категории по данному признаку:"
   ]
  },
  {
   "cell_type": "code",
   "execution_count": 55,
   "metadata": {},
   "outputs": [
    {
     "data": {
      "text/html": [
       "<div>\n",
       "<style scoped>\n",
       "    .dataframe tbody tr th:only-of-type {\n",
       "        vertical-align: middle;\n",
       "    }\n",
       "\n",
       "    .dataframe tbody tr th {\n",
       "        vertical-align: top;\n",
       "    }\n",
       "\n",
       "    .dataframe thead th {\n",
       "        text-align: right;\n",
       "    }\n",
       "</style>\n",
       "<table border=\"1\" class=\"dataframe\">\n",
       "  <thead>\n",
       "    <tr style=\"text-align: right;\">\n",
       "      <th></th>\n",
       "      <th>children_group</th>\n",
       "      <th>children</th>\n",
       "    </tr>\n",
       "  </thead>\n",
       "  <tbody>\n",
       "    <tr>\n",
       "      <th>0</th>\n",
       "      <td>есть дети</td>\n",
       "      <td>1</td>\n",
       "    </tr>\n",
       "    <tr>\n",
       "      <th>1</th>\n",
       "      <td>есть дети</td>\n",
       "      <td>1</td>\n",
       "    </tr>\n",
       "    <tr>\n",
       "      <th>2</th>\n",
       "      <td>нет детей</td>\n",
       "      <td>0</td>\n",
       "    </tr>\n",
       "    <tr>\n",
       "      <th>3</th>\n",
       "      <td>есть дети</td>\n",
       "      <td>3</td>\n",
       "    </tr>\n",
       "    <tr>\n",
       "      <th>4</th>\n",
       "      <td>нет детей</td>\n",
       "      <td>0</td>\n",
       "    </tr>\n",
       "    <tr>\n",
       "      <th>5</th>\n",
       "      <td>нет детей</td>\n",
       "      <td>0</td>\n",
       "    </tr>\n",
       "    <tr>\n",
       "      <th>6</th>\n",
       "      <td>нет детей</td>\n",
       "      <td>0</td>\n",
       "    </tr>\n",
       "    <tr>\n",
       "      <th>7</th>\n",
       "      <td>нет детей</td>\n",
       "      <td>0</td>\n",
       "    </tr>\n",
       "    <tr>\n",
       "      <th>8</th>\n",
       "      <td>есть дети</td>\n",
       "      <td>2</td>\n",
       "    </tr>\n",
       "    <tr>\n",
       "      <th>9</th>\n",
       "      <td>нет детей</td>\n",
       "      <td>0</td>\n",
       "    </tr>\n",
       "  </tbody>\n",
       "</table>\n",
       "</div>"
      ],
      "text/plain": [
       "  children_group  children\n",
       "0      есть дети         1\n",
       "1      есть дети         1\n",
       "2      нет детей         0\n",
       "3      есть дети         3\n",
       "4      нет детей         0\n",
       "5      нет детей         0\n",
       "6      нет детей         0\n",
       "7      нет детей         0\n",
       "8      есть дети         2\n",
       "9      нет детей         0"
      ]
     },
     "execution_count": 55,
     "metadata": {},
     "output_type": "execute_result"
    }
   ],
   "source": [
    "#словарь соответсвия категорий о наличии детей\n",
    "children_dict = df[['children_group','children']]\n",
    "\n",
    "#Вывод на экран первых 10 значений:\n",
    "children_dict.head(10)"
   ]
  },
  {
   "cell_type": "markdown",
   "metadata": {},
   "source": [
    "Проверим соотвествие количества детей заданной нами категории и выведем на экран:"
   ]
  },
  {
   "cell_type": "code",
   "execution_count": 56,
   "metadata": {},
   "outputs": [
    {
     "data": {
      "text/html": [
       "<div>\n",
       "<style scoped>\n",
       "    .dataframe tbody tr th:only-of-type {\n",
       "        vertical-align: middle;\n",
       "    }\n",
       "\n",
       "    .dataframe tbody tr th {\n",
       "        vertical-align: top;\n",
       "    }\n",
       "\n",
       "    .dataframe thead th {\n",
       "        text-align: right;\n",
       "    }\n",
       "</style>\n",
       "<table border=\"1\" class=\"dataframe\">\n",
       "  <thead>\n",
       "    <tr style=\"text-align: right;\">\n",
       "      <th></th>\n",
       "      <th>children_group</th>\n",
       "      <th>children</th>\n",
       "    </tr>\n",
       "  </thead>\n",
       "  <tbody>\n",
       "    <tr>\n",
       "      <th>1</th>\n",
       "      <td>нет детей</td>\n",
       "      <td>0</td>\n",
       "    </tr>\n",
       "    <tr>\n",
       "      <th>0</th>\n",
       "      <td>есть дети</td>\n",
       "      <td>1</td>\n",
       "    </tr>\n",
       "    <tr>\n",
       "      <th>3</th>\n",
       "      <td>есть дети</td>\n",
       "      <td>2</td>\n",
       "    </tr>\n",
       "    <tr>\n",
       "      <th>2</th>\n",
       "      <td>есть дети</td>\n",
       "      <td>3</td>\n",
       "    </tr>\n",
       "    <tr>\n",
       "      <th>4</th>\n",
       "      <td>есть дети</td>\n",
       "      <td>4</td>\n",
       "    </tr>\n",
       "    <tr>\n",
       "      <th>5</th>\n",
       "      <td>есть дети</td>\n",
       "      <td>5</td>\n",
       "    </tr>\n",
       "  </tbody>\n",
       "</table>\n",
       "</div>"
      ],
      "text/plain": [
       "  children_group  children\n",
       "1      нет детей         0\n",
       "0      есть дети         1\n",
       "3      есть дети         2\n",
       "2      есть дети         3\n",
       "4      есть дети         4\n",
       "5      есть дети         5"
      ]
     },
     "execution_count": 56,
     "metadata": {},
     "output_type": "execute_result"
    }
   ],
   "source": [
    "#удаляем дубликаты в словаре и обновляем индексацию, старую удаляем\n",
    "children_dict = children_dict.drop_duplicates().reset_index(drop=True)\n",
    "\n",
    "#выводим на экран словарь соответствия категории о наличии детей \n",
    "#у заёмщиков количеству детей\n",
    "children_dict.sort_values('children')"
   ]
  },
  {
   "cell_type": "markdown",
   "metadata": {},
   "source": [
    "**Категоризация по уровню дохода**"
   ]
  },
  {
   "cell_type": "markdown",
   "metadata": {},
   "source": [
    "Для начала подробнее ознакомимся с данными, содержащимися в столбце `monthly_income`. Выведем 15 максимальных значений:"
   ]
  },
  {
   "cell_type": "code",
   "execution_count": 57,
   "metadata": {},
   "outputs": [
    {
     "data": {
      "text/plain": [
       "12390    2265604\n",
       "19548    2200852\n",
       "9159     1726276\n",
       "20742    1715018\n",
       "17137    1711309\n",
       "17460    1597613\n",
       "18321    1551152\n",
       "18306    1427934\n",
       "15234    1350245\n",
       "11052    1286280\n",
       "2224     1278622\n",
       "7441     1240165\n",
       "19754    1223042\n",
       "15177    1172459\n",
       "13066    1128836\n",
       "Name: monthly_income, dtype: int64"
      ]
     },
     "execution_count": 57,
     "metadata": {},
     "output_type": "execute_result"
    }
   ],
   "source": [
    "#вывод 15 максимальных значений в столбце 'monthly_income'\n",
    "df['monthly_income'].sort_values(ascending = False).head(15)"
   ]
  },
  {
   "cell_type": "markdown",
   "metadata": {},
   "source": [
    "Некоторые заёмщики имеют ежемесячный доход более 1 млн. руб. Посмотрим сколько всего значений в столбце:"
   ]
  },
  {
   "cell_type": "code",
   "execution_count": 58,
   "metadata": {},
   "outputs": [
    {
     "data": {
      "text/plain": [
       "21454"
      ]
     },
     "execution_count": 58,
     "metadata": {},
     "output_type": "execute_result"
    }
   ],
   "source": [
    "#общее количество значений в столбце 'monthly_income'\n",
    "df['monthly_income'].count()"
   ]
  },
  {
   "cell_type": "markdown",
   "metadata": {},
   "source": [
    "Посмотрим максимальное, среднее, медианное и минимальное значение доходов клиентов:"
   ]
  },
  {
   "cell_type": "code",
   "execution_count": 59,
   "metadata": {
    "scrolled": false
   },
   "outputs": [
    {
     "data": {
      "text/plain": [
       "2265604"
      ]
     },
     "execution_count": 59,
     "metadata": {},
     "output_type": "execute_result"
    }
   ],
   "source": [
    "#максимальная зарплата клиентов\n",
    "df['monthly_income'].max()"
   ]
  },
  {
   "cell_type": "code",
   "execution_count": 60,
   "metadata": {},
   "outputs": [
    {
     "data": {
      "text/plain": [
       "165225.6006339144"
      ]
     },
     "execution_count": 60,
     "metadata": {},
     "output_type": "execute_result"
    }
   ],
   "source": [
    "#средняя зарплата клиентов\n",
    "df['monthly_income'].mean()"
   ]
  },
  {
   "cell_type": "code",
   "execution_count": 61,
   "metadata": {},
   "outputs": [
    {
     "data": {
      "text/plain": [
       "145017.0"
      ]
     },
     "execution_count": 61,
     "metadata": {},
     "output_type": "execute_result"
    }
   ],
   "source": [
    "#медианная зарплата клиентов\n",
    "df['monthly_income'].median()"
   ]
  },
  {
   "cell_type": "code",
   "execution_count": 62,
   "metadata": {
    "scrolled": true
   },
   "outputs": [
    {
     "data": {
      "text/plain": [
       "20667"
      ]
     },
     "execution_count": 62,
     "metadata": {},
     "output_type": "execute_result"
    }
   ],
   "source": [
    "#минимальная зарплата клиентов\n",
    "df['monthly_income'].min()"
   ]
  },
  {
   "cell_type": "markdown",
   "metadata": {},
   "source": [
    "Учитывая, что общее количество заёмщиков около 20 тыс. человек, то разобъём данные о доходах клиентов на 5 категорий. Чтобы категории были показательны для проверки гипотез постараемся выделить 5 диапазонов, в каждой из которых будет не менее 1 тысячи значений."
   ]
  },
  {
   "cell_type": "markdown",
   "metadata": {},
   "source": [
    "В результате анализа выявлено, что данные о доходах можно разбить на 5 диапазонов (категорий), для удобства в названиях категорий опущены нули, диапазон доходов приведен в тысячах:\n",
    " - `20-75`,\n",
    " - `75-145`,\n",
    " - `145-200`,\n",
    " - `200-300`,\n",
    " - `>300`.\n",
    "\n",
    "Максимальное количество значений приходится на диапазоны `145-200` и `200-300`.\n",
    " \n",
    " Далее приведём информацию о количестве ячеек в каждом из выбранных диапазонов, чтобы показать, что диапазоны имеют свыше 1000 значений:"
   ]
  },
  {
   "cell_type": "code",
   "execution_count": 63,
   "metadata": {},
   "outputs": [
    {
     "data": {
      "text/plain": [
       "1865"
      ]
     },
     "execution_count": 63,
     "metadata": {},
     "output_type": "execute_result"
    }
   ],
   "source": [
    "#количество значений в диапазоне 20000-75000\n",
    "df[(df['monthly_income']>20000) &\n",
    "   (df['monthly_income']<75000)]['monthly_income'].count()"
   ]
  },
  {
   "cell_type": "code",
   "execution_count": 64,
   "metadata": {},
   "outputs": [
    {
     "data": {
      "text/plain": [
       "7809"
      ]
     },
     "execution_count": 64,
     "metadata": {},
     "output_type": "execute_result"
    }
   ],
   "source": [
    "#количество значений в диапазоне 75000-145000\n",
    "df[(df['monthly_income']>75000) &\n",
    "   (df['monthly_income']<145000)]['monthly_income'].count()"
   ]
  },
  {
   "cell_type": "code",
   "execution_count": 65,
   "metadata": {},
   "outputs": [
    {
     "data": {
      "text/plain": [
       "6714"
      ]
     },
     "execution_count": 65,
     "metadata": {},
     "output_type": "execute_result"
    }
   ],
   "source": [
    "#количество значений в диапазоне 145000-200000\n",
    "df[(df['monthly_income']>145000) &\n",
    "   (df['monthly_income']<200000)]['monthly_income'].count()"
   ]
  },
  {
   "cell_type": "code",
   "execution_count": 66,
   "metadata": {},
   "outputs": [
    {
     "data": {
      "text/plain": [
       "3584"
      ]
     },
     "execution_count": 66,
     "metadata": {},
     "output_type": "execute_result"
    }
   ],
   "source": [
    "#количество значений в диапазоне 200000-300000\n",
    "df[(df['monthly_income']>200000) &\n",
    "   (df['monthly_income']<300000)]['monthly_income'].count()"
   ]
  },
  {
   "cell_type": "code",
   "execution_count": 67,
   "metadata": {},
   "outputs": [
    {
     "data": {
      "text/plain": [
       "1482"
      ]
     },
     "execution_count": 67,
     "metadata": {},
     "output_type": "execute_result"
    }
   ],
   "source": [
    "#количество значений в диапазоне свыше 300000\n",
    "df[(df['monthly_income']>300000)]['monthly_income'].count()"
   ]
  },
  {
   "cell_type": "markdown",
   "metadata": {},
   "source": [
    "Запишем функцию для категоризации данных о доходах клиентов:"
   ]
  },
  {
   "cell_type": "code",
   "execution_count": 68,
   "metadata": {},
   "outputs": [],
   "source": [
    "def monthly_income_group(money):\n",
    "#функция разделяем клиентов на 5 категорий по доходам\n",
    "# в тысячах рублей: 20-75, 75-145, 145-200, 200-300, >300\n",
    "    if 20000<money<75000:\n",
    "        return '20-75'\n",
    "    if 75000<money<145000:\n",
    "        return '75-145'\n",
    "    if 145000<money<200000:\n",
    "        return '145-200'\n",
    "    if 200000<money<300000:\n",
    "        return '200-300'\n",
    "    if money>300000:\n",
    "        return '>300'"
   ]
  },
  {
   "cell_type": "markdown",
   "metadata": {},
   "source": [
    "Создадим новый столбец с категорией по доходам:"
   ]
  },
  {
   "cell_type": "code",
   "execution_count": 69,
   "metadata": {},
   "outputs": [],
   "source": [
    "#создаём новый столбец и применяем составленную функцию к столбцу 'monthly_income'\n",
    "df['monthly_income_group']=df['monthly_income'].apply(monthly_income_group)"
   ]
  },
  {
   "cell_type": "markdown",
   "metadata": {},
   "source": [
    "Просматриваем уникальные значения в новом столбце:"
   ]
  },
  {
   "cell_type": "code",
   "execution_count": 70,
   "metadata": {},
   "outputs": [
    {
     "data": {
      "text/plain": [
       "75-145     7809\n",
       "145-200    6714\n",
       "200-300    3584\n",
       "20-75      1865\n",
       ">300       1482\n",
       "Name: monthly_income_group, dtype: int64"
      ]
     },
     "execution_count": 70,
     "metadata": {},
     "output_type": "execute_result"
    }
   ],
   "source": [
    "#вывод уникальных значений в столбце 'monthly_income_group'\n",
    "df['monthly_income_group'].value_counts()"
   ]
  },
  {
   "cell_type": "markdown",
   "metadata": {},
   "source": [
    "Составим словарь соответствия доходов клиентов одной из выбранных категорий (диапазонов), он пригодится в дальнейшем:"
   ]
  },
  {
   "cell_type": "code",
   "execution_count": 71,
   "metadata": {},
   "outputs": [
    {
     "data": {
      "text/html": [
       "<div>\n",
       "<style scoped>\n",
       "    .dataframe tbody tr th:only-of-type {\n",
       "        vertical-align: middle;\n",
       "    }\n",
       "\n",
       "    .dataframe tbody tr th {\n",
       "        vertical-align: top;\n",
       "    }\n",
       "\n",
       "    .dataframe thead th {\n",
       "        text-align: right;\n",
       "    }\n",
       "</style>\n",
       "<table border=\"1\" class=\"dataframe\">\n",
       "  <thead>\n",
       "    <tr style=\"text-align: right;\">\n",
       "      <th></th>\n",
       "      <th>monthly_income_group</th>\n",
       "      <th>monthly_income</th>\n",
       "    </tr>\n",
       "  </thead>\n",
       "  <tbody>\n",
       "    <tr>\n",
       "      <th>0</th>\n",
       "      <td>200-300</td>\n",
       "      <td>253875</td>\n",
       "    </tr>\n",
       "    <tr>\n",
       "      <th>1</th>\n",
       "      <td>75-145</td>\n",
       "      <td>112080</td>\n",
       "    </tr>\n",
       "    <tr>\n",
       "      <th>2</th>\n",
       "      <td>145-200</td>\n",
       "      <td>145885</td>\n",
       "    </tr>\n",
       "    <tr>\n",
       "      <th>3</th>\n",
       "      <td>200-300</td>\n",
       "      <td>267628</td>\n",
       "    </tr>\n",
       "    <tr>\n",
       "      <th>4</th>\n",
       "      <td>145-200</td>\n",
       "      <td>158616</td>\n",
       "    </tr>\n",
       "    <tr>\n",
       "      <th>5</th>\n",
       "      <td>200-300</td>\n",
       "      <td>255763</td>\n",
       "    </tr>\n",
       "    <tr>\n",
       "      <th>6</th>\n",
       "      <td>200-300</td>\n",
       "      <td>240525</td>\n",
       "    </tr>\n",
       "    <tr>\n",
       "      <th>7</th>\n",
       "      <td>75-145</td>\n",
       "      <td>135823</td>\n",
       "    </tr>\n",
       "    <tr>\n",
       "      <th>8</th>\n",
       "      <td>75-145</td>\n",
       "      <td>95856</td>\n",
       "    </tr>\n",
       "    <tr>\n",
       "      <th>9</th>\n",
       "      <td>75-145</td>\n",
       "      <td>144425</td>\n",
       "    </tr>\n",
       "  </tbody>\n",
       "</table>\n",
       "</div>"
      ],
      "text/plain": [
       "  monthly_income_group  monthly_income\n",
       "0              200-300          253875\n",
       "1               75-145          112080\n",
       "2              145-200          145885\n",
       "3              200-300          267628\n",
       "4              145-200          158616\n",
       "5              200-300          255763\n",
       "6              200-300          240525\n",
       "7               75-145          135823\n",
       "8               75-145           95856\n",
       "9               75-145          144425"
      ]
     },
     "execution_count": 71,
     "metadata": {},
     "output_type": "execute_result"
    }
   ],
   "source": [
    "#словарь соответсвия категорий информации о доходах\n",
    "monthly_income_dict = df[['monthly_income_group','monthly_income']]\n",
    "\n",
    "#вывод на экран первых 10 строк\n",
    "monthly_income_dict.head(10)"
   ]
  },
  {
   "cell_type": "markdown",
   "metadata": {},
   "source": [
    "**Вывод**"
   ]
  },
  {
   "cell_type": "markdown",
   "metadata": {},
   "source": [
    "Выполнена категоризация клиентов по наличию детей и по доходу. Клиенты по количеству детей разделены на категории `есть дети` и `нет детей`. Отдельно можно проверить влияние количества детей, для этого не требуется разделение на каотегории, так как в исходной таблице количество детей уже задано для каждого из клиентов.\n",
    "\n",
    "Доходы клиентов разделены на 5 категорий, диапазоны выбраны так, чтобы в каждом было более 1000 значений. \n",
    "\n",
    "Диапазоны в тысячах рублей: `20-75`, `75-145`, `145-200`, `200-300`, `>300`.\n",
    "\n",
    "Данные готовы к проверке гипотез."
   ]
  },
  {
   "cell_type": "markdown",
   "metadata": {},
   "source": [
    "## Шаг 3. Проверка гипотез"
   ]
  },
  {
   "cell_type": "markdown",
   "metadata": {},
   "source": [
    "Для проверки гипотез будем рассчитывать конверсию: какой процент заёмщиков от общего числа клиентов имеет задолженность по кредиту **в каждой из категорий**? "
   ]
  },
  {
   "cell_type": "markdown",
   "metadata": {},
   "source": [
    "Далее для каждой из гипотез описаны шаги для вычисления указанной конверсии."
   ]
  },
  {
   "cell_type": "markdown",
   "metadata": {},
   "source": [
    "### Наличие детей"
   ]
  },
  {
   "cell_type": "markdown",
   "metadata": {},
   "source": [
    "**- Есть ли зависимость между наличием детей и возвратом кредита в срок?**"
   ]
  },
  {
   "cell_type": "markdown",
   "metadata": {},
   "source": [
    "С помощью метода `groupby()` выведем общее количество заёмщиков в каждой категории наличия детей, сумму должников и конверсию:"
   ]
  },
  {
   "cell_type": "code",
   "execution_count": 72,
   "metadata": {},
   "outputs": [
    {
     "data": {
      "text/html": [
       "<div>\n",
       "<style scoped>\n",
       "    .dataframe tbody tr th:only-of-type {\n",
       "        vertical-align: middle;\n",
       "    }\n",
       "\n",
       "    .dataframe tbody tr th {\n",
       "        vertical-align: top;\n",
       "    }\n",
       "\n",
       "    .dataframe thead tr th {\n",
       "        text-align: left;\n",
       "    }\n",
       "\n",
       "    .dataframe thead tr:last-of-type th {\n",
       "        text-align: right;\n",
       "    }\n",
       "</style>\n",
       "<table border=\"1\" class=\"dataframe\">\n",
       "  <thead>\n",
       "    <tr>\n",
       "      <th></th>\n",
       "      <th colspan=\"3\" halign=\"left\">debt</th>\n",
       "    </tr>\n",
       "    <tr>\n",
       "      <th></th>\n",
       "      <th>count</th>\n",
       "      <th>sum</th>\n",
       "      <th>mean</th>\n",
       "    </tr>\n",
       "    <tr>\n",
       "      <th>children_group</th>\n",
       "      <th></th>\n",
       "      <th></th>\n",
       "      <th></th>\n",
       "    </tr>\n",
       "  </thead>\n",
       "  <tbody>\n",
       "    <tr>\n",
       "      <th>есть дети</th>\n",
       "      <td>7363</td>\n",
       "      <td>678</td>\n",
       "      <td>0.092082</td>\n",
       "    </tr>\n",
       "    <tr>\n",
       "      <th>нет детей</th>\n",
       "      <td>14091</td>\n",
       "      <td>1063</td>\n",
       "      <td>0.075438</td>\n",
       "    </tr>\n",
       "  </tbody>\n",
       "</table>\n",
       "</div>"
      ],
      "text/plain": [
       "                 debt                \n",
       "                count   sum      mean\n",
       "children_group                       \n",
       "есть дети        7363   678  0.092082\n",
       "нет детей       14091  1063  0.075438"
      ]
     },
     "execution_count": 72,
     "metadata": {},
     "output_type": "execute_result"
    }
   ],
   "source": [
    "df[['children_group','debt']].groupby('children_group').agg(['count','sum','mean'])"
   ]
  },
  {
   "cell_type": "markdown",
   "metadata": {},
   "source": [
    "Проверим как влияет **количество детей** на способность вернуть кредит в срок."
   ]
  },
  {
   "cell_type": "markdown",
   "metadata": {},
   "source": [
    "Проделаем аналогичные шаги для вычисления конверсии, что сделали ранее и выведем на экран сводную таблицу, в которой проследим влияние количества детей на способность клиентов выплатить кредит без задолженности:"
   ]
  },
  {
   "cell_type": "code",
   "execution_count": 73,
   "metadata": {},
   "outputs": [
    {
     "data": {
      "text/html": [
       "<div>\n",
       "<style scoped>\n",
       "    .dataframe tbody tr th:only-of-type {\n",
       "        vertical-align: middle;\n",
       "    }\n",
       "\n",
       "    .dataframe tbody tr th {\n",
       "        vertical-align: top;\n",
       "    }\n",
       "\n",
       "    .dataframe thead tr th {\n",
       "        text-align: left;\n",
       "    }\n",
       "\n",
       "    .dataframe thead tr:last-of-type th {\n",
       "        text-align: right;\n",
       "    }\n",
       "</style>\n",
       "<table border=\"1\" class=\"dataframe\">\n",
       "  <thead>\n",
       "    <tr>\n",
       "      <th></th>\n",
       "      <th colspan=\"3\" halign=\"left\">debt</th>\n",
       "    </tr>\n",
       "    <tr>\n",
       "      <th></th>\n",
       "      <th>count</th>\n",
       "      <th>sum</th>\n",
       "      <th>mean</th>\n",
       "    </tr>\n",
       "    <tr>\n",
       "      <th>children</th>\n",
       "      <th></th>\n",
       "      <th></th>\n",
       "      <th></th>\n",
       "    </tr>\n",
       "  </thead>\n",
       "  <tbody>\n",
       "    <tr>\n",
       "      <th>4</th>\n",
       "      <td>41</td>\n",
       "      <td>4</td>\n",
       "      <td>0.097561</td>\n",
       "    </tr>\n",
       "    <tr>\n",
       "      <th>2</th>\n",
       "      <td>2128</td>\n",
       "      <td>202</td>\n",
       "      <td>0.094925</td>\n",
       "    </tr>\n",
       "    <tr>\n",
       "      <th>1</th>\n",
       "      <td>4855</td>\n",
       "      <td>445</td>\n",
       "      <td>0.091658</td>\n",
       "    </tr>\n",
       "    <tr>\n",
       "      <th>3</th>\n",
       "      <td>330</td>\n",
       "      <td>27</td>\n",
       "      <td>0.081818</td>\n",
       "    </tr>\n",
       "    <tr>\n",
       "      <th>0</th>\n",
       "      <td>14091</td>\n",
       "      <td>1063</td>\n",
       "      <td>0.075438</td>\n",
       "    </tr>\n",
       "    <tr>\n",
       "      <th>5</th>\n",
       "      <td>9</td>\n",
       "      <td>0</td>\n",
       "      <td>0.000000</td>\n",
       "    </tr>\n",
       "  </tbody>\n",
       "</table>\n",
       "</div>"
      ],
      "text/plain": [
       "           debt                \n",
       "          count   sum      mean\n",
       "children                       \n",
       "4            41     4  0.097561\n",
       "2          2128   202  0.094925\n",
       "1          4855   445  0.091658\n",
       "3           330    27  0.081818\n",
       "0         14091  1063  0.075438\n",
       "5             9     0  0.000000"
      ]
     },
     "execution_count": 73,
     "metadata": {},
     "output_type": "execute_result"
    }
   ],
   "source": [
    "#добавление нового столбца в таблицу - информация о количестве клиентов, \n",
    "#имеющих задолженность по кредиту, в каждой из категорий\n",
    "(\n",
    "    df[['children','debt']]\n",
    "    .groupby('children')\n",
    "    .agg(['count','sum','mean'])\n",
    "    .sort_values(by=('debt','mean'),\n",
    "                 ascending=False)\n",
    ")"
   ]
  },
  {
   "cell_type": "markdown",
   "metadata": {},
   "source": [
    "Подтвердился результат, полученный для двух категорий `есть дети` и `нет детей`. Действительно, клиенты, не имеющие детей чаще выплачивают кредит без долгов. Одно исключение - клиенты, имеющие 5 детей в 100% случаев не имеют задолженности по кредиту, однако слишком маленькая выборка, чтобы принимать данное утверждение."
   ]
  },
  {
   "cell_type": "markdown",
   "metadata": {},
   "source": [
    "**Вывод**"
   ]
  },
  {
   "cell_type": "markdown",
   "metadata": {},
   "source": [
    "*Выдвенутая гипотеза*: есть ли зависимость между наличием детей и возвратом кредита в срок? \n",
    "\n",
    "**9,21%** заёмщиков с детьми имеют долги по кредиту, в то время как среди заёмщиков без детей этот показатель равняется **7,54%**. \n",
    "\n",
    "Можно ответить утвердительно: да, зависимость есть. Среди заёмщиков, имеющих детей, случаев задолженности по кредиту на **1,67%** больше.\n",
    "\n",
    "Количество детей также влияет на способность клиента выплатить кредит. Но с возрастанием количества детей, нет равномерного роста неспособности клиента выплатить кредит. Так задолженность имеют (процент клиентов от общего количества заёмщиков данной категории):\n",
    "- нет детей - 7,54%,\n",
    "- 1 ребёнок - 9,17%,\n",
    "- 2 детей - 9,49%,\n",
    "- 3 детей - 8,18%,\n",
    "- 4 детей - 9,76%,\n",
    "- 5 детей - 0%.\n",
    "\n",
    "Иными словами, с количеством детей 1,2 задолженность имеют 9,17-9,49% заёмщиков, но у клиентов с 3 детьми задолженность имеют 8,18%, затем снова рост - 4 детей и 9,76% клиентов имеют задолженность.\n",
    "\n",
    "Для модели скоринга вероятнее удобнее пользоваться общей категорией `есть дети` и `нет детей`, чтобы снизить ошибки."
   ]
  },
  {
   "cell_type": "markdown",
   "metadata": {},
   "source": [
    "### Семейное положение"
   ]
  },
  {
   "cell_type": "markdown",
   "metadata": {},
   "source": [
    " - **Есть ли зависимость между семейным положением и возвратом кредита в срок?**"
   ]
  },
  {
   "cell_type": "markdown",
   "metadata": {},
   "source": [
    "Общее количество заёмщиков, должников и конверсия в каждой категории семейного положения:"
   ]
  },
  {
   "cell_type": "code",
   "execution_count": 74,
   "metadata": {},
   "outputs": [
    {
     "data": {
      "text/html": [
       "<div>\n",
       "<style scoped>\n",
       "    .dataframe tbody tr th:only-of-type {\n",
       "        vertical-align: middle;\n",
       "    }\n",
       "\n",
       "    .dataframe tbody tr th {\n",
       "        vertical-align: top;\n",
       "    }\n",
       "\n",
       "    .dataframe thead tr th {\n",
       "        text-align: left;\n",
       "    }\n",
       "\n",
       "    .dataframe thead tr:last-of-type th {\n",
       "        text-align: right;\n",
       "    }\n",
       "</style>\n",
       "<table border=\"1\" class=\"dataframe\">\n",
       "  <thead>\n",
       "    <tr>\n",
       "      <th></th>\n",
       "      <th></th>\n",
       "      <th colspan=\"3\" halign=\"left\">debt</th>\n",
       "    </tr>\n",
       "    <tr>\n",
       "      <th></th>\n",
       "      <th></th>\n",
       "      <th>count</th>\n",
       "      <th>sum</th>\n",
       "      <th>mean</th>\n",
       "    </tr>\n",
       "    <tr>\n",
       "      <th>family_status_id</th>\n",
       "      <th>family_status</th>\n",
       "      <th></th>\n",
       "      <th></th>\n",
       "      <th></th>\n",
       "    </tr>\n",
       "  </thead>\n",
       "  <tbody>\n",
       "    <tr>\n",
       "      <th>0</th>\n",
       "      <th>женат / замужем</th>\n",
       "      <td>12339</td>\n",
       "      <td>931</td>\n",
       "      <td>0.075452</td>\n",
       "    </tr>\n",
       "    <tr>\n",
       "      <th>1</th>\n",
       "      <th>гражданский брак</th>\n",
       "      <td>4151</td>\n",
       "      <td>388</td>\n",
       "      <td>0.093471</td>\n",
       "    </tr>\n",
       "    <tr>\n",
       "      <th>2</th>\n",
       "      <th>вдовец / вдова</th>\n",
       "      <td>959</td>\n",
       "      <td>63</td>\n",
       "      <td>0.065693</td>\n",
       "    </tr>\n",
       "    <tr>\n",
       "      <th>3</th>\n",
       "      <th>в разводе</th>\n",
       "      <td>1195</td>\n",
       "      <td>85</td>\n",
       "      <td>0.071130</td>\n",
       "    </tr>\n",
       "    <tr>\n",
       "      <th>4</th>\n",
       "      <th>Не женат / не замужем</th>\n",
       "      <td>2810</td>\n",
       "      <td>274</td>\n",
       "      <td>0.097509</td>\n",
       "    </tr>\n",
       "  </tbody>\n",
       "</table>\n",
       "</div>"
      ],
      "text/plain": [
       "                                         debt               \n",
       "                                        count  sum      mean\n",
       "family_status_id family_status                              \n",
       "0                женат / замужем        12339  931  0.075452\n",
       "1                гражданский брак        4151  388  0.093471\n",
       "2                вдовец / вдова           959   63  0.065693\n",
       "3                в разводе               1195   85  0.071130\n",
       "4                Не женат / не замужем   2810  274  0.097509"
      ]
     },
     "execution_count": 74,
     "metadata": {},
     "output_type": "execute_result"
    }
   ],
   "source": [
    "(\n",
    "    df[['family_status_id','family_status','debt']]\n",
    "    .groupby(['family_status_id','family_status'])\n",
    "    .agg(['count','sum','mean'])\n",
    ")"
   ]
  },
  {
   "cell_type": "markdown",
   "metadata": {},
   "source": [
    "**Вывод**"
   ]
  },
  {
   "cell_type": "markdown",
   "metadata": {},
   "source": [
    "В результате проведённого исследования можно сделать вывод, что семейное положение клиентов оказывает некоторое влияние на возврат кредита в срок:\n",
    "- Наибольшый процент задолженностей у заёмщиков со статусом `не женат/не замужем` и `гражданский брак` - **9,75%** и **9,35%**, соответственно. \n",
    "- Примерно одинаковый результат у категорий `женат/замужем` и `в разводе` - **7,55%** и **7,11%**, соответственно.\n",
    "- Наименьший процент заёмщиков, имеющих задолженность по кредиту, у категории `вдовец/вдова` - **6,57%**"
   ]
  },
  {
   "cell_type": "markdown",
   "metadata": {},
   "source": [
    "### Уровень дохода"
   ]
  },
  {
   "cell_type": "markdown",
   "metadata": {},
   "source": [
    "**- Есть ли зависимость между уровнем дохода и возвратом кредита в срок?**"
   ]
  },
  {
   "cell_type": "markdown",
   "metadata": {},
   "source": [
    "Общее количество заёмщиков, должников и конверсия:"
   ]
  },
  {
   "cell_type": "code",
   "execution_count": 75,
   "metadata": {},
   "outputs": [
    {
     "data": {
      "text/html": [
       "<div>\n",
       "<style scoped>\n",
       "    .dataframe tbody tr th:only-of-type {\n",
       "        vertical-align: middle;\n",
       "    }\n",
       "\n",
       "    .dataframe tbody tr th {\n",
       "        vertical-align: top;\n",
       "    }\n",
       "\n",
       "    .dataframe thead tr th {\n",
       "        text-align: left;\n",
       "    }\n",
       "\n",
       "    .dataframe thead tr:last-of-type th {\n",
       "        text-align: right;\n",
       "    }\n",
       "</style>\n",
       "<table border=\"1\" class=\"dataframe\">\n",
       "  <thead>\n",
       "    <tr>\n",
       "      <th></th>\n",
       "      <th colspan=\"3\" halign=\"left\">debt</th>\n",
       "    </tr>\n",
       "    <tr>\n",
       "      <th></th>\n",
       "      <th>count</th>\n",
       "      <th>sum</th>\n",
       "      <th>mean</th>\n",
       "    </tr>\n",
       "    <tr>\n",
       "      <th>monthly_income_group</th>\n",
       "      <th></th>\n",
       "      <th></th>\n",
       "      <th></th>\n",
       "    </tr>\n",
       "  </thead>\n",
       "  <tbody>\n",
       "    <tr>\n",
       "      <th>145-200</th>\n",
       "      <td>6714</td>\n",
       "      <td>579</td>\n",
       "      <td>0.086238</td>\n",
       "    </tr>\n",
       "    <tr>\n",
       "      <th>75-145</th>\n",
       "      <td>7809</td>\n",
       "      <td>668</td>\n",
       "      <td>0.085542</td>\n",
       "    </tr>\n",
       "    <tr>\n",
       "      <th>20-75</th>\n",
       "      <td>1865</td>\n",
       "      <td>136</td>\n",
       "      <td>0.072922</td>\n",
       "    </tr>\n",
       "    <tr>\n",
       "      <th>&gt;300</th>\n",
       "      <td>1482</td>\n",
       "      <td>106</td>\n",
       "      <td>0.071525</td>\n",
       "    </tr>\n",
       "    <tr>\n",
       "      <th>200-300</th>\n",
       "      <td>3584</td>\n",
       "      <td>252</td>\n",
       "      <td>0.070312</td>\n",
       "    </tr>\n",
       "  </tbody>\n",
       "</table>\n",
       "</div>"
      ],
      "text/plain": [
       "                      debt               \n",
       "                     count  sum      mean\n",
       "monthly_income_group                     \n",
       "145-200               6714  579  0.086238\n",
       "75-145                7809  668  0.085542\n",
       "20-75                 1865  136  0.072922\n",
       ">300                  1482  106  0.071525\n",
       "200-300               3584  252  0.070312"
      ]
     },
     "execution_count": 75,
     "metadata": {},
     "output_type": "execute_result"
    }
   ],
   "source": [
    "(\n",
    "    df[['monthly_income_group','debt']]\n",
    "    .groupby('monthly_income_group')\n",
    "    .agg(['count','sum','mean'])\n",
    "    .sort_values(by=('debt','mean'),\n",
    "                 ascending=False)\n",
    ")"
   ]
  },
  {
   "cell_type": "markdown",
   "metadata": {},
   "source": [
    "**Вывод**"
   ]
  },
  {
   "cell_type": "markdown",
   "metadata": {},
   "source": [
    "В результате проверки гипотезы получено, что примерно одинаковый процент клиентов, имеющих задолженность, наблюдается в категориях доходов `20-75`, `200-300` и `>300`: **7,29%**, **7,03%** и **7,15%**, соответственно.\n",
    "\n",
    "Немного выше процент клиентов, имеющих задолженность по кредиту, в категориях `75-145` и `145-200`: **8,55%** и **8,62%**"
   ]
  },
  {
   "cell_type": "markdown",
   "metadata": {},
   "source": [
    "### Цели кредита"
   ]
  },
  {
   "cell_type": "markdown",
   "metadata": {},
   "source": [
    "**- Как разные цели кредита влияют на его возврат в срок?**"
   ]
  },
  {
   "cell_type": "markdown",
   "metadata": {},
   "source": [
    "Общее количество заёмщиков, должников и конверсия:"
   ]
  },
  {
   "cell_type": "code",
   "execution_count": 76,
   "metadata": {},
   "outputs": [
    {
     "data": {
      "text/html": [
       "<div>\n",
       "<style scoped>\n",
       "    .dataframe tbody tr th:only-of-type {\n",
       "        vertical-align: middle;\n",
       "    }\n",
       "\n",
       "    .dataframe tbody tr th {\n",
       "        vertical-align: top;\n",
       "    }\n",
       "\n",
       "    .dataframe thead tr th {\n",
       "        text-align: left;\n",
       "    }\n",
       "\n",
       "    .dataframe thead tr:last-of-type th {\n",
       "        text-align: right;\n",
       "    }\n",
       "</style>\n",
       "<table border=\"1\" class=\"dataframe\">\n",
       "  <thead>\n",
       "    <tr>\n",
       "      <th></th>\n",
       "      <th colspan=\"3\" halign=\"left\">debt</th>\n",
       "    </tr>\n",
       "    <tr>\n",
       "      <th></th>\n",
       "      <th>count</th>\n",
       "      <th>sum</th>\n",
       "      <th>mean</th>\n",
       "    </tr>\n",
       "    <tr>\n",
       "      <th>purpose_group</th>\n",
       "      <th></th>\n",
       "      <th></th>\n",
       "      <th></th>\n",
       "    </tr>\n",
       "  </thead>\n",
       "  <tbody>\n",
       "    <tr>\n",
       "      <th>покупка автомобиля</th>\n",
       "      <td>4306</td>\n",
       "      <td>403</td>\n",
       "      <td>0.093590</td>\n",
       "    </tr>\n",
       "    <tr>\n",
       "      <th>образование</th>\n",
       "      <td>4013</td>\n",
       "      <td>370</td>\n",
       "      <td>0.092200</td>\n",
       "    </tr>\n",
       "    <tr>\n",
       "      <th>свадьба</th>\n",
       "      <td>2324</td>\n",
       "      <td>186</td>\n",
       "      <td>0.080034</td>\n",
       "    </tr>\n",
       "    <tr>\n",
       "      <th>операции с недвижимостью</th>\n",
       "      <td>10811</td>\n",
       "      <td>782</td>\n",
       "      <td>0.072334</td>\n",
       "    </tr>\n",
       "  </tbody>\n",
       "</table>\n",
       "</div>"
      ],
      "text/plain": [
       "                           debt               \n",
       "                          count  sum      mean\n",
       "purpose_group                                 \n",
       "покупка автомобиля         4306  403  0.093590\n",
       "образование                4013  370  0.092200\n",
       "свадьба                    2324  186  0.080034\n",
       "операции с недвижимостью  10811  782  0.072334"
      ]
     },
     "execution_count": 76,
     "metadata": {},
     "output_type": "execute_result"
    }
   ],
   "source": [
    "(\n",
    "    df[['purpose_group','debt']]\n",
    "    .groupby('purpose_group')\n",
    "    .agg(['count','sum','mean'])\n",
    "    .sort_values(by=('debt','mean'),\n",
    "                 ascending=False)\n",
    ")"
   ]
  },
  {
   "cell_type": "markdown",
   "metadata": {},
   "source": [
    "**Вывод**"
   ]
  },
  {
   "cell_type": "markdown",
   "metadata": {},
   "source": [
    "В результате проведенного исследования можно сделать вывод, что цель кредита оказывает некоторое влияние на возврат кредита в срок:\n",
    "- **7,23%** задолженностей в категории \"операции с недвижимостью\",\n",
    "- **8%** в категории \"свадьба\",\n",
    "- **9,22%** и **9,35%** в категориях образование и покупка автомобиля, соответственно."
   ]
  },
  {
   "cell_type": "markdown",
   "metadata": {},
   "source": [
    "## Шаг 4. Общий вывод"
   ]
  },
  {
   "cell_type": "markdown",
   "metadata": {},
   "source": [
    "В результате исследования было проверено 4 гипотезы и сделаны соответсвующие выводы.\n",
    "\n",
    "**1. Есть ли зависимость между наличием детей и возвратом кредита в срок?**\n",
    "\n",
    "**9,21%** заёмщиков с детьми имеют долги по кредиту, в то время как среди заёмщиков без детей этот показатель равняется **7,54%**. \n",
    "\n",
    "Можно ответить утвердительно: да, зависимость есть. Среди заёмщиков, имеющих детей, случаев задолженности по кредиту на **1,67%** больше.\n",
    "\n",
    "Количество детей также влияет на способность клиента выплатить кредит. Но с возрастанием количества детей, нет равномерного роста неспособности клиента выплатить кредит: с количеством детей `1` и `2` задолженность имеют 9,17-9,49% заёмщиков, но у клиентов с `3` детьми задолженность имеют 8,18%, затем снова рост - 4 детей и 9,76% клиентов имеют задолженность.\n",
    "\n",
    "Для модели скоринга вероятнее удобнее пользоваться обобщёнными категориями `есть дети` и `нет детей`.\n",
    "\n",
    "**2. Есть ли зависимость между семейным положением и возвратом кредита в срок?**\n",
    "\n",
    "Cемейное положение клиентов оказывает влияние на возврат кредита в срок:\n",
    "- Наибольшый процент задолженностей у заёмщиков со статусом `не женат/не замужем` и `гражданский брак` - **9,75%** и **9,35%**, соответственно. \n",
    "- Примено одинаковый результат у категорий `женат/замужем` и `в разводе` - **7,55%** и **7,11%**, соответственно.\n",
    "- Наименьший процент заёмщиков, имеющих задолженность по кредиту, у категории `вдовец/вдова` - **6,57%**\n",
    "\n",
    "**3. Есть ли зависимость между уровнем дохода и возвратом кредита в срок?**\n",
    "\n",
    "В результате проверки гипотезы получено, что примерно одинаковый процент клиентов, имеющих задолженность, наблюдается в категориях доходов (в тысячах рублей) `20-75`, `200-300` и `>300`: **7,29%**, **7,03%** и **7,15%**, соответственно.\n",
    "\n",
    "Немного выше процент клиентов, имеющих задолженность по кредиту, в категориях `75-145` и `145-200`: **8,55%** и **8,62%**\n",
    "\n",
    "Можно сделать вывод, что гипотеза скорее не подтвердилась. Нельзя сказать, что чем выше доход, тем выше вероятность выплатить кредит без долгов. Задолженность по кредиту имеют как клиенты с высоким уровнем дохода, так и с низким. Более высокий процент в категориях `75-145` и `145-200`.\n",
    "\n",
    "**4. Как разные цели кредита влияют на его возврат в срок?**\n",
    "\n",
    "Цель кредита оказывает некоторое влияние на возврат кредита в срок:\n",
    "- **7,23%** задолженностей в категории \"операции с недвижимостью\",\n",
    "- **8%** в категории \"свадьба\",\n",
    "- **9,22%** и **9,35%** в категориях образование и покупка автомобиля, соответственно.\n"
   ]
  },
  {
   "cell_type": "code",
   "execution_count": null,
   "metadata": {},
   "outputs": [],
   "source": []
  }
 ],
 "metadata": {
  "ExecuteTimeLog": [
   {
    "duration": 638,
    "start_time": "2021-10-28T14:23:39.867Z"
   },
   {
    "duration": 47,
    "start_time": "2021-10-28T14:23:43.703Z"
   },
   {
    "duration": 62,
    "start_time": "2021-10-28T14:23:52.688Z"
   },
   {
    "duration": 3,
    "start_time": "2021-10-28T14:27:17.270Z"
   },
   {
    "duration": 55,
    "start_time": "2021-10-28T14:29:43.956Z"
   },
   {
    "duration": 56,
    "start_time": "2021-10-28T14:30:01.414Z"
   },
   {
    "duration": 53,
    "start_time": "2021-10-28T14:30:57.724Z"
   },
   {
    "duration": 10,
    "start_time": "2021-10-28T14:32:22.593Z"
   },
   {
    "duration": 4,
    "start_time": "2021-10-28T14:43:51.436Z"
   },
   {
    "duration": 229,
    "start_time": "2021-10-28T14:45:46.616Z"
   },
   {
    "duration": 4,
    "start_time": "2021-10-28T14:45:56.578Z"
   },
   {
    "duration": 8,
    "start_time": "2021-10-28T14:46:26.506Z"
   },
   {
    "duration": 8,
    "start_time": "2021-10-28T14:46:32.132Z"
   },
   {
    "duration": 57,
    "start_time": "2021-10-28T14:47:01.031Z"
   },
   {
    "duration": 7,
    "start_time": "2021-10-28T14:47:06.269Z"
   },
   {
    "duration": 7,
    "start_time": "2021-10-28T14:47:41.317Z"
   },
   {
    "duration": 200,
    "start_time": "2021-10-29T07:22:22.979Z"
   },
   {
    "duration": 162,
    "start_time": "2021-10-29T07:22:31.085Z"
   },
   {
    "duration": 502,
    "start_time": "2021-10-29T07:22:41.536Z"
   },
   {
    "duration": 62,
    "start_time": "2021-10-29T07:22:42.040Z"
   },
   {
    "duration": 9,
    "start_time": "2021-10-29T07:22:42.104Z"
   },
   {
    "duration": 4,
    "start_time": "2021-10-29T07:22:42.114Z"
   },
   {
    "duration": 2181,
    "start_time": "2021-10-29T07:22:46.410Z"
   },
   {
    "duration": 2850,
    "start_time": "2021-10-29T07:22:51.556Z"
   },
   {
    "duration": 2199,
    "start_time": "2021-10-29T07:24:13.263Z"
   },
   {
    "duration": 2219,
    "start_time": "2021-10-29T07:24:37.891Z"
   },
   {
    "duration": 156,
    "start_time": "2021-10-29T07:25:05.568Z"
   },
   {
    "duration": 172,
    "start_time": "2021-10-29T07:25:08.331Z"
   },
   {
    "duration": 170,
    "start_time": "2021-10-29T07:25:50.231Z"
   },
   {
    "duration": 55,
    "start_time": "2021-10-29T07:26:09.199Z"
   },
   {
    "duration": 4,
    "start_time": "2021-10-29T07:26:40.630Z"
   },
   {
    "duration": 511,
    "start_time": "2021-10-29T07:26:49.238Z"
   },
   {
    "duration": 69,
    "start_time": "2021-10-29T07:26:49.751Z"
   },
   {
    "duration": 11,
    "start_time": "2021-10-29T07:26:49.822Z"
   },
   {
    "duration": 4,
    "start_time": "2021-10-29T07:26:49.835Z"
   },
   {
    "duration": 5,
    "start_time": "2021-10-29T07:27:21.072Z"
   },
   {
    "duration": 3,
    "start_time": "2021-10-29T07:27:32.155Z"
   },
   {
    "duration": 5,
    "start_time": "2021-10-29T07:27:35.667Z"
   },
   {
    "duration": 3091,
    "start_time": "2021-10-29T07:28:00.152Z"
   },
   {
    "duration": 4226,
    "start_time": "2021-10-29T07:28:28.038Z"
   },
   {
    "duration": 5060,
    "start_time": "2021-10-29T07:28:45.966Z"
   },
   {
    "duration": 2158,
    "start_time": "2021-10-29T07:29:22.788Z"
   },
   {
    "duration": 4278,
    "start_time": "2021-10-29T07:29:30.889Z"
   },
   {
    "duration": 164,
    "start_time": "2021-10-29T07:38:20.098Z"
   },
   {
    "duration": 168,
    "start_time": "2021-10-29T07:38:38.580Z"
   },
   {
    "duration": 10,
    "start_time": "2021-10-29T07:38:49.891Z"
   },
   {
    "duration": 16,
    "start_time": "2021-10-29T07:39:13.884Z"
   },
   {
    "duration": 7,
    "start_time": "2021-10-29T07:40:54.987Z"
   },
   {
    "duration": 6,
    "start_time": "2021-10-29T07:41:12.042Z"
   },
   {
    "duration": 4,
    "start_time": "2021-10-29T07:41:50.084Z"
   },
   {
    "duration": 16,
    "start_time": "2021-10-29T07:41:51.488Z"
   },
   {
    "duration": 7,
    "start_time": "2021-10-29T07:41:53.155Z"
   },
   {
    "duration": 7,
    "start_time": "2021-10-29T07:41:55.274Z"
   },
   {
    "duration": 4,
    "start_time": "2021-10-29T07:42:09.191Z"
   },
   {
    "duration": 534,
    "start_time": "2021-10-29T07:42:19.612Z"
   },
   {
    "duration": 67,
    "start_time": "2021-10-29T07:42:20.148Z"
   },
   {
    "duration": 10,
    "start_time": "2021-10-29T07:42:20.219Z"
   },
   {
    "duration": 4,
    "start_time": "2021-10-29T07:42:20.231Z"
   },
   {
    "duration": 16,
    "start_time": "2021-10-29T07:42:20.236Z"
   },
   {
    "duration": 5,
    "start_time": "2021-10-29T07:42:20.254Z"
   },
   {
    "duration": 33,
    "start_time": "2021-10-29T07:42:20.260Z"
   },
   {
    "duration": 22,
    "start_time": "2021-10-29T07:43:48.485Z"
   },
   {
    "duration": 254,
    "start_time": "2021-10-29T07:44:27.326Z"
   },
   {
    "duration": 7,
    "start_time": "2021-10-29T07:45:09.439Z"
   },
   {
    "duration": 7,
    "start_time": "2021-10-29T07:45:32.355Z"
   },
   {
    "duration": 8,
    "start_time": "2021-10-29T07:45:34.468Z"
   },
   {
    "duration": 8,
    "start_time": "2021-10-29T07:45:43.667Z"
   },
   {
    "duration": 7,
    "start_time": "2021-10-29T07:45:50.546Z"
   },
   {
    "duration": 7,
    "start_time": "2021-10-29T07:45:58.268Z"
   },
   {
    "duration": 7,
    "start_time": "2021-10-29T07:46:08.541Z"
   },
   {
    "duration": 8,
    "start_time": "2021-10-29T07:46:53.368Z"
   },
   {
    "duration": 6,
    "start_time": "2021-10-29T07:47:36.888Z"
   },
   {
    "duration": 7,
    "start_time": "2021-10-29T07:48:30.314Z"
   },
   {
    "duration": 8,
    "start_time": "2021-10-29T07:48:51.685Z"
   },
   {
    "duration": 8,
    "start_time": "2021-10-29T07:49:06.873Z"
   },
   {
    "duration": 9,
    "start_time": "2021-10-29T07:49:17.628Z"
   },
   {
    "duration": 5,
    "start_time": "2021-10-29T07:50:09.246Z"
   },
   {
    "duration": 199,
    "start_time": "2021-10-29T07:50:42.822Z"
   },
   {
    "duration": 9,
    "start_time": "2021-10-29T07:50:47.777Z"
   },
   {
    "duration": 4,
    "start_time": "2021-10-29T07:53:03.536Z"
   },
   {
    "duration": 7,
    "start_time": "2021-10-29T07:55:35.764Z"
   },
   {
    "duration": 16,
    "start_time": "2021-10-29T07:58:51.967Z"
   },
   {
    "duration": 8,
    "start_time": "2021-10-29T07:59:03.868Z"
   },
   {
    "duration": 15,
    "start_time": "2021-10-29T07:59:12.873Z"
   },
   {
    "duration": 8,
    "start_time": "2021-10-29T07:59:20.749Z"
   },
   {
    "duration": 8,
    "start_time": "2021-10-29T07:59:39.594Z"
   },
   {
    "duration": 167,
    "start_time": "2021-10-29T07:59:45.265Z"
   },
   {
    "duration": 9,
    "start_time": "2021-10-29T07:59:50.613Z"
   },
   {
    "duration": 7,
    "start_time": "2021-10-29T07:59:57.704Z"
   },
   {
    "duration": 12,
    "start_time": "2021-10-29T08:00:08.262Z"
   },
   {
    "duration": 8,
    "start_time": "2021-10-29T08:00:18.736Z"
   },
   {
    "duration": 6,
    "start_time": "2021-10-29T08:01:12.213Z"
   },
   {
    "duration": 15,
    "start_time": "2021-10-29T08:01:26.404Z"
   },
   {
    "duration": 7,
    "start_time": "2021-10-29T08:01:45.760Z"
   },
   {
    "duration": 10,
    "start_time": "2021-10-29T08:02:07.189Z"
   },
   {
    "duration": 9,
    "start_time": "2021-10-29T08:02:20.544Z"
   },
   {
    "duration": 7,
    "start_time": "2021-10-29T08:02:32.832Z"
   },
   {
    "duration": 7,
    "start_time": "2021-10-29T08:02:39.499Z"
   },
   {
    "duration": 7,
    "start_time": "2021-10-29T08:02:58.892Z"
   },
   {
    "duration": 6,
    "start_time": "2021-10-29T08:03:12.604Z"
   },
   {
    "duration": 6,
    "start_time": "2021-10-29T08:03:31.323Z"
   },
   {
    "duration": 6,
    "start_time": "2021-10-29T08:03:36.140Z"
   },
   {
    "duration": 7,
    "start_time": "2021-10-29T08:03:39.215Z"
   },
   {
    "duration": 10,
    "start_time": "2021-10-29T08:04:07.185Z"
   },
   {
    "duration": 10,
    "start_time": "2021-10-29T08:04:28.097Z"
   },
   {
    "duration": 9,
    "start_time": "2021-10-29T08:04:36.067Z"
   },
   {
    "duration": 8,
    "start_time": "2021-10-29T08:04:43.415Z"
   },
   {
    "duration": 193,
    "start_time": "2021-10-29T08:05:51.814Z"
   },
   {
    "duration": 445,
    "start_time": "2021-10-29T18:38:35.397Z"
   },
   {
    "duration": 370,
    "start_time": "2021-10-29T18:39:03.184Z"
   },
   {
    "duration": 543,
    "start_time": "2021-10-29T18:39:14.790Z"
   },
   {
    "duration": 63,
    "start_time": "2021-10-29T18:39:15.335Z"
   },
   {
    "duration": 11,
    "start_time": "2021-10-29T18:39:15.400Z"
   },
   {
    "duration": 4,
    "start_time": "2021-10-29T18:39:15.413Z"
   },
   {
    "duration": 29,
    "start_time": "2021-10-29T18:39:15.418Z"
   },
   {
    "duration": 7,
    "start_time": "2021-10-29T18:39:15.449Z"
   },
   {
    "duration": 4,
    "start_time": "2021-10-29T18:39:15.458Z"
   },
   {
    "duration": 10,
    "start_time": "2021-10-29T18:39:15.464Z"
   },
   {
    "duration": 11,
    "start_time": "2021-10-29T18:39:15.476Z"
   },
   {
    "duration": 10,
    "start_time": "2021-10-29T18:39:15.489Z"
   },
   {
    "duration": 9,
    "start_time": "2021-10-29T18:39:15.500Z"
   },
   {
    "duration": 38,
    "start_time": "2021-10-29T18:39:15.510Z"
   },
   {
    "duration": 9,
    "start_time": "2021-10-29T18:39:15.550Z"
   },
   {
    "duration": 7,
    "start_time": "2021-10-29T18:39:15.561Z"
   },
   {
    "duration": 18,
    "start_time": "2021-10-29T18:39:15.570Z"
   },
   {
    "duration": 307,
    "start_time": "2021-10-29T18:39:15.590Z"
   },
   {
    "duration": 10,
    "start_time": "2021-10-29T18:40:45.518Z"
   },
   {
    "duration": 10,
    "start_time": "2021-10-29T18:40:53.024Z"
   },
   {
    "duration": 3,
    "start_time": "2021-10-29T18:41:08.192Z"
   },
   {
    "duration": 16,
    "start_time": "2021-10-29T18:44:51.506Z"
   },
   {
    "duration": 5,
    "start_time": "2021-10-29T18:48:35.083Z"
   },
   {
    "duration": 4,
    "start_time": "2021-10-29T18:49:44.321Z"
   },
   {
    "duration": 7,
    "start_time": "2021-10-29T18:50:04.975Z"
   },
   {
    "duration": 8,
    "start_time": "2021-10-29T18:50:32.003Z"
   },
   {
    "duration": 6,
    "start_time": "2021-10-29T18:55:13.843Z"
   },
   {
    "duration": 6,
    "start_time": "2021-10-29T18:57:32.492Z"
   },
   {
    "duration": 4038,
    "start_time": "2021-10-29T19:02:19.001Z"
   },
   {
    "duration": 6622,
    "start_time": "2021-10-29T19:03:48.876Z"
   },
   {
    "duration": 7,
    "start_time": "2021-10-29T19:04:12.023Z"
   },
   {
    "duration": 263,
    "start_time": "2021-10-29T19:07:31.723Z"
   },
   {
    "duration": 572,
    "start_time": "2021-10-29T19:08:00.766Z"
   },
   {
    "duration": 23,
    "start_time": "2021-10-29T19:08:17.056Z"
   },
   {
    "duration": 4,
    "start_time": "2021-10-29T19:08:50.713Z"
   },
   {
    "duration": 7,
    "start_time": "2021-10-29T19:08:58.385Z"
   },
   {
    "duration": 11,
    "start_time": "2021-10-29T19:09:16.065Z"
   },
   {
    "duration": 9,
    "start_time": "2021-10-29T19:09:30.655Z"
   },
   {
    "duration": 6,
    "start_time": "2021-10-29T19:09:40.463Z"
   },
   {
    "duration": 10,
    "start_time": "2021-10-29T19:09:46.223Z"
   },
   {
    "duration": 7,
    "start_time": "2021-10-29T19:10:50.057Z"
   },
   {
    "duration": 11,
    "start_time": "2021-10-29T19:11:25.001Z"
   },
   {
    "duration": 9,
    "start_time": "2021-10-29T19:15:55.735Z"
   },
   {
    "duration": 257,
    "start_time": "2021-10-29T19:16:28.968Z"
   },
   {
    "duration": 8,
    "start_time": "2021-10-29T19:16:38.324Z"
   },
   {
    "duration": 8,
    "start_time": "2021-10-29T19:16:50.155Z"
   },
   {
    "duration": 269,
    "start_time": "2021-10-29T19:18:16.477Z"
   },
   {
    "duration": 8,
    "start_time": "2021-10-29T19:18:25.062Z"
   },
   {
    "duration": 7,
    "start_time": "2021-10-29T19:18:31.737Z"
   },
   {
    "duration": 7,
    "start_time": "2021-10-29T19:18:37.039Z"
   },
   {
    "duration": 285,
    "start_time": "2021-10-29T19:18:57.161Z"
   },
   {
    "duration": 273,
    "start_time": "2021-10-29T19:19:01.257Z"
   },
   {
    "duration": 9,
    "start_time": "2021-10-29T19:19:12.833Z"
   },
   {
    "duration": 9,
    "start_time": "2021-10-29T19:19:40.571Z"
   },
   {
    "duration": 9,
    "start_time": "2021-10-29T19:22:53.349Z"
   },
   {
    "duration": 12,
    "start_time": "2021-10-29T19:28:04.121Z"
   },
   {
    "duration": 9,
    "start_time": "2021-10-29T19:29:19.733Z"
   },
   {
    "duration": 10,
    "start_time": "2021-10-29T19:29:30.604Z"
   },
   {
    "duration": 10,
    "start_time": "2021-10-29T19:31:08.852Z"
   },
   {
    "duration": 592,
    "start_time": "2021-10-29T19:31:23.417Z"
   },
   {
    "duration": 75,
    "start_time": "2021-10-29T19:31:24.011Z"
   },
   {
    "duration": 11,
    "start_time": "2021-10-29T19:31:24.088Z"
   },
   {
    "duration": 6,
    "start_time": "2021-10-29T19:31:24.101Z"
   },
   {
    "duration": 15,
    "start_time": "2021-10-29T19:31:24.109Z"
   },
   {
    "duration": 5,
    "start_time": "2021-10-29T19:31:24.126Z"
   },
   {
    "duration": 15,
    "start_time": "2021-10-29T19:31:24.132Z"
   },
   {
    "duration": 19,
    "start_time": "2021-10-29T19:31:24.149Z"
   },
   {
    "duration": 5,
    "start_time": "2021-10-29T19:31:24.171Z"
   },
   {
    "duration": 10,
    "start_time": "2021-10-29T19:31:24.178Z"
   },
   {
    "duration": 9,
    "start_time": "2021-10-29T19:31:24.190Z"
   },
   {
    "duration": 9,
    "start_time": "2021-10-29T19:31:24.201Z"
   },
   {
    "duration": 8,
    "start_time": "2021-10-29T19:31:24.212Z"
   },
   {
    "duration": 27,
    "start_time": "2021-10-29T19:31:24.222Z"
   },
   {
    "duration": 8,
    "start_time": "2021-10-29T19:31:24.251Z"
   },
   {
    "duration": 8,
    "start_time": "2021-10-29T19:31:24.261Z"
   },
   {
    "duration": 7714,
    "start_time": "2021-10-29T19:31:24.271Z"
   },
   {
    "duration": 4010,
    "start_time": "2021-10-29T19:31:27.978Z"
   },
   {
    "duration": 7,
    "start_time": "2021-10-29T19:32:15.902Z"
   },
   {
    "duration": 7,
    "start_time": "2021-10-29T19:32:36.484Z"
   },
   {
    "duration": 7,
    "start_time": "2021-10-29T19:32:43.055Z"
   },
   {
    "duration": 9,
    "start_time": "2021-10-29T19:33:34.092Z"
   },
   {
    "duration": 8,
    "start_time": "2021-10-29T19:34:22.107Z"
   },
   {
    "duration": 7,
    "start_time": "2021-10-29T19:35:32.272Z"
   },
   {
    "duration": 7,
    "start_time": "2021-10-29T19:35:56.353Z"
   },
   {
    "duration": 6,
    "start_time": "2021-10-29T19:37:18.576Z"
   },
   {
    "duration": 6,
    "start_time": "2021-10-29T19:37:24.629Z"
   },
   {
    "duration": 8,
    "start_time": "2021-10-29T19:37:27.469Z"
   },
   {
    "duration": 349,
    "start_time": "2021-10-29T19:37:30.924Z"
   },
   {
    "duration": 12,
    "start_time": "2021-10-29T19:39:19.563Z"
   },
   {
    "duration": 97,
    "start_time": "2021-10-29T19:39:50.672Z"
   },
   {
    "duration": 23,
    "start_time": "2021-10-29T19:39:56.172Z"
   },
   {
    "duration": 7,
    "start_time": "2021-10-29T19:40:13.938Z"
   },
   {
    "duration": 15,
    "start_time": "2021-10-29T19:40:18.990Z"
   },
   {
    "duration": 11,
    "start_time": "2021-10-29T19:40:31.501Z"
   },
   {
    "duration": 5,
    "start_time": "2021-10-29T19:43:32.958Z"
   },
   {
    "duration": 6,
    "start_time": "2021-10-29T19:48:00.917Z"
   },
   {
    "duration": 4,
    "start_time": "2021-10-29T19:53:11.245Z"
   },
   {
    "duration": 4,
    "start_time": "2021-10-29T19:53:13.436Z"
   },
   {
    "duration": 648,
    "start_time": "2021-10-29T19:53:23.929Z"
   },
   {
    "duration": 83,
    "start_time": "2021-10-29T19:53:24.579Z"
   },
   {
    "duration": 14,
    "start_time": "2021-10-29T19:53:24.664Z"
   },
   {
    "duration": 5,
    "start_time": "2021-10-29T19:53:24.680Z"
   },
   {
    "duration": 17,
    "start_time": "2021-10-29T19:53:24.687Z"
   },
   {
    "duration": 13,
    "start_time": "2021-10-29T19:53:24.705Z"
   },
   {
    "duration": 12,
    "start_time": "2021-10-29T19:53:24.719Z"
   },
   {
    "duration": 29,
    "start_time": "2021-10-29T19:53:24.733Z"
   },
   {
    "duration": 8,
    "start_time": "2021-10-29T19:53:24.764Z"
   },
   {
    "duration": 16,
    "start_time": "2021-10-29T19:53:24.774Z"
   },
   {
    "duration": 25,
    "start_time": "2021-10-29T19:53:24.792Z"
   },
   {
    "duration": 6,
    "start_time": "2021-10-29T19:53:24.819Z"
   },
   {
    "duration": 8,
    "start_time": "2021-10-29T19:53:24.826Z"
   },
   {
    "duration": 14,
    "start_time": "2021-10-29T19:53:24.836Z"
   },
   {
    "duration": 7,
    "start_time": "2021-10-29T19:53:24.851Z"
   },
   {
    "duration": 12,
    "start_time": "2021-10-29T19:53:24.859Z"
   },
   {
    "duration": 14,
    "start_time": "2021-10-29T19:53:24.872Z"
   },
   {
    "duration": 23,
    "start_time": "2021-10-29T19:53:24.888Z"
   },
   {
    "duration": 4,
    "start_time": "2021-10-29T19:53:24.913Z"
   },
   {
    "duration": 5,
    "start_time": "2021-10-29T19:53:45.725Z"
   },
   {
    "duration": 4,
    "start_time": "2021-10-29T19:56:55.513Z"
   },
   {
    "duration": 7,
    "start_time": "2021-10-29T19:57:20.434Z"
   },
   {
    "duration": 6,
    "start_time": "2021-10-29T19:57:46.241Z"
   },
   {
    "duration": 5,
    "start_time": "2021-10-29T19:58:06.680Z"
   },
   {
    "duration": 114,
    "start_time": "2021-10-29T19:59:05.974Z"
   },
   {
    "duration": 137,
    "start_time": "2021-10-29T19:59:12.352Z"
   },
   {
    "duration": 8,
    "start_time": "2021-10-29T19:59:15.410Z"
   },
   {
    "duration": 9,
    "start_time": "2021-10-29T19:59:27.294Z"
   },
   {
    "duration": 8,
    "start_time": "2021-10-29T19:59:37.370Z"
   },
   {
    "duration": 7,
    "start_time": "2021-10-29T19:59:52.206Z"
   },
   {
    "duration": 550,
    "start_time": "2021-10-29T19:59:58.782Z"
   },
   {
    "duration": 97,
    "start_time": "2021-10-29T19:59:59.336Z"
   },
   {
    "duration": 20,
    "start_time": "2021-10-29T19:59:59.436Z"
   },
   {
    "duration": 8,
    "start_time": "2021-10-29T19:59:59.458Z"
   },
   {
    "duration": 19,
    "start_time": "2021-10-29T19:59:59.468Z"
   },
   {
    "duration": 13,
    "start_time": "2021-10-29T19:59:59.489Z"
   },
   {
    "duration": 9,
    "start_time": "2021-10-29T19:59:59.504Z"
   },
   {
    "duration": 18,
    "start_time": "2021-10-29T19:59:59.516Z"
   },
   {
    "duration": 9,
    "start_time": "2021-10-29T19:59:59.549Z"
   },
   {
    "duration": 12,
    "start_time": "2021-10-29T19:59:59.560Z"
   },
   {
    "duration": 9,
    "start_time": "2021-10-29T19:59:59.574Z"
   },
   {
    "duration": 7,
    "start_time": "2021-10-29T19:59:59.584Z"
   },
   {
    "duration": 14,
    "start_time": "2021-10-29T19:59:59.592Z"
   },
   {
    "duration": 41,
    "start_time": "2021-10-29T19:59:59.608Z"
   },
   {
    "duration": 16,
    "start_time": "2021-10-29T19:59:59.651Z"
   },
   {
    "duration": 7,
    "start_time": "2021-10-29T19:59:59.670Z"
   },
   {
    "duration": 15,
    "start_time": "2021-10-29T19:59:59.679Z"
   },
   {
    "duration": 10,
    "start_time": "2021-10-29T19:59:59.696Z"
   },
   {
    "duration": 15,
    "start_time": "2021-10-29T19:59:59.707Z"
   },
   {
    "duration": 57,
    "start_time": "2021-10-29T19:59:59.724Z"
   },
   {
    "duration": 7,
    "start_time": "2021-10-29T19:59:59.784Z"
   },
   {
    "duration": 6,
    "start_time": "2021-10-29T19:59:59.793Z"
   },
   {
    "duration": 7,
    "start_time": "2021-10-29T19:59:59.801Z"
   },
   {
    "duration": 9,
    "start_time": "2021-10-29T20:01:13.256Z"
   },
   {
    "duration": 7,
    "start_time": "2021-10-29T20:01:35.357Z"
   },
   {
    "duration": 575,
    "start_time": "2021-10-29T20:01:40.432Z"
   },
   {
    "duration": 61,
    "start_time": "2021-10-29T20:01:41.009Z"
   },
   {
    "duration": 10,
    "start_time": "2021-10-29T20:01:41.072Z"
   },
   {
    "duration": 4,
    "start_time": "2021-10-29T20:01:41.084Z"
   },
   {
    "duration": 12,
    "start_time": "2021-10-29T20:01:41.089Z"
   },
   {
    "duration": 8,
    "start_time": "2021-10-29T20:01:41.102Z"
   },
   {
    "duration": 4,
    "start_time": "2021-10-29T20:01:41.112Z"
   },
   {
    "duration": 29,
    "start_time": "2021-10-29T20:01:41.119Z"
   },
   {
    "duration": 7,
    "start_time": "2021-10-29T20:01:41.150Z"
   },
   {
    "duration": 4,
    "start_time": "2021-10-29T20:01:41.159Z"
   },
   {
    "duration": 9,
    "start_time": "2021-10-29T20:01:41.165Z"
   },
   {
    "duration": 9,
    "start_time": "2021-10-29T20:01:41.175Z"
   },
   {
    "duration": 9,
    "start_time": "2021-10-29T20:01:41.186Z"
   },
   {
    "duration": 13,
    "start_time": "2021-10-29T20:01:41.197Z"
   },
   {
    "duration": 34,
    "start_time": "2021-10-29T20:01:41.211Z"
   },
   {
    "duration": 5,
    "start_time": "2021-10-29T20:01:41.246Z"
   },
   {
    "duration": 7,
    "start_time": "2021-10-29T20:01:41.253Z"
   },
   {
    "duration": 10,
    "start_time": "2021-10-29T20:01:41.262Z"
   },
   {
    "duration": 9,
    "start_time": "2021-10-29T20:01:41.273Z"
   },
   {
    "duration": 8,
    "start_time": "2021-10-29T20:01:41.284Z"
   },
   {
    "duration": 11,
    "start_time": "2021-10-29T20:01:41.293Z"
   },
   {
    "duration": 6,
    "start_time": "2021-10-29T20:01:41.306Z"
   },
   {
    "duration": 33,
    "start_time": "2021-10-29T20:01:41.315Z"
   },
   {
    "duration": 7,
    "start_time": "2021-10-29T20:01:53.558Z"
   },
   {
    "duration": 6,
    "start_time": "2021-10-29T20:02:17.092Z"
   },
   {
    "duration": 631,
    "start_time": "2021-10-29T20:02:22.510Z"
   },
   {
    "duration": 66,
    "start_time": "2021-10-29T20:02:23.143Z"
   },
   {
    "duration": 10,
    "start_time": "2021-10-29T20:02:23.211Z"
   },
   {
    "duration": 15,
    "start_time": "2021-10-29T20:02:23.223Z"
   },
   {
    "duration": 27,
    "start_time": "2021-10-29T20:02:23.240Z"
   },
   {
    "duration": 32,
    "start_time": "2021-10-29T20:02:23.268Z"
   },
   {
    "duration": 28,
    "start_time": "2021-10-29T20:02:23.301Z"
   },
   {
    "duration": 25,
    "start_time": "2021-10-29T20:02:23.330Z"
   },
   {
    "duration": 29,
    "start_time": "2021-10-29T20:02:23.357Z"
   },
   {
    "duration": 26,
    "start_time": "2021-10-29T20:02:23.387Z"
   },
   {
    "duration": 24,
    "start_time": "2021-10-29T20:02:23.415Z"
   },
   {
    "duration": 19,
    "start_time": "2021-10-29T20:02:23.441Z"
   },
   {
    "duration": 21,
    "start_time": "2021-10-29T20:02:23.462Z"
   },
   {
    "duration": 32,
    "start_time": "2021-10-29T20:02:23.485Z"
   },
   {
    "duration": 12,
    "start_time": "2021-10-29T20:02:23.519Z"
   },
   {
    "duration": 19,
    "start_time": "2021-10-29T20:02:23.533Z"
   },
   {
    "duration": 26,
    "start_time": "2021-10-29T20:02:23.553Z"
   },
   {
    "duration": 18,
    "start_time": "2021-10-29T20:02:23.581Z"
   },
   {
    "duration": 8,
    "start_time": "2021-10-29T20:02:23.601Z"
   },
   {
    "duration": 8,
    "start_time": "2021-10-29T20:02:23.611Z"
   },
   {
    "duration": 28,
    "start_time": "2021-10-29T20:02:23.621Z"
   },
   {
    "duration": 6,
    "start_time": "2021-10-29T20:02:23.651Z"
   },
   {
    "duration": 13,
    "start_time": "2021-10-29T20:02:23.658Z"
   },
   {
    "duration": 4,
    "start_time": "2021-10-29T20:08:16.993Z"
   },
   {
    "duration": 605,
    "start_time": "2021-10-29T20:13:21.167Z"
   },
   {
    "duration": 4,
    "start_time": "2021-10-29T20:13:31.679Z"
   },
   {
    "duration": 4,
    "start_time": "2021-10-29T20:13:44.907Z"
   },
   {
    "duration": 4,
    "start_time": "2021-10-29T20:18:15.486Z"
   },
   {
    "duration": 8,
    "start_time": "2021-10-29T20:18:37.866Z"
   },
   {
    "duration": 15,
    "start_time": "2021-10-29T20:21:55.419Z"
   },
   {
    "duration": 10,
    "start_time": "2021-10-29T20:22:02.612Z"
   },
   {
    "duration": 11,
    "start_time": "2021-10-29T20:23:13.593Z"
   },
   {
    "duration": 750,
    "start_time": "2021-10-29T20:23:25.347Z"
   },
   {
    "duration": 92,
    "start_time": "2021-10-29T20:23:26.099Z"
   },
   {
    "duration": 16,
    "start_time": "2021-10-29T20:23:26.193Z"
   },
   {
    "duration": 4,
    "start_time": "2021-10-29T20:23:26.211Z"
   },
   {
    "duration": 28,
    "start_time": "2021-10-29T20:23:26.217Z"
   },
   {
    "duration": 10,
    "start_time": "2021-10-29T20:23:26.247Z"
   },
   {
    "duration": 5,
    "start_time": "2021-10-29T20:23:26.259Z"
   },
   {
    "duration": 11,
    "start_time": "2021-10-29T20:23:26.266Z"
   },
   {
    "duration": 13,
    "start_time": "2021-10-29T20:23:26.280Z"
   },
   {
    "duration": 9,
    "start_time": "2021-10-29T20:23:26.296Z"
   },
   {
    "duration": 39,
    "start_time": "2021-10-29T20:23:26.307Z"
   },
   {
    "duration": 9,
    "start_time": "2021-10-29T20:23:26.348Z"
   },
   {
    "duration": 8,
    "start_time": "2021-10-29T20:23:26.359Z"
   },
   {
    "duration": 10,
    "start_time": "2021-10-29T20:23:26.369Z"
   },
   {
    "duration": 13,
    "start_time": "2021-10-29T20:23:26.381Z"
   },
   {
    "duration": 11,
    "start_time": "2021-10-29T20:23:26.396Z"
   },
   {
    "duration": 37,
    "start_time": "2021-10-29T20:23:26.410Z"
   },
   {
    "duration": 10,
    "start_time": "2021-10-29T20:23:26.449Z"
   },
   {
    "duration": 15,
    "start_time": "2021-10-29T20:23:26.461Z"
   },
   {
    "duration": 7,
    "start_time": "2021-10-29T20:23:26.478Z"
   },
   {
    "duration": 6,
    "start_time": "2021-10-29T20:23:26.487Z"
   },
   {
    "duration": 5,
    "start_time": "2021-10-29T20:23:26.494Z"
   },
   {
    "duration": 44,
    "start_time": "2021-10-29T20:23:26.501Z"
   },
   {
    "duration": 5,
    "start_time": "2021-10-29T20:23:26.547Z"
   },
   {
    "duration": 11,
    "start_time": "2021-10-29T20:23:26.554Z"
   },
   {
    "duration": 3,
    "start_time": "2021-10-29T20:23:26.567Z"
   },
   {
    "duration": 10,
    "start_time": "2021-10-29T20:23:26.572Z"
   },
   {
    "duration": 13,
    "start_time": "2021-10-29T20:23:26.583Z"
   },
   {
    "duration": 21,
    "start_time": "2021-10-29T20:24:37.469Z"
   },
   {
    "duration": 26,
    "start_time": "2021-10-29T20:26:19.961Z"
   },
   {
    "duration": 299,
    "start_time": "2021-10-29T20:35:34.731Z"
   },
   {
    "duration": 10,
    "start_time": "2021-10-29T20:35:38.838Z"
   },
   {
    "duration": 253,
    "start_time": "2021-10-29T20:35:40.779Z"
   },
   {
    "duration": 9,
    "start_time": "2021-10-29T20:35:55.565Z"
   },
   {
    "duration": 5,
    "start_time": "2021-10-29T20:35:57.545Z"
   },
   {
    "duration": 10,
    "start_time": "2021-10-29T20:36:08.396Z"
   },
   {
    "duration": 9,
    "start_time": "2021-10-29T20:36:10.106Z"
   },
   {
    "duration": 13,
    "start_time": "2021-10-29T20:37:57.922Z"
   },
   {
    "duration": 8,
    "start_time": "2021-10-29T20:42:31.385Z"
   },
   {
    "duration": 5,
    "start_time": "2021-10-29T20:42:49.940Z"
   },
   {
    "duration": 10,
    "start_time": "2021-10-29T20:46:38.212Z"
   },
   {
    "duration": 9,
    "start_time": "2021-10-29T20:46:42.131Z"
   },
   {
    "duration": 4,
    "start_time": "2021-10-29T20:47:36.663Z"
   },
   {
    "duration": 252,
    "start_time": "2021-10-29T20:47:52.351Z"
   },
   {
    "duration": 4,
    "start_time": "2021-10-29T20:48:01.380Z"
   },
   {
    "duration": 6,
    "start_time": "2021-10-29T20:49:11.543Z"
   },
   {
    "duration": 12,
    "start_time": "2021-10-29T20:49:23.617Z"
   },
   {
    "duration": 7,
    "start_time": "2021-10-29T20:56:54.001Z"
   },
   {
    "duration": 262,
    "start_time": "2021-10-29T20:57:46.748Z"
   },
   {
    "duration": 25,
    "start_time": "2021-10-29T20:57:55.590Z"
   },
   {
    "duration": 22,
    "start_time": "2021-10-29T20:59:07.883Z"
   },
   {
    "duration": 592,
    "start_time": "2021-10-29T20:59:50.625Z"
   },
   {
    "duration": 67,
    "start_time": "2021-10-29T20:59:51.219Z"
   },
   {
    "duration": 10,
    "start_time": "2021-10-29T20:59:51.288Z"
   },
   {
    "duration": 13,
    "start_time": "2021-10-29T20:59:51.300Z"
   },
   {
    "duration": 32,
    "start_time": "2021-10-29T20:59:51.315Z"
   },
   {
    "duration": 90,
    "start_time": "2021-10-29T20:59:51.349Z"
   },
   {
    "duration": 3957,
    "start_time": "2021-10-29T20:59:47.485Z"
   },
   {
    "duration": 3956,
    "start_time": "2021-10-29T20:59:47.487Z"
   },
   {
    "duration": 3955,
    "start_time": "2021-10-29T20:59:47.489Z"
   },
   {
    "duration": 3954,
    "start_time": "2021-10-29T20:59:47.491Z"
   },
   {
    "duration": 3953,
    "start_time": "2021-10-29T20:59:47.493Z"
   },
   {
    "duration": 3952,
    "start_time": "2021-10-29T20:59:47.495Z"
   },
   {
    "duration": 3951,
    "start_time": "2021-10-29T20:59:47.497Z"
   },
   {
    "duration": 3951,
    "start_time": "2021-10-29T20:59:47.498Z"
   },
   {
    "duration": 3950,
    "start_time": "2021-10-29T20:59:47.500Z"
   },
   {
    "duration": 3949,
    "start_time": "2021-10-29T20:59:47.502Z"
   },
   {
    "duration": 3948,
    "start_time": "2021-10-29T20:59:47.504Z"
   },
   {
    "duration": 3947,
    "start_time": "2021-10-29T20:59:47.506Z"
   },
   {
    "duration": 3942,
    "start_time": "2021-10-29T20:59:47.512Z"
   },
   {
    "duration": 3941,
    "start_time": "2021-10-29T20:59:47.514Z"
   },
   {
    "duration": 3940,
    "start_time": "2021-10-29T20:59:47.516Z"
   },
   {
    "duration": 3939,
    "start_time": "2021-10-29T20:59:47.518Z"
   },
   {
    "duration": 3938,
    "start_time": "2021-10-29T20:59:47.520Z"
   },
   {
    "duration": 3938,
    "start_time": "2021-10-29T20:59:47.521Z"
   },
   {
    "duration": 3937,
    "start_time": "2021-10-29T20:59:47.523Z"
   },
   {
    "duration": 3936,
    "start_time": "2021-10-29T20:59:47.525Z"
   },
   {
    "duration": 3935,
    "start_time": "2021-10-29T20:59:47.527Z"
   },
   {
    "duration": 3934,
    "start_time": "2021-10-29T20:59:47.529Z"
   },
   {
    "duration": 3933,
    "start_time": "2021-10-29T20:59:47.531Z"
   },
   {
    "duration": 3933,
    "start_time": "2021-10-29T20:59:47.532Z"
   },
   {
    "duration": 3932,
    "start_time": "2021-10-29T20:59:47.534Z"
   },
   {
    "duration": 3931,
    "start_time": "2021-10-29T20:59:47.536Z"
   },
   {
    "duration": 3930,
    "start_time": "2021-10-29T20:59:47.538Z"
   },
   {
    "duration": 3929,
    "start_time": "2021-10-29T20:59:47.540Z"
   },
   {
    "duration": 3929,
    "start_time": "2021-10-29T20:59:47.541Z"
   },
   {
    "duration": 3928,
    "start_time": "2021-10-29T20:59:47.543Z"
   },
   {
    "duration": 3927,
    "start_time": "2021-10-29T20:59:47.545Z"
   },
   {
    "duration": 560,
    "start_time": "2021-10-29T21:00:24.977Z"
   },
   {
    "duration": 67,
    "start_time": "2021-10-29T21:00:25.539Z"
   },
   {
    "duration": 11,
    "start_time": "2021-10-29T21:00:25.608Z"
   },
   {
    "duration": 4,
    "start_time": "2021-10-29T21:00:25.622Z"
   },
   {
    "duration": 29,
    "start_time": "2021-10-29T21:00:25.627Z"
   },
   {
    "duration": 7,
    "start_time": "2021-10-29T21:00:25.658Z"
   },
   {
    "duration": 15,
    "start_time": "2021-10-29T21:00:25.667Z"
   },
   {
    "duration": 10,
    "start_time": "2021-10-29T21:00:25.685Z"
   },
   {
    "duration": 9,
    "start_time": "2021-10-29T21:00:25.697Z"
   },
   {
    "duration": 7,
    "start_time": "2021-10-29T21:00:25.708Z"
   },
   {
    "duration": 29,
    "start_time": "2021-10-29T21:00:25.717Z"
   },
   {
    "duration": 16,
    "start_time": "2021-10-29T21:00:25.748Z"
   },
   {
    "duration": 16,
    "start_time": "2021-10-29T21:00:25.766Z"
   },
   {
    "duration": 11,
    "start_time": "2021-10-29T21:00:25.784Z"
   },
   {
    "duration": 9,
    "start_time": "2021-10-29T21:00:25.796Z"
   },
   {
    "duration": 5,
    "start_time": "2021-10-29T21:00:25.807Z"
   },
   {
    "duration": 9,
    "start_time": "2021-10-29T21:00:25.845Z"
   },
   {
    "duration": 11,
    "start_time": "2021-10-29T21:00:25.856Z"
   },
   {
    "duration": 19,
    "start_time": "2021-10-29T21:00:25.868Z"
   },
   {
    "duration": 11,
    "start_time": "2021-10-29T21:00:25.888Z"
   },
   {
    "duration": 11,
    "start_time": "2021-10-29T21:00:25.900Z"
   },
   {
    "duration": 10,
    "start_time": "2021-10-29T21:00:25.913Z"
   },
   {
    "duration": 26,
    "start_time": "2021-10-29T21:00:25.927Z"
   },
   {
    "duration": 8,
    "start_time": "2021-10-29T21:00:25.955Z"
   },
   {
    "duration": 7,
    "start_time": "2021-10-29T21:00:25.965Z"
   },
   {
    "duration": 9,
    "start_time": "2021-10-29T21:00:25.973Z"
   },
   {
    "duration": 10,
    "start_time": "2021-10-29T21:00:25.984Z"
   },
   {
    "duration": 6,
    "start_time": "2021-10-29T21:00:25.995Z"
   },
   {
    "duration": 43,
    "start_time": "2021-10-29T21:00:26.003Z"
   },
   {
    "duration": 6,
    "start_time": "2021-10-29T21:00:26.048Z"
   },
   {
    "duration": 7,
    "start_time": "2021-10-29T21:00:26.056Z"
   },
   {
    "duration": 5,
    "start_time": "2021-10-29T21:00:26.065Z"
   },
   {
    "duration": 13,
    "start_time": "2021-10-29T21:00:26.072Z"
   },
   {
    "duration": 12,
    "start_time": "2021-10-29T21:00:26.086Z"
   },
   {
    "duration": 10,
    "start_time": "2021-10-29T21:00:26.100Z"
   },
   {
    "duration": 35,
    "start_time": "2021-10-29T21:00:26.112Z"
   },
   {
    "duration": 8,
    "start_time": "2021-10-29T21:05:02.977Z"
   },
   {
    "duration": 7,
    "start_time": "2021-10-29T21:09:29.829Z"
   },
   {
    "duration": 17,
    "start_time": "2021-10-29T21:16:06.499Z"
   },
   {
    "duration": 19,
    "start_time": "2021-10-29T21:16:09.691Z"
   },
   {
    "duration": 17,
    "start_time": "2021-10-29T21:16:11.715Z"
   },
   {
    "duration": 6,
    "start_time": "2021-10-29T21:16:47.388Z"
   },
   {
    "duration": 13,
    "start_time": "2021-10-29T21:18:08.609Z"
   },
   {
    "duration": 6,
    "start_time": "2021-10-29T21:21:51.076Z"
   },
   {
    "duration": 325,
    "start_time": "2021-10-29T21:23:23.557Z"
   },
   {
    "duration": 8,
    "start_time": "2021-10-29T21:23:45.069Z"
   },
   {
    "duration": 7,
    "start_time": "2021-10-29T21:24:11.817Z"
   },
   {
    "duration": 257,
    "start_time": "2021-10-29T21:24:27.613Z"
   },
   {
    "duration": 6,
    "start_time": "2021-10-29T21:24:36.323Z"
   },
   {
    "duration": 269,
    "start_time": "2021-10-29T21:25:04.675Z"
   },
   {
    "duration": 244,
    "start_time": "2021-10-29T21:25:12.657Z"
   },
   {
    "duration": 5,
    "start_time": "2021-10-29T21:25:25.118Z"
   },
   {
    "duration": 19,
    "start_time": "2021-10-29T21:25:30.920Z"
   },
   {
    "duration": 4,
    "start_time": "2021-10-29T21:26:21.165Z"
   },
   {
    "duration": 4,
    "start_time": "2021-10-29T21:26:29.721Z"
   },
   {
    "duration": 11,
    "start_time": "2021-10-29T21:26:54.655Z"
   },
   {
    "duration": 7,
    "start_time": "2021-10-29T21:27:05.224Z"
   },
   {
    "duration": 15,
    "start_time": "2021-10-29T21:29:58.584Z"
   },
   {
    "duration": 6,
    "start_time": "2021-10-29T21:33:16.661Z"
   },
   {
    "duration": 603,
    "start_time": "2021-10-29T21:33:25.439Z"
   },
   {
    "duration": 68,
    "start_time": "2021-10-29T21:33:26.044Z"
   },
   {
    "duration": 11,
    "start_time": "2021-10-29T21:33:26.117Z"
   },
   {
    "duration": 17,
    "start_time": "2021-10-29T21:33:26.130Z"
   },
   {
    "duration": 18,
    "start_time": "2021-10-29T21:33:26.149Z"
   },
   {
    "duration": 7,
    "start_time": "2021-10-29T21:33:26.169Z"
   },
   {
    "duration": 11,
    "start_time": "2021-10-29T21:33:26.179Z"
   },
   {
    "duration": 10,
    "start_time": "2021-10-29T21:33:26.193Z"
   },
   {
    "duration": 6,
    "start_time": "2021-10-29T21:33:26.205Z"
   },
   {
    "duration": 4,
    "start_time": "2021-10-29T21:33:26.244Z"
   },
   {
    "duration": 11,
    "start_time": "2021-10-29T21:33:26.250Z"
   },
   {
    "duration": 31,
    "start_time": "2021-10-29T21:33:26.263Z"
   },
   {
    "duration": 31,
    "start_time": "2021-10-29T21:33:26.295Z"
   },
   {
    "duration": 14,
    "start_time": "2021-10-29T21:33:26.328Z"
   },
   {
    "duration": 23,
    "start_time": "2021-10-29T21:33:26.344Z"
   },
   {
    "duration": 38,
    "start_time": "2021-10-29T21:33:26.369Z"
   },
   {
    "duration": 24,
    "start_time": "2021-10-29T21:33:26.409Z"
   },
   {
    "duration": 14,
    "start_time": "2021-10-29T21:33:26.435Z"
   },
   {
    "duration": 19,
    "start_time": "2021-10-29T21:33:26.451Z"
   },
   {
    "duration": 19,
    "start_time": "2021-10-29T21:33:26.472Z"
   },
   {
    "duration": 18,
    "start_time": "2021-10-29T21:33:26.493Z"
   },
   {
    "duration": 12,
    "start_time": "2021-10-29T21:33:26.515Z"
   },
   {
    "duration": 9,
    "start_time": "2021-10-29T21:33:26.529Z"
   },
   {
    "duration": 14,
    "start_time": "2021-10-29T21:33:26.540Z"
   },
   {
    "duration": 26,
    "start_time": "2021-10-29T21:33:26.556Z"
   },
   {
    "duration": 18,
    "start_time": "2021-10-29T21:33:26.584Z"
   },
   {
    "duration": 19,
    "start_time": "2021-10-29T21:33:26.604Z"
   },
   {
    "duration": 11,
    "start_time": "2021-10-29T21:33:26.625Z"
   },
   {
    "duration": 14,
    "start_time": "2021-10-29T21:33:26.637Z"
   },
   {
    "duration": 11,
    "start_time": "2021-10-29T21:33:26.653Z"
   },
   {
    "duration": 12,
    "start_time": "2021-10-29T21:33:26.665Z"
   },
   {
    "duration": 14,
    "start_time": "2021-10-29T21:33:26.679Z"
   },
   {
    "duration": 9,
    "start_time": "2021-10-29T21:33:26.695Z"
   },
   {
    "duration": 16,
    "start_time": "2021-10-29T21:33:26.706Z"
   },
   {
    "duration": 15,
    "start_time": "2021-10-29T21:33:26.724Z"
   },
   {
    "duration": 9,
    "start_time": "2021-10-29T21:33:26.741Z"
   },
   {
    "duration": 19,
    "start_time": "2021-10-29T21:33:26.752Z"
   },
   {
    "duration": 22,
    "start_time": "2021-10-29T21:33:26.772Z"
   },
   {
    "duration": 17,
    "start_time": "2021-10-29T21:33:26.795Z"
   },
   {
    "duration": 19,
    "start_time": "2021-10-29T21:33:26.813Z"
   },
   {
    "duration": 11,
    "start_time": "2021-10-29T21:33:49.004Z"
   },
   {
    "duration": 9,
    "start_time": "2021-10-29T21:42:04.196Z"
   },
   {
    "duration": 8,
    "start_time": "2021-10-29T21:44:24.928Z"
   },
   {
    "duration": 16,
    "start_time": "2021-10-29T21:44:40.946Z"
   },
   {
    "duration": 8,
    "start_time": "2021-10-29T21:44:53.673Z"
   },
   {
    "duration": 11,
    "start_time": "2021-10-29T21:47:41.313Z"
   },
   {
    "duration": 327,
    "start_time": "2021-10-29T21:52:16.751Z"
   },
   {
    "duration": 267,
    "start_time": "2021-10-29T21:52:56.407Z"
   },
   {
    "duration": 7,
    "start_time": "2021-10-29T21:54:54.468Z"
   },
   {
    "duration": 261,
    "start_time": "2021-10-29T21:55:08.324Z"
   },
   {
    "duration": 636,
    "start_time": "2021-10-29T21:55:21.731Z"
   },
   {
    "duration": 651,
    "start_time": "2021-10-29T21:55:32.903Z"
   },
   {
    "duration": 281,
    "start_time": "2021-10-29T21:56:48.369Z"
   },
   {
    "duration": 5,
    "start_time": "2021-10-29T21:57:51.464Z"
   },
   {
    "duration": 6,
    "start_time": "2021-10-29T21:57:57.317Z"
   },
   {
    "duration": 6,
    "start_time": "2021-10-29T21:58:06.791Z"
   },
   {
    "duration": 7,
    "start_time": "2021-10-29T21:58:17.666Z"
   },
   {
    "duration": 5,
    "start_time": "2021-10-29T22:00:11.334Z"
   },
   {
    "duration": 6,
    "start_time": "2021-10-29T22:00:16.861Z"
   },
   {
    "duration": 787,
    "start_time": "2021-10-29T22:02:22.188Z"
   },
   {
    "duration": 3469,
    "start_time": "2021-10-29T22:11:19.325Z"
   },
   {
    "duration": 3458,
    "start_time": "2021-10-29T22:11:57.855Z"
   },
   {
    "duration": 5535,
    "start_time": "2021-10-29T22:12:11.335Z"
   },
   {
    "duration": 1264,
    "start_time": "2021-10-29T22:13:03.675Z"
   },
   {
    "duration": 595,
    "start_time": "2021-10-29T22:14:59.229Z"
   },
   {
    "duration": 64,
    "start_time": "2021-10-29T22:14:59.826Z"
   },
   {
    "duration": 10,
    "start_time": "2021-10-29T22:14:59.892Z"
   },
   {
    "duration": 11,
    "start_time": "2021-10-29T22:14:59.903Z"
   },
   {
    "duration": 44,
    "start_time": "2021-10-29T22:14:59.915Z"
   },
   {
    "duration": 7,
    "start_time": "2021-10-29T22:14:59.960Z"
   },
   {
    "duration": 15,
    "start_time": "2021-10-29T22:14:59.969Z"
   },
   {
    "duration": 9,
    "start_time": "2021-10-29T22:14:59.987Z"
   },
   {
    "duration": 28,
    "start_time": "2021-10-29T22:14:59.998Z"
   },
   {
    "duration": 18,
    "start_time": "2021-10-29T22:15:00.027Z"
   },
   {
    "duration": 19,
    "start_time": "2021-10-29T22:15:00.047Z"
   },
   {
    "duration": 23,
    "start_time": "2021-10-29T22:15:00.068Z"
   },
   {
    "duration": 23,
    "start_time": "2021-10-29T22:15:00.093Z"
   },
   {
    "duration": 9,
    "start_time": "2021-10-29T22:15:00.118Z"
   },
   {
    "duration": 14,
    "start_time": "2021-10-29T22:15:00.128Z"
   },
   {
    "duration": 42,
    "start_time": "2021-10-29T22:15:00.144Z"
   },
   {
    "duration": 17,
    "start_time": "2021-10-29T22:15:00.188Z"
   },
   {
    "duration": 24,
    "start_time": "2021-10-29T22:15:00.206Z"
   },
   {
    "duration": 28,
    "start_time": "2021-10-29T22:15:00.232Z"
   },
   {
    "duration": 17,
    "start_time": "2021-10-29T22:15:00.262Z"
   },
   {
    "duration": 18,
    "start_time": "2021-10-29T22:15:00.281Z"
   },
   {
    "duration": 24,
    "start_time": "2021-10-29T22:15:00.301Z"
   },
   {
    "duration": 21,
    "start_time": "2021-10-29T22:15:00.328Z"
   },
   {
    "duration": 22,
    "start_time": "2021-10-29T22:15:00.351Z"
   },
   {
    "duration": 16,
    "start_time": "2021-10-29T22:15:00.374Z"
   },
   {
    "duration": 19,
    "start_time": "2021-10-29T22:15:00.391Z"
   },
   {
    "duration": 20,
    "start_time": "2021-10-29T22:15:00.412Z"
   },
   {
    "duration": 17,
    "start_time": "2021-10-29T22:15:00.434Z"
   },
   {
    "duration": 28,
    "start_time": "2021-10-29T22:15:00.452Z"
   },
   {
    "duration": 24,
    "start_time": "2021-10-29T22:15:00.482Z"
   },
   {
    "duration": 21,
    "start_time": "2021-10-29T22:15:00.508Z"
   },
   {
    "duration": 15,
    "start_time": "2021-10-29T22:15:00.532Z"
   },
   {
    "duration": 25,
    "start_time": "2021-10-29T22:15:00.549Z"
   },
   {
    "duration": 14,
    "start_time": "2021-10-29T22:15:00.576Z"
   },
   {
    "duration": 17,
    "start_time": "2021-10-29T22:15:00.592Z"
   },
   {
    "duration": 10,
    "start_time": "2021-10-29T22:15:00.611Z"
   },
   {
    "duration": 24,
    "start_time": "2021-10-29T22:15:00.622Z"
   },
   {
    "duration": 21,
    "start_time": "2021-10-29T22:15:00.648Z"
   },
   {
    "duration": 25,
    "start_time": "2021-10-29T22:15:00.670Z"
   },
   {
    "duration": 24,
    "start_time": "2021-10-29T22:15:00.697Z"
   },
   {
    "duration": 13,
    "start_time": "2021-10-29T22:15:00.723Z"
   },
   {
    "duration": 17,
    "start_time": "2021-10-29T22:15:00.737Z"
   },
   {
    "duration": 24,
    "start_time": "2021-10-29T22:15:00.756Z"
   },
   {
    "duration": 21,
    "start_time": "2021-10-29T22:15:00.781Z"
   },
   {
    "duration": 3547,
    "start_time": "2021-10-29T22:15:00.805Z"
   },
   {
    "duration": 1380,
    "start_time": "2021-10-29T22:17:01.768Z"
   },
   {
    "duration": 1774,
    "start_time": "2021-10-29T22:17:40.630Z"
   },
   {
    "duration": 566,
    "start_time": "2021-10-29T22:17:49.871Z"
   },
   {
    "duration": 66,
    "start_time": "2021-10-29T22:17:50.439Z"
   },
   {
    "duration": 10,
    "start_time": "2021-10-29T22:17:50.507Z"
   },
   {
    "duration": 12,
    "start_time": "2021-10-29T22:17:50.519Z"
   },
   {
    "duration": 24,
    "start_time": "2021-10-29T22:17:50.533Z"
   },
   {
    "duration": 11,
    "start_time": "2021-10-29T22:17:50.559Z"
   },
   {
    "duration": 28,
    "start_time": "2021-10-29T22:17:50.572Z"
   },
   {
    "duration": 20,
    "start_time": "2021-10-29T22:17:50.602Z"
   },
   {
    "duration": 18,
    "start_time": "2021-10-29T22:17:50.625Z"
   },
   {
    "duration": 16,
    "start_time": "2021-10-29T22:17:50.645Z"
   },
   {
    "duration": 22,
    "start_time": "2021-10-29T22:17:50.663Z"
   },
   {
    "duration": 20,
    "start_time": "2021-10-29T22:17:50.687Z"
   },
   {
    "duration": 16,
    "start_time": "2021-10-29T22:17:50.709Z"
   },
   {
    "duration": 7,
    "start_time": "2021-10-29T22:17:50.726Z"
   },
   {
    "duration": 19,
    "start_time": "2021-10-29T22:17:50.735Z"
   },
   {
    "duration": 26,
    "start_time": "2021-10-29T22:17:50.756Z"
   },
   {
    "duration": 20,
    "start_time": "2021-10-29T22:17:50.783Z"
   },
   {
    "duration": 11,
    "start_time": "2021-10-29T22:17:50.805Z"
   },
   {
    "duration": 10,
    "start_time": "2021-10-29T22:17:50.818Z"
   },
   {
    "duration": 15,
    "start_time": "2021-10-29T22:17:50.830Z"
   },
   {
    "duration": 15,
    "start_time": "2021-10-29T22:17:50.847Z"
   },
   {
    "duration": 11,
    "start_time": "2021-10-29T22:17:50.864Z"
   },
   {
    "duration": 8,
    "start_time": "2021-10-29T22:17:50.879Z"
   },
   {
    "duration": 10,
    "start_time": "2021-10-29T22:17:50.889Z"
   },
   {
    "duration": 24,
    "start_time": "2021-10-29T22:17:50.901Z"
   },
   {
    "duration": 14,
    "start_time": "2021-10-29T22:17:50.927Z"
   },
   {
    "duration": 21,
    "start_time": "2021-10-29T22:17:50.943Z"
   },
   {
    "duration": 11,
    "start_time": "2021-10-29T22:17:50.966Z"
   },
   {
    "duration": 18,
    "start_time": "2021-10-29T22:17:50.979Z"
   },
   {
    "duration": 23,
    "start_time": "2021-10-29T22:17:50.998Z"
   },
   {
    "duration": 21,
    "start_time": "2021-10-29T22:17:51.023Z"
   },
   {
    "duration": 31,
    "start_time": "2021-10-29T22:17:51.046Z"
   },
   {
    "duration": 15,
    "start_time": "2021-10-29T22:17:51.079Z"
   },
   {
    "duration": 13,
    "start_time": "2021-10-29T22:17:51.096Z"
   },
   {
    "duration": 30,
    "start_time": "2021-10-29T22:17:51.111Z"
   },
   {
    "duration": 27,
    "start_time": "2021-10-29T22:17:51.143Z"
   },
   {
    "duration": 26,
    "start_time": "2021-10-29T22:17:51.171Z"
   },
   {
    "duration": 21,
    "start_time": "2021-10-29T22:17:51.199Z"
   },
   {
    "duration": 22,
    "start_time": "2021-10-29T22:17:51.221Z"
   },
   {
    "duration": 33,
    "start_time": "2021-10-29T22:17:51.245Z"
   },
   {
    "duration": 19,
    "start_time": "2021-10-29T22:17:51.280Z"
   },
   {
    "duration": 27,
    "start_time": "2021-10-29T22:17:51.301Z"
   },
   {
    "duration": 20,
    "start_time": "2021-10-29T22:17:51.330Z"
   },
   {
    "duration": 13,
    "start_time": "2021-10-29T22:17:51.352Z"
   },
   {
    "duration": 3427,
    "start_time": "2021-10-29T22:17:51.367Z"
   },
   {
    "duration": 1420,
    "start_time": "2021-10-29T22:18:41.579Z"
   },
   {
    "duration": 582,
    "start_time": "2021-10-29T22:18:55.033Z"
   },
   {
    "duration": 65,
    "start_time": "2021-10-29T22:18:55.617Z"
   },
   {
    "duration": 10,
    "start_time": "2021-10-29T22:18:55.684Z"
   },
   {
    "duration": 6,
    "start_time": "2021-10-29T22:18:55.696Z"
   },
   {
    "duration": 23,
    "start_time": "2021-10-29T22:18:55.704Z"
   },
   {
    "duration": 16,
    "start_time": "2021-10-29T22:18:55.729Z"
   },
   {
    "duration": 12,
    "start_time": "2021-10-29T22:18:55.746Z"
   },
   {
    "duration": 18,
    "start_time": "2021-10-29T22:18:55.760Z"
   },
   {
    "duration": 16,
    "start_time": "2021-10-29T22:18:55.780Z"
   },
   {
    "duration": 11,
    "start_time": "2021-10-29T22:18:55.798Z"
   },
   {
    "duration": 15,
    "start_time": "2021-10-29T22:18:55.811Z"
   },
   {
    "duration": 18,
    "start_time": "2021-10-29T22:18:55.828Z"
   },
   {
    "duration": 24,
    "start_time": "2021-10-29T22:18:55.848Z"
   },
   {
    "duration": 6,
    "start_time": "2021-10-29T22:18:55.873Z"
   },
   {
    "duration": 13,
    "start_time": "2021-10-29T22:18:55.881Z"
   },
   {
    "duration": 29,
    "start_time": "2021-10-29T22:18:55.895Z"
   },
   {
    "duration": 20,
    "start_time": "2021-10-29T22:18:55.925Z"
   },
   {
    "duration": 12,
    "start_time": "2021-10-29T22:18:55.946Z"
   },
   {
    "duration": 8,
    "start_time": "2021-10-29T22:18:55.959Z"
   },
   {
    "duration": 6,
    "start_time": "2021-10-29T22:18:55.969Z"
   },
   {
    "duration": 9,
    "start_time": "2021-10-29T22:18:55.976Z"
   },
   {
    "duration": 8,
    "start_time": "2021-10-29T22:18:55.986Z"
   },
   {
    "duration": 5,
    "start_time": "2021-10-29T22:18:55.997Z"
   },
   {
    "duration": 6,
    "start_time": "2021-10-29T22:18:56.004Z"
   },
   {
    "duration": 37,
    "start_time": "2021-10-29T22:18:56.012Z"
   },
   {
    "duration": 15,
    "start_time": "2021-10-29T22:18:56.051Z"
   },
   {
    "duration": 21,
    "start_time": "2021-10-29T22:18:56.067Z"
   },
   {
    "duration": 10,
    "start_time": "2021-10-29T22:18:56.089Z"
   },
   {
    "duration": 14,
    "start_time": "2021-10-29T22:18:56.101Z"
   },
   {
    "duration": 18,
    "start_time": "2021-10-29T22:18:56.117Z"
   },
   {
    "duration": 15,
    "start_time": "2021-10-29T22:18:56.137Z"
   },
   {
    "duration": 8,
    "start_time": "2021-10-29T22:18:56.154Z"
   },
   {
    "duration": 12,
    "start_time": "2021-10-29T22:18:56.163Z"
   },
   {
    "duration": 9,
    "start_time": "2021-10-29T22:18:56.176Z"
   },
   {
    "duration": 9,
    "start_time": "2021-10-29T22:18:56.186Z"
   },
   {
    "duration": 12,
    "start_time": "2021-10-29T22:18:56.197Z"
   },
   {
    "duration": 17,
    "start_time": "2021-10-29T22:18:56.210Z"
   },
   {
    "duration": 4,
    "start_time": "2021-10-29T22:18:56.229Z"
   },
   {
    "duration": 16,
    "start_time": "2021-10-29T22:18:56.235Z"
   },
   {
    "duration": 12,
    "start_time": "2021-10-29T22:18:56.253Z"
   },
   {
    "duration": 6,
    "start_time": "2021-10-29T22:18:56.267Z"
   },
   {
    "duration": 7,
    "start_time": "2021-10-29T22:18:56.275Z"
   },
   {
    "duration": 8,
    "start_time": "2021-10-29T22:18:56.284Z"
   },
   {
    "duration": 7,
    "start_time": "2021-10-29T22:18:56.293Z"
   },
   {
    "duration": 3418,
    "start_time": "2021-10-29T22:18:56.301Z"
   },
   {
    "duration": 1199,
    "start_time": "2021-10-29T22:19:23.809Z"
   },
   {
    "duration": 64,
    "start_time": "2021-10-29T22:19:25.010Z"
   },
   {
    "duration": 10,
    "start_time": "2021-10-29T22:19:25.079Z"
   },
   {
    "duration": 14,
    "start_time": "2021-10-29T22:19:25.090Z"
   },
   {
    "duration": 35,
    "start_time": "2021-10-29T22:19:25.106Z"
   },
   {
    "duration": 6,
    "start_time": "2021-10-29T22:19:25.143Z"
   },
   {
    "duration": 19,
    "start_time": "2021-10-29T22:19:25.152Z"
   },
   {
    "duration": 25,
    "start_time": "2021-10-29T22:19:25.173Z"
   },
   {
    "duration": 17,
    "start_time": "2021-10-29T22:19:25.200Z"
   },
   {
    "duration": 15,
    "start_time": "2021-10-29T22:19:25.218Z"
   },
   {
    "duration": 22,
    "start_time": "2021-10-29T22:19:25.235Z"
   },
   {
    "duration": 25,
    "start_time": "2021-10-29T22:19:25.258Z"
   },
   {
    "duration": 25,
    "start_time": "2021-10-29T22:19:25.285Z"
   },
   {
    "duration": 9,
    "start_time": "2021-10-29T22:19:25.311Z"
   },
   {
    "duration": 28,
    "start_time": "2021-10-29T22:19:25.322Z"
   },
   {
    "duration": 38,
    "start_time": "2021-10-29T22:19:25.352Z"
   },
   {
    "duration": 15,
    "start_time": "2021-10-29T22:19:25.392Z"
   },
   {
    "duration": 16,
    "start_time": "2021-10-29T22:19:25.409Z"
   },
   {
    "duration": 20,
    "start_time": "2021-10-29T22:19:25.427Z"
   },
   {
    "duration": 19,
    "start_time": "2021-10-29T22:19:25.449Z"
   },
   {
    "duration": 13,
    "start_time": "2021-10-29T22:19:25.469Z"
   },
   {
    "duration": 11,
    "start_time": "2021-10-29T22:19:25.485Z"
   },
   {
    "duration": 26,
    "start_time": "2021-10-29T22:19:25.498Z"
   },
   {
    "duration": 21,
    "start_time": "2021-10-29T22:19:25.526Z"
   },
   {
    "duration": 17,
    "start_time": "2021-10-29T22:19:25.549Z"
   },
   {
    "duration": 15,
    "start_time": "2021-10-29T22:19:25.568Z"
   },
   {
    "duration": 18,
    "start_time": "2021-10-29T22:19:25.585Z"
   },
   {
    "duration": 14,
    "start_time": "2021-10-29T22:19:25.605Z"
   },
   {
    "duration": 28,
    "start_time": "2021-10-29T22:19:25.620Z"
   },
   {
    "duration": 21,
    "start_time": "2021-10-29T22:19:25.649Z"
   },
   {
    "duration": 22,
    "start_time": "2021-10-29T22:19:25.671Z"
   },
   {
    "duration": 12,
    "start_time": "2021-10-29T22:19:25.695Z"
   },
   {
    "duration": 25,
    "start_time": "2021-10-29T22:19:25.709Z"
   },
   {
    "duration": 23,
    "start_time": "2021-10-29T22:19:25.736Z"
   },
   {
    "duration": 30,
    "start_time": "2021-10-29T22:19:25.761Z"
   },
   {
    "duration": 13,
    "start_time": "2021-10-29T22:19:25.793Z"
   },
   {
    "duration": 16,
    "start_time": "2021-10-29T22:19:25.808Z"
   },
   {
    "duration": 24,
    "start_time": "2021-10-29T22:19:25.825Z"
   },
   {
    "duration": 18,
    "start_time": "2021-10-29T22:19:25.851Z"
   },
   {
    "duration": 21,
    "start_time": "2021-10-29T22:19:25.870Z"
   },
   {
    "duration": 15,
    "start_time": "2021-10-29T22:19:25.892Z"
   },
   {
    "duration": 20,
    "start_time": "2021-10-29T22:19:25.908Z"
   },
   {
    "duration": 17,
    "start_time": "2021-10-29T22:19:25.929Z"
   },
   {
    "duration": 15,
    "start_time": "2021-10-29T22:19:25.947Z"
   },
   {
    "duration": 3229,
    "start_time": "2021-10-29T22:19:25.964Z"
   },
   {
    "duration": 567,
    "start_time": "2021-10-29T22:20:23.371Z"
   },
   {
    "duration": 66,
    "start_time": "2021-10-29T22:20:23.940Z"
   },
   {
    "duration": 10,
    "start_time": "2021-10-29T22:20:24.008Z"
   },
   {
    "duration": 8,
    "start_time": "2021-10-29T22:20:24.020Z"
   },
   {
    "duration": 22,
    "start_time": "2021-10-29T22:20:24.029Z"
   },
   {
    "duration": 9,
    "start_time": "2021-10-29T22:20:24.052Z"
   },
   {
    "duration": 14,
    "start_time": "2021-10-29T22:20:24.063Z"
   },
   {
    "duration": 11,
    "start_time": "2021-10-29T22:20:24.080Z"
   },
   {
    "duration": 9,
    "start_time": "2021-10-29T22:20:24.093Z"
   },
   {
    "duration": 6,
    "start_time": "2021-10-29T22:20:24.104Z"
   },
   {
    "duration": 9,
    "start_time": "2021-10-29T22:20:24.112Z"
   },
   {
    "duration": 28,
    "start_time": "2021-10-29T22:20:24.122Z"
   },
   {
    "duration": 16,
    "start_time": "2021-10-29T22:20:24.152Z"
   },
   {
    "duration": 6,
    "start_time": "2021-10-29T22:20:24.169Z"
   },
   {
    "duration": 11,
    "start_time": "2021-10-29T22:20:24.177Z"
   },
   {
    "duration": 20,
    "start_time": "2021-10-29T22:20:24.190Z"
   },
   {
    "duration": 41,
    "start_time": "2021-10-29T22:20:24.212Z"
   },
   {
    "duration": 11,
    "start_time": "2021-10-29T22:20:24.255Z"
   },
   {
    "duration": 9,
    "start_time": "2021-10-29T22:20:24.268Z"
   },
   {
    "duration": 4,
    "start_time": "2021-10-29T22:20:24.279Z"
   },
   {
    "duration": 9,
    "start_time": "2021-10-29T22:20:24.285Z"
   },
   {
    "duration": 7,
    "start_time": "2021-10-29T22:20:24.295Z"
   },
   {
    "duration": 40,
    "start_time": "2021-10-29T22:20:24.305Z"
   },
   {
    "duration": 7,
    "start_time": "2021-10-29T22:20:24.347Z"
   },
   {
    "duration": 8,
    "start_time": "2021-10-29T22:20:24.356Z"
   },
   {
    "duration": 11,
    "start_time": "2021-10-29T22:20:24.365Z"
   },
   {
    "duration": 13,
    "start_time": "2021-10-29T22:20:24.378Z"
   },
   {
    "duration": 9,
    "start_time": "2021-10-29T22:20:24.392Z"
   },
   {
    "duration": 8,
    "start_time": "2021-10-29T22:20:24.402Z"
   },
   {
    "duration": 35,
    "start_time": "2021-10-29T22:20:24.412Z"
   },
   {
    "duration": 12,
    "start_time": "2021-10-29T22:20:24.449Z"
   },
   {
    "duration": 9,
    "start_time": "2021-10-29T22:20:24.463Z"
   },
   {
    "duration": 9,
    "start_time": "2021-10-29T22:20:24.474Z"
   },
   {
    "duration": 5,
    "start_time": "2021-10-29T22:20:24.485Z"
   },
   {
    "duration": 6,
    "start_time": "2021-10-29T22:20:24.492Z"
   },
   {
    "duration": 4,
    "start_time": "2021-10-29T22:20:24.500Z"
   },
   {
    "duration": 44,
    "start_time": "2021-10-29T22:20:24.506Z"
   },
   {
    "duration": 8,
    "start_time": "2021-10-29T22:20:24.551Z"
   },
   {
    "duration": 12,
    "start_time": "2021-10-29T22:20:24.561Z"
   },
   {
    "duration": 19,
    "start_time": "2021-10-29T22:20:24.575Z"
   },
   {
    "duration": 5,
    "start_time": "2021-10-29T22:20:24.596Z"
   },
   {
    "duration": 13,
    "start_time": "2021-10-29T22:20:24.602Z"
   },
   {
    "duration": 5,
    "start_time": "2021-10-29T22:20:24.617Z"
   },
   {
    "duration": 24,
    "start_time": "2021-10-29T22:20:24.624Z"
   },
   {
    "duration": 3571,
    "start_time": "2021-10-29T22:20:24.650Z"
   },
   {
    "duration": 622,
    "start_time": "2021-10-29T22:20:39.068Z"
   },
   {
    "duration": 66,
    "start_time": "2021-10-29T22:20:39.692Z"
   },
   {
    "duration": 11,
    "start_time": "2021-10-29T22:20:39.763Z"
   },
   {
    "duration": 4,
    "start_time": "2021-10-29T22:20:39.776Z"
   },
   {
    "duration": 26,
    "start_time": "2021-10-29T22:20:39.781Z"
   },
   {
    "duration": 8,
    "start_time": "2021-10-29T22:20:39.809Z"
   },
   {
    "duration": 34,
    "start_time": "2021-10-29T22:20:39.820Z"
   },
   {
    "duration": 14,
    "start_time": "2021-10-29T22:20:39.856Z"
   },
   {
    "duration": 7,
    "start_time": "2021-10-29T22:20:39.872Z"
   },
   {
    "duration": 5,
    "start_time": "2021-10-29T22:20:39.881Z"
   },
   {
    "duration": 9,
    "start_time": "2021-10-29T22:20:39.888Z"
   },
   {
    "duration": 11,
    "start_time": "2021-10-29T22:20:39.899Z"
   },
   {
    "duration": 42,
    "start_time": "2021-10-29T22:20:39.912Z"
   },
   {
    "duration": 7,
    "start_time": "2021-10-29T22:20:39.956Z"
   },
   {
    "duration": 9,
    "start_time": "2021-10-29T22:20:39.964Z"
   },
   {
    "duration": 20,
    "start_time": "2021-10-29T22:20:39.975Z"
   },
   {
    "duration": 48,
    "start_time": "2021-10-29T22:20:39.997Z"
   },
   {
    "duration": 12,
    "start_time": "2021-10-29T22:20:40.046Z"
   },
   {
    "duration": 7,
    "start_time": "2021-10-29T22:20:40.059Z"
   },
   {
    "duration": 5,
    "start_time": "2021-10-29T22:20:40.068Z"
   },
   {
    "duration": 10,
    "start_time": "2021-10-29T22:20:40.075Z"
   },
   {
    "duration": 8,
    "start_time": "2021-10-29T22:20:40.088Z"
   },
   {
    "duration": 6,
    "start_time": "2021-10-29T22:20:40.098Z"
   },
   {
    "duration": 41,
    "start_time": "2021-10-29T22:20:40.105Z"
   },
   {
    "duration": 8,
    "start_time": "2021-10-29T22:20:40.147Z"
   },
   {
    "duration": 9,
    "start_time": "2021-10-29T22:20:40.157Z"
   },
   {
    "duration": 19,
    "start_time": "2021-10-29T22:20:40.167Z"
   },
   {
    "duration": 8,
    "start_time": "2021-10-29T22:20:40.188Z"
   },
   {
    "duration": 8,
    "start_time": "2021-10-29T22:20:40.197Z"
   },
   {
    "duration": 8,
    "start_time": "2021-10-29T22:20:40.206Z"
   },
   {
    "duration": 11,
    "start_time": "2021-10-29T22:20:40.244Z"
   },
   {
    "duration": 7,
    "start_time": "2021-10-29T22:20:40.257Z"
   },
   {
    "duration": 5,
    "start_time": "2021-10-29T22:20:40.266Z"
   },
   {
    "duration": 4,
    "start_time": "2021-10-29T22:20:40.273Z"
   },
   {
    "duration": 8,
    "start_time": "2021-10-29T22:20:40.279Z"
   },
   {
    "duration": 5,
    "start_time": "2021-10-29T22:20:40.288Z"
   },
   {
    "duration": 49,
    "start_time": "2021-10-29T22:20:40.295Z"
   },
   {
    "duration": 4,
    "start_time": "2021-10-29T22:20:40.346Z"
   },
   {
    "duration": 11,
    "start_time": "2021-10-29T22:20:40.352Z"
   },
   {
    "duration": 13,
    "start_time": "2021-10-29T22:20:40.365Z"
   },
   {
    "duration": 5,
    "start_time": "2021-10-29T22:20:40.380Z"
   },
   {
    "duration": 12,
    "start_time": "2021-10-29T22:20:40.386Z"
   },
   {
    "duration": 7,
    "start_time": "2021-10-29T22:20:40.400Z"
   },
   {
    "duration": 39,
    "start_time": "2021-10-29T22:20:40.409Z"
   },
   {
    "duration": 3539,
    "start_time": "2021-10-29T22:20:40.450Z"
   },
   {
    "duration": 3948,
    "start_time": "2021-10-29T22:22:56.083Z"
   },
   {
    "duration": 3802,
    "start_time": "2021-10-29T22:23:21.290Z"
   },
   {
    "duration": 3421,
    "start_time": "2021-10-29T22:23:26.292Z"
   },
   {
    "duration": 3406,
    "start_time": "2021-10-29T22:23:40.072Z"
   },
   {
    "duration": 3436,
    "start_time": "2021-10-29T22:23:54.533Z"
   },
   {
    "duration": 3506,
    "start_time": "2021-10-29T22:24:24.499Z"
   },
   {
    "duration": 4069,
    "start_time": "2021-10-29T22:24:50.441Z"
   },
   {
    "duration": 4015,
    "start_time": "2021-10-29T22:25:33.958Z"
   },
   {
    "duration": 3484,
    "start_time": "2021-10-29T22:25:44.933Z"
   },
   {
    "duration": 598,
    "start_time": "2021-10-29T22:25:59.830Z"
   },
   {
    "duration": 67,
    "start_time": "2021-10-29T22:26:00.430Z"
   },
   {
    "duration": 10,
    "start_time": "2021-10-29T22:26:00.500Z"
   },
   {
    "duration": 20,
    "start_time": "2021-10-29T22:26:00.512Z"
   },
   {
    "duration": 37,
    "start_time": "2021-10-29T22:26:00.534Z"
   },
   {
    "duration": 23,
    "start_time": "2021-10-29T22:26:00.573Z"
   },
   {
    "duration": 31,
    "start_time": "2021-10-29T22:26:00.598Z"
   },
   {
    "duration": 34,
    "start_time": "2021-10-29T22:26:00.631Z"
   },
   {
    "duration": 51,
    "start_time": "2021-10-29T22:26:00.667Z"
   },
   {
    "duration": 18,
    "start_time": "2021-10-29T22:26:00.720Z"
   },
   {
    "duration": 31,
    "start_time": "2021-10-29T22:26:00.740Z"
   },
   {
    "duration": 43,
    "start_time": "2021-10-29T22:26:00.773Z"
   },
   {
    "duration": 40,
    "start_time": "2021-10-29T22:26:00.818Z"
   },
   {
    "duration": 14,
    "start_time": "2021-10-29T22:26:00.860Z"
   },
   {
    "duration": 42,
    "start_time": "2021-10-29T22:26:00.876Z"
   },
   {
    "duration": 38,
    "start_time": "2021-10-29T22:26:00.920Z"
   },
   {
    "duration": 27,
    "start_time": "2021-10-29T22:26:00.960Z"
   },
   {
    "duration": 15,
    "start_time": "2021-10-29T22:26:00.988Z"
   },
   {
    "duration": 10,
    "start_time": "2021-10-29T22:26:01.004Z"
   },
   {
    "duration": 13,
    "start_time": "2021-10-29T22:26:01.016Z"
   },
   {
    "duration": 12,
    "start_time": "2021-10-29T22:26:01.031Z"
   },
   {
    "duration": 8,
    "start_time": "2021-10-29T22:26:01.046Z"
   },
   {
    "duration": 6,
    "start_time": "2021-10-29T22:26:01.056Z"
   },
   {
    "duration": 18,
    "start_time": "2021-10-29T22:26:01.064Z"
   },
   {
    "duration": 11,
    "start_time": "2021-10-29T22:26:01.084Z"
   },
   {
    "duration": 16,
    "start_time": "2021-10-29T22:26:01.097Z"
   },
   {
    "duration": 16,
    "start_time": "2021-10-29T22:26:01.115Z"
   },
   {
    "duration": 7,
    "start_time": "2021-10-29T22:26:01.133Z"
   },
   {
    "duration": 8,
    "start_time": "2021-10-29T22:26:01.141Z"
   },
   {
    "duration": 8,
    "start_time": "2021-10-29T22:26:01.151Z"
   },
   {
    "duration": 13,
    "start_time": "2021-10-29T22:26:01.160Z"
   },
   {
    "duration": 11,
    "start_time": "2021-10-29T22:26:01.175Z"
   },
   {
    "duration": 5,
    "start_time": "2021-10-29T22:26:01.188Z"
   },
   {
    "duration": 12,
    "start_time": "2021-10-29T22:26:01.195Z"
   },
   {
    "duration": 10,
    "start_time": "2021-10-29T22:26:01.209Z"
   },
   {
    "duration": 24,
    "start_time": "2021-10-29T22:26:01.221Z"
   },
   {
    "duration": 10,
    "start_time": "2021-10-29T22:26:01.247Z"
   },
   {
    "duration": 4,
    "start_time": "2021-10-29T22:26:01.259Z"
   },
   {
    "duration": 14,
    "start_time": "2021-10-29T22:26:01.264Z"
   },
   {
    "duration": 14,
    "start_time": "2021-10-29T22:26:01.280Z"
   },
   {
    "duration": 6,
    "start_time": "2021-10-29T22:26:01.295Z"
   },
   {
    "duration": 19,
    "start_time": "2021-10-29T22:26:01.302Z"
   },
   {
    "duration": 6,
    "start_time": "2021-10-29T22:26:01.344Z"
   },
   {
    "duration": 17,
    "start_time": "2021-10-29T22:26:01.351Z"
   },
   {
    "duration": 3140,
    "start_time": "2021-10-29T22:26:01.370Z"
   },
   {
    "duration": 3886,
    "start_time": "2021-10-29T22:28:58.580Z"
   },
   {
    "duration": 3423,
    "start_time": "2021-10-29T22:29:14.838Z"
   },
   {
    "duration": 3581,
    "start_time": "2021-10-29T22:30:12.165Z"
   },
   {
    "duration": 3791,
    "start_time": "2021-10-29T22:30:31.389Z"
   },
   {
    "duration": 3723,
    "start_time": "2021-10-29T22:30:45.303Z"
   },
   {
    "duration": 606,
    "start_time": "2021-10-29T22:31:13.525Z"
   },
   {
    "duration": 67,
    "start_time": "2021-10-29T22:31:14.134Z"
   },
   {
    "duration": 11,
    "start_time": "2021-10-29T22:31:14.204Z"
   },
   {
    "duration": 3,
    "start_time": "2021-10-29T22:31:14.217Z"
   },
   {
    "duration": 33,
    "start_time": "2021-10-29T22:31:14.222Z"
   },
   {
    "duration": 7,
    "start_time": "2021-10-29T22:31:14.257Z"
   },
   {
    "duration": 13,
    "start_time": "2021-10-29T22:31:14.266Z"
   },
   {
    "duration": 12,
    "start_time": "2021-10-29T22:31:14.281Z"
   },
   {
    "duration": 6,
    "start_time": "2021-10-29T22:31:14.295Z"
   },
   {
    "duration": 6,
    "start_time": "2021-10-29T22:31:14.302Z"
   },
   {
    "duration": 9,
    "start_time": "2021-10-29T22:31:14.310Z"
   },
   {
    "duration": 33,
    "start_time": "2021-10-29T22:31:14.320Z"
   },
   {
    "duration": 16,
    "start_time": "2021-10-29T22:31:14.354Z"
   },
   {
    "duration": 6,
    "start_time": "2021-10-29T22:31:14.372Z"
   },
   {
    "duration": 8,
    "start_time": "2021-10-29T22:31:14.380Z"
   },
   {
    "duration": 20,
    "start_time": "2021-10-29T22:31:14.390Z"
   },
   {
    "duration": 47,
    "start_time": "2021-10-29T22:31:14.411Z"
   },
   {
    "duration": 12,
    "start_time": "2021-10-29T22:31:14.460Z"
   },
   {
    "duration": 6,
    "start_time": "2021-10-29T22:31:14.474Z"
   },
   {
    "duration": 6,
    "start_time": "2021-10-29T22:31:14.482Z"
   },
   {
    "duration": 11,
    "start_time": "2021-10-29T22:31:14.490Z"
   },
   {
    "duration": 45,
    "start_time": "2021-10-29T22:31:14.503Z"
   },
   {
    "duration": 6,
    "start_time": "2021-10-29T22:31:14.553Z"
   },
   {
    "duration": 11,
    "start_time": "2021-10-29T22:31:14.562Z"
   },
   {
    "duration": 10,
    "start_time": "2021-10-29T22:31:14.575Z"
   },
   {
    "duration": 11,
    "start_time": "2021-10-29T22:31:14.586Z"
   },
   {
    "duration": 10,
    "start_time": "2021-10-29T22:31:14.599Z"
   },
   {
    "duration": 39,
    "start_time": "2021-10-29T22:31:14.611Z"
   },
   {
    "duration": 7,
    "start_time": "2021-10-29T22:31:14.652Z"
   },
   {
    "duration": 8,
    "start_time": "2021-10-29T22:31:14.661Z"
   },
   {
    "duration": 11,
    "start_time": "2021-10-29T22:31:14.671Z"
   },
   {
    "duration": 7,
    "start_time": "2021-10-29T22:31:14.684Z"
   },
   {
    "duration": 5,
    "start_time": "2021-10-29T22:31:14.692Z"
   },
   {
    "duration": 47,
    "start_time": "2021-10-29T22:31:14.698Z"
   },
   {
    "duration": 5,
    "start_time": "2021-10-29T22:31:14.747Z"
   },
   {
    "duration": 5,
    "start_time": "2021-10-29T22:31:14.754Z"
   },
   {
    "duration": 9,
    "start_time": "2021-10-29T22:31:14.760Z"
   },
   {
    "duration": 8,
    "start_time": "2021-10-29T22:31:14.770Z"
   },
   {
    "duration": 12,
    "start_time": "2021-10-29T22:31:14.780Z"
   },
   {
    "duration": 18,
    "start_time": "2021-10-29T22:31:14.793Z"
   },
   {
    "duration": 11,
    "start_time": "2021-10-29T22:31:14.813Z"
   },
   {
    "duration": 24,
    "start_time": "2021-10-29T22:31:14.825Z"
   },
   {
    "duration": 11,
    "start_time": "2021-10-29T22:31:14.850Z"
   },
   {
    "duration": 6,
    "start_time": "2021-10-29T22:31:14.862Z"
   },
   {
    "duration": 3502,
    "start_time": "2021-10-29T22:31:14.869Z"
   },
   {
    "duration": 677,
    "start_time": "2021-10-29T22:32:39.710Z"
   },
   {
    "duration": 66,
    "start_time": "2021-10-29T22:32:40.388Z"
   },
   {
    "duration": 11,
    "start_time": "2021-10-29T22:32:40.456Z"
   },
   {
    "duration": 4,
    "start_time": "2021-10-29T22:32:40.469Z"
   },
   {
    "duration": 29,
    "start_time": "2021-10-29T22:32:40.475Z"
   },
   {
    "duration": 9,
    "start_time": "2021-10-29T22:32:40.506Z"
   },
   {
    "duration": 21,
    "start_time": "2021-10-29T22:32:40.517Z"
   },
   {
    "duration": 8,
    "start_time": "2021-10-29T22:32:40.545Z"
   },
   {
    "duration": 6,
    "start_time": "2021-10-29T22:32:40.555Z"
   },
   {
    "duration": 5,
    "start_time": "2021-10-29T22:32:40.563Z"
   },
   {
    "duration": 12,
    "start_time": "2021-10-29T22:32:40.569Z"
   },
   {
    "duration": 11,
    "start_time": "2021-10-29T22:32:40.583Z"
   },
   {
    "duration": 15,
    "start_time": "2021-10-29T22:32:40.596Z"
   },
   {
    "duration": 36,
    "start_time": "2021-10-29T22:32:40.613Z"
   },
   {
    "duration": 13,
    "start_time": "2021-10-29T22:32:40.651Z"
   },
   {
    "duration": 19,
    "start_time": "2021-10-29T22:32:40.665Z"
   },
   {
    "duration": 16,
    "start_time": "2021-10-29T22:32:40.685Z"
   },
   {
    "duration": 10,
    "start_time": "2021-10-29T22:32:40.703Z"
   },
   {
    "duration": 30,
    "start_time": "2021-10-29T22:32:40.715Z"
   },
   {
    "duration": 6,
    "start_time": "2021-10-29T22:32:40.746Z"
   },
   {
    "duration": 10,
    "start_time": "2021-10-29T22:32:40.754Z"
   },
   {
    "duration": 7,
    "start_time": "2021-10-29T22:32:40.766Z"
   },
   {
    "duration": 5,
    "start_time": "2021-10-29T22:32:40.776Z"
   },
   {
    "duration": 9,
    "start_time": "2021-10-29T22:32:40.783Z"
   },
   {
    "duration": 8,
    "start_time": "2021-10-29T22:32:40.793Z"
   },
   {
    "duration": 44,
    "start_time": "2021-10-29T22:32:40.802Z"
   },
   {
    "duration": 13,
    "start_time": "2021-10-29T22:32:40.848Z"
   },
   {
    "duration": 7,
    "start_time": "2021-10-29T22:32:40.863Z"
   },
   {
    "duration": 12,
    "start_time": "2021-10-29T22:32:40.871Z"
   },
   {
    "duration": 10,
    "start_time": "2021-10-29T22:32:40.884Z"
   },
   {
    "duration": 10,
    "start_time": "2021-10-29T22:32:40.896Z"
   },
   {
    "duration": 7,
    "start_time": "2021-10-29T22:32:40.907Z"
   },
   {
    "duration": 29,
    "start_time": "2021-10-29T22:32:40.915Z"
   },
   {
    "duration": 4,
    "start_time": "2021-10-29T22:32:40.946Z"
   },
   {
    "duration": 6,
    "start_time": "2021-10-29T22:32:40.952Z"
   },
   {
    "duration": 4,
    "start_time": "2021-10-29T22:32:40.960Z"
   },
   {
    "duration": 8,
    "start_time": "2021-10-29T22:32:40.966Z"
   },
   {
    "duration": 7,
    "start_time": "2021-10-29T22:32:40.976Z"
   },
   {
    "duration": 11,
    "start_time": "2021-10-29T22:32:40.985Z"
   },
   {
    "duration": 13,
    "start_time": "2021-10-29T22:32:40.997Z"
   },
   {
    "duration": 36,
    "start_time": "2021-10-29T22:32:41.012Z"
   },
   {
    "duration": 8,
    "start_time": "2021-10-29T22:32:41.049Z"
   },
   {
    "duration": 5,
    "start_time": "2021-10-29T22:32:41.059Z"
   },
   {
    "duration": 14,
    "start_time": "2021-10-29T22:32:41.066Z"
   },
   {
    "duration": 3415,
    "start_time": "2021-10-29T22:32:41.082Z"
   },
   {
    "duration": 563,
    "start_time": "2021-10-29T22:33:46.667Z"
   },
   {
    "duration": 64,
    "start_time": "2021-10-29T22:33:47.232Z"
   },
   {
    "duration": 10,
    "start_time": "2021-10-29T22:33:47.298Z"
   },
   {
    "duration": 12,
    "start_time": "2021-10-29T22:33:47.310Z"
   },
   {
    "duration": 26,
    "start_time": "2021-10-29T22:33:47.324Z"
   },
   {
    "duration": 6,
    "start_time": "2021-10-29T22:33:47.352Z"
   },
   {
    "duration": 13,
    "start_time": "2021-10-29T22:33:47.360Z"
   },
   {
    "duration": 18,
    "start_time": "2021-10-29T22:33:47.376Z"
   },
   {
    "duration": 12,
    "start_time": "2021-10-29T22:33:47.396Z"
   },
   {
    "duration": 8,
    "start_time": "2021-10-29T22:33:47.409Z"
   },
   {
    "duration": 17,
    "start_time": "2021-10-29T22:33:47.419Z"
   },
   {
    "duration": 17,
    "start_time": "2021-10-29T22:33:47.438Z"
   },
   {
    "duration": 20,
    "start_time": "2021-10-29T22:33:47.457Z"
   },
   {
    "duration": 9,
    "start_time": "2021-10-29T22:33:47.478Z"
   },
   {
    "duration": 15,
    "start_time": "2021-10-29T22:33:47.488Z"
   },
   {
    "duration": 25,
    "start_time": "2021-10-29T22:33:47.505Z"
   },
   {
    "duration": 22,
    "start_time": "2021-10-29T22:33:47.532Z"
   },
   {
    "duration": 10,
    "start_time": "2021-10-29T22:33:47.555Z"
   },
   {
    "duration": 7,
    "start_time": "2021-10-29T22:33:47.566Z"
   },
   {
    "duration": 5,
    "start_time": "2021-10-29T22:33:47.574Z"
   },
   {
    "duration": 9,
    "start_time": "2021-10-29T22:33:47.581Z"
   },
   {
    "duration": 7,
    "start_time": "2021-10-29T22:33:47.591Z"
   },
   {
    "duration": 6,
    "start_time": "2021-10-29T22:33:47.602Z"
   },
   {
    "duration": 37,
    "start_time": "2021-10-29T22:33:47.610Z"
   },
   {
    "duration": 6,
    "start_time": "2021-10-29T22:33:47.649Z"
   },
   {
    "duration": 9,
    "start_time": "2021-10-29T22:33:47.657Z"
   },
   {
    "duration": 12,
    "start_time": "2021-10-29T22:33:47.667Z"
   },
   {
    "duration": 8,
    "start_time": "2021-10-29T22:33:47.681Z"
   },
   {
    "duration": 7,
    "start_time": "2021-10-29T22:33:47.691Z"
   },
   {
    "duration": 49,
    "start_time": "2021-10-29T22:33:47.699Z"
   },
   {
    "duration": 12,
    "start_time": "2021-10-29T22:33:47.750Z"
   },
   {
    "duration": 11,
    "start_time": "2021-10-29T22:33:47.764Z"
   },
   {
    "duration": 13,
    "start_time": "2021-10-29T22:33:47.776Z"
   },
   {
    "duration": 4,
    "start_time": "2021-10-29T22:33:47.791Z"
   },
   {
    "duration": 10,
    "start_time": "2021-10-29T22:33:47.796Z"
   },
   {
    "duration": 6,
    "start_time": "2021-10-29T22:33:47.807Z"
   },
   {
    "duration": 31,
    "start_time": "2021-10-29T22:33:47.814Z"
   },
   {
    "duration": 11,
    "start_time": "2021-10-29T22:33:47.846Z"
   },
   {
    "duration": 13,
    "start_time": "2021-10-29T22:33:47.859Z"
   },
   {
    "duration": 22,
    "start_time": "2021-10-29T22:33:47.874Z"
   },
   {
    "duration": 6,
    "start_time": "2021-10-29T22:33:47.897Z"
   },
   {
    "duration": 18,
    "start_time": "2021-10-29T22:33:47.904Z"
   },
   {
    "duration": 9,
    "start_time": "2021-10-29T22:33:47.924Z"
   },
   {
    "duration": 4,
    "start_time": "2021-10-29T22:33:47.935Z"
   },
   {
    "duration": 3422,
    "start_time": "2021-10-29T22:33:47.941Z"
   },
   {
    "duration": 578,
    "start_time": "2021-10-29T22:34:37.652Z"
   },
   {
    "duration": 64,
    "start_time": "2021-10-29T22:34:38.232Z"
   },
   {
    "duration": 10,
    "start_time": "2021-10-29T22:34:38.298Z"
   },
   {
    "duration": 4,
    "start_time": "2021-10-29T22:34:38.310Z"
   },
   {
    "duration": 33,
    "start_time": "2021-10-29T22:34:38.316Z"
   },
   {
    "duration": 7,
    "start_time": "2021-10-29T22:34:38.351Z"
   },
   {
    "duration": 12,
    "start_time": "2021-10-29T22:34:38.359Z"
   },
   {
    "duration": 33,
    "start_time": "2021-10-29T22:34:38.374Z"
   },
   {
    "duration": 7,
    "start_time": "2021-10-29T22:34:38.410Z"
   },
   {
    "duration": 5,
    "start_time": "2021-10-29T22:34:38.419Z"
   },
   {
    "duration": 9,
    "start_time": "2021-10-29T22:34:38.425Z"
   },
   {
    "duration": 15,
    "start_time": "2021-10-29T22:34:38.436Z"
   },
   {
    "duration": 16,
    "start_time": "2021-10-29T22:34:38.453Z"
   },
   {
    "duration": 7,
    "start_time": "2021-10-29T22:34:38.470Z"
   },
   {
    "duration": 9,
    "start_time": "2021-10-29T22:34:38.478Z"
   },
   {
    "duration": 20,
    "start_time": "2021-10-29T22:34:38.488Z"
   },
   {
    "duration": 44,
    "start_time": "2021-10-29T22:34:38.509Z"
   },
   {
    "duration": 10,
    "start_time": "2021-10-29T22:34:38.555Z"
   },
   {
    "duration": 7,
    "start_time": "2021-10-29T22:34:38.566Z"
   },
   {
    "duration": 6,
    "start_time": "2021-10-29T22:34:38.575Z"
   },
   {
    "duration": 10,
    "start_time": "2021-10-29T22:34:38.583Z"
   },
   {
    "duration": 7,
    "start_time": "2021-10-29T22:34:38.595Z"
   },
   {
    "duration": 5,
    "start_time": "2021-10-29T22:34:38.605Z"
   },
   {
    "duration": 37,
    "start_time": "2021-10-29T22:34:38.611Z"
   },
   {
    "duration": 6,
    "start_time": "2021-10-29T22:34:38.649Z"
   },
   {
    "duration": 8,
    "start_time": "2021-10-29T22:34:38.657Z"
   },
   {
    "duration": 11,
    "start_time": "2021-10-29T22:34:38.667Z"
   },
   {
    "duration": 7,
    "start_time": "2021-10-29T22:34:38.680Z"
   },
   {
    "duration": 7,
    "start_time": "2021-10-29T22:34:38.688Z"
   },
   {
    "duration": 9,
    "start_time": "2021-10-29T22:34:38.696Z"
   },
   {
    "duration": 39,
    "start_time": "2021-10-29T22:34:38.706Z"
   },
   {
    "duration": 7,
    "start_time": "2021-10-29T22:34:38.747Z"
   },
   {
    "duration": 9,
    "start_time": "2021-10-29T22:34:38.756Z"
   },
   {
    "duration": 8,
    "start_time": "2021-10-29T22:34:38.766Z"
   },
   {
    "duration": 10,
    "start_time": "2021-10-29T22:34:38.776Z"
   },
   {
    "duration": 4,
    "start_time": "2021-10-29T22:34:38.788Z"
   },
   {
    "duration": 6,
    "start_time": "2021-10-29T22:34:38.794Z"
   },
   {
    "duration": 3,
    "start_time": "2021-10-29T22:34:38.802Z"
   },
   {
    "duration": 42,
    "start_time": "2021-10-29T22:34:38.807Z"
   },
   {
    "duration": 19,
    "start_time": "2021-10-29T22:34:38.851Z"
   },
   {
    "duration": 5,
    "start_time": "2021-10-29T22:34:38.872Z"
   },
   {
    "duration": 14,
    "start_time": "2021-10-29T22:34:38.879Z"
   },
   {
    "duration": 8,
    "start_time": "2021-10-29T22:34:38.894Z"
   },
   {
    "duration": 11,
    "start_time": "2021-10-29T22:34:38.904Z"
   },
   {
    "duration": 3285,
    "start_time": "2021-10-29T22:34:38.917Z"
   },
   {
    "duration": 307,
    "start_time": "2021-10-29T22:39:21.713Z"
   },
   {
    "duration": 5,
    "start_time": "2021-10-29T22:40:13.611Z"
   },
   {
    "duration": 14,
    "start_time": "2021-10-29T22:41:01.594Z"
   },
   {
    "duration": 8,
    "start_time": "2021-10-29T22:41:07.870Z"
   },
   {
    "duration": 6,
    "start_time": "2021-10-29T22:41:13.455Z"
   },
   {
    "duration": 10345,
    "start_time": "2021-10-29T22:41:54.073Z"
   },
   {
    "duration": 584,
    "start_time": "2021-10-29T22:42:14.644Z"
   },
   {
    "duration": 64,
    "start_time": "2021-10-29T22:42:15.230Z"
   },
   {
    "duration": 11,
    "start_time": "2021-10-29T22:42:15.296Z"
   },
   {
    "duration": 4,
    "start_time": "2021-10-29T22:42:15.308Z"
   },
   {
    "duration": 34,
    "start_time": "2021-10-29T22:42:15.313Z"
   },
   {
    "duration": 7,
    "start_time": "2021-10-29T22:42:15.348Z"
   },
   {
    "duration": 14,
    "start_time": "2021-10-29T22:42:15.356Z"
   },
   {
    "duration": 8,
    "start_time": "2021-10-29T22:42:15.372Z"
   },
   {
    "duration": 7,
    "start_time": "2021-10-29T22:42:15.381Z"
   },
   {
    "duration": 4,
    "start_time": "2021-10-29T22:42:15.389Z"
   },
   {
    "duration": 10,
    "start_time": "2021-10-29T22:42:15.394Z"
   },
   {
    "duration": 40,
    "start_time": "2021-10-29T22:42:15.405Z"
   },
   {
    "duration": 16,
    "start_time": "2021-10-29T22:42:15.447Z"
   },
   {
    "duration": 7,
    "start_time": "2021-10-29T22:42:15.464Z"
   },
   {
    "duration": 9,
    "start_time": "2021-10-29T22:42:15.472Z"
   },
   {
    "duration": 19,
    "start_time": "2021-10-29T22:42:15.482Z"
   },
   {
    "duration": 44,
    "start_time": "2021-10-29T22:42:15.502Z"
   },
   {
    "duration": 11,
    "start_time": "2021-10-29T22:42:15.547Z"
   },
   {
    "duration": 4,
    "start_time": "2021-10-29T22:42:15.559Z"
   },
   {
    "duration": 4,
    "start_time": "2021-10-29T22:42:15.565Z"
   },
   {
    "duration": 8,
    "start_time": "2021-10-29T22:42:15.570Z"
   },
   {
    "duration": 6,
    "start_time": "2021-10-29T22:42:15.580Z"
   },
   {
    "duration": 5,
    "start_time": "2021-10-29T22:42:15.589Z"
   },
   {
    "duration": 8,
    "start_time": "2021-10-29T22:42:15.596Z"
   },
   {
    "duration": 44,
    "start_time": "2021-10-29T22:42:15.605Z"
   },
   {
    "duration": 12,
    "start_time": "2021-10-29T22:42:15.651Z"
   },
   {
    "duration": 18,
    "start_time": "2021-10-29T22:42:15.664Z"
   },
   {
    "duration": 8,
    "start_time": "2021-10-29T22:42:15.683Z"
   },
   {
    "duration": 8,
    "start_time": "2021-10-29T22:42:15.693Z"
   },
   {
    "duration": 8,
    "start_time": "2021-10-29T22:42:15.702Z"
   },
   {
    "duration": 35,
    "start_time": "2021-10-29T22:42:15.711Z"
   },
   {
    "duration": 6,
    "start_time": "2021-10-29T22:42:15.747Z"
   },
   {
    "duration": 6,
    "start_time": "2021-10-29T22:42:15.755Z"
   },
   {
    "duration": 8,
    "start_time": "2021-10-29T22:42:15.762Z"
   },
   {
    "duration": 8,
    "start_time": "2021-10-29T22:42:15.772Z"
   },
   {
    "duration": 4,
    "start_time": "2021-10-29T22:42:15.781Z"
   },
   {
    "duration": 9,
    "start_time": "2021-10-29T22:42:15.786Z"
   },
   {
    "duration": 3,
    "start_time": "2021-10-29T22:42:15.797Z"
   },
   {
    "duration": 48,
    "start_time": "2021-10-29T22:42:15.801Z"
   },
   {
    "duration": 14,
    "start_time": "2021-10-29T22:42:15.851Z"
   },
   {
    "duration": 5,
    "start_time": "2021-10-29T22:42:15.867Z"
   },
   {
    "duration": 7,
    "start_time": "2021-10-29T22:42:15.874Z"
   },
   {
    "duration": 5,
    "start_time": "2021-10-29T22:42:15.883Z"
   },
   {
    "duration": 5,
    "start_time": "2021-10-29T22:42:15.890Z"
   },
   {
    "duration": 13285,
    "start_time": "2021-10-29T22:42:15.896Z"
   },
   {
    "duration": 3883,
    "start_time": "2021-10-29T22:42:25.301Z"
   },
   {
    "duration": 585,
    "start_time": "2021-10-29T22:42:34.531Z"
   },
   {
    "duration": 65,
    "start_time": "2021-10-29T22:42:35.118Z"
   },
   {
    "duration": 10,
    "start_time": "2021-10-29T22:42:35.185Z"
   },
   {
    "duration": 12,
    "start_time": "2021-10-29T22:42:35.197Z"
   },
   {
    "duration": 35,
    "start_time": "2021-10-29T22:42:35.211Z"
   },
   {
    "duration": 11,
    "start_time": "2021-10-29T22:42:35.248Z"
   },
   {
    "duration": 25,
    "start_time": "2021-10-29T22:42:35.260Z"
   },
   {
    "duration": 30,
    "start_time": "2021-10-29T22:42:35.288Z"
   },
   {
    "duration": 10,
    "start_time": "2021-10-29T22:42:35.320Z"
   },
   {
    "duration": 10,
    "start_time": "2021-10-29T22:42:35.332Z"
   },
   {
    "duration": 26,
    "start_time": "2021-10-29T22:42:35.344Z"
   },
   {
    "duration": 17,
    "start_time": "2021-10-29T22:42:35.372Z"
   },
   {
    "duration": 23,
    "start_time": "2021-10-29T22:42:35.390Z"
   },
   {
    "duration": 10,
    "start_time": "2021-10-29T22:42:35.415Z"
   },
   {
    "duration": 12,
    "start_time": "2021-10-29T22:42:35.427Z"
   },
   {
    "duration": 30,
    "start_time": "2021-10-29T22:42:35.441Z"
   },
   {
    "duration": 15,
    "start_time": "2021-10-29T22:42:35.473Z"
   },
   {
    "duration": 14,
    "start_time": "2021-10-29T22:42:35.490Z"
   },
   {
    "duration": 28,
    "start_time": "2021-10-29T22:42:35.505Z"
   },
   {
    "duration": 21,
    "start_time": "2021-10-29T22:42:35.534Z"
   },
   {
    "duration": 18,
    "start_time": "2021-10-29T22:42:35.556Z"
   },
   {
    "duration": 11,
    "start_time": "2021-10-29T22:42:35.576Z"
   },
   {
    "duration": 21,
    "start_time": "2021-10-29T22:42:35.591Z"
   },
   {
    "duration": 26,
    "start_time": "2021-10-29T22:42:35.614Z"
   },
   {
    "duration": 22,
    "start_time": "2021-10-29T22:42:35.642Z"
   },
   {
    "duration": 14,
    "start_time": "2021-10-29T22:42:35.665Z"
   },
   {
    "duration": 33,
    "start_time": "2021-10-29T22:42:35.680Z"
   },
   {
    "duration": 22,
    "start_time": "2021-10-29T22:42:35.715Z"
   },
   {
    "duration": 39,
    "start_time": "2021-10-29T22:42:35.739Z"
   },
   {
    "duration": 21,
    "start_time": "2021-10-29T22:42:35.780Z"
   },
   {
    "duration": 35,
    "start_time": "2021-10-29T22:42:35.802Z"
   },
   {
    "duration": 19,
    "start_time": "2021-10-29T22:42:35.838Z"
   },
   {
    "duration": 7,
    "start_time": "2021-10-29T22:42:35.859Z"
   },
   {
    "duration": 12,
    "start_time": "2021-10-29T22:42:35.868Z"
   },
   {
    "duration": 24,
    "start_time": "2021-10-29T22:42:35.882Z"
   },
   {
    "duration": 9,
    "start_time": "2021-10-29T22:42:35.908Z"
   },
   {
    "duration": 23,
    "start_time": "2021-10-29T22:42:35.918Z"
   },
   {
    "duration": 3,
    "start_time": "2021-10-29T22:42:35.943Z"
   },
   {
    "duration": 23,
    "start_time": "2021-10-29T22:42:35.948Z"
   },
   {
    "duration": 41,
    "start_time": "2021-10-29T22:42:35.973Z"
   },
   {
    "duration": 10,
    "start_time": "2021-10-29T22:42:36.015Z"
   },
   {
    "duration": 23,
    "start_time": "2021-10-29T22:42:36.027Z"
   },
   {
    "duration": 36,
    "start_time": "2021-10-29T22:42:36.052Z"
   },
   {
    "duration": 26,
    "start_time": "2021-10-29T22:42:36.090Z"
   },
   {
    "duration": 3143,
    "start_time": "2021-10-29T22:42:36.117Z"
   },
   {
    "duration": 9,
    "start_time": "2021-10-29T22:42:39.262Z"
   },
   {
    "duration": 4,
    "start_time": "2021-10-29T22:43:22.063Z"
   },
   {
    "duration": 332,
    "start_time": "2021-10-29T22:43:52.361Z"
   },
   {
    "duration": 282,
    "start_time": "2021-10-29T22:43:58.271Z"
   },
   {
    "duration": 285,
    "start_time": "2021-10-29T22:44:11.705Z"
   },
   {
    "duration": 299,
    "start_time": "2021-10-29T22:44:16.381Z"
   },
   {
    "duration": 6113,
    "start_time": "2021-10-29T22:44:37.460Z"
   },
   {
    "duration": 7,
    "start_time": "2021-10-29T22:45:18.739Z"
   },
   {
    "duration": 414,
    "start_time": "2021-10-30T06:51:59.587Z"
   },
   {
    "duration": 877,
    "start_time": "2021-10-30T06:52:32.474Z"
   },
   {
    "duration": 91,
    "start_time": "2021-10-30T06:52:33.354Z"
   },
   {
    "duration": 15,
    "start_time": "2021-10-30T06:52:33.448Z"
   },
   {
    "duration": 6,
    "start_time": "2021-10-30T06:52:33.465Z"
   },
   {
    "duration": 49,
    "start_time": "2021-10-30T06:52:33.473Z"
   },
   {
    "duration": 10,
    "start_time": "2021-10-30T06:52:33.524Z"
   },
   {
    "duration": 18,
    "start_time": "2021-10-30T06:52:33.536Z"
   },
   {
    "duration": 42,
    "start_time": "2021-10-30T06:52:33.558Z"
   },
   {
    "duration": 8,
    "start_time": "2021-10-30T06:52:33.603Z"
   },
   {
    "duration": 6,
    "start_time": "2021-10-30T06:52:33.613Z"
   },
   {
    "duration": 11,
    "start_time": "2021-10-30T06:52:33.621Z"
   },
   {
    "duration": 24,
    "start_time": "2021-10-30T06:52:33.635Z"
   },
   {
    "duration": 57,
    "start_time": "2021-10-30T06:52:33.661Z"
   },
   {
    "duration": 10,
    "start_time": "2021-10-30T06:52:33.720Z"
   },
   {
    "duration": 15,
    "start_time": "2021-10-30T06:52:33.732Z"
   },
   {
    "duration": 58,
    "start_time": "2021-10-30T06:52:33.750Z"
   },
   {
    "duration": 25,
    "start_time": "2021-10-30T06:52:33.811Z"
   },
   {
    "duration": 16,
    "start_time": "2021-10-30T06:52:33.838Z"
   },
   {
    "duration": 8,
    "start_time": "2021-10-30T06:52:33.857Z"
   },
   {
    "duration": 35,
    "start_time": "2021-10-30T06:52:33.867Z"
   },
   {
    "duration": 17,
    "start_time": "2021-10-30T06:52:33.904Z"
   },
   {
    "duration": 10,
    "start_time": "2021-10-30T06:52:33.924Z"
   },
   {
    "duration": 7,
    "start_time": "2021-10-30T06:52:33.939Z"
   },
   {
    "duration": 9,
    "start_time": "2021-10-30T06:52:33.949Z"
   },
   {
    "duration": 8,
    "start_time": "2021-10-30T06:52:34.001Z"
   },
   {
    "duration": 19,
    "start_time": "2021-10-30T06:52:34.012Z"
   },
   {
    "duration": 19,
    "start_time": "2021-10-30T06:52:34.034Z"
   },
   {
    "duration": 12,
    "start_time": "2021-10-30T06:52:34.055Z"
   },
   {
    "duration": 33,
    "start_time": "2021-10-30T06:52:34.070Z"
   },
   {
    "duration": 11,
    "start_time": "2021-10-30T06:52:34.105Z"
   },
   {
    "duration": 16,
    "start_time": "2021-10-30T06:52:34.118Z"
   },
   {
    "duration": 9,
    "start_time": "2021-10-30T06:52:34.136Z"
   },
   {
    "duration": 9,
    "start_time": "2021-10-30T06:52:34.147Z"
   },
   {
    "duration": 47,
    "start_time": "2021-10-30T06:52:34.158Z"
   },
   {
    "duration": 8,
    "start_time": "2021-10-30T06:52:34.208Z"
   },
   {
    "duration": 5,
    "start_time": "2021-10-30T06:52:34.218Z"
   },
   {
    "duration": 13,
    "start_time": "2021-10-30T06:52:34.225Z"
   },
   {
    "duration": 7,
    "start_time": "2021-10-30T06:52:34.240Z"
   },
   {
    "duration": 65,
    "start_time": "2021-10-30T06:52:34.249Z"
   },
   {
    "duration": 28,
    "start_time": "2021-10-30T06:52:34.316Z"
   },
   {
    "duration": 7,
    "start_time": "2021-10-30T06:52:34.347Z"
   },
   {
    "duration": 18,
    "start_time": "2021-10-30T06:52:34.356Z"
   },
   {
    "duration": 25,
    "start_time": "2021-10-30T06:52:34.376Z"
   },
   {
    "duration": 7,
    "start_time": "2021-10-30T06:52:34.403Z"
   },
   {
    "duration": 4487,
    "start_time": "2021-10-30T06:52:34.413Z"
   },
   {
    "duration": 15,
    "start_time": "2021-10-30T06:53:09.654Z"
   },
   {
    "duration": 14,
    "start_time": "2021-10-30T07:01:37.998Z"
   },
   {
    "duration": 8,
    "start_time": "2021-10-30T07:02:20.708Z"
   },
   {
    "duration": 817,
    "start_time": "2021-10-30T07:02:29.573Z"
   },
   {
    "duration": 92,
    "start_time": "2021-10-30T07:02:30.393Z"
   },
   {
    "duration": 19,
    "start_time": "2021-10-30T07:02:30.488Z"
   },
   {
    "duration": 7,
    "start_time": "2021-10-30T07:02:30.510Z"
   },
   {
    "duration": 38,
    "start_time": "2021-10-30T07:02:30.519Z"
   },
   {
    "duration": 9,
    "start_time": "2021-10-30T07:02:30.559Z"
   },
   {
    "duration": 46,
    "start_time": "2021-10-30T07:02:30.571Z"
   },
   {
    "duration": 29,
    "start_time": "2021-10-30T07:02:30.621Z"
   },
   {
    "duration": 15,
    "start_time": "2021-10-30T07:02:30.653Z"
   },
   {
    "duration": 21,
    "start_time": "2021-10-30T07:02:30.671Z"
   },
   {
    "duration": 18,
    "start_time": "2021-10-30T07:02:30.694Z"
   },
   {
    "duration": 22,
    "start_time": "2021-10-30T07:02:30.714Z"
   },
   {
    "duration": 23,
    "start_time": "2021-10-30T07:02:30.739Z"
   },
   {
    "duration": 10,
    "start_time": "2021-10-30T07:02:30.765Z"
   },
   {
    "duration": 37,
    "start_time": "2021-10-30T07:02:30.778Z"
   },
   {
    "duration": 42,
    "start_time": "2021-10-30T07:02:30.818Z"
   },
   {
    "duration": 25,
    "start_time": "2021-10-30T07:02:30.863Z"
   },
   {
    "duration": 25,
    "start_time": "2021-10-30T07:02:30.890Z"
   },
   {
    "duration": 20,
    "start_time": "2021-10-30T07:02:30.917Z"
   },
   {
    "duration": 21,
    "start_time": "2021-10-30T07:02:30.939Z"
   },
   {
    "duration": 18,
    "start_time": "2021-10-30T07:02:30.966Z"
   },
   {
    "duration": 20,
    "start_time": "2021-10-30T07:02:30.986Z"
   },
   {
    "duration": 20,
    "start_time": "2021-10-30T07:02:31.011Z"
   },
   {
    "duration": 23,
    "start_time": "2021-10-30T07:02:31.034Z"
   },
   {
    "duration": 18,
    "start_time": "2021-10-30T07:02:31.060Z"
   },
   {
    "duration": 21,
    "start_time": "2021-10-30T07:02:31.081Z"
   },
   {
    "duration": 29,
    "start_time": "2021-10-30T07:02:31.104Z"
   },
   {
    "duration": 11,
    "start_time": "2021-10-30T07:02:31.136Z"
   },
   {
    "duration": 18,
    "start_time": "2021-10-30T07:02:31.150Z"
   },
   {
    "duration": 21,
    "start_time": "2021-10-30T07:02:31.170Z"
   },
   {
    "duration": 26,
    "start_time": "2021-10-30T07:02:31.194Z"
   },
   {
    "duration": 9,
    "start_time": "2021-10-30T07:02:31.222Z"
   },
   {
    "duration": 8,
    "start_time": "2021-10-30T07:02:31.233Z"
   },
   {
    "duration": 7,
    "start_time": "2021-10-30T07:02:31.243Z"
   },
   {
    "duration": 52,
    "start_time": "2021-10-30T07:02:31.252Z"
   },
   {
    "duration": 6,
    "start_time": "2021-10-30T07:02:31.306Z"
   },
   {
    "duration": 16,
    "start_time": "2021-10-30T07:02:31.314Z"
   },
   {
    "duration": 4,
    "start_time": "2021-10-30T07:02:31.333Z"
   },
   {
    "duration": 22,
    "start_time": "2021-10-30T07:02:31.339Z"
   },
   {
    "duration": 48,
    "start_time": "2021-10-30T07:02:31.364Z"
   },
   {
    "duration": 7,
    "start_time": "2021-10-30T07:02:31.415Z"
   },
   {
    "duration": 11,
    "start_time": "2021-10-30T07:02:31.425Z"
   },
   {
    "duration": 8,
    "start_time": "2021-10-30T07:02:31.438Z"
   },
   {
    "duration": 52,
    "start_time": "2021-10-30T07:02:31.448Z"
   },
   {
    "duration": 4551,
    "start_time": "2021-10-30T07:02:31.503Z"
   },
   {
    "duration": 4765,
    "start_time": "2021-10-30T07:08:02.412Z"
   },
   {
    "duration": 4516,
    "start_time": "2021-10-30T07:08:45.922Z"
   },
   {
    "duration": 24,
    "start_time": "2021-10-30T07:09:09.935Z"
   },
   {
    "duration": 20,
    "start_time": "2021-10-30T07:09:40.393Z"
   },
   {
    "duration": 671,
    "start_time": "2021-10-30T07:10:02.643Z"
   },
   {
    "duration": 23,
    "start_time": "2021-10-30T07:10:33.976Z"
   },
   {
    "duration": 3526,
    "start_time": "2021-10-30T07:18:55.754Z"
   },
   {
    "duration": 3606,
    "start_time": "2021-10-30T07:19:44.998Z"
   },
   {
    "duration": 13,
    "start_time": "2021-10-30T07:20:40.065Z"
   },
   {
    "duration": 356,
    "start_time": "2021-10-30T07:30:12.397Z"
   },
   {
    "duration": 601,
    "start_time": "2021-10-30T07:30:30.399Z"
   },
   {
    "duration": 26,
    "start_time": "2021-10-30T07:31:04.966Z"
   },
   {
    "duration": 32,
    "start_time": "2021-10-30T07:31:13.111Z"
   },
   {
    "duration": 4,
    "start_time": "2021-10-30T07:32:22.866Z"
   },
   {
    "duration": 12,
    "start_time": "2021-10-30T07:32:27.793Z"
   },
   {
    "duration": 20,
    "start_time": "2021-10-30T07:32:35.104Z"
   },
   {
    "duration": 18,
    "start_time": "2021-10-30T07:33:24.101Z"
   },
   {
    "duration": 14,
    "start_time": "2021-10-30T07:34:15.200Z"
   },
   {
    "duration": 17,
    "start_time": "2021-10-30T07:34:19.225Z"
   },
   {
    "duration": 10,
    "start_time": "2021-10-30T07:35:35.755Z"
   },
   {
    "duration": 120,
    "start_time": "2021-10-30T07:36:42.309Z"
   },
   {
    "duration": 9,
    "start_time": "2021-10-30T07:36:48.589Z"
   },
   {
    "duration": 10,
    "start_time": "2021-10-30T07:36:54.189Z"
   },
   {
    "duration": 16,
    "start_time": "2021-10-30T07:38:02.584Z"
   },
   {
    "duration": 10,
    "start_time": "2021-10-30T07:38:05.007Z"
   },
   {
    "duration": 17,
    "start_time": "2021-10-30T07:38:42.231Z"
   },
   {
    "duration": 392,
    "start_time": "2021-10-30T07:40:05.995Z"
   },
   {
    "duration": 954,
    "start_time": "2021-10-30T07:44:03.397Z"
   },
   {
    "duration": 17,
    "start_time": "2021-10-30T07:44:16.676Z"
   },
   {
    "duration": 15,
    "start_time": "2021-10-30T07:44:37.513Z"
   },
   {
    "duration": 21,
    "start_time": "2021-10-30T07:46:02.863Z"
   },
   {
    "duration": 10,
    "start_time": "2021-10-30T07:46:07.015Z"
   },
   {
    "duration": 17,
    "start_time": "2021-10-30T07:46:08.955Z"
   },
   {
    "duration": 776,
    "start_time": "2021-10-30T07:46:25.458Z"
   },
   {
    "duration": 92,
    "start_time": "2021-10-30T07:46:26.237Z"
   },
   {
    "duration": 15,
    "start_time": "2021-10-30T07:46:26.332Z"
   },
   {
    "duration": 13,
    "start_time": "2021-10-30T07:46:26.349Z"
   },
   {
    "duration": 45,
    "start_time": "2021-10-30T07:46:26.365Z"
   },
   {
    "duration": 9,
    "start_time": "2021-10-30T07:46:26.412Z"
   },
   {
    "duration": 17,
    "start_time": "2021-10-30T07:46:26.424Z"
   },
   {
    "duration": 17,
    "start_time": "2021-10-30T07:46:26.444Z"
   },
   {
    "duration": 36,
    "start_time": "2021-10-30T07:46:26.465Z"
   },
   {
    "duration": 8,
    "start_time": "2021-10-30T07:46:26.505Z"
   },
   {
    "duration": 16,
    "start_time": "2021-10-30T07:46:26.516Z"
   },
   {
    "duration": 37,
    "start_time": "2021-10-30T07:46:26.535Z"
   },
   {
    "duration": 30,
    "start_time": "2021-10-30T07:46:26.575Z"
   },
   {
    "duration": 10,
    "start_time": "2021-10-30T07:46:26.607Z"
   },
   {
    "duration": 22,
    "start_time": "2021-10-30T07:46:26.619Z"
   },
   {
    "duration": 36,
    "start_time": "2021-10-30T07:46:26.644Z"
   },
   {
    "duration": 40,
    "start_time": "2021-10-30T07:46:26.682Z"
   },
   {
    "duration": 16,
    "start_time": "2021-10-30T07:46:26.725Z"
   },
   {
    "duration": 7,
    "start_time": "2021-10-30T07:46:26.744Z"
   },
   {
    "duration": 16,
    "start_time": "2021-10-30T07:46:26.753Z"
   },
   {
    "duration": 38,
    "start_time": "2021-10-30T07:46:26.771Z"
   },
   {
    "duration": 17,
    "start_time": "2021-10-30T07:46:26.812Z"
   },
   {
    "duration": 6,
    "start_time": "2021-10-30T07:46:26.832Z"
   },
   {
    "duration": 17,
    "start_time": "2021-10-30T07:46:26.841Z"
   },
   {
    "duration": 40,
    "start_time": "2021-10-30T07:46:26.861Z"
   },
   {
    "duration": 13,
    "start_time": "2021-10-30T07:46:26.904Z"
   },
   {
    "duration": 20,
    "start_time": "2021-10-30T07:46:26.922Z"
   },
   {
    "duration": 11,
    "start_time": "2021-10-30T07:46:26.945Z"
   },
   {
    "duration": 11,
    "start_time": "2021-10-30T07:46:26.958Z"
   },
   {
    "duration": 10,
    "start_time": "2021-10-30T07:46:27.002Z"
   },
   {
    "duration": 29,
    "start_time": "2021-10-30T07:46:27.014Z"
   },
   {
    "duration": 9,
    "start_time": "2021-10-30T07:46:27.045Z"
   },
   {
    "duration": 17,
    "start_time": "2021-10-30T07:46:27.057Z"
   },
   {
    "duration": 29,
    "start_time": "2021-10-30T07:46:27.076Z"
   },
   {
    "duration": 23,
    "start_time": "2021-10-30T07:46:27.108Z"
   },
   {
    "duration": 14,
    "start_time": "2021-10-30T07:46:27.133Z"
   },
   {
    "duration": 26,
    "start_time": "2021-10-30T07:46:27.149Z"
   },
   {
    "duration": 15,
    "start_time": "2021-10-30T07:46:27.177Z"
   },
   {
    "duration": 15,
    "start_time": "2021-10-30T07:46:27.194Z"
   },
   {
    "duration": 34,
    "start_time": "2021-10-30T07:46:27.212Z"
   },
   {
    "duration": 8,
    "start_time": "2021-10-30T07:46:27.248Z"
   },
   {
    "duration": 19,
    "start_time": "2021-10-30T07:46:27.259Z"
   },
   {
    "duration": 26,
    "start_time": "2021-10-30T07:46:27.280Z"
   },
   {
    "duration": 15,
    "start_time": "2021-10-30T07:46:27.309Z"
   },
   {
    "duration": 17,
    "start_time": "2021-10-30T07:46:27.326Z"
   },
   {
    "duration": 4526,
    "start_time": "2021-10-30T07:46:27.346Z"
   },
   {
    "duration": 31,
    "start_time": "2021-10-30T07:46:31.875Z"
   },
   {
    "duration": 20,
    "start_time": "2021-10-30T07:46:31.908Z"
   },
   {
    "duration": 18,
    "start_time": "2021-10-30T07:46:31.930Z"
   },
   {
    "duration": 37,
    "start_time": "2021-10-30T07:46:31.950Z"
   },
   {
    "duration": 43,
    "start_time": "2021-10-30T07:46:31.989Z"
   },
   {
    "duration": 506,
    "start_time": "2021-10-30T07:46:32.035Z"
   },
   {
    "duration": 19,
    "start_time": "2021-10-30T07:46:50.190Z"
   },
   {
    "duration": 9,
    "start_time": "2021-10-30T07:47:37.805Z"
   },
   {
    "duration": 10,
    "start_time": "2021-10-30T07:47:43.171Z"
   },
   {
    "duration": 7,
    "start_time": "2021-10-30T07:48:21.635Z"
   },
   {
    "duration": 9,
    "start_time": "2021-10-30T07:48:31.122Z"
   },
   {
    "duration": 126,
    "start_time": "2021-10-30T07:49:05.572Z"
   },
   {
    "duration": 18,
    "start_time": "2021-10-30T07:49:09.659Z"
   },
   {
    "duration": 16,
    "start_time": "2021-10-30T07:49:31.541Z"
   },
   {
    "duration": 13,
    "start_time": "2021-10-30T07:50:56.545Z"
   },
   {
    "duration": 11,
    "start_time": "2021-10-30T07:51:58.552Z"
   },
   {
    "duration": 17,
    "start_time": "2021-10-30T07:52:33.992Z"
   },
   {
    "duration": 15,
    "start_time": "2021-10-30T07:53:23.308Z"
   },
   {
    "duration": 9,
    "start_time": "2021-10-30T07:53:42.500Z"
   },
   {
    "duration": 14,
    "start_time": "2021-10-30T07:53:53.077Z"
   },
   {
    "duration": 10,
    "start_time": "2021-10-30T07:54:03.065Z"
   },
   {
    "duration": 14,
    "start_time": "2021-10-30T07:55:10.909Z"
   },
   {
    "duration": 10,
    "start_time": "2021-10-30T07:55:15.592Z"
   },
   {
    "duration": 9,
    "start_time": "2021-10-30T07:55:27.349Z"
   },
   {
    "duration": 5,
    "start_time": "2021-10-30T07:56:51.963Z"
   },
   {
    "duration": 5,
    "start_time": "2021-10-30T07:56:54.230Z"
   },
   {
    "duration": 11,
    "start_time": "2021-10-30T07:57:04.878Z"
   },
   {
    "duration": 11,
    "start_time": "2021-10-30T07:58:28.770Z"
   },
   {
    "duration": 12,
    "start_time": "2021-10-30T07:58:47.607Z"
   },
   {
    "duration": 5,
    "start_time": "2021-10-30T07:59:03.029Z"
   },
   {
    "duration": 12,
    "start_time": "2021-10-30T07:59:07.567Z"
   },
   {
    "duration": 11,
    "start_time": "2021-10-30T08:02:15.202Z"
   },
   {
    "duration": 12,
    "start_time": "2021-10-30T08:02:17.552Z"
   },
   {
    "duration": 8,
    "start_time": "2021-10-30T08:02:43.576Z"
   },
   {
    "duration": 12,
    "start_time": "2021-10-30T08:02:46.029Z"
   },
   {
    "duration": 809,
    "start_time": "2021-10-30T08:02:53.516Z"
   },
   {
    "duration": 92,
    "start_time": "2021-10-30T08:02:54.328Z"
   },
   {
    "duration": 15,
    "start_time": "2021-10-30T08:02:54.426Z"
   },
   {
    "duration": 6,
    "start_time": "2021-10-30T08:02:54.443Z"
   },
   {
    "duration": 58,
    "start_time": "2021-10-30T08:02:54.451Z"
   },
   {
    "duration": 11,
    "start_time": "2021-10-30T08:02:54.511Z"
   },
   {
    "duration": 17,
    "start_time": "2021-10-30T08:02:54.526Z"
   },
   {
    "duration": 11,
    "start_time": "2021-10-30T08:02:54.546Z"
   },
   {
    "duration": 42,
    "start_time": "2021-10-30T08:02:54.560Z"
   },
   {
    "duration": 5,
    "start_time": "2021-10-30T08:02:54.605Z"
   },
   {
    "duration": 16,
    "start_time": "2021-10-30T08:02:54.613Z"
   },
   {
    "duration": 16,
    "start_time": "2021-10-30T08:02:54.631Z"
   },
   {
    "duration": 62,
    "start_time": "2021-10-30T08:02:54.650Z"
   },
   {
    "duration": 9,
    "start_time": "2021-10-30T08:02:54.715Z"
   },
   {
    "duration": 19,
    "start_time": "2021-10-30T08:02:54.727Z"
   },
   {
    "duration": 30,
    "start_time": "2021-10-30T08:02:54.748Z"
   },
   {
    "duration": 27,
    "start_time": "2021-10-30T08:02:54.801Z"
   },
   {
    "duration": 17,
    "start_time": "2021-10-30T08:02:54.830Z"
   },
   {
    "duration": 8,
    "start_time": "2021-10-30T08:02:54.850Z"
   },
   {
    "duration": 42,
    "start_time": "2021-10-30T08:02:54.860Z"
   },
   {
    "duration": 12,
    "start_time": "2021-10-30T08:02:54.904Z"
   },
   {
    "duration": 12,
    "start_time": "2021-10-30T08:02:54.922Z"
   },
   {
    "duration": 9,
    "start_time": "2021-10-30T08:02:54.938Z"
   },
   {
    "duration": 54,
    "start_time": "2021-10-30T08:02:54.950Z"
   },
   {
    "duration": 11,
    "start_time": "2021-10-30T08:02:55.007Z"
   },
   {
    "duration": 12,
    "start_time": "2021-10-30T08:02:55.020Z"
   },
   {
    "duration": 22,
    "start_time": "2021-10-30T08:02:55.034Z"
   },
   {
    "duration": 44,
    "start_time": "2021-10-30T08:02:55.058Z"
   },
   {
    "duration": 9,
    "start_time": "2021-10-30T08:02:55.105Z"
   },
   {
    "duration": 16,
    "start_time": "2021-10-30T08:02:55.116Z"
   },
   {
    "duration": 15,
    "start_time": "2021-10-30T08:02:55.134Z"
   },
   {
    "duration": 9,
    "start_time": "2021-10-30T08:02:55.151Z"
   },
   {
    "duration": 44,
    "start_time": "2021-10-30T08:02:55.162Z"
   },
   {
    "duration": 15,
    "start_time": "2021-10-30T08:02:55.208Z"
   },
   {
    "duration": 28,
    "start_time": "2021-10-30T08:02:55.225Z"
   },
   {
    "duration": 15,
    "start_time": "2021-10-30T08:02:55.255Z"
   },
   {
    "duration": 22,
    "start_time": "2021-10-30T08:02:55.272Z"
   },
   {
    "duration": 10,
    "start_time": "2021-10-30T08:02:55.297Z"
   },
   {
    "duration": 22,
    "start_time": "2021-10-30T08:02:55.309Z"
   },
   {
    "duration": 25,
    "start_time": "2021-10-30T08:02:55.333Z"
   },
   {
    "duration": 12,
    "start_time": "2021-10-30T08:02:55.360Z"
   },
   {
    "duration": 23,
    "start_time": "2021-10-30T08:02:55.374Z"
   },
   {
    "duration": 8,
    "start_time": "2021-10-30T08:02:55.399Z"
   },
   {
    "duration": 19,
    "start_time": "2021-10-30T08:02:55.409Z"
   },
   {
    "duration": 23,
    "start_time": "2021-10-30T08:02:55.430Z"
   },
   {
    "duration": 4477,
    "start_time": "2021-10-30T08:02:55.455Z"
   },
   {
    "duration": 14,
    "start_time": "2021-10-30T08:02:59.934Z"
   },
   {
    "duration": 49,
    "start_time": "2021-10-30T08:02:59.951Z"
   },
   {
    "duration": 12,
    "start_time": "2021-10-30T08:03:00.004Z"
   },
   {
    "duration": 18,
    "start_time": "2021-10-30T08:03:00.018Z"
   },
   {
    "duration": 22,
    "start_time": "2021-10-30T08:03:00.038Z"
   },
   {
    "duration": 39,
    "start_time": "2021-10-30T08:03:00.063Z"
   },
   {
    "duration": 7,
    "start_time": "2021-10-30T08:03:00.104Z"
   },
   {
    "duration": 21,
    "start_time": "2021-10-30T08:03:00.113Z"
   },
   {
    "duration": 32,
    "start_time": "2021-10-30T08:03:00.137Z"
   },
   {
    "duration": 11,
    "start_time": "2021-10-30T08:03:00.171Z"
   },
   {
    "duration": 471,
    "start_time": "2021-10-30T08:04:02.252Z"
   },
   {
    "duration": 383,
    "start_time": "2021-10-30T08:04:08.722Z"
   },
   {
    "duration": 9,
    "start_time": "2021-10-30T08:04:18.920Z"
   },
   {
    "duration": 8,
    "start_time": "2021-10-30T08:04:26.385Z"
   },
   {
    "duration": 451,
    "start_time": "2021-10-30T08:05:02.902Z"
   },
   {
    "duration": 10,
    "start_time": "2021-10-30T08:05:25.023Z"
   },
   {
    "duration": 15,
    "start_time": "2021-10-30T08:05:38.616Z"
   },
   {
    "duration": 12,
    "start_time": "2021-10-30T08:06:20.805Z"
   },
   {
    "duration": 9,
    "start_time": "2021-10-30T08:06:40.132Z"
   },
   {
    "duration": 10,
    "start_time": "2021-10-30T08:06:47.036Z"
   },
   {
    "duration": 11,
    "start_time": "2021-10-30T08:07:09.571Z"
   },
   {
    "duration": 11,
    "start_time": "2021-10-30T08:07:12.224Z"
   },
   {
    "duration": 26,
    "start_time": "2021-10-30T08:08:11.797Z"
   },
   {
    "duration": 9,
    "start_time": "2021-10-30T08:08:29.683Z"
   },
   {
    "duration": 15,
    "start_time": "2021-10-30T08:08:53.791Z"
   },
   {
    "duration": 8,
    "start_time": "2021-10-30T08:09:41.599Z"
   },
   {
    "duration": 8,
    "start_time": "2021-10-30T08:09:54.527Z"
   },
   {
    "duration": 13,
    "start_time": "2021-10-30T08:10:18.370Z"
   },
   {
    "duration": 13,
    "start_time": "2021-10-30T08:11:21.567Z"
   },
   {
    "duration": 784,
    "start_time": "2021-10-30T08:11:37.426Z"
   },
   {
    "duration": 92,
    "start_time": "2021-10-30T08:11:38.212Z"
   },
   {
    "duration": 16,
    "start_time": "2021-10-30T08:11:38.307Z"
   },
   {
    "duration": 13,
    "start_time": "2021-10-30T08:11:38.325Z"
   },
   {
    "duration": 35,
    "start_time": "2021-10-30T08:11:38.341Z"
   },
   {
    "duration": 26,
    "start_time": "2021-10-30T08:11:38.379Z"
   },
   {
    "duration": 23,
    "start_time": "2021-10-30T08:11:38.407Z"
   },
   {
    "duration": 12,
    "start_time": "2021-10-30T08:11:38.435Z"
   },
   {
    "duration": 11,
    "start_time": "2021-10-30T08:11:38.451Z"
   },
   {
    "duration": 37,
    "start_time": "2021-10-30T08:11:38.464Z"
   },
   {
    "duration": 27,
    "start_time": "2021-10-30T08:11:38.503Z"
   },
   {
    "duration": 25,
    "start_time": "2021-10-30T08:11:38.532Z"
   },
   {
    "duration": 28,
    "start_time": "2021-10-30T08:11:38.560Z"
   },
   {
    "duration": 11,
    "start_time": "2021-10-30T08:11:38.590Z"
   },
   {
    "duration": 11,
    "start_time": "2021-10-30T08:11:38.603Z"
   },
   {
    "duration": 28,
    "start_time": "2021-10-30T08:11:38.616Z"
   },
   {
    "duration": 23,
    "start_time": "2021-10-30T08:11:38.647Z"
   },
   {
    "duration": 16,
    "start_time": "2021-10-30T08:11:38.701Z"
   },
   {
    "duration": 19,
    "start_time": "2021-10-30T08:11:38.720Z"
   },
   {
    "duration": 10,
    "start_time": "2021-10-30T08:11:38.742Z"
   },
   {
    "duration": 23,
    "start_time": "2021-10-30T08:11:38.754Z"
   },
   {
    "duration": 22,
    "start_time": "2021-10-30T08:11:38.779Z"
   },
   {
    "duration": 7,
    "start_time": "2021-10-30T08:11:38.807Z"
   },
   {
    "duration": 14,
    "start_time": "2021-10-30T08:11:38.817Z"
   },
   {
    "duration": 12,
    "start_time": "2021-10-30T08:11:38.834Z"
   },
   {
    "duration": 18,
    "start_time": "2021-10-30T08:11:38.849Z"
   },
   {
    "duration": 40,
    "start_time": "2021-10-30T08:11:38.869Z"
   },
   {
    "duration": 10,
    "start_time": "2021-10-30T08:11:38.911Z"
   },
   {
    "duration": 18,
    "start_time": "2021-10-30T08:11:38.924Z"
   },
   {
    "duration": 12,
    "start_time": "2021-10-30T08:11:38.944Z"
   },
   {
    "duration": 48,
    "start_time": "2021-10-30T08:11:38.958Z"
   },
   {
    "duration": 9,
    "start_time": "2021-10-30T08:11:39.008Z"
   },
   {
    "duration": 8,
    "start_time": "2021-10-30T08:11:39.020Z"
   },
   {
    "duration": 9,
    "start_time": "2021-10-30T08:11:39.030Z"
   },
   {
    "duration": 21,
    "start_time": "2021-10-30T08:11:39.041Z"
   },
   {
    "duration": 10,
    "start_time": "2021-10-30T08:11:39.064Z"
   },
   {
    "duration": 9,
    "start_time": "2021-10-30T08:11:39.101Z"
   },
   {
    "duration": 12,
    "start_time": "2021-10-30T08:11:39.112Z"
   },
   {
    "duration": 27,
    "start_time": "2021-10-30T08:11:39.126Z"
   },
   {
    "duration": 27,
    "start_time": "2021-10-30T08:11:39.155Z"
   },
   {
    "duration": 20,
    "start_time": "2021-10-30T08:11:39.184Z"
   },
   {
    "duration": 11,
    "start_time": "2021-10-30T08:11:39.206Z"
   },
   {
    "duration": 13,
    "start_time": "2021-10-30T08:11:39.219Z"
   },
   {
    "duration": 8,
    "start_time": "2021-10-30T08:11:39.235Z"
   },
   {
    "duration": 11,
    "start_time": "2021-10-30T08:11:39.246Z"
   },
   {
    "duration": 4527,
    "start_time": "2021-10-30T08:11:39.260Z"
   },
   {
    "duration": 14,
    "start_time": "2021-10-30T08:11:43.801Z"
   },
   {
    "duration": 32,
    "start_time": "2021-10-30T08:11:43.817Z"
   },
   {
    "duration": 12,
    "start_time": "2021-10-30T08:11:43.851Z"
   },
   {
    "duration": 42,
    "start_time": "2021-10-30T08:11:43.865Z"
   },
   {
    "duration": 9,
    "start_time": "2021-10-30T08:11:43.909Z"
   },
   {
    "duration": 16,
    "start_time": "2021-10-30T08:11:43.920Z"
   },
   {
    "duration": 17,
    "start_time": "2021-10-30T08:11:43.938Z"
   },
   {
    "duration": 12,
    "start_time": "2021-10-30T08:11:43.957Z"
   },
   {
    "duration": 31,
    "start_time": "2021-10-30T08:11:43.972Z"
   },
   {
    "duration": 22,
    "start_time": "2021-10-30T08:11:44.006Z"
   },
   {
    "duration": 123,
    "start_time": "2021-10-30T08:12:14.615Z"
   },
   {
    "duration": 5,
    "start_time": "2021-10-30T08:12:21.198Z"
   },
   {
    "duration": 21,
    "start_time": "2021-10-30T08:13:38.974Z"
   },
   {
    "duration": 493,
    "start_time": "2021-10-30T08:15:26.395Z"
   },
   {
    "duration": 17,
    "start_time": "2021-10-30T08:15:34.462Z"
   },
   {
    "duration": 17,
    "start_time": "2021-10-30T08:15:53.963Z"
   },
   {
    "duration": 10,
    "start_time": "2021-10-30T08:18:31.924Z"
   },
   {
    "duration": 6,
    "start_time": "2021-10-30T08:18:59.701Z"
   },
   {
    "duration": 8,
    "start_time": "2021-10-30T08:19:04.684Z"
   },
   {
    "duration": 14,
    "start_time": "2021-10-30T08:20:05.659Z"
   },
   {
    "duration": 8,
    "start_time": "2021-10-30T08:20:15.490Z"
   },
   {
    "duration": 8,
    "start_time": "2021-10-30T08:20:50.914Z"
   },
   {
    "duration": 22,
    "start_time": "2021-10-30T08:22:49.325Z"
   },
   {
    "duration": 15,
    "start_time": "2021-10-30T08:23:07.273Z"
   },
   {
    "duration": 20,
    "start_time": "2021-10-30T08:23:14.318Z"
   },
   {
    "duration": 18,
    "start_time": "2021-10-30T08:23:24.046Z"
   },
   {
    "duration": 18,
    "start_time": "2021-10-30T08:23:39.082Z"
   },
   {
    "duration": 22,
    "start_time": "2021-10-30T08:23:47.954Z"
   },
   {
    "duration": 15,
    "start_time": "2021-10-30T08:24:03.190Z"
   },
   {
    "duration": 18,
    "start_time": "2021-10-30T08:24:16.055Z"
   },
   {
    "duration": 19,
    "start_time": "2021-10-30T08:24:51.914Z"
   },
   {
    "duration": 14,
    "start_time": "2021-10-30T08:25:08.613Z"
   },
   {
    "duration": 96,
    "start_time": "2021-10-30T08:26:12.747Z"
   },
   {
    "duration": 22,
    "start_time": "2021-10-30T08:26:20.895Z"
   },
   {
    "duration": 129,
    "start_time": "2021-10-30T08:26:35.766Z"
   },
   {
    "duration": 22,
    "start_time": "2021-10-30T08:26:41.420Z"
   },
   {
    "duration": 21,
    "start_time": "2021-10-30T08:26:59.240Z"
   },
   {
    "duration": 27,
    "start_time": "2021-10-30T08:27:13.395Z"
   },
   {
    "duration": 17,
    "start_time": "2021-10-30T08:27:29.167Z"
   },
   {
    "duration": 18,
    "start_time": "2021-10-30T08:28:01.265Z"
   },
   {
    "duration": 6,
    "start_time": "2021-10-30T08:28:26.372Z"
   },
   {
    "duration": 19,
    "start_time": "2021-10-30T08:28:30.826Z"
   },
   {
    "duration": 12,
    "start_time": "2021-10-30T08:28:37.672Z"
   },
   {
    "duration": 115,
    "start_time": "2021-10-30T08:29:20.614Z"
   },
   {
    "duration": 16,
    "start_time": "2021-10-30T08:29:32.032Z"
   },
   {
    "duration": 17,
    "start_time": "2021-10-30T08:29:43.736Z"
   },
   {
    "duration": 17,
    "start_time": "2021-10-30T08:29:46.133Z"
   },
   {
    "duration": 12,
    "start_time": "2021-10-30T08:30:54.900Z"
   },
   {
    "duration": 13,
    "start_time": "2021-10-30T08:32:02.321Z"
   },
   {
    "duration": 11,
    "start_time": "2021-10-30T08:32:03.001Z"
   },
   {
    "duration": 10,
    "start_time": "2021-10-30T08:32:03.846Z"
   },
   {
    "duration": 6,
    "start_time": "2021-10-30T08:32:54.398Z"
   },
   {
    "duration": 10,
    "start_time": "2021-10-30T08:32:56.364Z"
   },
   {
    "duration": 921,
    "start_time": "2021-10-30T14:09:14.503Z"
   },
   {
    "duration": 89,
    "start_time": "2021-10-30T14:09:15.426Z"
   },
   {
    "duration": 15,
    "start_time": "2021-10-30T14:09:15.520Z"
   },
   {
    "duration": 5,
    "start_time": "2021-10-30T14:09:15.538Z"
   },
   {
    "duration": 57,
    "start_time": "2021-10-30T14:09:15.545Z"
   },
   {
    "duration": 10,
    "start_time": "2021-10-30T14:09:15.604Z"
   },
   {
    "duration": 17,
    "start_time": "2021-10-30T14:09:15.618Z"
   },
   {
    "duration": 22,
    "start_time": "2021-10-30T14:09:15.638Z"
   },
   {
    "duration": 13,
    "start_time": "2021-10-30T14:09:15.663Z"
   },
   {
    "duration": 27,
    "start_time": "2021-10-30T14:09:15.678Z"
   },
   {
    "duration": 14,
    "start_time": "2021-10-30T14:09:15.707Z"
   },
   {
    "duration": 19,
    "start_time": "2021-10-30T14:09:15.724Z"
   },
   {
    "duration": 26,
    "start_time": "2021-10-30T14:09:15.745Z"
   },
   {
    "duration": 10,
    "start_time": "2021-10-30T14:09:15.801Z"
   },
   {
    "duration": 10,
    "start_time": "2021-10-30T14:09:15.814Z"
   },
   {
    "duration": 31,
    "start_time": "2021-10-30T14:09:15.827Z"
   },
   {
    "duration": 58,
    "start_time": "2021-10-30T14:09:15.861Z"
   },
   {
    "duration": 16,
    "start_time": "2021-10-30T14:09:15.921Z"
   },
   {
    "duration": 7,
    "start_time": "2021-10-30T14:09:15.939Z"
   },
   {
    "duration": 5,
    "start_time": "2021-10-30T14:09:15.949Z"
   },
   {
    "duration": 48,
    "start_time": "2021-10-30T14:09:15.957Z"
   },
   {
    "duration": 11,
    "start_time": "2021-10-30T14:09:16.012Z"
   },
   {
    "duration": 7,
    "start_time": "2021-10-30T14:09:16.026Z"
   },
   {
    "duration": 13,
    "start_time": "2021-10-30T14:09:16.035Z"
   },
   {
    "duration": 9,
    "start_time": "2021-10-30T14:09:16.050Z"
   },
   {
    "duration": 49,
    "start_time": "2021-10-30T14:09:16.061Z"
   },
   {
    "duration": 21,
    "start_time": "2021-10-30T14:09:16.112Z"
   },
   {
    "duration": 11,
    "start_time": "2021-10-30T14:09:16.135Z"
   },
   {
    "duration": 8,
    "start_time": "2021-10-30T14:09:16.149Z"
   },
   {
    "duration": 42,
    "start_time": "2021-10-30T14:09:16.160Z"
   },
   {
    "duration": 17,
    "start_time": "2021-10-30T14:09:16.205Z"
   },
   {
    "duration": 10,
    "start_time": "2021-10-30T14:09:16.224Z"
   },
   {
    "duration": 7,
    "start_time": "2021-10-30T14:09:16.236Z"
   },
   {
    "duration": 6,
    "start_time": "2021-10-30T14:09:16.245Z"
   },
   {
    "duration": 8,
    "start_time": "2021-10-30T14:09:16.301Z"
   },
   {
    "duration": 6,
    "start_time": "2021-10-30T14:09:16.312Z"
   },
   {
    "duration": 10,
    "start_time": "2021-10-30T14:09:16.320Z"
   },
   {
    "duration": 5,
    "start_time": "2021-10-30T14:09:16.332Z"
   },
   {
    "duration": 17,
    "start_time": "2021-10-30T14:09:16.339Z"
   },
   {
    "duration": 19,
    "start_time": "2021-10-30T14:09:16.401Z"
   },
   {
    "duration": 11,
    "start_time": "2021-10-30T14:09:16.423Z"
   },
   {
    "duration": 12,
    "start_time": "2021-10-30T14:09:16.437Z"
   },
   {
    "duration": 53,
    "start_time": "2021-10-30T14:09:16.452Z"
   },
   {
    "duration": 9,
    "start_time": "2021-10-30T14:09:16.508Z"
   },
   {
    "duration": 12,
    "start_time": "2021-10-30T14:09:16.520Z"
   },
   {
    "duration": 4568,
    "start_time": "2021-10-30T14:09:16.534Z"
   },
   {
    "duration": 16,
    "start_time": "2021-10-30T14:09:21.104Z"
   },
   {
    "duration": 20,
    "start_time": "2021-10-30T14:09:21.122Z"
   },
   {
    "duration": 13,
    "start_time": "2021-10-30T14:09:21.144Z"
   },
   {
    "duration": 48,
    "start_time": "2021-10-30T14:09:21.159Z"
   },
   {
    "duration": 11,
    "start_time": "2021-10-30T14:09:21.209Z"
   },
   {
    "duration": 12,
    "start_time": "2021-10-30T14:09:21.222Z"
   },
   {
    "duration": 9,
    "start_time": "2021-10-30T14:09:21.236Z"
   },
   {
    "duration": 12,
    "start_time": "2021-10-30T14:09:21.247Z"
   },
   {
    "duration": 12,
    "start_time": "2021-10-30T14:09:21.300Z"
   },
   {
    "duration": 10,
    "start_time": "2021-10-30T14:09:21.315Z"
   },
   {
    "duration": 18,
    "start_time": "2021-10-30T14:09:21.327Z"
   },
   {
    "duration": 15,
    "start_time": "2021-10-30T14:09:21.348Z"
   },
   {
    "duration": 43,
    "start_time": "2021-10-30T14:09:21.365Z"
   },
   {
    "duration": 12,
    "start_time": "2021-10-30T14:09:21.410Z"
   },
   {
    "duration": 10,
    "start_time": "2021-10-30T14:09:21.424Z"
   },
   {
    "duration": 9,
    "start_time": "2021-10-30T14:09:21.437Z"
   },
   {
    "duration": 8,
    "start_time": "2021-10-30T14:09:21.448Z"
   },
   {
    "duration": 46,
    "start_time": "2021-10-30T14:09:21.458Z"
   },
   {
    "duration": 146,
    "start_time": "2021-10-30T14:14:13.850Z"
   },
   {
    "duration": 116,
    "start_time": "2021-10-30T14:14:41.918Z"
   },
   {
    "duration": 5,
    "start_time": "2021-10-30T14:14:53.539Z"
   },
   {
    "duration": 12,
    "start_time": "2021-10-30T14:14:55.463Z"
   },
   {
    "duration": 5,
    "start_time": "2021-10-30T14:15:01.529Z"
   },
   {
    "duration": 12,
    "start_time": "2021-10-30T14:15:03.080Z"
   },
   {
    "duration": 9,
    "start_time": "2021-10-30T14:18:17.003Z"
   },
   {
    "duration": 457,
    "start_time": "2021-10-30T14:22:20.576Z"
   },
   {
    "duration": 821,
    "start_time": "2021-10-30T14:22:37.394Z"
   },
   {
    "duration": 92,
    "start_time": "2021-10-30T14:22:38.218Z"
   },
   {
    "duration": 14,
    "start_time": "2021-10-30T14:22:38.317Z"
   },
   {
    "duration": 5,
    "start_time": "2021-10-30T14:22:38.334Z"
   },
   {
    "duration": 60,
    "start_time": "2021-10-30T14:22:38.342Z"
   },
   {
    "duration": 10,
    "start_time": "2021-10-30T14:22:38.404Z"
   },
   {
    "duration": 17,
    "start_time": "2021-10-30T14:22:38.416Z"
   },
   {
    "duration": 11,
    "start_time": "2021-10-30T14:22:38.437Z"
   },
   {
    "duration": 7,
    "start_time": "2021-10-30T14:22:38.451Z"
   },
   {
    "duration": 42,
    "start_time": "2021-10-30T14:22:38.461Z"
   },
   {
    "duration": 15,
    "start_time": "2021-10-30T14:22:38.506Z"
   },
   {
    "duration": 19,
    "start_time": "2021-10-30T14:22:38.523Z"
   },
   {
    "duration": 24,
    "start_time": "2021-10-30T14:22:38.544Z"
   },
   {
    "duration": 36,
    "start_time": "2021-10-30T14:22:38.570Z"
   },
   {
    "duration": 14,
    "start_time": "2021-10-30T14:22:38.608Z"
   },
   {
    "duration": 28,
    "start_time": "2021-10-30T14:22:38.624Z"
   },
   {
    "duration": 53,
    "start_time": "2021-10-30T14:22:38.654Z"
   },
   {
    "duration": 17,
    "start_time": "2021-10-30T14:22:38.709Z"
   },
   {
    "duration": 7,
    "start_time": "2021-10-30T14:22:38.728Z"
   },
   {
    "duration": 11,
    "start_time": "2021-10-30T14:22:38.737Z"
   },
   {
    "duration": 14,
    "start_time": "2021-10-30T14:22:38.751Z"
   },
   {
    "duration": 39,
    "start_time": "2021-10-30T14:22:38.768Z"
   },
   {
    "duration": 8,
    "start_time": "2021-10-30T14:22:38.810Z"
   },
   {
    "duration": 11,
    "start_time": "2021-10-30T14:22:38.820Z"
   },
   {
    "duration": 15,
    "start_time": "2021-10-30T14:22:38.833Z"
   },
   {
    "duration": 47,
    "start_time": "2021-10-30T14:22:38.854Z"
   },
   {
    "duration": 14,
    "start_time": "2021-10-30T14:22:38.905Z"
   },
   {
    "duration": 11,
    "start_time": "2021-10-30T14:22:38.922Z"
   },
   {
    "duration": 10,
    "start_time": "2021-10-30T14:22:38.935Z"
   },
   {
    "duration": 53,
    "start_time": "2021-10-30T14:22:38.947Z"
   },
   {
    "duration": 16,
    "start_time": "2021-10-30T14:22:39.003Z"
   },
   {
    "duration": 16,
    "start_time": "2021-10-30T14:22:39.021Z"
   },
   {
    "duration": 6,
    "start_time": "2021-10-30T14:22:39.039Z"
   },
   {
    "duration": 5,
    "start_time": "2021-10-30T14:22:39.047Z"
   },
   {
    "duration": 8,
    "start_time": "2021-10-30T14:22:39.055Z"
   },
   {
    "duration": 6,
    "start_time": "2021-10-30T14:22:39.101Z"
   },
   {
    "duration": 15,
    "start_time": "2021-10-30T14:22:39.109Z"
   },
   {
    "duration": 4,
    "start_time": "2021-10-30T14:22:39.127Z"
   },
   {
    "duration": 18,
    "start_time": "2021-10-30T14:22:39.133Z"
   },
   {
    "duration": 49,
    "start_time": "2021-10-30T14:22:39.153Z"
   },
   {
    "duration": 8,
    "start_time": "2021-10-30T14:22:39.205Z"
   },
   {
    "duration": 10,
    "start_time": "2021-10-30T14:22:39.215Z"
   },
   {
    "duration": 7,
    "start_time": "2021-10-30T14:22:39.228Z"
   },
   {
    "duration": 9,
    "start_time": "2021-10-30T14:22:39.238Z"
   },
   {
    "duration": 61,
    "start_time": "2021-10-30T14:22:39.250Z"
   },
   {
    "duration": 4537,
    "start_time": "2021-10-30T14:22:39.313Z"
   },
   {
    "duration": 14,
    "start_time": "2021-10-30T14:22:43.852Z"
   },
   {
    "duration": 45,
    "start_time": "2021-10-30T14:22:43.868Z"
   },
   {
    "duration": 7,
    "start_time": "2021-10-30T14:22:43.916Z"
   },
   {
    "duration": 4,
    "start_time": "2021-10-30T14:22:43.926Z"
   },
   {
    "duration": 12,
    "start_time": "2021-10-30T14:22:43.932Z"
   },
   {
    "duration": 14,
    "start_time": "2021-10-30T14:22:43.947Z"
   },
   {
    "duration": 15,
    "start_time": "2021-10-30T14:22:44.000Z"
   },
   {
    "duration": 8,
    "start_time": "2021-10-30T14:22:44.017Z"
   },
   {
    "duration": 10,
    "start_time": "2021-10-30T14:22:44.028Z"
   },
   {
    "duration": 9,
    "start_time": "2021-10-30T14:22:44.040Z"
   },
   {
    "duration": 52,
    "start_time": "2021-10-30T14:22:44.051Z"
   },
   {
    "duration": 13,
    "start_time": "2021-10-30T14:22:44.105Z"
   },
   {
    "duration": 10,
    "start_time": "2021-10-30T14:22:44.121Z"
   },
   {
    "duration": 14,
    "start_time": "2021-10-30T14:22:44.133Z"
   },
   {
    "duration": 15,
    "start_time": "2021-10-30T14:22:44.149Z"
   },
   {
    "duration": 43,
    "start_time": "2021-10-30T14:22:44.166Z"
   },
   {
    "duration": 14,
    "start_time": "2021-10-30T14:22:44.212Z"
   },
   {
    "duration": 10,
    "start_time": "2021-10-30T14:22:44.228Z"
   },
   {
    "duration": 8,
    "start_time": "2021-10-30T14:22:44.241Z"
   },
   {
    "duration": 9,
    "start_time": "2021-10-30T14:22:44.251Z"
   },
   {
    "duration": 46,
    "start_time": "2021-10-30T14:22:44.262Z"
   },
   {
    "duration": 7,
    "start_time": "2021-10-30T14:23:16.494Z"
   },
   {
    "duration": 7,
    "start_time": "2021-10-30T14:23:24.146Z"
   },
   {
    "duration": 12,
    "start_time": "2021-10-30T14:25:09.535Z"
   },
   {
    "duration": 13,
    "start_time": "2021-10-30T14:25:41.859Z"
   },
   {
    "duration": 465,
    "start_time": "2021-10-30T14:28:21.650Z"
   },
   {
    "duration": 13,
    "start_time": "2021-10-30T14:28:29.050Z"
   },
   {
    "duration": 14,
    "start_time": "2021-10-30T15:18:57.368Z"
   },
   {
    "duration": 14,
    "start_time": "2021-10-30T15:19:49.394Z"
   },
   {
    "duration": 17,
    "start_time": "2021-10-30T15:20:28.923Z"
   },
   {
    "duration": 7,
    "start_time": "2021-10-30T15:23:11.358Z"
   },
   {
    "duration": 13,
    "start_time": "2021-10-30T15:23:18.735Z"
   },
   {
    "duration": 9,
    "start_time": "2021-10-30T15:23:24.390Z"
   },
   {
    "duration": 11,
    "start_time": "2021-10-30T15:23:30.024Z"
   },
   {
    "duration": 12,
    "start_time": "2021-10-30T15:25:44.229Z"
   },
   {
    "duration": 11,
    "start_time": "2021-10-30T15:25:44.924Z"
   },
   {
    "duration": 10,
    "start_time": "2021-10-30T15:27:43.685Z"
   },
   {
    "duration": 14,
    "start_time": "2021-10-30T15:28:45.658Z"
   },
   {
    "duration": 12,
    "start_time": "2021-10-30T15:28:47.443Z"
   },
   {
    "duration": 10,
    "start_time": "2021-10-30T15:28:49.290Z"
   },
   {
    "duration": 6,
    "start_time": "2021-10-30T15:30:06.919Z"
   },
   {
    "duration": 11,
    "start_time": "2021-10-30T15:30:18.272Z"
   },
   {
    "duration": 5,
    "start_time": "2021-10-30T15:31:15.219Z"
   },
   {
    "duration": 480,
    "start_time": "2021-10-30T15:31:39.732Z"
   },
   {
    "duration": 818,
    "start_time": "2021-10-30T15:31:55.200Z"
   },
   {
    "duration": 90,
    "start_time": "2021-10-30T15:31:56.021Z"
   },
   {
    "duration": 14,
    "start_time": "2021-10-30T15:31:56.114Z"
   },
   {
    "duration": 6,
    "start_time": "2021-10-30T15:31:56.130Z"
   },
   {
    "duration": 25,
    "start_time": "2021-10-30T15:31:56.138Z"
   },
   {
    "duration": 39,
    "start_time": "2021-10-30T15:31:56.165Z"
   },
   {
    "duration": 20,
    "start_time": "2021-10-30T15:31:56.207Z"
   },
   {
    "duration": 12,
    "start_time": "2021-10-30T15:31:56.231Z"
   },
   {
    "duration": 9,
    "start_time": "2021-10-30T15:31:56.246Z"
   },
   {
    "duration": 7,
    "start_time": "2021-10-30T15:31:56.257Z"
   },
   {
    "duration": 10,
    "start_time": "2021-10-30T15:31:56.301Z"
   },
   {
    "duration": 16,
    "start_time": "2021-10-30T15:31:56.313Z"
   },
   {
    "duration": 23,
    "start_time": "2021-10-30T15:31:56.331Z"
   },
   {
    "duration": 9,
    "start_time": "2021-10-30T15:31:56.356Z"
   },
   {
    "duration": 10,
    "start_time": "2021-10-30T15:31:56.401Z"
   },
   {
    "duration": 28,
    "start_time": "2021-10-30T15:31:56.414Z"
   },
   {
    "duration": 24,
    "start_time": "2021-10-30T15:31:56.444Z"
   },
   {
    "duration": 17,
    "start_time": "2021-10-30T15:31:56.501Z"
   },
   {
    "duration": 11,
    "start_time": "2021-10-30T15:31:56.521Z"
   },
   {
    "duration": 9,
    "start_time": "2021-10-30T15:31:56.534Z"
   },
   {
    "duration": 14,
    "start_time": "2021-10-30T15:31:56.545Z"
   },
   {
    "duration": 43,
    "start_time": "2021-10-30T15:31:56.561Z"
   },
   {
    "duration": 8,
    "start_time": "2021-10-30T15:31:56.610Z"
   },
   {
    "duration": 12,
    "start_time": "2021-10-30T15:31:56.622Z"
   },
   {
    "duration": 9,
    "start_time": "2021-10-30T15:31:56.637Z"
   },
   {
    "duration": 12,
    "start_time": "2021-10-30T15:31:56.649Z"
   },
   {
    "duration": 14,
    "start_time": "2021-10-30T15:31:56.701Z"
   },
   {
    "duration": 11,
    "start_time": "2021-10-30T15:31:56.718Z"
   },
   {
    "duration": 7,
    "start_time": "2021-10-30T15:31:56.732Z"
   },
   {
    "duration": 10,
    "start_time": "2021-10-30T15:31:56.742Z"
   },
   {
    "duration": 56,
    "start_time": "2021-10-30T15:31:56.754Z"
   },
   {
    "duration": 9,
    "start_time": "2021-10-30T15:31:56.812Z"
   },
   {
    "duration": 8,
    "start_time": "2021-10-30T15:31:56.823Z"
   },
   {
    "duration": 6,
    "start_time": "2021-10-30T15:31:56.833Z"
   },
   {
    "duration": 10,
    "start_time": "2021-10-30T15:31:56.841Z"
   },
   {
    "duration": 50,
    "start_time": "2021-10-30T15:31:56.853Z"
   },
   {
    "duration": 9,
    "start_time": "2021-10-30T15:31:56.905Z"
   },
   {
    "duration": 11,
    "start_time": "2021-10-30T15:31:56.916Z"
   },
   {
    "duration": 16,
    "start_time": "2021-10-30T15:31:56.930Z"
   },
   {
    "duration": 54,
    "start_time": "2021-10-30T15:31:56.948Z"
   },
   {
    "duration": 9,
    "start_time": "2021-10-30T15:31:57.004Z"
   },
   {
    "duration": 12,
    "start_time": "2021-10-30T15:31:57.015Z"
   },
   {
    "duration": 7,
    "start_time": "2021-10-30T15:31:57.029Z"
   },
   {
    "duration": 8,
    "start_time": "2021-10-30T15:31:57.038Z"
   },
   {
    "duration": 51,
    "start_time": "2021-10-30T15:31:57.049Z"
   },
   {
    "duration": 4568,
    "start_time": "2021-10-30T15:31:57.103Z"
   },
   {
    "duration": 28,
    "start_time": "2021-10-30T15:32:01.674Z"
   },
   {
    "duration": 34,
    "start_time": "2021-10-30T15:32:01.704Z"
   },
   {
    "duration": 19,
    "start_time": "2021-10-30T15:32:01.740Z"
   },
   {
    "duration": 18,
    "start_time": "2021-10-30T15:32:01.761Z"
   },
   {
    "duration": 21,
    "start_time": "2021-10-30T15:32:01.781Z"
   },
   {
    "duration": 13,
    "start_time": "2021-10-30T15:32:01.805Z"
   },
   {
    "duration": 23,
    "start_time": "2021-10-30T15:32:01.820Z"
   },
   {
    "duration": 18,
    "start_time": "2021-10-30T15:32:01.846Z"
   },
   {
    "duration": 38,
    "start_time": "2021-10-30T15:32:01.867Z"
   },
   {
    "duration": 15,
    "start_time": "2021-10-30T15:32:01.908Z"
   },
   {
    "duration": 15,
    "start_time": "2021-10-30T15:32:01.925Z"
   },
   {
    "duration": 37,
    "start_time": "2021-10-30T15:32:01.942Z"
   },
   {
    "duration": 21,
    "start_time": "2021-10-30T15:32:01.981Z"
   },
   {
    "duration": 21,
    "start_time": "2021-10-30T15:32:02.005Z"
   },
   {
    "duration": 25,
    "start_time": "2021-10-30T15:32:02.028Z"
   },
   {
    "duration": 27,
    "start_time": "2021-10-30T15:32:02.055Z"
   },
   {
    "duration": 29,
    "start_time": "2021-10-30T15:32:02.084Z"
   },
   {
    "duration": 30,
    "start_time": "2021-10-30T15:32:02.115Z"
   },
   {
    "duration": 17,
    "start_time": "2021-10-30T15:32:02.148Z"
   },
   {
    "duration": 22,
    "start_time": "2021-10-30T15:32:02.168Z"
   },
   {
    "duration": 22,
    "start_time": "2021-10-30T15:32:02.193Z"
   },
   {
    "duration": 11,
    "start_time": "2021-10-30T15:32:02.223Z"
   },
   {
    "duration": 21,
    "start_time": "2021-10-30T15:32:02.237Z"
   },
   {
    "duration": 28,
    "start_time": "2021-10-30T15:32:02.260Z"
   },
   {
    "duration": 33,
    "start_time": "2021-10-30T15:32:02.291Z"
   },
   {
    "duration": 27,
    "start_time": "2021-10-30T15:32:02.327Z"
   },
   {
    "duration": 18,
    "start_time": "2021-10-30T15:32:02.357Z"
   },
   {
    "duration": 29,
    "start_time": "2021-10-30T15:32:02.378Z"
   },
   {
    "duration": 23,
    "start_time": "2021-10-30T15:32:02.409Z"
   },
   {
    "duration": 34,
    "start_time": "2021-10-30T15:32:02.435Z"
   },
   {
    "duration": 28,
    "start_time": "2021-10-30T15:32:02.471Z"
   },
   {
    "duration": 29,
    "start_time": "2021-10-30T15:32:02.501Z"
   },
   {
    "duration": 11,
    "start_time": "2021-10-30T15:50:28.165Z"
   },
   {
    "duration": 14,
    "start_time": "2021-10-30T15:51:29.586Z"
   },
   {
    "duration": 457,
    "start_time": "2021-10-30T15:52:23.105Z"
   },
   {
    "duration": 373,
    "start_time": "2021-10-30T15:52:50.975Z"
   },
   {
    "duration": 375,
    "start_time": "2021-10-30T15:53:02.025Z"
   },
   {
    "duration": 9795,
    "start_time": "2021-10-30T15:53:13.714Z"
   },
   {
    "duration": 10,
    "start_time": "2021-10-30T15:53:26.673Z"
   },
   {
    "duration": 1091,
    "start_time": "2021-10-30T15:53:38.972Z"
   },
   {
    "duration": 89,
    "start_time": "2021-10-30T15:53:40.066Z"
   },
   {
    "duration": 14,
    "start_time": "2021-10-30T15:53:40.158Z"
   },
   {
    "duration": 6,
    "start_time": "2021-10-30T15:53:40.175Z"
   },
   {
    "duration": 25,
    "start_time": "2021-10-30T15:53:40.201Z"
   },
   {
    "duration": 11,
    "start_time": "2021-10-30T15:53:40.229Z"
   },
   {
    "duration": 25,
    "start_time": "2021-10-30T15:53:40.243Z"
   },
   {
    "duration": 19,
    "start_time": "2021-10-30T15:53:40.309Z"
   },
   {
    "duration": 12,
    "start_time": "2021-10-30T15:53:40.332Z"
   },
   {
    "duration": 7,
    "start_time": "2021-10-30T15:53:40.347Z"
   },
   {
    "duration": 14,
    "start_time": "2021-10-30T15:53:40.357Z"
   },
   {
    "duration": 46,
    "start_time": "2021-10-30T15:53:40.374Z"
   },
   {
    "duration": 33,
    "start_time": "2021-10-30T15:53:40.423Z"
   },
   {
    "duration": 41,
    "start_time": "2021-10-30T15:53:40.459Z"
   },
   {
    "duration": 10,
    "start_time": "2021-10-30T15:53:40.502Z"
   },
   {
    "duration": 29,
    "start_time": "2021-10-30T15:53:40.514Z"
   },
   {
    "duration": 55,
    "start_time": "2021-10-30T15:53:40.545Z"
   },
   {
    "duration": 23,
    "start_time": "2021-10-30T15:53:40.603Z"
   },
   {
    "duration": 9,
    "start_time": "2021-10-30T15:53:40.629Z"
   },
   {
    "duration": 8,
    "start_time": "2021-10-30T15:53:40.641Z"
   },
   {
    "duration": 49,
    "start_time": "2021-10-30T15:53:40.652Z"
   },
   {
    "duration": 14,
    "start_time": "2021-10-30T15:53:40.704Z"
   },
   {
    "duration": 10,
    "start_time": "2021-10-30T15:53:40.727Z"
   },
   {
    "duration": 15,
    "start_time": "2021-10-30T15:53:40.743Z"
   },
   {
    "duration": 46,
    "start_time": "2021-10-30T15:53:40.761Z"
   },
   {
    "duration": 12,
    "start_time": "2021-10-30T15:53:40.810Z"
   },
   {
    "duration": 20,
    "start_time": "2021-10-30T15:53:40.825Z"
   },
   {
    "duration": 10,
    "start_time": "2021-10-30T15:53:40.848Z"
   },
   {
    "duration": 49,
    "start_time": "2021-10-30T15:53:40.861Z"
   },
   {
    "duration": 11,
    "start_time": "2021-10-30T15:53:40.913Z"
   },
   {
    "duration": 18,
    "start_time": "2021-10-30T15:53:40.927Z"
   },
   {
    "duration": 58,
    "start_time": "2021-10-30T15:53:40.948Z"
   },
   {
    "duration": 7,
    "start_time": "2021-10-30T15:53:41.008Z"
   },
   {
    "duration": 7,
    "start_time": "2021-10-30T15:53:41.018Z"
   },
   {
    "duration": 11,
    "start_time": "2021-10-30T15:53:41.028Z"
   },
   {
    "duration": 6,
    "start_time": "2021-10-30T15:53:41.042Z"
   },
   {
    "duration": 57,
    "start_time": "2021-10-30T15:53:41.051Z"
   },
   {
    "duration": 5,
    "start_time": "2021-10-30T15:53:41.111Z"
   },
   {
    "duration": 17,
    "start_time": "2021-10-30T15:53:41.118Z"
   },
   {
    "duration": 24,
    "start_time": "2021-10-30T15:53:41.137Z"
   },
   {
    "duration": 44,
    "start_time": "2021-10-30T15:53:41.163Z"
   },
   {
    "duration": 14,
    "start_time": "2021-10-30T15:53:41.211Z"
   },
   {
    "duration": 8,
    "start_time": "2021-10-30T15:53:41.228Z"
   },
   {
    "duration": 8,
    "start_time": "2021-10-30T15:53:41.238Z"
   },
   {
    "duration": 61,
    "start_time": "2021-10-30T15:53:41.248Z"
   },
   {
    "duration": 5106,
    "start_time": "2021-10-30T15:53:41.311Z"
   },
   {
    "duration": 16,
    "start_time": "2021-10-30T15:53:46.419Z"
   },
   {
    "duration": 21,
    "start_time": "2021-10-30T15:53:46.437Z"
   },
   {
    "duration": 43,
    "start_time": "2021-10-30T15:53:46.461Z"
   },
   {
    "duration": 3,
    "start_time": "2021-10-30T15:53:46.507Z"
   },
   {
    "duration": 11,
    "start_time": "2021-10-30T15:53:46.513Z"
   },
   {
    "duration": 10,
    "start_time": "2021-10-30T15:53:46.527Z"
   },
   {
    "duration": 15,
    "start_time": "2021-10-30T15:53:46.540Z"
   },
   {
    "duration": 52,
    "start_time": "2021-10-30T15:53:46.558Z"
   },
   {
    "duration": 14,
    "start_time": "2021-10-30T15:53:46.612Z"
   },
   {
    "duration": 14,
    "start_time": "2021-10-30T15:53:46.629Z"
   },
   {
    "duration": 12,
    "start_time": "2021-10-30T15:53:46.646Z"
   },
   {
    "duration": 13,
    "start_time": "2021-10-30T15:53:46.700Z"
   },
   {
    "duration": 10,
    "start_time": "2021-10-30T15:53:46.715Z"
   },
   {
    "duration": 11,
    "start_time": "2021-10-30T15:53:46.727Z"
   },
   {
    "duration": 14,
    "start_time": "2021-10-30T15:53:46.741Z"
   },
   {
    "duration": 44,
    "start_time": "2021-10-30T15:53:46.757Z"
   },
   {
    "duration": 17,
    "start_time": "2021-10-30T15:53:46.804Z"
   },
   {
    "duration": 15,
    "start_time": "2021-10-30T15:53:46.824Z"
   },
   {
    "duration": 9,
    "start_time": "2021-10-30T15:53:46.841Z"
   },
   {
    "duration": 52,
    "start_time": "2021-10-30T15:53:46.852Z"
   },
   {
    "duration": 12,
    "start_time": "2021-10-30T15:53:46.906Z"
   },
   {
    "duration": 10,
    "start_time": "2021-10-30T15:53:46.926Z"
   },
   {
    "duration": 6,
    "start_time": "2021-10-30T15:53:46.939Z"
   },
   {
    "duration": 18,
    "start_time": "2021-10-30T15:53:46.947Z"
   },
   {
    "duration": 47,
    "start_time": "2021-10-30T15:53:46.968Z"
   },
   {
    "duration": 20,
    "start_time": "2021-10-30T15:53:47.017Z"
   },
   {
    "duration": 14,
    "start_time": "2021-10-30T15:53:47.040Z"
   },
   {
    "duration": 51,
    "start_time": "2021-10-30T15:53:47.057Z"
   },
   {
    "duration": 12,
    "start_time": "2021-10-30T15:53:47.111Z"
   },
   {
    "duration": 6,
    "start_time": "2021-10-30T15:53:47.125Z"
   },
   {
    "duration": 15,
    "start_time": "2021-10-30T15:53:47.134Z"
   },
   {
    "duration": 11,
    "start_time": "2021-10-30T15:53:47.152Z"
   },
   {
    "duration": 44,
    "start_time": "2021-10-30T15:53:47.166Z"
   },
   {
    "duration": 661,
    "start_time": "2021-10-30T15:57:23.376Z"
   },
   {
    "duration": 12,
    "start_time": "2021-10-30T15:57:32.865Z"
   },
   {
    "duration": 13,
    "start_time": "2021-10-30T16:00:40.226Z"
   },
   {
    "duration": 13,
    "start_time": "2021-10-30T16:00:56.865Z"
   },
   {
    "duration": 11,
    "start_time": "2021-10-30T16:04:20.684Z"
   },
   {
    "duration": 806,
    "start_time": "2021-10-30T20:29:33.206Z"
   },
   {
    "duration": 90,
    "start_time": "2021-10-30T20:29:34.015Z"
   },
   {
    "duration": 15,
    "start_time": "2021-10-30T20:29:34.109Z"
   },
   {
    "duration": 5,
    "start_time": "2021-10-30T20:29:34.127Z"
   },
   {
    "duration": 27,
    "start_time": "2021-10-30T20:29:34.134Z"
   },
   {
    "duration": 43,
    "start_time": "2021-10-30T20:29:34.164Z"
   },
   {
    "duration": 16,
    "start_time": "2021-10-30T20:29:34.210Z"
   },
   {
    "duration": 11,
    "start_time": "2021-10-30T20:29:34.229Z"
   },
   {
    "duration": 10,
    "start_time": "2021-10-30T20:29:34.244Z"
   },
   {
    "duration": 49,
    "start_time": "2021-10-30T20:29:34.257Z"
   },
   {
    "duration": 12,
    "start_time": "2021-10-30T20:29:34.308Z"
   },
   {
    "duration": 22,
    "start_time": "2021-10-30T20:29:34.323Z"
   },
   {
    "duration": 24,
    "start_time": "2021-10-30T20:29:34.348Z"
   },
   {
    "duration": 31,
    "start_time": "2021-10-30T20:29:34.374Z"
   },
   {
    "duration": 12,
    "start_time": "2021-10-30T20:29:34.408Z"
   },
   {
    "duration": 29,
    "start_time": "2021-10-30T20:29:34.422Z"
   },
   {
    "duration": 57,
    "start_time": "2021-10-30T20:29:34.453Z"
   },
   {
    "duration": 16,
    "start_time": "2021-10-30T20:29:34.513Z"
   },
   {
    "duration": 10,
    "start_time": "2021-10-30T20:29:34.531Z"
   },
   {
    "duration": 6,
    "start_time": "2021-10-30T20:29:34.543Z"
   },
   {
    "duration": 12,
    "start_time": "2021-10-30T20:29:34.551Z"
   },
   {
    "duration": 43,
    "start_time": "2021-10-30T20:29:34.566Z"
   },
   {
    "duration": 7,
    "start_time": "2021-10-30T20:29:34.612Z"
   },
   {
    "duration": 13,
    "start_time": "2021-10-30T20:29:34.622Z"
   },
   {
    "duration": 9,
    "start_time": "2021-10-30T20:29:34.638Z"
   },
   {
    "duration": 53,
    "start_time": "2021-10-30T20:29:34.649Z"
   },
   {
    "duration": 14,
    "start_time": "2021-10-30T20:29:34.710Z"
   },
   {
    "duration": 11,
    "start_time": "2021-10-30T20:29:34.728Z"
   },
   {
    "duration": 10,
    "start_time": "2021-10-30T20:29:34.742Z"
   },
   {
    "duration": 48,
    "start_time": "2021-10-30T20:29:34.754Z"
   },
   {
    "duration": 17,
    "start_time": "2021-10-30T20:29:34.805Z"
   },
   {
    "duration": 14,
    "start_time": "2021-10-30T20:29:34.825Z"
   },
   {
    "duration": 10,
    "start_time": "2021-10-30T20:29:34.842Z"
   },
   {
    "duration": 11,
    "start_time": "2021-10-30T20:29:34.855Z"
   },
   {
    "duration": 37,
    "start_time": "2021-10-30T20:29:34.869Z"
   },
   {
    "duration": 7,
    "start_time": "2021-10-30T20:29:34.909Z"
   },
   {
    "duration": 21,
    "start_time": "2021-10-30T20:29:34.918Z"
   },
   {
    "duration": 12,
    "start_time": "2021-10-30T20:29:34.942Z"
   },
   {
    "duration": 20,
    "start_time": "2021-10-30T20:29:34.957Z"
   },
   {
    "duration": 36,
    "start_time": "2021-10-30T20:29:34.980Z"
   },
   {
    "duration": 16,
    "start_time": "2021-10-30T20:29:35.018Z"
   },
   {
    "duration": 17,
    "start_time": "2021-10-30T20:29:35.037Z"
   },
   {
    "duration": 21,
    "start_time": "2021-10-30T20:29:35.056Z"
   },
   {
    "duration": 25,
    "start_time": "2021-10-30T20:29:35.080Z"
   },
   {
    "duration": 18,
    "start_time": "2021-10-30T20:29:35.108Z"
   },
   {
    "duration": 4649,
    "start_time": "2021-10-30T20:29:35.128Z"
   },
   {
    "duration": 26,
    "start_time": "2021-10-30T20:29:39.780Z"
   },
   {
    "duration": 21,
    "start_time": "2021-10-30T20:29:39.808Z"
   },
   {
    "duration": 8,
    "start_time": "2021-10-30T20:29:39.832Z"
   },
   {
    "duration": 8,
    "start_time": "2021-10-30T20:29:39.843Z"
   },
   {
    "duration": 48,
    "start_time": "2021-10-30T20:29:39.853Z"
   },
   {
    "duration": 10,
    "start_time": "2021-10-30T20:29:39.903Z"
   },
   {
    "duration": 17,
    "start_time": "2021-10-30T20:29:39.915Z"
   },
   {
    "duration": 13,
    "start_time": "2021-10-30T20:29:39.934Z"
   },
   {
    "duration": 15,
    "start_time": "2021-10-30T20:29:39.949Z"
   },
   {
    "duration": 48,
    "start_time": "2021-10-30T20:29:39.966Z"
   },
   {
    "duration": 16,
    "start_time": "2021-10-30T20:29:40.017Z"
   },
   {
    "duration": 20,
    "start_time": "2021-10-30T20:29:40.035Z"
   },
   {
    "duration": 10,
    "start_time": "2021-10-30T20:29:40.058Z"
   },
   {
    "duration": 11,
    "start_time": "2021-10-30T20:29:40.100Z"
   },
   {
    "duration": 19,
    "start_time": "2021-10-30T20:29:40.113Z"
   },
   {
    "duration": 9,
    "start_time": "2021-10-30T20:29:40.134Z"
   },
   {
    "duration": 13,
    "start_time": "2021-10-30T20:29:40.146Z"
   },
   {
    "duration": 43,
    "start_time": "2021-10-30T20:29:40.161Z"
   },
   {
    "duration": 8,
    "start_time": "2021-10-30T20:29:40.207Z"
   },
   {
    "duration": 14,
    "start_time": "2021-10-30T20:29:40.217Z"
   },
   {
    "duration": 8,
    "start_time": "2021-10-30T20:29:40.233Z"
   },
   {
    "duration": 11,
    "start_time": "2021-10-30T20:29:40.244Z"
   },
   {
    "duration": 44,
    "start_time": "2021-10-30T20:29:40.257Z"
   },
   {
    "duration": 16,
    "start_time": "2021-10-30T20:29:40.303Z"
   },
   {
    "duration": 15,
    "start_time": "2021-10-30T20:29:40.321Z"
   },
   {
    "duration": 16,
    "start_time": "2021-10-30T20:29:40.339Z"
   },
   {
    "duration": 48,
    "start_time": "2021-10-30T20:29:40.357Z"
   },
   {
    "duration": 12,
    "start_time": "2021-10-30T20:29:40.408Z"
   },
   {
    "duration": 12,
    "start_time": "2021-10-30T20:29:40.423Z"
   },
   {
    "duration": 9,
    "start_time": "2021-10-30T20:29:40.437Z"
   },
   {
    "duration": 17,
    "start_time": "2021-10-30T20:29:40.448Z"
   },
   {
    "duration": 37,
    "start_time": "2021-10-30T20:29:40.467Z"
   },
   {
    "duration": 16,
    "start_time": "2021-10-30T20:29:40.506Z"
   },
   {
    "duration": 7,
    "start_time": "2021-10-30T20:30:43.793Z"
   },
   {
    "duration": 6,
    "start_time": "2021-10-30T20:31:21.150Z"
   },
   {
    "duration": 6,
    "start_time": "2021-10-30T20:31:31.995Z"
   },
   {
    "duration": 1561,
    "start_time": "2021-10-30T20:32:48.711Z"
   },
   {
    "duration": 511,
    "start_time": "2021-10-30T20:33:20.029Z"
   },
   {
    "duration": 401,
    "start_time": "2021-10-30T20:33:43.536Z"
   },
   {
    "duration": 5,
    "start_time": "2021-10-30T20:35:16.084Z"
   },
   {
    "duration": 1568,
    "start_time": "2021-10-30T20:35:35.949Z"
   },
   {
    "duration": 128,
    "start_time": "2021-10-30T20:35:50.921Z"
   },
   {
    "duration": 368,
    "start_time": "2021-10-30T20:38:18.919Z"
   },
   {
    "duration": 841,
    "start_time": "2021-10-30T20:38:26.541Z"
   },
   {
    "duration": 1405,
    "start_time": "2021-10-30T20:38:48.044Z"
   },
   {
    "duration": 1521,
    "start_time": "2021-10-30T20:39:06.713Z"
   },
   {
    "duration": 621,
    "start_time": "2021-10-30T20:39:13.204Z"
   },
   {
    "duration": 129,
    "start_time": "2021-10-30T20:42:22.791Z"
   },
   {
    "duration": 378,
    "start_time": "2021-10-30T20:43:44.621Z"
   },
   {
    "duration": 7,
    "start_time": "2021-10-30T20:44:07.482Z"
   },
   {
    "duration": 7,
    "start_time": "2021-10-30T20:44:37.626Z"
   },
   {
    "duration": 6,
    "start_time": "2021-10-30T20:44:46.590Z"
   },
   {
    "duration": 17,
    "start_time": "2021-10-30T20:45:52.027Z"
   },
   {
    "duration": 11,
    "start_time": "2021-10-30T20:45:59.539Z"
   },
   {
    "duration": 124,
    "start_time": "2021-10-30T20:47:08.088Z"
   },
   {
    "duration": 366,
    "start_time": "2021-10-30T20:47:18.632Z"
   },
   {
    "duration": 385,
    "start_time": "2021-10-30T20:47:33.975Z"
   },
   {
    "duration": 11,
    "start_time": "2021-10-30T20:48:04.561Z"
   },
   {
    "duration": 10,
    "start_time": "2021-10-30T20:48:50.941Z"
   },
   {
    "duration": 10,
    "start_time": "2021-10-30T20:49:02.617Z"
   },
   {
    "duration": 10,
    "start_time": "2021-10-30T20:49:08.675Z"
   },
   {
    "duration": 6,
    "start_time": "2021-10-30T20:49:32.282Z"
   },
   {
    "duration": 6,
    "start_time": "2021-10-30T20:50:05.777Z"
   },
   {
    "duration": 10,
    "start_time": "2021-10-30T20:50:19.409Z"
   },
   {
    "duration": 10,
    "start_time": "2021-10-30T20:50:21.139Z"
   },
   {
    "duration": 9,
    "start_time": "2021-10-30T20:50:51.532Z"
   },
   {
    "duration": 11,
    "start_time": "2021-10-30T20:51:31.926Z"
   },
   {
    "duration": 10,
    "start_time": "2021-10-30T20:51:43.198Z"
   },
   {
    "duration": 9,
    "start_time": "2021-10-30T20:52:07.574Z"
   },
   {
    "duration": 10,
    "start_time": "2021-10-30T20:52:21.458Z"
   },
   {
    "duration": 9,
    "start_time": "2021-10-30T20:53:24.241Z"
   },
   {
    "duration": 11,
    "start_time": "2021-10-30T20:53:25.531Z"
   },
   {
    "duration": 8,
    "start_time": "2021-10-30T20:54:37.669Z"
   },
   {
    "duration": 5,
    "start_time": "2021-10-30T21:09:55.799Z"
   },
   {
    "duration": 16,
    "start_time": "2021-10-30T21:10:39.102Z"
   },
   {
    "duration": 11,
    "start_time": "2021-10-30T21:11:04.616Z"
   },
   {
    "duration": 5,
    "start_time": "2021-10-30T21:11:32.128Z"
   },
   {
    "duration": 18,
    "start_time": "2021-10-30T21:11:33.795Z"
   },
   {
    "duration": 10,
    "start_time": "2021-10-30T21:11:35.365Z"
   },
   {
    "duration": 5,
    "start_time": "2021-10-30T21:12:15.877Z"
   },
   {
    "duration": 19,
    "start_time": "2021-10-30T21:12:17.820Z"
   },
   {
    "duration": 11,
    "start_time": "2021-10-30T21:12:20.105Z"
   },
   {
    "duration": 5,
    "start_time": "2021-10-30T21:12:48.300Z"
   },
   {
    "duration": 15,
    "start_time": "2021-10-30T21:12:49.863Z"
   },
   {
    "duration": 10,
    "start_time": "2021-10-30T21:12:51.531Z"
   },
   {
    "duration": 5,
    "start_time": "2021-10-30T21:14:51.757Z"
   },
   {
    "duration": 14,
    "start_time": "2021-10-30T21:14:53.472Z"
   },
   {
    "duration": 10,
    "start_time": "2021-10-30T21:14:56.759Z"
   },
   {
    "duration": 8,
    "start_time": "2021-10-30T21:15:17.938Z"
   },
   {
    "duration": 13,
    "start_time": "2021-10-30T21:15:59.521Z"
   },
   {
    "duration": 393,
    "start_time": "2021-10-30T21:16:35.366Z"
   },
   {
    "duration": 375,
    "start_time": "2021-10-30T21:16:43.667Z"
   },
   {
    "duration": 791,
    "start_time": "2021-10-30T21:16:53.140Z"
   },
   {
    "duration": 92,
    "start_time": "2021-10-30T21:16:53.933Z"
   },
   {
    "duration": 15,
    "start_time": "2021-10-30T21:16:54.028Z"
   },
   {
    "duration": 9,
    "start_time": "2021-10-30T21:16:54.045Z"
   },
   {
    "duration": 50,
    "start_time": "2021-10-30T21:16:54.056Z"
   },
   {
    "duration": 9,
    "start_time": "2021-10-30T21:16:54.108Z"
   },
   {
    "duration": 16,
    "start_time": "2021-10-30T21:16:54.119Z"
   },
   {
    "duration": 11,
    "start_time": "2021-10-30T21:16:54.138Z"
   },
   {
    "duration": 7,
    "start_time": "2021-10-30T21:16:54.152Z"
   },
   {
    "duration": 41,
    "start_time": "2021-10-30T21:16:54.161Z"
   },
   {
    "duration": 10,
    "start_time": "2021-10-30T21:16:54.205Z"
   },
   {
    "duration": 16,
    "start_time": "2021-10-30T21:16:54.217Z"
   },
   {
    "duration": 25,
    "start_time": "2021-10-30T21:16:54.235Z"
   },
   {
    "duration": 42,
    "start_time": "2021-10-30T21:16:54.263Z"
   },
   {
    "duration": 11,
    "start_time": "2021-10-30T21:16:54.307Z"
   },
   {
    "duration": 28,
    "start_time": "2021-10-30T21:16:54.320Z"
   },
   {
    "duration": 61,
    "start_time": "2021-10-30T21:16:54.350Z"
   },
   {
    "duration": 17,
    "start_time": "2021-10-30T21:16:54.414Z"
   },
   {
    "duration": 6,
    "start_time": "2021-10-30T21:16:54.433Z"
   },
   {
    "duration": 5,
    "start_time": "2021-10-30T21:16:54.442Z"
   },
   {
    "duration": 12,
    "start_time": "2021-10-30T21:16:54.449Z"
   },
   {
    "duration": 47,
    "start_time": "2021-10-30T21:16:54.463Z"
   },
   {
    "duration": 8,
    "start_time": "2021-10-30T21:16:54.516Z"
   },
   {
    "duration": 9,
    "start_time": "2021-10-30T21:16:54.528Z"
   },
   {
    "duration": 9,
    "start_time": "2021-10-30T21:16:54.539Z"
   },
   {
    "duration": 51,
    "start_time": "2021-10-30T21:16:54.551Z"
   },
   {
    "duration": 19,
    "start_time": "2021-10-30T21:16:54.605Z"
   },
   {
    "duration": 11,
    "start_time": "2021-10-30T21:16:54.626Z"
   },
   {
    "duration": 13,
    "start_time": "2021-10-30T21:16:54.639Z"
   },
   {
    "duration": 46,
    "start_time": "2021-10-30T21:16:54.654Z"
   },
   {
    "duration": 16,
    "start_time": "2021-10-30T21:16:54.703Z"
   },
   {
    "duration": 12,
    "start_time": "2021-10-30T21:16:54.722Z"
   },
   {
    "duration": 10,
    "start_time": "2021-10-30T21:16:54.736Z"
   },
   {
    "duration": 13,
    "start_time": "2021-10-30T21:16:54.748Z"
   },
   {
    "duration": 42,
    "start_time": "2021-10-30T21:16:54.763Z"
   },
   {
    "duration": 5,
    "start_time": "2021-10-30T21:16:54.808Z"
   },
   {
    "duration": 12,
    "start_time": "2021-10-30T21:16:54.815Z"
   },
   {
    "duration": 12,
    "start_time": "2021-10-30T21:16:54.830Z"
   },
   {
    "duration": 17,
    "start_time": "2021-10-30T21:16:54.845Z"
   },
   {
    "duration": 52,
    "start_time": "2021-10-30T21:16:54.864Z"
   },
   {
    "duration": 7,
    "start_time": "2021-10-30T21:16:54.919Z"
   },
   {
    "duration": 10,
    "start_time": "2021-10-30T21:16:54.928Z"
   },
   {
    "duration": 7,
    "start_time": "2021-10-30T21:16:54.941Z"
   },
   {
    "duration": 51,
    "start_time": "2021-10-30T21:16:54.950Z"
   },
   {
    "duration": 11,
    "start_time": "2021-10-30T21:16:55.003Z"
   },
   {
    "duration": 4665,
    "start_time": "2021-10-30T21:16:55.017Z"
   },
   {
    "duration": 27,
    "start_time": "2021-10-30T21:16:59.685Z"
   },
   {
    "duration": 20,
    "start_time": "2021-10-30T21:16:59.714Z"
   },
   {
    "duration": 8,
    "start_time": "2021-10-30T21:16:59.736Z"
   },
   {
    "duration": 6,
    "start_time": "2021-10-30T21:16:59.746Z"
   },
   {
    "duration": 47,
    "start_time": "2021-10-30T21:16:59.755Z"
   },
   {
    "duration": 10,
    "start_time": "2021-10-30T21:16:59.805Z"
   },
   {
    "duration": 14,
    "start_time": "2021-10-30T21:16:59.817Z"
   },
   {
    "duration": 14,
    "start_time": "2021-10-30T21:16:59.833Z"
   },
   {
    "duration": 9,
    "start_time": "2021-10-30T21:16:59.849Z"
   },
   {
    "duration": 43,
    "start_time": "2021-10-30T21:16:59.860Z"
   },
   {
    "duration": 7,
    "start_time": "2021-10-30T21:16:59.906Z"
   },
   {
    "duration": 7,
    "start_time": "2021-10-30T21:16:59.915Z"
   },
   {
    "duration": 8,
    "start_time": "2021-10-30T21:16:59.924Z"
   },
   {
    "duration": 7,
    "start_time": "2021-10-30T21:16:59.934Z"
   },
   {
    "duration": 15,
    "start_time": "2021-10-30T21:16:59.943Z"
   },
   {
    "duration": 48,
    "start_time": "2021-10-30T21:16:59.960Z"
   },
   {
    "duration": 16,
    "start_time": "2021-10-30T21:17:00.011Z"
   },
   {
    "duration": 30,
    "start_time": "2021-10-30T21:17:00.029Z"
   },
   {
    "duration": 10,
    "start_time": "2021-10-30T21:17:00.061Z"
   },
   {
    "duration": 16,
    "start_time": "2021-10-30T21:17:00.074Z"
   },
   {
    "duration": 27,
    "start_time": "2021-10-30T21:17:00.101Z"
   },
   {
    "duration": 12,
    "start_time": "2021-10-30T21:17:00.137Z"
   },
   {
    "duration": 26,
    "start_time": "2021-10-30T21:17:00.152Z"
   },
   {
    "duration": 28,
    "start_time": "2021-10-30T21:17:00.180Z"
   },
   {
    "duration": 21,
    "start_time": "2021-10-30T21:17:00.211Z"
   },
   {
    "duration": 13,
    "start_time": "2021-10-30T21:17:00.235Z"
   },
   {
    "duration": 20,
    "start_time": "2021-10-30T21:17:00.250Z"
   },
   {
    "duration": 34,
    "start_time": "2021-10-30T21:17:00.273Z"
   },
   {
    "duration": 14,
    "start_time": "2021-10-30T21:17:00.309Z"
   },
   {
    "duration": 34,
    "start_time": "2021-10-30T21:17:00.326Z"
   },
   {
    "duration": 23,
    "start_time": "2021-10-30T21:17:00.362Z"
   },
   {
    "duration": 27,
    "start_time": "2021-10-30T21:17:00.388Z"
   },
   {
    "duration": 19,
    "start_time": "2021-10-30T21:17:00.417Z"
   },
   {
    "duration": 34,
    "start_time": "2021-10-30T21:17:00.438Z"
   },
   {
    "duration": 29,
    "start_time": "2021-10-30T21:17:00.474Z"
   },
   {
    "duration": 16,
    "start_time": "2021-10-30T21:17:00.505Z"
   },
   {
    "duration": 34,
    "start_time": "2021-10-30T21:17:00.524Z"
   },
   {
    "duration": 27,
    "start_time": "2021-10-30T21:17:00.561Z"
   },
   {
    "duration": 31,
    "start_time": "2021-10-30T21:17:00.590Z"
   },
   {
    "duration": 27,
    "start_time": "2021-10-30T21:17:00.623Z"
   },
   {
    "duration": 23,
    "start_time": "2021-10-30T21:17:00.653Z"
   },
   {
    "duration": 11,
    "start_time": "2021-10-30T21:17:00.678Z"
   },
   {
    "duration": 21,
    "start_time": "2021-10-30T21:17:00.692Z"
   },
   {
    "duration": 20,
    "start_time": "2021-10-30T21:17:00.716Z"
   },
   {
    "duration": 18,
    "start_time": "2021-10-30T21:17:00.738Z"
   },
   {
    "duration": 38,
    "start_time": "2021-10-30T21:17:00.759Z"
   },
   {
    "duration": 12,
    "start_time": "2021-10-30T21:17:00.800Z"
   },
   {
    "duration": 41,
    "start_time": "2021-10-30T21:17:00.814Z"
   },
   {
    "duration": 480,
    "start_time": "2021-10-30T21:19:01.189Z"
   },
   {
    "duration": 21,
    "start_time": "2021-10-30T21:19:11.805Z"
   },
   {
    "duration": 20,
    "start_time": "2021-10-30T21:19:17.574Z"
   },
   {
    "duration": 811,
    "start_time": "2021-10-30T21:19:40.216Z"
   },
   {
    "duration": 89,
    "start_time": "2021-10-30T21:19:41.030Z"
   },
   {
    "duration": 16,
    "start_time": "2021-10-30T21:19:41.121Z"
   },
   {
    "duration": 5,
    "start_time": "2021-10-30T21:19:41.140Z"
   },
   {
    "duration": 32,
    "start_time": "2021-10-30T21:19:41.147Z"
   },
   {
    "duration": 26,
    "start_time": "2021-10-30T21:19:41.181Z"
   },
   {
    "duration": 16,
    "start_time": "2021-10-30T21:19:41.210Z"
   },
   {
    "duration": 12,
    "start_time": "2021-10-30T21:19:41.230Z"
   },
   {
    "duration": 8,
    "start_time": "2021-10-30T21:19:41.245Z"
   },
   {
    "duration": 5,
    "start_time": "2021-10-30T21:19:41.255Z"
   },
   {
    "duration": 10,
    "start_time": "2021-10-30T21:19:41.301Z"
   },
   {
    "duration": 16,
    "start_time": "2021-10-30T21:19:41.313Z"
   },
   {
    "duration": 23,
    "start_time": "2021-10-30T21:19:41.331Z"
   },
   {
    "duration": 8,
    "start_time": "2021-10-30T21:19:41.356Z"
   },
   {
    "duration": 10,
    "start_time": "2021-10-30T21:19:41.401Z"
   },
   {
    "duration": 29,
    "start_time": "2021-10-30T21:19:41.413Z"
   },
   {
    "duration": 24,
    "start_time": "2021-10-30T21:19:41.445Z"
   },
   {
    "duration": 18,
    "start_time": "2021-10-30T21:19:41.501Z"
   },
   {
    "duration": 7,
    "start_time": "2021-10-30T21:19:41.522Z"
   },
   {
    "duration": 6,
    "start_time": "2021-10-30T21:19:41.531Z"
   },
   {
    "duration": 11,
    "start_time": "2021-10-30T21:19:41.540Z"
   },
   {
    "duration": 53,
    "start_time": "2021-10-30T21:19:41.553Z"
   },
   {
    "duration": 8,
    "start_time": "2021-10-30T21:19:41.612Z"
   },
   {
    "duration": 10,
    "start_time": "2021-10-30T21:19:41.626Z"
   },
   {
    "duration": 14,
    "start_time": "2021-10-30T21:19:41.639Z"
   },
   {
    "duration": 52,
    "start_time": "2021-10-30T21:19:41.655Z"
   },
   {
    "duration": 31,
    "start_time": "2021-10-30T21:19:41.710Z"
   },
   {
    "duration": 19,
    "start_time": "2021-10-30T21:19:41.743Z"
   },
   {
    "duration": 28,
    "start_time": "2021-10-30T21:19:41.764Z"
   },
   {
    "duration": 12,
    "start_time": "2021-10-30T21:19:41.794Z"
   },
   {
    "duration": 16,
    "start_time": "2021-10-30T21:19:41.808Z"
   },
   {
    "duration": 13,
    "start_time": "2021-10-30T21:19:41.826Z"
   },
   {
    "duration": 19,
    "start_time": "2021-10-30T21:19:41.841Z"
   },
   {
    "duration": 10,
    "start_time": "2021-10-30T21:19:41.863Z"
   },
   {
    "duration": 29,
    "start_time": "2021-10-30T21:19:41.875Z"
   },
   {
    "duration": 6,
    "start_time": "2021-10-30T21:19:41.907Z"
   },
   {
    "duration": 14,
    "start_time": "2021-10-30T21:19:41.916Z"
   },
   {
    "duration": 7,
    "start_time": "2021-10-30T21:19:41.932Z"
   },
   {
    "duration": 18,
    "start_time": "2021-10-30T21:19:41.942Z"
   },
   {
    "duration": 50,
    "start_time": "2021-10-30T21:19:41.962Z"
   },
   {
    "duration": 8,
    "start_time": "2021-10-30T21:19:42.015Z"
   },
   {
    "duration": 13,
    "start_time": "2021-10-30T21:19:42.025Z"
   },
   {
    "duration": 7,
    "start_time": "2021-10-30T21:19:42.040Z"
   },
   {
    "duration": 10,
    "start_time": "2021-10-30T21:19:42.049Z"
   },
   {
    "duration": 12,
    "start_time": "2021-10-30T21:19:42.101Z"
   },
   {
    "duration": 4434,
    "start_time": "2021-10-30T21:19:42.115Z"
   },
   {
    "duration": 14,
    "start_time": "2021-10-30T21:19:46.552Z"
   },
   {
    "duration": 44,
    "start_time": "2021-10-30T21:19:46.569Z"
   },
   {
    "duration": 8,
    "start_time": "2021-10-30T21:19:46.616Z"
   },
   {
    "duration": 10,
    "start_time": "2021-10-30T21:19:46.626Z"
   },
   {
    "duration": 13,
    "start_time": "2021-10-30T21:19:46.638Z"
   },
   {
    "duration": 10,
    "start_time": "2021-10-30T21:19:46.654Z"
   },
   {
    "duration": 43,
    "start_time": "2021-10-30T21:19:46.666Z"
   },
   {
    "duration": 13,
    "start_time": "2021-10-30T21:19:46.712Z"
   },
   {
    "duration": 12,
    "start_time": "2021-10-30T21:19:46.728Z"
   },
   {
    "duration": 5,
    "start_time": "2021-10-30T21:19:46.742Z"
   },
   {
    "duration": 9,
    "start_time": "2021-10-30T21:19:46.750Z"
   },
   {
    "duration": 41,
    "start_time": "2021-10-30T21:19:46.761Z"
   },
   {
    "duration": 9,
    "start_time": "2021-10-30T21:19:46.804Z"
   },
   {
    "duration": 8,
    "start_time": "2021-10-30T21:19:46.815Z"
   },
   {
    "duration": 16,
    "start_time": "2021-10-30T21:19:46.825Z"
   },
   {
    "duration": 11,
    "start_time": "2021-10-30T21:19:46.844Z"
   },
   {
    "duration": 11,
    "start_time": "2021-10-30T21:19:46.902Z"
   },
   {
    "duration": 14,
    "start_time": "2021-10-30T21:19:46.916Z"
   },
   {
    "duration": 8,
    "start_time": "2021-10-30T21:19:46.933Z"
   },
   {
    "duration": 5,
    "start_time": "2021-10-30T21:19:46.943Z"
   },
   {
    "duration": 60,
    "start_time": "2021-10-30T21:19:46.950Z"
   },
   {
    "duration": 10,
    "start_time": "2021-10-30T21:19:47.018Z"
   },
   {
    "duration": 15,
    "start_time": "2021-10-30T21:19:47.031Z"
   },
   {
    "duration": 18,
    "start_time": "2021-10-30T21:19:47.049Z"
   },
   {
    "duration": 42,
    "start_time": "2021-10-30T21:19:47.070Z"
   },
   {
    "duration": 15,
    "start_time": "2021-10-30T21:19:47.115Z"
   },
   {
    "duration": 12,
    "start_time": "2021-10-30T21:19:47.133Z"
   },
   {
    "duration": 52,
    "start_time": "2021-10-30T21:19:47.148Z"
   },
   {
    "duration": 10,
    "start_time": "2021-10-30T21:19:47.203Z"
   },
   {
    "duration": 13,
    "start_time": "2021-10-30T21:19:47.216Z"
   },
   {
    "duration": 15,
    "start_time": "2021-10-30T21:19:47.231Z"
   },
   {
    "duration": 10,
    "start_time": "2021-10-30T21:19:47.249Z"
   },
   {
    "duration": 49,
    "start_time": "2021-10-30T21:19:47.261Z"
   },
   {
    "duration": 13,
    "start_time": "2021-10-30T21:19:47.312Z"
   },
   {
    "duration": 9,
    "start_time": "2021-10-30T21:19:47.327Z"
   },
   {
    "duration": 11,
    "start_time": "2021-10-30T21:19:47.338Z"
   },
   {
    "duration": 10,
    "start_time": "2021-10-30T21:19:47.352Z"
   },
   {
    "duration": 10,
    "start_time": "2021-10-30T21:19:47.401Z"
   },
   {
    "duration": 6,
    "start_time": "2021-10-30T21:19:47.414Z"
   },
   {
    "duration": 19,
    "start_time": "2021-10-30T21:19:47.422Z"
   },
   {
    "duration": 19,
    "start_time": "2021-10-30T21:19:47.444Z"
   },
   {
    "duration": 49,
    "start_time": "2021-10-30T21:19:47.466Z"
   },
   {
    "duration": 12,
    "start_time": "2021-10-30T21:19:47.518Z"
   },
   {
    "duration": 18,
    "start_time": "2021-10-30T21:19:47.532Z"
   },
   {
    "duration": 20,
    "start_time": "2021-10-30T21:19:47.553Z"
   },
   {
    "duration": 25,
    "start_time": "2021-10-30T21:19:47.576Z"
   },
   {
    "duration": 15,
    "start_time": "2021-10-30T21:19:47.604Z"
   },
   {
    "duration": 9,
    "start_time": "2021-10-30T21:19:47.621Z"
   },
   {
    "duration": 25,
    "start_time": "2021-10-30T21:19:47.632Z"
   },
   {
    "duration": 10,
    "start_time": "2021-10-30T21:21:29.812Z"
   },
   {
    "duration": 10385,
    "start_time": "2021-10-30T21:23:22.833Z"
   },
   {
    "duration": 841,
    "start_time": "2021-10-30T21:23:45.871Z"
   },
   {
    "duration": 91,
    "start_time": "2021-10-30T21:23:46.714Z"
   },
   {
    "duration": 14,
    "start_time": "2021-10-30T21:23:46.808Z"
   },
   {
    "duration": 4,
    "start_time": "2021-10-30T21:23:46.825Z"
   },
   {
    "duration": 27,
    "start_time": "2021-10-30T21:23:46.832Z"
   },
   {
    "duration": 41,
    "start_time": "2021-10-30T21:23:46.861Z"
   },
   {
    "duration": 16,
    "start_time": "2021-10-30T21:23:46.904Z"
   },
   {
    "duration": 15,
    "start_time": "2021-10-30T21:23:46.924Z"
   },
   {
    "duration": 9,
    "start_time": "2021-10-30T21:23:46.942Z"
   },
   {
    "duration": 5,
    "start_time": "2021-10-30T21:23:46.954Z"
   },
   {
    "duration": 46,
    "start_time": "2021-10-30T21:23:46.961Z"
   },
   {
    "duration": 14,
    "start_time": "2021-10-30T21:23:47.009Z"
   },
   {
    "duration": 23,
    "start_time": "2021-10-30T21:23:47.026Z"
   },
   {
    "duration": 9,
    "start_time": "2021-10-30T21:23:47.051Z"
   },
   {
    "duration": 47,
    "start_time": "2021-10-30T21:23:47.062Z"
   },
   {
    "duration": 31,
    "start_time": "2021-10-30T21:23:47.113Z"
   },
   {
    "duration": 54,
    "start_time": "2021-10-30T21:23:47.147Z"
   },
   {
    "duration": 19,
    "start_time": "2021-10-30T21:23:47.205Z"
   },
   {
    "duration": 15,
    "start_time": "2021-10-30T21:23:47.226Z"
   },
   {
    "duration": 14,
    "start_time": "2021-10-30T21:23:47.244Z"
   },
   {
    "duration": 25,
    "start_time": "2021-10-30T21:23:47.261Z"
   },
   {
    "duration": 21,
    "start_time": "2021-10-30T21:23:47.289Z"
   },
   {
    "duration": 8,
    "start_time": "2021-10-30T21:23:47.316Z"
   },
   {
    "duration": 20,
    "start_time": "2021-10-30T21:23:47.327Z"
   },
   {
    "duration": 16,
    "start_time": "2021-10-30T21:23:47.350Z"
   },
   {
    "duration": 36,
    "start_time": "2021-10-30T21:23:47.369Z"
   },
   {
    "duration": 27,
    "start_time": "2021-10-30T21:23:47.408Z"
   },
   {
    "duration": 12,
    "start_time": "2021-10-30T21:23:47.438Z"
   },
   {
    "duration": 10,
    "start_time": "2021-10-30T21:23:47.453Z"
   },
   {
    "duration": 41,
    "start_time": "2021-10-30T21:23:47.466Z"
   },
   {
    "duration": 16,
    "start_time": "2021-10-30T21:23:47.510Z"
   },
   {
    "duration": 9,
    "start_time": "2021-10-30T21:23:47.529Z"
   },
   {
    "duration": 6,
    "start_time": "2021-10-30T21:23:47.540Z"
   },
   {
    "duration": 52,
    "start_time": "2021-10-30T21:23:47.548Z"
   },
   {
    "duration": 8,
    "start_time": "2021-10-30T21:23:47.603Z"
   },
   {
    "duration": 5,
    "start_time": "2021-10-30T21:23:47.614Z"
   },
   {
    "duration": 9,
    "start_time": "2021-10-30T21:23:47.622Z"
   },
   {
    "duration": 6,
    "start_time": "2021-10-30T21:23:47.633Z"
   },
   {
    "duration": 16,
    "start_time": "2021-10-30T21:23:47.641Z"
   },
   {
    "duration": 17,
    "start_time": "2021-10-30T21:23:47.700Z"
   },
   {
    "duration": 7,
    "start_time": "2021-10-30T21:23:47.720Z"
   },
   {
    "duration": 11,
    "start_time": "2021-10-30T21:23:47.730Z"
   },
   {
    "duration": 7,
    "start_time": "2021-10-30T21:23:47.744Z"
   },
   {
    "duration": 48,
    "start_time": "2021-10-30T21:23:47.754Z"
   },
   {
    "duration": 15,
    "start_time": "2021-10-30T21:23:47.805Z"
   },
   {
    "duration": 4411,
    "start_time": "2021-10-30T21:23:47.823Z"
   },
   {
    "duration": 15,
    "start_time": "2021-10-30T21:23:52.237Z"
   },
   {
    "duration": 50,
    "start_time": "2021-10-30T21:23:52.254Z"
   },
   {
    "duration": 8,
    "start_time": "2021-10-30T21:23:52.306Z"
   },
   {
    "duration": 6,
    "start_time": "2021-10-30T21:23:52.316Z"
   },
   {
    "duration": 14,
    "start_time": "2021-10-30T21:23:52.324Z"
   },
   {
    "duration": 11,
    "start_time": "2021-10-30T21:23:52.340Z"
   },
   {
    "duration": 49,
    "start_time": "2021-10-30T21:23:52.354Z"
   },
   {
    "duration": 15,
    "start_time": "2021-10-30T21:23:52.405Z"
   },
   {
    "duration": 9,
    "start_time": "2021-10-30T21:23:52.422Z"
   },
   {
    "duration": 5,
    "start_time": "2021-10-30T21:23:52.433Z"
   },
   {
    "duration": 7,
    "start_time": "2021-10-30T21:23:52.441Z"
   },
   {
    "duration": 52,
    "start_time": "2021-10-30T21:23:52.450Z"
   },
   {
    "duration": 16,
    "start_time": "2021-10-30T21:23:52.505Z"
   },
   {
    "duration": 5,
    "start_time": "2021-10-30T21:23:52.524Z"
   },
   {
    "duration": 9,
    "start_time": "2021-10-30T21:23:52.531Z"
   },
   {
    "duration": 10,
    "start_time": "2021-10-30T21:23:52.543Z"
   },
   {
    "duration": 10,
    "start_time": "2021-10-30T21:23:52.555Z"
   },
   {
    "duration": 9,
    "start_time": "2021-10-30T21:23:52.601Z"
   },
   {
    "duration": 7,
    "start_time": "2021-10-30T21:23:52.613Z"
   },
   {
    "duration": 4,
    "start_time": "2021-10-30T21:23:52.623Z"
   },
   {
    "duration": 20,
    "start_time": "2021-10-30T21:23:52.629Z"
   },
   {
    "duration": 44,
    "start_time": "2021-10-30T21:23:52.656Z"
   },
   {
    "duration": 16,
    "start_time": "2021-10-30T21:23:52.703Z"
   },
   {
    "duration": 13,
    "start_time": "2021-10-30T21:23:52.721Z"
   },
   {
    "duration": 16,
    "start_time": "2021-10-30T21:23:52.737Z"
   },
   {
    "duration": 52,
    "start_time": "2021-10-30T21:23:52.755Z"
   },
   {
    "duration": 12,
    "start_time": "2021-10-30T21:23:52.809Z"
   },
   {
    "duration": 12,
    "start_time": "2021-10-30T21:23:52.823Z"
   },
   {
    "duration": 14,
    "start_time": "2021-10-30T21:23:52.837Z"
   },
   {
    "duration": 12,
    "start_time": "2021-10-30T21:23:52.853Z"
   },
   {
    "duration": 38,
    "start_time": "2021-10-30T21:23:52.867Z"
   },
   {
    "duration": 12,
    "start_time": "2021-10-30T21:23:52.908Z"
   },
   {
    "duration": 13,
    "start_time": "2021-10-30T21:23:52.922Z"
   },
   {
    "duration": 9,
    "start_time": "2021-10-30T21:23:52.937Z"
   },
   {
    "duration": 53,
    "start_time": "2021-10-30T21:23:52.948Z"
   },
   {
    "duration": 9,
    "start_time": "2021-10-30T21:23:53.004Z"
   },
   {
    "duration": 13,
    "start_time": "2021-10-30T21:23:53.015Z"
   },
   {
    "duration": 5,
    "start_time": "2021-10-30T21:23:53.031Z"
   },
   {
    "duration": 15,
    "start_time": "2021-10-30T21:23:53.039Z"
   },
   {
    "duration": 14317,
    "start_time": "2021-10-30T21:23:53.056Z"
   },
   {
    "duration": 4444,
    "start_time": "2021-10-30T21:24:02.932Z"
   },
   {
    "duration": 4442,
    "start_time": "2021-10-30T21:24:02.936Z"
   },
   {
    "duration": 4439,
    "start_time": "2021-10-30T21:24:02.940Z"
   },
   {
    "duration": 4436,
    "start_time": "2021-10-30T21:24:02.944Z"
   },
   {
    "duration": 4392,
    "start_time": "2021-10-30T21:24:02.990Z"
   },
   {
    "duration": 4385,
    "start_time": "2021-10-30T21:24:02.998Z"
   },
   {
    "duration": 4383,
    "start_time": "2021-10-30T21:24:03.002Z"
   },
   {
    "duration": 4380,
    "start_time": "2021-10-30T21:24:03.006Z"
   },
   {
    "duration": 4378,
    "start_time": "2021-10-30T21:24:03.009Z"
   },
   {
    "duration": 9831,
    "start_time": "2021-10-30T21:25:28.543Z"
   },
   {
    "duration": 8883,
    "start_time": "2021-10-30T21:25:47.814Z"
   },
   {
    "duration": 441,
    "start_time": "2021-10-30T21:26:15.946Z"
   },
   {
    "duration": 9,
    "start_time": "2021-10-30T21:26:20.186Z"
   },
   {
    "duration": 14,
    "start_time": "2021-10-30T21:26:52.216Z"
   },
   {
    "duration": 14,
    "start_time": "2021-10-30T21:27:14.568Z"
   },
   {
    "duration": 13,
    "start_time": "2021-10-30T21:30:01.194Z"
   },
   {
    "duration": 7,
    "start_time": "2021-10-30T21:30:17.875Z"
   },
   {
    "duration": 12,
    "start_time": "2021-10-30T21:30:23.827Z"
   },
   {
    "duration": 12,
    "start_time": "2021-10-30T21:30:59.682Z"
   },
   {
    "duration": 478,
    "start_time": "2021-10-30T21:31:54.804Z"
   },
   {
    "duration": 13,
    "start_time": "2021-10-30T21:32:07.346Z"
   },
   {
    "duration": 10,
    "start_time": "2021-10-30T21:32:08.019Z"
   },
   {
    "duration": 6,
    "start_time": "2021-10-30T21:32:09.024Z"
   },
   {
    "duration": 11,
    "start_time": "2021-10-30T21:32:13.737Z"
   },
   {
    "duration": 5,
    "start_time": "2021-10-30T21:33:02.462Z"
   },
   {
    "duration": 9,
    "start_time": "2021-10-30T21:33:13.579Z"
   },
   {
    "duration": 5,
    "start_time": "2021-10-30T21:33:18.901Z"
   },
   {
    "duration": 10,
    "start_time": "2021-10-30T21:33:20.678Z"
   },
   {
    "duration": 364,
    "start_time": "2021-10-30T21:33:47.581Z"
   },
   {
    "duration": 11,
    "start_time": "2021-10-30T21:34:06.098Z"
   },
   {
    "duration": 14,
    "start_time": "2021-10-30T21:35:13.067Z"
   },
   {
    "duration": 769,
    "start_time": "2021-10-30T21:40:25.550Z"
   },
   {
    "duration": 91,
    "start_time": "2021-10-30T21:40:26.322Z"
   },
   {
    "duration": 15,
    "start_time": "2021-10-30T21:40:26.417Z"
   },
   {
    "duration": 16,
    "start_time": "2021-10-30T21:40:26.435Z"
   },
   {
    "duration": 48,
    "start_time": "2021-10-30T21:40:26.454Z"
   },
   {
    "duration": 11,
    "start_time": "2021-10-30T21:40:26.505Z"
   },
   {
    "duration": 25,
    "start_time": "2021-10-30T21:40:26.518Z"
   },
   {
    "duration": 11,
    "start_time": "2021-10-30T21:40:26.549Z"
   },
   {
    "duration": 37,
    "start_time": "2021-10-30T21:40:26.563Z"
   },
   {
    "duration": 5,
    "start_time": "2021-10-30T21:40:26.603Z"
   },
   {
    "duration": 27,
    "start_time": "2021-10-30T21:40:26.611Z"
   },
   {
    "duration": 25,
    "start_time": "2021-10-30T21:40:26.641Z"
   },
   {
    "duration": 32,
    "start_time": "2021-10-30T21:40:26.669Z"
   },
   {
    "duration": 9,
    "start_time": "2021-10-30T21:40:26.704Z"
   },
   {
    "duration": 27,
    "start_time": "2021-10-30T21:40:26.717Z"
   },
   {
    "duration": 38,
    "start_time": "2021-10-30T21:40:26.746Z"
   },
   {
    "duration": 29,
    "start_time": "2021-10-30T21:40:26.786Z"
   },
   {
    "duration": 23,
    "start_time": "2021-10-30T21:40:26.819Z"
   },
   {
    "duration": 16,
    "start_time": "2021-10-30T21:40:26.844Z"
   },
   {
    "duration": 7,
    "start_time": "2021-10-30T21:40:26.862Z"
   },
   {
    "duration": 38,
    "start_time": "2021-10-30T21:40:26.872Z"
   },
   {
    "duration": 25,
    "start_time": "2021-10-30T21:40:26.913Z"
   },
   {
    "duration": 8,
    "start_time": "2021-10-30T21:40:26.945Z"
   },
   {
    "duration": 9,
    "start_time": "2021-10-30T21:40:26.956Z"
   },
   {
    "duration": 39,
    "start_time": "2021-10-30T21:40:26.967Z"
   },
   {
    "duration": 18,
    "start_time": "2021-10-30T21:40:27.008Z"
   },
   {
    "duration": 25,
    "start_time": "2021-10-30T21:40:27.029Z"
   },
   {
    "duration": 11,
    "start_time": "2021-10-30T21:40:27.057Z"
   },
   {
    "duration": 32,
    "start_time": "2021-10-30T21:40:27.070Z"
   },
   {
    "duration": 12,
    "start_time": "2021-10-30T21:40:27.105Z"
   },
   {
    "duration": 20,
    "start_time": "2021-10-30T21:40:27.120Z"
   },
   {
    "duration": 9,
    "start_time": "2021-10-30T21:40:27.142Z"
   },
   {
    "duration": 48,
    "start_time": "2021-10-30T21:40:27.154Z"
   },
   {
    "duration": 5,
    "start_time": "2021-10-30T21:40:27.204Z"
   },
   {
    "duration": 20,
    "start_time": "2021-10-30T21:40:27.212Z"
   },
   {
    "duration": 18,
    "start_time": "2021-10-30T21:40:27.234Z"
   },
   {
    "duration": 16,
    "start_time": "2021-10-30T21:40:27.255Z"
   },
   {
    "duration": 9,
    "start_time": "2021-10-30T21:40:27.274Z"
   },
   {
    "duration": 32,
    "start_time": "2021-10-30T21:40:27.285Z"
   },
   {
    "duration": 23,
    "start_time": "2021-10-30T21:40:27.319Z"
   },
   {
    "duration": 7,
    "start_time": "2021-10-30T21:40:27.345Z"
   },
   {
    "duration": 13,
    "start_time": "2021-10-30T21:40:27.354Z"
   },
   {
    "duration": 32,
    "start_time": "2021-10-30T21:40:27.370Z"
   },
   {
    "duration": 8,
    "start_time": "2021-10-30T21:40:27.405Z"
   },
   {
    "duration": 16,
    "start_time": "2021-10-30T21:40:27.415Z"
   },
   {
    "duration": 4422,
    "start_time": "2021-10-30T21:40:27.433Z"
   },
   {
    "duration": 13,
    "start_time": "2021-10-30T21:40:31.858Z"
   },
   {
    "duration": 45,
    "start_time": "2021-10-30T21:40:31.874Z"
   },
   {
    "duration": 9,
    "start_time": "2021-10-30T21:40:31.922Z"
   },
   {
    "duration": 13,
    "start_time": "2021-10-30T21:40:31.933Z"
   },
   {
    "duration": 19,
    "start_time": "2021-10-30T21:40:31.949Z"
   },
   {
    "duration": 13,
    "start_time": "2021-10-30T21:40:31.970Z"
   },
   {
    "duration": 14,
    "start_time": "2021-10-30T21:40:32.002Z"
   },
   {
    "duration": 17,
    "start_time": "2021-10-30T21:40:32.019Z"
   },
   {
    "duration": 10,
    "start_time": "2021-10-30T21:40:32.038Z"
   },
   {
    "duration": 9,
    "start_time": "2021-10-30T21:40:32.050Z"
   },
   {
    "duration": 42,
    "start_time": "2021-10-30T21:40:32.061Z"
   },
   {
    "duration": 5,
    "start_time": "2021-10-30T21:40:32.105Z"
   },
   {
    "duration": 17,
    "start_time": "2021-10-30T21:40:32.113Z"
   },
   {
    "duration": 9,
    "start_time": "2021-10-30T21:40:32.132Z"
   },
   {
    "duration": 15,
    "start_time": "2021-10-30T21:40:32.143Z"
   },
   {
    "duration": 14,
    "start_time": "2021-10-30T21:40:32.161Z"
   },
   {
    "duration": 9,
    "start_time": "2021-10-30T21:40:32.202Z"
   },
   {
    "duration": 21,
    "start_time": "2021-10-30T21:40:32.213Z"
   },
   {
    "duration": 14,
    "start_time": "2021-10-30T21:40:32.236Z"
   },
   {
    "duration": 44,
    "start_time": "2021-10-30T21:40:32.252Z"
   },
   {
    "duration": 24,
    "start_time": "2021-10-30T21:40:32.299Z"
   },
   {
    "duration": 11,
    "start_time": "2021-10-30T21:40:32.332Z"
   },
   {
    "duration": 24,
    "start_time": "2021-10-30T21:40:32.346Z"
   },
   {
    "duration": 16,
    "start_time": "2021-10-30T21:40:32.372Z"
   },
   {
    "duration": 21,
    "start_time": "2021-10-30T21:40:32.391Z"
   },
   {
    "duration": 16,
    "start_time": "2021-10-30T21:40:32.414Z"
   },
   {
    "duration": 19,
    "start_time": "2021-10-30T21:40:32.432Z"
   },
   {
    "duration": 25,
    "start_time": "2021-10-30T21:40:32.453Z"
   },
   {
    "duration": 26,
    "start_time": "2021-10-30T21:40:32.480Z"
   },
   {
    "duration": 45,
    "start_time": "2021-10-30T21:40:32.509Z"
   },
   {
    "duration": 10,
    "start_time": "2021-10-30T21:40:32.556Z"
   },
   {
    "duration": 19,
    "start_time": "2021-10-30T21:40:32.568Z"
   },
   {
    "duration": 15,
    "start_time": "2021-10-30T21:40:32.589Z"
   },
   {
    "duration": 11,
    "start_time": "2021-10-30T21:40:32.606Z"
   },
   {
    "duration": 26,
    "start_time": "2021-10-30T21:40:32.619Z"
   },
   {
    "duration": 20,
    "start_time": "2021-10-30T21:40:32.648Z"
   },
   {
    "duration": 20,
    "start_time": "2021-10-30T21:40:32.670Z"
   },
   {
    "duration": 15,
    "start_time": "2021-10-30T21:40:32.692Z"
   },
   {
    "duration": 22,
    "start_time": "2021-10-30T21:40:32.710Z"
   },
   {
    "duration": 20,
    "start_time": "2021-10-30T21:40:32.735Z"
   },
   {
    "duration": 15,
    "start_time": "2021-10-30T21:40:32.757Z"
   },
   {
    "duration": 36,
    "start_time": "2021-10-30T21:40:32.775Z"
   },
   {
    "duration": 18,
    "start_time": "2021-10-30T21:40:32.815Z"
   },
   {
    "duration": 21,
    "start_time": "2021-10-30T21:40:32.836Z"
   },
   {
    "duration": 32,
    "start_time": "2021-10-30T21:40:32.859Z"
   },
   {
    "duration": 14,
    "start_time": "2021-10-30T21:40:32.894Z"
   },
   {
    "duration": 21,
    "start_time": "2021-10-30T21:40:32.910Z"
   },
   {
    "duration": 28,
    "start_time": "2021-10-30T21:40:32.934Z"
   },
   {
    "duration": 18,
    "start_time": "2021-10-30T21:40:32.965Z"
   },
   {
    "duration": 20,
    "start_time": "2021-10-30T21:40:32.985Z"
   },
   {
    "duration": 31,
    "start_time": "2021-10-30T21:40:33.008Z"
   },
   {
    "duration": 21,
    "start_time": "2021-10-30T21:40:33.042Z"
   },
   {
    "duration": 9,
    "start_time": "2021-10-30T21:40:33.066Z"
   },
   {
    "duration": 20,
    "start_time": "2021-10-30T21:40:33.077Z"
   },
   {
    "duration": 15,
    "start_time": "2021-10-30T21:40:33.099Z"
   },
   {
    "duration": 21,
    "start_time": "2021-10-30T21:40:33.117Z"
   },
   {
    "duration": 26,
    "start_time": "2021-10-30T21:53:54.336Z"
   },
   {
    "duration": 25,
    "start_time": "2021-10-30T21:53:58.192Z"
   },
   {
    "duration": 6,
    "start_time": "2021-10-30T21:58:02.909Z"
   },
   {
    "duration": 14,
    "start_time": "2021-10-30T22:24:57.586Z"
   },
   {
    "duration": 798,
    "start_time": "2021-10-30T22:25:33.233Z"
   },
   {
    "duration": 93,
    "start_time": "2021-10-30T22:25:34.034Z"
   },
   {
    "duration": 15,
    "start_time": "2021-10-30T22:25:34.129Z"
   },
   {
    "duration": 5,
    "start_time": "2021-10-30T22:25:34.147Z"
   },
   {
    "duration": 52,
    "start_time": "2021-10-30T22:25:34.154Z"
   },
   {
    "duration": 10,
    "start_time": "2021-10-30T22:25:34.208Z"
   },
   {
    "duration": 18,
    "start_time": "2021-10-30T22:25:34.220Z"
   },
   {
    "duration": 11,
    "start_time": "2021-10-30T22:25:34.242Z"
   },
   {
    "duration": 7,
    "start_time": "2021-10-30T22:25:34.260Z"
   },
   {
    "duration": 35,
    "start_time": "2021-10-30T22:25:34.269Z"
   },
   {
    "duration": 14,
    "start_time": "2021-10-30T22:25:34.307Z"
   },
   {
    "duration": 20,
    "start_time": "2021-10-30T22:25:34.323Z"
   },
   {
    "duration": 29,
    "start_time": "2021-10-30T22:25:34.346Z"
   },
   {
    "duration": 9,
    "start_time": "2021-10-30T22:25:34.402Z"
   },
   {
    "duration": 17,
    "start_time": "2021-10-30T22:25:34.414Z"
   },
   {
    "duration": 31,
    "start_time": "2021-10-30T22:25:34.434Z"
   },
   {
    "duration": 51,
    "start_time": "2021-10-30T22:25:34.468Z"
   },
   {
    "duration": 18,
    "start_time": "2021-10-30T22:25:34.522Z"
   },
   {
    "duration": 17,
    "start_time": "2021-10-30T22:25:34.543Z"
   },
   {
    "duration": 39,
    "start_time": "2021-10-30T22:25:34.563Z"
   },
   {
    "duration": 14,
    "start_time": "2021-10-30T22:25:34.605Z"
   },
   {
    "duration": 12,
    "start_time": "2021-10-30T22:25:34.622Z"
   },
   {
    "duration": 8,
    "start_time": "2021-10-30T22:25:34.642Z"
   },
   {
    "duration": 10,
    "start_time": "2021-10-30T22:25:34.700Z"
   },
   {
    "duration": 11,
    "start_time": "2021-10-30T22:25:34.713Z"
   },
   {
    "duration": 13,
    "start_time": "2021-10-30T22:25:34.727Z"
   },
   {
    "duration": 59,
    "start_time": "2021-10-30T22:25:34.743Z"
   },
   {
    "duration": 12,
    "start_time": "2021-10-30T22:25:34.805Z"
   },
   {
    "duration": 28,
    "start_time": "2021-10-30T22:25:34.819Z"
   },
   {
    "duration": 9,
    "start_time": "2021-10-30T22:25:34.849Z"
   },
   {
    "duration": 16,
    "start_time": "2021-10-30T22:25:34.860Z"
   },
   {
    "duration": 30,
    "start_time": "2021-10-30T22:25:34.877Z"
   },
   {
    "duration": 10,
    "start_time": "2021-10-30T22:25:34.909Z"
   },
   {
    "duration": 5,
    "start_time": "2021-10-30T22:25:34.921Z"
   },
   {
    "duration": 9,
    "start_time": "2021-10-30T22:25:34.928Z"
   },
   {
    "duration": 5,
    "start_time": "2021-10-30T22:25:34.939Z"
   },
   {
    "duration": 58,
    "start_time": "2021-10-30T22:25:34.947Z"
   },
   {
    "duration": 6,
    "start_time": "2021-10-30T22:25:35.007Z"
   },
   {
    "duration": 20,
    "start_time": "2021-10-30T22:25:35.015Z"
   },
   {
    "duration": 22,
    "start_time": "2021-10-30T22:25:35.037Z"
   },
   {
    "duration": 8,
    "start_time": "2021-10-30T22:25:35.061Z"
   },
   {
    "duration": 11,
    "start_time": "2021-10-30T22:25:35.101Z"
   },
   {
    "duration": 8,
    "start_time": "2021-10-30T22:25:35.114Z"
   },
   {
    "duration": 7,
    "start_time": "2021-10-30T22:25:35.124Z"
   },
   {
    "duration": 11,
    "start_time": "2021-10-30T22:25:35.134Z"
   },
   {
    "duration": 4569,
    "start_time": "2021-10-30T22:25:35.147Z"
   },
   {
    "duration": 16,
    "start_time": "2021-10-30T22:25:39.719Z"
   },
   {
    "duration": 23,
    "start_time": "2021-10-30T22:25:39.738Z"
   },
   {
    "duration": 44,
    "start_time": "2021-10-30T22:25:39.764Z"
   },
   {
    "duration": 5,
    "start_time": "2021-10-30T22:25:39.811Z"
   },
   {
    "duration": 12,
    "start_time": "2021-10-30T22:25:39.818Z"
   },
   {
    "duration": 7,
    "start_time": "2021-10-30T22:25:39.832Z"
   },
   {
    "duration": 59,
    "start_time": "2021-10-30T22:25:39.841Z"
   },
   {
    "duration": 14,
    "start_time": "2021-10-30T22:25:39.903Z"
   },
   {
    "duration": 11,
    "start_time": "2021-10-30T22:25:39.920Z"
   },
   {
    "duration": 6,
    "start_time": "2021-10-30T22:25:39.933Z"
   },
   {
    "duration": 8,
    "start_time": "2021-10-30T22:25:39.942Z"
   },
   {
    "duration": 10,
    "start_time": "2021-10-30T22:25:39.953Z"
   },
   {
    "duration": 7,
    "start_time": "2021-10-30T22:25:40.001Z"
   },
   {
    "duration": 10,
    "start_time": "2021-10-30T22:25:40.010Z"
   },
   {
    "duration": 16,
    "start_time": "2021-10-30T22:25:40.022Z"
   },
   {
    "duration": 13,
    "start_time": "2021-10-30T22:25:40.041Z"
   },
   {
    "duration": 12,
    "start_time": "2021-10-30T22:25:40.057Z"
   },
   {
    "duration": 9,
    "start_time": "2021-10-30T22:25:40.101Z"
   },
   {
    "duration": 10,
    "start_time": "2021-10-30T22:25:40.112Z"
   },
   {
    "duration": 5,
    "start_time": "2021-10-30T22:25:40.124Z"
   },
   {
    "duration": 29,
    "start_time": "2021-10-30T22:25:40.132Z"
   },
   {
    "duration": 35,
    "start_time": "2021-10-30T22:25:40.170Z"
   },
   {
    "duration": 15,
    "start_time": "2021-10-30T22:25:40.208Z"
   },
   {
    "duration": 13,
    "start_time": "2021-10-30T22:25:40.226Z"
   },
   {
    "duration": 14,
    "start_time": "2021-10-30T22:25:40.242Z"
   },
   {
    "duration": 50,
    "start_time": "2021-10-30T22:25:40.258Z"
   },
   {
    "duration": 13,
    "start_time": "2021-10-30T22:25:40.310Z"
   },
   {
    "duration": 10,
    "start_time": "2021-10-30T22:25:40.325Z"
   },
   {
    "duration": 479,
    "start_time": "2021-10-30T22:25:40.337Z"
   },
   {
    "duration": 4434,
    "start_time": "2021-10-30T22:25:36.384Z"
   },
   {
    "duration": 4432,
    "start_time": "2021-10-30T22:25:36.388Z"
   },
   {
    "duration": 4429,
    "start_time": "2021-10-30T22:25:36.392Z"
   },
   {
    "duration": 4420,
    "start_time": "2021-10-30T22:25:36.402Z"
   },
   {
    "duration": 4418,
    "start_time": "2021-10-30T22:25:36.406Z"
   },
   {
    "duration": 4415,
    "start_time": "2021-10-30T22:25:36.410Z"
   },
   {
    "duration": 4410,
    "start_time": "2021-10-30T22:25:36.416Z"
   },
   {
    "duration": 4407,
    "start_time": "2021-10-30T22:25:36.421Z"
   },
   {
    "duration": 4405,
    "start_time": "2021-10-30T22:25:36.424Z"
   },
   {
    "duration": 4402,
    "start_time": "2021-10-30T22:25:36.428Z"
   },
   {
    "duration": 4399,
    "start_time": "2021-10-30T22:25:36.432Z"
   },
   {
    "duration": 4398,
    "start_time": "2021-10-30T22:25:36.435Z"
   },
   {
    "duration": 4389,
    "start_time": "2021-10-30T22:25:36.445Z"
   },
   {
    "duration": 4385,
    "start_time": "2021-10-30T22:25:36.450Z"
   },
   {
    "duration": 4382,
    "start_time": "2021-10-30T22:25:36.454Z"
   },
   {
    "duration": 4380,
    "start_time": "2021-10-30T22:25:36.458Z"
   },
   {
    "duration": 4377,
    "start_time": "2021-10-30T22:25:36.462Z"
   },
   {
    "duration": 4374,
    "start_time": "2021-10-30T22:25:36.466Z"
   },
   {
    "duration": 4372,
    "start_time": "2021-10-30T22:25:36.470Z"
   },
   {
    "duration": 4363,
    "start_time": "2021-10-30T22:25:36.480Z"
   },
   {
    "duration": 4361,
    "start_time": "2021-10-30T22:25:36.484Z"
   },
   {
    "duration": 4358,
    "start_time": "2021-10-30T22:25:36.488Z"
   },
   {
    "duration": 4357,
    "start_time": "2021-10-30T22:25:36.491Z"
   },
   {
    "duration": 4354,
    "start_time": "2021-10-30T22:25:36.495Z"
   },
   {
    "duration": 4351,
    "start_time": "2021-10-30T22:25:36.499Z"
   },
   {
    "duration": 4348,
    "start_time": "2021-10-30T22:25:36.503Z"
   },
   {
    "duration": 4346,
    "start_time": "2021-10-30T22:25:36.506Z"
   },
   {
    "duration": 859,
    "start_time": "2021-10-30T22:26:02.479Z"
   },
   {
    "duration": 95,
    "start_time": "2021-10-30T22:26:03.340Z"
   },
   {
    "duration": 15,
    "start_time": "2021-10-30T22:26:03.437Z"
   },
   {
    "duration": 6,
    "start_time": "2021-10-30T22:26:03.455Z"
   },
   {
    "duration": 49,
    "start_time": "2021-10-30T22:26:03.463Z"
   },
   {
    "duration": 10,
    "start_time": "2021-10-30T22:26:03.514Z"
   },
   {
    "duration": 17,
    "start_time": "2021-10-30T22:26:03.526Z"
   },
   {
    "duration": 10,
    "start_time": "2021-10-30T22:26:03.548Z"
   },
   {
    "duration": 45,
    "start_time": "2021-10-30T22:26:03.561Z"
   },
   {
    "duration": 9,
    "start_time": "2021-10-30T22:26:03.608Z"
   },
   {
    "duration": 13,
    "start_time": "2021-10-30T22:26:03.619Z"
   },
   {
    "duration": 19,
    "start_time": "2021-10-30T22:26:03.634Z"
   },
   {
    "duration": 57,
    "start_time": "2021-10-30T22:26:03.656Z"
   },
   {
    "duration": 9,
    "start_time": "2021-10-30T22:26:03.716Z"
   },
   {
    "duration": 14,
    "start_time": "2021-10-30T22:26:03.727Z"
   },
   {
    "duration": 33,
    "start_time": "2021-10-30T22:26:03.743Z"
   },
   {
    "duration": 25,
    "start_time": "2021-10-30T22:26:03.800Z"
   },
   {
    "duration": 16,
    "start_time": "2021-10-30T22:26:03.827Z"
   },
   {
    "duration": 10,
    "start_time": "2021-10-30T22:26:03.845Z"
   },
   {
    "duration": 8,
    "start_time": "2021-10-30T22:26:03.858Z"
   },
   {
    "duration": 11,
    "start_time": "2021-10-30T22:26:03.900Z"
   },
   {
    "duration": 12,
    "start_time": "2021-10-30T22:26:03.913Z"
   },
   {
    "duration": 7,
    "start_time": "2021-10-30T22:26:03.931Z"
   },
   {
    "duration": 9,
    "start_time": "2021-10-30T22:26:03.942Z"
   },
   {
    "duration": 51,
    "start_time": "2021-10-30T22:26:03.954Z"
   },
   {
    "duration": 13,
    "start_time": "2021-10-30T22:26:04.007Z"
   },
   {
    "duration": 20,
    "start_time": "2021-10-30T22:26:04.022Z"
   },
   {
    "duration": 15,
    "start_time": "2021-10-30T22:26:04.044Z"
   },
   {
    "duration": 41,
    "start_time": "2021-10-30T22:26:04.061Z"
   },
   {
    "duration": 10,
    "start_time": "2021-10-30T22:26:04.104Z"
   },
   {
    "duration": 18,
    "start_time": "2021-10-30T22:26:04.116Z"
   },
   {
    "duration": 9,
    "start_time": "2021-10-30T22:26:04.137Z"
   },
   {
    "duration": 8,
    "start_time": "2021-10-30T22:26:04.148Z"
   },
   {
    "duration": 46,
    "start_time": "2021-10-30T22:26:04.158Z"
   },
   {
    "duration": 13,
    "start_time": "2021-10-30T22:26:04.207Z"
   },
   {
    "duration": 19,
    "start_time": "2021-10-30T22:26:04.223Z"
   },
   {
    "duration": 23,
    "start_time": "2021-10-30T22:26:04.244Z"
   },
   {
    "duration": 5,
    "start_time": "2021-10-30T22:26:04.270Z"
   },
   {
    "duration": 33,
    "start_time": "2021-10-30T22:26:04.277Z"
   },
   {
    "duration": 25,
    "start_time": "2021-10-30T22:26:04.312Z"
   },
   {
    "duration": 8,
    "start_time": "2021-10-30T22:26:04.339Z"
   },
   {
    "duration": 19,
    "start_time": "2021-10-30T22:26:04.349Z"
   },
   {
    "duration": 32,
    "start_time": "2021-10-30T22:26:04.370Z"
   },
   {
    "duration": 9,
    "start_time": "2021-10-30T22:26:04.404Z"
   },
   {
    "duration": 20,
    "start_time": "2021-10-30T22:26:04.415Z"
   },
   {
    "duration": 4580,
    "start_time": "2021-10-30T22:26:04.437Z"
   },
   {
    "duration": 14,
    "start_time": "2021-10-30T22:26:09.020Z"
   },
   {
    "duration": 20,
    "start_time": "2021-10-30T22:26:09.036Z"
   },
   {
    "duration": 8,
    "start_time": "2021-10-30T22:26:09.058Z"
   },
   {
    "duration": 34,
    "start_time": "2021-10-30T22:26:09.068Z"
   },
   {
    "duration": 13,
    "start_time": "2021-10-30T22:26:09.104Z"
   },
   {
    "duration": 6,
    "start_time": "2021-10-30T22:26:09.119Z"
   },
   {
    "duration": 14,
    "start_time": "2021-10-30T22:26:09.128Z"
   },
   {
    "duration": 59,
    "start_time": "2021-10-30T22:26:09.145Z"
   },
   {
    "duration": 9,
    "start_time": "2021-10-30T22:26:09.206Z"
   },
   {
    "duration": 5,
    "start_time": "2021-10-30T22:26:09.218Z"
   },
   {
    "duration": 6,
    "start_time": "2021-10-30T22:26:09.226Z"
   },
   {
    "duration": 6,
    "start_time": "2021-10-30T22:26:09.235Z"
   },
   {
    "duration": 61,
    "start_time": "2021-10-30T22:26:09.243Z"
   },
   {
    "duration": 6,
    "start_time": "2021-10-30T22:26:09.306Z"
   },
   {
    "duration": 10,
    "start_time": "2021-10-30T22:26:09.314Z"
   },
   {
    "duration": 10,
    "start_time": "2021-10-30T22:26:09.326Z"
   },
   {
    "duration": 9,
    "start_time": "2021-10-30T22:26:09.339Z"
   },
   {
    "duration": 58,
    "start_time": "2021-10-30T22:26:09.350Z"
   },
   {
    "duration": 10,
    "start_time": "2021-10-30T22:26:09.411Z"
   },
   {
    "duration": 6,
    "start_time": "2021-10-30T22:26:09.423Z"
   },
   {
    "duration": 18,
    "start_time": "2021-10-30T22:26:09.431Z"
   },
   {
    "duration": 59,
    "start_time": "2021-10-30T22:26:09.458Z"
   },
   {
    "duration": 15,
    "start_time": "2021-10-30T22:26:09.521Z"
   },
   {
    "duration": 15,
    "start_time": "2021-10-30T22:26:09.538Z"
   },
   {
    "duration": 21,
    "start_time": "2021-10-30T22:26:09.555Z"
   },
   {
    "duration": 34,
    "start_time": "2021-10-30T22:26:09.578Z"
   },
   {
    "duration": 13,
    "start_time": "2021-10-30T22:26:09.615Z"
   },
   {
    "duration": 10,
    "start_time": "2021-10-30T22:26:09.631Z"
   },
   {
    "duration": 10,
    "start_time": "2021-10-30T22:26:09.644Z"
   },
   {
    "duration": 9635,
    "start_time": "2021-10-30T22:26:09.657Z"
   },
   {
    "duration": 4420,
    "start_time": "2021-10-30T22:26:14.874Z"
   },
   {
    "duration": 4417,
    "start_time": "2021-10-30T22:26:14.879Z"
   },
   {
    "duration": 4407,
    "start_time": "2021-10-30T22:26:14.890Z"
   },
   {
    "duration": 4403,
    "start_time": "2021-10-30T22:26:14.895Z"
   },
   {
    "duration": 4393,
    "start_time": "2021-10-30T22:26:14.907Z"
   },
   {
    "duration": 4389,
    "start_time": "2021-10-30T22:26:14.912Z"
   },
   {
    "duration": 4377,
    "start_time": "2021-10-30T22:26:14.925Z"
   },
   {
    "duration": 4367,
    "start_time": "2021-10-30T22:26:14.937Z"
   },
   {
    "duration": 4362,
    "start_time": "2021-10-30T22:26:14.943Z"
   },
   {
    "duration": 4352,
    "start_time": "2021-10-30T22:26:14.954Z"
   },
   {
    "duration": 4341,
    "start_time": "2021-10-30T22:26:14.968Z"
   },
   {
    "duration": 4335,
    "start_time": "2021-10-30T22:26:14.975Z"
   },
   {
    "duration": 4331,
    "start_time": "2021-10-30T22:26:14.980Z"
   },
   {
    "duration": 4328,
    "start_time": "2021-10-30T22:26:14.985Z"
   },
   {
    "duration": 4324,
    "start_time": "2021-10-30T22:26:14.990Z"
   },
   {
    "duration": 4320,
    "start_time": "2021-10-30T22:26:14.995Z"
   },
   {
    "duration": 4317,
    "start_time": "2021-10-30T22:26:14.999Z"
   },
   {
    "duration": 4315,
    "start_time": "2021-10-30T22:26:15.003Z"
   },
   {
    "duration": 4311,
    "start_time": "2021-10-30T22:26:15.008Z"
   },
   {
    "duration": 4308,
    "start_time": "2021-10-30T22:26:15.012Z"
   },
   {
    "duration": 4306,
    "start_time": "2021-10-30T22:26:15.015Z"
   },
   {
    "duration": 4303,
    "start_time": "2021-10-30T22:26:15.019Z"
   },
   {
    "duration": 4301,
    "start_time": "2021-10-30T22:26:15.023Z"
   },
   {
    "duration": 4298,
    "start_time": "2021-10-30T22:26:15.027Z"
   },
   {
    "duration": 4296,
    "start_time": "2021-10-30T22:26:15.030Z"
   },
   {
    "duration": 4294,
    "start_time": "2021-10-30T22:26:15.034Z"
   },
   {
    "duration": 852,
    "start_time": "2021-10-30T22:28:11.288Z"
   },
   {
    "duration": 93,
    "start_time": "2021-10-30T22:28:12.143Z"
   },
   {
    "duration": 14,
    "start_time": "2021-10-30T22:28:12.239Z"
   },
   {
    "duration": 5,
    "start_time": "2021-10-30T22:28:12.256Z"
   },
   {
    "duration": 55,
    "start_time": "2021-10-30T22:28:12.263Z"
   },
   {
    "duration": 10,
    "start_time": "2021-10-30T22:28:12.320Z"
   },
   {
    "duration": 20,
    "start_time": "2021-10-30T22:28:12.332Z"
   },
   {
    "duration": 44,
    "start_time": "2021-10-30T22:28:12.356Z"
   },
   {
    "duration": 8,
    "start_time": "2021-10-30T22:28:12.404Z"
   },
   {
    "duration": 5,
    "start_time": "2021-10-30T22:28:12.415Z"
   },
   {
    "duration": 17,
    "start_time": "2021-10-30T22:28:12.422Z"
   },
   {
    "duration": 16,
    "start_time": "2021-10-30T22:28:12.442Z"
   },
   {
    "duration": 57,
    "start_time": "2021-10-30T22:28:12.460Z"
   },
   {
    "duration": 10,
    "start_time": "2021-10-30T22:28:12.519Z"
   },
   {
    "duration": 11,
    "start_time": "2021-10-30T22:28:12.531Z"
   },
   {
    "duration": 66,
    "start_time": "2021-10-30T22:28:12.544Z"
   },
   {
    "duration": 24,
    "start_time": "2021-10-30T22:28:12.612Z"
   },
   {
    "duration": 18,
    "start_time": "2021-10-30T22:28:12.638Z"
   },
   {
    "duration": 6,
    "start_time": "2021-10-30T22:28:12.658Z"
   },
   {
    "duration": 36,
    "start_time": "2021-10-30T22:28:12.666Z"
   },
   {
    "duration": 11,
    "start_time": "2021-10-30T22:28:12.704Z"
   },
   {
    "duration": 11,
    "start_time": "2021-10-30T22:28:12.718Z"
   },
   {
    "duration": 7,
    "start_time": "2021-10-30T22:28:12.735Z"
   },
   {
    "duration": 12,
    "start_time": "2021-10-30T22:28:12.746Z"
   },
   {
    "duration": 8,
    "start_time": "2021-10-30T22:28:12.802Z"
   },
   {
    "duration": 13,
    "start_time": "2021-10-30T22:28:12.812Z"
   },
   {
    "duration": 17,
    "start_time": "2021-10-30T22:28:12.827Z"
   },
   {
    "duration": 11,
    "start_time": "2021-10-30T22:28:12.846Z"
   },
   {
    "duration": 47,
    "start_time": "2021-10-30T22:28:12.859Z"
   },
   {
    "duration": 10,
    "start_time": "2021-10-30T22:28:12.909Z"
   },
   {
    "duration": 16,
    "start_time": "2021-10-30T22:28:12.922Z"
   },
   {
    "duration": 10,
    "start_time": "2021-10-30T22:28:12.941Z"
   },
   {
    "duration": 51,
    "start_time": "2021-10-30T22:28:12.954Z"
   },
   {
    "duration": 6,
    "start_time": "2021-10-30T22:28:13.008Z"
   },
   {
    "duration": 10,
    "start_time": "2021-10-30T22:28:13.017Z"
   },
   {
    "duration": 6,
    "start_time": "2021-10-30T22:28:13.029Z"
   },
   {
    "duration": 11,
    "start_time": "2021-10-30T22:28:13.038Z"
   },
   {
    "duration": 50,
    "start_time": "2021-10-30T22:28:13.051Z"
   },
   {
    "duration": 14,
    "start_time": "2021-10-30T22:28:13.103Z"
   },
   {
    "duration": 21,
    "start_time": "2021-10-30T22:28:13.120Z"
   },
   {
    "duration": 6,
    "start_time": "2021-10-30T22:28:13.144Z"
   },
   {
    "duration": 54,
    "start_time": "2021-10-30T22:28:13.153Z"
   },
   {
    "duration": 8,
    "start_time": "2021-10-30T22:28:13.209Z"
   },
   {
    "duration": 6,
    "start_time": "2021-10-30T22:28:13.220Z"
   },
   {
    "duration": 12,
    "start_time": "2021-10-30T22:28:13.228Z"
   },
   {
    "duration": 4597,
    "start_time": "2021-10-30T22:28:13.242Z"
   },
   {
    "duration": 17,
    "start_time": "2021-10-30T22:28:17.841Z"
   },
   {
    "duration": 46,
    "start_time": "2021-10-30T22:28:17.861Z"
   },
   {
    "duration": 8,
    "start_time": "2021-10-30T22:28:17.910Z"
   },
   {
    "duration": 23,
    "start_time": "2021-10-30T22:28:17.920Z"
   },
   {
    "duration": 14,
    "start_time": "2021-10-30T22:28:17.945Z"
   },
   {
    "duration": 18,
    "start_time": "2021-10-30T22:28:17.961Z"
   },
   {
    "duration": 26,
    "start_time": "2021-10-30T22:28:17.981Z"
   },
   {
    "duration": 16,
    "start_time": "2021-10-30T22:28:18.010Z"
   },
   {
    "duration": 9,
    "start_time": "2021-10-30T22:28:18.029Z"
   },
   {
    "duration": 5,
    "start_time": "2021-10-30T22:28:18.040Z"
   },
   {
    "duration": 7,
    "start_time": "2021-10-30T22:28:18.047Z"
   },
   {
    "duration": 46,
    "start_time": "2021-10-30T22:28:18.056Z"
   },
   {
    "duration": 9,
    "start_time": "2021-10-30T22:28:18.104Z"
   },
   {
    "duration": 11,
    "start_time": "2021-10-30T22:28:18.116Z"
   },
   {
    "duration": 11,
    "start_time": "2021-10-30T22:28:18.130Z"
   },
   {
    "duration": 9,
    "start_time": "2021-10-30T22:28:18.144Z"
   },
   {
    "duration": 45,
    "start_time": "2021-10-30T22:28:18.155Z"
   },
   {
    "duration": 9,
    "start_time": "2021-10-30T22:28:18.203Z"
   },
   {
    "duration": 8,
    "start_time": "2021-10-30T22:28:18.215Z"
   },
   {
    "duration": 5,
    "start_time": "2021-10-30T22:28:18.225Z"
   },
   {
    "duration": 22,
    "start_time": "2021-10-30T22:28:18.232Z"
   },
   {
    "duration": 47,
    "start_time": "2021-10-30T22:28:18.263Z"
   },
   {
    "duration": 18,
    "start_time": "2021-10-30T22:28:18.313Z"
   },
   {
    "duration": 13,
    "start_time": "2021-10-30T22:28:18.333Z"
   },
   {
    "duration": 15,
    "start_time": "2021-10-30T22:28:18.348Z"
   },
   {
    "duration": 45,
    "start_time": "2021-10-30T22:28:18.365Z"
   },
   {
    "duration": 12,
    "start_time": "2021-10-30T22:28:18.413Z"
   },
   {
    "duration": 10,
    "start_time": "2021-10-30T22:28:18.427Z"
   },
   {
    "duration": 12,
    "start_time": "2021-10-30T22:28:18.440Z"
   },
   {
    "duration": 46,
    "start_time": "2021-10-30T22:28:18.455Z"
   },
   {
    "duration": 10,
    "start_time": "2021-10-30T22:28:18.503Z"
   },
   {
    "duration": 13,
    "start_time": "2021-10-30T22:28:18.516Z"
   },
   {
    "duration": 15,
    "start_time": "2021-10-30T22:28:18.532Z"
   },
   {
    "duration": 51,
    "start_time": "2021-10-30T22:28:18.550Z"
   },
   {
    "duration": 12,
    "start_time": "2021-10-30T22:28:18.604Z"
   },
   {
    "duration": 13,
    "start_time": "2021-10-30T22:28:18.619Z"
   },
   {
    "duration": 13,
    "start_time": "2021-10-30T22:28:18.635Z"
   },
   {
    "duration": 50,
    "start_time": "2021-10-30T22:28:18.651Z"
   },
   {
    "duration": 19,
    "start_time": "2021-10-30T22:28:18.704Z"
   },
   {
    "duration": 13,
    "start_time": "2021-10-30T22:28:18.726Z"
   },
   {
    "duration": 14,
    "start_time": "2021-10-30T22:28:18.742Z"
   },
   {
    "duration": 50,
    "start_time": "2021-10-30T22:28:18.758Z"
   },
   {
    "duration": 11,
    "start_time": "2021-10-30T22:28:18.811Z"
   },
   {
    "duration": 15,
    "start_time": "2021-10-30T22:28:18.825Z"
   },
   {
    "duration": 10,
    "start_time": "2021-10-30T22:28:18.843Z"
   },
   {
    "duration": 13,
    "start_time": "2021-10-30T22:28:18.855Z"
   },
   {
    "duration": 40,
    "start_time": "2021-10-30T22:28:18.871Z"
   },
   {
    "duration": 18,
    "start_time": "2021-10-30T22:28:18.913Z"
   },
   {
    "duration": 19,
    "start_time": "2021-10-30T22:28:18.933Z"
   },
   {
    "duration": 11,
    "start_time": "2021-10-30T22:28:18.955Z"
   },
   {
    "duration": 13,
    "start_time": "2021-10-30T22:28:19.001Z"
   },
   {
    "duration": 28,
    "start_time": "2021-10-30T22:28:19.016Z"
   },
   {
    "duration": 13,
    "start_time": "2021-10-30T22:28:19.046Z"
   },
   {
    "duration": 19,
    "start_time": "2021-10-30T22:28:19.061Z"
   },
   {
    "duration": 24,
    "start_time": "2021-10-30T22:28:19.083Z"
   },
   {
    "duration": 23,
    "start_time": "2021-10-30T22:28:19.110Z"
   },
   {
    "duration": 21,
    "start_time": "2021-10-30T22:29:38.758Z"
   },
   {
    "duration": 25,
    "start_time": "2021-10-30T22:33:54.759Z"
   },
   {
    "duration": 25,
    "start_time": "2021-10-30T22:34:45.163Z"
   },
   {
    "duration": 805,
    "start_time": "2021-10-30T22:39:38.257Z"
   },
   {
    "duration": 95,
    "start_time": "2021-10-30T22:39:39.064Z"
   },
   {
    "duration": 14,
    "start_time": "2021-10-30T22:39:39.162Z"
   },
   {
    "duration": 21,
    "start_time": "2021-10-30T22:39:39.179Z"
   },
   {
    "duration": 24,
    "start_time": "2021-10-30T22:39:39.203Z"
   },
   {
    "duration": 10,
    "start_time": "2021-10-30T22:39:39.229Z"
   },
   {
    "duration": 18,
    "start_time": "2021-10-30T22:39:39.241Z"
   },
   {
    "duration": 45,
    "start_time": "2021-10-30T22:39:39.261Z"
   },
   {
    "duration": 8,
    "start_time": "2021-10-30T22:39:39.310Z"
   },
   {
    "duration": 5,
    "start_time": "2021-10-30T22:39:39.321Z"
   },
   {
    "duration": 12,
    "start_time": "2021-10-30T22:39:39.328Z"
   },
   {
    "duration": 16,
    "start_time": "2021-10-30T22:39:39.342Z"
   },
   {
    "duration": 61,
    "start_time": "2021-10-30T22:39:39.361Z"
   },
   {
    "duration": 9,
    "start_time": "2021-10-30T22:39:39.425Z"
   },
   {
    "duration": 14,
    "start_time": "2021-10-30T22:39:39.436Z"
   },
   {
    "duration": 63,
    "start_time": "2021-10-30T22:39:39.453Z"
   },
   {
    "duration": 25,
    "start_time": "2021-10-30T22:39:39.519Z"
   },
   {
    "duration": 16,
    "start_time": "2021-10-30T22:39:39.546Z"
   },
   {
    "duration": 35,
    "start_time": "2021-10-30T22:39:39.565Z"
   },
   {
    "duration": 5,
    "start_time": "2021-10-30T22:39:39.603Z"
   },
   {
    "duration": 14,
    "start_time": "2021-10-30T22:39:39.610Z"
   },
   {
    "duration": 12,
    "start_time": "2021-10-30T22:39:39.626Z"
   },
   {
    "duration": 7,
    "start_time": "2021-10-30T22:39:39.641Z"
   },
   {
    "duration": 52,
    "start_time": "2021-10-30T22:39:39.650Z"
   },
   {
    "duration": 10,
    "start_time": "2021-10-30T22:39:39.705Z"
   },
   {
    "duration": 13,
    "start_time": "2021-10-30T22:39:39.717Z"
   },
   {
    "duration": 16,
    "start_time": "2021-10-30T22:39:39.737Z"
   },
   {
    "duration": 45,
    "start_time": "2021-10-30T22:39:39.757Z"
   },
   {
    "duration": 7,
    "start_time": "2021-10-30T22:39:39.805Z"
   },
   {
    "duration": 11,
    "start_time": "2021-10-30T22:39:39.815Z"
   },
   {
    "duration": 17,
    "start_time": "2021-10-30T22:39:39.828Z"
   },
   {
    "duration": 53,
    "start_time": "2021-10-30T22:39:39.847Z"
   },
   {
    "duration": 6,
    "start_time": "2021-10-30T22:39:39.903Z"
   },
   {
    "duration": 8,
    "start_time": "2021-10-30T22:39:39.912Z"
   },
   {
    "duration": 9,
    "start_time": "2021-10-30T22:39:39.922Z"
   },
   {
    "duration": 6,
    "start_time": "2021-10-30T22:39:39.933Z"
   },
   {
    "duration": 12,
    "start_time": "2021-10-30T22:39:39.941Z"
   },
   {
    "duration": 6,
    "start_time": "2021-10-30T22:39:40.002Z"
   },
   {
    "duration": 18,
    "start_time": "2021-10-30T22:39:40.011Z"
   },
   {
    "duration": 21,
    "start_time": "2021-10-30T22:39:40.031Z"
   },
   {
    "duration": 47,
    "start_time": "2021-10-30T22:39:40.055Z"
   },
   {
    "duration": 11,
    "start_time": "2021-10-30T22:39:40.104Z"
   },
   {
    "duration": 7,
    "start_time": "2021-10-30T22:39:40.118Z"
   },
   {
    "duration": 7,
    "start_time": "2021-10-30T22:39:40.127Z"
   },
   {
    "duration": 11,
    "start_time": "2021-10-30T22:39:40.136Z"
   },
   {
    "duration": 4492,
    "start_time": "2021-10-30T22:39:40.150Z"
   },
   {
    "duration": 14,
    "start_time": "2021-10-30T22:39:44.644Z"
   },
   {
    "duration": 46,
    "start_time": "2021-10-30T22:39:44.660Z"
   },
   {
    "duration": 7,
    "start_time": "2021-10-30T22:39:44.709Z"
   },
   {
    "duration": 8,
    "start_time": "2021-10-30T22:39:44.718Z"
   },
   {
    "duration": 12,
    "start_time": "2021-10-30T22:39:44.729Z"
   },
   {
    "duration": 10,
    "start_time": "2021-10-30T22:39:44.744Z"
   },
   {
    "duration": 47,
    "start_time": "2021-10-30T22:39:44.757Z"
   },
   {
    "duration": 14,
    "start_time": "2021-10-30T22:39:44.807Z"
   },
   {
    "duration": 9,
    "start_time": "2021-10-30T22:39:44.824Z"
   },
   {
    "duration": 7,
    "start_time": "2021-10-30T22:39:44.835Z"
   },
   {
    "duration": 16,
    "start_time": "2021-10-30T22:39:44.845Z"
   },
   {
    "duration": 40,
    "start_time": "2021-10-30T22:39:44.863Z"
   },
   {
    "duration": 9,
    "start_time": "2021-10-30T22:39:44.905Z"
   },
   {
    "duration": 8,
    "start_time": "2021-10-30T22:39:44.916Z"
   },
   {
    "duration": 11,
    "start_time": "2021-10-30T22:39:44.926Z"
   },
   {
    "duration": 9,
    "start_time": "2021-10-30T22:39:44.940Z"
   },
   {
    "duration": 49,
    "start_time": "2021-10-30T22:39:44.951Z"
   },
   {
    "duration": 9,
    "start_time": "2021-10-30T22:39:45.003Z"
   },
   {
    "duration": 21,
    "start_time": "2021-10-30T22:39:45.015Z"
   },
   {
    "duration": 5,
    "start_time": "2021-10-30T22:39:45.039Z"
   },
   {
    "duration": 31,
    "start_time": "2021-10-30T22:39:45.046Z"
   },
   {
    "duration": 28,
    "start_time": "2021-10-30T22:39:45.080Z"
   },
   {
    "duration": 19,
    "start_time": "2021-10-30T22:39:45.110Z"
   },
   {
    "duration": 14,
    "start_time": "2021-10-30T22:39:45.131Z"
   },
   {
    "duration": 18,
    "start_time": "2021-10-30T22:39:45.147Z"
   },
   {
    "duration": 13,
    "start_time": "2021-10-30T22:39:45.201Z"
   },
   {
    "duration": 15,
    "start_time": "2021-10-30T22:39:45.217Z"
   },
   {
    "duration": 10,
    "start_time": "2021-10-30T22:39:45.234Z"
   },
   {
    "duration": 12,
    "start_time": "2021-10-30T22:39:45.247Z"
   },
   {
    "duration": 48,
    "start_time": "2021-10-30T22:39:45.261Z"
   },
   {
    "duration": 9,
    "start_time": "2021-10-30T22:39:45.311Z"
   },
   {
    "duration": 20,
    "start_time": "2021-10-30T22:39:45.323Z"
   },
   {
    "duration": 25,
    "start_time": "2021-10-30T22:39:45.346Z"
   },
   {
    "duration": 12,
    "start_time": "2021-10-30T22:39:45.402Z"
   },
   {
    "duration": 14,
    "start_time": "2021-10-30T22:39:45.424Z"
   },
   {
    "duration": 8,
    "start_time": "2021-10-30T22:39:45.442Z"
   },
   {
    "duration": 47,
    "start_time": "2021-10-30T22:39:45.453Z"
   },
   {
    "duration": 9,
    "start_time": "2021-10-30T22:39:45.503Z"
   },
   {
    "duration": 11,
    "start_time": "2021-10-30T22:39:45.514Z"
   },
   {
    "duration": 10,
    "start_time": "2021-10-30T22:39:45.528Z"
   },
   {
    "duration": 24,
    "start_time": "2021-10-30T22:39:45.540Z"
   },
   {
    "duration": 38,
    "start_time": "2021-10-30T22:39:45.567Z"
   },
   {
    "duration": 15,
    "start_time": "2021-10-30T22:39:45.608Z"
   },
   {
    "duration": 11,
    "start_time": "2021-10-30T22:39:45.626Z"
   },
   {
    "duration": 15,
    "start_time": "2021-10-30T22:39:45.639Z"
   },
   {
    "duration": 51,
    "start_time": "2021-10-30T22:39:45.656Z"
   },
   {
    "duration": 10,
    "start_time": "2021-10-30T22:39:45.710Z"
   },
   {
    "duration": 7,
    "start_time": "2021-10-30T22:39:45.722Z"
   },
   {
    "duration": 15,
    "start_time": "2021-10-30T22:39:45.731Z"
   },
   {
    "duration": 14,
    "start_time": "2021-10-30T22:39:45.749Z"
   },
   {
    "duration": 48,
    "start_time": "2021-10-30T22:39:45.766Z"
   },
   {
    "duration": 10,
    "start_time": "2021-10-30T22:39:45.817Z"
   },
   {
    "duration": 14,
    "start_time": "2021-10-30T22:39:45.830Z"
   },
   {
    "duration": 11,
    "start_time": "2021-10-30T22:39:45.846Z"
   },
   {
    "duration": 42,
    "start_time": "2021-10-30T22:39:45.859Z"
   },
   {
    "duration": 11,
    "start_time": "2021-10-30T22:39:45.903Z"
   },
   {
    "duration": 10,
    "start_time": "2021-10-30T22:39:45.917Z"
   },
   {
    "duration": 18,
    "start_time": "2021-10-30T22:39:45.930Z"
   },
   {
    "duration": 10,
    "start_time": "2021-10-30T22:41:43.842Z"
   },
   {
    "duration": 853,
    "start_time": "2021-10-30T23:24:06.067Z"
   },
   {
    "duration": 91,
    "start_time": "2021-10-30T23:24:06.923Z"
   },
   {
    "duration": 15,
    "start_time": "2021-10-30T23:24:07.020Z"
   },
   {
    "duration": 5,
    "start_time": "2021-10-30T23:24:07.037Z"
   },
   {
    "duration": 59,
    "start_time": "2021-10-30T23:24:07.044Z"
   },
   {
    "duration": 9,
    "start_time": "2021-10-30T23:24:07.106Z"
   },
   {
    "duration": 16,
    "start_time": "2021-10-30T23:24:07.119Z"
   },
   {
    "duration": 12,
    "start_time": "2021-10-30T23:24:07.138Z"
   },
   {
    "duration": 10,
    "start_time": "2021-10-30T23:24:07.153Z"
   },
   {
    "duration": 39,
    "start_time": "2021-10-30T23:24:07.165Z"
   },
   {
    "duration": 12,
    "start_time": "2021-10-30T23:24:07.206Z"
   },
   {
    "duration": 16,
    "start_time": "2021-10-30T23:24:07.220Z"
   },
   {
    "duration": 23,
    "start_time": "2021-10-30T23:24:07.238Z"
   },
   {
    "duration": 42,
    "start_time": "2021-10-30T23:24:07.263Z"
   },
   {
    "duration": 11,
    "start_time": "2021-10-30T23:24:07.307Z"
   },
   {
    "duration": 29,
    "start_time": "2021-10-30T23:24:07.320Z"
   },
   {
    "duration": 58,
    "start_time": "2021-10-30T23:24:07.351Z"
   },
   {
    "duration": 18,
    "start_time": "2021-10-30T23:24:07.411Z"
   },
   {
    "duration": 12,
    "start_time": "2021-10-30T23:24:07.431Z"
   },
   {
    "duration": 6,
    "start_time": "2021-10-30T23:24:07.445Z"
   },
   {
    "duration": 47,
    "start_time": "2021-10-30T23:24:07.453Z"
   },
   {
    "duration": 11,
    "start_time": "2021-10-30T23:24:07.506Z"
   },
   {
    "duration": 7,
    "start_time": "2021-10-30T23:24:07.521Z"
   },
   {
    "duration": 9,
    "start_time": "2021-10-30T23:24:07.530Z"
   },
   {
    "duration": 9,
    "start_time": "2021-10-30T23:24:07.542Z"
   },
   {
    "duration": 47,
    "start_time": "2021-10-30T23:24:07.553Z"
   },
   {
    "duration": 19,
    "start_time": "2021-10-30T23:24:07.604Z"
   },
   {
    "duration": 13,
    "start_time": "2021-10-30T23:24:07.626Z"
   },
   {
    "duration": 10,
    "start_time": "2021-10-30T23:24:07.641Z"
   },
   {
    "duration": 50,
    "start_time": "2021-10-30T23:24:07.653Z"
   },
   {
    "duration": 18,
    "start_time": "2021-10-30T23:24:07.705Z"
   },
   {
    "duration": 8,
    "start_time": "2021-10-30T23:24:07.726Z"
   },
   {
    "duration": 8,
    "start_time": "2021-10-30T23:24:07.736Z"
   },
   {
    "duration": 6,
    "start_time": "2021-10-30T23:24:07.746Z"
   },
   {
    "duration": 50,
    "start_time": "2021-10-30T23:24:07.755Z"
   },
   {
    "duration": 7,
    "start_time": "2021-10-30T23:24:07.808Z"
   },
   {
    "duration": 13,
    "start_time": "2021-10-30T23:24:07.818Z"
   },
   {
    "duration": 6,
    "start_time": "2021-10-30T23:24:07.834Z"
   },
   {
    "duration": 60,
    "start_time": "2021-10-30T23:24:07.842Z"
   },
   {
    "duration": 18,
    "start_time": "2021-10-30T23:24:07.904Z"
   },
   {
    "duration": 8,
    "start_time": "2021-10-30T23:24:07.925Z"
   },
   {
    "duration": 14,
    "start_time": "2021-10-30T23:24:07.935Z"
   },
   {
    "duration": 9,
    "start_time": "2021-10-30T23:24:07.952Z"
   },
   {
    "duration": 7,
    "start_time": "2021-10-30T23:24:08.002Z"
   },
   {
    "duration": 12,
    "start_time": "2021-10-30T23:24:08.011Z"
   },
   {
    "duration": 4523,
    "start_time": "2021-10-30T23:24:08.025Z"
   },
   {
    "duration": 14,
    "start_time": "2021-10-30T23:24:12.551Z"
   },
   {
    "duration": 45,
    "start_time": "2021-10-30T23:24:12.568Z"
   },
   {
    "duration": 8,
    "start_time": "2021-10-30T23:24:12.615Z"
   },
   {
    "duration": 4,
    "start_time": "2021-10-30T23:24:12.625Z"
   },
   {
    "duration": 12,
    "start_time": "2021-10-30T23:24:12.632Z"
   },
   {
    "duration": 12,
    "start_time": "2021-10-30T23:24:12.647Z"
   },
   {
    "duration": 46,
    "start_time": "2021-10-30T23:24:12.661Z"
   },
   {
    "duration": 15,
    "start_time": "2021-10-30T23:24:12.709Z"
   },
   {
    "duration": 9,
    "start_time": "2021-10-30T23:24:12.726Z"
   },
   {
    "duration": 5,
    "start_time": "2021-10-30T23:24:12.737Z"
   },
   {
    "duration": 10,
    "start_time": "2021-10-30T23:24:12.744Z"
   },
   {
    "duration": 45,
    "start_time": "2021-10-30T23:24:12.757Z"
   },
   {
    "duration": 10,
    "start_time": "2021-10-30T23:24:12.805Z"
   },
   {
    "duration": 6,
    "start_time": "2021-10-30T23:24:12.817Z"
   },
   {
    "duration": 13,
    "start_time": "2021-10-30T23:24:12.825Z"
   },
   {
    "duration": 9,
    "start_time": "2021-10-30T23:24:12.841Z"
   },
   {
    "duration": 53,
    "start_time": "2021-10-30T23:24:12.852Z"
   },
   {
    "duration": 9,
    "start_time": "2021-10-30T23:24:12.908Z"
   },
   {
    "duration": 8,
    "start_time": "2021-10-30T23:24:12.919Z"
   },
   {
    "duration": 6,
    "start_time": "2021-10-30T23:24:12.929Z"
   },
   {
    "duration": 15,
    "start_time": "2021-10-30T23:24:12.944Z"
   },
   {
    "duration": 11,
    "start_time": "2021-10-30T23:24:13.002Z"
   },
   {
    "duration": 29,
    "start_time": "2021-10-30T23:24:13.015Z"
   },
   {
    "duration": 14,
    "start_time": "2021-10-30T23:24:13.047Z"
   },
   {
    "duration": 40,
    "start_time": "2021-10-30T23:24:13.064Z"
   },
   {
    "duration": 12,
    "start_time": "2021-10-30T23:24:13.106Z"
   },
   {
    "duration": 14,
    "start_time": "2021-10-30T23:24:13.120Z"
   },
   {
    "duration": 11,
    "start_time": "2021-10-30T23:24:13.136Z"
   },
   {
    "duration": 16,
    "start_time": "2021-10-30T23:24:13.150Z"
   },
   {
    "duration": 41,
    "start_time": "2021-10-30T23:24:13.168Z"
   },
   {
    "duration": 9,
    "start_time": "2021-10-30T23:24:13.212Z"
   },
   {
    "duration": 24,
    "start_time": "2021-10-30T23:24:13.224Z"
   },
   {
    "duration": 52,
    "start_time": "2021-10-30T23:24:13.250Z"
   },
   {
    "duration": 13,
    "start_time": "2021-10-30T23:24:13.304Z"
   },
   {
    "duration": 16,
    "start_time": "2021-10-30T23:24:13.319Z"
   },
   {
    "duration": 8,
    "start_time": "2021-10-30T23:24:13.337Z"
   },
   {
    "duration": 15,
    "start_time": "2021-10-30T23:24:13.348Z"
   },
   {
    "duration": 42,
    "start_time": "2021-10-30T23:24:13.365Z"
   },
   {
    "duration": 10,
    "start_time": "2021-10-30T23:24:13.410Z"
   },
   {
    "duration": 6,
    "start_time": "2021-10-30T23:24:13.422Z"
   },
   {
    "duration": 17,
    "start_time": "2021-10-30T23:24:13.430Z"
   },
   {
    "duration": 18,
    "start_time": "2021-10-30T23:24:13.449Z"
   },
   {
    "duration": 15,
    "start_time": "2021-10-30T23:24:13.501Z"
   },
   {
    "duration": 11,
    "start_time": "2021-10-30T23:24:13.519Z"
   },
   {
    "duration": 11,
    "start_time": "2021-10-30T23:24:13.532Z"
   },
   {
    "duration": 13,
    "start_time": "2021-10-30T23:24:13.545Z"
   },
   {
    "duration": 44,
    "start_time": "2021-10-30T23:24:13.560Z"
   },
   {
    "duration": 8,
    "start_time": "2021-10-30T23:24:13.607Z"
   },
   {
    "duration": 13,
    "start_time": "2021-10-30T23:24:13.617Z"
   },
   {
    "duration": 21,
    "start_time": "2021-10-30T23:24:13.633Z"
   },
   {
    "duration": 54,
    "start_time": "2021-10-30T23:24:13.657Z"
   },
   {
    "duration": 11,
    "start_time": "2021-10-30T23:24:13.714Z"
   },
   {
    "duration": 12,
    "start_time": "2021-10-30T23:24:13.728Z"
   },
   {
    "duration": 10,
    "start_time": "2021-10-30T23:24:13.742Z"
   },
   {
    "duration": 46,
    "start_time": "2021-10-30T23:24:13.755Z"
   },
   {
    "duration": 11,
    "start_time": "2021-10-30T23:24:13.803Z"
   },
   {
    "duration": 6,
    "start_time": "2021-10-30T23:24:13.817Z"
   },
   {
    "duration": 14,
    "start_time": "2021-10-30T23:24:13.825Z"
   },
   {
    "duration": 852,
    "start_time": "2021-10-30T23:24:56.154Z"
   },
   {
    "duration": 93,
    "start_time": "2021-10-30T23:24:57.009Z"
   },
   {
    "duration": 16,
    "start_time": "2021-10-30T23:24:57.105Z"
   },
   {
    "duration": 5,
    "start_time": "2021-10-30T23:24:57.124Z"
   },
   {
    "duration": 24,
    "start_time": "2021-10-30T23:24:57.132Z"
   },
   {
    "duration": 44,
    "start_time": "2021-10-30T23:24:57.159Z"
   },
   {
    "duration": 19,
    "start_time": "2021-10-30T23:24:57.205Z"
   },
   {
    "duration": 16,
    "start_time": "2021-10-30T23:24:57.228Z"
   },
   {
    "duration": 11,
    "start_time": "2021-10-30T23:24:57.247Z"
   },
   {
    "duration": 5,
    "start_time": "2021-10-30T23:24:57.261Z"
   },
   {
    "duration": 11,
    "start_time": "2021-10-30T23:24:57.300Z"
   },
   {
    "duration": 18,
    "start_time": "2021-10-30T23:24:57.313Z"
   },
   {
    "duration": 24,
    "start_time": "2021-10-30T23:24:57.334Z"
   },
   {
    "duration": 45,
    "start_time": "2021-10-30T23:24:57.361Z"
   },
   {
    "duration": 14,
    "start_time": "2021-10-30T23:24:57.408Z"
   },
   {
    "duration": 33,
    "start_time": "2021-10-30T23:24:57.424Z"
   },
   {
    "duration": 50,
    "start_time": "2021-10-30T23:24:57.460Z"
   },
   {
    "duration": 18,
    "start_time": "2021-10-30T23:24:57.512Z"
   },
   {
    "duration": 11,
    "start_time": "2021-10-30T23:24:57.532Z"
   },
   {
    "duration": 8,
    "start_time": "2021-10-30T23:24:57.545Z"
   },
   {
    "duration": 15,
    "start_time": "2021-10-30T23:24:57.555Z"
   },
   {
    "duration": 11,
    "start_time": "2021-10-30T23:24:57.601Z"
   },
   {
    "duration": 8,
    "start_time": "2021-10-30T23:24:57.618Z"
   },
   {
    "duration": 9,
    "start_time": "2021-10-30T23:24:57.629Z"
   },
   {
    "duration": 10,
    "start_time": "2021-10-30T23:24:57.640Z"
   },
   {
    "duration": 53,
    "start_time": "2021-10-30T23:24:57.652Z"
   },
   {
    "duration": 22,
    "start_time": "2021-10-30T23:24:57.707Z"
   },
   {
    "duration": 10,
    "start_time": "2021-10-30T23:24:57.731Z"
   },
   {
    "duration": 9,
    "start_time": "2021-10-30T23:24:57.744Z"
   },
   {
    "duration": 10,
    "start_time": "2021-10-30T23:24:57.755Z"
   },
   {
    "duration": 17,
    "start_time": "2021-10-30T23:24:57.801Z"
   },
   {
    "duration": 10,
    "start_time": "2021-10-30T23:24:57.820Z"
   },
   {
    "duration": 10,
    "start_time": "2021-10-30T23:24:57.832Z"
   },
   {
    "duration": 9,
    "start_time": "2021-10-30T23:24:57.844Z"
   },
   {
    "duration": 46,
    "start_time": "2021-10-30T23:24:57.856Z"
   },
   {
    "duration": 5,
    "start_time": "2021-10-30T23:24:57.905Z"
   },
   {
    "duration": 11,
    "start_time": "2021-10-30T23:24:57.912Z"
   },
   {
    "duration": 5,
    "start_time": "2021-10-30T23:24:57.926Z"
   },
   {
    "duration": 18,
    "start_time": "2021-10-30T23:24:57.933Z"
   },
   {
    "duration": 60,
    "start_time": "2021-10-30T23:24:57.953Z"
   },
   {
    "duration": 8,
    "start_time": "2021-10-30T23:24:58.016Z"
   },
   {
    "duration": 12,
    "start_time": "2021-10-30T23:24:58.026Z"
   },
   {
    "duration": 7,
    "start_time": "2021-10-30T23:24:58.040Z"
   },
   {
    "duration": 52,
    "start_time": "2021-10-30T23:24:58.050Z"
   },
   {
    "duration": 11,
    "start_time": "2021-10-30T23:24:58.105Z"
   },
   {
    "duration": 4634,
    "start_time": "2021-10-30T23:24:58.118Z"
   },
   {
    "duration": 15,
    "start_time": "2021-10-30T23:25:02.754Z"
   },
   {
    "duration": 50,
    "start_time": "2021-10-30T23:25:02.772Z"
   },
   {
    "duration": 8,
    "start_time": "2021-10-30T23:25:02.825Z"
   },
   {
    "duration": 11,
    "start_time": "2021-10-30T23:25:02.836Z"
   },
   {
    "duration": 28,
    "start_time": "2021-10-30T23:25:02.849Z"
   },
   {
    "duration": 22,
    "start_time": "2021-10-30T23:25:02.880Z"
   },
   {
    "duration": 21,
    "start_time": "2021-10-30T23:25:02.904Z"
   },
   {
    "duration": 15,
    "start_time": "2021-10-30T23:25:02.928Z"
   },
   {
    "duration": 10,
    "start_time": "2021-10-30T23:25:02.946Z"
   },
   {
    "duration": 41,
    "start_time": "2021-10-30T23:25:02.959Z"
   },
   {
    "duration": 13,
    "start_time": "2021-10-30T23:25:03.003Z"
   },
   {
    "duration": 20,
    "start_time": "2021-10-30T23:25:03.019Z"
   },
   {
    "duration": 9,
    "start_time": "2021-10-30T23:25:03.041Z"
   },
   {
    "duration": 11,
    "start_time": "2021-10-30T23:25:03.053Z"
   },
   {
    "duration": 37,
    "start_time": "2021-10-30T23:25:03.066Z"
   },
   {
    "duration": 12,
    "start_time": "2021-10-30T23:25:03.106Z"
   },
   {
    "duration": 17,
    "start_time": "2021-10-30T23:25:03.121Z"
   },
   {
    "duration": 11,
    "start_time": "2021-10-30T23:25:03.141Z"
   },
   {
    "duration": 9,
    "start_time": "2021-10-30T23:25:03.155Z"
   },
   {
    "duration": 38,
    "start_time": "2021-10-30T23:25:03.166Z"
   },
   {
    "duration": 19,
    "start_time": "2021-10-30T23:25:03.206Z"
   },
   {
    "duration": 9,
    "start_time": "2021-10-30T23:25:03.234Z"
   },
   {
    "duration": 18,
    "start_time": "2021-10-30T23:25:03.246Z"
   },
   {
    "duration": 43,
    "start_time": "2021-10-30T23:25:03.267Z"
   },
   {
    "duration": 15,
    "start_time": "2021-10-30T23:25:03.313Z"
   },
   {
    "duration": 12,
    "start_time": "2021-10-30T23:25:03.331Z"
   },
   {
    "duration": 54,
    "start_time": "2021-10-30T23:25:03.346Z"
   },
   {
    "duration": 10,
    "start_time": "2021-10-30T23:25:03.403Z"
   },
   {
    "duration": 16,
    "start_time": "2021-10-30T23:25:03.415Z"
   },
   {
    "duration": 22,
    "start_time": "2021-10-30T23:25:03.434Z"
   },
   {
    "duration": 10,
    "start_time": "2021-10-30T23:25:03.459Z"
   },
   {
    "duration": 44,
    "start_time": "2021-10-30T23:25:03.471Z"
   },
   {
    "duration": 27,
    "start_time": "2021-10-30T23:25:03.517Z"
   },
   {
    "duration": 12,
    "start_time": "2021-10-30T23:25:03.546Z"
   },
   {
    "duration": 48,
    "start_time": "2021-10-30T23:25:03.560Z"
   },
   {
    "duration": 9,
    "start_time": "2021-10-30T23:25:03.610Z"
   },
   {
    "duration": 19,
    "start_time": "2021-10-30T23:25:03.621Z"
   },
   {
    "duration": 11,
    "start_time": "2021-10-30T23:25:03.642Z"
   },
   {
    "duration": 13,
    "start_time": "2021-10-30T23:25:03.655Z"
   },
   {
    "duration": 34,
    "start_time": "2021-10-30T23:25:03.670Z"
   },
   {
    "duration": 20,
    "start_time": "2021-10-30T23:25:03.706Z"
   },
   {
    "duration": 13,
    "start_time": "2021-10-30T23:25:03.729Z"
   },
   {
    "duration": 18,
    "start_time": "2021-10-30T23:25:03.745Z"
   },
   {
    "duration": 43,
    "start_time": "2021-10-30T23:25:03.765Z"
   },
   {
    "duration": 12,
    "start_time": "2021-10-30T23:25:03.811Z"
   },
   {
    "duration": 10,
    "start_time": "2021-10-30T23:25:03.826Z"
   },
   {
    "duration": 13,
    "start_time": "2021-10-30T23:25:03.839Z"
   },
   {
    "duration": 6,
    "start_time": "2021-10-30T23:25:03.855Z"
   },
   {
    "duration": 46,
    "start_time": "2021-10-30T23:25:03.864Z"
   },
   {
    "duration": 18,
    "start_time": "2021-10-30T23:25:03.912Z"
   },
   {
    "duration": 18,
    "start_time": "2021-10-30T23:25:03.933Z"
   },
   {
    "duration": 47,
    "start_time": "2021-10-30T23:25:03.954Z"
   },
   {
    "duration": 13,
    "start_time": "2021-10-30T23:25:04.003Z"
   },
   {
    "duration": 17,
    "start_time": "2021-10-30T23:25:04.018Z"
   },
   {
    "duration": 5,
    "start_time": "2021-10-30T23:25:04.038Z"
   },
   {
    "duration": 13,
    "start_time": "2021-10-30T23:25:04.045Z"
   },
   {
    "duration": 40,
    "start_time": "2021-10-30T23:25:04.061Z"
   },
   {
    "duration": 11,
    "start_time": "2021-10-30T23:25:04.104Z"
   },
   {
    "duration": 833,
    "start_time": "2021-10-30T23:26:52.305Z"
   },
   {
    "duration": 91,
    "start_time": "2021-10-30T23:26:53.141Z"
   },
   {
    "duration": 15,
    "start_time": "2021-10-30T23:26:53.235Z"
   },
   {
    "duration": 5,
    "start_time": "2021-10-30T23:26:53.253Z"
   },
   {
    "duration": 47,
    "start_time": "2021-10-30T23:26:53.260Z"
   },
   {
    "duration": 9,
    "start_time": "2021-10-30T23:26:53.309Z"
   },
   {
    "duration": 25,
    "start_time": "2021-10-30T23:26:53.320Z"
   },
   {
    "duration": 27,
    "start_time": "2021-10-30T23:26:53.348Z"
   },
   {
    "duration": 23,
    "start_time": "2021-10-30T23:26:53.378Z"
   },
   {
    "duration": 10,
    "start_time": "2021-10-30T23:26:53.403Z"
   },
   {
    "duration": 21,
    "start_time": "2021-10-30T23:26:53.415Z"
   },
   {
    "duration": 20,
    "start_time": "2021-10-30T23:26:53.439Z"
   },
   {
    "duration": 41,
    "start_time": "2021-10-30T23:26:53.461Z"
   },
   {
    "duration": 10,
    "start_time": "2021-10-30T23:26:53.505Z"
   },
   {
    "duration": 17,
    "start_time": "2021-10-30T23:26:53.517Z"
   },
   {
    "duration": 32,
    "start_time": "2021-10-30T23:26:53.537Z"
   },
   {
    "duration": 46,
    "start_time": "2021-10-30T23:26:53.571Z"
   },
   {
    "duration": 16,
    "start_time": "2021-10-30T23:26:53.620Z"
   },
   {
    "duration": 8,
    "start_time": "2021-10-30T23:26:53.639Z"
   },
   {
    "duration": 5,
    "start_time": "2021-10-30T23:26:53.649Z"
   },
   {
    "duration": 50,
    "start_time": "2021-10-30T23:26:53.656Z"
   },
   {
    "duration": 10,
    "start_time": "2021-10-30T23:26:53.709Z"
   },
   {
    "duration": 7,
    "start_time": "2021-10-30T23:26:53.724Z"
   },
   {
    "duration": 9,
    "start_time": "2021-10-30T23:26:53.735Z"
   },
   {
    "duration": 10,
    "start_time": "2021-10-30T23:26:53.746Z"
   },
   {
    "duration": 13,
    "start_time": "2021-10-30T23:26:53.800Z"
   },
   {
    "duration": 15,
    "start_time": "2021-10-30T23:26:53.815Z"
   },
   {
    "duration": 12,
    "start_time": "2021-10-30T23:26:53.833Z"
   },
   {
    "duration": 8,
    "start_time": "2021-10-30T23:26:53.848Z"
   },
   {
    "duration": 50,
    "start_time": "2021-10-30T23:26:53.859Z"
   },
   {
    "duration": 19,
    "start_time": "2021-10-30T23:26:53.911Z"
   },
   {
    "duration": 9,
    "start_time": "2021-10-30T23:26:53.932Z"
   },
   {
    "duration": 8,
    "start_time": "2021-10-30T23:26:53.943Z"
   },
   {
    "duration": 50,
    "start_time": "2021-10-30T23:26:53.953Z"
   },
   {
    "duration": 9,
    "start_time": "2021-10-30T23:26:54.005Z"
   },
   {
    "duration": 6,
    "start_time": "2021-10-30T23:26:54.016Z"
   },
   {
    "duration": 13,
    "start_time": "2021-10-30T23:26:54.024Z"
   },
   {
    "duration": 5,
    "start_time": "2021-10-30T23:26:54.040Z"
   },
   {
    "duration": 54,
    "start_time": "2021-10-30T23:26:54.047Z"
   },
   {
    "duration": 18,
    "start_time": "2021-10-30T23:26:54.103Z"
   },
   {
    "duration": 9,
    "start_time": "2021-10-30T23:26:54.123Z"
   },
   {
    "duration": 12,
    "start_time": "2021-10-30T23:26:54.135Z"
   },
   {
    "duration": 53,
    "start_time": "2021-10-30T23:26:54.149Z"
   },
   {
    "duration": 9,
    "start_time": "2021-10-30T23:26:54.206Z"
   },
   {
    "duration": 13,
    "start_time": "2021-10-30T23:26:54.218Z"
   },
   {
    "duration": 4469,
    "start_time": "2021-10-30T23:26:54.234Z"
   },
   {
    "duration": 14,
    "start_time": "2021-10-30T23:26:58.706Z"
   },
   {
    "duration": 23,
    "start_time": "2021-10-30T23:26:58.722Z"
   },
   {
    "duration": 7,
    "start_time": "2021-10-30T23:26:58.748Z"
   },
   {
    "duration": 43,
    "start_time": "2021-10-30T23:26:58.757Z"
   },
   {
    "duration": 10,
    "start_time": "2021-10-30T23:26:58.803Z"
   },
   {
    "duration": 13,
    "start_time": "2021-10-30T23:26:58.815Z"
   },
   {
    "duration": 16,
    "start_time": "2021-10-30T23:26:58.830Z"
   },
   {
    "duration": 13,
    "start_time": "2021-10-30T23:26:58.849Z"
   },
   {
    "duration": 43,
    "start_time": "2021-10-30T23:26:58.865Z"
   },
   {
    "duration": 5,
    "start_time": "2021-10-30T23:26:58.910Z"
   },
   {
    "duration": 12,
    "start_time": "2021-10-30T23:26:58.917Z"
   },
   {
    "duration": 11,
    "start_time": "2021-10-30T23:26:58.931Z"
   },
   {
    "duration": 7,
    "start_time": "2021-10-30T23:26:58.944Z"
   },
   {
    "duration": 21,
    "start_time": "2021-10-30T23:26:58.954Z"
   },
   {
    "duration": 30,
    "start_time": "2021-10-30T23:26:58.977Z"
   },
   {
    "duration": 9,
    "start_time": "2021-10-30T23:26:59.009Z"
   },
   {
    "duration": 8,
    "start_time": "2021-10-30T23:26:59.021Z"
   },
   {
    "duration": 14,
    "start_time": "2021-10-30T23:26:59.031Z"
   },
   {
    "duration": 12,
    "start_time": "2021-10-30T23:26:59.047Z"
   },
   {
    "duration": 42,
    "start_time": "2021-10-30T23:26:59.062Z"
   },
   {
    "duration": 18,
    "start_time": "2021-10-30T23:26:59.106Z"
   },
   {
    "duration": 10,
    "start_time": "2021-10-30T23:26:59.133Z"
   },
   {
    "duration": 15,
    "start_time": "2021-10-30T23:26:59.147Z"
   },
   {
    "duration": 48,
    "start_time": "2021-10-30T23:26:59.164Z"
   },
   {
    "duration": 15,
    "start_time": "2021-10-30T23:26:59.215Z"
   },
   {
    "duration": 12,
    "start_time": "2021-10-30T23:26:59.233Z"
   },
   {
    "duration": 11,
    "start_time": "2021-10-30T23:26:59.247Z"
   },
   {
    "duration": 10,
    "start_time": "2021-10-30T23:26:59.302Z"
   },
   {
    "duration": 10,
    "start_time": "2021-10-30T23:26:59.315Z"
   },
   {
    "duration": 16,
    "start_time": "2021-10-30T23:26:59.327Z"
   },
   {
    "duration": 12,
    "start_time": "2021-10-30T23:26:59.346Z"
   },
   {
    "duration": 51,
    "start_time": "2021-10-30T23:26:59.361Z"
   },
   {
    "duration": 29,
    "start_time": "2021-10-30T23:26:59.415Z"
   },
   {
    "duration": 14,
    "start_time": "2021-10-30T23:26:59.447Z"
   },
   {
    "duration": 16,
    "start_time": "2021-10-30T23:26:59.501Z"
   },
   {
    "duration": 10,
    "start_time": "2021-10-30T23:26:59.520Z"
   },
   {
    "duration": 13,
    "start_time": "2021-10-30T23:26:59.533Z"
   },
   {
    "duration": 53,
    "start_time": "2021-10-30T23:26:59.548Z"
   },
   {
    "duration": 11,
    "start_time": "2021-10-30T23:26:59.604Z"
   },
   {
    "duration": 8,
    "start_time": "2021-10-30T23:26:59.619Z"
   },
   {
    "duration": 18,
    "start_time": "2021-10-30T23:26:59.630Z"
   },
   {
    "duration": 57,
    "start_time": "2021-10-30T23:26:59.651Z"
   },
   {
    "duration": 17,
    "start_time": "2021-10-30T23:26:59.712Z"
   },
   {
    "duration": 12,
    "start_time": "2021-10-30T23:26:59.732Z"
   },
   {
    "duration": 11,
    "start_time": "2021-10-30T23:26:59.746Z"
   },
   {
    "duration": 12,
    "start_time": "2021-10-30T23:26:59.800Z"
   },
   {
    "duration": 13,
    "start_time": "2021-10-30T23:26:59.814Z"
   },
   {
    "duration": 7,
    "start_time": "2021-10-30T23:26:59.830Z"
   },
   {
    "duration": 15,
    "start_time": "2021-10-30T23:26:59.839Z"
   },
   {
    "duration": 58,
    "start_time": "2021-10-30T23:26:59.857Z"
   },
   {
    "duration": 19,
    "start_time": "2021-10-30T23:26:59.917Z"
   },
   {
    "duration": 13,
    "start_time": "2021-10-30T23:26:59.939Z"
   },
   {
    "duration": 55,
    "start_time": "2021-10-30T23:26:59.955Z"
   },
   {
    "duration": 22,
    "start_time": "2021-10-30T23:27:00.012Z"
   },
   {
    "duration": 9,
    "start_time": "2021-10-30T23:27:00.036Z"
   },
   {
    "duration": 18,
    "start_time": "2021-10-30T23:27:00.047Z"
   },
   {
    "duration": 17,
    "start_time": "2021-10-30T23:27:00.067Z"
   },
   {
    "duration": 23,
    "start_time": "2021-10-30T23:27:00.087Z"
   },
   {
    "duration": 585,
    "start_time": "2021-10-31T14:45:40.729Z"
   },
   {
    "duration": 69,
    "start_time": "2021-10-31T14:45:41.317Z"
   },
   {
    "duration": 13,
    "start_time": "2021-10-31T14:45:41.389Z"
   },
   {
    "duration": 4,
    "start_time": "2021-10-31T14:45:41.405Z"
   },
   {
    "duration": 19,
    "start_time": "2021-10-31T14:45:41.411Z"
   },
   {
    "duration": 8,
    "start_time": "2021-10-31T14:45:41.431Z"
   },
   {
    "duration": 41,
    "start_time": "2021-10-31T14:45:41.441Z"
   },
   {
    "duration": 10,
    "start_time": "2021-10-31T14:45:41.484Z"
   },
   {
    "duration": 6,
    "start_time": "2021-10-31T14:45:41.497Z"
   },
   {
    "duration": 5,
    "start_time": "2021-10-31T14:45:41.505Z"
   },
   {
    "duration": 9,
    "start_time": "2021-10-31T14:45:41.512Z"
   },
   {
    "duration": 12,
    "start_time": "2021-10-31T14:45:41.522Z"
   },
   {
    "duration": 50,
    "start_time": "2021-10-31T14:45:41.535Z"
   },
   {
    "duration": 7,
    "start_time": "2021-10-31T14:45:41.586Z"
   },
   {
    "duration": 7,
    "start_time": "2021-10-31T14:45:41.595Z"
   },
   {
    "duration": 19,
    "start_time": "2021-10-31T14:45:41.604Z"
   },
   {
    "duration": 15,
    "start_time": "2021-10-31T14:45:41.625Z"
   },
   {
    "duration": 40,
    "start_time": "2021-10-31T14:45:41.642Z"
   },
   {
    "duration": 5,
    "start_time": "2021-10-31T14:45:41.684Z"
   },
   {
    "duration": 4,
    "start_time": "2021-10-31T14:45:41.691Z"
   },
   {
    "duration": 8,
    "start_time": "2021-10-31T14:45:41.696Z"
   },
   {
    "duration": 6,
    "start_time": "2021-10-31T14:45:41.706Z"
   },
   {
    "duration": 5,
    "start_time": "2021-10-31T14:45:41.714Z"
   },
   {
    "duration": 7,
    "start_time": "2021-10-31T14:45:41.721Z"
   },
   {
    "duration": 48,
    "start_time": "2021-10-31T14:45:41.730Z"
   },
   {
    "duration": 9,
    "start_time": "2021-10-31T14:45:41.780Z"
   },
   {
    "duration": 12,
    "start_time": "2021-10-31T14:45:41.793Z"
   },
   {
    "duration": 8,
    "start_time": "2021-10-31T14:45:41.807Z"
   },
   {
    "duration": 9,
    "start_time": "2021-10-31T14:45:41.817Z"
   },
   {
    "duration": 7,
    "start_time": "2021-10-31T14:45:41.828Z"
   },
   {
    "duration": 47,
    "start_time": "2021-10-31T14:45:41.837Z"
   },
   {
    "duration": 6,
    "start_time": "2021-10-31T14:45:41.886Z"
   },
   {
    "duration": 6,
    "start_time": "2021-10-31T14:45:41.895Z"
   },
   {
    "duration": 4,
    "start_time": "2021-10-31T14:45:41.902Z"
   },
   {
    "duration": 7,
    "start_time": "2021-10-31T14:45:41.908Z"
   },
   {
    "duration": 5,
    "start_time": "2021-10-31T14:45:41.916Z"
   },
   {
    "duration": 9,
    "start_time": "2021-10-31T14:45:41.923Z"
   },
   {
    "duration": 44,
    "start_time": "2021-10-31T14:45:41.934Z"
   },
   {
    "duration": 9,
    "start_time": "2021-10-31T14:45:41.980Z"
   },
   {
    "duration": 18,
    "start_time": "2021-10-31T14:45:41.991Z"
   },
   {
    "duration": 5,
    "start_time": "2021-10-31T14:45:42.011Z"
   },
   {
    "duration": 10,
    "start_time": "2021-10-31T14:45:42.017Z"
   },
   {
    "duration": 5,
    "start_time": "2021-10-31T14:45:42.029Z"
   },
   {
    "duration": 5,
    "start_time": "2021-10-31T14:45:42.036Z"
   },
   {
    "duration": 42,
    "start_time": "2021-10-31T14:45:42.042Z"
   },
   {
    "duration": 3642,
    "start_time": "2021-10-31T14:45:42.086Z"
   },
   {
    "duration": 11,
    "start_time": "2021-10-31T14:45:45.731Z"
   },
   {
    "duration": 36,
    "start_time": "2021-10-31T14:45:45.744Z"
   },
   {
    "duration": 7,
    "start_time": "2021-10-31T14:45:45.783Z"
   },
   {
    "duration": 3,
    "start_time": "2021-10-31T14:45:45.792Z"
   },
   {
    "duration": 9,
    "start_time": "2021-10-31T14:45:45.797Z"
   },
   {
    "duration": 9,
    "start_time": "2021-10-31T14:45:45.808Z"
   },
   {
    "duration": 12,
    "start_time": "2021-10-31T14:45:45.819Z"
   },
   {
    "duration": 49,
    "start_time": "2021-10-31T14:45:45.833Z"
   },
   {
    "duration": 8,
    "start_time": "2021-10-31T14:45:45.884Z"
   },
   {
    "duration": 4,
    "start_time": "2021-10-31T14:45:45.894Z"
   },
   {
    "duration": 5,
    "start_time": "2021-10-31T14:45:45.900Z"
   },
   {
    "duration": 5,
    "start_time": "2021-10-31T14:45:45.907Z"
   },
   {
    "duration": 6,
    "start_time": "2021-10-31T14:45:45.914Z"
   },
   {
    "duration": 4,
    "start_time": "2021-10-31T14:45:45.922Z"
   },
   {
    "duration": 9,
    "start_time": "2021-10-31T14:45:45.927Z"
   },
   {
    "duration": 8,
    "start_time": "2021-10-31T14:45:45.977Z"
   },
   {
    "duration": 6,
    "start_time": "2021-10-31T14:45:45.987Z"
   },
   {
    "duration": 6,
    "start_time": "2021-10-31T14:45:45.995Z"
   },
   {
    "duration": 5,
    "start_time": "2021-10-31T14:45:46.003Z"
   },
   {
    "duration": 4,
    "start_time": "2021-10-31T14:45:46.009Z"
   },
   {
    "duration": 13,
    "start_time": "2021-10-31T14:45:46.014Z"
   },
   {
    "duration": 8,
    "start_time": "2021-10-31T14:45:46.028Z"
   },
   {
    "duration": 48,
    "start_time": "2021-10-31T14:45:46.038Z"
   },
   {
    "duration": 9,
    "start_time": "2021-10-31T14:45:46.088Z"
   },
   {
    "duration": 9,
    "start_time": "2021-10-31T14:45:46.099Z"
   },
   {
    "duration": 8,
    "start_time": "2021-10-31T14:45:46.110Z"
   },
   {
    "duration": 8,
    "start_time": "2021-10-31T14:45:46.120Z"
   },
   {
    "duration": 7,
    "start_time": "2021-10-31T14:45:46.129Z"
   },
   {
    "duration": 44,
    "start_time": "2021-10-31T14:45:46.137Z"
   },
   {
    "duration": 10,
    "start_time": "2021-10-31T14:45:46.183Z"
   },
   {
    "duration": 7,
    "start_time": "2021-10-31T14:45:46.194Z"
   },
   {
    "duration": 13,
    "start_time": "2021-10-31T14:45:46.203Z"
   },
   {
    "duration": 17,
    "start_time": "2021-10-31T14:45:46.218Z"
   },
   {
    "duration": 41,
    "start_time": "2021-10-31T14:45:46.237Z"
   },
   {
    "duration": 10,
    "start_time": "2021-10-31T14:45:46.284Z"
   },
   {
    "duration": 7,
    "start_time": "2021-10-31T14:45:46.296Z"
   },
   {
    "duration": 8,
    "start_time": "2021-10-31T14:45:46.305Z"
   },
   {
    "duration": 6,
    "start_time": "2021-10-31T14:45:46.315Z"
   },
   {
    "duration": 13,
    "start_time": "2021-10-31T14:45:46.322Z"
   },
   {
    "duration": 4,
    "start_time": "2021-10-31T14:45:46.337Z"
   },
   {
    "duration": 41,
    "start_time": "2021-10-31T14:45:46.342Z"
   },
   {
    "duration": 9,
    "start_time": "2021-10-31T14:45:46.385Z"
   },
   {
    "duration": 10,
    "start_time": "2021-10-31T14:45:46.395Z"
   },
   {
    "duration": 8,
    "start_time": "2021-10-31T14:45:46.407Z"
   },
   {
    "duration": 7,
    "start_time": "2021-10-31T14:45:46.416Z"
   },
   {
    "duration": 6,
    "start_time": "2021-10-31T14:45:46.425Z"
   },
   {
    "duration": 48,
    "start_time": "2021-10-31T14:45:46.433Z"
   },
   {
    "duration": 4,
    "start_time": "2021-10-31T14:45:46.483Z"
   },
   {
    "duration": 9,
    "start_time": "2021-10-31T14:45:46.488Z"
   },
   {
    "duration": 11,
    "start_time": "2021-10-31T14:45:46.498Z"
   },
   {
    "duration": 10,
    "start_time": "2021-10-31T14:45:46.511Z"
   },
   {
    "duration": 7,
    "start_time": "2021-10-31T14:45:46.522Z"
   },
   {
    "duration": 10,
    "start_time": "2021-10-31T14:45:46.531Z"
   },
   {
    "duration": 41,
    "start_time": "2021-10-31T14:45:46.542Z"
   },
   {
    "duration": 6,
    "start_time": "2021-10-31T14:45:46.585Z"
   },
   {
    "duration": 8,
    "start_time": "2021-10-31T14:45:46.593Z"
   },
   {
    "duration": 5,
    "start_time": "2021-10-31T14:45:46.602Z"
   },
   {
    "duration": 11,
    "start_time": "2021-10-31T14:45:46.608Z"
   },
   {
    "duration": 11,
    "start_time": "2021-10-31T14:50:59.509Z"
   },
   {
    "duration": 413,
    "start_time": "2021-11-01T08:00:26.874Z"
   },
   {
    "duration": 642,
    "start_time": "2021-11-01T08:00:48.531Z"
   },
   {
    "duration": 69,
    "start_time": "2021-11-01T08:00:49.175Z"
   },
   {
    "duration": 11,
    "start_time": "2021-11-01T08:00:49.246Z"
   },
   {
    "duration": 4,
    "start_time": "2021-11-01T08:00:49.258Z"
   },
   {
    "duration": 21,
    "start_time": "2021-11-01T08:00:49.264Z"
   },
   {
    "duration": 24,
    "start_time": "2021-11-01T08:00:49.286Z"
   },
   {
    "duration": 14,
    "start_time": "2021-11-01T08:00:49.312Z"
   },
   {
    "duration": 14,
    "start_time": "2021-11-01T08:00:49.329Z"
   },
   {
    "duration": 11,
    "start_time": "2021-11-01T08:00:49.345Z"
   },
   {
    "duration": 9,
    "start_time": "2021-11-01T08:00:49.358Z"
   },
   {
    "duration": 15,
    "start_time": "2021-11-01T08:00:49.369Z"
   },
   {
    "duration": 22,
    "start_time": "2021-11-01T08:00:49.386Z"
   },
   {
    "duration": 21,
    "start_time": "2021-11-01T08:00:49.409Z"
   },
   {
    "duration": 7,
    "start_time": "2021-11-01T08:00:49.431Z"
   },
   {
    "duration": 11,
    "start_time": "2021-11-01T08:00:49.440Z"
   },
   {
    "duration": 24,
    "start_time": "2021-11-01T08:00:49.453Z"
   },
   {
    "duration": 37,
    "start_time": "2021-11-01T08:00:49.479Z"
   },
   {
    "duration": 11,
    "start_time": "2021-11-01T08:00:49.517Z"
   },
   {
    "duration": 7,
    "start_time": "2021-11-01T08:00:49.530Z"
   },
   {
    "duration": 6,
    "start_time": "2021-11-01T08:00:49.538Z"
   },
   {
    "duration": 13,
    "start_time": "2021-11-01T08:00:49.545Z"
   },
   {
    "duration": 7,
    "start_time": "2021-11-01T08:00:49.559Z"
   },
   {
    "duration": 5,
    "start_time": "2021-11-01T08:00:49.570Z"
   },
   {
    "duration": 7,
    "start_time": "2021-11-01T08:00:49.608Z"
   },
   {
    "duration": 11,
    "start_time": "2021-11-01T08:00:49.617Z"
   },
   {
    "duration": 11,
    "start_time": "2021-11-01T08:00:49.630Z"
   },
   {
    "duration": 12,
    "start_time": "2021-11-01T08:00:49.643Z"
   },
   {
    "duration": 8,
    "start_time": "2021-11-01T08:00:49.656Z"
   },
   {
    "duration": 21,
    "start_time": "2021-11-01T08:00:49.666Z"
   },
   {
    "duration": 22,
    "start_time": "2021-11-01T08:00:49.688Z"
   },
   {
    "duration": 11,
    "start_time": "2021-11-01T08:00:49.711Z"
   },
   {
    "duration": 7,
    "start_time": "2021-11-01T08:00:49.724Z"
   },
   {
    "duration": 7,
    "start_time": "2021-11-01T08:00:49.732Z"
   },
   {
    "duration": 5,
    "start_time": "2021-11-01T08:00:49.740Z"
   },
   {
    "duration": 9,
    "start_time": "2021-11-01T08:00:49.746Z"
   },
   {
    "duration": 4,
    "start_time": "2021-11-01T08:00:49.757Z"
   },
   {
    "duration": 48,
    "start_time": "2021-11-01T08:00:49.762Z"
   },
   {
    "duration": 4,
    "start_time": "2021-11-01T08:00:49.812Z"
   },
   {
    "duration": 10,
    "start_time": "2021-11-01T08:00:49.818Z"
   },
   {
    "duration": 16,
    "start_time": "2021-11-01T08:00:49.829Z"
   },
   {
    "duration": 6,
    "start_time": "2021-11-01T08:00:49.847Z"
   },
   {
    "duration": 14,
    "start_time": "2021-11-01T08:00:49.855Z"
   },
   {
    "duration": 8,
    "start_time": "2021-11-01T08:00:49.871Z"
   },
   {
    "duration": 71,
    "start_time": "2021-11-01T08:00:49.881Z"
   },
   {
    "duration": 15,
    "start_time": "2021-11-01T08:00:49.954Z"
   },
   {
    "duration": 22,
    "start_time": "2021-11-01T08:00:49.970Z"
   },
   {
    "duration": 3721,
    "start_time": "2021-11-01T08:00:49.994Z"
   },
   {
    "duration": 10,
    "start_time": "2021-11-01T08:00:53.717Z"
   },
   {
    "duration": 23,
    "start_time": "2021-11-01T08:00:53.729Z"
   },
   {
    "duration": 6,
    "start_time": "2021-11-01T08:00:53.754Z"
   },
   {
    "duration": 8,
    "start_time": "2021-11-01T08:00:53.761Z"
   },
   {
    "duration": 16,
    "start_time": "2021-11-01T08:00:53.770Z"
   },
   {
    "duration": 19,
    "start_time": "2021-11-01T08:00:53.788Z"
   },
   {
    "duration": 30,
    "start_time": "2021-11-01T08:00:53.809Z"
   },
   {
    "duration": 15,
    "start_time": "2021-11-01T08:00:53.841Z"
   },
   {
    "duration": 15,
    "start_time": "2021-11-01T08:00:53.857Z"
   },
   {
    "duration": 16,
    "start_time": "2021-11-01T08:00:53.873Z"
   },
   {
    "duration": 10,
    "start_time": "2021-11-01T08:00:53.891Z"
   },
   {
    "duration": 34,
    "start_time": "2021-11-01T08:00:53.903Z"
   },
   {
    "duration": 36,
    "start_time": "2021-11-01T08:00:53.939Z"
   },
   {
    "duration": 32,
    "start_time": "2021-11-01T08:00:53.977Z"
   },
   {
    "duration": 20,
    "start_time": "2021-11-01T08:00:54.011Z"
   },
   {
    "duration": 19,
    "start_time": "2021-11-01T08:00:54.033Z"
   },
   {
    "duration": 16,
    "start_time": "2021-11-01T08:00:54.053Z"
   },
   {
    "duration": 16,
    "start_time": "2021-11-01T08:00:54.070Z"
   },
   {
    "duration": 20,
    "start_time": "2021-11-01T08:00:54.088Z"
   },
   {
    "duration": 7,
    "start_time": "2021-11-01T08:00:54.109Z"
   },
   {
    "duration": 21,
    "start_time": "2021-11-01T08:00:54.123Z"
   },
   {
    "duration": 7,
    "start_time": "2021-11-01T08:00:54.147Z"
   },
   {
    "duration": 23,
    "start_time": "2021-11-01T08:00:54.157Z"
   },
   {
    "duration": 20,
    "start_time": "2021-11-01T08:00:54.182Z"
   },
   {
    "duration": 12,
    "start_time": "2021-11-01T08:00:54.204Z"
   },
   {
    "duration": 10,
    "start_time": "2021-11-01T08:00:54.218Z"
   },
   {
    "duration": 11,
    "start_time": "2021-11-01T08:00:54.230Z"
   },
   {
    "duration": 8,
    "start_time": "2021-11-01T08:00:54.243Z"
   },
   {
    "duration": 17,
    "start_time": "2021-11-01T08:00:54.252Z"
   },
   {
    "duration": 19,
    "start_time": "2021-11-01T08:00:54.270Z"
   },
   {
    "duration": 19,
    "start_time": "2021-11-01T08:00:54.291Z"
   },
   {
    "duration": 26,
    "start_time": "2021-11-01T08:00:54.312Z"
   },
   {
    "duration": 18,
    "start_time": "2021-11-01T08:00:54.340Z"
   },
   {
    "duration": 13,
    "start_time": "2021-11-01T08:00:54.360Z"
   },
   {
    "duration": 13,
    "start_time": "2021-11-01T08:00:54.375Z"
   },
   {
    "duration": 20,
    "start_time": "2021-11-01T08:00:54.389Z"
   },
   {
    "duration": 9,
    "start_time": "2021-11-01T08:00:54.411Z"
   },
   {
    "duration": 13,
    "start_time": "2021-11-01T08:00:54.421Z"
   },
   {
    "duration": 25,
    "start_time": "2021-11-01T08:00:54.436Z"
   },
   {
    "duration": 18,
    "start_time": "2021-11-01T08:00:54.463Z"
   },
   {
    "duration": 16,
    "start_time": "2021-11-01T08:00:54.483Z"
   },
   {
    "duration": 14,
    "start_time": "2021-11-01T08:00:54.501Z"
   },
   {
    "duration": 12,
    "start_time": "2021-11-01T08:00:54.516Z"
   },
   {
    "duration": 19,
    "start_time": "2021-11-01T08:00:54.530Z"
   },
   {
    "duration": 10,
    "start_time": "2021-11-01T08:00:54.551Z"
   },
   {
    "duration": 9,
    "start_time": "2021-11-01T08:00:54.562Z"
   },
   {
    "duration": 38,
    "start_time": "2021-11-01T08:00:54.573Z"
   },
   {
    "duration": 4,
    "start_time": "2021-11-01T08:00:54.614Z"
   },
   {
    "duration": 18,
    "start_time": "2021-11-01T08:00:54.620Z"
   },
   {
    "duration": 15,
    "start_time": "2021-11-01T08:00:54.640Z"
   },
   {
    "duration": 11,
    "start_time": "2021-11-01T08:00:54.658Z"
   },
   {
    "duration": 37,
    "start_time": "2021-11-01T08:00:54.672Z"
   },
   {
    "duration": 9,
    "start_time": "2021-11-01T08:00:54.711Z"
   },
   {
    "duration": 12,
    "start_time": "2021-11-01T08:00:54.722Z"
   },
   {
    "duration": 13,
    "start_time": "2021-11-01T08:00:54.736Z"
   },
   {
    "duration": 8,
    "start_time": "2021-11-01T08:00:54.750Z"
   },
   {
    "duration": 14,
    "start_time": "2021-11-01T08:00:54.760Z"
   },
   {
    "duration": 6,
    "start_time": "2021-11-01T08:00:54.776Z"
   },
   {
    "duration": 27,
    "start_time": "2021-11-01T08:00:54.784Z"
   },
   {
    "duration": 4,
    "start_time": "2021-11-01T08:01:49.137Z"
   },
   {
    "duration": 110,
    "start_time": "2021-11-01T08:02:15.335Z"
   },
   {
    "duration": 121,
    "start_time": "2021-11-01T08:02:24.386Z"
   },
   {
    "duration": 123,
    "start_time": "2021-11-01T08:02:31.573Z"
   },
   {
    "duration": 407,
    "start_time": "2021-11-01T08:02:50.134Z"
   },
   {
    "duration": 5,
    "start_time": "2021-11-01T08:02:59.206Z"
   },
   {
    "duration": 4,
    "start_time": "2021-11-01T08:03:05.996Z"
   },
   {
    "duration": 3,
    "start_time": "2021-11-01T08:04:05.600Z"
   },
   {
    "duration": 109,
    "start_time": "2021-11-01T08:22:01.077Z"
   },
   {
    "duration": 9865,
    "start_time": "2021-11-01T08:23:41.863Z"
   },
   {
    "duration": 2161,
    "start_time": "2021-11-01T08:23:58.912Z"
   },
   {
    "duration": 347,
    "start_time": "2021-11-01T08:24:08.007Z"
   },
   {
    "duration": 570,
    "start_time": "2021-11-01T08:24:20.793Z"
   },
   {
    "duration": 894,
    "start_time": "2021-11-01T08:25:57.612Z"
   },
   {
    "duration": 402,
    "start_time": "2021-11-01T08:26:21.176Z"
   },
   {
    "duration": 8507,
    "start_time": "2021-11-01T08:26:42.730Z"
   },
   {
    "duration": 8939,
    "start_time": "2021-11-01T08:27:13.513Z"
   },
   {
    "duration": 3,
    "start_time": "2021-11-01T08:32:43.926Z"
   },
   {
    "duration": 17,
    "start_time": "2021-11-01T08:33:33.163Z"
   },
   {
    "duration": 4,
    "start_time": "2021-11-01T08:39:06.751Z"
   },
   {
    "duration": 18,
    "start_time": "2021-11-01T08:39:08.391Z"
   },
   {
    "duration": 18,
    "start_time": "2021-11-01T08:39:41.510Z"
   },
   {
    "duration": 354,
    "start_time": "2021-11-01T08:52:56.374Z"
   },
   {
    "duration": 365,
    "start_time": "2021-11-01T08:54:07.406Z"
   },
   {
    "duration": 336,
    "start_time": "2021-11-01T08:54:57.954Z"
   },
   {
    "duration": 355,
    "start_time": "2021-11-01T08:55:08.010Z"
   },
   {
    "duration": 350,
    "start_time": "2021-11-01T08:55:27.295Z"
   },
   {
    "duration": 497,
    "start_time": "2021-11-01T08:55:34.330Z"
   },
   {
    "duration": 342,
    "start_time": "2021-11-01T10:12:12.995Z"
   },
   {
    "duration": 377,
    "start_time": "2021-11-01T10:12:25.077Z"
   },
   {
    "duration": 347,
    "start_time": "2021-11-01T10:12:33.589Z"
   },
   {
    "duration": 347,
    "start_time": "2021-11-01T10:13:51.196Z"
   },
   {
    "duration": 76,
    "start_time": "2021-11-01T10:13:55.692Z"
   },
   {
    "duration": 355,
    "start_time": "2021-11-01T10:14:08.124Z"
   },
   {
    "duration": 352,
    "start_time": "2021-11-01T10:14:20.800Z"
   },
   {
    "duration": 20,
    "start_time": "2021-11-01T10:15:35.614Z"
   },
   {
    "duration": 746,
    "start_time": "2021-11-01T10:16:03.301Z"
   },
   {
    "duration": 362,
    "start_time": "2021-11-01T10:16:52.790Z"
   },
   {
    "duration": 15,
    "start_time": "2021-11-01T10:17:13.685Z"
   },
   {
    "duration": 353,
    "start_time": "2021-11-01T10:17:28.903Z"
   },
   {
    "duration": 342,
    "start_time": "2021-11-01T10:17:36.319Z"
   },
   {
    "duration": 14,
    "start_time": "2021-11-01T10:17:43.520Z"
   },
   {
    "duration": 112,
    "start_time": "2021-11-01T10:19:41.719Z"
   },
   {
    "duration": 406,
    "start_time": "2021-11-01T10:19:46.107Z"
   },
   {
    "duration": 886,
    "start_time": "2021-11-01T10:19:52.076Z"
   },
   {
    "duration": 499,
    "start_time": "2021-11-01T10:19:56.847Z"
   },
   {
    "duration": 987,
    "start_time": "2021-11-01T10:20:04.095Z"
   },
   {
    "duration": 15,
    "start_time": "2021-11-01T10:20:08.973Z"
   },
   {
    "duration": 636,
    "start_time": "2021-11-01T10:22:30.242Z"
   },
   {
    "duration": 67,
    "start_time": "2021-11-01T10:22:30.882Z"
   },
   {
    "duration": 11,
    "start_time": "2021-11-01T10:22:30.951Z"
   },
   {
    "duration": 38,
    "start_time": "2021-11-01T10:22:30.963Z"
   },
   {
    "duration": 39,
    "start_time": "2021-11-01T10:22:31.002Z"
   },
   {
    "duration": 23,
    "start_time": "2021-11-01T10:22:31.043Z"
   },
   {
    "duration": 35,
    "start_time": "2021-11-01T10:22:31.068Z"
   },
   {
    "duration": 29,
    "start_time": "2021-11-01T10:22:31.105Z"
   },
   {
    "duration": 38,
    "start_time": "2021-11-01T10:22:31.136Z"
   },
   {
    "duration": 21,
    "start_time": "2021-11-01T10:22:31.176Z"
   },
   {
    "duration": 46,
    "start_time": "2021-11-01T10:22:31.199Z"
   },
   {
    "duration": 43,
    "start_time": "2021-11-01T10:22:31.247Z"
   },
   {
    "duration": 41,
    "start_time": "2021-11-01T10:22:31.292Z"
   },
   {
    "duration": 12,
    "start_time": "2021-11-01T10:22:31.335Z"
   },
   {
    "duration": 35,
    "start_time": "2021-11-01T10:22:31.348Z"
   },
   {
    "duration": 43,
    "start_time": "2021-11-01T10:22:31.385Z"
   },
   {
    "duration": 25,
    "start_time": "2021-11-01T10:22:31.430Z"
   },
   {
    "duration": 29,
    "start_time": "2021-11-01T10:22:31.457Z"
   },
   {
    "duration": 40,
    "start_time": "2021-11-01T10:22:31.488Z"
   },
   {
    "duration": 18,
    "start_time": "2021-11-01T10:22:31.530Z"
   },
   {
    "duration": 26,
    "start_time": "2021-11-01T10:22:31.550Z"
   },
   {
    "duration": 22,
    "start_time": "2021-11-01T10:22:31.580Z"
   },
   {
    "duration": 21,
    "start_time": "2021-11-01T10:22:31.605Z"
   },
   {
    "duration": 20,
    "start_time": "2021-11-01T10:22:31.627Z"
   },
   {
    "duration": 33,
    "start_time": "2021-11-01T10:22:31.649Z"
   },
   {
    "duration": 46,
    "start_time": "2021-11-01T10:22:31.683Z"
   },
   {
    "duration": 24,
    "start_time": "2021-11-01T10:22:31.731Z"
   },
   {
    "duration": 29,
    "start_time": "2021-11-01T10:22:31.756Z"
   },
   {
    "duration": 33,
    "start_time": "2021-11-01T10:22:31.787Z"
   },
   {
    "duration": 46,
    "start_time": "2021-11-01T10:22:31.821Z"
   },
   {
    "duration": 35,
    "start_time": "2021-11-01T10:22:31.869Z"
   },
   {
    "duration": 10,
    "start_time": "2021-11-01T10:22:31.906Z"
   },
   {
    "duration": 29,
    "start_time": "2021-11-01T10:22:31.918Z"
   },
   {
    "duration": 27,
    "start_time": "2021-11-01T10:22:31.949Z"
   },
   {
    "duration": 27,
    "start_time": "2021-11-01T10:22:31.978Z"
   },
   {
    "duration": 51,
    "start_time": "2021-11-01T10:22:32.007Z"
   },
   {
    "duration": 24,
    "start_time": "2021-11-01T10:22:32.059Z"
   },
   {
    "duration": 21,
    "start_time": "2021-11-01T10:22:32.084Z"
   },
   {
    "duration": 47,
    "start_time": "2021-11-01T10:22:32.107Z"
   },
   {
    "duration": 51,
    "start_time": "2021-11-01T10:22:32.155Z"
   },
   {
    "duration": 11,
    "start_time": "2021-11-01T10:22:32.208Z"
   },
   {
    "duration": 10,
    "start_time": "2021-11-01T10:22:32.220Z"
   },
   {
    "duration": 5,
    "start_time": "2021-11-01T10:22:32.232Z"
   },
   {
    "duration": 11,
    "start_time": "2021-11-01T10:22:32.239Z"
   },
   {
    "duration": 17,
    "start_time": "2021-11-01T10:22:32.251Z"
   },
   {
    "duration": 13,
    "start_time": "2021-11-01T10:22:32.270Z"
   },
   {
    "duration": 28,
    "start_time": "2021-11-01T10:22:32.285Z"
   },
   {
    "duration": 4121,
    "start_time": "2021-11-01T10:22:32.315Z"
   },
   {
    "duration": 10,
    "start_time": "2021-11-01T10:22:36.438Z"
   },
   {
    "duration": 17,
    "start_time": "2021-11-01T10:22:36.450Z"
   },
   {
    "duration": 7,
    "start_time": "2021-11-01T10:22:36.469Z"
   },
   {
    "duration": 29,
    "start_time": "2021-11-01T10:22:36.478Z"
   },
   {
    "duration": 17,
    "start_time": "2021-11-01T10:22:36.509Z"
   },
   {
    "duration": 13,
    "start_time": "2021-11-01T10:22:36.528Z"
   },
   {
    "duration": 12,
    "start_time": "2021-11-01T10:22:36.542Z"
   },
   {
    "duration": 10,
    "start_time": "2021-11-01T10:22:36.556Z"
   },
   {
    "duration": 9,
    "start_time": "2021-11-01T10:22:36.568Z"
   },
   {
    "duration": 29,
    "start_time": "2021-11-01T10:22:36.579Z"
   },
   {
    "duration": 35,
    "start_time": "2021-11-01T10:22:36.610Z"
   },
   {
    "duration": 8,
    "start_time": "2021-11-01T10:22:36.647Z"
   },
   {
    "duration": 11,
    "start_time": "2021-11-01T10:22:36.657Z"
   },
   {
    "duration": 20,
    "start_time": "2021-11-01T10:22:36.670Z"
   },
   {
    "duration": 11,
    "start_time": "2021-11-01T10:22:36.692Z"
   },
   {
    "duration": 35,
    "start_time": "2021-11-01T10:22:36.705Z"
   },
   {
    "duration": 8,
    "start_time": "2021-11-01T10:22:36.742Z"
   },
   {
    "duration": 8,
    "start_time": "2021-11-01T10:22:36.752Z"
   },
   {
    "duration": 8,
    "start_time": "2021-11-01T10:22:36.766Z"
   },
   {
    "duration": 9,
    "start_time": "2021-11-01T10:22:36.776Z"
   },
   {
    "duration": 12,
    "start_time": "2021-11-01T10:22:36.787Z"
   },
   {
    "duration": 9,
    "start_time": "2021-11-01T10:22:36.801Z"
   },
   {
    "duration": 14,
    "start_time": "2021-11-01T10:22:36.812Z"
   },
   {
    "duration": 12,
    "start_time": "2021-11-01T10:22:36.828Z"
   },
   {
    "duration": 10,
    "start_time": "2021-11-01T10:22:36.842Z"
   },
   {
    "duration": 8,
    "start_time": "2021-11-01T10:22:36.854Z"
   },
   {
    "duration": 12,
    "start_time": "2021-11-01T10:22:36.863Z"
   },
   {
    "duration": 34,
    "start_time": "2021-11-01T10:22:36.877Z"
   },
   {
    "duration": 10,
    "start_time": "2021-11-01T10:22:36.912Z"
   },
   {
    "duration": 14,
    "start_time": "2021-11-01T10:22:36.924Z"
   },
   {
    "duration": 14,
    "start_time": "2021-11-01T10:22:36.939Z"
   },
   {
    "duration": 29,
    "start_time": "2021-11-01T10:22:36.954Z"
   },
   {
    "duration": 32,
    "start_time": "2021-11-01T10:22:36.985Z"
   },
   {
    "duration": 16,
    "start_time": "2021-11-01T10:22:37.019Z"
   },
   {
    "duration": 11,
    "start_time": "2021-11-01T10:22:37.037Z"
   },
   {
    "duration": 31,
    "start_time": "2021-11-01T10:22:37.049Z"
   },
   {
    "duration": 12,
    "start_time": "2021-11-01T10:22:37.082Z"
   },
   {
    "duration": 14,
    "start_time": "2021-11-01T10:22:37.096Z"
   },
   {
    "duration": 12,
    "start_time": "2021-11-01T10:22:37.112Z"
   },
   {
    "duration": 8,
    "start_time": "2021-11-01T10:22:37.125Z"
   },
   {
    "duration": 17,
    "start_time": "2021-11-01T10:22:37.134Z"
   },
   {
    "duration": 5,
    "start_time": "2021-11-01T10:22:37.153Z"
   },
   {
    "duration": 33,
    "start_time": "2021-11-01T10:22:37.160Z"
   },
   {
    "duration": 19,
    "start_time": "2021-11-01T10:22:37.195Z"
   },
   {
    "duration": 16,
    "start_time": "2021-11-01T10:22:37.216Z"
   },
   {
    "duration": 8,
    "start_time": "2021-11-01T10:22:37.234Z"
   },
   {
    "duration": 9,
    "start_time": "2021-11-01T10:22:37.244Z"
   },
   {
    "duration": 12,
    "start_time": "2021-11-01T10:22:37.254Z"
   },
   {
    "duration": 9,
    "start_time": "2021-11-01T10:22:37.268Z"
   },
   {
    "duration": 29,
    "start_time": "2021-11-01T10:22:37.278Z"
   },
   {
    "duration": 11,
    "start_time": "2021-11-01T10:22:37.309Z"
   },
   {
    "duration": 22,
    "start_time": "2021-11-01T10:22:37.322Z"
   },
   {
    "duration": 11,
    "start_time": "2021-11-01T10:22:37.345Z"
   },
   {
    "duration": 17,
    "start_time": "2021-11-01T10:22:37.358Z"
   },
   {
    "duration": 30,
    "start_time": "2021-11-01T10:22:37.377Z"
   },
   {
    "duration": 8,
    "start_time": "2021-11-01T10:22:37.409Z"
   },
   {
    "duration": 18,
    "start_time": "2021-11-01T10:22:37.418Z"
   },
   {
    "duration": 11,
    "start_time": "2021-11-01T10:22:37.437Z"
   },
   {
    "duration": 7,
    "start_time": "2021-11-01T10:22:37.449Z"
   },
   {
    "duration": 10,
    "start_time": "2021-11-01T10:22:37.458Z"
   },
   {
    "duration": 5,
    "start_time": "2021-11-01T10:22:37.470Z"
   },
   {
    "duration": 12,
    "start_time": "2021-11-01T10:22:37.477Z"
   },
   {
    "duration": 597,
    "start_time": "2022-05-21T21:57:28.022Z"
   },
   {
    "duration": 276,
    "start_time": "2022-05-21T21:57:28.621Z"
   },
   {
    "duration": 19,
    "start_time": "2022-05-21T21:57:28.899Z"
   },
   {
    "duration": 8,
    "start_time": "2022-05-21T21:57:28.921Z"
   },
   {
    "duration": 108,
    "start_time": "2022-05-21T21:57:28.931Z"
   },
   {
    "duration": 22,
    "start_time": "2022-05-21T21:57:29.041Z"
   },
   {
    "duration": 132,
    "start_time": "2022-05-21T21:57:29.065Z"
   },
   {
    "duration": 88,
    "start_time": "2022-05-21T21:57:29.200Z"
   },
   {
    "duration": 37,
    "start_time": "2022-05-21T21:57:29.291Z"
   },
   {
    "duration": 73,
    "start_time": "2022-05-21T21:57:29.336Z"
   },
   {
    "duration": 79,
    "start_time": "2022-05-21T21:57:29.411Z"
   },
   {
    "duration": 52,
    "start_time": "2022-05-21T21:57:29.492Z"
   },
   {
    "duration": 112,
    "start_time": "2022-05-21T21:57:29.545Z"
   },
   {
    "duration": 58,
    "start_time": "2022-05-21T21:57:29.660Z"
   },
   {
    "duration": 89,
    "start_time": "2022-05-21T21:57:29.720Z"
   },
   {
    "duration": 30,
    "start_time": "2022-05-21T21:57:29.811Z"
   },
   {
    "duration": 71,
    "start_time": "2022-05-21T21:57:29.845Z"
   },
   {
    "duration": 31,
    "start_time": "2022-05-21T21:57:29.918Z"
   },
   {
    "duration": 56,
    "start_time": "2022-05-21T21:57:29.950Z"
   },
   {
    "duration": 31,
    "start_time": "2022-05-21T21:57:30.008Z"
   },
   {
    "duration": 68,
    "start_time": "2022-05-21T21:57:30.052Z"
   },
   {
    "duration": 65,
    "start_time": "2022-05-21T21:57:30.122Z"
   },
   {
    "duration": 25,
    "start_time": "2022-05-21T21:57:30.190Z"
   },
   {
    "duration": 111,
    "start_time": "2022-05-21T21:57:30.217Z"
   },
   {
    "duration": 82,
    "start_time": "2022-05-21T21:57:30.330Z"
   },
   {
    "duration": 74,
    "start_time": "2022-05-21T21:57:30.415Z"
   },
   {
    "duration": 35,
    "start_time": "2022-05-21T21:57:30.491Z"
   },
   {
    "duration": 24,
    "start_time": "2022-05-21T21:57:30.531Z"
   },
   {
    "duration": 136,
    "start_time": "2022-05-21T21:57:30.557Z"
   },
   {
    "duration": 59,
    "start_time": "2022-05-21T21:57:30.696Z"
   },
   {
    "duration": 84,
    "start_time": "2022-05-21T21:57:30.762Z"
   },
   {
    "duration": 46,
    "start_time": "2022-05-21T21:57:30.848Z"
   },
   {
    "duration": 86,
    "start_time": "2022-05-21T21:57:30.922Z"
   },
   {
    "duration": 19,
    "start_time": "2022-05-21T21:57:31.010Z"
   },
   {
    "duration": 89,
    "start_time": "2022-05-21T21:57:31.031Z"
   },
   {
    "duration": 40,
    "start_time": "2022-05-21T21:57:31.121Z"
   },
   {
    "duration": 84,
    "start_time": "2022-05-21T21:57:31.163Z"
   },
   {
    "duration": 9,
    "start_time": "2022-05-21T21:57:31.249Z"
   },
   {
    "duration": 88,
    "start_time": "2022-05-21T21:57:31.260Z"
   },
   {
    "duration": 95,
    "start_time": "2022-05-21T21:57:31.350Z"
   },
   {
    "duration": 53,
    "start_time": "2022-05-21T21:57:31.448Z"
   },
   {
    "duration": 15,
    "start_time": "2022-05-21T21:57:31.503Z"
   },
   {
    "duration": 14,
    "start_time": "2022-05-21T21:57:31.528Z"
   },
   {
    "duration": 60,
    "start_time": "2022-05-21T21:57:31.545Z"
   },
   {
    "duration": 10,
    "start_time": "2022-05-21T21:57:31.607Z"
   },
   {
    "duration": 59,
    "start_time": "2022-05-21T21:57:31.619Z"
   },
   {
    "duration": 68,
    "start_time": "2022-05-21T21:57:31.681Z"
   },
   {
    "duration": 4979,
    "start_time": "2022-05-21T21:57:31.751Z"
   },
   {
    "duration": 13,
    "start_time": "2022-05-21T21:57:36.732Z"
   },
   {
    "duration": 66,
    "start_time": "2022-05-21T21:57:36.748Z"
   },
   {
    "duration": 13,
    "start_time": "2022-05-21T21:57:36.816Z"
   },
   {
    "duration": 53,
    "start_time": "2022-05-21T21:57:36.830Z"
   },
   {
    "duration": 18,
    "start_time": "2022-05-21T21:57:36.886Z"
   },
   {
    "duration": 10,
    "start_time": "2022-05-21T21:57:36.906Z"
   },
   {
    "duration": 28,
    "start_time": "2022-05-21T21:57:36.918Z"
   },
   {
    "duration": 59,
    "start_time": "2022-05-21T21:57:36.950Z"
   },
   {
    "duration": 8,
    "start_time": "2022-05-21T21:57:37.010Z"
   },
   {
    "duration": 13,
    "start_time": "2022-05-21T21:57:37.020Z"
   },
   {
    "duration": 49,
    "start_time": "2022-05-21T21:57:37.051Z"
   },
   {
    "duration": 8,
    "start_time": "2022-05-21T21:57:37.102Z"
   },
   {
    "duration": 6,
    "start_time": "2022-05-21T21:57:37.112Z"
   },
   {
    "duration": 58,
    "start_time": "2022-05-21T21:57:37.120Z"
   },
   {
    "duration": 25,
    "start_time": "2022-05-21T21:57:37.181Z"
   },
   {
    "duration": 8,
    "start_time": "2022-05-21T21:57:37.209Z"
   },
   {
    "duration": 8,
    "start_time": "2022-05-21T21:57:37.219Z"
   },
   {
    "duration": 68,
    "start_time": "2022-05-21T21:57:37.228Z"
   },
   {
    "duration": 7,
    "start_time": "2022-05-21T21:57:37.298Z"
   },
   {
    "duration": 5,
    "start_time": "2022-05-21T21:57:37.307Z"
   },
   {
    "duration": 19,
    "start_time": "2022-05-21T21:57:37.314Z"
   },
   {
    "duration": 77,
    "start_time": "2022-05-21T21:57:37.335Z"
   },
   {
    "duration": 32,
    "start_time": "2022-05-21T21:57:37.414Z"
   },
   {
    "duration": 58,
    "start_time": "2022-05-21T21:57:37.448Z"
   },
   {
    "duration": 20,
    "start_time": "2022-05-21T21:57:37.508Z"
   },
   {
    "duration": 73,
    "start_time": "2022-05-21T21:57:37.531Z"
   },
   {
    "duration": 10,
    "start_time": "2022-05-21T21:57:37.606Z"
   },
   {
    "duration": 20,
    "start_time": "2022-05-21T21:57:37.618Z"
   },
   {
    "duration": 67,
    "start_time": "2022-05-21T21:57:37.640Z"
   },
   {
    "duration": 11,
    "start_time": "2022-05-21T21:57:37.709Z"
   },
   {
    "duration": 86,
    "start_time": "2022-05-21T21:57:37.722Z"
   },
   {
    "duration": 21,
    "start_time": "2022-05-21T21:57:37.810Z"
   },
   {
    "duration": 80,
    "start_time": "2022-05-21T21:57:37.836Z"
   },
   {
    "duration": 30,
    "start_time": "2022-05-21T21:57:37.925Z"
   },
   {
    "duration": 63,
    "start_time": "2022-05-21T21:57:37.959Z"
   },
   {
    "duration": 61,
    "start_time": "2022-05-21T21:57:38.025Z"
   },
   {
    "duration": 23,
    "start_time": "2022-05-21T21:57:38.088Z"
   },
   {
    "duration": 7,
    "start_time": "2022-05-21T21:57:38.115Z"
   },
   {
    "duration": 82,
    "start_time": "2022-05-21T21:57:38.124Z"
   },
   {
    "duration": 36,
    "start_time": "2022-05-21T21:57:38.208Z"
   },
   {
    "duration": 64,
    "start_time": "2022-05-21T21:57:38.246Z"
   },
   {
    "duration": 6,
    "start_time": "2022-05-21T21:57:38.312Z"
   },
   {
    "duration": 51,
    "start_time": "2022-05-21T21:57:38.320Z"
   },
   {
    "duration": 34,
    "start_time": "2022-05-21T21:57:38.375Z"
   },
   {
    "duration": 16,
    "start_time": "2022-05-21T21:57:38.410Z"
   },
   {
    "duration": 63,
    "start_time": "2022-05-21T21:57:38.427Z"
   },
   {
    "duration": 16,
    "start_time": "2022-05-21T21:57:38.492Z"
   },
   {
    "duration": 10,
    "start_time": "2022-05-21T21:57:38.510Z"
   },
   {
    "duration": 61,
    "start_time": "2022-05-21T21:57:38.521Z"
   },
   {
    "duration": 21,
    "start_time": "2022-05-21T21:57:38.583Z"
   },
   {
    "duration": 12,
    "start_time": "2022-05-21T21:57:38.606Z"
   },
   {
    "duration": 50,
    "start_time": "2022-05-21T21:57:38.620Z"
   },
   {
    "duration": 39,
    "start_time": "2022-05-21T21:57:38.672Z"
   },
   {
    "duration": 11,
    "start_time": "2022-05-21T21:57:38.713Z"
   },
   {
    "duration": 63,
    "start_time": "2022-05-21T21:57:38.726Z"
   },
   {
    "duration": 29,
    "start_time": "2022-05-21T21:57:38.790Z"
   },
   {
    "duration": 77,
    "start_time": "2022-05-21T21:57:38.821Z"
   },
   {
    "duration": 16,
    "start_time": "2022-05-21T21:57:38.903Z"
   },
   {
    "duration": 92,
    "start_time": "2022-05-21T21:57:38.922Z"
   },
   {
    "duration": 17,
    "start_time": "2022-05-21T21:57:39.016Z"
   },
   {
    "duration": 70,
    "start_time": "2022-05-21T21:57:39.035Z"
   },
   {
    "duration": 43,
    "start_time": "2022-05-21T21:57:39.108Z"
   },
   {
    "duration": 19,
    "start_time": "2022-05-21T22:00:30.543Z"
   },
   {
    "duration": 3,
    "start_time": "2022-05-21T22:01:12.603Z"
   },
   {
    "duration": 166,
    "start_time": "2022-05-21T22:01:12.608Z"
   },
   {
    "duration": 29,
    "start_time": "2022-05-21T22:01:12.776Z"
   },
   {
    "duration": 6,
    "start_time": "2022-05-21T22:01:12.807Z"
   },
   {
    "duration": 94,
    "start_time": "2022-05-21T22:01:12.817Z"
   },
   {
    "duration": 32,
    "start_time": "2022-05-21T22:01:12.913Z"
   },
   {
    "duration": 70,
    "start_time": "2022-05-21T22:01:12.951Z"
   },
   {
    "duration": 65,
    "start_time": "2022-05-21T22:01:13.033Z"
   },
   {
    "duration": 15,
    "start_time": "2022-05-21T22:01:13.100Z"
   },
   {
    "duration": 40,
    "start_time": "2022-05-21T22:01:13.117Z"
   },
   {
    "duration": 34,
    "start_time": "2022-05-21T22:01:13.160Z"
   },
   {
    "duration": 22,
    "start_time": "2022-05-21T22:01:13.196Z"
   },
   {
    "duration": 53,
    "start_time": "2022-05-21T22:01:13.221Z"
   },
   {
    "duration": 26,
    "start_time": "2022-05-21T22:01:13.278Z"
   },
   {
    "duration": 8,
    "start_time": "2022-05-21T22:01:13.306Z"
   },
   {
    "duration": 34,
    "start_time": "2022-05-21T22:01:13.316Z"
   },
   {
    "duration": 53,
    "start_time": "2022-05-21T22:01:13.351Z"
   },
   {
    "duration": 15,
    "start_time": "2022-05-21T22:01:13.407Z"
   },
   {
    "duration": 61,
    "start_time": "2022-05-21T22:01:13.424Z"
   },
   {
    "duration": 8,
    "start_time": "2022-05-21T22:01:13.487Z"
   },
   {
    "duration": 18,
    "start_time": "2022-05-21T22:01:13.497Z"
   },
   {
    "duration": 552,
    "start_time": "2022-05-21T22:01:24.424Z"
   },
   {
    "duration": 104,
    "start_time": "2022-05-21T22:01:24.981Z"
   },
   {
    "duration": 38,
    "start_time": "2022-05-21T22:01:25.087Z"
   },
   {
    "duration": 31,
    "start_time": "2022-05-21T22:01:25.127Z"
   },
   {
    "duration": 70,
    "start_time": "2022-05-21T22:01:25.175Z"
   },
   {
    "duration": 12,
    "start_time": "2022-05-21T22:01:25.253Z"
   },
   {
    "duration": 84,
    "start_time": "2022-05-21T22:01:25.267Z"
   },
   {
    "duration": 81,
    "start_time": "2022-05-21T22:01:25.353Z"
   },
   {
    "duration": 61,
    "start_time": "2022-05-21T22:01:25.436Z"
   },
   {
    "duration": 24,
    "start_time": "2022-05-21T22:01:25.522Z"
   },
   {
    "duration": 47,
    "start_time": "2022-05-21T22:01:25.548Z"
   },
   {
    "duration": 41,
    "start_time": "2022-05-21T22:01:25.597Z"
   },
   {
    "duration": 32,
    "start_time": "2022-05-21T22:01:25.639Z"
   },
   {
    "duration": 62,
    "start_time": "2022-05-21T22:01:25.672Z"
   },
   {
    "duration": 64,
    "start_time": "2022-05-21T22:01:25.735Z"
   },
   {
    "duration": 66,
    "start_time": "2022-05-21T22:01:25.801Z"
   },
   {
    "duration": 101,
    "start_time": "2022-05-21T22:01:25.872Z"
   },
   {
    "duration": 27,
    "start_time": "2022-05-21T22:01:25.975Z"
   },
   {
    "duration": 27,
    "start_time": "2022-05-21T22:01:26.004Z"
   },
   {
    "duration": 41,
    "start_time": "2022-05-21T22:01:26.039Z"
   },
   {
    "duration": 60,
    "start_time": "2022-05-21T22:01:26.082Z"
   },
   {
    "duration": 7,
    "start_time": "2022-05-21T22:01:26.143Z"
   },
   {
    "duration": 82,
    "start_time": "2022-05-21T22:01:26.152Z"
   },
   {
    "duration": 73,
    "start_time": "2022-05-21T22:01:26.236Z"
   },
   {
    "duration": 66,
    "start_time": "2022-05-21T22:01:26.325Z"
   },
   {
    "duration": 54,
    "start_time": "2022-05-21T22:01:26.393Z"
   },
   {
    "duration": 34,
    "start_time": "2022-05-21T22:01:26.449Z"
   },
   {
    "duration": 23,
    "start_time": "2022-05-21T22:01:26.523Z"
   },
   {
    "duration": 82,
    "start_time": "2022-05-21T22:01:26.549Z"
   },
   {
    "duration": 53,
    "start_time": "2022-05-21T22:01:26.633Z"
   },
   {
    "duration": 61,
    "start_time": "2022-05-21T22:01:26.688Z"
   },
   {
    "duration": 44,
    "start_time": "2022-05-21T22:01:26.754Z"
   },
   {
    "duration": 17,
    "start_time": "2022-05-21T22:01:26.830Z"
   },
   {
    "duration": 22,
    "start_time": "2022-05-21T22:01:26.850Z"
   },
   {
    "duration": 55,
    "start_time": "2022-05-21T22:01:26.875Z"
   },
   {
    "duration": 104,
    "start_time": "2022-05-21T22:01:26.932Z"
   },
   {
    "duration": 70,
    "start_time": "2022-05-21T22:01:27.038Z"
   },
   {
    "duration": 10,
    "start_time": "2022-05-21T22:01:27.128Z"
   },
   {
    "duration": 65,
    "start_time": "2022-05-21T22:01:27.144Z"
   },
   {
    "duration": 24,
    "start_time": "2022-05-21T22:01:27.211Z"
   },
   {
    "duration": 8,
    "start_time": "2022-05-21T22:01:27.237Z"
   },
   {
    "duration": 39,
    "start_time": "2022-05-21T22:01:27.248Z"
   },
   {
    "duration": 3,
    "start_time": "2022-05-21T22:01:27.290Z"
   },
   {
    "duration": 8,
    "start_time": "2022-05-21T22:01:27.295Z"
   },
   {
    "duration": 10,
    "start_time": "2022-05-21T22:01:27.305Z"
   },
   {
    "duration": 21,
    "start_time": "2022-05-21T22:01:27.317Z"
   },
   {
    "duration": 34,
    "start_time": "2022-05-21T22:01:27.358Z"
   },
   {
    "duration": 5033,
    "start_time": "2022-05-21T22:01:27.394Z"
   },
   {
    "duration": 17,
    "start_time": "2022-05-21T22:01:32.430Z"
   },
   {
    "duration": 97,
    "start_time": "2022-05-21T22:01:32.450Z"
   },
   {
    "duration": 9,
    "start_time": "2022-05-21T22:01:32.553Z"
   },
   {
    "duration": 27,
    "start_time": "2022-05-21T22:01:32.563Z"
   },
   {
    "duration": 61,
    "start_time": "2022-05-21T22:01:32.592Z"
   },
   {
    "duration": 91,
    "start_time": "2022-05-21T22:01:32.655Z"
   },
   {
    "duration": 79,
    "start_time": "2022-05-21T22:01:32.748Z"
   },
   {
    "duration": 102,
    "start_time": "2022-05-21T22:01:32.829Z"
   },
   {
    "duration": 18,
    "start_time": "2022-05-21T22:01:32.934Z"
   },
   {
    "duration": 72,
    "start_time": "2022-05-21T22:01:32.954Z"
   },
   {
    "duration": 43,
    "start_time": "2022-05-21T22:01:33.028Z"
   },
   {
    "duration": 49,
    "start_time": "2022-05-21T22:01:33.075Z"
   },
   {
    "duration": 73,
    "start_time": "2022-05-21T22:01:33.127Z"
   },
   {
    "duration": 9,
    "start_time": "2022-05-21T22:01:33.202Z"
   },
   {
    "duration": 79,
    "start_time": "2022-05-21T22:01:33.222Z"
   },
   {
    "duration": 103,
    "start_time": "2022-05-21T22:01:33.303Z"
   },
   {
    "duration": 39,
    "start_time": "2022-05-21T22:01:33.408Z"
   },
   {
    "duration": 41,
    "start_time": "2022-05-21T22:01:33.450Z"
   },
   {
    "duration": 8,
    "start_time": "2022-05-21T22:01:33.493Z"
   },
   {
    "duration": 3,
    "start_time": "2022-05-21T22:01:33.503Z"
   },
   {
    "duration": 12,
    "start_time": "2022-05-21T22:01:33.508Z"
   },
   {
    "duration": 63,
    "start_time": "2022-05-21T22:01:33.523Z"
   },
   {
    "duration": 14,
    "start_time": "2022-05-21T22:01:33.588Z"
   },
   {
    "duration": 11,
    "start_time": "2022-05-21T22:01:33.604Z"
   },
   {
    "duration": 16,
    "start_time": "2022-05-21T22:01:33.617Z"
   },
   {
    "duration": 61,
    "start_time": "2022-05-21T22:01:33.634Z"
   },
   {
    "duration": 19,
    "start_time": "2022-05-21T22:01:33.696Z"
   },
   {
    "duration": 23,
    "start_time": "2022-05-21T22:01:33.717Z"
   },
   {
    "duration": 39,
    "start_time": "2022-05-21T22:01:33.750Z"
   },
   {
    "duration": 9,
    "start_time": "2022-05-21T22:01:33.791Z"
   },
   {
    "duration": 15,
    "start_time": "2022-05-21T22:01:33.802Z"
   },
   {
    "duration": 66,
    "start_time": "2022-05-21T22:01:33.819Z"
   },
   {
    "duration": 19,
    "start_time": "2022-05-21T22:01:33.887Z"
   },
   {
    "duration": 25,
    "start_time": "2022-05-21T22:01:33.915Z"
   },
   {
    "duration": 69,
    "start_time": "2022-05-21T22:01:33.942Z"
   },
   {
    "duration": 8,
    "start_time": "2022-05-21T22:01:34.014Z"
   },
   {
    "duration": 75,
    "start_time": "2022-05-21T22:01:34.023Z"
   },
   {
    "duration": 19,
    "start_time": "2022-05-21T22:01:34.100Z"
   },
   {
    "duration": 57,
    "start_time": "2022-05-21T22:01:34.122Z"
   },
   {
    "duration": 14,
    "start_time": "2022-05-21T22:01:34.180Z"
   },
   {
    "duration": 15,
    "start_time": "2022-05-21T22:01:34.195Z"
   },
   {
    "duration": 9,
    "start_time": "2022-05-21T22:01:34.211Z"
   },
   {
    "duration": 72,
    "start_time": "2022-05-21T22:01:34.222Z"
   },
   {
    "duration": 9,
    "start_time": "2022-05-21T22:01:34.296Z"
   },
   {
    "duration": 30,
    "start_time": "2022-05-21T22:01:34.307Z"
   },
   {
    "duration": 52,
    "start_time": "2022-05-21T22:01:34.339Z"
   },
   {
    "duration": 8,
    "start_time": "2022-05-21T22:01:34.393Z"
   },
   {
    "duration": 9,
    "start_time": "2022-05-21T22:01:34.403Z"
   },
   {
    "duration": 13,
    "start_time": "2022-05-21T22:01:34.414Z"
   },
   {
    "duration": 50,
    "start_time": "2022-05-21T22:01:34.439Z"
   },
   {
    "duration": 14,
    "start_time": "2022-05-21T22:01:34.491Z"
   },
   {
    "duration": 23,
    "start_time": "2022-05-21T22:01:34.507Z"
   },
   {
    "duration": 22,
    "start_time": "2022-05-21T22:01:34.532Z"
   },
   {
    "duration": 29,
    "start_time": "2022-05-21T22:01:34.556Z"
   },
   {
    "duration": 17,
    "start_time": "2022-05-21T22:01:34.587Z"
   },
   {
    "duration": 10,
    "start_time": "2022-05-21T22:01:34.606Z"
   },
   {
    "duration": 49,
    "start_time": "2022-05-21T22:01:34.618Z"
   },
   {
    "duration": 20,
    "start_time": "2022-05-21T22:01:34.669Z"
   },
   {
    "duration": 5,
    "start_time": "2022-05-21T22:01:34.691Z"
   },
   {
    "duration": 10,
    "start_time": "2022-05-21T22:01:34.697Z"
   },
   {
    "duration": 6,
    "start_time": "2022-05-21T22:01:34.708Z"
   },
   {
    "duration": 19,
    "start_time": "2022-05-21T22:01:34.715Z"
   },
   {
    "duration": 14,
    "start_time": "2022-05-21T22:08:15.267Z"
   },
   {
    "duration": 9,
    "start_time": "2022-05-21T22:09:28.084Z"
   },
   {
    "duration": 9,
    "start_time": "2022-05-21T22:09:36.280Z"
   },
   {
    "duration": 11,
    "start_time": "2022-05-21T22:10:06.855Z"
   },
   {
    "duration": 9,
    "start_time": "2022-05-21T22:10:13.093Z"
   },
   {
    "duration": 10,
    "start_time": "2022-05-21T22:10:20.825Z"
   },
   {
    "duration": 533,
    "start_time": "2022-05-21T22:17:19.079Z"
   },
   {
    "duration": 99,
    "start_time": "2022-05-21T22:17:19.614Z"
   },
   {
    "duration": 17,
    "start_time": "2022-05-21T22:17:19.715Z"
   },
   {
    "duration": 35,
    "start_time": "2022-05-21T22:17:19.734Z"
   },
   {
    "duration": 21,
    "start_time": "2022-05-21T22:17:19.771Z"
   },
   {
    "duration": 7,
    "start_time": "2022-05-21T22:17:19.794Z"
   },
   {
    "duration": 13,
    "start_time": "2022-05-21T22:17:19.803Z"
   },
   {
    "duration": 11,
    "start_time": "2022-05-21T22:17:19.818Z"
   },
   {
    "duration": 37,
    "start_time": "2022-05-21T22:17:19.831Z"
   },
   {
    "duration": 5,
    "start_time": "2022-05-21T22:17:19.871Z"
   },
   {
    "duration": 8,
    "start_time": "2022-05-21T22:17:19.878Z"
   },
   {
    "duration": 12,
    "start_time": "2022-05-21T22:17:19.888Z"
   },
   {
    "duration": 17,
    "start_time": "2022-05-21T22:17:19.901Z"
   },
   {
    "duration": 25,
    "start_time": "2022-05-21T22:17:19.919Z"
   },
   {
    "duration": 33,
    "start_time": "2022-05-21T22:17:19.946Z"
   },
   {
    "duration": 22,
    "start_time": "2022-05-21T22:17:19.980Z"
   },
   {
    "duration": 32,
    "start_time": "2022-05-21T22:17:20.004Z"
   },
   {
    "duration": 19,
    "start_time": "2022-05-21T22:17:20.048Z"
   },
   {
    "duration": 8,
    "start_time": "2022-05-21T22:17:20.068Z"
   },
   {
    "duration": 10,
    "start_time": "2022-05-21T22:17:20.078Z"
   },
   {
    "duration": 14,
    "start_time": "2022-05-21T22:17:20.090Z"
   },
   {
    "duration": 5,
    "start_time": "2022-05-21T22:17:20.106Z"
   },
   {
    "duration": 26,
    "start_time": "2022-05-21T22:17:20.113Z"
   },
   {
    "duration": 20,
    "start_time": "2022-05-21T22:17:20.141Z"
   },
   {
    "duration": 11,
    "start_time": "2022-05-21T22:17:20.162Z"
   },
   {
    "duration": 11,
    "start_time": "2022-05-21T22:17:20.175Z"
   },
   {
    "duration": 12,
    "start_time": "2022-05-21T22:17:20.188Z"
   },
   {
    "duration": 7,
    "start_time": "2022-05-21T22:17:20.204Z"
   },
   {
    "duration": 11,
    "start_time": "2022-05-21T22:17:20.213Z"
   },
   {
    "duration": 33,
    "start_time": "2022-05-21T22:17:20.236Z"
   },
   {
    "duration": 14,
    "start_time": "2022-05-21T22:17:20.271Z"
   },
   {
    "duration": 5,
    "start_time": "2022-05-21T22:17:20.287Z"
   },
   {
    "duration": 6,
    "start_time": "2022-05-21T22:17:20.294Z"
   },
   {
    "duration": 4,
    "start_time": "2022-05-21T22:17:20.302Z"
   },
   {
    "duration": 6,
    "start_time": "2022-05-21T22:17:20.308Z"
   },
   {
    "duration": 27,
    "start_time": "2022-05-21T22:17:20.315Z"
   },
   {
    "duration": 28,
    "start_time": "2022-05-21T22:17:20.348Z"
   },
   {
    "duration": 4,
    "start_time": "2022-05-21T22:17:20.378Z"
   },
   {
    "duration": 13,
    "start_time": "2022-05-21T22:17:20.384Z"
   },
   {
    "duration": 16,
    "start_time": "2022-05-21T22:17:20.400Z"
   },
   {
    "duration": 10,
    "start_time": "2022-05-21T22:17:20.418Z"
   },
   {
    "duration": 46,
    "start_time": "2022-05-21T22:17:20.429Z"
   },
   {
    "duration": 7,
    "start_time": "2022-05-21T22:17:20.477Z"
   },
   {
    "duration": 6,
    "start_time": "2022-05-21T22:17:20.485Z"
   },
   {
    "duration": 8,
    "start_time": "2022-05-21T22:17:20.493Z"
   },
   {
    "duration": 8,
    "start_time": "2022-05-21T22:17:20.503Z"
   },
   {
    "duration": 6,
    "start_time": "2022-05-21T22:17:20.513Z"
   },
   {
    "duration": 7200,
    "start_time": "2022-05-21T22:17:20.521Z"
   },
   {
    "duration": 15,
    "start_time": "2022-05-21T22:17:27.725Z"
   },
   {
    "duration": 46,
    "start_time": "2022-05-21T22:17:27.742Z"
   },
   {
    "duration": 6,
    "start_time": "2022-05-21T22:17:27.790Z"
   },
   {
    "duration": 10,
    "start_time": "2022-05-21T22:17:27.798Z"
   },
   {
    "duration": 20,
    "start_time": "2022-05-21T22:17:27.810Z"
   },
   {
    "duration": 9,
    "start_time": "2022-05-21T22:17:27.839Z"
   },
   {
    "duration": 39,
    "start_time": "2022-05-21T22:17:27.849Z"
   },
   {
    "duration": 15,
    "start_time": "2022-05-21T22:17:27.890Z"
   },
   {
    "duration": 8,
    "start_time": "2022-05-21T22:17:27.907Z"
   },
   {
    "duration": 9,
    "start_time": "2022-05-21T22:17:27.917Z"
   },
   {
    "duration": 60,
    "start_time": "2022-05-21T22:17:27.927Z"
   },
   {
    "duration": 11,
    "start_time": "2022-05-21T22:17:27.991Z"
   },
   {
    "duration": 11,
    "start_time": "2022-05-21T22:17:28.005Z"
   },
   {
    "duration": 55,
    "start_time": "2022-05-21T22:17:28.018Z"
   },
   {
    "duration": 14,
    "start_time": "2022-05-21T22:17:28.076Z"
   },
   {
    "duration": 8,
    "start_time": "2022-05-21T22:17:28.092Z"
   },
   {
    "duration": 11,
    "start_time": "2022-05-21T22:17:28.103Z"
   },
   {
    "duration": 17,
    "start_time": "2022-05-21T22:17:28.115Z"
   },
   {
    "duration": 38,
    "start_time": "2022-05-21T22:17:28.139Z"
   },
   {
    "duration": 5,
    "start_time": "2022-05-21T22:17:28.179Z"
   },
   {
    "duration": 15,
    "start_time": "2022-05-21T22:17:28.185Z"
   },
   {
    "duration": 16,
    "start_time": "2022-05-21T22:17:28.202Z"
   },
   {
    "duration": 71,
    "start_time": "2022-05-21T22:17:28.220Z"
   },
   {
    "duration": 16,
    "start_time": "2022-05-21T22:17:28.292Z"
   },
   {
    "duration": 67,
    "start_time": "2022-05-21T22:17:28.313Z"
   },
   {
    "duration": 20,
    "start_time": "2022-05-21T22:17:28.382Z"
   },
   {
    "duration": 15,
    "start_time": "2022-05-21T22:17:28.404Z"
   },
   {
    "duration": 48,
    "start_time": "2022-05-21T22:17:28.420Z"
   },
   {
    "duration": 23,
    "start_time": "2022-05-21T22:17:28.470Z"
   },
   {
    "duration": 11,
    "start_time": "2022-05-21T22:17:28.496Z"
   },
   {
    "duration": 55,
    "start_time": "2022-05-21T22:17:28.509Z"
   },
   {
    "duration": 31,
    "start_time": "2022-05-21T22:17:28.566Z"
   },
   {
    "duration": 40,
    "start_time": "2022-05-21T22:17:28.599Z"
   },
   {
    "duration": 45,
    "start_time": "2022-05-21T22:17:28.645Z"
   },
   {
    "duration": 27,
    "start_time": "2022-05-21T22:17:28.692Z"
   },
   {
    "duration": 55,
    "start_time": "2022-05-21T22:17:28.721Z"
   },
   {
    "duration": 29,
    "start_time": "2022-05-21T22:17:28.777Z"
   },
   {
    "duration": 16,
    "start_time": "2022-05-21T22:17:28.808Z"
   },
   {
    "duration": 51,
    "start_time": "2022-05-21T22:17:28.826Z"
   },
   {
    "duration": 12,
    "start_time": "2022-05-21T22:17:28.879Z"
   },
   {
    "duration": 62,
    "start_time": "2022-05-21T22:17:28.892Z"
   },
   {
    "duration": 48,
    "start_time": "2022-05-21T22:17:28.958Z"
   },
   {
    "duration": 60,
    "start_time": "2022-05-21T22:17:29.008Z"
   },
   {
    "duration": 31,
    "start_time": "2022-05-21T22:17:29.070Z"
   },
   {
    "duration": 24,
    "start_time": "2022-05-21T22:17:29.103Z"
   },
   {
    "duration": 45,
    "start_time": "2022-05-21T22:17:29.128Z"
   },
   {
    "duration": 9,
    "start_time": "2022-05-21T22:17:29.175Z"
   },
   {
    "duration": 11,
    "start_time": "2022-05-21T22:17:29.186Z"
   },
   {
    "duration": 10,
    "start_time": "2022-05-21T22:17:29.198Z"
   },
   {
    "duration": 18,
    "start_time": "2022-05-21T22:17:29.210Z"
   },
   {
    "duration": 43,
    "start_time": "2022-05-21T22:17:29.230Z"
   },
   {
    "duration": 36,
    "start_time": "2022-05-21T22:17:29.275Z"
   },
   {
    "duration": 56,
    "start_time": "2022-05-21T22:17:29.313Z"
   },
   {
    "duration": 10,
    "start_time": "2022-05-21T22:17:29.371Z"
   },
   {
    "duration": 10,
    "start_time": "2022-05-21T22:17:29.383Z"
   },
   {
    "duration": 9,
    "start_time": "2022-05-21T22:17:29.395Z"
   },
   {
    "duration": 16,
    "start_time": "2022-05-21T22:17:29.405Z"
   },
   {
    "duration": 11,
    "start_time": "2022-05-21T22:17:29.430Z"
   },
   {
    "duration": 36,
    "start_time": "2022-05-21T22:17:29.443Z"
   },
   {
    "duration": 18,
    "start_time": "2022-05-21T22:17:29.482Z"
   },
   {
    "duration": 11,
    "start_time": "2022-05-21T22:17:29.503Z"
   },
   {
    "duration": 21,
    "start_time": "2022-05-21T22:17:29.517Z"
   },
   {
    "duration": 40,
    "start_time": "2022-05-21T22:18:01.160Z"
   },
   {
    "duration": 4421,
    "start_time": "2022-05-21T22:18:02.695Z"
   },
   {
    "duration": 20,
    "start_time": "2022-05-21T22:18:09.947Z"
   },
   {
    "duration": 545,
    "start_time": "2022-05-21T22:18:15.600Z"
   },
   {
    "duration": 105,
    "start_time": "2022-05-21T22:18:16.147Z"
   },
   {
    "duration": 23,
    "start_time": "2022-05-21T22:18:16.254Z"
   },
   {
    "duration": 4,
    "start_time": "2022-05-21T22:18:16.280Z"
   },
   {
    "duration": 53,
    "start_time": "2022-05-21T22:18:16.286Z"
   },
   {
    "duration": 12,
    "start_time": "2022-05-21T22:18:16.340Z"
   },
   {
    "duration": 19,
    "start_time": "2022-05-21T22:18:16.358Z"
   },
   {
    "duration": 10,
    "start_time": "2022-05-21T22:18:16.379Z"
   },
   {
    "duration": 8,
    "start_time": "2022-05-21T22:18:16.391Z"
   },
   {
    "duration": 7,
    "start_time": "2022-05-21T22:18:16.402Z"
   },
   {
    "duration": 31,
    "start_time": "2022-05-21T22:18:16.411Z"
   },
   {
    "duration": 32,
    "start_time": "2022-05-21T22:18:16.443Z"
   },
   {
    "duration": 19,
    "start_time": "2022-05-21T22:18:16.477Z"
   },
   {
    "duration": 9,
    "start_time": "2022-05-21T22:18:16.498Z"
   },
   {
    "duration": 9,
    "start_time": "2022-05-21T22:18:16.509Z"
   },
   {
    "duration": 55,
    "start_time": "2022-05-21T22:18:16.523Z"
   },
   {
    "duration": 31,
    "start_time": "2022-05-21T22:18:16.581Z"
   },
   {
    "duration": 18,
    "start_time": "2022-05-21T22:18:16.614Z"
   },
   {
    "duration": 33,
    "start_time": "2022-05-21T22:18:16.633Z"
   },
   {
    "duration": 10,
    "start_time": "2022-05-21T22:18:16.668Z"
   },
   {
    "duration": 23,
    "start_time": "2022-05-21T22:18:16.681Z"
   },
   {
    "duration": 8,
    "start_time": "2022-05-21T22:18:16.706Z"
   },
   {
    "duration": 24,
    "start_time": "2022-05-21T22:18:16.715Z"
   },
   {
    "duration": 22,
    "start_time": "2022-05-21T22:18:16.748Z"
   },
   {
    "duration": 9,
    "start_time": "2022-05-21T22:18:16.771Z"
   },
   {
    "duration": 12,
    "start_time": "2022-05-21T22:18:16.782Z"
   },
   {
    "duration": 14,
    "start_time": "2022-05-21T22:18:16.796Z"
   },
   {
    "duration": 15,
    "start_time": "2022-05-21T22:18:16.815Z"
   },
   {
    "duration": 37,
    "start_time": "2022-05-21T22:18:16.834Z"
   },
   {
    "duration": 15,
    "start_time": "2022-05-21T22:18:16.873Z"
   },
   {
    "duration": 15,
    "start_time": "2022-05-21T22:18:16.890Z"
   },
   {
    "duration": 9,
    "start_time": "2022-05-21T22:18:16.907Z"
   },
   {
    "duration": 14,
    "start_time": "2022-05-21T22:18:16.918Z"
   },
   {
    "duration": 40,
    "start_time": "2022-05-21T22:18:16.934Z"
   },
   {
    "duration": 8,
    "start_time": "2022-05-21T22:18:16.976Z"
   },
   {
    "duration": 5,
    "start_time": "2022-05-21T22:18:16.987Z"
   },
   {
    "duration": 14,
    "start_time": "2022-05-21T22:18:16.995Z"
   },
   {
    "duration": 5,
    "start_time": "2022-05-21T22:18:17.011Z"
   },
   {
    "duration": 71,
    "start_time": "2022-05-21T22:18:17.018Z"
   },
   {
    "duration": 19,
    "start_time": "2022-05-21T22:18:17.091Z"
   },
   {
    "duration": 6,
    "start_time": "2022-05-21T22:18:17.112Z"
   },
   {
    "duration": 39,
    "start_time": "2022-05-21T22:18:17.120Z"
   },
   {
    "duration": 13,
    "start_time": "2022-05-21T22:18:17.161Z"
   },
   {
    "duration": 8,
    "start_time": "2022-05-21T22:18:17.175Z"
   },
   {
    "duration": 14,
    "start_time": "2022-05-21T22:18:17.185Z"
   },
   {
    "duration": 8,
    "start_time": "2022-05-21T22:18:17.201Z"
   },
   {
    "duration": 8,
    "start_time": "2022-05-21T22:18:17.211Z"
   },
   {
    "duration": 5518,
    "start_time": "2022-05-21T22:18:17.221Z"
   },
   {
    "duration": 12,
    "start_time": "2022-05-21T22:18:22.743Z"
   },
   {
    "duration": 44,
    "start_time": "2022-05-21T22:18:22.761Z"
   },
   {
    "duration": 6,
    "start_time": "2022-05-21T22:18:22.808Z"
   },
   {
    "duration": 50,
    "start_time": "2022-05-21T22:18:22.816Z"
   },
   {
    "duration": 34,
    "start_time": "2022-05-21T22:18:22.868Z"
   },
   {
    "duration": 15,
    "start_time": "2022-05-21T22:18:22.905Z"
   },
   {
    "duration": 66,
    "start_time": "2022-05-21T22:18:22.923Z"
   },
   {
    "duration": 17,
    "start_time": "2022-05-21T22:18:22.992Z"
   },
   {
    "duration": 58,
    "start_time": "2022-05-21T22:18:23.011Z"
   },
   {
    "duration": 8,
    "start_time": "2022-05-21T22:18:23.072Z"
   },
   {
    "duration": 9,
    "start_time": "2022-05-21T22:18:23.082Z"
   },
   {
    "duration": 6,
    "start_time": "2022-05-21T22:18:23.093Z"
   },
   {
    "duration": 8,
    "start_time": "2022-05-21T22:18:23.101Z"
   },
   {
    "duration": 7,
    "start_time": "2022-05-21T22:18:23.110Z"
   },
   {
    "duration": 8,
    "start_time": "2022-05-21T22:18:23.118Z"
   },
   {
    "duration": 40,
    "start_time": "2022-05-21T22:18:23.130Z"
   },
   {
    "duration": 7,
    "start_time": "2022-05-21T22:18:23.172Z"
   },
   {
    "duration": 7,
    "start_time": "2022-05-21T22:18:23.182Z"
   },
   {
    "duration": 5,
    "start_time": "2022-05-21T22:18:23.191Z"
   },
   {
    "duration": 3,
    "start_time": "2022-05-21T22:18:23.198Z"
   },
   {
    "duration": 11,
    "start_time": "2022-05-21T22:18:23.203Z"
   },
   {
    "duration": 21,
    "start_time": "2022-05-21T22:18:23.216Z"
   },
   {
    "duration": 39,
    "start_time": "2022-05-21T22:18:23.238Z"
   },
   {
    "duration": 12,
    "start_time": "2022-05-21T22:18:23.279Z"
   },
   {
    "duration": 12,
    "start_time": "2022-05-21T22:18:23.293Z"
   },
   {
    "duration": 8,
    "start_time": "2022-05-21T22:18:23.306Z"
   },
   {
    "duration": 18,
    "start_time": "2022-05-21T22:18:23.316Z"
   },
   {
    "duration": 39,
    "start_time": "2022-05-21T22:18:23.341Z"
   },
   {
    "duration": 9,
    "start_time": "2022-05-21T22:18:23.382Z"
   },
   {
    "duration": 6,
    "start_time": "2022-05-21T22:18:23.392Z"
   },
   {
    "duration": 12,
    "start_time": "2022-05-21T22:18:23.399Z"
   },
   {
    "duration": 20,
    "start_time": "2022-05-21T22:18:23.413Z"
   },
   {
    "duration": 41,
    "start_time": "2022-05-21T22:18:23.434Z"
   },
   {
    "duration": 9,
    "start_time": "2022-05-21T22:18:23.482Z"
   },
   {
    "duration": 12,
    "start_time": "2022-05-21T22:18:23.493Z"
   },
   {
    "duration": 8,
    "start_time": "2022-05-21T22:18:23.507Z"
   },
   {
    "duration": 19,
    "start_time": "2022-05-21T22:18:23.517Z"
   },
   {
    "duration": 30,
    "start_time": "2022-05-21T22:18:23.537Z"
   },
   {
    "duration": 11,
    "start_time": "2022-05-21T22:18:23.569Z"
   },
   {
    "duration": 7,
    "start_time": "2022-05-21T22:18:23.581Z"
   },
   {
    "duration": 12,
    "start_time": "2022-05-21T22:18:23.591Z"
   },
   {
    "duration": 5,
    "start_time": "2022-05-21T22:18:23.605Z"
   },
   {
    "duration": 36,
    "start_time": "2022-05-21T22:18:23.612Z"
   },
   {
    "duration": 14,
    "start_time": "2022-05-21T22:18:23.657Z"
   },
   {
    "duration": 16,
    "start_time": "2022-05-21T22:18:23.673Z"
   },
   {
    "duration": 8,
    "start_time": "2022-05-21T22:18:23.691Z"
   },
   {
    "duration": 9,
    "start_time": "2022-05-21T22:18:23.701Z"
   },
   {
    "duration": 16,
    "start_time": "2022-05-21T22:18:23.712Z"
   },
   {
    "duration": 27,
    "start_time": "2022-05-21T22:18:23.733Z"
   },
   {
    "duration": 7,
    "start_time": "2022-05-21T22:18:23.762Z"
   },
   {
    "duration": 11,
    "start_time": "2022-05-21T22:18:23.771Z"
   },
   {
    "duration": 17,
    "start_time": "2022-05-21T22:18:23.784Z"
   },
   {
    "duration": 10,
    "start_time": "2022-05-21T22:18:23.803Z"
   },
   {
    "duration": 13,
    "start_time": "2022-05-21T22:18:23.815Z"
   },
   {
    "duration": 34,
    "start_time": "2022-05-21T22:18:23.837Z"
   },
   {
    "duration": 9,
    "start_time": "2022-05-21T22:18:23.873Z"
   },
   {
    "duration": 15,
    "start_time": "2022-05-21T22:18:23.884Z"
   },
   {
    "duration": 10,
    "start_time": "2022-05-21T22:18:23.901Z"
   },
   {
    "duration": 4,
    "start_time": "2022-05-21T22:18:23.913Z"
   },
   {
    "duration": 35,
    "start_time": "2022-05-21T22:18:23.918Z"
   },
   {
    "duration": 27,
    "start_time": "2022-05-21T22:18:23.959Z"
   },
   {
    "duration": 11,
    "start_time": "2022-05-21T22:18:23.987Z"
   },
   {
    "duration": 9,
    "start_time": "2022-05-21T22:27:20.523Z"
   },
   {
    "duration": 7,
    "start_time": "2022-05-21T22:27:21.782Z"
   },
   {
    "duration": 16,
    "start_time": "2022-05-21T22:27:40.321Z"
   },
   {
    "duration": 4,
    "start_time": "2022-05-21T22:34:49.668Z"
   },
   {
    "duration": 27,
    "start_time": "2022-05-21T22:35:50.714Z"
   },
   {
    "duration": 459,
    "start_time": "2022-05-21T22:36:01.997Z"
   },
   {
    "duration": 112,
    "start_time": "2022-05-21T22:36:02.458Z"
   },
   {
    "duration": 24,
    "start_time": "2022-05-21T22:36:02.572Z"
   },
   {
    "duration": 5,
    "start_time": "2022-05-21T22:36:02.599Z"
   },
   {
    "duration": 59,
    "start_time": "2022-05-21T22:36:02.627Z"
   },
   {
    "duration": 7,
    "start_time": "2022-05-21T22:36:02.688Z"
   },
   {
    "duration": 19,
    "start_time": "2022-05-21T22:36:02.697Z"
   },
   {
    "duration": 45,
    "start_time": "2022-05-21T22:36:02.718Z"
   },
   {
    "duration": 13,
    "start_time": "2022-05-21T22:36:02.767Z"
   },
   {
    "duration": 13,
    "start_time": "2022-05-21T22:36:02.783Z"
   },
   {
    "duration": 10,
    "start_time": "2022-05-21T22:36:02.798Z"
   },
   {
    "duration": 44,
    "start_time": "2022-05-21T22:36:02.810Z"
   },
   {
    "duration": 34,
    "start_time": "2022-05-21T22:36:02.856Z"
   },
   {
    "duration": 7,
    "start_time": "2022-05-21T22:36:02.891Z"
   },
   {
    "duration": 8,
    "start_time": "2022-05-21T22:36:02.899Z"
   },
   {
    "duration": 31,
    "start_time": "2022-05-21T22:36:02.908Z"
   },
   {
    "duration": 21,
    "start_time": "2022-05-21T22:36:02.947Z"
   },
   {
    "duration": 11,
    "start_time": "2022-05-21T22:36:02.970Z"
   },
   {
    "duration": 8,
    "start_time": "2022-05-21T22:36:02.983Z"
   },
   {
    "duration": 6,
    "start_time": "2022-05-21T22:36:02.993Z"
   },
   {
    "duration": 15,
    "start_time": "2022-05-21T22:36:03.001Z"
   },
   {
    "duration": 25,
    "start_time": "2022-05-21T22:36:03.018Z"
   },
   {
    "duration": 14,
    "start_time": "2022-05-21T22:36:03.047Z"
   },
   {
    "duration": 10,
    "start_time": "2022-05-21T22:36:03.063Z"
   },
   {
    "duration": 19,
    "start_time": "2022-05-21T22:36:03.075Z"
   },
   {
    "duration": 11,
    "start_time": "2022-05-21T22:36:03.095Z"
   },
   {
    "duration": 12,
    "start_time": "2022-05-21T22:36:03.107Z"
   },
   {
    "duration": 8,
    "start_time": "2022-05-21T22:36:03.124Z"
   },
   {
    "duration": 24,
    "start_time": "2022-05-21T22:36:03.133Z"
   },
   {
    "duration": 10,
    "start_time": "2022-05-21T22:36:03.158Z"
   },
   {
    "duration": 12,
    "start_time": "2022-05-21T22:36:03.169Z"
   },
   {
    "duration": 5,
    "start_time": "2022-05-21T22:36:03.183Z"
   },
   {
    "duration": 8,
    "start_time": "2022-05-21T22:36:03.190Z"
   },
   {
    "duration": 5,
    "start_time": "2022-05-21T22:36:03.200Z"
   },
   {
    "duration": 47,
    "start_time": "2022-05-21T22:36:03.207Z"
   },
   {
    "duration": 6,
    "start_time": "2022-05-21T22:36:03.255Z"
   },
   {
    "duration": 12,
    "start_time": "2022-05-21T22:36:03.263Z"
   },
   {
    "duration": 4,
    "start_time": "2022-05-21T22:36:03.276Z"
   },
   {
    "duration": 14,
    "start_time": "2022-05-21T22:36:03.281Z"
   },
   {
    "duration": 13,
    "start_time": "2022-05-21T22:36:03.297Z"
   },
   {
    "duration": 5,
    "start_time": "2022-05-21T22:36:03.312Z"
   },
   {
    "duration": 22,
    "start_time": "2022-05-21T22:36:03.319Z"
   },
   {
    "duration": 15,
    "start_time": "2022-05-21T22:36:03.343Z"
   },
   {
    "duration": 7,
    "start_time": "2022-05-21T22:36:03.360Z"
   },
   {
    "duration": 15,
    "start_time": "2022-05-21T22:36:03.369Z"
   },
   {
    "duration": 6,
    "start_time": "2022-05-21T22:36:03.386Z"
   },
   {
    "duration": 4,
    "start_time": "2022-05-21T22:36:03.394Z"
   },
   {
    "duration": 94803,
    "start_time": "2022-05-21T22:36:03.400Z"
   },
   {
    "duration": 0,
    "start_time": "2022-05-21T22:37:38.206Z"
   },
   {
    "duration": 0,
    "start_time": "2022-05-21T22:37:38.208Z"
   },
   {
    "duration": 0,
    "start_time": "2022-05-21T22:37:38.209Z"
   },
   {
    "duration": 0,
    "start_time": "2022-05-21T22:37:38.210Z"
   },
   {
    "duration": 0,
    "start_time": "2022-05-21T22:37:38.212Z"
   },
   {
    "duration": 0,
    "start_time": "2022-05-21T22:37:38.212Z"
   },
   {
    "duration": 0,
    "start_time": "2022-05-21T22:37:38.213Z"
   },
   {
    "duration": 0,
    "start_time": "2022-05-21T22:37:38.215Z"
   },
   {
    "duration": 0,
    "start_time": "2022-05-21T22:37:38.216Z"
   },
   {
    "duration": 0,
    "start_time": "2022-05-21T22:37:38.217Z"
   },
   {
    "duration": 0,
    "start_time": "2022-05-21T22:37:38.218Z"
   },
   {
    "duration": 0,
    "start_time": "2022-05-21T22:37:38.220Z"
   },
   {
    "duration": 0,
    "start_time": "2022-05-21T22:37:38.222Z"
   },
   {
    "duration": 0,
    "start_time": "2022-05-21T22:37:38.223Z"
   },
   {
    "duration": 0,
    "start_time": "2022-05-21T22:37:38.223Z"
   },
   {
    "duration": 0,
    "start_time": "2022-05-21T22:37:38.224Z"
   },
   {
    "duration": 0,
    "start_time": "2022-05-21T22:37:38.225Z"
   },
   {
    "duration": 0,
    "start_time": "2022-05-21T22:37:38.226Z"
   },
   {
    "duration": 0,
    "start_time": "2022-05-21T22:37:38.227Z"
   },
   {
    "duration": 0,
    "start_time": "2022-05-21T22:37:38.228Z"
   },
   {
    "duration": 0,
    "start_time": "2022-05-21T22:37:38.229Z"
   },
   {
    "duration": 0,
    "start_time": "2022-05-21T22:37:38.229Z"
   },
   {
    "duration": 0,
    "start_time": "2022-05-21T22:37:38.230Z"
   },
   {
    "duration": 0,
    "start_time": "2022-05-21T22:37:38.231Z"
   },
   {
    "duration": 0,
    "start_time": "2022-05-21T22:37:38.232Z"
   },
   {
    "duration": 0,
    "start_time": "2022-05-21T22:37:38.233Z"
   },
   {
    "duration": 0,
    "start_time": "2022-05-21T22:37:38.234Z"
   },
   {
    "duration": 0,
    "start_time": "2022-05-21T22:37:38.235Z"
   },
   {
    "duration": 0,
    "start_time": "2022-05-21T22:37:38.235Z"
   },
   {
    "duration": 0,
    "start_time": "2022-05-21T22:37:38.237Z"
   },
   {
    "duration": 0,
    "start_time": "2022-05-21T22:37:38.240Z"
   },
   {
    "duration": 0,
    "start_time": "2022-05-21T22:37:38.242Z"
   },
   {
    "duration": 0,
    "start_time": "2022-05-21T22:37:38.243Z"
   },
   {
    "duration": 0,
    "start_time": "2022-05-21T22:37:38.243Z"
   },
   {
    "duration": 0,
    "start_time": "2022-05-21T22:37:38.245Z"
   },
   {
    "duration": 0,
    "start_time": "2022-05-21T22:37:38.250Z"
   },
   {
    "duration": 0,
    "start_time": "2022-05-21T22:37:38.251Z"
   },
   {
    "duration": 0,
    "start_time": "2022-05-21T22:37:38.252Z"
   },
   {
    "duration": 0,
    "start_time": "2022-05-21T22:37:38.252Z"
   },
   {
    "duration": 0,
    "start_time": "2022-05-21T22:37:38.253Z"
   },
   {
    "duration": 0,
    "start_time": "2022-05-21T22:37:38.262Z"
   },
   {
    "duration": 0,
    "start_time": "2022-05-21T22:37:38.266Z"
   },
   {
    "duration": 0,
    "start_time": "2022-05-21T22:37:38.267Z"
   },
   {
    "duration": 0,
    "start_time": "2022-05-21T22:37:38.268Z"
   },
   {
    "duration": 0,
    "start_time": "2022-05-21T22:37:38.270Z"
   },
   {
    "duration": 0,
    "start_time": "2022-05-21T22:37:38.271Z"
   },
   {
    "duration": 0,
    "start_time": "2022-05-21T22:37:38.272Z"
   },
   {
    "duration": 0,
    "start_time": "2022-05-21T22:37:38.274Z"
   },
   {
    "duration": 0,
    "start_time": "2022-05-21T22:37:38.275Z"
   },
   {
    "duration": 0,
    "start_time": "2022-05-21T22:37:38.276Z"
   },
   {
    "duration": 0,
    "start_time": "2022-05-21T22:37:38.277Z"
   },
   {
    "duration": 0,
    "start_time": "2022-05-21T22:37:38.278Z"
   },
   {
    "duration": 0,
    "start_time": "2022-05-21T22:37:38.279Z"
   },
   {
    "duration": 0,
    "start_time": "2022-05-21T22:37:38.280Z"
   },
   {
    "duration": 0,
    "start_time": "2022-05-21T22:37:38.281Z"
   },
   {
    "duration": 0,
    "start_time": "2022-05-21T22:37:38.282Z"
   },
   {
    "duration": 0,
    "start_time": "2022-05-21T22:37:38.283Z"
   },
   {
    "duration": 1,
    "start_time": "2022-05-21T22:37:38.284Z"
   },
   {
    "duration": 0,
    "start_time": "2022-05-21T22:37:38.323Z"
   },
   {
    "duration": 0,
    "start_time": "2022-05-21T22:37:38.323Z"
   },
   {
    "duration": 0,
    "start_time": "2022-05-21T22:37:38.324Z"
   },
   {
    "duration": 0,
    "start_time": "2022-05-21T22:37:38.324Z"
   },
   {
    "duration": 498,
    "start_time": "2022-05-21T22:37:48.975Z"
   },
   {
    "duration": 103,
    "start_time": "2022-05-21T22:37:49.476Z"
   },
   {
    "duration": 16,
    "start_time": "2022-05-21T22:37:49.581Z"
   },
   {
    "duration": 3,
    "start_time": "2022-05-21T22:37:49.600Z"
   },
   {
    "duration": 34,
    "start_time": "2022-05-21T22:37:49.605Z"
   },
   {
    "duration": 42,
    "start_time": "2022-05-21T22:37:49.641Z"
   },
   {
    "duration": 20,
    "start_time": "2022-05-21T22:37:49.684Z"
   },
   {
    "duration": 12,
    "start_time": "2022-05-21T22:37:49.706Z"
   },
   {
    "duration": 31,
    "start_time": "2022-05-21T22:37:49.720Z"
   },
   {
    "duration": 8,
    "start_time": "2022-05-21T22:37:49.756Z"
   },
   {
    "duration": 10,
    "start_time": "2022-05-21T22:37:49.766Z"
   },
   {
    "duration": 12,
    "start_time": "2022-05-21T22:37:49.778Z"
   },
   {
    "duration": 18,
    "start_time": "2022-05-21T22:37:49.791Z"
   },
   {
    "duration": 6,
    "start_time": "2022-05-21T22:37:49.810Z"
   },
   {
    "duration": 22,
    "start_time": "2022-05-21T22:37:49.817Z"
   },
   {
    "duration": 40,
    "start_time": "2022-05-21T22:37:49.841Z"
   },
   {
    "duration": 24,
    "start_time": "2022-05-21T22:37:49.883Z"
   },
   {
    "duration": 17,
    "start_time": "2022-05-21T22:37:49.909Z"
   },
   {
    "duration": 32,
    "start_time": "2022-05-21T22:37:49.928Z"
   },
   {
    "duration": 10,
    "start_time": "2022-05-21T22:37:49.962Z"
   },
   {
    "duration": 18,
    "start_time": "2022-05-21T22:37:49.974Z"
   },
   {
    "duration": 6,
    "start_time": "2022-05-21T22:37:49.994Z"
   },
   {
    "duration": 13,
    "start_time": "2022-05-21T22:37:50.002Z"
   },
   {
    "duration": 14,
    "start_time": "2022-05-21T22:37:50.017Z"
   },
   {
    "duration": 26,
    "start_time": "2022-05-21T22:37:50.038Z"
   },
   {
    "duration": 15,
    "start_time": "2022-05-21T22:37:50.065Z"
   },
   {
    "duration": 15,
    "start_time": "2022-05-21T22:37:50.082Z"
   },
   {
    "duration": 7,
    "start_time": "2022-05-21T22:37:50.101Z"
   },
   {
    "duration": 24,
    "start_time": "2022-05-21T22:37:50.110Z"
   },
   {
    "duration": 22,
    "start_time": "2022-05-21T22:37:50.142Z"
   },
   {
    "duration": 12,
    "start_time": "2022-05-21T22:37:50.166Z"
   },
   {
    "duration": 5,
    "start_time": "2022-05-21T22:37:50.180Z"
   },
   {
    "duration": 5,
    "start_time": "2022-05-21T22:37:50.187Z"
   },
   {
    "duration": 5,
    "start_time": "2022-05-21T22:37:50.194Z"
   },
   {
    "duration": 7,
    "start_time": "2022-05-21T22:37:50.200Z"
   },
   {
    "duration": 24,
    "start_time": "2022-05-21T22:37:50.209Z"
   },
   {
    "duration": 28,
    "start_time": "2022-05-21T22:37:50.239Z"
   },
   {
    "duration": 3,
    "start_time": "2022-05-21T22:37:50.269Z"
   },
   {
    "duration": 14,
    "start_time": "2022-05-21T22:37:50.274Z"
   },
   {
    "duration": 21,
    "start_time": "2022-05-21T22:37:50.290Z"
   },
   {
    "duration": 6,
    "start_time": "2022-05-21T22:37:50.313Z"
   },
   {
    "duration": 40,
    "start_time": "2022-05-21T22:37:50.321Z"
   },
   {
    "duration": 3,
    "start_time": "2022-05-21T22:37:50.363Z"
   },
   {
    "duration": 6,
    "start_time": "2022-05-21T22:37:50.368Z"
   },
   {
    "duration": 12,
    "start_time": "2022-05-21T22:37:50.375Z"
   },
   {
    "duration": 6,
    "start_time": "2022-05-21T22:37:50.389Z"
   },
   {
    "duration": 4,
    "start_time": "2022-05-21T22:37:50.397Z"
   },
   {
    "duration": 4653,
    "start_time": "2022-05-21T22:37:50.403Z"
   },
   {
    "duration": 76,
    "start_time": "2022-05-21T22:37:55.058Z"
   },
   {
    "duration": 94,
    "start_time": "2022-05-21T22:37:55.135Z"
   },
   {
    "duration": 13,
    "start_time": "2022-05-21T22:37:55.231Z"
   },
   {
    "duration": 31,
    "start_time": "2022-05-21T22:37:55.245Z"
   },
   {
    "duration": 10,
    "start_time": "2022-05-21T22:37:55.278Z"
   },
   {
    "duration": 11,
    "start_time": "2022-05-21T22:37:55.328Z"
   },
   {
    "duration": 89,
    "start_time": "2022-05-21T22:37:55.341Z"
   },
   {
    "duration": 24,
    "start_time": "2022-05-21T22:37:55.431Z"
   },
   {
    "duration": 22,
    "start_time": "2022-05-21T22:37:55.456Z"
   },
   {
    "duration": 58,
    "start_time": "2022-05-21T22:37:55.480Z"
   },
   {
    "duration": 26,
    "start_time": "2022-05-21T22:37:55.541Z"
   },
   {
    "duration": 6,
    "start_time": "2022-05-21T22:37:55.569Z"
   },
   {
    "duration": 7,
    "start_time": "2022-05-21T22:37:55.577Z"
   },
   {
    "duration": 6,
    "start_time": "2022-05-21T22:37:55.623Z"
   },
   {
    "duration": 45,
    "start_time": "2022-05-21T22:37:55.631Z"
   },
   {
    "duration": 10,
    "start_time": "2022-05-21T22:37:55.678Z"
   },
   {
    "duration": 49,
    "start_time": "2022-05-21T22:37:55.689Z"
   },
   {
    "duration": 13,
    "start_time": "2022-05-21T22:37:55.739Z"
   },
   {
    "duration": 15,
    "start_time": "2022-05-21T22:37:55.756Z"
   },
   {
    "duration": 5,
    "start_time": "2022-05-21T22:37:55.772Z"
   },
   {
    "duration": 87,
    "start_time": "2022-05-21T22:37:55.779Z"
   },
   {
    "duration": 12,
    "start_time": "2022-05-21T22:37:55.867Z"
   },
   {
    "duration": 78,
    "start_time": "2022-05-21T22:37:55.882Z"
   },
   {
    "duration": 4,
    "start_time": "2022-05-21T22:37:55.963Z"
   },
   {
    "duration": 116,
    "start_time": "2022-05-21T22:37:55.971Z"
   },
   {
    "duration": 0,
    "start_time": "2022-05-21T22:37:56.089Z"
   },
   {
    "duration": 0,
    "start_time": "2022-05-21T22:37:56.091Z"
   },
   {
    "duration": 0,
    "start_time": "2022-05-21T22:37:56.092Z"
   },
   {
    "duration": 0,
    "start_time": "2022-05-21T22:37:56.093Z"
   },
   {
    "duration": 0,
    "start_time": "2022-05-21T22:37:56.095Z"
   },
   {
    "duration": 0,
    "start_time": "2022-05-21T22:37:56.096Z"
   },
   {
    "duration": 0,
    "start_time": "2022-05-21T22:37:56.098Z"
   },
   {
    "duration": 0,
    "start_time": "2022-05-21T22:37:56.100Z"
   },
   {
    "duration": 0,
    "start_time": "2022-05-21T22:37:56.101Z"
   },
   {
    "duration": 0,
    "start_time": "2022-05-21T22:37:56.129Z"
   },
   {
    "duration": 0,
    "start_time": "2022-05-21T22:37:56.130Z"
   },
   {
    "duration": 0,
    "start_time": "2022-05-21T22:37:56.131Z"
   },
   {
    "duration": 0,
    "start_time": "2022-05-21T22:37:56.132Z"
   },
   {
    "duration": 0,
    "start_time": "2022-05-21T22:37:56.133Z"
   },
   {
    "duration": 0,
    "start_time": "2022-05-21T22:37:56.139Z"
   },
   {
    "duration": 0,
    "start_time": "2022-05-21T22:37:56.140Z"
   },
   {
    "duration": 0,
    "start_time": "2022-05-21T22:37:56.141Z"
   },
   {
    "duration": 0,
    "start_time": "2022-05-21T22:37:56.142Z"
   },
   {
    "duration": 0,
    "start_time": "2022-05-21T22:37:56.143Z"
   },
   {
    "duration": 0,
    "start_time": "2022-05-21T22:37:56.144Z"
   },
   {
    "duration": 0,
    "start_time": "2022-05-21T22:37:56.145Z"
   },
   {
    "duration": 0,
    "start_time": "2022-05-21T22:37:56.146Z"
   },
   {
    "duration": 0,
    "start_time": "2022-05-21T22:37:56.147Z"
   },
   {
    "duration": 0,
    "start_time": "2022-05-21T22:37:56.148Z"
   },
   {
    "duration": 0,
    "start_time": "2022-05-21T22:37:56.149Z"
   },
   {
    "duration": 0,
    "start_time": "2022-05-21T22:37:56.150Z"
   },
   {
    "duration": 0,
    "start_time": "2022-05-21T22:37:56.151Z"
   },
   {
    "duration": 0,
    "start_time": "2022-05-21T22:37:56.152Z"
   },
   {
    "duration": 0,
    "start_time": "2022-05-21T22:37:56.153Z"
   },
   {
    "duration": 0,
    "start_time": "2022-05-21T22:37:56.154Z"
   },
   {
    "duration": 0,
    "start_time": "2022-05-21T22:37:56.155Z"
   },
   {
    "duration": 0,
    "start_time": "2022-05-21T22:37:56.156Z"
   },
   {
    "duration": 0,
    "start_time": "2022-05-21T22:37:56.157Z"
   },
   {
    "duration": 0,
    "start_time": "2022-05-21T22:37:56.158Z"
   },
   {
    "duration": 0,
    "start_time": "2022-05-21T22:37:56.159Z"
   },
   {
    "duration": 0,
    "start_time": "2022-05-21T22:37:56.160Z"
   },
   {
    "duration": 0,
    "start_time": "2022-05-21T22:37:56.161Z"
   },
   {
    "duration": 23,
    "start_time": "2022-05-21T22:39:24.548Z"
   },
   {
    "duration": 11,
    "start_time": "2022-05-21T22:40:17.810Z"
   },
   {
    "duration": 12,
    "start_time": "2022-05-21T22:40:55.568Z"
   },
   {
    "duration": 14,
    "start_time": "2022-05-21T22:40:57.049Z"
   },
   {
    "duration": 31,
    "start_time": "2022-05-21T22:42:53.055Z"
   },
   {
    "duration": 507,
    "start_time": "2022-05-21T22:42:58.059Z"
   },
   {
    "duration": 95,
    "start_time": "2022-05-21T22:42:58.568Z"
   },
   {
    "duration": 19,
    "start_time": "2022-05-21T22:42:58.664Z"
   },
   {
    "duration": 5,
    "start_time": "2022-05-21T22:42:58.686Z"
   },
   {
    "duration": 54,
    "start_time": "2022-05-21T22:42:58.692Z"
   },
   {
    "duration": 11,
    "start_time": "2022-05-21T22:42:58.749Z"
   },
   {
    "duration": 14,
    "start_time": "2022-05-21T22:42:58.762Z"
   },
   {
    "duration": 11,
    "start_time": "2022-05-21T22:42:58.779Z"
   },
   {
    "duration": 11,
    "start_time": "2022-05-21T22:42:58.792Z"
   },
   {
    "duration": 4,
    "start_time": "2022-05-21T22:42:58.806Z"
   },
   {
    "duration": 31,
    "start_time": "2022-05-21T22:42:58.811Z"
   },
   {
    "duration": 25,
    "start_time": "2022-05-21T22:42:58.844Z"
   },
   {
    "duration": 18,
    "start_time": "2022-05-21T22:42:58.871Z"
   },
   {
    "duration": 6,
    "start_time": "2022-05-21T22:42:58.890Z"
   },
   {
    "duration": 10,
    "start_time": "2022-05-21T22:42:58.898Z"
   },
   {
    "duration": 31,
    "start_time": "2022-05-21T22:42:58.910Z"
   },
   {
    "duration": 30,
    "start_time": "2022-05-21T22:42:58.945Z"
   },
   {
    "duration": 11,
    "start_time": "2022-05-21T22:42:58.978Z"
   },
   {
    "duration": 7,
    "start_time": "2022-05-21T22:42:58.991Z"
   },
   {
    "duration": 8,
    "start_time": "2022-05-21T22:42:59.000Z"
   },
   {
    "duration": 29,
    "start_time": "2022-05-21T22:42:59.009Z"
   },
   {
    "duration": 31,
    "start_time": "2022-05-21T22:42:59.040Z"
   },
   {
    "duration": 6,
    "start_time": "2022-05-21T22:42:59.073Z"
   },
   {
    "duration": 9,
    "start_time": "2022-05-21T22:42:59.081Z"
   },
   {
    "duration": 6,
    "start_time": "2022-05-21T22:42:59.091Z"
   },
   {
    "duration": 9,
    "start_time": "2022-05-21T22:42:59.099Z"
   },
   {
    "duration": 31,
    "start_time": "2022-05-21T22:42:59.110Z"
   },
   {
    "duration": 11,
    "start_time": "2022-05-21T22:42:59.151Z"
   },
   {
    "duration": 10,
    "start_time": "2022-05-21T22:42:59.164Z"
   },
   {
    "duration": 13,
    "start_time": "2022-05-21T22:42:59.176Z"
   },
   {
    "duration": 13,
    "start_time": "2022-05-21T22:42:59.191Z"
   },
   {
    "duration": 20,
    "start_time": "2022-05-21T22:42:59.206Z"
   },
   {
    "duration": 15,
    "start_time": "2022-05-21T22:42:59.228Z"
   },
   {
    "duration": 25,
    "start_time": "2022-05-21T22:42:59.244Z"
   },
   {
    "duration": 11,
    "start_time": "2022-05-21T22:42:59.271Z"
   },
   {
    "duration": 16,
    "start_time": "2022-05-21T22:42:59.284Z"
   },
   {
    "duration": 15,
    "start_time": "2022-05-21T22:42:59.302Z"
   },
   {
    "duration": 21,
    "start_time": "2022-05-21T22:42:59.319Z"
   },
   {
    "duration": 24,
    "start_time": "2022-05-21T22:42:59.344Z"
   },
   {
    "duration": 16,
    "start_time": "2022-05-21T22:42:59.370Z"
   },
   {
    "duration": 5,
    "start_time": "2022-05-21T22:42:59.388Z"
   },
   {
    "duration": 13,
    "start_time": "2022-05-21T22:42:59.394Z"
   },
   {
    "duration": 4,
    "start_time": "2022-05-21T22:42:59.409Z"
   },
   {
    "duration": 5,
    "start_time": "2022-05-21T22:42:59.415Z"
   },
   {
    "duration": 38,
    "start_time": "2022-05-21T22:42:59.422Z"
   },
   {
    "duration": 5,
    "start_time": "2022-05-21T22:42:59.463Z"
   },
   {
    "duration": 5,
    "start_time": "2022-05-21T22:42:59.471Z"
   },
   {
    "duration": 4589,
    "start_time": "2022-05-21T22:42:59.478Z"
   },
   {
    "duration": 17,
    "start_time": "2022-05-21T22:43:04.129Z"
   },
   {
    "duration": 19,
    "start_time": "2022-05-21T22:43:04.148Z"
   },
   {
    "duration": 5,
    "start_time": "2022-05-21T22:43:04.169Z"
   },
   {
    "duration": 18,
    "start_time": "2022-05-21T22:43:04.223Z"
   },
   {
    "duration": 9,
    "start_time": "2022-05-21T22:43:04.243Z"
   },
   {
    "duration": 10,
    "start_time": "2022-05-21T22:43:04.253Z"
   },
   {
    "duration": 12,
    "start_time": "2022-05-21T22:43:04.264Z"
   },
   {
    "duration": 56,
    "start_time": "2022-05-21T22:43:04.278Z"
   },
   {
    "duration": 18,
    "start_time": "2022-05-21T22:43:04.336Z"
   },
   {
    "duration": 5,
    "start_time": "2022-05-21T22:43:04.356Z"
   },
   {
    "duration": 6,
    "start_time": "2022-05-21T22:43:04.363Z"
   },
   {
    "duration": 58,
    "start_time": "2022-05-21T22:43:04.370Z"
   },
   {
    "duration": 6,
    "start_time": "2022-05-21T22:43:04.431Z"
   },
   {
    "duration": 11,
    "start_time": "2022-05-21T22:43:04.439Z"
   },
   {
    "duration": 7,
    "start_time": "2022-05-21T22:43:04.451Z"
   },
   {
    "duration": 8,
    "start_time": "2022-05-21T22:43:04.460Z"
   },
   {
    "duration": 6,
    "start_time": "2022-05-21T22:43:04.470Z"
   },
   {
    "duration": 12,
    "start_time": "2022-05-21T22:43:04.522Z"
   },
   {
    "duration": 16,
    "start_time": "2022-05-21T22:43:04.535Z"
   },
   {
    "duration": 4,
    "start_time": "2022-05-21T22:43:04.553Z"
   },
   {
    "duration": 15,
    "start_time": "2022-05-21T22:43:04.558Z"
   },
   {
    "duration": 55,
    "start_time": "2022-05-21T22:43:04.575Z"
   },
   {
    "duration": 34,
    "start_time": "2022-05-21T22:43:04.632Z"
   },
   {
    "duration": 4,
    "start_time": "2022-05-21T22:43:04.668Z"
   },
   {
    "duration": 76,
    "start_time": "2022-05-21T22:43:04.674Z"
   },
   {
    "duration": 11,
    "start_time": "2022-05-21T22:43:04.751Z"
   },
   {
    "duration": 70,
    "start_time": "2022-05-21T22:43:04.764Z"
   },
   {
    "duration": 132,
    "start_time": "2022-05-21T22:43:04.841Z"
   },
   {
    "duration": 0,
    "start_time": "2022-05-21T22:43:04.975Z"
   },
   {
    "duration": 0,
    "start_time": "2022-05-21T22:43:04.976Z"
   },
   {
    "duration": 0,
    "start_time": "2022-05-21T22:43:04.977Z"
   },
   {
    "duration": 0,
    "start_time": "2022-05-21T22:43:05.031Z"
   },
   {
    "duration": 0,
    "start_time": "2022-05-21T22:43:05.032Z"
   },
   {
    "duration": 0,
    "start_time": "2022-05-21T22:43:05.032Z"
   },
   {
    "duration": 0,
    "start_time": "2022-05-21T22:43:05.033Z"
   },
   {
    "duration": 0,
    "start_time": "2022-05-21T22:43:05.034Z"
   },
   {
    "duration": 0,
    "start_time": "2022-05-21T22:43:05.034Z"
   },
   {
    "duration": 0,
    "start_time": "2022-05-21T22:43:05.035Z"
   },
   {
    "duration": 0,
    "start_time": "2022-05-21T22:43:05.036Z"
   },
   {
    "duration": 0,
    "start_time": "2022-05-21T22:43:05.036Z"
   },
   {
    "duration": 0,
    "start_time": "2022-05-21T22:43:05.038Z"
   },
   {
    "duration": 0,
    "start_time": "2022-05-21T22:43:05.039Z"
   },
   {
    "duration": 0,
    "start_time": "2022-05-21T22:43:05.041Z"
   },
   {
    "duration": 1,
    "start_time": "2022-05-21T22:43:05.041Z"
   },
   {
    "duration": 0,
    "start_time": "2022-05-21T22:43:05.042Z"
   },
   {
    "duration": 0,
    "start_time": "2022-05-21T22:43:05.043Z"
   },
   {
    "duration": 0,
    "start_time": "2022-05-21T22:43:05.044Z"
   },
   {
    "duration": 0,
    "start_time": "2022-05-21T22:43:05.046Z"
   },
   {
    "duration": 0,
    "start_time": "2022-05-21T22:43:05.047Z"
   },
   {
    "duration": 0,
    "start_time": "2022-05-21T22:43:05.048Z"
   },
   {
    "duration": 0,
    "start_time": "2022-05-21T22:43:05.049Z"
   },
   {
    "duration": 0,
    "start_time": "2022-05-21T22:43:05.050Z"
   },
   {
    "duration": 0,
    "start_time": "2022-05-21T22:43:05.051Z"
   },
   {
    "duration": 0,
    "start_time": "2022-05-21T22:43:05.053Z"
   },
   {
    "duration": 0,
    "start_time": "2022-05-21T22:43:05.054Z"
   },
   {
    "duration": 0,
    "start_time": "2022-05-21T22:43:05.055Z"
   },
   {
    "duration": 0,
    "start_time": "2022-05-21T22:43:05.056Z"
   },
   {
    "duration": 0,
    "start_time": "2022-05-21T22:43:05.057Z"
   },
   {
    "duration": 0,
    "start_time": "2022-05-21T22:43:05.058Z"
   },
   {
    "duration": 0,
    "start_time": "2022-05-21T22:43:05.060Z"
   },
   {
    "duration": 0,
    "start_time": "2022-05-21T22:43:05.061Z"
   },
   {
    "duration": 0,
    "start_time": "2022-05-21T22:43:05.062Z"
   },
   {
    "duration": 24,
    "start_time": "2022-05-21T22:43:15.540Z"
   },
   {
    "duration": 456,
    "start_time": "2022-05-21T22:43:21.440Z"
   },
   {
    "duration": 91,
    "start_time": "2022-05-21T22:43:21.898Z"
   },
   {
    "duration": 18,
    "start_time": "2022-05-21T22:43:21.991Z"
   },
   {
    "duration": 6,
    "start_time": "2022-05-21T22:43:22.023Z"
   },
   {
    "duration": 28,
    "start_time": "2022-05-21T22:43:22.031Z"
   },
   {
    "duration": 7,
    "start_time": "2022-05-21T22:43:22.060Z"
   },
   {
    "duration": 12,
    "start_time": "2022-05-21T22:43:22.068Z"
   },
   {
    "duration": 10,
    "start_time": "2022-05-21T22:43:22.081Z"
   },
   {
    "duration": 6,
    "start_time": "2022-05-21T22:43:22.092Z"
   },
   {
    "duration": 25,
    "start_time": "2022-05-21T22:43:22.100Z"
   },
   {
    "duration": 18,
    "start_time": "2022-05-21T22:43:22.130Z"
   },
   {
    "duration": 12,
    "start_time": "2022-05-21T22:43:22.150Z"
   },
   {
    "duration": 19,
    "start_time": "2022-05-21T22:43:22.163Z"
   },
   {
    "duration": 7,
    "start_time": "2022-05-21T22:43:22.186Z"
   },
   {
    "duration": 32,
    "start_time": "2022-05-21T22:43:22.194Z"
   },
   {
    "duration": 36,
    "start_time": "2022-05-21T22:43:22.227Z"
   },
   {
    "duration": 17,
    "start_time": "2022-05-21T22:43:22.264Z"
   },
   {
    "duration": 11,
    "start_time": "2022-05-21T22:43:22.283Z"
   },
   {
    "duration": 6,
    "start_time": "2022-05-21T22:43:22.296Z"
   },
   {
    "duration": 6,
    "start_time": "2022-05-21T22:43:22.303Z"
   },
   {
    "duration": 16,
    "start_time": "2022-05-21T22:43:22.326Z"
   },
   {
    "duration": 8,
    "start_time": "2022-05-21T22:43:22.343Z"
   },
   {
    "duration": 8,
    "start_time": "2022-05-21T22:43:22.352Z"
   },
   {
    "duration": 7,
    "start_time": "2022-05-21T22:43:22.362Z"
   },
   {
    "duration": 6,
    "start_time": "2022-05-21T22:43:22.371Z"
   },
   {
    "duration": 12,
    "start_time": "2022-05-21T22:43:22.379Z"
   },
   {
    "duration": 49,
    "start_time": "2022-05-21T22:43:22.393Z"
   },
   {
    "duration": 11,
    "start_time": "2022-05-21T22:43:22.444Z"
   },
   {
    "duration": 8,
    "start_time": "2022-05-21T22:43:22.456Z"
   },
   {
    "duration": 9,
    "start_time": "2022-05-21T22:43:22.465Z"
   },
   {
    "duration": 11,
    "start_time": "2022-05-21T22:43:22.475Z"
   },
   {
    "duration": 7,
    "start_time": "2022-05-21T22:43:22.487Z"
   },
   {
    "duration": 30,
    "start_time": "2022-05-21T22:43:22.495Z"
   },
   {
    "duration": 25,
    "start_time": "2022-05-21T22:43:22.527Z"
   },
   {
    "duration": 12,
    "start_time": "2022-05-21T22:43:22.554Z"
   },
   {
    "duration": 9,
    "start_time": "2022-05-21T22:43:22.568Z"
   },
   {
    "duration": 21,
    "start_time": "2022-05-21T22:43:22.579Z"
   },
   {
    "duration": 9,
    "start_time": "2022-05-21T22:43:22.602Z"
   },
   {
    "duration": 18,
    "start_time": "2022-05-21T22:43:22.613Z"
   },
   {
    "duration": 34,
    "start_time": "2022-05-21T22:43:22.633Z"
   },
   {
    "duration": 7,
    "start_time": "2022-05-21T22:43:22.674Z"
   },
   {
    "duration": 11,
    "start_time": "2022-05-21T22:43:22.683Z"
   },
   {
    "duration": 4,
    "start_time": "2022-05-21T22:43:22.697Z"
   },
   {
    "duration": 7,
    "start_time": "2022-05-21T22:43:22.703Z"
   },
   {
    "duration": 16,
    "start_time": "2022-05-21T22:43:22.712Z"
   },
   {
    "duration": 8,
    "start_time": "2022-05-21T22:43:22.730Z"
   },
   {
    "duration": 16,
    "start_time": "2022-05-21T22:43:22.743Z"
   },
   {
    "duration": 4799,
    "start_time": "2022-05-21T22:43:22.760Z"
   },
   {
    "duration": 11,
    "start_time": "2022-05-21T22:43:27.562Z"
   },
   {
    "duration": 17,
    "start_time": "2022-05-21T22:43:27.575Z"
   },
   {
    "duration": 6,
    "start_time": "2022-05-21T22:43:27.594Z"
   },
   {
    "duration": 27,
    "start_time": "2022-05-21T22:43:27.601Z"
   },
   {
    "duration": 29,
    "start_time": "2022-05-21T22:43:27.630Z"
   },
   {
    "duration": 19,
    "start_time": "2022-05-21T22:43:27.660Z"
   },
   {
    "duration": 16,
    "start_time": "2022-05-21T22:43:27.680Z"
   },
   {
    "duration": 10,
    "start_time": "2022-05-21T22:43:27.698Z"
   },
   {
    "duration": 10,
    "start_time": "2022-05-21T22:43:27.709Z"
   },
   {
    "duration": 21,
    "start_time": "2022-05-21T22:43:27.721Z"
   },
   {
    "duration": 8,
    "start_time": "2022-05-21T22:43:27.744Z"
   },
   {
    "duration": 6,
    "start_time": "2022-05-21T22:43:27.754Z"
   },
   {
    "duration": 7,
    "start_time": "2022-05-21T22:43:27.761Z"
   },
   {
    "duration": 4,
    "start_time": "2022-05-21T22:43:27.770Z"
   },
   {
    "duration": 9,
    "start_time": "2022-05-21T22:43:27.776Z"
   },
   {
    "duration": 8,
    "start_time": "2022-05-21T22:43:27.786Z"
   },
   {
    "duration": 8,
    "start_time": "2022-05-21T22:43:27.796Z"
   },
   {
    "duration": 34,
    "start_time": "2022-05-21T22:43:27.805Z"
   },
   {
    "duration": 9,
    "start_time": "2022-05-21T22:43:27.841Z"
   },
   {
    "duration": 5,
    "start_time": "2022-05-21T22:43:27.851Z"
   },
   {
    "duration": 12,
    "start_time": "2022-05-21T22:43:27.857Z"
   },
   {
    "duration": 7,
    "start_time": "2022-05-21T22:43:27.871Z"
   },
   {
    "duration": 13,
    "start_time": "2022-05-21T22:43:27.879Z"
   },
   {
    "duration": 4,
    "start_time": "2022-05-21T22:43:27.894Z"
   },
   {
    "duration": 55,
    "start_time": "2022-05-21T22:43:27.899Z"
   },
   {
    "duration": 11,
    "start_time": "2022-05-21T22:43:27.957Z"
   },
   {
    "duration": 24,
    "start_time": "2022-05-21T22:43:27.970Z"
   },
   {
    "duration": 104,
    "start_time": "2022-05-21T22:43:27.996Z"
   },
   {
    "duration": 0,
    "start_time": "2022-05-21T22:43:28.102Z"
   },
   {
    "duration": 1,
    "start_time": "2022-05-21T22:43:28.104Z"
   },
   {
    "duration": 0,
    "start_time": "2022-05-21T22:43:28.106Z"
   },
   {
    "duration": 0,
    "start_time": "2022-05-21T22:43:28.108Z"
   },
   {
    "duration": 0,
    "start_time": "2022-05-21T22:43:28.109Z"
   },
   {
    "duration": 0,
    "start_time": "2022-05-21T22:43:28.123Z"
   },
   {
    "duration": 0,
    "start_time": "2022-05-21T22:43:28.124Z"
   },
   {
    "duration": 0,
    "start_time": "2022-05-21T22:43:28.125Z"
   },
   {
    "duration": 0,
    "start_time": "2022-05-21T22:43:28.126Z"
   },
   {
    "duration": 0,
    "start_time": "2022-05-21T22:43:28.127Z"
   },
   {
    "duration": 0,
    "start_time": "2022-05-21T22:43:28.128Z"
   },
   {
    "duration": 0,
    "start_time": "2022-05-21T22:43:28.129Z"
   },
   {
    "duration": 0,
    "start_time": "2022-05-21T22:43:28.130Z"
   },
   {
    "duration": 0,
    "start_time": "2022-05-21T22:43:28.131Z"
   },
   {
    "duration": 0,
    "start_time": "2022-05-21T22:43:28.133Z"
   },
   {
    "duration": 0,
    "start_time": "2022-05-21T22:43:28.134Z"
   },
   {
    "duration": 0,
    "start_time": "2022-05-21T22:43:28.135Z"
   },
   {
    "duration": 0,
    "start_time": "2022-05-21T22:43:28.136Z"
   },
   {
    "duration": 0,
    "start_time": "2022-05-21T22:43:28.137Z"
   },
   {
    "duration": 0,
    "start_time": "2022-05-21T22:43:28.138Z"
   },
   {
    "duration": 0,
    "start_time": "2022-05-21T22:43:28.139Z"
   },
   {
    "duration": 0,
    "start_time": "2022-05-21T22:43:28.140Z"
   },
   {
    "duration": 0,
    "start_time": "2022-05-21T22:43:28.141Z"
   },
   {
    "duration": 0,
    "start_time": "2022-05-21T22:43:28.143Z"
   },
   {
    "duration": 0,
    "start_time": "2022-05-21T22:43:28.143Z"
   },
   {
    "duration": 0,
    "start_time": "2022-05-21T22:43:28.145Z"
   },
   {
    "duration": 0,
    "start_time": "2022-05-21T22:43:28.147Z"
   },
   {
    "duration": 0,
    "start_time": "2022-05-21T22:43:28.148Z"
   },
   {
    "duration": 0,
    "start_time": "2022-05-21T22:43:28.149Z"
   },
   {
    "duration": 0,
    "start_time": "2022-05-21T22:43:28.150Z"
   },
   {
    "duration": 0,
    "start_time": "2022-05-21T22:43:28.151Z"
   },
   {
    "duration": 0,
    "start_time": "2022-05-21T22:43:28.152Z"
   },
   {
    "duration": 0,
    "start_time": "2022-05-21T22:43:28.153Z"
   },
   {
    "duration": 0,
    "start_time": "2022-05-21T22:43:28.155Z"
   },
   {
    "duration": 44,
    "start_time": "2022-05-21T22:44:37.598Z"
   },
   {
    "duration": 566,
    "start_time": "2022-05-21T22:44:42.192Z"
   },
   {
    "duration": 124,
    "start_time": "2022-05-21T22:44:42.761Z"
   },
   {
    "duration": 25,
    "start_time": "2022-05-21T22:44:42.887Z"
   },
   {
    "duration": 9,
    "start_time": "2022-05-21T22:44:42.915Z"
   },
   {
    "duration": 41,
    "start_time": "2022-05-21T22:44:42.926Z"
   },
   {
    "duration": 7,
    "start_time": "2022-05-21T22:44:42.969Z"
   },
   {
    "duration": 16,
    "start_time": "2022-05-21T22:44:42.978Z"
   },
   {
    "duration": 12,
    "start_time": "2022-05-21T22:44:42.996Z"
   },
   {
    "duration": 37,
    "start_time": "2022-05-21T22:44:43.010Z"
   },
   {
    "duration": 7,
    "start_time": "2022-05-21T22:44:43.050Z"
   },
   {
    "duration": 10,
    "start_time": "2022-05-21T22:44:43.059Z"
   },
   {
    "duration": 17,
    "start_time": "2022-05-21T22:44:43.070Z"
   },
   {
    "duration": 19,
    "start_time": "2022-05-21T22:44:43.089Z"
   },
   {
    "duration": 29,
    "start_time": "2022-05-21T22:44:43.110Z"
   },
   {
    "duration": 10,
    "start_time": "2022-05-21T22:44:43.141Z"
   },
   {
    "duration": 32,
    "start_time": "2022-05-21T22:44:43.153Z"
   },
   {
    "duration": 20,
    "start_time": "2022-05-21T22:44:43.187Z"
   },
   {
    "duration": 32,
    "start_time": "2022-05-21T22:44:43.208Z"
   },
   {
    "duration": 8,
    "start_time": "2022-05-21T22:44:43.242Z"
   },
   {
    "duration": 5,
    "start_time": "2022-05-21T22:44:43.252Z"
   },
   {
    "duration": 18,
    "start_time": "2022-05-21T22:44:43.259Z"
   },
   {
    "duration": 7,
    "start_time": "2022-05-21T22:44:43.279Z"
   },
   {
    "duration": 11,
    "start_time": "2022-05-21T22:44:43.288Z"
   },
   {
    "duration": 10,
    "start_time": "2022-05-21T22:44:43.325Z"
   },
   {
    "duration": 15,
    "start_time": "2022-05-21T22:44:43.337Z"
   },
   {
    "duration": 16,
    "start_time": "2022-05-21T22:44:43.354Z"
   },
   {
    "duration": 21,
    "start_time": "2022-05-21T22:44:43.371Z"
   },
   {
    "duration": 8,
    "start_time": "2022-05-21T22:44:43.396Z"
   },
   {
    "duration": 22,
    "start_time": "2022-05-21T22:44:43.406Z"
   },
   {
    "duration": 20,
    "start_time": "2022-05-21T22:44:43.430Z"
   },
   {
    "duration": 12,
    "start_time": "2022-05-21T22:44:43.452Z"
   },
   {
    "duration": 7,
    "start_time": "2022-05-21T22:44:43.466Z"
   },
   {
    "duration": 8,
    "start_time": "2022-05-21T22:44:43.475Z"
   },
   {
    "duration": 5,
    "start_time": "2022-05-21T22:44:43.485Z"
   },
   {
    "duration": 41,
    "start_time": "2022-05-21T22:44:43.492Z"
   },
   {
    "duration": 13,
    "start_time": "2022-05-21T22:44:43.538Z"
   },
   {
    "duration": 10,
    "start_time": "2022-05-21T22:44:43.553Z"
   },
   {
    "duration": 4,
    "start_time": "2022-05-21T22:44:43.565Z"
   },
   {
    "duration": 11,
    "start_time": "2022-05-21T22:44:43.571Z"
   },
   {
    "duration": 15,
    "start_time": "2022-05-21T22:44:43.584Z"
   },
   {
    "duration": 17,
    "start_time": "2022-05-21T22:44:43.624Z"
   },
   {
    "duration": 11,
    "start_time": "2022-05-21T22:44:43.643Z"
   },
   {
    "duration": 3,
    "start_time": "2022-05-21T22:44:43.656Z"
   },
   {
    "duration": 6,
    "start_time": "2022-05-21T22:44:43.661Z"
   },
   {
    "duration": 11,
    "start_time": "2022-05-21T22:44:43.669Z"
   },
   {
    "duration": 14,
    "start_time": "2022-05-21T22:44:43.682Z"
   },
   {
    "duration": 28,
    "start_time": "2022-05-21T22:44:43.698Z"
   },
   {
    "duration": 4846,
    "start_time": "2022-05-21T22:44:43.728Z"
   },
   {
    "duration": 11,
    "start_time": "2022-05-21T22:44:48.576Z"
   },
   {
    "duration": 37,
    "start_time": "2022-05-21T22:44:48.589Z"
   },
   {
    "duration": 7,
    "start_time": "2022-05-21T22:44:48.631Z"
   },
   {
    "duration": 8,
    "start_time": "2022-05-21T22:44:48.640Z"
   },
   {
    "duration": 12,
    "start_time": "2022-05-21T22:44:48.650Z"
   },
   {
    "duration": 12,
    "start_time": "2022-05-21T22:44:48.664Z"
   },
   {
    "duration": 13,
    "start_time": "2022-05-21T22:44:48.678Z"
   },
   {
    "duration": 11,
    "start_time": "2022-05-21T22:44:48.693Z"
   },
   {
    "duration": 12,
    "start_time": "2022-05-21T22:44:48.723Z"
   },
   {
    "duration": 8,
    "start_time": "2022-05-21T22:44:48.739Z"
   },
   {
    "duration": 7,
    "start_time": "2022-05-21T22:44:48.749Z"
   },
   {
    "duration": 5,
    "start_time": "2022-05-21T22:44:48.758Z"
   },
   {
    "duration": 10,
    "start_time": "2022-05-21T22:44:48.765Z"
   },
   {
    "duration": 6,
    "start_time": "2022-05-21T22:44:48.776Z"
   },
   {
    "duration": 7,
    "start_time": "2022-05-21T22:44:48.784Z"
   },
   {
    "duration": 9,
    "start_time": "2022-05-21T22:44:48.824Z"
   },
   {
    "duration": 17,
    "start_time": "2022-05-21T22:44:48.834Z"
   },
   {
    "duration": 5,
    "start_time": "2022-05-21T22:44:48.853Z"
   },
   {
    "duration": 7,
    "start_time": "2022-05-21T22:44:48.860Z"
   },
   {
    "duration": 3,
    "start_time": "2022-05-21T22:44:48.869Z"
   },
   {
    "duration": 12,
    "start_time": "2022-05-21T22:44:48.873Z"
   },
   {
    "duration": 10,
    "start_time": "2022-05-21T22:44:48.887Z"
   },
   {
    "duration": 33,
    "start_time": "2022-05-21T22:44:48.899Z"
   },
   {
    "duration": 6,
    "start_time": "2022-05-21T22:44:48.934Z"
   },
   {
    "duration": 50,
    "start_time": "2022-05-21T22:44:48.944Z"
   },
   {
    "duration": 12,
    "start_time": "2022-05-21T22:44:48.996Z"
   },
   {
    "duration": 24,
    "start_time": "2022-05-21T22:44:49.026Z"
   },
   {
    "duration": 83,
    "start_time": "2022-05-21T22:44:49.052Z"
   },
   {
    "duration": 0,
    "start_time": "2022-05-21T22:44:49.139Z"
   },
   {
    "duration": 0,
    "start_time": "2022-05-21T22:44:49.140Z"
   },
   {
    "duration": 0,
    "start_time": "2022-05-21T22:44:49.142Z"
   },
   {
    "duration": 0,
    "start_time": "2022-05-21T22:44:49.143Z"
   },
   {
    "duration": 0,
    "start_time": "2022-05-21T22:44:49.144Z"
   },
   {
    "duration": 0,
    "start_time": "2022-05-21T22:44:49.145Z"
   },
   {
    "duration": 0,
    "start_time": "2022-05-21T22:44:49.147Z"
   },
   {
    "duration": 0,
    "start_time": "2022-05-21T22:44:49.148Z"
   },
   {
    "duration": 0,
    "start_time": "2022-05-21T22:44:49.149Z"
   },
   {
    "duration": 0,
    "start_time": "2022-05-21T22:44:49.151Z"
   },
   {
    "duration": 1,
    "start_time": "2022-05-21T22:44:49.151Z"
   },
   {
    "duration": 0,
    "start_time": "2022-05-21T22:44:49.153Z"
   },
   {
    "duration": 0,
    "start_time": "2022-05-21T22:44:49.154Z"
   },
   {
    "duration": 0,
    "start_time": "2022-05-21T22:44:49.155Z"
   },
   {
    "duration": 0,
    "start_time": "2022-05-21T22:44:49.156Z"
   },
   {
    "duration": 0,
    "start_time": "2022-05-21T22:44:49.158Z"
   },
   {
    "duration": 0,
    "start_time": "2022-05-21T22:44:49.159Z"
   },
   {
    "duration": 0,
    "start_time": "2022-05-21T22:44:49.160Z"
   },
   {
    "duration": 0,
    "start_time": "2022-05-21T22:44:49.161Z"
   },
   {
    "duration": 0,
    "start_time": "2022-05-21T22:44:49.163Z"
   },
   {
    "duration": 0,
    "start_time": "2022-05-21T22:44:49.164Z"
   },
   {
    "duration": 0,
    "start_time": "2022-05-21T22:44:49.165Z"
   },
   {
    "duration": 0,
    "start_time": "2022-05-21T22:44:49.166Z"
   },
   {
    "duration": 0,
    "start_time": "2022-05-21T22:44:49.168Z"
   },
   {
    "duration": 0,
    "start_time": "2022-05-21T22:44:49.169Z"
   },
   {
    "duration": 0,
    "start_time": "2022-05-21T22:44:49.170Z"
   },
   {
    "duration": 0,
    "start_time": "2022-05-21T22:44:49.226Z"
   },
   {
    "duration": 0,
    "start_time": "2022-05-21T22:44:49.227Z"
   },
   {
    "duration": 0,
    "start_time": "2022-05-21T22:44:49.228Z"
   },
   {
    "duration": 0,
    "start_time": "2022-05-21T22:44:49.228Z"
   },
   {
    "duration": 0,
    "start_time": "2022-05-21T22:44:49.229Z"
   },
   {
    "duration": 0,
    "start_time": "2022-05-21T22:44:49.230Z"
   },
   {
    "duration": 0,
    "start_time": "2022-05-21T22:44:49.231Z"
   },
   {
    "duration": 0,
    "start_time": "2022-05-21T22:44:49.232Z"
   },
   {
    "duration": 14,
    "start_time": "2022-05-21T22:47:54.810Z"
   },
   {
    "duration": 16,
    "start_time": "2022-05-21T22:48:22.458Z"
   },
   {
    "duration": 23,
    "start_time": "2022-05-21T22:48:35.323Z"
   },
   {
    "duration": 18,
    "start_time": "2022-05-21T22:48:42.647Z"
   },
   {
    "duration": 4,
    "start_time": "2022-05-21T22:49:05.858Z"
   },
   {
    "duration": 10,
    "start_time": "2022-05-21T22:49:10.567Z"
   },
   {
    "duration": 16,
    "start_time": "2022-05-21T22:49:16.773Z"
   },
   {
    "duration": 4,
    "start_time": "2022-05-21T22:49:40.623Z"
   },
   {
    "duration": 11,
    "start_time": "2022-05-21T22:49:43.348Z"
   },
   {
    "duration": 13,
    "start_time": "2022-05-21T22:50:58.790Z"
   },
   {
    "duration": 463,
    "start_time": "2022-05-21T22:51:46.384Z"
   },
   {
    "duration": 91,
    "start_time": "2022-05-21T22:51:46.855Z"
   },
   {
    "duration": 16,
    "start_time": "2022-05-21T22:51:46.951Z"
   },
   {
    "duration": 4,
    "start_time": "2022-05-21T22:51:46.970Z"
   },
   {
    "duration": 20,
    "start_time": "2022-05-21T22:51:46.976Z"
   },
   {
    "duration": 7,
    "start_time": "2022-05-21T22:51:46.998Z"
   },
   {
    "duration": 34,
    "start_time": "2022-05-21T22:51:47.007Z"
   },
   {
    "duration": 16,
    "start_time": "2022-05-21T22:51:47.044Z"
   },
   {
    "duration": 20,
    "start_time": "2022-05-21T22:51:47.062Z"
   },
   {
    "duration": 8,
    "start_time": "2022-05-21T22:51:47.085Z"
   },
   {
    "duration": 9,
    "start_time": "2022-05-21T22:51:47.095Z"
   },
   {
    "duration": 15,
    "start_time": "2022-05-21T22:51:47.105Z"
   },
   {
    "duration": 37,
    "start_time": "2022-05-21T22:51:47.121Z"
   },
   {
    "duration": 6,
    "start_time": "2022-05-21T22:51:47.159Z"
   },
   {
    "duration": 9,
    "start_time": "2022-05-21T22:51:47.167Z"
   },
   {
    "duration": 27,
    "start_time": "2022-05-21T22:51:47.177Z"
   },
   {
    "duration": 38,
    "start_time": "2022-05-21T22:51:47.206Z"
   },
   {
    "duration": 11,
    "start_time": "2022-05-21T22:51:47.249Z"
   },
   {
    "duration": 7,
    "start_time": "2022-05-21T22:51:47.262Z"
   },
   {
    "duration": 5,
    "start_time": "2022-05-21T22:51:47.271Z"
   },
   {
    "duration": 15,
    "start_time": "2022-05-21T22:51:47.277Z"
   },
   {
    "duration": 5,
    "start_time": "2022-05-21T22:51:47.293Z"
   },
   {
    "duration": 5,
    "start_time": "2022-05-21T22:51:47.300Z"
   },
   {
    "duration": 28,
    "start_time": "2022-05-21T22:51:47.306Z"
   },
   {
    "duration": 16,
    "start_time": "2022-05-21T22:51:47.342Z"
   },
   {
    "duration": 12,
    "start_time": "2022-05-21T22:51:47.359Z"
   },
   {
    "duration": 12,
    "start_time": "2022-05-21T22:51:47.372Z"
   },
   {
    "duration": 7,
    "start_time": "2022-05-21T22:51:47.389Z"
   },
   {
    "duration": 7,
    "start_time": "2022-05-21T22:51:47.397Z"
   },
   {
    "duration": 11,
    "start_time": "2022-05-21T22:51:47.405Z"
   },
   {
    "duration": 16,
    "start_time": "2022-05-21T22:51:47.422Z"
   },
   {
    "duration": 19,
    "start_time": "2022-05-21T22:51:47.439Z"
   },
   {
    "duration": 5,
    "start_time": "2022-05-21T22:51:47.460Z"
   },
   {
    "duration": 5,
    "start_time": "2022-05-21T22:51:47.466Z"
   },
   {
    "duration": 11,
    "start_time": "2022-05-21T22:51:47.472Z"
   },
   {
    "duration": 5,
    "start_time": "2022-05-21T22:51:47.485Z"
   },
   {
    "duration": 9,
    "start_time": "2022-05-21T22:51:47.491Z"
   },
   {
    "duration": 8,
    "start_time": "2022-05-21T22:51:47.531Z"
   },
   {
    "duration": 27,
    "start_time": "2022-05-21T22:51:47.545Z"
   },
   {
    "duration": 16,
    "start_time": "2022-05-21T22:51:47.573Z"
   },
   {
    "duration": 6,
    "start_time": "2022-05-21T22:51:47.590Z"
   },
   {
    "duration": 9,
    "start_time": "2022-05-21T22:51:47.598Z"
   },
   {
    "duration": 5,
    "start_time": "2022-05-21T22:51:47.609Z"
   },
   {
    "duration": 16,
    "start_time": "2022-05-21T22:51:47.615Z"
   },
   {
    "duration": 27,
    "start_time": "2022-05-21T22:51:47.632Z"
   },
   {
    "duration": 7,
    "start_time": "2022-05-21T22:51:47.661Z"
   },
   {
    "duration": 4,
    "start_time": "2022-05-21T22:51:47.670Z"
   },
   {
    "duration": 4896,
    "start_time": "2022-05-21T22:51:47.675Z"
   },
   {
    "duration": 11,
    "start_time": "2022-05-21T22:51:52.573Z"
   },
   {
    "duration": 22,
    "start_time": "2022-05-21T22:51:52.586Z"
   },
   {
    "duration": 6,
    "start_time": "2022-05-21T22:51:52.610Z"
   },
   {
    "duration": 18,
    "start_time": "2022-05-21T22:51:52.617Z"
   },
   {
    "duration": 32,
    "start_time": "2022-05-21T22:51:52.638Z"
   },
   {
    "duration": 19,
    "start_time": "2022-05-21T22:51:52.672Z"
   },
   {
    "duration": 21,
    "start_time": "2022-05-21T22:51:52.692Z"
   },
   {
    "duration": 26,
    "start_time": "2022-05-21T22:51:52.714Z"
   },
   {
    "duration": 24,
    "start_time": "2022-05-21T22:51:52.747Z"
   },
   {
    "duration": 8,
    "start_time": "2022-05-21T22:51:52.773Z"
   },
   {
    "duration": 6,
    "start_time": "2022-05-21T22:51:52.785Z"
   },
   {
    "duration": 10,
    "start_time": "2022-05-21T22:51:52.793Z"
   },
   {
    "duration": 10,
    "start_time": "2022-05-21T22:51:52.805Z"
   },
   {
    "duration": 5,
    "start_time": "2022-05-21T22:51:52.818Z"
   },
   {
    "duration": 58,
    "start_time": "2022-05-21T22:51:52.824Z"
   },
   {
    "duration": 6,
    "start_time": "2022-05-21T22:51:52.884Z"
   },
   {
    "duration": 7,
    "start_time": "2022-05-21T22:51:52.891Z"
   },
   {
    "duration": 6,
    "start_time": "2022-05-21T22:51:52.899Z"
   },
   {
    "duration": 5,
    "start_time": "2022-05-21T22:51:52.907Z"
   },
   {
    "duration": 5,
    "start_time": "2022-05-21T22:51:52.913Z"
   },
   {
    "duration": 39,
    "start_time": "2022-05-21T22:51:52.919Z"
   },
   {
    "duration": 9,
    "start_time": "2022-05-21T22:51:52.960Z"
   },
   {
    "duration": 15,
    "start_time": "2022-05-21T22:51:52.970Z"
   },
   {
    "duration": 17,
    "start_time": "2022-05-21T22:51:52.986Z"
   },
   {
    "duration": 12,
    "start_time": "2022-05-21T22:51:53.004Z"
   },
   {
    "duration": 46,
    "start_time": "2022-05-21T22:51:53.018Z"
   },
   {
    "duration": 7,
    "start_time": "2022-05-21T22:51:53.066Z"
   },
   {
    "duration": 10,
    "start_time": "2022-05-21T22:51:53.075Z"
   },
   {
    "duration": 9,
    "start_time": "2022-05-21T22:51:53.087Z"
   },
   {
    "duration": 12,
    "start_time": "2022-05-21T22:51:53.098Z"
   },
   {
    "duration": 7,
    "start_time": "2022-05-21T22:51:53.111Z"
   },
   {
    "duration": 13,
    "start_time": "2022-05-21T22:51:53.120Z"
   },
   {
    "duration": 12,
    "start_time": "2022-05-21T22:51:53.135Z"
   },
   {
    "duration": 17,
    "start_time": "2022-05-21T22:51:53.154Z"
   },
   {
    "duration": 83,
    "start_time": "2022-05-21T22:51:53.172Z"
   },
   {
    "duration": 0,
    "start_time": "2022-05-21T22:51:53.257Z"
   },
   {
    "duration": 0,
    "start_time": "2022-05-21T22:51:53.258Z"
   },
   {
    "duration": 0,
    "start_time": "2022-05-21T22:51:53.259Z"
   },
   {
    "duration": 0,
    "start_time": "2022-05-21T22:51:53.260Z"
   },
   {
    "duration": 0,
    "start_time": "2022-05-21T22:51:53.262Z"
   },
   {
    "duration": 0,
    "start_time": "2022-05-21T22:51:53.263Z"
   },
   {
    "duration": 0,
    "start_time": "2022-05-21T22:51:53.264Z"
   },
   {
    "duration": 0,
    "start_time": "2022-05-21T22:51:53.265Z"
   },
   {
    "duration": 0,
    "start_time": "2022-05-21T22:51:53.266Z"
   },
   {
    "duration": 0,
    "start_time": "2022-05-21T22:51:53.267Z"
   },
   {
    "duration": 0,
    "start_time": "2022-05-21T22:51:53.267Z"
   },
   {
    "duration": 1,
    "start_time": "2022-05-21T22:51:53.268Z"
   },
   {
    "duration": 0,
    "start_time": "2022-05-21T22:51:53.270Z"
   },
   {
    "duration": 0,
    "start_time": "2022-05-21T22:51:53.271Z"
   },
   {
    "duration": 0,
    "start_time": "2022-05-21T22:51:53.272Z"
   },
   {
    "duration": 0,
    "start_time": "2022-05-21T22:51:53.273Z"
   },
   {
    "duration": 0,
    "start_time": "2022-05-21T22:51:53.274Z"
   },
   {
    "duration": 0,
    "start_time": "2022-05-21T22:51:53.275Z"
   },
   {
    "duration": 0,
    "start_time": "2022-05-21T22:51:53.276Z"
   },
   {
    "duration": 14,
    "start_time": "2022-05-21T22:53:10.836Z"
   },
   {
    "duration": 14,
    "start_time": "2022-05-21T22:53:34.764Z"
   },
   {
    "duration": 13,
    "start_time": "2022-05-21T22:53:53.445Z"
   },
   {
    "duration": 21,
    "start_time": "2022-05-21T22:53:59.316Z"
   },
   {
    "duration": 14,
    "start_time": "2022-05-21T22:54:07.638Z"
   },
   {
    "duration": 13,
    "start_time": "2022-05-21T22:54:12.568Z"
   },
   {
    "duration": 15,
    "start_time": "2022-05-21T22:54:28.201Z"
   },
   {
    "duration": 16,
    "start_time": "2022-05-21T22:54:37.736Z"
   },
   {
    "duration": 15,
    "start_time": "2022-05-21T22:56:59.071Z"
   },
   {
    "duration": 8,
    "start_time": "2022-05-21T22:57:58.740Z"
   },
   {
    "duration": 137,
    "start_time": "2022-05-21T22:58:02.488Z"
   },
   {
    "duration": 124,
    "start_time": "2022-05-21T22:58:20.073Z"
   },
   {
    "duration": 15,
    "start_time": "2022-05-21T22:58:26.901Z"
   },
   {
    "duration": 12,
    "start_time": "2022-05-21T22:59:43.782Z"
   },
   {
    "duration": 12,
    "start_time": "2022-05-21T22:59:47.577Z"
   },
   {
    "duration": 25,
    "start_time": "2022-05-21T23:00:00.224Z"
   },
   {
    "duration": 422,
    "start_time": "2022-05-21T23:01:49.187Z"
   },
   {
    "duration": 87,
    "start_time": "2022-05-21T23:01:49.611Z"
   },
   {
    "duration": 15,
    "start_time": "2022-05-21T23:01:49.700Z"
   },
   {
    "duration": 18,
    "start_time": "2022-05-21T23:01:49.717Z"
   },
   {
    "duration": 43,
    "start_time": "2022-05-21T23:01:49.736Z"
   },
   {
    "duration": 7,
    "start_time": "2022-05-21T23:01:49.780Z"
   },
   {
    "duration": 29,
    "start_time": "2022-05-21T23:01:49.788Z"
   },
   {
    "duration": 25,
    "start_time": "2022-05-21T23:01:49.819Z"
   },
   {
    "duration": 34,
    "start_time": "2022-05-21T23:01:49.845Z"
   },
   {
    "duration": 12,
    "start_time": "2022-05-21T23:01:49.881Z"
   },
   {
    "duration": 15,
    "start_time": "2022-05-21T23:01:49.894Z"
   },
   {
    "duration": 42,
    "start_time": "2022-05-21T23:01:49.911Z"
   },
   {
    "duration": 25,
    "start_time": "2022-05-21T23:01:49.955Z"
   },
   {
    "duration": 11,
    "start_time": "2022-05-21T23:01:49.983Z"
   },
   {
    "duration": 42,
    "start_time": "2022-05-21T23:01:49.995Z"
   },
   {
    "duration": 36,
    "start_time": "2022-05-21T23:01:50.038Z"
   },
   {
    "duration": 23,
    "start_time": "2022-05-21T23:01:50.076Z"
   },
   {
    "duration": 11,
    "start_time": "2022-05-21T23:01:50.101Z"
   },
   {
    "duration": 25,
    "start_time": "2022-05-21T23:01:50.113Z"
   },
   {
    "duration": 27,
    "start_time": "2022-05-21T23:01:50.139Z"
   },
   {
    "duration": 20,
    "start_time": "2022-05-21T23:01:50.167Z"
   },
   {
    "duration": 11,
    "start_time": "2022-05-21T23:01:50.188Z"
   },
   {
    "duration": 14,
    "start_time": "2022-05-21T23:01:50.201Z"
   },
   {
    "duration": 23,
    "start_time": "2022-05-21T23:01:50.216Z"
   },
   {
    "duration": 11,
    "start_time": "2022-05-21T23:01:50.241Z"
   },
   {
    "duration": 16,
    "start_time": "2022-05-21T23:01:50.253Z"
   },
   {
    "duration": 18,
    "start_time": "2022-05-21T23:01:50.270Z"
   },
   {
    "duration": 24,
    "start_time": "2022-05-21T23:01:50.292Z"
   },
   {
    "duration": 25,
    "start_time": "2022-05-21T23:01:50.317Z"
   },
   {
    "duration": 16,
    "start_time": "2022-05-21T23:01:50.344Z"
   },
   {
    "duration": 25,
    "start_time": "2022-05-21T23:01:50.362Z"
   },
   {
    "duration": 9,
    "start_time": "2022-05-21T23:01:50.389Z"
   },
   {
    "duration": 20,
    "start_time": "2022-05-21T23:01:50.400Z"
   },
   {
    "duration": 16,
    "start_time": "2022-05-21T23:01:50.422Z"
   },
   {
    "duration": 23,
    "start_time": "2022-05-21T23:01:50.441Z"
   },
   {
    "duration": 9,
    "start_time": "2022-05-21T23:01:50.466Z"
   },
   {
    "duration": 27,
    "start_time": "2022-05-21T23:01:50.476Z"
   },
   {
    "duration": 10,
    "start_time": "2022-05-21T23:01:50.504Z"
   },
   {
    "duration": 40,
    "start_time": "2022-05-21T23:01:50.516Z"
   },
   {
    "duration": 23,
    "start_time": "2022-05-21T23:01:50.558Z"
   },
   {
    "duration": 5,
    "start_time": "2022-05-21T23:01:50.583Z"
   },
   {
    "duration": 21,
    "start_time": "2022-05-21T23:01:50.589Z"
   },
   {
    "duration": 5,
    "start_time": "2022-05-21T23:01:50.611Z"
   },
   {
    "duration": 22,
    "start_time": "2022-05-21T23:01:50.618Z"
   },
   {
    "duration": 21,
    "start_time": "2022-05-21T23:01:50.641Z"
   },
   {
    "duration": 21,
    "start_time": "2022-05-21T23:01:50.664Z"
   },
   {
    "duration": 26,
    "start_time": "2022-05-21T23:01:50.686Z"
   },
   {
    "duration": 4762,
    "start_time": "2022-05-21T23:01:50.714Z"
   },
   {
    "duration": 12,
    "start_time": "2022-05-21T23:01:55.478Z"
   },
   {
    "duration": 15,
    "start_time": "2022-05-21T23:01:55.491Z"
   },
   {
    "duration": 21,
    "start_time": "2022-05-21T23:01:55.507Z"
   },
   {
    "duration": 16,
    "start_time": "2022-05-21T23:01:55.529Z"
   },
   {
    "duration": 10,
    "start_time": "2022-05-21T23:01:55.547Z"
   },
   {
    "duration": 7,
    "start_time": "2022-05-21T23:01:55.559Z"
   },
   {
    "duration": 11,
    "start_time": "2022-05-21T23:01:55.567Z"
   },
   {
    "duration": 11,
    "start_time": "2022-05-21T23:01:55.580Z"
   },
   {
    "duration": 7,
    "start_time": "2022-05-21T23:01:55.593Z"
   },
   {
    "duration": 35,
    "start_time": "2022-05-21T23:01:55.601Z"
   },
   {
    "duration": 6,
    "start_time": "2022-05-21T23:01:55.638Z"
   },
   {
    "duration": 6,
    "start_time": "2022-05-21T23:01:55.645Z"
   },
   {
    "duration": 13,
    "start_time": "2022-05-21T23:01:55.653Z"
   },
   {
    "duration": 5,
    "start_time": "2022-05-21T23:01:55.667Z"
   },
   {
    "duration": 11,
    "start_time": "2022-05-21T23:01:55.673Z"
   },
   {
    "duration": 7,
    "start_time": "2022-05-21T23:01:55.685Z"
   },
   {
    "duration": 6,
    "start_time": "2022-05-21T23:01:55.694Z"
   },
   {
    "duration": 33,
    "start_time": "2022-05-21T23:01:55.702Z"
   },
   {
    "duration": 6,
    "start_time": "2022-05-21T23:01:55.737Z"
   },
   {
    "duration": 6,
    "start_time": "2022-05-21T23:01:55.744Z"
   },
   {
    "duration": 14,
    "start_time": "2022-05-21T23:01:55.751Z"
   },
   {
    "duration": 6,
    "start_time": "2022-05-21T23:01:55.766Z"
   },
   {
    "duration": 12,
    "start_time": "2022-05-21T23:01:55.774Z"
   },
   {
    "duration": 17,
    "start_time": "2022-05-21T23:01:55.787Z"
   },
   {
    "duration": 21,
    "start_time": "2022-05-21T23:01:55.830Z"
   },
   {
    "duration": 19,
    "start_time": "2022-05-21T23:01:55.852Z"
   },
   {
    "duration": 9,
    "start_time": "2022-05-21T23:01:55.873Z"
   },
   {
    "duration": 10,
    "start_time": "2022-05-21T23:01:55.884Z"
   },
   {
    "duration": 29,
    "start_time": "2022-05-21T23:01:55.895Z"
   },
   {
    "duration": 13,
    "start_time": "2022-05-21T23:01:55.925Z"
   },
   {
    "duration": 10,
    "start_time": "2022-05-21T23:01:55.940Z"
   },
   {
    "duration": 9,
    "start_time": "2022-05-21T23:01:55.952Z"
   },
   {
    "duration": 6,
    "start_time": "2022-05-21T23:01:55.962Z"
   },
   {
    "duration": 9,
    "start_time": "2022-05-21T23:01:55.974Z"
   },
   {
    "duration": 52,
    "start_time": "2022-05-21T23:01:55.984Z"
   },
   {
    "duration": 13,
    "start_time": "2022-05-21T23:01:56.039Z"
   },
   {
    "duration": 11,
    "start_time": "2022-05-21T23:01:56.054Z"
   },
   {
    "duration": 11,
    "start_time": "2022-05-21T23:01:56.067Z"
   },
   {
    "duration": 9,
    "start_time": "2022-05-21T23:01:56.080Z"
   },
   {
    "duration": 45,
    "start_time": "2022-05-21T23:01:56.090Z"
   },
   {
    "duration": 8,
    "start_time": "2022-05-21T23:01:56.136Z"
   },
   {
    "duration": 6,
    "start_time": "2022-05-21T23:01:56.145Z"
   },
   {
    "duration": 9,
    "start_time": "2022-05-21T23:01:56.152Z"
   },
   {
    "duration": 6,
    "start_time": "2022-05-21T23:01:56.163Z"
   },
   {
    "duration": 12,
    "start_time": "2022-05-21T23:01:56.171Z"
   },
   {
    "duration": 27,
    "start_time": "2022-05-21T23:05:03.219Z"
   },
   {
    "duration": 83,
    "start_time": "2022-05-21T23:05:24.196Z"
   },
   {
    "duration": 16,
    "start_time": "2022-05-21T23:05:28.864Z"
   },
   {
    "duration": 20,
    "start_time": "2022-05-21T23:07:02.174Z"
   },
   {
    "duration": 454,
    "start_time": "2022-05-21T23:13:50.605Z"
   },
   {
    "duration": 87,
    "start_time": "2022-05-21T23:13:51.061Z"
   },
   {
    "duration": 15,
    "start_time": "2022-05-21T23:13:51.149Z"
   },
   {
    "duration": 4,
    "start_time": "2022-05-21T23:13:51.166Z"
   },
   {
    "duration": 18,
    "start_time": "2022-05-21T23:13:51.171Z"
   },
   {
    "duration": 6,
    "start_time": "2022-05-21T23:13:51.191Z"
   },
   {
    "duration": 40,
    "start_time": "2022-05-21T23:13:51.198Z"
   },
   {
    "duration": 12,
    "start_time": "2022-05-21T23:13:51.240Z"
   },
   {
    "duration": 7,
    "start_time": "2022-05-21T23:13:51.254Z"
   },
   {
    "duration": 8,
    "start_time": "2022-05-21T23:13:51.263Z"
   },
   {
    "duration": 9,
    "start_time": "2022-05-21T23:13:51.272Z"
   },
   {
    "duration": 12,
    "start_time": "2022-05-21T23:13:51.282Z"
   },
   {
    "duration": 40,
    "start_time": "2022-05-21T23:13:51.295Z"
   },
   {
    "duration": 6,
    "start_time": "2022-05-21T23:13:51.338Z"
   },
   {
    "duration": 9,
    "start_time": "2022-05-21T23:13:51.346Z"
   },
   {
    "duration": 29,
    "start_time": "2022-05-21T23:13:51.356Z"
   },
   {
    "duration": 17,
    "start_time": "2022-05-21T23:13:51.387Z"
   },
   {
    "duration": 30,
    "start_time": "2022-05-21T23:13:51.405Z"
   },
   {
    "duration": 4,
    "start_time": "2022-05-21T23:13:51.436Z"
   },
   {
    "duration": 7,
    "start_time": "2022-05-21T23:13:51.441Z"
   },
   {
    "duration": 13,
    "start_time": "2022-05-21T23:13:51.449Z"
   },
   {
    "duration": 4,
    "start_time": "2022-05-21T23:13:51.464Z"
   },
   {
    "duration": 10,
    "start_time": "2022-05-21T23:13:51.469Z"
   },
   {
    "duration": 8,
    "start_time": "2022-05-21T23:13:51.480Z"
   },
   {
    "duration": 6,
    "start_time": "2022-05-21T23:13:51.489Z"
   },
   {
    "duration": 34,
    "start_time": "2022-05-21T23:13:51.496Z"
   },
   {
    "duration": 15,
    "start_time": "2022-05-21T23:13:51.532Z"
   },
   {
    "duration": 7,
    "start_time": "2022-05-21T23:13:51.551Z"
   },
   {
    "duration": 6,
    "start_time": "2022-05-21T23:13:51.560Z"
   },
   {
    "duration": 11,
    "start_time": "2022-05-21T23:13:51.568Z"
   },
   {
    "duration": 14,
    "start_time": "2022-05-21T23:13:51.580Z"
   },
   {
    "duration": 4,
    "start_time": "2022-05-21T23:13:51.596Z"
   },
   {
    "duration": 22,
    "start_time": "2022-05-21T23:13:51.602Z"
   },
   {
    "duration": 5,
    "start_time": "2022-05-21T23:13:51.636Z"
   },
   {
    "duration": 11,
    "start_time": "2022-05-21T23:13:51.642Z"
   },
   {
    "duration": 5,
    "start_time": "2022-05-21T23:13:51.656Z"
   },
   {
    "duration": 7,
    "start_time": "2022-05-21T23:13:51.664Z"
   },
   {
    "duration": 6,
    "start_time": "2022-05-21T23:13:51.672Z"
   },
   {
    "duration": 12,
    "start_time": "2022-05-21T23:13:51.679Z"
   },
   {
    "duration": 42,
    "start_time": "2022-05-21T23:13:51.692Z"
   },
   {
    "duration": 6,
    "start_time": "2022-05-21T23:13:51.736Z"
   },
   {
    "duration": 11,
    "start_time": "2022-05-21T23:13:51.744Z"
   },
   {
    "duration": 4,
    "start_time": "2022-05-21T23:13:51.756Z"
   },
   {
    "duration": 6,
    "start_time": "2022-05-21T23:13:51.762Z"
   },
   {
    "duration": 9,
    "start_time": "2022-05-21T23:13:51.770Z"
   },
   {
    "duration": 7,
    "start_time": "2022-05-21T23:13:51.780Z"
   },
   {
    "duration": 4,
    "start_time": "2022-05-21T23:13:51.789Z"
   },
   {
    "duration": 3648,
    "start_time": "2022-05-21T23:13:51.794Z"
   },
   {
    "duration": 9,
    "start_time": "2022-05-21T23:13:55.444Z"
   },
   {
    "duration": 14,
    "start_time": "2022-05-21T23:13:55.455Z"
   },
   {
    "duration": 5,
    "start_time": "2022-05-21T23:13:55.470Z"
   },
   {
    "duration": 7,
    "start_time": "2022-05-21T23:13:55.477Z"
   },
   {
    "duration": 8,
    "start_time": "2022-05-21T23:13:55.485Z"
   },
   {
    "duration": 42,
    "start_time": "2022-05-21T23:13:55.495Z"
   },
   {
    "duration": 12,
    "start_time": "2022-05-21T23:13:55.539Z"
   },
   {
    "duration": 9,
    "start_time": "2022-05-21T23:13:55.552Z"
   },
   {
    "duration": 6,
    "start_time": "2022-05-21T23:13:55.563Z"
   },
   {
    "duration": 4,
    "start_time": "2022-05-21T23:13:55.570Z"
   },
   {
    "duration": 7,
    "start_time": "2022-05-21T23:13:55.575Z"
   },
   {
    "duration": 8,
    "start_time": "2022-05-21T23:13:55.583Z"
   },
   {
    "duration": 34,
    "start_time": "2022-05-21T23:13:55.592Z"
   },
   {
    "duration": 7,
    "start_time": "2022-05-21T23:13:55.627Z"
   },
   {
    "duration": 13,
    "start_time": "2022-05-21T23:13:55.635Z"
   },
   {
    "duration": 5,
    "start_time": "2022-05-21T23:13:55.650Z"
   },
   {
    "duration": 8,
    "start_time": "2022-05-21T23:13:55.657Z"
   },
   {
    "duration": 6,
    "start_time": "2022-05-21T23:13:55.666Z"
   },
   {
    "duration": 5,
    "start_time": "2022-05-21T23:13:55.673Z"
   },
   {
    "duration": 7,
    "start_time": "2022-05-21T23:13:55.679Z"
   },
   {
    "duration": 12,
    "start_time": "2022-05-21T23:13:55.687Z"
   },
   {
    "duration": 35,
    "start_time": "2022-05-21T23:13:55.701Z"
   },
   {
    "duration": 14,
    "start_time": "2022-05-21T23:13:55.737Z"
   },
   {
    "duration": 20,
    "start_time": "2022-05-21T23:13:55.752Z"
   },
   {
    "duration": 15,
    "start_time": "2022-05-21T23:13:55.773Z"
   },
   {
    "duration": 16,
    "start_time": "2022-05-21T23:13:55.789Z"
   },
   {
    "duration": 36,
    "start_time": "2022-05-21T23:13:55.807Z"
   },
   {
    "duration": 16,
    "start_time": "2022-05-21T23:13:55.845Z"
   }
  ],
  "kernelspec": {
   "display_name": "Python 3 (ipykernel)",
   "language": "python",
   "name": "python3"
  },
  "language_info": {
   "codemirror_mode": {
    "name": "ipython",
    "version": 3
   },
   "file_extension": ".py",
   "mimetype": "text/x-python",
   "name": "python",
   "nbconvert_exporter": "python",
   "pygments_lexer": "ipython3",
   "version": "3.9.7"
  },
  "toc": {
   "base_numbering": 1,
   "nav_menu": {},
   "number_sections": true,
   "sideBar": true,
   "skip_h1_title": true,
   "title_cell": "Table of Contents",
   "title_sidebar": "Contents",
   "toc_cell": false,
   "toc_position": {},
   "toc_section_display": true,
   "toc_window_display": true
  }
 },
 "nbformat": 4,
 "nbformat_minor": 2
}
